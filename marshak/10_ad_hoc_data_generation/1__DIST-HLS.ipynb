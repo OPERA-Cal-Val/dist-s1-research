{
 "cells": [
  {
   "cell_type": "code",
   "execution_count": 1,
   "id": "f2bf5227-3dea-4b09-b899-2b4ed71b1656",
   "metadata": {
    "editable": true,
    "slideshow": {
     "slide_type": ""
    },
    "tags": []
   },
   "outputs": [],
   "source": [
    "import geopandas as gpd\n",
    "\n",
    "from pystac_client import Client  \n",
    "from pystac_client import ItemSearch\n",
    "from pystac.item import Item\n",
    "from shapely.geometry import box, shape\n",
    "import yaml\n",
    "from rasterio.crs import CRS\n",
    "import datetime\n",
    "import pandas as pd\n",
    "from pathlib import Path\n",
    "from tqdm import tqdm\n",
    "import rasterio\n",
    "from rasterio.merge import merge\n",
    "import numpy as np\n",
    "import asf_search as asf\n",
    "from dem_stitcher.rio_tools import reproject_arr_to_new_crs, reproject_arr_to_match_profile\n",
    "import shutil\n",
    "import numpy as np\n",
    "import matplotlib.pyplot as plt\n",
    "from shapely.ops import unary_union\n",
    "from shapely import force_2d\n",
    "import requests\n",
    "import backoff\n",
    "from requests.exceptions import HTTPError\n",
    "from mpire import WorkerPool"
   ]
  },
  {
   "cell_type": "markdown",
   "id": "7795048a-24f7-4fe6-b0a4-b76de0056940",
   "metadata": {
    "editable": true,
    "slideshow": {
     "slide_type": ""
    },
    "tags": []
   },
   "source": [
    "# Parameters"
   ]
  },
  {
   "cell_type": "code",
   "execution_count": 2,
   "id": "9716bafb-8ec0-475d-89cd-32d03b7cab76",
   "metadata": {
    "editable": true,
    "slideshow": {
     "slide_type": ""
    },
    "tags": [
     "parameters"
    ]
   },
   "outputs": [],
   "source": [
    "EVENT_NAME = 'smokehouse_creek_fire_2024'"
   ]
  },
  {
   "cell_type": "markdown",
   "id": "00e28f7d-b10d-4e2e-af00-18df80451740",
   "metadata": {
    "editable": true,
    "slideshow": {
     "slide_type": ""
    },
    "tags": []
   },
   "source": [
    "# Read Yaml"
   ]
  },
  {
   "cell_type": "code",
   "execution_count": 3,
   "id": "0ed73e31-10b7-4978-8132-a11383b28d6d",
   "metadata": {
    "editable": true,
    "slideshow": {
     "slide_type": ""
    },
    "tags": []
   },
   "outputs": [],
   "source": [
    "yaml_file = f'events/{EVENT_NAME}.yml' "
   ]
  },
  {
   "cell_type": "code",
   "execution_count": 4,
   "id": "2fbc8faa-5c1f-4699-9fca-acf379fd9147",
   "metadata": {
    "editable": true,
    "slideshow": {
     "slide_type": ""
    },
    "tags": []
   },
   "outputs": [
    {
     "data": {
      "text/plain": [
       "{'event_name': 'smokehouse_creek_fire_2024',\n",
       " 'bounds': [-101.54123593, 35.53176534, -99.89106839, 36.05943529],\n",
       " 'event_date': '2024-02-26',\n",
       " 'pre_event_window_days': 100,\n",
       " 'post_event_window_days': 60,\n",
       " 'rtc_track_numbers': [5, 12],\n",
       " 'mgrs_tiles': ['14SKE', '14SLE', '14SME'],\n",
       " 'dist_hls_confirmed_change_min_days': 30,\n",
       " 'links': ['https://en.wikipedia.org/wiki/Smokehouse_Creek_Fire']}"
      ]
     },
     "execution_count": 4,
     "metadata": {},
     "output_type": "execute_result"
    }
   ],
   "source": [
    "with open(yaml_file) as f:\n",
    "    event_dict = yaml.safe_load(f)[\"event\"]\n",
    "event_dict"
   ]
  },
  {
   "cell_type": "code",
   "execution_count": 5,
   "id": "498f30da-5d0c-4672-a1aa-17fdfd78adb8",
   "metadata": {},
   "outputs": [
    {
     "data": {
      "text/html": [
       "<div>\n",
       "<style scoped>\n",
       "    .dataframe tbody tr th:only-of-type {\n",
       "        vertical-align: middle;\n",
       "    }\n",
       "\n",
       "    .dataframe tbody tr th {\n",
       "        vertical-align: top;\n",
       "    }\n",
       "\n",
       "    .dataframe thead th {\n",
       "        text-align: right;\n",
       "    }\n",
       "</style>\n",
       "<table border=\"1\" class=\"dataframe\">\n",
       "  <thead>\n",
       "    <tr style=\"text-align: right;\">\n",
       "      <th></th>\n",
       "      <th>tile_id</th>\n",
       "      <th>epsg</th>\n",
       "      <th>utm_wkt</th>\n",
       "      <th>geometry</th>\n",
       "    </tr>\n",
       "  </thead>\n",
       "  <tbody>\n",
       "    <tr>\n",
       "      <th>0</th>\n",
       "      <td>14SKE</td>\n",
       "      <td>32614</td>\n",
       "      <td>MULTIPOLYGON(((199980 4000020,199980 3890220,3...</td>\n",
       "      <td>MULTIPOLYGON (((-102.33241 36.09852, -102.2916...</td>\n",
       "    </tr>\n",
       "    <tr>\n",
       "      <th>1</th>\n",
       "      <td>14SLE</td>\n",
       "      <td>32614</td>\n",
       "      <td>MULTIPOLYGON(((300000 4000020,300000 3890220,4...</td>\n",
       "      <td>MULTIPOLYGON (((-101.22240 36.12428, -101.1951...</td>\n",
       "    </tr>\n",
       "    <tr>\n",
       "      <th>2</th>\n",
       "      <td>14SME</td>\n",
       "      <td>32614</td>\n",
       "      <td>MULTIPOLYGON(((399960 4000020,399960 3890220,5...</td>\n",
       "      <td>MULTIPOLYGON (((-100.11193 36.13974, -100.0982...</td>\n",
       "    </tr>\n",
       "  </tbody>\n",
       "</table>\n",
       "</div>"
      ],
      "text/plain": [
       "  tile_id    epsg                                            utm_wkt  \\\n",
       "0   14SKE   32614  MULTIPOLYGON(((199980 4000020,199980 3890220,3...   \n",
       "1   14SLE   32614  MULTIPOLYGON(((300000 4000020,300000 3890220,4...   \n",
       "2   14SME   32614  MULTIPOLYGON(((399960 4000020,399960 3890220,5...   \n",
       "\n",
       "                                            geometry  \n",
       "0  MULTIPOLYGON (((-102.33241 36.09852, -102.2916...  \n",
       "1  MULTIPOLYGON (((-101.22240 36.12428, -101.1951...  \n",
       "2  MULTIPOLYGON (((-100.11193 36.13974, -100.0982...  "
      ]
     },
     "execution_count": 5,
     "metadata": {},
     "output_type": "execute_result"
    }
   ],
   "source": [
    "df_mgrs = gpd.read_parquet('mgrs.parquet')\n",
    "df_mgrs_overlapping = df_mgrs[df_mgrs.tile_id.isin(event_dict['mgrs_tiles'])].reset_index(drop=True)\n",
    "df_mgrs_overlapping.head()"
   ]
  },
  {
   "cell_type": "code",
   "execution_count": 6,
   "id": "5e485ff0-9eae-43ed-8094-32937ddc73bb",
   "metadata": {},
   "outputs": [
    {
     "data": {
      "image/svg+xml": [
       "<svg xmlns=\"http://www.w3.org/2000/svg\" xmlns:xlink=\"http://www.w3.org/1999/xlink\" width=\"100.0\" height=\"100.0\" viewBox=\"-102.47004243541048 34.972529628770125 3.7161678911796514 1.3099554949843437\" preserveAspectRatio=\"xMinYMin meet\"><g transform=\"matrix(1,0,0,-1,0,71.2550147525246)\"><path fill-rule=\"evenodd\" fill=\"#66cc99\" stroke=\"#555555\" stroke-width=\"0.07432335782359303\" opacity=\"0.6\" d=\"M -98.8915103920523,35.1101654765916 L -98.8915103920523,36.144849275933 L -102.332406587589,36.144849275933 L -102.332406587589,35.1101654765916 L -98.8915103920523,35.1101654765916 z\" /></g></svg>"
      ],
      "text/plain": [
       "<POLYGON ((-98.892 35.11, -98.892 36.145, -102.332 36.145, -102.332 35.11, -...>"
      ]
     },
     "execution_count": 6,
     "metadata": {},
     "output_type": "execute_result"
    }
   ],
   "source": [
    "mgrs_geo = box(*df_mgrs_overlapping.total_bounds)\n",
    "mgrs_geo"
   ]
  },
  {
   "cell_type": "code",
   "execution_count": 7,
   "id": "a6a44ab7-d18b-49b3-9d5a-0893a0b41665",
   "metadata": {},
   "outputs": [],
   "source": [
    "EVENT_DT = datetime.datetime.strptime(event_dict['event_date'], \"%Y-%m-%d\")\n",
    "PRE_DT_START = EVENT_DT - datetime.timedelta(days=event_dict['pre_event_window_days'])\n",
    "POST_DT_STOP = EVENT_DT + datetime.timedelta(days=event_dict['post_event_window_days'])"
   ]
  },
  {
   "cell_type": "code",
   "execution_count": 8,
   "id": "537991e4-f998-47b9-8f18-99f4d423fbd7",
   "metadata": {},
   "outputs": [],
   "source": [
    "stac = 'https://cmr.earthdata.nasa.gov/cloudstac/'    # CMR-STAC API Endpoint\n",
    "api = Client.open(f'{stac}/LPCLOUD/')\n",
    "collections = ['OPERA_L3_DIST-ALERT-HLS_V1']\n",
    "\n",
    "search_params = {\"collections\": collections,\n",
    "                 \"intersects\": mgrs_geo.__geo_interface__,\n",
    "                 \"datetime\": [EVENT_DT - datetime.timedelta(days=14), POST_DT_STOP],\n",
    "                 \"max_items\": 1_000}\n",
    "search_dswx = api.search(**search_params)"
   ]
  },
  {
   "cell_type": "code",
   "execution_count": 9,
   "id": "37f4101f-6854-4523-861a-b4c4d06d9ddc",
   "metadata": {},
   "outputs": [],
   "source": [
    "l = list(search_dswx.items())"
   ]
  },
  {
   "cell_type": "code",
   "execution_count": 10,
   "id": "a4e6da9a-fe02-4b52-a717-3841be23b211",
   "metadata": {},
   "outputs": [
    {
     "data": {
      "text/plain": [
       "(117, 516, 111)"
      ]
     },
     "execution_count": 10,
     "metadata": {},
     "output_type": "execute_result"
    }
   ],
   "source": [
    "def get_mgrs_tile_from_id(opera_id: str) -> str:\n",
    "    return opera_id.split('_')[3][1:]\n",
    "l_temp = list(filter(lambda item: get_mgrs_tile_from_id(item.id) in event_dict['mgrs_tiles'], l))\n",
    "tokens, opera_ids = [item.id.split('_') for item in l_temp], [item.id for item in l_temp]\n",
    "l_temp = sorted(l_temp, key=lambda item: item.id)\n",
    "id_dict = {}\n",
    "for t, opera_id in zip(tokens, opera_ids):\n",
    "    key = '_'.join(t[:5] + t[-3:])\n",
    "    # should be ordered by recency so overwriting means later processing date\n",
    "    id_dict[key]= opera_id\n",
    "ids = list(id_dict.values())\n",
    "l_f = [item for item in l_temp if item.id in ids]\n",
    "len(l_temp), len(l), len(l_f)"
   ]
  },
  {
   "cell_type": "code",
   "execution_count": 11,
   "id": "c277c2b0-e723-445b-bda7-0ffcf72938dc",
   "metadata": {},
   "outputs": [],
   "source": [
    "def format_item(item):\n",
    "    assets_status = [(key, value.href) for (key, value) in sorted(item.assets.items()) if ('STATUS' in value.href and '.tif' in value.href)]\n",
    "    assets_status_m = [('dist-veg-status', value) if 'VEG' in key else ('dist-gen-status', value) for (key, value) in assets_status]\n",
    "\n",
    "    assets_date = [(key, value.href) for (key, value) in sorted(item.assets.items()) if ('DATE' in value.href and '.tif' in value.href and 'LAST' not in value.href)]\n",
    "    assets_date_m = [('dist-veg-date', value) if 'VEG' in key else ('dist-gen-date', value) for (key, value) in assets_date]\n",
    "    \n",
    "    out = {**{'id': item.id}, \n",
    "           **item.properties, \n",
    "           **{'geometry': shape(item.geometry)},\n",
    "           **{key: value for (key, value) in assets_status_m + assets_date_m}\n",
    "          }\n",
    "    return out\n",
    "    "
   ]
  },
  {
   "cell_type": "code",
   "execution_count": 12,
   "id": "b5428347-9dee-484a-8047-1ca2c50d9aec",
   "metadata": {},
   "outputs": [
    {
     "data": {
      "text/html": [
       "<div>\n",
       "<style scoped>\n",
       "    .dataframe tbody tr th:only-of-type {\n",
       "        vertical-align: middle;\n",
       "    }\n",
       "\n",
       "    .dataframe tbody tr th {\n",
       "        vertical-align: top;\n",
       "    }\n",
       "\n",
       "    .dataframe thead th {\n",
       "        text-align: right;\n",
       "    }\n",
       "</style>\n",
       "<table border=\"1\" class=\"dataframe\">\n",
       "  <thead>\n",
       "    <tr style=\"text-align: right;\">\n",
       "      <th></th>\n",
       "      <th>id</th>\n",
       "      <th>eo:cloud_cover</th>\n",
       "      <th>datetime</th>\n",
       "      <th>start_datetime</th>\n",
       "      <th>end_datetime</th>\n",
       "      <th>geometry</th>\n",
       "      <th>dist-gen-status</th>\n",
       "      <th>dist-veg-status</th>\n",
       "      <th>dist-gen-date</th>\n",
       "      <th>dist-veg-date</th>\n",
       "      <th>acq_date</th>\n",
       "      <th>sensor</th>\n",
       "    </tr>\n",
       "  </thead>\n",
       "  <tbody>\n",
       "    <tr>\n",
       "      <th>0</th>\n",
       "      <td>OPERA_L3_DIST-ALERT-HLS_T14SKE_20240214T173429...</td>\n",
       "      <td>0</td>\n",
       "      <td>2024-02-14 17:44:04.792000+00:00</td>\n",
       "      <td>2024-02-14T17:44:04.792Z</td>\n",
       "      <td>2024-02-14T17:44:04.792Z</td>\n",
       "      <td>POLYGON ((-102.29163 35.11017, -101.08789 35.1...</td>\n",
       "      <td>https://data.lpdaac.earthdatacloud.nasa.gov/lp...</td>\n",
       "      <td>https://data.lpdaac.earthdatacloud.nasa.gov/lp...</td>\n",
       "      <td>https://data.lpdaac.earthdatacloud.nasa.gov/lp...</td>\n",
       "      <td>https://data.lpdaac.earthdatacloud.nasa.gov/lp...</td>\n",
       "      <td>2024-02-14</td>\n",
       "      <td>S2B</td>\n",
       "    </tr>\n",
       "    <tr>\n",
       "      <th>1</th>\n",
       "      <td>OPERA_L3_DIST-ALERT-HLS_T14SKE_20240215T172611...</td>\n",
       "      <td>65</td>\n",
       "      <td>2024-02-15 17:26:11.767000+00:00</td>\n",
       "      <td>2024-02-15T17:26:11.767Z</td>\n",
       "      <td>2024-02-15T17:26:35.658Z</td>\n",
       "      <td>POLYGON ((-102.29163 35.11017, -101.70807 35.1...</td>\n",
       "      <td>https://data.lpdaac.earthdatacloud.nasa.gov/lp...</td>\n",
       "      <td>https://data.lpdaac.earthdatacloud.nasa.gov/lp...</td>\n",
       "      <td>https://data.lpdaac.earthdatacloud.nasa.gov/lp...</td>\n",
       "      <td>https://data.lpdaac.earthdatacloud.nasa.gov/lp...</td>\n",
       "      <td>2024-02-15</td>\n",
       "      <td>L8</td>\n",
       "    </tr>\n",
       "    <tr>\n",
       "      <th>2</th>\n",
       "      <td>OPERA_L3_DIST-ALERT-HLS_T14SKE_20240219T173351...</td>\n",
       "      <td>0</td>\n",
       "      <td>2024-02-19 17:44:01.645000+00:00</td>\n",
       "      <td>2024-02-19T17:44:01.645Z</td>\n",
       "      <td>2024-02-19T17:44:01.645Z</td>\n",
       "      <td>POLYGON ((-102.29163 35.11017, -101.08789 35.1...</td>\n",
       "      <td>https://data.lpdaac.earthdatacloud.nasa.gov/lp...</td>\n",
       "      <td>https://data.lpdaac.earthdatacloud.nasa.gov/lp...</td>\n",
       "      <td>https://data.lpdaac.earthdatacloud.nasa.gov/lp...</td>\n",
       "      <td>https://data.lpdaac.earthdatacloud.nasa.gov/lp...</td>\n",
       "      <td>2024-02-19</td>\n",
       "      <td>S2A</td>\n",
       "    </tr>\n",
       "    <tr>\n",
       "      <th>3</th>\n",
       "      <td>OPERA_L3_DIST-ALERT-HLS_T14SKE_20240221T172339...</td>\n",
       "      <td>100</td>\n",
       "      <td>2024-02-21 17:34:07.643000+00:00</td>\n",
       "      <td>2024-02-21T17:34:07.643Z</td>\n",
       "      <td>2024-02-21T17:34:07.643Z</td>\n",
       "      <td>POLYGON ((-101.62812 35.12638, -101.08789 35.1...</td>\n",
       "      <td>https://data.lpdaac.earthdatacloud.nasa.gov/lp...</td>\n",
       "      <td>https://data.lpdaac.earthdatacloud.nasa.gov/lp...</td>\n",
       "      <td>https://data.lpdaac.earthdatacloud.nasa.gov/lp...</td>\n",
       "      <td>https://data.lpdaac.earthdatacloud.nasa.gov/lp...</td>\n",
       "      <td>2024-02-21</td>\n",
       "      <td>S2B</td>\n",
       "    </tr>\n",
       "    <tr>\n",
       "      <th>4</th>\n",
       "      <td>OPERA_L3_DIST-ALERT-HLS_T14SKE_20240223T172612...</td>\n",
       "      <td>13</td>\n",
       "      <td>2024-02-23 17:26:12.679000+00:00</td>\n",
       "      <td>2024-02-23T17:26:12.679Z</td>\n",
       "      <td>2024-02-23T17:26:36.565Z</td>\n",
       "      <td>POLYGON ((-102.29163 35.11017, -101.66398 35.1...</td>\n",
       "      <td>https://data.lpdaac.earthdatacloud.nasa.gov/lp...</td>\n",
       "      <td>https://data.lpdaac.earthdatacloud.nasa.gov/lp...</td>\n",
       "      <td>https://data.lpdaac.earthdatacloud.nasa.gov/lp...</td>\n",
       "      <td>https://data.lpdaac.earthdatacloud.nasa.gov/lp...</td>\n",
       "      <td>2024-02-23</td>\n",
       "      <td>L9</td>\n",
       "    </tr>\n",
       "  </tbody>\n",
       "</table>\n",
       "</div>"
      ],
      "text/plain": [
       "                                                  id  eo:cloud_cover  \\\n",
       "0  OPERA_L3_DIST-ALERT-HLS_T14SKE_20240214T173429...               0   \n",
       "1  OPERA_L3_DIST-ALERT-HLS_T14SKE_20240215T172611...              65   \n",
       "2  OPERA_L3_DIST-ALERT-HLS_T14SKE_20240219T173351...               0   \n",
       "3  OPERA_L3_DIST-ALERT-HLS_T14SKE_20240221T172339...             100   \n",
       "4  OPERA_L3_DIST-ALERT-HLS_T14SKE_20240223T172612...              13   \n",
       "\n",
       "                          datetime            start_datetime  \\\n",
       "0 2024-02-14 17:44:04.792000+00:00  2024-02-14T17:44:04.792Z   \n",
       "1 2024-02-15 17:26:11.767000+00:00  2024-02-15T17:26:11.767Z   \n",
       "2 2024-02-19 17:44:01.645000+00:00  2024-02-19T17:44:01.645Z   \n",
       "3 2024-02-21 17:34:07.643000+00:00  2024-02-21T17:34:07.643Z   \n",
       "4 2024-02-23 17:26:12.679000+00:00  2024-02-23T17:26:12.679Z   \n",
       "\n",
       "               end_datetime  \\\n",
       "0  2024-02-14T17:44:04.792Z   \n",
       "1  2024-02-15T17:26:35.658Z   \n",
       "2  2024-02-19T17:44:01.645Z   \n",
       "3  2024-02-21T17:34:07.643Z   \n",
       "4  2024-02-23T17:26:36.565Z   \n",
       "\n",
       "                                            geometry  \\\n",
       "0  POLYGON ((-102.29163 35.11017, -101.08789 35.1...   \n",
       "1  POLYGON ((-102.29163 35.11017, -101.70807 35.1...   \n",
       "2  POLYGON ((-102.29163 35.11017, -101.08789 35.1...   \n",
       "3  POLYGON ((-101.62812 35.12638, -101.08789 35.1...   \n",
       "4  POLYGON ((-102.29163 35.11017, -101.66398 35.1...   \n",
       "\n",
       "                                     dist-gen-status  \\\n",
       "0  https://data.lpdaac.earthdatacloud.nasa.gov/lp...   \n",
       "1  https://data.lpdaac.earthdatacloud.nasa.gov/lp...   \n",
       "2  https://data.lpdaac.earthdatacloud.nasa.gov/lp...   \n",
       "3  https://data.lpdaac.earthdatacloud.nasa.gov/lp...   \n",
       "4  https://data.lpdaac.earthdatacloud.nasa.gov/lp...   \n",
       "\n",
       "                                     dist-veg-status  \\\n",
       "0  https://data.lpdaac.earthdatacloud.nasa.gov/lp...   \n",
       "1  https://data.lpdaac.earthdatacloud.nasa.gov/lp...   \n",
       "2  https://data.lpdaac.earthdatacloud.nasa.gov/lp...   \n",
       "3  https://data.lpdaac.earthdatacloud.nasa.gov/lp...   \n",
       "4  https://data.lpdaac.earthdatacloud.nasa.gov/lp...   \n",
       "\n",
       "                                       dist-gen-date  \\\n",
       "0  https://data.lpdaac.earthdatacloud.nasa.gov/lp...   \n",
       "1  https://data.lpdaac.earthdatacloud.nasa.gov/lp...   \n",
       "2  https://data.lpdaac.earthdatacloud.nasa.gov/lp...   \n",
       "3  https://data.lpdaac.earthdatacloud.nasa.gov/lp...   \n",
       "4  https://data.lpdaac.earthdatacloud.nasa.gov/lp...   \n",
       "\n",
       "                                       dist-veg-date    acq_date sensor  \n",
       "0  https://data.lpdaac.earthdatacloud.nasa.gov/lp...  2024-02-14    S2B  \n",
       "1  https://data.lpdaac.earthdatacloud.nasa.gov/lp...  2024-02-15     L8  \n",
       "2  https://data.lpdaac.earthdatacloud.nasa.gov/lp...  2024-02-19    S2A  \n",
       "3  https://data.lpdaac.earthdatacloud.nasa.gov/lp...  2024-02-21    S2B  \n",
       "4  https://data.lpdaac.earthdatacloud.nasa.gov/lp...  2024-02-23     L9  "
      ]
     },
     "execution_count": 12,
     "metadata": {},
     "output_type": "execute_result"
    }
   ],
   "source": [
    "data = list(map(format_item, l_f))\n",
    "df_resp = pd.DataFrame(data)\n",
    "df_resp = gpd.GeoDataFrame(df_resp, geometry=df_resp.geometry, crs=CRS.from_epsg(4326))\n",
    "df_resp['datetime'] = pd.to_datetime(df_resp['datetime'])\n",
    "df_resp['acq_date']= df_resp['datetime'].dt.date\n",
    "df_resp['sensor'] = df_resp['id'].map(lambda oid: oid.split('_')[-3]) \n",
    "df_resp.head()"
   ]
  },
  {
   "cell_type": "code",
   "execution_count": 13,
   "id": "a000ec41-f6ab-41dc-95ff-b0a45febdd3d",
   "metadata": {},
   "outputs": [
    {
     "data": {
      "text/plain": [
       "<Axes: >"
      ]
     },
     "execution_count": 13,
     "metadata": {},
     "output_type": "execute_result"
    },
    {
     "data": {
      "image/png": "[encoded data removed]",
      "text/plain": [
       "<Figure size 640x480 with 1 Axes>"
      ]
     },
     "metadata": {},
     "output_type": "display_data"
    }
   ],
   "source": [
    "fig, ax = plt.subplots()\n",
    "df_resp.exterior.plot(ax = ax)"
   ]
  },
  {
   "cell_type": "code",
   "execution_count": 14,
   "id": "9110a085-4a6d-41ef-9c88-a13820a21820",
   "metadata": {},
   "outputs": [
    {
     "data": {
      "text/plain": [
       "array([datetime.date(2024, 2, 14), datetime.date(2024, 2, 15),\n",
       "       datetime.date(2024, 2, 19), datetime.date(2024, 2, 21),\n",
       "       datetime.date(2024, 2, 23), datetime.date(2024, 2, 24),\n",
       "       datetime.date(2024, 2, 26), datetime.date(2024, 3, 2),\n",
       "       datetime.date(2024, 3, 3), datetime.date(2024, 3, 5),\n",
       "       datetime.date(2024, 3, 17), datetime.date(2024, 3, 18),\n",
       "       datetime.date(2024, 3, 19), datetime.date(2024, 3, 20),\n",
       "       datetime.date(2024, 3, 22), datetime.date(2024, 3, 26),\n",
       "       datetime.date(2024, 3, 27), datetime.date(2024, 3, 30),\n",
       "       datetime.date(2024, 4, 1), datetime.date(2024, 4, 3),\n",
       "       datetime.date(2024, 4, 4), datetime.date(2024, 4, 6),\n",
       "       datetime.date(2024, 4, 11), datetime.date(2024, 4, 12),\n",
       "       datetime.date(2024, 4, 14), datetime.date(2024, 4, 16),\n",
       "       datetime.date(2024, 4, 19), datetime.date(2024, 4, 20),\n",
       "       datetime.date(2024, 4, 21), datetime.date(2024, 2, 16),\n",
       "       datetime.date(2024, 2, 25), datetime.date(2024, 3, 4),\n",
       "       datetime.date(2024, 3, 7), datetime.date(2024, 3, 10),\n",
       "       datetime.date(2024, 3, 28), datetime.date(2024, 4, 5),\n",
       "       datetime.date(2024, 4, 13), datetime.date(2024, 2, 13),\n",
       "       datetime.date(2024, 2, 18), datetime.date(2024, 2, 28),\n",
       "       datetime.date(2024, 3, 11), datetime.date(2024, 3, 12),\n",
       "       datetime.date(2024, 3, 13), datetime.date(2024, 3, 14),\n",
       "       datetime.date(2024, 3, 21), datetime.date(2024, 3, 29),\n",
       "       datetime.date(2024, 4, 18), datetime.date(2024, 4, 22),\n",
       "       datetime.date(2024, 4, 23)], dtype=object)"
      ]
     },
     "execution_count": 14,
     "metadata": {},
     "output_type": "execute_result"
    }
   ],
   "source": [
    "df_resp.acq_date.unique()"
   ]
  },
  {
   "cell_type": "code",
   "execution_count": 15,
   "id": "4b5e9be1-4f22-48b3-9a1e-a9c313a73c05",
   "metadata": {},
   "outputs": [],
   "source": [
    "dist_hls_dir = Path('out') / event_dict['event_name'] / 'dist_hls'\n",
    "dist_hls_dir.mkdir(exist_ok=True, parents=True)"
   ]
  },
  {
   "cell_type": "code",
   "execution_count": 17,
   "id": "66ecf4a8-0d3a-4976-adf2-ff2e96e7e84b",
   "metadata": {
    "scrolled": true
   },
   "outputs": [],
   "source": [
    "zipped_inputs = []\n",
    "\n",
    "for (sensor, date), df_rtc_date in df_resp.groupby(['sensor', 'acq_date']):\n",
    "    dist_veg = df_rtc_date['dist-veg-status'].tolist()\n",
    "    dist_gen = df_rtc_date['dist-gen-status'].tolist()\n",
    "\n",
    "    dist_veg_date = df_rtc_date['dist-veg-date'].tolist()\n",
    "    dist_gen_date = df_rtc_date['dist-gen-date'].tolist()\n",
    "    \n",
    "    date_dir = dist_hls_dir / f'{str(date)}__{sensor}'\n",
    "    date_dir.mkdir(exist_ok=True, parents=True)\n",
    "\n",
    "    zipped_inputs.extend([(url, date_dir) for url in dist_veg + dist_gen + dist_veg_date + dist_gen_date])"
   ]
  },
  {
   "cell_type": "code",
   "execution_count": 18,
   "id": "ad18a553-4be6-42bf-8a4a-a8a316bca60c",
   "metadata": {},
   "outputs": [],
   "source": [
    "@backoff.on_exception(\n",
    "    backoff.expo,\n",
    "    [ConnectionError, HTTPError],\n",
    "    max_tries=10,\n",
    "    max_time=60,\n",
    "    jitter=backoff.full_jitter,\n",
    ")\n",
    "def localize_one_file(\n",
    "    url: str,\n",
    "    dst_dir: str | Path\n",
    ") -> Path:\n",
    "    local_fn = url.split(\"/\")[-1]\n",
    "    out_path = dst_dir / local_fn\n",
    "    if not dst_dir.exists():\n",
    "        dst_dir.mkdir(parents=True)\n",
    "    if out_path.exists():\n",
    "        return out_path\n",
    "        \n",
    "    with requests.get(url, stream=True) as r:\n",
    "        r.raise_for_status()\n",
    "        with open(out_path, 'wb') as f:\n",
    "            for chunk in r.iter_content(chunk_size=16384): \n",
    "                f.write(chunk)\n",
    "    return out_path"
   ]
  },
  {
   "cell_type": "code",
   "execution_count": 19,
   "id": "e6ad92ba-6f1e-414a-80c9-220ed4070f7f",
   "metadata": {},
   "outputs": [
    {
     "data": {
      "text/plain": [
       "[('https://data.lpdaac.earthdatacloud.nasa.gov/lp-prod-protected/OPERA_L3_DIST-ALERT-HLS_V1/OPERA_L3_DIST-ALERT-HLS_T14SKE_20240215T172611Z_20240219T225624Z_L8_30_v1/OPERA_L3_DIST-ALERT-HLS_T14SKE_20240215T172611Z_20240219T225624Z_L8_30_v1_VEG-DIST-STATUS.tif',\n",
       "  PosixPath('out/smokehouse_creek_fire_2024/dist_hls/2024-02-15__L8')),\n",
       " ('https://data.lpdaac.earthdatacloud.nasa.gov/lp-prod-protected/OPERA_L3_DIST-ALERT-HLS_V1/OPERA_L3_DIST-ALERT-HLS_T14SKE_20240215T172611Z_20240219T225624Z_L8_30_v1/OPERA_L3_DIST-ALERT-HLS_T14SKE_20240215T172611Z_20240219T225624Z_L8_30_v1_GEN-DIST-STATUS.tif',\n",
       "  PosixPath('out/smokehouse_creek_fire_2024/dist_hls/2024-02-15__L8')),\n",
       " ('https://data.lpdaac.earthdatacloud.nasa.gov/lp-prod-protected/OPERA_L3_DIST-ALERT-HLS_V1/OPERA_L3_DIST-ALERT-HLS_T14SKE_20240215T172611Z_20240219T225624Z_L8_30_v1/OPERA_L3_DIST-ALERT-HLS_T14SKE_20240215T172611Z_20240219T225624Z_L8_30_v1_VEG-DIST-DATE.tif',\n",
       "  PosixPath('out/smokehouse_creek_fire_2024/dist_hls/2024-02-15__L8'))]"
      ]
     },
     "execution_count": 19,
     "metadata": {},
     "output_type": "execute_result"
    }
   ],
   "source": [
    "zipped_inputs[:3]"
   ]
  },
  {
   "cell_type": "code",
   "execution_count": 20,
   "id": "5f9a1883-7f90-4f3e-ab5e-cd1601ceacdb",
   "metadata": {},
   "outputs": [
    {
     "data": {
      "text/plain": [
       "PosixPath('out/smokehouse_creek_fire_2024/dist_hls/2024-02-15__L8/OPERA_L3_DIST-ALERT-HLS_T14SKE_20240215T172611Z_20240219T225624Z_L8_30_v1_VEG-DIST-STATUS.tif')"
      ]
     },
     "execution_count": 20,
     "metadata": {},
     "output_type": "execute_result"
    }
   ],
   "source": [
    "localize_one_file(*zipped_inputs[0])"
   ]
  },
  {
   "cell_type": "code",
   "execution_count": 21,
   "id": "0b4b87f0-a3f8-4473-8363-fd33a151e69c",
   "metadata": {},
   "outputs": [
    {
     "name": "stderr",
     "output_type": "stream",
     "text": [
      "100%|█| 444/444 [00:00<00:00, 471819.35\n"
     ]
    }
   ],
   "source": [
    "import concurrent.futures\n",
    "\n",
    "def localize_one_file_p(data: tuple) -> Path:\n",
    "    return localize_one_file(*data)\n",
    "\n",
    "with concurrent.futures.ThreadPoolExecutor(max_workers=10) as executor:\n",
    "    out_paths = list(tqdm(executor.map(localize_one_file_p, zipped_inputs[:]), total=len(zipped_inputs)))"
   ]
  },
  {
   "cell_type": "markdown",
   "id": "7ff8f55a-3410-4a7d-921b-acbbb5ee27f3",
   "metadata": {},
   "source": [
    "# Merge"
   ]
  },
  {
   "cell_type": "code",
   "execution_count": 22,
   "id": "312b6730-f35d-4af9-b9c0-552f88622eb6",
   "metadata": {},
   "outputs": [
    {
     "data": {
      "text/plain": [
       "[PosixPath('out/smokehouse_creek_fire_2024/dist_hls/2024-02-13__S2A'),\n",
       " PosixPath('out/smokehouse_creek_fire_2024/dist_hls/2024-02-14__S2B'),\n",
       " PosixPath('out/smokehouse_creek_fire_2024/dist_hls/2024-02-15__L8')]"
      ]
     },
     "execution_count": 22,
     "metadata": {},
     "output_type": "execute_result"
    }
   ],
   "source": [
    "all_acq_dirs = sorted([acq_dir for acq_dir in dist_hls_dir.glob('*')])\n",
    "all_acq_dirs = list(filter(lambda p: p.is_dir(), all_acq_dirs))\n",
    "all_acq_dirs[:3]"
   ]
  },
  {
   "cell_type": "code",
   "execution_count": 23,
   "id": "910eee8f-534e-4c4a-81be-b540f7adac7b",
   "metadata": {},
   "outputs": [],
   "source": [
    "import concurrent.futures\n",
    "import warnings\n",
    "from typing import Union\n",
    "\n",
    "import numpy as np\n",
    "import rasterio\n",
    "from rasterio.crs import CRS\n",
    "from rasterio.enums import Resampling\n",
    "from rasterio.io import MemoryFile\n",
    "from rasterio.merge import merge\n",
    "from rasterio.windows import Window\n",
    "from shapely.geometry import box\n",
    "from tqdm import tqdm\n",
    "\n",
    "def merge_arrays_with_geometadata(\n",
    "    arrays: list[np.ndarray],\n",
    "    profiles: list[dict],\n",
    "    resampling='bilinear',\n",
    "    nodata = None,\n",
    "    dtype: str = None,\n",
    "    method='first',\n",
    ") -> tuple[np.ndarray, dict]:\n",
    "    n_dim = arrays[0].shape\n",
    "    if len(n_dim) not in [2, 3]:\n",
    "        raise ValueError('Currently arrays must be in BIP format' 'i.e. channels x height x width or flat array')\n",
    "    if len(set([len(arr.shape) for arr in arrays])) != 1:\n",
    "        raise ValueError('All arrays must have same number of dimensions i.e. 2 or 3')\n",
    "\n",
    "    if len(n_dim) == 2:\n",
    "        arrays_input = [arr[np.newaxis, ...] for arr in arrays]\n",
    "    else:\n",
    "        arrays_input = arrays\n",
    "\n",
    "    if (len(arrays)) != (len(profiles)):\n",
    "        raise ValueError('Length of arrays and profiles needs to be the same')\n",
    "\n",
    "    memfiles = [MemoryFile() for p in profiles]\n",
    "    datasets = [mfile.open(**p) for (mfile, p) in zip(memfiles, profiles)]\n",
    "    [ds.write(arr) for (ds, arr) in zip(datasets, arrays_input)]\n",
    "\n",
    "    if dtype is None:\n",
    "        dst_dtype = profiles[0]['dtype']\n",
    "    if nodata is None:\n",
    "        dst_nodata = profiles[0]['nodata']\n",
    "\n",
    "    merged_arr, merged_trans = merge(\n",
    "        datasets, resampling=Resampling[resampling], method=method, nodata=dst_nodata, dtype=dst_dtype\n",
    "    )\n",
    "\n",
    "    prof_merged = profiles[0].copy()\n",
    "    prof_merged['transform'] = merged_trans\n",
    "    prof_merged['count'] = merged_arr.shape[0]\n",
    "    prof_merged['height'] = merged_arr.shape[1]\n",
    "    prof_merged['width'] = merged_arr.shape[2]\n",
    "    prof_merged['nodata'] = dst_nodata\n",
    "    prof_merged['dtype'] = dst_dtype\n",
    "    \n",
    "    [ds.close() for ds in datasets]\n",
    "    [mfile.close() for mfile in memfiles]\n",
    "\n",
    "    return merged_arr, prof_merged"
   ]
  },
  {
   "cell_type": "code",
   "execution_count": 24,
   "id": "41471056-8dbf-40dc-97fc-e0fbc9054295",
   "metadata": {},
   "outputs": [],
   "source": [
    "#from dem_stitcher.merge import merge_arrays_with_geometadata\n",
    "\n",
    "def get_crs(path: str) -> Path:\n",
    "    with rasterio.open(path) as ds:\n",
    "        crs = ds.crs\n",
    "    return crs\n",
    "\n",
    "def get_profile(path: Path) -> dict:\n",
    "    with rasterio.open(path) as ds:\n",
    "        p = ds.profile\n",
    "    return p\n",
    "\n",
    "\n",
    "def read_one(path: Path) -> tuple:\n",
    "    with rasterio.open(path) as ds:\n",
    "        p = ds.profile\n",
    "        X = ds.read()\n",
    "    return X, p\n",
    "\n",
    "def merge_one_dir(acq_dir: Path, layer='gen-status') -> list:\n",
    "    reg_dict = {'gen-status': 'GEN-DIST-STATUS.tif',\n",
    "                'gen-date': 'GEN-DIST-DATE.tif',\n",
    "                'veg-status': 'VEG-DIST-STATUS.tif',\n",
    "                'veg-date': 'VEG-DIST-DATE.tif'}\n",
    "\n",
    "    if layer not in reg_dict.keys():\n",
    "        raise ValueError('layer not correctly specified')\n",
    "    all_img_paths = sorted(list(acq_dir.glob(f'OPERA*{reg_dict[layer]}')))\n",
    "    crs_l = list(map(get_crs, all_img_paths))\n",
    "    \n",
    "    \n",
    "    stem = acq_dir.stem\n",
    "    dst_path = acq_dir / f'__{stem}_{layer}_merged.tif'\n",
    "    if len(list(set(crs_l))) == 1:\n",
    "        merge(all_img_paths, method='first', dst_path=dst_path)\n",
    "    else:\n",
    "        profiles = list(map(get_profile, all_img_paths))\n",
    "        ref_crs = crs_l[0]\n",
    "        ref_profile = profiles[0]\n",
    "\n",
    "        if 'status' in layer:\n",
    "            with rasterio.open(all_img_paths[0]) as ds:\n",
    "                cmap = ds.colormap(1)\n",
    "        zipped_data = [read_one(path) for path in all_img_paths]\n",
    "        zipped_data = [(X, p) if p['crs'] == ref_crs \n",
    "                       else reproject_arr_to_new_crs(X, \n",
    "                                                     p, \n",
    "                                                     ref_crs, \n",
    "                                                     resampling='nearest') \n",
    "                       for (X, p) in zipped_data ]\n",
    "        arrays, profiles_dst = zip(*zipped_data)\n",
    "        arrays = [arr[0, ...] for arr in arrays]\n",
    "        X_m, p_m = merge_arrays_with_geometadata(arrays, \n",
    "                                                 profiles_dst, \n",
    "                                                 resampling='nearest',\n",
    "                                                 method='first')\n",
    "        with rasterio.open(dst_path, 'w', **p_m) as ds:\n",
    "            ds.write(X_m)\n",
    "            if 'status' in layer:\n",
    "                ds.write_colormap(1, cmap)\n",
    "    return dst_path"
   ]
  },
  {
   "cell_type": "code",
   "execution_count": 25,
   "id": "c60a8cd7-f524-4c86-82fc-491a1e73d2c8",
   "metadata": {},
   "outputs": [],
   "source": [
    "# merge_one_dir(all_acq_dirs[0], layer='veg-status')"
   ]
  },
  {
   "cell_type": "code",
   "execution_count": 26,
   "id": "33f17ef9-e2ee-43d9-842f-cdfa8be4c87f",
   "metadata": {},
   "outputs": [],
   "source": [
    "# dst_paths_veg_status = [merge_one_dir(acq_dir, layer='veg-status') for acq_dir in tqdm(all_acq_dirs)]\n",
    "# dst_paths_veg_date = [merge_one_dir(acq_dir, layer='veg-date') for acq_dir in tqdm(all_acq_dirs)]\n",
    "# dst_paths_gen_status = [merge_one_dir(acq_dir, layer='gen-status') for acq_dir in tqdm(all_acq_dirs)]\n",
    "# dst_paths_gen_date = [merge_one_dir(acq_dir, layer='gen-date') for acq_dir in tqdm(all_acq_dirs)]\n",
    "# dst_paths_veg_status, dst_paths_gen_status"
   ]
  },
  {
   "cell_type": "code",
   "execution_count": 27,
   "id": "47a8406e-2d3b-4fe1-8cb5-3d920124197f",
   "metadata": {},
   "outputs": [
    {
     "name": "stderr",
     "output_type": "stream",
     "text": [
      "100%|█| 264/264 [00:11<00:00, 20.53it/s\n"
     ]
    },
    {
     "data": {
      "text/plain": [
       "[PosixPath('out/smokehouse_creek_fire_2024/dist_hls/2024-02-13__S2A/__2024-02-13__S2A_veg-status_merged.tif'),\n",
       " PosixPath('out/smokehouse_creek_fire_2024/dist_hls/2024-02-13__S2A/__2024-02-13__S2A_gen-status_merged.tif'),\n",
       " PosixPath('out/smokehouse_creek_fire_2024/dist_hls/2024-02-13__S2A/__2024-02-13__S2A_veg-date_merged.tif')]"
      ]
     },
     "execution_count": 27,
     "metadata": {},
     "output_type": "execute_result"
    }
   ],
   "source": [
    "merge_inputs = [(acq_dir, layer) for acq_dir in all_acq_dirs for layer in ['veg-status', 'gen-status', 'veg-date', 'gen-date']]\n",
    "\n",
    "with WorkerPool(n_jobs=5, use_dill=True) as pool:\n",
    "    dst_paths = pool.map(\n",
    "        merge_one_dir,\n",
    "        merge_inputs,\n",
    "        progress_bar=True,\\\n",
    "        progress_bar_style=\"std\",\n",
    "    )\n",
    "dst_paths[:3]"
   ]
  },
  {
   "cell_type": "markdown",
   "id": "a2b9b432-3b62-4fd5-8c6e-107a10a294e8",
   "metadata": {},
   "source": [
    "# Reproject TS into single Frame"
   ]
  },
  {
   "cell_type": "code",
   "execution_count": 28,
   "id": "17db1f9f-8eba-4081-aaec-3f7f49d4b30c",
   "metadata": {
    "editable": true,
    "slideshow": {
     "slide_type": ""
    },
    "tags": []
   },
   "outputs": [
    {
     "data": {
      "text/plain": [
       "PosixPath('out/smokehouse_creek_fire_2024/dist_hls_ts_merged')"
      ]
     },
     "execution_count": 28,
     "metadata": {},
     "output_type": "execute_result"
    }
   ],
   "source": [
    "ts_dir = dist_hls_dir.parent / 'dist_hls_ts_merged'\n",
    "ts_dir.mkdir(exist_ok=True, parents=True)\n",
    "ts_dir"
   ]
  },
  {
   "cell_type": "code",
   "execution_count": 29,
   "id": "b021abbf-74db-406b-9449-db59c7a2a115",
   "metadata": {
    "editable": true,
    "slideshow": {
     "slide_type": ""
    },
    "tags": []
   },
   "outputs": [],
   "source": [
    "import shutil\n",
    "from dem_stitcher.rio_tools import reproject_arr_to_match_profile\n",
    "from dem_stitcher.rio_window import get_indices_from_extent\n",
    "from rasterio.warp import transform_bounds\n",
    "from rasterio.transform import xy\n",
    "from affine import Affine\n",
    "\n",
    "def get_idx_with_largest_size(paths: list[Path]) -> int:\n",
    "    def get_size(path: Path) -> int:\n",
    "        with rasterio.open(path) as ds:\n",
    "            m, n = ds.shape\n",
    "\n",
    "        return m * n\n",
    "\n",
    "    sizes = list(map(get_size, paths))\n",
    "    idx = np.argmax(sizes)\n",
    "    return idx\n",
    "\n",
    "def make_cube(paths: list[Path]):\n",
    "    track_number = paths[0].stem.split('_')[2]\n",
    "    date = paths[0].stem.split('_')[3]\n",
    "    \n",
    "    ref_idx = get_idx_with_largest_size(paths)\n",
    "\n",
    "    def get_profile(path: Path) -> dict:\n",
    "        with rasterio.open(path) as ds:\n",
    "            p = ds.profile\n",
    "        return p\n",
    "\n",
    "    profiles = list(map(get_profile, paths))\n",
    "    ref_profile = profiles[ref_idx]\n",
    "\n",
    "    def align_for_cube(path, prof):\n",
    "        out_path = ts_dir / path.name\n",
    "        cond0 = (prof['transform'] == ref_profile['transform'])\n",
    "        cond1 = (prof['width'] == ref_profile['width'])\n",
    "        cond2 = (prof['height'] == ref_profile['height'])\n",
    "        cond3 = (prof['crs'] == ref_profile['crs'])\n",
    "            \n",
    "        p_r = prof.copy()\n",
    "        if not (cond0 and cond1 and cond2 and cond3):\n",
    "            with rasterio.open(path) as ds:\n",
    "                X = ds.read(1)\n",
    "                if 'status' in path.stem.lower():\n",
    "                    cmap = ds.colormap(1)\n",
    "            X_r, p_r = reproject_arr_to_match_profile(X, prof, ref_profile)\n",
    "            X_r = X_r[0, ...]\n",
    "            \n",
    "            with rasterio.open(out_path, 'w', **p_r) as ds:\n",
    "                ds.write(X_r, 1)\n",
    "                if 'status' in path.stem.lower():\n",
    "                    ds.write_colormap(1, cmap)\n",
    "        else:\n",
    "            shutil.copy(path, out_path)\n",
    "        return out_path\n",
    "    cube_inputs = list(zip(paths, profiles))\n",
    "    #cube_paths = [align_for_cube(*inp) for inp in cube_inputs]\n",
    "    with WorkerPool(n_jobs=5, use_dill=True) as pool:\n",
    "        cube_paths = pool.map(\n",
    "            align_for_cube,\n",
    "            cube_inputs,\n",
    "            progress_bar=True,\\\n",
    "            progress_bar_style=\"std\",\n",
    "            )\n",
    "    return cube_paths"
   ]
  },
  {
   "cell_type": "code",
   "execution_count": 30,
   "id": "d86da72b-c435-4f8c-9e14-c559ff88ebc2",
   "metadata": {},
   "outputs": [
    {
     "name": "stderr",
     "output_type": "stream",
     "text": [
      "100%|█| 264/264 [00:21<00:00,  9.28it/s"
     ]
    },
    {
     "name": "stdout",
     "output_type": "stream",
     "text": [
      "CPU times: user 706 ms, sys: 193 ms, total: 899 ms\n",
      "Wall time: 22.6 s\n"
     ]
    },
    {
     "name": "stderr",
     "output_type": "stream",
     "text": [
      "\n"
     ]
    },
    {
     "data": {
      "text/plain": [
       "[PosixPath('out/smokehouse_creek_fire_2024/dist_hls_ts_merged/__2024-02-13__S2A_gen-date_merged.tif'),\n",
       " PosixPath('out/smokehouse_creek_fire_2024/dist_hls_ts_merged/__2024-02-13__S2A_gen-status_merged.tif'),\n",
       " PosixPath('out/smokehouse_creek_fire_2024/dist_hls_ts_merged/__2024-02-13__S2A_veg-date_merged.tif'),\n",
       " PosixPath('out/smokehouse_creek_fire_2024/dist_hls_ts_merged/__2024-02-13__S2A_veg-status_merged.tif')]"
      ]
     },
     "execution_count": 30,
     "metadata": {},
     "output_type": "execute_result"
    }
   ],
   "source": [
    "%%time\n",
    "\n",
    "cube_paths = sorted(make_cube(dst_paths))\n",
    "cube_paths[:4]"
   ]
  },
  {
   "cell_type": "markdown",
   "id": "25db024c-e5ce-4852-a51f-7abd6f3d7972",
   "metadata": {},
   "source": [
    "# Divide paths"
   ]
  },
  {
   "cell_type": "code",
   "execution_count": 37,
   "id": "db65c618-4a93-4149-8ae3-f5a3fefa3dff",
   "metadata": {},
   "outputs": [],
   "source": [
    "merged_veg_status = [p for p in cube_paths if 'veg-status' in p.stem]\n",
    "merged_gen_status = [p for p in cube_paths if 'gen-status' in p.stem]\n",
    "\n",
    "merged_veg_date = [p for p in cube_paths if 'veg-date' in p.stem]\n",
    "merged_gen_date = [p for p in cube_paths if 'gen-date' in p.stem]"
   ]
  },
  {
   "cell_type": "markdown",
   "id": "1f535155-8771-42ae-aba6-ce7908db1df4",
   "metadata": {},
   "source": [
    "# Make Change Map"
   ]
  },
  {
   "cell_type": "code",
   "execution_count": 38,
   "id": "4e0f31bf-ed05-4b09-9fb8-e859a94f8c40",
   "metadata": {},
   "outputs": [],
   "source": [
    "change_dir = Path('out') / event_dict['event_name'] / 'change_map_dist_hls'\n",
    "change_dir.mkdir(exist_ok=True, parents=True)"
   ]
  },
  {
   "cell_type": "code",
   "execution_count": 39,
   "id": "9e23df2a-4f43-4cbb-8d3f-39eb241630c3",
   "metadata": {},
   "outputs": [
    {
     "data": {
      "text/plain": [
       "[datetime.datetime(2024, 2, 13, 0, 0),\n",
       " datetime.datetime(2024, 2, 14, 0, 0),\n",
       " datetime.datetime(2024, 2, 15, 0, 0)]"
      ]
     },
     "execution_count": 39,
     "metadata": {},
     "output_type": "execute_result"
    }
   ],
   "source": [
    "from dateparser import parse\n",
    "acq_dt_hls = [parse(p.stem.split('__')[1]) for p in dst_paths_veg_status]\n",
    "acq_dt_hls[:3]"
   ]
  },
  {
   "cell_type": "markdown",
   "id": "0ff17a17-b251-4bed-ad8b-14e757af02e6",
   "metadata": {},
   "source": [
    "## Change Maps from Provisional Alert"
   ]
  },
  {
   "cell_type": "code",
   "execution_count": 40,
   "id": "b8fed4e7-2f2f-41bb-a916-a1958fe1e170",
   "metadata": {},
   "outputs": [],
   "source": [
    "N_ACQS = 3"
   ]
  },
  {
   "cell_type": "code",
   "execution_count": 41,
   "id": "4f85e3e3-614d-486b-b3df-a93bda2ca0af",
   "metadata": {},
   "outputs": [
    {
     "data": {
      "text/plain": [
       "([14, 15, 16],\n",
       " [datetime.datetime(2024, 2, 28, 0, 0),\n",
       "  datetime.datetime(2024, 3, 2, 0, 0),\n",
       "  datetime.datetime(2024, 3, 2, 0, 0)])"
      ]
     },
     "execution_count": 41,
     "metadata": {},
     "output_type": "execute_result"
    }
   ],
   "source": [
    "PROVISIONAL_CHANGE_MAP_IDXS = [k for (k, dt) in enumerate(acq_dt_hls) if dt > EVENT_DT][:3]\n",
    "PROVISIONAL_CHANGE_MAP_IDXS, [acq_dt_hls[k] for k in PROVISIONAL_CHANGE_MAP_IDXS]"
   ]
  },
  {
   "cell_type": "code",
   "execution_count": 42,
   "id": "94b7968e-28bc-4e45-8260-380365eeb9bb",
   "metadata": {},
   "outputs": [
    {
     "name": "stdout",
     "output_type": "stream",
     "text": [
      "out/smokehouse_creek_fire_2024/change_map_dist_hls/dist_hls_provisional_change_map_veg_first2024-02-28.tif\n",
      "out/smokehouse_creek_fire_2024/change_map_dist_hls/dist_hls_provisional_change_map_gen_first2024-02-28.tif\n"
     ]
    }
   ],
   "source": [
    "for data_list, change_token in zip([merged_veg_status, merged_gen_status], ['veg', 'gen']):\n",
    "    profiles = []\n",
    "    change_arrays = []\n",
    "    for idx in PROVISIONAL_CHANGE_MAP_IDXS:\n",
    "        with rasterio.open(data_list[idx]) as ds:\n",
    "            X_status_prov = ds.read(1)\n",
    "            p = ds.profile\n",
    "        \n",
    "        X_change_prov = np.zeros(X_status_prov.shape)\n",
    "    \n",
    "        confirmed_change_labels = [3, 6, 7, 8]\n",
    "        X_change_prov[np.isin(X_status_prov, confirmed_change_labels)] = 255\n",
    "    \n",
    "        prov_change_labels = [1, 2, 3, 5]\n",
    "        X_change_prov[np.isin(X_status_prov, prov_change_labels)] = 1\n",
    "    \n",
    "        #no_change_labels = [0]\n",
    "        #X_change_prov[np.isin(X_status_prov, no_change_labels)] = 0\n",
    "    \n",
    "        X_change_prov[X_status_prov == 255] = 255\n",
    "        \n",
    "        profiles.append(p)\n",
    "        change_arrays.append(X_change_prov)\n",
    "\n",
    "    X_change_prov_m, p_m = merge_arrays_with_geometadata(change_arrays, profiles, method='max')\n",
    "\n",
    "    out_path = change_dir / f'dist_hls_provisional_change_map_{change_token}_first{str(acq_dt_hls[PROVISIONAL_CHANGE_MAP_IDXS[0]].date())}.tif'\n",
    "    print(out_path)\n",
    "    with rasterio.open(out_path, 'w', **p_m) as ds:\n",
    "        ds.write(X_change_prov_m.astype(np.uint8))\n",
    "    "
   ]
  },
  {
   "cell_type": "code",
   "execution_count": 43,
   "id": "64d31c77-b013-4282-bf3c-cfff01bf8802",
   "metadata": {},
   "outputs": [
    {
     "data": {
      "text/plain": [
       "<matplotlib.image.AxesImage at 0x1652e97c0>"
      ]
     },
     "execution_count": 43,
     "metadata": {},
     "output_type": "execute_result"
    },
    {
     "data": {
      "image/png": "[encoded data removed]",
      "text/plain": [
       "<Figure size 640x480 with 1 Axes>"
      ]
     },
     "metadata": {},
     "output_type": "display_data"
    }
   ],
   "source": [
    "X_change_prov_p = X_change_prov.copy()\n",
    "X_change_prov_p[X_change_prov_p == 255] = np.nan\n",
    "plt.imshow(X_change_prov_p, vmin=0, vmax=1, interpolation='none')"
   ]
  },
  {
   "cell_type": "markdown",
   "id": "30c6ba61-7e28-4dc6-9f06-0b0a536e50cb",
   "metadata": {},
   "source": [
    "## Confirmed Change Map"
   ]
  },
  {
   "cell_type": "code",
   "execution_count": 44,
   "id": "5dd32319-6797-4bb8-abef-5424344604c8",
   "metadata": {},
   "outputs": [
    {
     "data": {
      "text/plain": [
       "([39, 40, 41],\n",
       " [datetime.datetime(2024, 3, 28, 0, 0),\n",
       "  datetime.datetime(2024, 3, 29, 0, 0),\n",
       "  datetime.datetime(2024, 3, 30, 0, 0)])"
      ]
     },
     "execution_count": 44,
     "metadata": {},
     "output_type": "execute_result"
    }
   ],
   "source": [
    "min_days = event_dict['dist_hls_confirmed_change_min_days']\n",
    "CHANGE_MAP_CONFIRMED_IDXS = [k for (k, dt) in enumerate(acq_dt_hls) if dt > EVENT_DT + datetime.timedelta(min_days)][:N_ACQS]\n",
    "CHANGE_MAP_CONFIRMED_IDXS, [acq_dt_hls[k] for k in CHANGE_MAP_CONFIRMED_IDXS]"
   ]
  },
  {
   "cell_type": "code",
   "execution_count": 45,
   "id": "d13a688f-85a7-4569-a6c8-d62232d45694",
   "metadata": {},
   "outputs": [
    {
     "name": "stdout",
     "output_type": "stream",
     "text": [
      "out/smokehouse_creek_fire_2024/change_map_dist_hls/dist_hls_confirmed_change_map_veg_first2024-03-28.tif\n",
      "out/smokehouse_creek_fire_2024/change_map_dist_hls/dist_hls_confirmed_change_map_gen_first2024-03-28.tif\n"
     ]
    }
   ],
   "source": [
    "for data_list_status, data_list_date, change_token in zip([merged_veg_status, merged_gen_status], \n",
    "                                          [merged_veg_date, merged_gen_date],\n",
    "                                          ['veg', 'gen']):\n",
    "    profiles = []\n",
    "    change_arrays = []\n",
    "    for idx in CHANGE_MAP_CONFIRMED_IDXS:\n",
    "    \n",
    "        with rasterio.open(data_list_status[idx]) as ds:\n",
    "            X_status_con = ds.read(1)\n",
    "            p = ds.profile\n",
    "    \n",
    "        with rasterio.open(data_list_date[idx]) as ds:\n",
    "            X_date = ds.read(1)\n",
    "    \n",
    "        confirmed_event_day_val = (EVENT_DT - datetime.datetime(2020, 12, 31)).days\n",
    "        X_change_con = np.zeros(X_status_con.shape)\n",
    "        \n",
    "        confirmed_change_labels = [3, 6, 7, 8]\n",
    "        # I am adding a 1 day buffer to the confirmed day boolean index\n",
    "        X_change_con[np.isin(X_status_con, confirmed_change_labels) & (X_date >= confirmed_event_day_val - 1)] = 1\n",
    "    \n",
    "        #prov_change_labels = [1, 2, 3, 5]\n",
    "        #X_change_con[np.isin(X_status_con, prov_change_labels)] = 255\n",
    "        \n",
    "        X_change_con[X_status_con == 255] = 255\n",
    "\n",
    "        profiles.append(p)\n",
    "        change_arrays.append(X_change_con)\n",
    "\n",
    "    X_change_con_m, p_m = merge_arrays_with_geometadata(change_arrays, profiles, method='max')\n",
    "\n",
    "\n",
    "    out_path = change_dir / f'dist_hls_confirmed_change_map_{change_token}_first{str(acq_dt_hls[CHANGE_MAP_CONFIRMED_IDXS[0]].date())}.tif'\n",
    "    print(out_path)\n",
    "    with rasterio.open(out_path, 'w', **p) as ds:\n",
    "        ds.write(X_change_con_m.astype(np.uint8))\n",
    "    "
   ]
  },
  {
   "cell_type": "code",
   "execution_count": 46,
   "id": "e1dc3abb-e1b0-4f66-be8f-5257e49bd97a",
   "metadata": {},
   "outputs": [
    {
     "data": {
      "text/plain": [
       "<matplotlib.image.AxesImage at 0x165240590>"
      ]
     },
     "execution_count": 46,
     "metadata": {},
     "output_type": "execute_result"
    },
    {
     "data": {
      "image/png": "[encoded data removed]",
      "text/plain": [
       "<Figure size 640x480 with 1 Axes>"
      ]
     },
     "metadata": {},
     "output_type": "display_data"
    }
   ],
   "source": [
    "plt.imshow(X_change_con_m[0, ...], vmin=0, vmax=1, interpolation='none')"
   ]
  },
  {
   "cell_type": "markdown",
   "id": "c5265537-ee15-4fc0-b745-0b23a2a26278",
   "metadata": {},
   "source": [
    "# Remove DIST-HLS files"
   ]
  },
  {
   "cell_type": "code",
   "execution_count": 47,
   "id": "d312c861-d0e8-4d58-ac57-c71ab3709678",
   "metadata": {},
   "outputs": [
    {
     "data": {
      "text/plain": [
       "(PosixPath('out/smokehouse_creek_fire_2024/dist_hls_ts_merged'),\n",
       " PosixPath('out/smokehouse_creek_fire_2024/dist_hls'))"
      ]
     },
     "execution_count": 47,
     "metadata": {},
     "output_type": "execute_result"
    }
   ],
   "source": [
    "ts_dir, dist_hls_dir"
   ]
  },
  {
   "cell_type": "code",
   "execution_count": 48,
   "id": "36866840-c07f-4c88-aacc-9e4a8636b400",
   "metadata": {},
   "outputs": [],
   "source": [
    "shutil.rmtree(ts_dir)\n",
    "shutil.rmtree(dist_hls_dir)"
   ]
  }
 ],
 "metadata": {
  "kernelspec": {
   "display_name": "dist-s1",
   "language": "python",
   "name": "dist-s1"
  },
  "language_info": {
   "codemirror_mode": {
    "name": "ipython",
    "version": 3
   },
   "file_extension": ".py",
   "mimetype": "text/x-python",
   "name": "python",
   "nbconvert_exporter": "python",
   "pygments_lexer": "ipython3",
   "version": "3.12.4"
  }
 },
 "nbformat": 4,
 "nbformat_minor": 5
}
