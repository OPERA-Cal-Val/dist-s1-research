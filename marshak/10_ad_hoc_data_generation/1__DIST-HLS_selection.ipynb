{
 "cells": [
  {
   "cell_type": "code",
   "execution_count": 1,
   "id": "f2bf5227-3dea-4b09-b899-2b4ed71b1656",
   "metadata": {},
   "outputs": [],
   "source": [
    "import geopandas as gpd\n",
    "\n",
    "from pystac_client import Client  \n",
    "from pystac_client import ItemSearch\n",
    "from pystac.item import Item\n",
    "from shapely.geometry import box, shape\n",
    "import yaml\n",
    "from rasterio.crs import CRS\n",
    "import datetime\n",
    "import pandas as pd\n",
    "from pathlib import Path\n",
    "from tqdm import tqdm\n",
    "import rasterio\n",
    "from rasterio.merge import merge\n",
    "import numpy as np\n",
    "import asf_search as asf\n",
    "from dem_stitcher.rio_tools import reproject_arr_to_new_crs, reproject_arr_to_match_profile\n",
    "import shutil\n",
    "import numpy as np\n",
    "import matplotlib.pyplot as plt"
   ]
  },
  {
   "cell_type": "code",
   "execution_count": 32,
   "id": "24d98fa9-1af2-4855-a299-9c2f74b49f3a",
   "metadata": {},
   "outputs": [
    {
     "data": {
      "text/plain": [
       "{'event_name': 'chile_fire_2024',\n",
       " 'bounds': [-71.53071089, -33.20143816, -71.2964628, -32.98270579],\n",
       " 'event_date': '2024-02-04',\n",
       " 'pre_event_window_days': 100,\n",
       " 'post_event_window_days': 60,\n",
       " 'rtc_track_numbers': [18, 156],\n",
       " 'mgrs_tiles': ['19HBD'],\n",
       " 'burst_ids': None,\n",
       " 'dist_hls_confirmed_change_min_days': 30,\n",
       " 'links': ['https://earthobservatory.nasa.gov/images/152411/fires-rage-in-central-chile',\n",
       "  'https://en.wikipedia.org/wiki/2024_Chile_wildfires']}"
      ]
     },
     "execution_count": 32,
     "metadata": {},
     "output_type": "execute_result"
    }
   ],
   "source": [
    "yaml_file = 'events/chile_fire_2024.yml' #'porto_algre.yml'\n",
    "with open(yaml_file) as f:\n",
    "    event_dict = yaml.safe_load(f)[\"event\"]\n",
    "event_dict"
   ]
  },
  {
   "cell_type": "code",
   "execution_count": 3,
   "id": "a6a44ab7-d18b-49b3-9d5a-0893a0b41665",
   "metadata": {},
   "outputs": [],
   "source": [
    "EVENT_DT = datetime.datetime.strptime(event_dict['event_date'], \"%Y-%m-%d\")\n",
    "PRE_DT_START = EVENT_DT - datetime.timedelta(days=event_dict['pre_event_window_days'])\n",
    "POST_DT_STOP = EVENT_DT + datetime.timedelta(days=event_dict['post_event_window_days'])"
   ]
  },
  {
   "cell_type": "code",
   "execution_count": 4,
   "id": "78e39468-74db-4a99-b4b3-ff22b483b1ea",
   "metadata": {},
   "outputs": [],
   "source": [
    "aoi = box(*event_dict['bounds'])\n",
    "df_aoi = gpd.GeoDataFrame(geometry=[aoi], crs=CRS.from_epsg(4326))"
   ]
  },
  {
   "cell_type": "code",
   "execution_count": 5,
   "id": "de61fcbf-60bc-4f71-bd94-db470f4a3567",
   "metadata": {},
   "outputs": [],
   "source": [
    "#df_mgrs = gpd.read_file('https://raw.githubusercontent.com/NASA-IMPACT/hls-land_tiles/master/s2_grid.json')"
   ]
  },
  {
   "cell_type": "code",
   "execution_count": 6,
   "id": "537991e4-f998-47b9-8f18-99f4d423fbd7",
   "metadata": {},
   "outputs": [],
   "source": [
    "stac = 'https://cmr.earthdata.nasa.gov/cloudstac/'    # CMR-STAC API Endpoint\n",
    "api = Client.open(f'{stac}/LPCLOUD/')\n",
    "collections = ['OPERA_L3_DIST-ALERT-HLS_V1']\n",
    "\n",
    "search_params = {\"collections\": collections,\n",
    "                 \"intersects\": aoi.__geo_interface__,\n",
    "                 \"datetime\": [EVENT_DT - datetime.timedelta(days=14), POST_DT_STOP],\n",
    "                 \"max_items\": 1000}\n",
    "search_dswx = api.search(**search_params)"
   ]
  },
  {
   "cell_type": "code",
   "execution_count": 7,
   "id": "2e37e0be-9c49-4e48-8e8b-983565b14046",
   "metadata": {},
   "outputs": [
    {
     "data": {
      "text/plain": [
       "28"
      ]
     },
     "execution_count": 7,
     "metadata": {},
     "output_type": "execute_result"
    }
   ],
   "source": [
    "l = list(search_dswx.items())\n",
    "len(l)"
   ]
  },
  {
   "cell_type": "code",
   "execution_count": 8,
   "id": "c277c2b0-e723-445b-bda7-0ffcf72938dc",
   "metadata": {},
   "outputs": [],
   "source": [
    "def format_item(item):\n",
    "    assets_status = [(key, value.href) for (key, value) in sorted(item.assets.items()) if ('STATUS' in value.href and '.tif' in value.href)]\n",
    "    assets_status_m = [('dist-veg-status', value) if 'VEG' in key else ('dist-gen-status', value) for (key, value) in assets_status]\n",
    "\n",
    "    assets_date = [(key, value.href) for (key, value) in sorted(item.assets.items()) if ('DATE' in value.href and '.tif' in value.href and 'LAST' not in value.href)]\n",
    "    assets_date_m = [('dist-veg-date', value) if 'VEG' in key else ('dist-gen-date', value) for (key, value) in assets_date]\n",
    "    \n",
    "    out = {**{'id': item.id}, \n",
    "           **item.properties, \n",
    "           **{'geometry': shape(item.geometry)},\n",
    "           **{key: value for (key, value) in assets_status_m + assets_date_m}\n",
    "          }\n",
    "    return out\n",
    "    "
   ]
  },
  {
   "cell_type": "code",
   "execution_count": 9,
   "id": "b5428347-9dee-484a-8047-1ca2c50d9aec",
   "metadata": {},
   "outputs": [
    {
     "data": {
      "text/html": [
       "<div>\n",
       "<style scoped>\n",
       "    .dataframe tbody tr th:only-of-type {\n",
       "        vertical-align: middle;\n",
       "    }\n",
       "\n",
       "    .dataframe tbody tr th {\n",
       "        vertical-align: top;\n",
       "    }\n",
       "\n",
       "    .dataframe thead th {\n",
       "        text-align: right;\n",
       "    }\n",
       "</style>\n",
       "<table border=\"1\" class=\"dataframe\">\n",
       "  <thead>\n",
       "    <tr style=\"text-align: right;\">\n",
       "      <th></th>\n",
       "      <th>id</th>\n",
       "      <th>eo:cloud_cover</th>\n",
       "      <th>datetime</th>\n",
       "      <th>start_datetime</th>\n",
       "      <th>end_datetime</th>\n",
       "      <th>geometry</th>\n",
       "      <th>dist-gen-status</th>\n",
       "      <th>dist-veg-status</th>\n",
       "      <th>dist-gen-date</th>\n",
       "      <th>dist-veg-date</th>\n",
       "      <th>acq_date</th>\n",
       "      <th>sensor</th>\n",
       "    </tr>\n",
       "  </thead>\n",
       "  <tbody>\n",
       "    <tr>\n",
       "      <th>0</th>\n",
       "      <td>OPERA_L3_DIST-ALERT-HLS_T19HBD_20240202T143741...</td>\n",
       "      <td>7</td>\n",
       "      <td>2024-02-02 14:52:03.526000+00:00</td>\n",
       "      <td>2024-02-02T14:52:03.526Z</td>\n",
       "      <td>2024-02-02T14:52:03.526Z</td>\n",
       "      <td>POLYGON ((-71.04798 -33.51085, -71.02522 -32.5...</td>\n",
       "      <td>https://data.lpdaac.earthdatacloud.nasa.gov/lp...</td>\n",
       "      <td>https://data.lpdaac.earthdatacloud.nasa.gov/lp...</td>\n",
       "      <td>https://data.lpdaac.earthdatacloud.nasa.gov/lp...</td>\n",
       "      <td>https://data.lpdaac.earthdatacloud.nasa.gov/lp...</td>\n",
       "      <td>2024-02-02</td>\n",
       "      <td>S2A</td>\n",
       "    </tr>\n",
       "    <tr>\n",
       "      <th>1</th>\n",
       "      <td>OPERA_L3_DIST-ALERT-HLS_T19HBD_20240205T143946...</td>\n",
       "      <td>59</td>\n",
       "      <td>2024-02-05 14:39:46.293000+00:00</td>\n",
       "      <td>2024-02-05T14:39:46.293Z</td>\n",
       "      <td>2024-02-05T14:40:10.243Z</td>\n",
       "      <td>POLYGON ((-71.33009 -33.50587, -71.07310 -32.5...</td>\n",
       "      <td>https://data.lpdaac.earthdatacloud.nasa.gov/lp...</td>\n",
       "      <td>https://data.lpdaac.earthdatacloud.nasa.gov/lp...</td>\n",
       "      <td>https://data.lpdaac.earthdatacloud.nasa.gov/lp...</td>\n",
       "      <td>https://data.lpdaac.earthdatacloud.nasa.gov/lp...</td>\n",
       "      <td>2024-02-05</td>\n",
       "      <td>L9</td>\n",
       "    </tr>\n",
       "    <tr>\n",
       "      <th>2</th>\n",
       "      <td>OPERA_L3_DIST-ALERT-HLS_T19HBD_20240206T143346...</td>\n",
       "      <td>32</td>\n",
       "      <td>2024-02-06 14:33:46.656000+00:00</td>\n",
       "      <td>2024-02-06T14:33:46.656Z</td>\n",
       "      <td>2024-02-06T14:33:46.656Z</td>\n",
       "      <td>POLYGON ((-71.04798 -33.51085, -71.02522 -32.5...</td>\n",
       "      <td>https://data.lpdaac.earthdatacloud.nasa.gov/lp...</td>\n",
       "      <td>https://data.lpdaac.earthdatacloud.nasa.gov/lp...</td>\n",
       "      <td>https://data.lpdaac.earthdatacloud.nasa.gov/lp...</td>\n",
       "      <td>https://data.lpdaac.earthdatacloud.nasa.gov/lp...</td>\n",
       "      <td>2024-02-06</td>\n",
       "      <td>L8</td>\n",
       "    </tr>\n",
       "    <tr>\n",
       "      <th>3</th>\n",
       "      <td>OPERA_L3_DIST-ALERT-HLS_T19HBD_20240207T143739...</td>\n",
       "      <td>54</td>\n",
       "      <td>2024-02-07 14:52:07.341000+00:00</td>\n",
       "      <td>2024-02-07T14:52:07.341Z</td>\n",
       "      <td>2024-02-07T14:52:07.341Z</td>\n",
       "      <td>POLYGON ((-71.04798 -33.51085, -71.02522 -32.5...</td>\n",
       "      <td>https://data.lpdaac.earthdatacloud.nasa.gov/lp...</td>\n",
       "      <td>https://data.lpdaac.earthdatacloud.nasa.gov/lp...</td>\n",
       "      <td>https://data.lpdaac.earthdatacloud.nasa.gov/lp...</td>\n",
       "      <td>https://data.lpdaac.earthdatacloud.nasa.gov/lp...</td>\n",
       "      <td>2024-02-07</td>\n",
       "      <td>S2B</td>\n",
       "    </tr>\n",
       "    <tr>\n",
       "      <th>4</th>\n",
       "      <td>OPERA_L3_DIST-ALERT-HLS_T19HBD_20240212T143741...</td>\n",
       "      <td>0</td>\n",
       "      <td>2024-02-12 14:52:04.975000+00:00</td>\n",
       "      <td>2024-02-12T14:52:04.975Z</td>\n",
       "      <td>2024-02-12T14:52:04.975Z</td>\n",
       "      <td>POLYGON ((-71.04798 -33.51085, -71.02522 -32.5...</td>\n",
       "      <td>https://data.lpdaac.earthdatacloud.nasa.gov/lp...</td>\n",
       "      <td>https://data.lpdaac.earthdatacloud.nasa.gov/lp...</td>\n",
       "      <td>https://data.lpdaac.earthdatacloud.nasa.gov/lp...</td>\n",
       "      <td>https://data.lpdaac.earthdatacloud.nasa.gov/lp...</td>\n",
       "      <td>2024-02-12</td>\n",
       "      <td>S2A</td>\n",
       "    </tr>\n",
       "  </tbody>\n",
       "</table>\n",
       "</div>"
      ],
      "text/plain": [
       "                                                  id  eo:cloud_cover  \\\n",
       "0  OPERA_L3_DIST-ALERT-HLS_T19HBD_20240202T143741...               7   \n",
       "1  OPERA_L3_DIST-ALERT-HLS_T19HBD_20240205T143946...              59   \n",
       "2  OPERA_L3_DIST-ALERT-HLS_T19HBD_20240206T143346...              32   \n",
       "3  OPERA_L3_DIST-ALERT-HLS_T19HBD_20240207T143739...              54   \n",
       "4  OPERA_L3_DIST-ALERT-HLS_T19HBD_20240212T143741...               0   \n",
       "\n",
       "                          datetime            start_datetime  \\\n",
       "0 2024-02-02 14:52:03.526000+00:00  2024-02-02T14:52:03.526Z   \n",
       "1 2024-02-05 14:39:46.293000+00:00  2024-02-05T14:39:46.293Z   \n",
       "2 2024-02-06 14:33:46.656000+00:00  2024-02-06T14:33:46.656Z   \n",
       "3 2024-02-07 14:52:07.341000+00:00  2024-02-07T14:52:07.341Z   \n",
       "4 2024-02-12 14:52:04.975000+00:00  2024-02-12T14:52:04.975Z   \n",
       "\n",
       "               end_datetime  \\\n",
       "0  2024-02-02T14:52:03.526Z   \n",
       "1  2024-02-05T14:40:10.243Z   \n",
       "2  2024-02-06T14:33:46.656Z   \n",
       "3  2024-02-07T14:52:07.341Z   \n",
       "4  2024-02-12T14:52:04.975Z   \n",
       "\n",
       "                                            geometry  \\\n",
       "0  POLYGON ((-71.04798 -33.51085, -71.02522 -32.5...   \n",
       "1  POLYGON ((-71.33009 -33.50587, -71.07310 -32.5...   \n",
       "2  POLYGON ((-71.04798 -33.51085, -71.02522 -32.5...   \n",
       "3  POLYGON ((-71.04798 -33.51085, -71.02522 -32.5...   \n",
       "4  POLYGON ((-71.04798 -33.51085, -71.02522 -32.5...   \n",
       "\n",
       "                                     dist-gen-status  \\\n",
       "0  https://data.lpdaac.earthdatacloud.nasa.gov/lp...   \n",
       "1  https://data.lpdaac.earthdatacloud.nasa.gov/lp...   \n",
       "2  https://data.lpdaac.earthdatacloud.nasa.gov/lp...   \n",
       "3  https://data.lpdaac.earthdatacloud.nasa.gov/lp...   \n",
       "4  https://data.lpdaac.earthdatacloud.nasa.gov/lp...   \n",
       "\n",
       "                                     dist-veg-status  \\\n",
       "0  https://data.lpdaac.earthdatacloud.nasa.gov/lp...   \n",
       "1  https://data.lpdaac.earthdatacloud.nasa.gov/lp...   \n",
       "2  https://data.lpdaac.earthdatacloud.nasa.gov/lp...   \n",
       "3  https://data.lpdaac.earthdatacloud.nasa.gov/lp...   \n",
       "4  https://data.lpdaac.earthdatacloud.nasa.gov/lp...   \n",
       "\n",
       "                                       dist-gen-date  \\\n",
       "0  https://data.lpdaac.earthdatacloud.nasa.gov/lp...   \n",
       "1  https://data.lpdaac.earthdatacloud.nasa.gov/lp...   \n",
       "2  https://data.lpdaac.earthdatacloud.nasa.gov/lp...   \n",
       "3  https://data.lpdaac.earthdatacloud.nasa.gov/lp...   \n",
       "4  https://data.lpdaac.earthdatacloud.nasa.gov/lp...   \n",
       "\n",
       "                                       dist-veg-date    acq_date sensor  \n",
       "0  https://data.lpdaac.earthdatacloud.nasa.gov/lp...  2024-02-02    S2A  \n",
       "1  https://data.lpdaac.earthdatacloud.nasa.gov/lp...  2024-02-05     L9  \n",
       "2  https://data.lpdaac.earthdatacloud.nasa.gov/lp...  2024-02-06     L8  \n",
       "3  https://data.lpdaac.earthdatacloud.nasa.gov/lp...  2024-02-07    S2B  \n",
       "4  https://data.lpdaac.earthdatacloud.nasa.gov/lp...  2024-02-12    S2A  "
      ]
     },
     "execution_count": 9,
     "metadata": {},
     "output_type": "execute_result"
    }
   ],
   "source": [
    "data = list(map(format_item, l))\n",
    "df_resp = pd.DataFrame(data)\n",
    "df_resp = gpd.GeoDataFrame(df_resp, geometry=df_resp.geometry, crs=CRS.from_epsg(4326))\n",
    "df_resp['datetime'] = pd.to_datetime(df_resp['datetime'])\n",
    "df_resp['acq_date']= df_resp['datetime'].dt.date\n",
    "df_resp['sensor'] = df_resp['id'].map(lambda oid: oid.split('_')[-3]) \n",
    "df_resp.head()"
   ]
  },
  {
   "cell_type": "code",
   "execution_count": 10,
   "id": "a000ec41-f6ab-41dc-95ff-b0a45febdd3d",
   "metadata": {},
   "outputs": [
    {
     "data": {
      "text/plain": [
       "<Axes: >"
      ]
     },
     "execution_count": 10,
     "metadata": {},
     "output_type": "execute_result"
    },
    {
     "data": {
      "image/png": "[encoded data removed]",
      "text/plain": [
       "<Figure size 640x480 with 1 Axes>"
      ]
     },
     "metadata": {},
     "output_type": "display_data"
    }
   ],
   "source": [
    "fig, ax = plt.subplots()\n",
    "df_resp.exterior.plot(ax = ax)\n",
    "df_aoi.plot(ax=ax)"
   ]
  },
  {
   "cell_type": "code",
   "execution_count": 11,
   "id": "9110a085-4a6d-41ef-9c88-a13820a21820",
   "metadata": {},
   "outputs": [
    {
     "data": {
      "text/plain": [
       "array([datetime.date(2024, 2, 2), datetime.date(2024, 2, 5),\n",
       "       datetime.date(2024, 2, 6), datetime.date(2024, 2, 7),\n",
       "       datetime.date(2024, 2, 12), datetime.date(2024, 2, 13),\n",
       "       datetime.date(2024, 2, 14), datetime.date(2024, 2, 17),\n",
       "       datetime.date(2024, 2, 21), datetime.date(2024, 2, 22),\n",
       "       datetime.date(2024, 2, 27), datetime.date(2024, 2, 29),\n",
       "       datetime.date(2024, 3, 1), datetime.date(2024, 3, 3),\n",
       "       datetime.date(2024, 3, 9), datetime.date(2024, 3, 13),\n",
       "       datetime.date(2024, 3, 16), datetime.date(2024, 3, 17),\n",
       "       datetime.date(2024, 3, 18), datetime.date(2024, 3, 23),\n",
       "       datetime.date(2024, 3, 24), datetime.date(2024, 3, 25),\n",
       "       datetime.date(2024, 3, 28), datetime.date(2024, 4, 1),\n",
       "       datetime.date(2024, 4, 2)], dtype=object)"
      ]
     },
     "execution_count": 11,
     "metadata": {},
     "output_type": "execute_result"
    }
   ],
   "source": [
    "df_resp.acq_date.unique()"
   ]
  },
  {
   "cell_type": "code",
   "execution_count": 12,
   "id": "4b5e9be1-4f22-48b3-9a1e-a9c313a73c05",
   "metadata": {},
   "outputs": [],
   "source": [
    "dist_hls = Path('out') / event_dict['event_name'] / 'dist_hls'\n",
    "dist_hls.mkdir(exist_ok=True, parents=True)"
   ]
  },
  {
   "cell_type": "code",
   "execution_count": 13,
   "id": "66ecf4a8-0d3a-4976-adf2-ff2e96e7e84b",
   "metadata": {
    "scrolled": true
   },
   "outputs": [
    {
     "name": "stderr",
     "output_type": "stream",
     "text": [
      "dates:   0%|                                                                                                                            | 0/26 [00:00<?, ?it/s]/Users/cmarshak/miniforge3/envs/dist-s1/lib/python3.12/site-packages/asf_search/download/download.py:68: UserWarning: File already exists, skipping download: out/chile_fire_2024/dist_hls/2024-02-06__L8/OPERA_L3_DIST-ALERT-HLS_T19HBD_20240206T143346Z_20240212T222640Z_L8_30_v1_VEG-DIST-STATUS.tif\n",
      "  warnings.warn(f'File already exists, skipping download: {os.path.join(path, filename)}')\n",
      "/Users/cmarshak/miniforge3/envs/dist-s1/lib/python3.12/site-packages/asf_search/download/download.py:68: UserWarning: File already exists, skipping download: out/chile_fire_2024/dist_hls/2024-02-06__L8/OPERA_L3_DIST-ALERT-HLS_T19HBD_20240206T143346Z_20240212T222640Z_L8_30_v1_GEN-DIST-STATUS.tif\n",
      "  warnings.warn(f'File already exists, skipping download: {os.path.join(path, filename)}')\n",
      "/Users/cmarshak/miniforge3/envs/dist-s1/lib/python3.12/site-packages/asf_search/download/download.py:68: UserWarning: File already exists, skipping download: out/chile_fire_2024/dist_hls/2024-02-06__L8/OPERA_L3_DIST-ALERT-HLS_T19HBD_20240206T143346Z_20240212T222640Z_L8_30_v1_VEG-DIST-DATE.tif\n",
      "  warnings.warn(f'File already exists, skipping download: {os.path.join(path, filename)}')\n",
      "/Users/cmarshak/miniforge3/envs/dist-s1/lib/python3.12/site-packages/asf_search/download/download.py:68: UserWarning: File already exists, skipping download: out/chile_fire_2024/dist_hls/2024-02-06__L8/OPERA_L3_DIST-ALERT-HLS_T19HBD_20240206T143346Z_20240212T222640Z_L8_30_v1_GEN-DIST-DATE.tif\n",
      "  warnings.warn(f'File already exists, skipping download: {os.path.join(path, filename)}')\n",
      "dates:   4%|████▍                                                                                                               | 1/26 [00:01<00:31,  1.25s/it]/Users/cmarshak/miniforge3/envs/dist-s1/lib/python3.12/site-packages/asf_search/download/download.py:68: UserWarning: File already exists, skipping download: out/chile_fire_2024/dist_hls/2024-02-13__L8/OPERA_L3_DIST-ALERT-HLS_T19HBD_20240213T143932Z_20240219T235847Z_L8_30_v1_VEG-DIST-STATUS.tif\n",
      "  warnings.warn(f'File already exists, skipping download: {os.path.join(path, filename)}')\n",
      "/Users/cmarshak/miniforge3/envs/dist-s1/lib/python3.12/site-packages/asf_search/download/download.py:68: UserWarning: File already exists, skipping download: out/chile_fire_2024/dist_hls/2024-02-13__L8/OPERA_L3_DIST-ALERT-HLS_T19HBD_20240213T143932Z_20240219T235847Z_L8_30_v1_GEN-DIST-STATUS.tif\n",
      "  warnings.warn(f'File already exists, skipping download: {os.path.join(path, filename)}')\n",
      "/Users/cmarshak/miniforge3/envs/dist-s1/lib/python3.12/site-packages/asf_search/download/download.py:68: UserWarning: File already exists, skipping download: out/chile_fire_2024/dist_hls/2024-02-13__L8/OPERA_L3_DIST-ALERT-HLS_T19HBD_20240213T143932Z_20240219T235847Z_L8_30_v1_VEG-DIST-DATE.tif\n",
      "  warnings.warn(f'File already exists, skipping download: {os.path.join(path, filename)}')\n",
      "/Users/cmarshak/miniforge3/envs/dist-s1/lib/python3.12/site-packages/asf_search/download/download.py:68: UserWarning: File already exists, skipping download: out/chile_fire_2024/dist_hls/2024-02-13__L8/OPERA_L3_DIST-ALERT-HLS_T19HBD_20240213T143932Z_20240219T235847Z_L8_30_v1_GEN-DIST-DATE.tif\n",
      "  warnings.warn(f'File already exists, skipping download: {os.path.join(path, filename)}')\n",
      "dates:   8%|████████▉                                                                                                           | 2/26 [00:02<00:30,  1.26s/it]/Users/cmarshak/miniforge3/envs/dist-s1/lib/python3.12/site-packages/asf_search/download/download.py:68: UserWarning: File already exists, skipping download: out/chile_fire_2024/dist_hls/2024-02-22__L8/OPERA_L3_DIST-ALERT-HLS_T19HBD_20240222T143343Z_20240229T203550Z_L8_30_v1_VEG-DIST-STATUS.tif\n",
      "  warnings.warn(f'File already exists, skipping download: {os.path.join(path, filename)}')\n",
      "/Users/cmarshak/miniforge3/envs/dist-s1/lib/python3.12/site-packages/asf_search/download/download.py:68: UserWarning: File already exists, skipping download: out/chile_fire_2024/dist_hls/2024-02-22__L8/OPERA_L3_DIST-ALERT-HLS_T19HBD_20240222T143343Z_20240229T203550Z_L8_30_v1_GEN-DIST-STATUS.tif\n",
      "  warnings.warn(f'File already exists, skipping download: {os.path.join(path, filename)}')\n",
      "/Users/cmarshak/miniforge3/envs/dist-s1/lib/python3.12/site-packages/asf_search/download/download.py:68: UserWarning: File already exists, skipping download: out/chile_fire_2024/dist_hls/2024-02-22__L8/OPERA_L3_DIST-ALERT-HLS_T19HBD_20240222T143343Z_20240229T203550Z_L8_30_v1_VEG-DIST-DATE.tif\n",
      "  warnings.warn(f'File already exists, skipping download: {os.path.join(path, filename)}')\n",
      "/Users/cmarshak/miniforge3/envs/dist-s1/lib/python3.12/site-packages/asf_search/download/download.py:68: UserWarning: File already exists, skipping download: out/chile_fire_2024/dist_hls/2024-02-22__L8/OPERA_L3_DIST-ALERT-HLS_T19HBD_20240222T143343Z_20240229T203550Z_L8_30_v1_GEN-DIST-DATE.tif\n",
      "  warnings.warn(f'File already exists, skipping download: {os.path.join(path, filename)}')\n",
      "dates:  12%|█████████████▍                                                                                                      | 3/26 [00:03<00:28,  1.25s/it]/Users/cmarshak/miniforge3/envs/dist-s1/lib/python3.12/site-packages/asf_search/download/download.py:68: UserWarning: File already exists, skipping download: out/chile_fire_2024/dist_hls/2024-02-29__L8/OPERA_L3_DIST-ALERT-HLS_T19HBD_20240229T143926Z_20240305T133033Z_L8_30_v1_VEG-DIST-STATUS.tif\n",
      "  warnings.warn(f'File already exists, skipping download: {os.path.join(path, filename)}')\n",
      "/Users/cmarshak/miniforge3/envs/dist-s1/lib/python3.12/site-packages/asf_search/download/download.py:68: UserWarning: File already exists, skipping download: out/chile_fire_2024/dist_hls/2024-02-29__L8/OPERA_L3_DIST-ALERT-HLS_T19HBD_20240229T143926Z_20240305T133033Z_L8_30_v1_GEN-DIST-STATUS.tif\n",
      "  warnings.warn(f'File already exists, skipping download: {os.path.join(path, filename)}')\n",
      "/Users/cmarshak/miniforge3/envs/dist-s1/lib/python3.12/site-packages/asf_search/download/download.py:68: UserWarning: File already exists, skipping download: out/chile_fire_2024/dist_hls/2024-02-29__L8/OPERA_L3_DIST-ALERT-HLS_T19HBD_20240229T143926Z_20240305T133033Z_L8_30_v1_VEG-DIST-DATE.tif\n",
      "  warnings.warn(f'File already exists, skipping download: {os.path.join(path, filename)}')\n",
      "/Users/cmarshak/miniforge3/envs/dist-s1/lib/python3.12/site-packages/asf_search/download/download.py:68: UserWarning: File already exists, skipping download: out/chile_fire_2024/dist_hls/2024-02-29__L8/OPERA_L3_DIST-ALERT-HLS_T19HBD_20240229T143926Z_20240305T133033Z_L8_30_v1_GEN-DIST-DATE.tif\n",
      "  warnings.warn(f'File already exists, skipping download: {os.path.join(path, filename)}')\n",
      "dates:  15%|█████████████████▊                                                                                                  | 4/26 [00:05<00:27,  1.25s/it]/Users/cmarshak/miniforge3/envs/dist-s1/lib/python3.12/site-packages/asf_search/download/download.py:68: UserWarning: File already exists, skipping download: out/chile_fire_2024/dist_hls/2024-03-09__L8/OPERA_L3_DIST-ALERT-HLS_T19HBD_20240309T143332Z_20240320T160353Z_L8_30_v1_VEG-DIST-STATUS.tif\n",
      "  warnings.warn(f'File already exists, skipping download: {os.path.join(path, filename)}')\n",
      "/Users/cmarshak/miniforge3/envs/dist-s1/lib/python3.12/site-packages/asf_search/download/download.py:68: UserWarning: File already exists, skipping download: out/chile_fire_2024/dist_hls/2024-03-09__L8/OPERA_L3_DIST-ALERT-HLS_T19HBD_20240309T143332Z_20240320T160353Z_L8_30_v1_GEN-DIST-STATUS.tif\n",
      "  warnings.warn(f'File already exists, skipping download: {os.path.join(path, filename)}')\n",
      "/Users/cmarshak/miniforge3/envs/dist-s1/lib/python3.12/site-packages/asf_search/download/download.py:68: UserWarning: File already exists, skipping download: out/chile_fire_2024/dist_hls/2024-03-09__L8/OPERA_L3_DIST-ALERT-HLS_T19HBD_20240309T143332Z_20240320T160353Z_L8_30_v1_VEG-DIST-DATE.tif\n",
      "  warnings.warn(f'File already exists, skipping download: {os.path.join(path, filename)}')\n",
      "/Users/cmarshak/miniforge3/envs/dist-s1/lib/python3.12/site-packages/asf_search/download/download.py:68: UserWarning: File already exists, skipping download: out/chile_fire_2024/dist_hls/2024-03-09__L8/OPERA_L3_DIST-ALERT-HLS_T19HBD_20240309T143332Z_20240320T160353Z_L8_30_v1_GEN-DIST-DATE.tif\n",
      "  warnings.warn(f'File already exists, skipping download: {os.path.join(path, filename)}')\n",
      "dates:  19%|██████████████████████▎                                                                                             | 5/26 [00:06<00:26,  1.25s/it]/Users/cmarshak/miniforge3/envs/dist-s1/lib/python3.12/site-packages/asf_search/download/download.py:68: UserWarning: File already exists, skipping download: out/chile_fire_2024/dist_hls/2024-03-16__L8/OPERA_L3_DIST-ALERT-HLS_T19HBD_20240316T143916Z_20240318T082942Z_L8_30_v1_VEG-DIST-STATUS.tif\n",
      "  warnings.warn(f'File already exists, skipping download: {os.path.join(path, filename)}')\n",
      "/Users/cmarshak/miniforge3/envs/dist-s1/lib/python3.12/site-packages/asf_search/download/download.py:68: UserWarning: File already exists, skipping download: out/chile_fire_2024/dist_hls/2024-03-16__L8/OPERA_L3_DIST-ALERT-HLS_T19HBD_20240316T143916Z_20240318T072833Z_L8_30_v1_VEG-DIST-STATUS.tif\n",
      "  warnings.warn(f'File already exists, skipping download: {os.path.join(path, filename)}')\n",
      "/Users/cmarshak/miniforge3/envs/dist-s1/lib/python3.12/site-packages/asf_search/download/download.py:68: UserWarning: File already exists, skipping download: out/chile_fire_2024/dist_hls/2024-03-16__L8/OPERA_L3_DIST-ALERT-HLS_T19HBD_20240316T143916Z_20240318T072833Z_L8_30_v1_GEN-DIST-STATUS.tif\n",
      "  warnings.warn(f'File already exists, skipping download: {os.path.join(path, filename)}')\n",
      "/Users/cmarshak/miniforge3/envs/dist-s1/lib/python3.12/site-packages/asf_search/download/download.py:68: UserWarning: File already exists, skipping download: out/chile_fire_2024/dist_hls/2024-03-16__L8/OPERA_L3_DIST-ALERT-HLS_T19HBD_20240316T143916Z_20240318T082942Z_L8_30_v1_GEN-DIST-STATUS.tif\n",
      "  warnings.warn(f'File already exists, skipping download: {os.path.join(path, filename)}')\n",
      "/Users/cmarshak/miniforge3/envs/dist-s1/lib/python3.12/site-packages/asf_search/download/download.py:68: UserWarning: File already exists, skipping download: out/chile_fire_2024/dist_hls/2024-03-16__L8/OPERA_L3_DIST-ALERT-HLS_T19HBD_20240316T143916Z_20240318T082942Z_L8_30_v1_VEG-DIST-DATE.tif\n",
      "  warnings.warn(f'File already exists, skipping download: {os.path.join(path, filename)}')\n",
      "/Users/cmarshak/miniforge3/envs/dist-s1/lib/python3.12/site-packages/asf_search/download/download.py:68: UserWarning: File already exists, skipping download: out/chile_fire_2024/dist_hls/2024-03-16__L8/OPERA_L3_DIST-ALERT-HLS_T19HBD_20240316T143916Z_20240318T072833Z_L8_30_v1_VEG-DIST-DATE.tif\n",
      "  warnings.warn(f'File already exists, skipping download: {os.path.join(path, filename)}')\n",
      "/Users/cmarshak/miniforge3/envs/dist-s1/lib/python3.12/site-packages/asf_search/download/download.py:68: UserWarning: File already exists, skipping download: out/chile_fire_2024/dist_hls/2024-03-16__L8/OPERA_L3_DIST-ALERT-HLS_T19HBD_20240316T143916Z_20240318T082942Z_L8_30_v1_GEN-DIST-DATE.tif\n",
      "  warnings.warn(f'File already exists, skipping download: {os.path.join(path, filename)}')\n",
      "/Users/cmarshak/miniforge3/envs/dist-s1/lib/python3.12/site-packages/asf_search/download/download.py:68: UserWarning: File already exists, skipping download: out/chile_fire_2024/dist_hls/2024-03-16__L8/OPERA_L3_DIST-ALERT-HLS_T19HBD_20240316T143916Z_20240318T072833Z_L8_30_v1_GEN-DIST-DATE.tif\n",
      "  warnings.warn(f'File already exists, skipping download: {os.path.join(path, filename)}')\n",
      "dates:  23%|██████████████████████████▊                                                                                         | 6/26 [00:07<00:25,  1.26s/it]/Users/cmarshak/miniforge3/envs/dist-s1/lib/python3.12/site-packages/asf_search/download/download.py:68: UserWarning: File already exists, skipping download: out/chile_fire_2024/dist_hls/2024-03-25__L8/OPERA_L3_DIST-ALERT-HLS_T19HBD_20240325T143319Z_20240327T193158Z_L8_30_v1_VEG-DIST-STATUS.tif\n",
      "  warnings.warn(f'File already exists, skipping download: {os.path.join(path, filename)}')\n",
      "/Users/cmarshak/miniforge3/envs/dist-s1/lib/python3.12/site-packages/asf_search/download/download.py:68: UserWarning: File already exists, skipping download: out/chile_fire_2024/dist_hls/2024-03-25__L8/OPERA_L3_DIST-ALERT-HLS_T19HBD_20240325T143319Z_20240327T193158Z_L8_30_v1_GEN-DIST-STATUS.tif\n",
      "  warnings.warn(f'File already exists, skipping download: {os.path.join(path, filename)}')\n",
      "/Users/cmarshak/miniforge3/envs/dist-s1/lib/python3.12/site-packages/asf_search/download/download.py:68: UserWarning: File already exists, skipping download: out/chile_fire_2024/dist_hls/2024-03-25__L8/OPERA_L3_DIST-ALERT-HLS_T19HBD_20240325T143319Z_20240327T193158Z_L8_30_v1_VEG-DIST-DATE.tif\n",
      "  warnings.warn(f'File already exists, skipping download: {os.path.join(path, filename)}')\n",
      "/Users/cmarshak/miniforge3/envs/dist-s1/lib/python3.12/site-packages/asf_search/download/download.py:68: UserWarning: File already exists, skipping download: out/chile_fire_2024/dist_hls/2024-03-25__L8/OPERA_L3_DIST-ALERT-HLS_T19HBD_20240325T143319Z_20240327T193158Z_L8_30_v1_GEN-DIST-DATE.tif\n",
      "  warnings.warn(f'File already exists, skipping download: {os.path.join(path, filename)}')\n",
      "dates:  27%|███████████████████████████████▏                                                                                    | 7/26 [00:08<00:23,  1.26s/it]/Users/cmarshak/miniforge3/envs/dist-s1/lib/python3.12/site-packages/asf_search/download/download.py:68: UserWarning: File already exists, skipping download: out/chile_fire_2024/dist_hls/2024-04-01__L8/OPERA_L3_DIST-ALERT-HLS_T19HBD_20240401T143904Z_20240405T045140Z_L8_30_v1_VEG-DIST-STATUS.tif\n",
      "  warnings.warn(f'File already exists, skipping download: {os.path.join(path, filename)}')\n",
      "/Users/cmarshak/miniforge3/envs/dist-s1/lib/python3.12/site-packages/asf_search/download/download.py:68: UserWarning: File already exists, skipping download: out/chile_fire_2024/dist_hls/2024-04-01__L8/OPERA_L3_DIST-ALERT-HLS_T19HBD_20240401T143904Z_20240405T045140Z_L8_30_v1_GEN-DIST-STATUS.tif\n",
      "  warnings.warn(f'File already exists, skipping download: {os.path.join(path, filename)}')\n",
      "/Users/cmarshak/miniforge3/envs/dist-s1/lib/python3.12/site-packages/asf_search/download/download.py:68: UserWarning: File already exists, skipping download: out/chile_fire_2024/dist_hls/2024-04-01__L8/OPERA_L3_DIST-ALERT-HLS_T19HBD_20240401T143904Z_20240405T045140Z_L8_30_v1_VEG-DIST-DATE.tif\n",
      "  warnings.warn(f'File already exists, skipping download: {os.path.join(path, filename)}')\n",
      "/Users/cmarshak/miniforge3/envs/dist-s1/lib/python3.12/site-packages/asf_search/download/download.py:68: UserWarning: File already exists, skipping download: out/chile_fire_2024/dist_hls/2024-04-01__L8/OPERA_L3_DIST-ALERT-HLS_T19HBD_20240401T143904Z_20240405T045140Z_L8_30_v1_GEN-DIST-DATE.tif\n",
      "  warnings.warn(f'File already exists, skipping download: {os.path.join(path, filename)}')\n",
      "dates:  31%|███████████████████████████████████▋                                                                                | 8/26 [00:10<00:22,  1.25s/it]/Users/cmarshak/miniforge3/envs/dist-s1/lib/python3.12/site-packages/asf_search/download/download.py:68: UserWarning: File already exists, skipping download: out/chile_fire_2024/dist_hls/2024-02-05__L9/OPERA_L3_DIST-ALERT-HLS_T19HBD_20240205T143946Z_20240212T222605Z_L9_30_v1_VEG-DIST-STATUS.tif\n",
      "  warnings.warn(f'File already exists, skipping download: {os.path.join(path, filename)}')\n",
      "/Users/cmarshak/miniforge3/envs/dist-s1/lib/python3.12/site-packages/asf_search/download/download.py:68: UserWarning: File already exists, skipping download: out/chile_fire_2024/dist_hls/2024-02-05__L9/OPERA_L3_DIST-ALERT-HLS_T19HBD_20240205T143946Z_20240212T222605Z_L9_30_v1_GEN-DIST-STATUS.tif\n",
      "  warnings.warn(f'File already exists, skipping download: {os.path.join(path, filename)}')\n",
      "/Users/cmarshak/miniforge3/envs/dist-s1/lib/python3.12/site-packages/asf_search/download/download.py:68: UserWarning: File already exists, skipping download: out/chile_fire_2024/dist_hls/2024-02-05__L9/OPERA_L3_DIST-ALERT-HLS_T19HBD_20240205T143946Z_20240212T222605Z_L9_30_v1_VEG-DIST-DATE.tif\n",
      "  warnings.warn(f'File already exists, skipping download: {os.path.join(path, filename)}')\n",
      "/Users/cmarshak/miniforge3/envs/dist-s1/lib/python3.12/site-packages/asf_search/download/download.py:68: UserWarning: File already exists, skipping download: out/chile_fire_2024/dist_hls/2024-02-05__L9/OPERA_L3_DIST-ALERT-HLS_T19HBD_20240205T143946Z_20240212T222605Z_L9_30_v1_GEN-DIST-DATE.tif\n",
      "  warnings.warn(f'File already exists, skipping download: {os.path.join(path, filename)}')\n",
      "dates:  35%|████████████████████████████████████████▏                                                                           | 9/26 [00:11<00:21,  1.26s/it]/Users/cmarshak/miniforge3/envs/dist-s1/lib/python3.12/site-packages/asf_search/download/download.py:68: UserWarning: File already exists, skipping download: out/chile_fire_2024/dist_hls/2024-02-14__L9/OPERA_L3_DIST-ALERT-HLS_T19HBD_20240214T143355Z_20240219T235915Z_L9_30_v1_VEG-DIST-STATUS.tif\n",
      "  warnings.warn(f'File already exists, skipping download: {os.path.join(path, filename)}')\n",
      "/Users/cmarshak/miniforge3/envs/dist-s1/lib/python3.12/site-packages/asf_search/download/download.py:68: UserWarning: File already exists, skipping download: out/chile_fire_2024/dist_hls/2024-02-14__L9/OPERA_L3_DIST-ALERT-HLS_T19HBD_20240214T143355Z_20240219T235915Z_L9_30_v1_GEN-DIST-STATUS.tif\n",
      "  warnings.warn(f'File already exists, skipping download: {os.path.join(path, filename)}')\n",
      "/Users/cmarshak/miniforge3/envs/dist-s1/lib/python3.12/site-packages/asf_search/download/download.py:68: UserWarning: File already exists, skipping download: out/chile_fire_2024/dist_hls/2024-02-14__L9/OPERA_L3_DIST-ALERT-HLS_T19HBD_20240214T143355Z_20240219T235915Z_L9_30_v1_VEG-DIST-DATE.tif\n",
      "  warnings.warn(f'File already exists, skipping download: {os.path.join(path, filename)}')\n",
      "/Users/cmarshak/miniforge3/envs/dist-s1/lib/python3.12/site-packages/asf_search/download/download.py:68: UserWarning: File already exists, skipping download: out/chile_fire_2024/dist_hls/2024-02-14__L9/OPERA_L3_DIST-ALERT-HLS_T19HBD_20240214T143355Z_20240219T235915Z_L9_30_v1_GEN-DIST-DATE.tif\n",
      "  warnings.warn(f'File already exists, skipping download: {os.path.join(path, filename)}')\n",
      "dates:  38%|████████████████████████████████████████████▏                                                                      | 10/26 [00:12<00:20,  1.26s/it]/Users/cmarshak/miniforge3/envs/dist-s1/lib/python3.12/site-packages/asf_search/download/download.py:68: UserWarning: File already exists, skipping download: out/chile_fire_2024/dist_hls/2024-02-21__L9/OPERA_L3_DIST-ALERT-HLS_T19HBD_20240221T143933Z_20240301T194219Z_L9_30_v1_VEG-DIST-STATUS.tif\n",
      "  warnings.warn(f'File already exists, skipping download: {os.path.join(path, filename)}')\n",
      "/Users/cmarshak/miniforge3/envs/dist-s1/lib/python3.12/site-packages/asf_search/download/download.py:68: UserWarning: File already exists, skipping download: out/chile_fire_2024/dist_hls/2024-02-21__L9/OPERA_L3_DIST-ALERT-HLS_T19HBD_20240221T143933Z_20240301T194219Z_L9_30_v1_GEN-DIST-STATUS.tif\n",
      "  warnings.warn(f'File already exists, skipping download: {os.path.join(path, filename)}')\n",
      "/Users/cmarshak/miniforge3/envs/dist-s1/lib/python3.12/site-packages/asf_search/download/download.py:68: UserWarning: File already exists, skipping download: out/chile_fire_2024/dist_hls/2024-02-21__L9/OPERA_L3_DIST-ALERT-HLS_T19HBD_20240221T143933Z_20240301T194219Z_L9_30_v1_VEG-DIST-DATE.tif\n",
      "  warnings.warn(f'File already exists, skipping download: {os.path.join(path, filename)}')\n",
      "/Users/cmarshak/miniforge3/envs/dist-s1/lib/python3.12/site-packages/asf_search/download/download.py:68: UserWarning: File already exists, skipping download: out/chile_fire_2024/dist_hls/2024-02-21__L9/OPERA_L3_DIST-ALERT-HLS_T19HBD_20240221T143933Z_20240301T194219Z_L9_30_v1_GEN-DIST-DATE.tif\n",
      "  warnings.warn(f'File already exists, skipping download: {os.path.join(path, filename)}')\n",
      "dates:  42%|████████████████████████████████████████████████▋                                                                  | 11/26 [00:13<00:19,  1.28s/it]/Users/cmarshak/miniforge3/envs/dist-s1/lib/python3.12/site-packages/asf_search/download/download.py:68: UserWarning: File already exists, skipping download: out/chile_fire_2024/dist_hls/2024-03-01__L9/OPERA_L3_DIST-ALERT-HLS_T19HBD_20240301T143350Z_20240305T213234Z_L9_30_v1_VEG-DIST-STATUS.tif\n",
      "  warnings.warn(f'File already exists, skipping download: {os.path.join(path, filename)}')\n",
      "/Users/cmarshak/miniforge3/envs/dist-s1/lib/python3.12/site-packages/asf_search/download/download.py:68: UserWarning: File already exists, skipping download: out/chile_fire_2024/dist_hls/2024-03-01__L9/OPERA_L3_DIST-ALERT-HLS_T19HBD_20240301T143350Z_20240305T213234Z_L9_30_v1_GEN-DIST-STATUS.tif\n",
      "  warnings.warn(f'File already exists, skipping download: {os.path.join(path, filename)}')\n",
      "/Users/cmarshak/miniforge3/envs/dist-s1/lib/python3.12/site-packages/asf_search/download/download.py:68: UserWarning: File already exists, skipping download: out/chile_fire_2024/dist_hls/2024-03-01__L9/OPERA_L3_DIST-ALERT-HLS_T19HBD_20240301T143350Z_20240305T213234Z_L9_30_v1_VEG-DIST-DATE.tif\n",
      "  warnings.warn(f'File already exists, skipping download: {os.path.join(path, filename)}')\n",
      "/Users/cmarshak/miniforge3/envs/dist-s1/lib/python3.12/site-packages/asf_search/download/download.py:68: UserWarning: File already exists, skipping download: out/chile_fire_2024/dist_hls/2024-03-01__L9/OPERA_L3_DIST-ALERT-HLS_T19HBD_20240301T143350Z_20240305T213234Z_L9_30_v1_GEN-DIST-DATE.tif\n",
      "  warnings.warn(f'File already exists, skipping download: {os.path.join(path, filename)}')\n",
      "dates:  46%|█████████████████████████████████████████████████████                                                              | 12/26 [00:15<00:17,  1.27s/it]/Users/cmarshak/miniforge3/envs/dist-s1/lib/python3.12/site-packages/asf_search/download/download.py:68: UserWarning: File already exists, skipping download: out/chile_fire_2024/dist_hls/2024-03-17__L9/OPERA_L3_DIST-ALERT-HLS_T19HBD_20240317T143349Z_20240319T083904Z_L9_30_v1_VEG-DIST-STATUS.tif\n",
      "  warnings.warn(f'File already exists, skipping download: {os.path.join(path, filename)}')\n",
      "/Users/cmarshak/miniforge3/envs/dist-s1/lib/python3.12/site-packages/asf_search/download/download.py:68: UserWarning: File already exists, skipping download: out/chile_fire_2024/dist_hls/2024-03-17__L9/OPERA_L3_DIST-ALERT-HLS_T19HBD_20240317T143349Z_20240319T102144Z_L9_30_v1_VEG-DIST-STATUS.tif\n",
      "  warnings.warn(f'File already exists, skipping download: {os.path.join(path, filename)}')\n",
      "/Users/cmarshak/miniforge3/envs/dist-s1/lib/python3.12/site-packages/asf_search/download/download.py:68: UserWarning: File already exists, skipping download: out/chile_fire_2024/dist_hls/2024-03-17__L9/OPERA_L3_DIST-ALERT-HLS_T19HBD_20240317T143349Z_20240319T083904Z_L9_30_v1_GEN-DIST-STATUS.tif\n",
      "  warnings.warn(f'File already exists, skipping download: {os.path.join(path, filename)}')\n",
      "/Users/cmarshak/miniforge3/envs/dist-s1/lib/python3.12/site-packages/asf_search/download/download.py:68: UserWarning: File already exists, skipping download: out/chile_fire_2024/dist_hls/2024-03-17__L9/OPERA_L3_DIST-ALERT-HLS_T19HBD_20240317T143349Z_20240319T102144Z_L9_30_v1_GEN-DIST-STATUS.tif\n",
      "  warnings.warn(f'File already exists, skipping download: {os.path.join(path, filename)}')\n",
      "/Users/cmarshak/miniforge3/envs/dist-s1/lib/python3.12/site-packages/asf_search/download/download.py:68: UserWarning: File already exists, skipping download: out/chile_fire_2024/dist_hls/2024-03-17__L9/OPERA_L3_DIST-ALERT-HLS_T19HBD_20240317T143349Z_20240319T102144Z_L9_30_v1_VEG-DIST-DATE.tif\n",
      "  warnings.warn(f'File already exists, skipping download: {os.path.join(path, filename)}')\n",
      "/Users/cmarshak/miniforge3/envs/dist-s1/lib/python3.12/site-packages/asf_search/download/download.py:68: UserWarning: File already exists, skipping download: out/chile_fire_2024/dist_hls/2024-03-17__L9/OPERA_L3_DIST-ALERT-HLS_T19HBD_20240317T143349Z_20240319T083904Z_L9_30_v1_VEG-DIST-DATE.tif\n",
      "  warnings.warn(f'File already exists, skipping download: {os.path.join(path, filename)}')\n",
      "/Users/cmarshak/miniforge3/envs/dist-s1/lib/python3.12/site-packages/asf_search/download/download.py:68: UserWarning: File already exists, skipping download: out/chile_fire_2024/dist_hls/2024-03-17__L9/OPERA_L3_DIST-ALERT-HLS_T19HBD_20240317T143349Z_20240319T083904Z_L9_30_v1_GEN-DIST-DATE.tif\n",
      "  warnings.warn(f'File already exists, skipping download: {os.path.join(path, filename)}')\n",
      "/Users/cmarshak/miniforge3/envs/dist-s1/lib/python3.12/site-packages/asf_search/download/download.py:68: UserWarning: File already exists, skipping download: out/chile_fire_2024/dist_hls/2024-03-17__L9/OPERA_L3_DIST-ALERT-HLS_T19HBD_20240317T143349Z_20240319T102144Z_L9_30_v1_GEN-DIST-DATE.tif\n",
      "  warnings.warn(f'File already exists, skipping download: {os.path.join(path, filename)}')\n",
      "dates:  50%|█████████████████████████████████████████████████████████▌                                                         | 13/26 [00:16<00:16,  1.28s/it]/Users/cmarshak/miniforge3/envs/dist-s1/lib/python3.12/site-packages/asf_search/download/download.py:68: UserWarning: File already exists, skipping download: out/chile_fire_2024/dist_hls/2024-03-24__L9/OPERA_L3_DIST-ALERT-HLS_T19HBD_20240324T143933Z_20240326T233942Z_L9_30_v1_VEG-DIST-STATUS.tif\n",
      "  warnings.warn(f'File already exists, skipping download: {os.path.join(path, filename)}')\n",
      "/Users/cmarshak/miniforge3/envs/dist-s1/lib/python3.12/site-packages/asf_search/download/download.py:68: UserWarning: File already exists, skipping download: out/chile_fire_2024/dist_hls/2024-03-24__L9/OPERA_L3_DIST-ALERT-HLS_T19HBD_20240324T143933Z_20240326T233942Z_L9_30_v1_GEN-DIST-STATUS.tif\n",
      "  warnings.warn(f'File already exists, skipping download: {os.path.join(path, filename)}')\n",
      "/Users/cmarshak/miniforge3/envs/dist-s1/lib/python3.12/site-packages/asf_search/download/download.py:68: UserWarning: File already exists, skipping download: out/chile_fire_2024/dist_hls/2024-03-24__L9/OPERA_L3_DIST-ALERT-HLS_T19HBD_20240324T143933Z_20240326T233942Z_L9_30_v1_VEG-DIST-DATE.tif\n",
      "  warnings.warn(f'File already exists, skipping download: {os.path.join(path, filename)}')\n",
      "/Users/cmarshak/miniforge3/envs/dist-s1/lib/python3.12/site-packages/asf_search/download/download.py:68: UserWarning: File already exists, skipping download: out/chile_fire_2024/dist_hls/2024-03-24__L9/OPERA_L3_DIST-ALERT-HLS_T19HBD_20240324T143933Z_20240326T233942Z_L9_30_v1_GEN-DIST-DATE.tif\n",
      "  warnings.warn(f'File already exists, skipping download: {os.path.join(path, filename)}')\n",
      "dates:  54%|█████████████████████████████████████████████████████████████▉                                                     | 14/26 [00:17<00:15,  1.27s/it]/Users/cmarshak/miniforge3/envs/dist-s1/lib/python3.12/site-packages/asf_search/download/download.py:68: UserWarning: File already exists, skipping download: out/chile_fire_2024/dist_hls/2024-04-02__L9/OPERA_L3_DIST-ALERT-HLS_T19HBD_20240402T143341Z_20240405T045200Z_L9_30_v1_VEG-DIST-STATUS.tif\n",
      "  warnings.warn(f'File already exists, skipping download: {os.path.join(path, filename)}')\n",
      "/Users/cmarshak/miniforge3/envs/dist-s1/lib/python3.12/site-packages/asf_search/download/download.py:68: UserWarning: File already exists, skipping download: out/chile_fire_2024/dist_hls/2024-04-02__L9/OPERA_L3_DIST-ALERT-HLS_T19HBD_20240402T143341Z_20240405T045200Z_L9_30_v1_GEN-DIST-STATUS.tif\n",
      "  warnings.warn(f'File already exists, skipping download: {os.path.join(path, filename)}')\n",
      "/Users/cmarshak/miniforge3/envs/dist-s1/lib/python3.12/site-packages/asf_search/download/download.py:68: UserWarning: File already exists, skipping download: out/chile_fire_2024/dist_hls/2024-04-02__L9/OPERA_L3_DIST-ALERT-HLS_T19HBD_20240402T143341Z_20240405T045200Z_L9_30_v1_VEG-DIST-DATE.tif\n",
      "  warnings.warn(f'File already exists, skipping download: {os.path.join(path, filename)}')\n",
      "/Users/cmarshak/miniforge3/envs/dist-s1/lib/python3.12/site-packages/asf_search/download/download.py:68: UserWarning: File already exists, skipping download: out/chile_fire_2024/dist_hls/2024-04-02__L9/OPERA_L3_DIST-ALERT-HLS_T19HBD_20240402T143341Z_20240405T045200Z_L9_30_v1_GEN-DIST-DATE.tif\n",
      "  warnings.warn(f'File already exists, skipping download: {os.path.join(path, filename)}')\n",
      "dates:  58%|██████████████████████████████████████████████████████████████████▎                                                | 15/26 [00:18<00:13,  1.27s/it]/Users/cmarshak/miniforge3/envs/dist-s1/lib/python3.12/site-packages/asf_search/download/download.py:68: UserWarning: File already exists, skipping download: out/chile_fire_2024/dist_hls/2024-02-02__S2A/OPERA_L3_DIST-ALERT-HLS_T19HBD_20240202T143741Z_20240212T222548Z_S2A_30_v1_VEG-DIST-STATUS.tif\n",
      "  warnings.warn(f'File already exists, skipping download: {os.path.join(path, filename)}')\n",
      "/Users/cmarshak/miniforge3/envs/dist-s1/lib/python3.12/site-packages/asf_search/download/download.py:68: UserWarning: File already exists, skipping download: out/chile_fire_2024/dist_hls/2024-02-02__S2A/OPERA_L3_DIST-ALERT-HLS_T19HBD_20240202T143741Z_20240212T222548Z_S2A_30_v1_GEN-DIST-STATUS.tif\n",
      "  warnings.warn(f'File already exists, skipping download: {os.path.join(path, filename)}')\n",
      "/Users/cmarshak/miniforge3/envs/dist-s1/lib/python3.12/site-packages/asf_search/download/download.py:68: UserWarning: File already exists, skipping download: out/chile_fire_2024/dist_hls/2024-02-02__S2A/OPERA_L3_DIST-ALERT-HLS_T19HBD_20240202T143741Z_20240212T222548Z_S2A_30_v1_VEG-DIST-DATE.tif\n",
      "  warnings.warn(f'File already exists, skipping download: {os.path.join(path, filename)}')\n",
      "/Users/cmarshak/miniforge3/envs/dist-s1/lib/python3.12/site-packages/asf_search/download/download.py:68: UserWarning: File already exists, skipping download: out/chile_fire_2024/dist_hls/2024-02-02__S2A/OPERA_L3_DIST-ALERT-HLS_T19HBD_20240202T143741Z_20240212T222548Z_S2A_30_v1_GEN-DIST-DATE.tif\n",
      "  warnings.warn(f'File already exists, skipping download: {os.path.join(path, filename)}')\n",
      "dates:  62%|██████████████████████████████████████████████████████████████████████▊                                            | 16/26 [00:20<00:12,  1.26s/it]/Users/cmarshak/miniforge3/envs/dist-s1/lib/python3.12/site-packages/asf_search/download/download.py:68: UserWarning: File already exists, skipping download: out/chile_fire_2024/dist_hls/2024-02-12__S2A/OPERA_L3_DIST-ALERT-HLS_T19HBD_20240212T143741Z_20240219T235820Z_S2A_30_v1_VEG-DIST-STATUS.tif\n",
      "  warnings.warn(f'File already exists, skipping download: {os.path.join(path, filename)}')\n",
      "/Users/cmarshak/miniforge3/envs/dist-s1/lib/python3.12/site-packages/asf_search/download/download.py:68: UserWarning: File already exists, skipping download: out/chile_fire_2024/dist_hls/2024-02-12__S2A/OPERA_L3_DIST-ALERT-HLS_T19HBD_20240212T143741Z_20240219T235820Z_S2A_30_v1_GEN-DIST-STATUS.tif\n",
      "  warnings.warn(f'File already exists, skipping download: {os.path.join(path, filename)}')\n",
      "/Users/cmarshak/miniforge3/envs/dist-s1/lib/python3.12/site-packages/asf_search/download/download.py:68: UserWarning: File already exists, skipping download: out/chile_fire_2024/dist_hls/2024-02-12__S2A/OPERA_L3_DIST-ALERT-HLS_T19HBD_20240212T143741Z_20240219T235820Z_S2A_30_v1_VEG-DIST-DATE.tif\n",
      "  warnings.warn(f'File already exists, skipping download: {os.path.join(path, filename)}')\n",
      "/Users/cmarshak/miniforge3/envs/dist-s1/lib/python3.12/site-packages/asf_search/download/download.py:68: UserWarning: File already exists, skipping download: out/chile_fire_2024/dist_hls/2024-02-12__S2A/OPERA_L3_DIST-ALERT-HLS_T19HBD_20240212T143741Z_20240219T235820Z_S2A_30_v1_GEN-DIST-DATE.tif\n",
      "  warnings.warn(f'File already exists, skipping download: {os.path.join(path, filename)}')\n",
      "dates:  65%|███████████████████████████████████████████████████████████████████████████▏                                       | 17/26 [00:21<00:11,  1.26s/it]/Users/cmarshak/miniforge3/envs/dist-s1/lib/python3.12/site-packages/asf_search/download/download.py:68: UserWarning: File already exists, skipping download: out/chile_fire_2024/dist_hls/2024-03-03__S2A/OPERA_L3_DIST-ALERT-HLS_T19HBD_20240303T143741Z_20240306T050302Z_S2A_30_v1_VEG-DIST-STATUS.tif\n",
      "  warnings.warn(f'File already exists, skipping download: {os.path.join(path, filename)}')\n",
      "/Users/cmarshak/miniforge3/envs/dist-s1/lib/python3.12/site-packages/asf_search/download/download.py:68: UserWarning: File already exists, skipping download: out/chile_fire_2024/dist_hls/2024-03-03__S2A/OPERA_L3_DIST-ALERT-HLS_T19HBD_20240303T143741Z_20240306T050302Z_S2A_30_v1_GEN-DIST-STATUS.tif\n",
      "  warnings.warn(f'File already exists, skipping download: {os.path.join(path, filename)}')\n",
      "/Users/cmarshak/miniforge3/envs/dist-s1/lib/python3.12/site-packages/asf_search/download/download.py:68: UserWarning: File already exists, skipping download: out/chile_fire_2024/dist_hls/2024-03-03__S2A/OPERA_L3_DIST-ALERT-HLS_T19HBD_20240303T143741Z_20240306T050302Z_S2A_30_v1_VEG-DIST-DATE.tif\n",
      "  warnings.warn(f'File already exists, skipping download: {os.path.join(path, filename)}')\n",
      "/Users/cmarshak/miniforge3/envs/dist-s1/lib/python3.12/site-packages/asf_search/download/download.py:68: UserWarning: File already exists, skipping download: out/chile_fire_2024/dist_hls/2024-03-03__S2A/OPERA_L3_DIST-ALERT-HLS_T19HBD_20240303T143741Z_20240306T050302Z_S2A_30_v1_GEN-DIST-DATE.tif\n",
      "  warnings.warn(f'File already exists, skipping download: {os.path.join(path, filename)}')\n",
      "dates:  69%|███████████████████████████████████████████████████████████████████████████████▌                                   | 18/26 [00:22<00:10,  1.25s/it]/Users/cmarshak/miniforge3/envs/dist-s1/lib/python3.12/site-packages/asf_search/download/download.py:68: UserWarning: File already exists, skipping download: out/chile_fire_2024/dist_hls/2024-03-13__S2A/OPERA_L3_DIST-ALERT-HLS_T19HBD_20240313T143741Z_20240316T042838Z_S2A_30_v1_VEG-DIST-STATUS.tif\n",
      "  warnings.warn(f'File already exists, skipping download: {os.path.join(path, filename)}')\n",
      "/Users/cmarshak/miniforge3/envs/dist-s1/lib/python3.12/site-packages/asf_search/download/download.py:68: UserWarning: File already exists, skipping download: out/chile_fire_2024/dist_hls/2024-03-13__S2A/OPERA_L3_DIST-ALERT-HLS_T19HBD_20240313T143741Z_20240316T042838Z_S2A_30_v1_GEN-DIST-STATUS.tif\n",
      "  warnings.warn(f'File already exists, skipping download: {os.path.join(path, filename)}')\n",
      "/Users/cmarshak/miniforge3/envs/dist-s1/lib/python3.12/site-packages/asf_search/download/download.py:68: UserWarning: File already exists, skipping download: out/chile_fire_2024/dist_hls/2024-03-13__S2A/OPERA_L3_DIST-ALERT-HLS_T19HBD_20240313T143741Z_20240316T042838Z_S2A_30_v1_VEG-DIST-DATE.tif\n",
      "  warnings.warn(f'File already exists, skipping download: {os.path.join(path, filename)}')\n",
      "/Users/cmarshak/miniforge3/envs/dist-s1/lib/python3.12/site-packages/asf_search/download/download.py:68: UserWarning: File already exists, skipping download: out/chile_fire_2024/dist_hls/2024-03-13__S2A/OPERA_L3_DIST-ALERT-HLS_T19HBD_20240313T143741Z_20240316T042838Z_S2A_30_v1_GEN-DIST-DATE.tif\n",
      "  warnings.warn(f'File already exists, skipping download: {os.path.join(path, filename)}')\n",
      "dates:  73%|████████████████████████████████████████████████████████████████████████████████████                               | 19/26 [00:23<00:08,  1.27s/it]/Users/cmarshak/miniforge3/envs/dist-s1/lib/python3.12/site-packages/asf_search/download/download.py:68: UserWarning: File already exists, skipping download: out/chile_fire_2024/dist_hls/2024-03-23__S2A/OPERA_L3_DIST-ALERT-HLS_T19HBD_20240323T143741Z_20240326T233921Z_S2A_30_v1_VEG-DIST-STATUS.tif\n",
      "  warnings.warn(f'File already exists, skipping download: {os.path.join(path, filename)}')\n",
      "/Users/cmarshak/miniforge3/envs/dist-s1/lib/python3.12/site-packages/asf_search/download/download.py:68: UserWarning: File already exists, skipping download: out/chile_fire_2024/dist_hls/2024-03-23__S2A/OPERA_L3_DIST-ALERT-HLS_T19HBD_20240323T143741Z_20240326T233921Z_S2A_30_v1_GEN-DIST-STATUS.tif\n",
      "  warnings.warn(f'File already exists, skipping download: {os.path.join(path, filename)}')\n",
      "/Users/cmarshak/miniforge3/envs/dist-s1/lib/python3.12/site-packages/asf_search/download/download.py:68: UserWarning: File already exists, skipping download: out/chile_fire_2024/dist_hls/2024-03-23__S2A/OPERA_L3_DIST-ALERT-HLS_T19HBD_20240323T143741Z_20240326T233921Z_S2A_30_v1_VEG-DIST-DATE.tif\n",
      "  warnings.warn(f'File already exists, skipping download: {os.path.join(path, filename)}')\n",
      "/Users/cmarshak/miniforge3/envs/dist-s1/lib/python3.12/site-packages/asf_search/download/download.py:68: UserWarning: File already exists, skipping download: out/chile_fire_2024/dist_hls/2024-03-23__S2A/OPERA_L3_DIST-ALERT-HLS_T19HBD_20240323T143741Z_20240326T233921Z_S2A_30_v1_GEN-DIST-DATE.tif\n",
      "  warnings.warn(f'File already exists, skipping download: {os.path.join(path, filename)}')\n",
      "dates:  77%|████████████████████████████████████████████████████████████████████████████████████████▍                          | 20/26 [00:25<00:07,  1.27s/it]/Users/cmarshak/miniforge3/envs/dist-s1/lib/python3.12/site-packages/asf_search/download/download.py:68: UserWarning: File already exists, skipping download: out/chile_fire_2024/dist_hls/2024-04-02__S2A/OPERA_L3_DIST-ALERT-HLS_T19HBD_20240402T143741Z_20240405T045221Z_S2A_30_v1_VEG-DIST-STATUS.tif\n",
      "  warnings.warn(f'File already exists, skipping download: {os.path.join(path, filename)}')\n",
      "/Users/cmarshak/miniforge3/envs/dist-s1/lib/python3.12/site-packages/asf_search/download/download.py:68: UserWarning: File already exists, skipping download: out/chile_fire_2024/dist_hls/2024-04-02__S2A/OPERA_L3_DIST-ALERT-HLS_T19HBD_20240402T143741Z_20240405T045221Z_S2A_30_v1_GEN-DIST-STATUS.tif\n",
      "  warnings.warn(f'File already exists, skipping download: {os.path.join(path, filename)}')\n",
      "/Users/cmarshak/miniforge3/envs/dist-s1/lib/python3.12/site-packages/asf_search/download/download.py:68: UserWarning: File already exists, skipping download: out/chile_fire_2024/dist_hls/2024-04-02__S2A/OPERA_L3_DIST-ALERT-HLS_T19HBD_20240402T143741Z_20240405T045221Z_S2A_30_v1_VEG-DIST-DATE.tif\n",
      "  warnings.warn(f'File already exists, skipping download: {os.path.join(path, filename)}')\n",
      "/Users/cmarshak/miniforge3/envs/dist-s1/lib/python3.12/site-packages/asf_search/download/download.py:68: UserWarning: File already exists, skipping download: out/chile_fire_2024/dist_hls/2024-04-02__S2A/OPERA_L3_DIST-ALERT-HLS_T19HBD_20240402T143741Z_20240405T045221Z_S2A_30_v1_GEN-DIST-DATE.tif\n",
      "  warnings.warn(f'File already exists, skipping download: {os.path.join(path, filename)}')\n",
      "dates:  81%|████████████████████████████████████████████████████████████████████████████████████████████▉                      | 21/26 [00:26<00:06,  1.27s/it]/Users/cmarshak/miniforge3/envs/dist-s1/lib/python3.12/site-packages/asf_search/download/download.py:68: UserWarning: File already exists, skipping download: out/chile_fire_2024/dist_hls/2024-02-07__S2B/OPERA_L3_DIST-ALERT-HLS_T19HBD_20240207T143739Z_20240212T222658Z_S2B_30_v1_VEG-DIST-STATUS.tif\n",
      "  warnings.warn(f'File already exists, skipping download: {os.path.join(path, filename)}')\n",
      "/Users/cmarshak/miniforge3/envs/dist-s1/lib/python3.12/site-packages/asf_search/download/download.py:68: UserWarning: File already exists, skipping download: out/chile_fire_2024/dist_hls/2024-02-07__S2B/OPERA_L3_DIST-ALERT-HLS_T19HBD_20240207T143739Z_20240212T222658Z_S2B_30_v1_GEN-DIST-STATUS.tif\n",
      "  warnings.warn(f'File already exists, skipping download: {os.path.join(path, filename)}')\n",
      "/Users/cmarshak/miniforge3/envs/dist-s1/lib/python3.12/site-packages/asf_search/download/download.py:68: UserWarning: File already exists, skipping download: out/chile_fire_2024/dist_hls/2024-02-07__S2B/OPERA_L3_DIST-ALERT-HLS_T19HBD_20240207T143739Z_20240212T222658Z_S2B_30_v1_VEG-DIST-DATE.tif\n",
      "  warnings.warn(f'File already exists, skipping download: {os.path.join(path, filename)}')\n",
      "/Users/cmarshak/miniforge3/envs/dist-s1/lib/python3.12/site-packages/asf_search/download/download.py:68: UserWarning: File already exists, skipping download: out/chile_fire_2024/dist_hls/2024-02-07__S2B/OPERA_L3_DIST-ALERT-HLS_T19HBD_20240207T143739Z_20240212T222658Z_S2B_30_v1_GEN-DIST-DATE.tif\n",
      "  warnings.warn(f'File already exists, skipping download: {os.path.join(path, filename)}')\n",
      "dates:  85%|█████████████████████████████████████████████████████████████████████████████████████████████████▎                 | 22/26 [00:27<00:05,  1.27s/it]/Users/cmarshak/miniforge3/envs/dist-s1/lib/python3.12/site-packages/asf_search/download/download.py:68: UserWarning: File already exists, skipping download: out/chile_fire_2024/dist_hls/2024-02-17__S2B/OPERA_L3_DIST-ALERT-HLS_T19HBD_20240217T143749Z_20240222T004202Z_S2B_30_v1_VEG-DIST-STATUS.tif\n",
      "  warnings.warn(f'File already exists, skipping download: {os.path.join(path, filename)}')\n",
      "/Users/cmarshak/miniforge3/envs/dist-s1/lib/python3.12/site-packages/asf_search/download/download.py:68: UserWarning: File already exists, skipping download: out/chile_fire_2024/dist_hls/2024-02-17__S2B/OPERA_L3_DIST-ALERT-HLS_T19HBD_20240217T143749Z_20240222T004202Z_S2B_30_v1_GEN-DIST-STATUS.tif\n",
      "  warnings.warn(f'File already exists, skipping download: {os.path.join(path, filename)}')\n",
      "/Users/cmarshak/miniforge3/envs/dist-s1/lib/python3.12/site-packages/asf_search/download/download.py:68: UserWarning: File already exists, skipping download: out/chile_fire_2024/dist_hls/2024-02-17__S2B/OPERA_L3_DIST-ALERT-HLS_T19HBD_20240217T143749Z_20240222T004202Z_S2B_30_v1_VEG-DIST-DATE.tif\n",
      "  warnings.warn(f'File already exists, skipping download: {os.path.join(path, filename)}')\n",
      "/Users/cmarshak/miniforge3/envs/dist-s1/lib/python3.12/site-packages/asf_search/download/download.py:68: UserWarning: File already exists, skipping download: out/chile_fire_2024/dist_hls/2024-02-17__S2B/OPERA_L3_DIST-ALERT-HLS_T19HBD_20240217T143749Z_20240222T004202Z_S2B_30_v1_GEN-DIST-DATE.tif\n",
      "  warnings.warn(f'File already exists, skipping download: {os.path.join(path, filename)}')\n",
      "dates:  88%|█████████████████████████████████████████████████████████████████████████████████████████████████████▋             | 23/26 [00:29<00:03,  1.27s/it]/Users/cmarshak/miniforge3/envs/dist-s1/lib/python3.12/site-packages/asf_search/download/download.py:68: UserWarning: File already exists, skipping download: out/chile_fire_2024/dist_hls/2024-02-27__S2B/OPERA_L3_DIST-ALERT-HLS_T19HBD_20240227T143739Z_20240301T141639Z_S2B_30_v1_VEG-DIST-STATUS.tif\n",
      "  warnings.warn(f'File already exists, skipping download: {os.path.join(path, filename)}')\n",
      "/Users/cmarshak/miniforge3/envs/dist-s1/lib/python3.12/site-packages/asf_search/download/download.py:68: UserWarning: File already exists, skipping download: out/chile_fire_2024/dist_hls/2024-02-27__S2B/OPERA_L3_DIST-ALERT-HLS_T19HBD_20240227T143739Z_20240301T141639Z_S2B_30_v1_GEN-DIST-STATUS.tif\n",
      "  warnings.warn(f'File already exists, skipping download: {os.path.join(path, filename)}')\n",
      "/Users/cmarshak/miniforge3/envs/dist-s1/lib/python3.12/site-packages/asf_search/download/download.py:68: UserWarning: File already exists, skipping download: out/chile_fire_2024/dist_hls/2024-02-27__S2B/OPERA_L3_DIST-ALERT-HLS_T19HBD_20240227T143739Z_20240301T141639Z_S2B_30_v1_VEG-DIST-DATE.tif\n",
      "  warnings.warn(f'File already exists, skipping download: {os.path.join(path, filename)}')\n",
      "/Users/cmarshak/miniforge3/envs/dist-s1/lib/python3.12/site-packages/asf_search/download/download.py:68: UserWarning: File already exists, skipping download: out/chile_fire_2024/dist_hls/2024-02-27__S2B/OPERA_L3_DIST-ALERT-HLS_T19HBD_20240227T143739Z_20240301T141639Z_S2B_30_v1_GEN-DIST-DATE.tif\n",
      "  warnings.warn(f'File already exists, skipping download: {os.path.join(path, filename)}')\n",
      "dates:  92%|██████████████████████████████████████████████████████████████████████████████████████████████████████████▏        | 24/26 [00:30<00:02,  1.27s/it]/Users/cmarshak/miniforge3/envs/dist-s1/lib/python3.12/site-packages/asf_search/download/download.py:68: UserWarning: File already exists, skipping download: out/chile_fire_2024/dist_hls/2024-03-18__S2B/OPERA_L3_DIST-ALERT-HLS_T19HBD_20240318T143739Z_20240322T050723Z_S2B_30_v1_VEG-DIST-STATUS.tif\n",
      "  warnings.warn(f'File already exists, skipping download: {os.path.join(path, filename)}')\n",
      "/Users/cmarshak/miniforge3/envs/dist-s1/lib/python3.12/site-packages/asf_search/download/download.py:68: UserWarning: File already exists, skipping download: out/chile_fire_2024/dist_hls/2024-03-18__S2B/OPERA_L3_DIST-ALERT-HLS_T19HBD_20240318T143739Z_20240322T050723Z_S2B_30_v1_GEN-DIST-STATUS.tif\n",
      "  warnings.warn(f'File already exists, skipping download: {os.path.join(path, filename)}')\n",
      "/Users/cmarshak/miniforge3/envs/dist-s1/lib/python3.12/site-packages/asf_search/download/download.py:68: UserWarning: File already exists, skipping download: out/chile_fire_2024/dist_hls/2024-03-18__S2B/OPERA_L3_DIST-ALERT-HLS_T19HBD_20240318T143739Z_20240322T050723Z_S2B_30_v1_VEG-DIST-DATE.tif\n",
      "  warnings.warn(f'File already exists, skipping download: {os.path.join(path, filename)}')\n",
      "/Users/cmarshak/miniforge3/envs/dist-s1/lib/python3.12/site-packages/asf_search/download/download.py:68: UserWarning: File already exists, skipping download: out/chile_fire_2024/dist_hls/2024-03-18__S2B/OPERA_L3_DIST-ALERT-HLS_T19HBD_20240318T143739Z_20240322T050723Z_S2B_30_v1_GEN-DIST-DATE.tif\n",
      "  warnings.warn(f'File already exists, skipping download: {os.path.join(path, filename)}')\n",
      "dates:  96%|██████████████████████████████████████████████████████████████████████████████████████████████████████████████▌    | 25/26 [00:31<00:01,  1.27s/it]/Users/cmarshak/miniforge3/envs/dist-s1/lib/python3.12/site-packages/asf_search/download/download.py:68: UserWarning: File already exists, skipping download: out/chile_fire_2024/dist_hls/2024-03-28__S2B/OPERA_L3_DIST-ALERT-HLS_T19HBD_20240328T143739Z_20240330T125311Z_S2B_30_v1_VEG-DIST-STATUS.tif\n",
      "  warnings.warn(f'File already exists, skipping download: {os.path.join(path, filename)}')\n",
      "/Users/cmarshak/miniforge3/envs/dist-s1/lib/python3.12/site-packages/asf_search/download/download.py:68: UserWarning: File already exists, skipping download: out/chile_fire_2024/dist_hls/2024-03-28__S2B/OPERA_L3_DIST-ALERT-HLS_T19HBD_20240328T143739Z_20240330T125311Z_S2B_30_v1_GEN-DIST-STATUS.tif\n",
      "  warnings.warn(f'File already exists, skipping download: {os.path.join(path, filename)}')\n",
      "/Users/cmarshak/miniforge3/envs/dist-s1/lib/python3.12/site-packages/asf_search/download/download.py:68: UserWarning: File already exists, skipping download: out/chile_fire_2024/dist_hls/2024-03-28__S2B/OPERA_L3_DIST-ALERT-HLS_T19HBD_20240328T143739Z_20240330T125311Z_S2B_30_v1_VEG-DIST-DATE.tif\n",
      "  warnings.warn(f'File already exists, skipping download: {os.path.join(path, filename)}')\n",
      "/Users/cmarshak/miniforge3/envs/dist-s1/lib/python3.12/site-packages/asf_search/download/download.py:68: UserWarning: File already exists, skipping download: out/chile_fire_2024/dist_hls/2024-03-28__S2B/OPERA_L3_DIST-ALERT-HLS_T19HBD_20240328T143739Z_20240330T125311Z_S2B_30_v1_GEN-DIST-DATE.tif\n",
      "  warnings.warn(f'File already exists, skipping download: {os.path.join(path, filename)}')\n",
      "dates: 100%|███████████████████████████████████████████████████████████████████████████████████████████████████████████████████| 26/26 [00:32<00:00,  1.27s/it]"
     ]
    },
    {
     "name": "stdout",
     "output_type": "stream",
     "text": [
      "CPU times: user 340 ms, sys: 1.42 s, total: 1.76 s\n",
      "Wall time: 32.9 s\n"
     ]
    },
    {
     "name": "stderr",
     "output_type": "stream",
     "text": [
      "\n"
     ]
    }
   ],
   "source": [
    "%%time\n",
    "\n",
    "for (sensor, date), df_rtc_date in tqdm(df_resp.groupby(['sensor', 'acq_date']), desc='dates'):\n",
    "    dist_veg = df_rtc_date['dist-veg-status']\n",
    "    dist_gen = df_rtc_date['dist-gen-status']\n",
    "\n",
    "    dist_veg_date = df_rtc_date['dist-veg-date']\n",
    "    dist_gen_date = df_rtc_date['dist-gen-date']\n",
    "    \n",
    "    date_dir = dist_hls / f'{str(date)}__{sensor}'\n",
    "    date_dir.mkdir(exist_ok=True, parents=True)\n",
    "\n",
    "    asf.download_urls(urls=dist_veg, path=date_dir, processes=5)\n",
    "    asf.download_urls(urls=dist_gen, path=date_dir, processes=5)\n",
    "    asf.download_urls(urls=dist_veg_date, path=date_dir, processes=5)\n",
    "    asf.download_urls(urls=dist_gen_date, path=date_dir, processes=5)"
   ]
  },
  {
   "cell_type": "markdown",
   "id": "7ff8f55a-3410-4a7d-921b-acbbb5ee27f3",
   "metadata": {},
   "source": [
    "# Merge"
   ]
  },
  {
   "cell_type": "code",
   "execution_count": 14,
   "id": "312b6730-f35d-4af9-b9c0-552f88622eb6",
   "metadata": {},
   "outputs": [
    {
     "data": {
      "text/plain": [
       "[PosixPath('out/chile_fire_2024/dist_hls/2024-02-02__S2A'),\n",
       " PosixPath('out/chile_fire_2024/dist_hls/2024-02-05__L9'),\n",
       " PosixPath('out/chile_fire_2024/dist_hls/2024-02-06__L8'),\n",
       " PosixPath('out/chile_fire_2024/dist_hls/2024-02-07__S2B'),\n",
       " PosixPath('out/chile_fire_2024/dist_hls/2024-02-12__S2A'),\n",
       " PosixPath('out/chile_fire_2024/dist_hls/2024-02-13__L8'),\n",
       " PosixPath('out/chile_fire_2024/dist_hls/2024-02-14__L9'),\n",
       " PosixPath('out/chile_fire_2024/dist_hls/2024-02-17__S2B'),\n",
       " PosixPath('out/chile_fire_2024/dist_hls/2024-02-21__L9'),\n",
       " PosixPath('out/chile_fire_2024/dist_hls/2024-02-22__L8'),\n",
       " PosixPath('out/chile_fire_2024/dist_hls/2024-02-27__S2B'),\n",
       " PosixPath('out/chile_fire_2024/dist_hls/2024-02-29__L8'),\n",
       " PosixPath('out/chile_fire_2024/dist_hls/2024-03-01__L9'),\n",
       " PosixPath('out/chile_fire_2024/dist_hls/2024-03-03__S2A'),\n",
       " PosixPath('out/chile_fire_2024/dist_hls/2024-03-09__L8'),\n",
       " PosixPath('out/chile_fire_2024/dist_hls/2024-03-13__S2A'),\n",
       " PosixPath('out/chile_fire_2024/dist_hls/2024-03-16__L8'),\n",
       " PosixPath('out/chile_fire_2024/dist_hls/2024-03-17__L9'),\n",
       " PosixPath('out/chile_fire_2024/dist_hls/2024-03-18__S2B'),\n",
       " PosixPath('out/chile_fire_2024/dist_hls/2024-03-23__S2A'),\n",
       " PosixPath('out/chile_fire_2024/dist_hls/2024-03-24__L9'),\n",
       " PosixPath('out/chile_fire_2024/dist_hls/2024-03-25__L8'),\n",
       " PosixPath('out/chile_fire_2024/dist_hls/2024-03-28__S2B'),\n",
       " PosixPath('out/chile_fire_2024/dist_hls/2024-04-01__L8'),\n",
       " PosixPath('out/chile_fire_2024/dist_hls/2024-04-02__L9'),\n",
       " PosixPath('out/chile_fire_2024/dist_hls/2024-04-02__S2A')]"
      ]
     },
     "execution_count": 14,
     "metadata": {},
     "output_type": "execute_result"
    }
   ],
   "source": [
    "all_acq_dirs = sorted([acq_dir for acq_dir in dist_hls.glob('*')])\n",
    "all_acq_dirs = list(filter(lambda p: p.is_dir(), all_acq_dirs))\n",
    "all_acq_dirs"
   ]
  },
  {
   "cell_type": "code",
   "execution_count": 15,
   "id": "910eee8f-534e-4c4a-81be-b540f7adac7b",
   "metadata": {},
   "outputs": [],
   "source": [
    "import concurrent.futures\n",
    "import warnings\n",
    "from typing import Union\n",
    "\n",
    "import numpy as np\n",
    "import rasterio\n",
    "from rasterio.crs import CRS\n",
    "from rasterio.enums import Resampling\n",
    "from rasterio.io import MemoryFile\n",
    "from rasterio.merge import merge\n",
    "from rasterio.windows import Window\n",
    "from shapely.geometry import box\n",
    "from tqdm import tqdm\n",
    "\n",
    "def merge_arrays_with_geometadata(\n",
    "    arrays: list[np.ndarray],\n",
    "    profiles: list[dict],\n",
    "    resampling='bilinear',\n",
    "    nodata = None,\n",
    "    dtype: str = None,\n",
    "    method='first',\n",
    ") -> tuple[np.ndarray, dict]:\n",
    "    n_dim = arrays[0].shape\n",
    "    if len(n_dim) not in [2, 3]:\n",
    "        raise ValueError('Currently arrays must be in BIP format' 'i.e. channels x height x width or flat array')\n",
    "    if len(set([len(arr.shape) for arr in arrays])) != 1:\n",
    "        raise ValueError('All arrays must have same number of dimensions i.e. 2 or 3')\n",
    "\n",
    "    if len(n_dim) == 2:\n",
    "        arrays_input = [arr[np.newaxis, ...] for arr in arrays]\n",
    "    else:\n",
    "        arrays_input = arrays\n",
    "\n",
    "    if (len(arrays)) != (len(profiles)):\n",
    "        raise ValueError('Length of arrays and profiles needs to be the same')\n",
    "\n",
    "    memfiles = [MemoryFile() for p in profiles]\n",
    "    datasets = [mfile.open(**p) for (mfile, p) in zip(memfiles, profiles)]\n",
    "    [ds.write(arr) for (ds, arr) in zip(datasets, arrays_input)]\n",
    "\n",
    "    if dtype is None:\n",
    "        dst_dtype = profiles[0]['dtype']\n",
    "    if nodata is None:\n",
    "        dst_nodata = profiles[0]['nodata']\n",
    "\n",
    "    merged_arr, merged_trans = merge(\n",
    "        datasets, resampling=Resampling[resampling], method='min', nodata=dst_nodata, dtype=dst_dtype\n",
    "    )\n",
    "\n",
    "    prof_merged = profiles[0].copy()\n",
    "    prof_merged['transform'] = merged_trans\n",
    "    prof_merged['count'] = merged_arr.shape[0]\n",
    "    prof_merged['height'] = merged_arr.shape[1]\n",
    "    prof_merged['width'] = merged_arr.shape[2]\n",
    "    prof_merged['nodata'] = dst_nodata\n",
    "    prof_merged['dtype'] = dst_dtype\n",
    "    \n",
    "    [ds.close() for ds in datasets]\n",
    "    [mfile.close() for mfile in memfiles]\n",
    "\n",
    "    return merged_arr, prof_merged"
   ]
  },
  {
   "cell_type": "code",
   "execution_count": 38,
   "id": "41471056-8dbf-40dc-97fc-e0fbc9054295",
   "metadata": {},
   "outputs": [],
   "source": [
    "#from dem_stitcher.merge import merge_arrays_with_geometadata\n",
    "\n",
    "def get_crs(path: str) -> Path:\n",
    "    with rasterio.open(path) as ds:\n",
    "        crs = ds.crs\n",
    "    return crs\n",
    "\n",
    "def get_profile(path: Path) -> dict:\n",
    "    with rasterio.open(path) as ds:\n",
    "        p = ds.profile\n",
    "    return p\n",
    "\n",
    "\n",
    "def read_one(path: Path) -> tuple:\n",
    "    with rasterio.open(path) as ds:\n",
    "        p = ds.profile\n",
    "        X = ds.read()\n",
    "    return X, p\n",
    "\n",
    "def merge_one_dir(acq_dir: Path, layer='gen-status') -> list:\n",
    "    reg_dict = {'gen-status': 'GEN-DIST-STATUS.tif',\n",
    "                'gen-date': 'GEN-DIST-DATE.tif',\n",
    "                'veg-status': 'VEG-DIST-STATUS.tif',\n",
    "                'veg-date': 'VEG-DIST-DATE.tif'}\n",
    "\n",
    "    if layer not in reg_dict.keys():\n",
    "        raise ValueError('layer not correctly specified')\n",
    "    all_img_paths = sorted(list(acq_dir.glob(f'OPERA*{reg_dict[layer]}')))\n",
    "    crs_l = list(map(get_crs, all_img_paths))\n",
    "    \n",
    "    \n",
    "    stem = acq_dir.stem\n",
    "    dst_path = acq_dir / f'__{stem}_{layer}_merged.tif'\n",
    "    if len(list(set(crs_l))) == 1:\n",
    "        merge(all_img_paths, method='first', dst_path=dst_path)\n",
    "    else:\n",
    "        profiles = list(map(get_profile, all_img_paths))\n",
    "        ref_crs = crs_l[0]\n",
    "        ref_profile = profiles[0]\n",
    "\n",
    "        with rasterio.open(all_img_paths[0]) as ds:\n",
    "            cmap = ds.colormap(1)\n",
    "        zipped_data = [read_one(path) for path in all_img_paths]\n",
    "        zipped_data = [(X, p) if p['crs'] == ref_crs \n",
    "                       else reproject_arr_to_new_crs(X, \n",
    "                                                     p, \n",
    "                                                     ref_crs, \n",
    "                                                     resampling='nearest') \n",
    "                       for (X, p) in zipped_data ]\n",
    "        arrays, profiles_dst = zip(*zipped_data)\n",
    "        arrays = [arr[0, ...] for arr in arrays]\n",
    "        X_m, p_m = merge_arrays_with_geometadata(arrays, \n",
    "                                                 profiles_dst, \n",
    "                                                 resampling='nearest',\n",
    "                                                 method='first')\n",
    "        with rasterio.open(dst_path, 'w', **p_m) as ds:\n",
    "            ds.write(X_m)\n",
    "            ds.write_colormap(1, cmap)\n",
    "    return dst_path"
   ]
  },
  {
   "cell_type": "code",
   "execution_count": 39,
   "id": "4ec6bce9-fef8-4a22-b5e3-75662eb4f84b",
   "metadata": {},
   "outputs": [
    {
     "data": {
      "text/plain": [
       "[(0, PosixPath('out/chile_fire_2024/dist_hls/2024-02-02__S2A')),\n",
       " (1, PosixPath('out/chile_fire_2024/dist_hls/2024-02-05__L9')),\n",
       " (2, PosixPath('out/chile_fire_2024/dist_hls/2024-02-06__L8')),\n",
       " (3, PosixPath('out/chile_fire_2024/dist_hls/2024-02-07__S2B')),\n",
       " (4, PosixPath('out/chile_fire_2024/dist_hls/2024-02-12__S2A')),\n",
       " (5, PosixPath('out/chile_fire_2024/dist_hls/2024-02-13__L8')),\n",
       " (6, PosixPath('out/chile_fire_2024/dist_hls/2024-02-14__L9')),\n",
       " (7, PosixPath('out/chile_fire_2024/dist_hls/2024-02-17__S2B')),\n",
       " (8, PosixPath('out/chile_fire_2024/dist_hls/2024-02-21__L9')),\n",
       " (9, PosixPath('out/chile_fire_2024/dist_hls/2024-02-22__L8')),\n",
       " (10, PosixPath('out/chile_fire_2024/dist_hls/2024-02-27__S2B')),\n",
       " (11, PosixPath('out/chile_fire_2024/dist_hls/2024-02-29__L8')),\n",
       " (12, PosixPath('out/chile_fire_2024/dist_hls/2024-03-01__L9')),\n",
       " (13, PosixPath('out/chile_fire_2024/dist_hls/2024-03-03__S2A')),\n",
       " (14, PosixPath('out/chile_fire_2024/dist_hls/2024-03-09__L8')),\n",
       " (15, PosixPath('out/chile_fire_2024/dist_hls/2024-03-13__S2A')),\n",
       " (16, PosixPath('out/chile_fire_2024/dist_hls/2024-03-16__L8')),\n",
       " (17, PosixPath('out/chile_fire_2024/dist_hls/2024-03-17__L9')),\n",
       " (18, PosixPath('out/chile_fire_2024/dist_hls/2024-03-18__S2B')),\n",
       " (19, PosixPath('out/chile_fire_2024/dist_hls/2024-03-23__S2A')),\n",
       " (20, PosixPath('out/chile_fire_2024/dist_hls/2024-03-24__L9')),\n",
       " (21, PosixPath('out/chile_fire_2024/dist_hls/2024-03-25__L8')),\n",
       " (22, PosixPath('out/chile_fire_2024/dist_hls/2024-03-28__S2B')),\n",
       " (23, PosixPath('out/chile_fire_2024/dist_hls/2024-04-01__L8')),\n",
       " (24, PosixPath('out/chile_fire_2024/dist_hls/2024-04-02__L9')),\n",
       " (25, PosixPath('out/chile_fire_2024/dist_hls/2024-04-02__S2A'))]"
      ]
     },
     "execution_count": 39,
     "metadata": {},
     "output_type": "execute_result"
    }
   ],
   "source": [
    "list(enumerate(all_acq_dirs))"
   ]
  },
  {
   "cell_type": "code",
   "execution_count": 40,
   "id": "c60a8cd7-f524-4c86-82fc-491a1e73d2c8",
   "metadata": {},
   "outputs": [
    {
     "data": {
      "text/plain": [
       "PosixPath('out/chile_fire_2024/dist_hls/2024-02-02__S2A/__2024-02-02__S2A_veg-status_merged.tif')"
      ]
     },
     "execution_count": 40,
     "metadata": {},
     "output_type": "execute_result"
    }
   ],
   "source": [
    "merge_one_dir(all_acq_dirs[0], layer='veg-status')"
   ]
  },
  {
   "cell_type": "code",
   "execution_count": 41,
   "id": "33f17ef9-e2ee-43d9-842f-cdfa8be4c87f",
   "metadata": {},
   "outputs": [
    {
     "name": "stderr",
     "output_type": "stream",
     "text": [
      "100%|██████████████████████████████████████████████████████████████████████████████████████████████████████████████████████████| 26/26 [00:01<00:00, 15.36it/s]\n",
      "100%|██████████████████████████████████████████████████████████████████████████████████████████████████████████████████████████| 26/26 [00:02<00:00,  9.48it/s]\n",
      "100%|██████████████████████████████████████████████████████████████████████████████████████████████████████████████████████████| 26/26 [00:01<00:00, 13.44it/s]\n",
      "100%|██████████████████████████████████████████████████████████████████████████████████████████████████████████████████████████| 26/26 [00:02<00:00,  9.05it/s]\n"
     ]
    },
    {
     "data": {
      "text/plain": [
       "([PosixPath('out/chile_fire_2024/dist_hls/2024-02-02__S2A/__2024-02-02__S2A_veg-status_merged.tif'),\n",
       "  PosixPath('out/chile_fire_2024/dist_hls/2024-02-05__L9/__2024-02-05__L9_veg-status_merged.tif'),\n",
       "  PosixPath('out/chile_fire_2024/dist_hls/2024-02-06__L8/__2024-02-06__L8_veg-status_merged.tif'),\n",
       "  PosixPath('out/chile_fire_2024/dist_hls/2024-02-07__S2B/__2024-02-07__S2B_veg-status_merged.tif'),\n",
       "  PosixPath('out/chile_fire_2024/dist_hls/2024-02-12__S2A/__2024-02-12__S2A_veg-status_merged.tif'),\n",
       "  PosixPath('out/chile_fire_2024/dist_hls/2024-02-13__L8/__2024-02-13__L8_veg-status_merged.tif'),\n",
       "  PosixPath('out/chile_fire_2024/dist_hls/2024-02-14__L9/__2024-02-14__L9_veg-status_merged.tif'),\n",
       "  PosixPath('out/chile_fire_2024/dist_hls/2024-02-17__S2B/__2024-02-17__S2B_veg-status_merged.tif'),\n",
       "  PosixPath('out/chile_fire_2024/dist_hls/2024-02-21__L9/__2024-02-21__L9_veg-status_merged.tif'),\n",
       "  PosixPath('out/chile_fire_2024/dist_hls/2024-02-22__L8/__2024-02-22__L8_veg-status_merged.tif'),\n",
       "  PosixPath('out/chile_fire_2024/dist_hls/2024-02-27__S2B/__2024-02-27__S2B_veg-status_merged.tif'),\n",
       "  PosixPath('out/chile_fire_2024/dist_hls/2024-02-29__L8/__2024-02-29__L8_veg-status_merged.tif'),\n",
       "  PosixPath('out/chile_fire_2024/dist_hls/2024-03-01__L9/__2024-03-01__L9_veg-status_merged.tif'),\n",
       "  PosixPath('out/chile_fire_2024/dist_hls/2024-03-03__S2A/__2024-03-03__S2A_veg-status_merged.tif'),\n",
       "  PosixPath('out/chile_fire_2024/dist_hls/2024-03-09__L8/__2024-03-09__L8_veg-status_merged.tif'),\n",
       "  PosixPath('out/chile_fire_2024/dist_hls/2024-03-13__S2A/__2024-03-13__S2A_veg-status_merged.tif'),\n",
       "  PosixPath('out/chile_fire_2024/dist_hls/2024-03-16__L8/__2024-03-16__L8_veg-status_merged.tif'),\n",
       "  PosixPath('out/chile_fire_2024/dist_hls/2024-03-17__L9/__2024-03-17__L9_veg-status_merged.tif'),\n",
       "  PosixPath('out/chile_fire_2024/dist_hls/2024-03-18__S2B/__2024-03-18__S2B_veg-status_merged.tif'),\n",
       "  PosixPath('out/chile_fire_2024/dist_hls/2024-03-23__S2A/__2024-03-23__S2A_veg-status_merged.tif'),\n",
       "  PosixPath('out/chile_fire_2024/dist_hls/2024-03-24__L9/__2024-03-24__L9_veg-status_merged.tif'),\n",
       "  PosixPath('out/chile_fire_2024/dist_hls/2024-03-25__L8/__2024-03-25__L8_veg-status_merged.tif'),\n",
       "  PosixPath('out/chile_fire_2024/dist_hls/2024-03-28__S2B/__2024-03-28__S2B_veg-status_merged.tif'),\n",
       "  PosixPath('out/chile_fire_2024/dist_hls/2024-04-01__L8/__2024-04-01__L8_veg-status_merged.tif'),\n",
       "  PosixPath('out/chile_fire_2024/dist_hls/2024-04-02__L9/__2024-04-02__L9_veg-status_merged.tif'),\n",
       "  PosixPath('out/chile_fire_2024/dist_hls/2024-04-02__S2A/__2024-04-02__S2A_veg-status_merged.tif')],\n",
       " [PosixPath('out/chile_fire_2024/dist_hls/2024-02-02__S2A/__2024-02-02__S2A_gen-status_merged.tif'),\n",
       "  PosixPath('out/chile_fire_2024/dist_hls/2024-02-05__L9/__2024-02-05__L9_gen-status_merged.tif'),\n",
       "  PosixPath('out/chile_fire_2024/dist_hls/2024-02-06__L8/__2024-02-06__L8_gen-status_merged.tif'),\n",
       "  PosixPath('out/chile_fire_2024/dist_hls/2024-02-07__S2B/__2024-02-07__S2B_gen-status_merged.tif'),\n",
       "  PosixPath('out/chile_fire_2024/dist_hls/2024-02-12__S2A/__2024-02-12__S2A_gen-status_merged.tif'),\n",
       "  PosixPath('out/chile_fire_2024/dist_hls/2024-02-13__L8/__2024-02-13__L8_gen-status_merged.tif'),\n",
       "  PosixPath('out/chile_fire_2024/dist_hls/2024-02-14__L9/__2024-02-14__L9_gen-status_merged.tif'),\n",
       "  PosixPath('out/chile_fire_2024/dist_hls/2024-02-17__S2B/__2024-02-17__S2B_gen-status_merged.tif'),\n",
       "  PosixPath('out/chile_fire_2024/dist_hls/2024-02-21__L9/__2024-02-21__L9_gen-status_merged.tif'),\n",
       "  PosixPath('out/chile_fire_2024/dist_hls/2024-02-22__L8/__2024-02-22__L8_gen-status_merged.tif'),\n",
       "  PosixPath('out/chile_fire_2024/dist_hls/2024-02-27__S2B/__2024-02-27__S2B_gen-status_merged.tif'),\n",
       "  PosixPath('out/chile_fire_2024/dist_hls/2024-02-29__L8/__2024-02-29__L8_gen-status_merged.tif'),\n",
       "  PosixPath('out/chile_fire_2024/dist_hls/2024-03-01__L9/__2024-03-01__L9_gen-status_merged.tif'),\n",
       "  PosixPath('out/chile_fire_2024/dist_hls/2024-03-03__S2A/__2024-03-03__S2A_gen-status_merged.tif'),\n",
       "  PosixPath('out/chile_fire_2024/dist_hls/2024-03-09__L8/__2024-03-09__L8_gen-status_merged.tif'),\n",
       "  PosixPath('out/chile_fire_2024/dist_hls/2024-03-13__S2A/__2024-03-13__S2A_gen-status_merged.tif'),\n",
       "  PosixPath('out/chile_fire_2024/dist_hls/2024-03-16__L8/__2024-03-16__L8_gen-status_merged.tif'),\n",
       "  PosixPath('out/chile_fire_2024/dist_hls/2024-03-17__L9/__2024-03-17__L9_gen-status_merged.tif'),\n",
       "  PosixPath('out/chile_fire_2024/dist_hls/2024-03-18__S2B/__2024-03-18__S2B_gen-status_merged.tif'),\n",
       "  PosixPath('out/chile_fire_2024/dist_hls/2024-03-23__S2A/__2024-03-23__S2A_gen-status_merged.tif'),\n",
       "  PosixPath('out/chile_fire_2024/dist_hls/2024-03-24__L9/__2024-03-24__L9_gen-status_merged.tif'),\n",
       "  PosixPath('out/chile_fire_2024/dist_hls/2024-03-25__L8/__2024-03-25__L8_gen-status_merged.tif'),\n",
       "  PosixPath('out/chile_fire_2024/dist_hls/2024-03-28__S2B/__2024-03-28__S2B_gen-status_merged.tif'),\n",
       "  PosixPath('out/chile_fire_2024/dist_hls/2024-04-01__L8/__2024-04-01__L8_gen-status_merged.tif'),\n",
       "  PosixPath('out/chile_fire_2024/dist_hls/2024-04-02__L9/__2024-04-02__L9_gen-status_merged.tif'),\n",
       "  PosixPath('out/chile_fire_2024/dist_hls/2024-04-02__S2A/__2024-04-02__S2A_gen-status_merged.tif')])"
      ]
     },
     "execution_count": 41,
     "metadata": {},
     "output_type": "execute_result"
    }
   ],
   "source": [
    "dst_paths_veg_status = [merge_one_dir(acq_dir, layer='veg-status') for acq_dir in tqdm(all_acq_dirs)]\n",
    "dst_paths_veg_date = [merge_one_dir(acq_dir, layer='veg-date') for acq_dir in tqdm(all_acq_dirs)]\n",
    "\n",
    "dst_paths_gen_status = [merge_one_dir(acq_dir, layer='gen-status') for acq_dir in tqdm(all_acq_dirs)]\n",
    "dst_paths_gen_date = [merge_one_dir(acq_dir, layer='gen-date') for acq_dir in tqdm(all_acq_dirs)]\n",
    "\n",
    "dst_paths_veg_status, dst_paths_gen_status"
   ]
  },
  {
   "cell_type": "code",
   "execution_count": 42,
   "id": "17db1f9f-8eba-4081-aaec-3f7f49d4b30c",
   "metadata": {},
   "outputs": [
    {
     "data": {
      "text/plain": [
       "PosixPath('out/chile_fire_2024/dist_hls_ts_merged')"
      ]
     },
     "execution_count": 42,
     "metadata": {},
     "output_type": "execute_result"
    }
   ],
   "source": [
    "ts_dir = dist_hls.parent / 'dist_hls_ts_merged'\n",
    "ts_dir.mkdir(exist_ok=True, parents=True)\n",
    "ts_dir"
   ]
  },
  {
   "cell_type": "code",
   "execution_count": 43,
   "id": "97219136-0bb4-4ed7-a611-79528550177d",
   "metadata": {},
   "outputs": [],
   "source": [
    "\n",
    "def get_idx_with_largest_size(paths: list[Path]) -> int:\n",
    "    def get_size(path: Path) -> int:\n",
    "        with rasterio.open(path) as ds:\n",
    "            m, n = ds.shape\n",
    "\n",
    "        return m * n\n",
    "\n",
    "    sizes = list(map(get_size, paths))\n",
    "    idx = np.argmax(sizes)\n",
    "    return idx\n",
    "\n",
    "def make_cube(paths: list[Path]):\n",
    "    ref_idx = get_idx_with_largest_size(paths)\n",
    "\n",
    "\n",
    "    profiles = list(map(get_profile, paths))\n",
    "    ref_profile = profiles[ref_idx]\n",
    "\n",
    "    cube_paths = []\n",
    "    for p, path in zip(profiles, paths):\n",
    "        out_path = ts_dir / path.name\n",
    "        \n",
    "        cond0 = (p['transform'] == ref_profile['transform'])\n",
    "        cond1 = (p['width'] == ref_profile['width'])\n",
    "        cond2 = (p['height'] == ref_profile['height'])\n",
    "        cond3 = (p['crs'] == ref_profile['crs'])\n",
    "        if cond0 and cond1 and cond2 and cond3:\n",
    "            shutil.copyfile(path, out_path)\n",
    "        else:\n",
    "            with rasterio.open(path) as ds:\n",
    "                X = ds.read(1)\n",
    "                p = ds.profile\n",
    "                cmap = ds.colormap(1)\n",
    "            print('pre', p)\n",
    "            X_r, p_r = reproject_arr_to_match_profile(X, p, ref_profile)\n",
    "            print('post', p_r)\n",
    "            with rasterio.open(out_path, 'w', **p_r) as ds:\n",
    "                ds.write(X_r)\n",
    "                ds.write_colormap(1, cmap)\n",
    "        cube_paths.append(out_path)\n",
    "    \n",
    "    return cube_paths"
   ]
  },
  {
   "cell_type": "code",
   "execution_count": 44,
   "id": "5fb95123-7687-4c78-bed7-0ff0c96c73a4",
   "metadata": {},
   "outputs": [],
   "source": [
    "merged_veg_status = make_cube(dst_paths_veg_status)\n",
    "merged_gen_status = make_cube(dst_paths_gen_status)\n",
    "\n",
    "merged_veg_date = make_cube(dst_paths_veg_date)\n",
    "merged_gen_date = make_cube(dst_paths_gen_date)"
   ]
  },
  {
   "cell_type": "code",
   "execution_count": 45,
   "id": "7c236e51-f5b7-4978-9675-ae7efcb99c2f",
   "metadata": {},
   "outputs": [
    {
     "data": {
      "text/plain": [
       "[(0,\n",
       "  PosixPath('out/chile_fire_2024/dist_hls_ts_merged/__2024-02-02__S2A_veg-status_merged.tif')),\n",
       " (1,\n",
       "  PosixPath('out/chile_fire_2024/dist_hls_ts_merged/__2024-02-05__L9_veg-status_merged.tif')),\n",
       " (2,\n",
       "  PosixPath('out/chile_fire_2024/dist_hls_ts_merged/__2024-02-06__L8_veg-status_merged.tif')),\n",
       " (3,\n",
       "  PosixPath('out/chile_fire_2024/dist_hls_ts_merged/__2024-02-07__S2B_veg-status_merged.tif')),\n",
       " (4,\n",
       "  PosixPath('out/chile_fire_2024/dist_hls_ts_merged/__2024-02-12__S2A_veg-status_merged.tif')),\n",
       " (5,\n",
       "  PosixPath('out/chile_fire_2024/dist_hls_ts_merged/__2024-02-13__L8_veg-status_merged.tif')),\n",
       " (6,\n",
       "  PosixPath('out/chile_fire_2024/dist_hls_ts_merged/__2024-02-14__L9_veg-status_merged.tif')),\n",
       " (7,\n",
       "  PosixPath('out/chile_fire_2024/dist_hls_ts_merged/__2024-02-17__S2B_veg-status_merged.tif')),\n",
       " (8,\n",
       "  PosixPath('out/chile_fire_2024/dist_hls_ts_merged/__2024-02-21__L9_veg-status_merged.tif')),\n",
       " (9,\n",
       "  PosixPath('out/chile_fire_2024/dist_hls_ts_merged/__2024-02-22__L8_veg-status_merged.tif')),\n",
       " (10,\n",
       "  PosixPath('out/chile_fire_2024/dist_hls_ts_merged/__2024-02-27__S2B_veg-status_merged.tif')),\n",
       " (11,\n",
       "  PosixPath('out/chile_fire_2024/dist_hls_ts_merged/__2024-02-29__L8_veg-status_merged.tif')),\n",
       " (12,\n",
       "  PosixPath('out/chile_fire_2024/dist_hls_ts_merged/__2024-03-01__L9_veg-status_merged.tif')),\n",
       " (13,\n",
       "  PosixPath('out/chile_fire_2024/dist_hls_ts_merged/__2024-03-03__S2A_veg-status_merged.tif')),\n",
       " (14,\n",
       "  PosixPath('out/chile_fire_2024/dist_hls_ts_merged/__2024-03-09__L8_veg-status_merged.tif')),\n",
       " (15,\n",
       "  PosixPath('out/chile_fire_2024/dist_hls_ts_merged/__2024-03-13__S2A_veg-status_merged.tif')),\n",
       " (16,\n",
       "  PosixPath('out/chile_fire_2024/dist_hls_ts_merged/__2024-03-16__L8_veg-status_merged.tif')),\n",
       " (17,\n",
       "  PosixPath('out/chile_fire_2024/dist_hls_ts_merged/__2024-03-17__L9_veg-status_merged.tif')),\n",
       " (18,\n",
       "  PosixPath('out/chile_fire_2024/dist_hls_ts_merged/__2024-03-18__S2B_veg-status_merged.tif')),\n",
       " (19,\n",
       "  PosixPath('out/chile_fire_2024/dist_hls_ts_merged/__2024-03-23__S2A_veg-status_merged.tif')),\n",
       " (20,\n",
       "  PosixPath('out/chile_fire_2024/dist_hls_ts_merged/__2024-03-24__L9_veg-status_merged.tif')),\n",
       " (21,\n",
       "  PosixPath('out/chile_fire_2024/dist_hls_ts_merged/__2024-03-25__L8_veg-status_merged.tif')),\n",
       " (22,\n",
       "  PosixPath('out/chile_fire_2024/dist_hls_ts_merged/__2024-03-28__S2B_veg-status_merged.tif')),\n",
       " (23,\n",
       "  PosixPath('out/chile_fire_2024/dist_hls_ts_merged/__2024-04-01__L8_veg-status_merged.tif')),\n",
       " (24,\n",
       "  PosixPath('out/chile_fire_2024/dist_hls_ts_merged/__2024-04-02__L9_veg-status_merged.tif')),\n",
       " (25,\n",
       "  PosixPath('out/chile_fire_2024/dist_hls_ts_merged/__2024-04-02__S2A_veg-status_merged.tif'))]"
      ]
     },
     "execution_count": 45,
     "metadata": {},
     "output_type": "execute_result"
    }
   ],
   "source": [
    "list(enumerate(merged_veg_status))"
   ]
  },
  {
   "cell_type": "markdown",
   "id": "1f535155-8771-42ae-aba6-ce7908db1df4",
   "metadata": {},
   "source": [
    "# Make Change Map"
   ]
  },
  {
   "cell_type": "code",
   "execution_count": 46,
   "id": "4e0f31bf-ed05-4b09-9fb8-e859a94f8c40",
   "metadata": {},
   "outputs": [],
   "source": [
    "change_dir = dist_hls = Path('out') / event_dict['event_name'] / 'change_map_dist_hls'\n",
    "change_dir.mkdir(exist_ok=True, parents=True)"
   ]
  },
  {
   "cell_type": "code",
   "execution_count": 47,
   "id": "9e23df2a-4f43-4cbb-8d3f-39eb241630c3",
   "metadata": {},
   "outputs": [
    {
     "data": {
      "text/plain": [
       "[datetime.datetime(2024, 2, 2, 0, 0),\n",
       " datetime.datetime(2024, 2, 5, 0, 0),\n",
       " datetime.datetime(2024, 2, 6, 0, 0),\n",
       " datetime.datetime(2024, 2, 7, 0, 0),\n",
       " datetime.datetime(2024, 2, 12, 0, 0),\n",
       " datetime.datetime(2024, 2, 13, 0, 0),\n",
       " datetime.datetime(2024, 2, 14, 0, 0),\n",
       " datetime.datetime(2024, 2, 17, 0, 0),\n",
       " datetime.datetime(2024, 2, 21, 0, 0),\n",
       " datetime.datetime(2024, 2, 22, 0, 0),\n",
       " datetime.datetime(2024, 2, 27, 0, 0),\n",
       " datetime.datetime(2024, 2, 29, 0, 0),\n",
       " datetime.datetime(2024, 3, 1, 0, 0),\n",
       " datetime.datetime(2024, 3, 3, 0, 0),\n",
       " datetime.datetime(2024, 3, 9, 0, 0),\n",
       " datetime.datetime(2024, 3, 13, 0, 0),\n",
       " datetime.datetime(2024, 3, 16, 0, 0),\n",
       " datetime.datetime(2024, 3, 17, 0, 0),\n",
       " datetime.datetime(2024, 3, 18, 0, 0),\n",
       " datetime.datetime(2024, 3, 23, 0, 0),\n",
       " datetime.datetime(2024, 3, 24, 0, 0),\n",
       " datetime.datetime(2024, 3, 25, 0, 0),\n",
       " datetime.datetime(2024, 3, 28, 0, 0),\n",
       " datetime.datetime(2024, 4, 1, 0, 0),\n",
       " datetime.datetime(2024, 4, 2, 0, 0),\n",
       " datetime.datetime(2024, 4, 2, 0, 0)]"
      ]
     },
     "execution_count": 47,
     "metadata": {},
     "output_type": "execute_result"
    }
   ],
   "source": [
    "from dateparser import parse\n",
    "acq_dt_hls = [parse(p.stem.split('__')[1]) for p in dst_paths_veg_status]\n",
    "acq_dt_hls"
   ]
  },
  {
   "cell_type": "markdown",
   "id": "0ff17a17-b251-4bed-ad8b-14e757af02e6",
   "metadata": {},
   "source": [
    "## Change Maps from Provisional Alert"
   ]
  },
  {
   "cell_type": "code",
   "execution_count": 62,
   "id": "4f85e3e3-614d-486b-b3df-a93bda2ca0af",
   "metadata": {},
   "outputs": [
    {
     "data": {
      "text/plain": [
       "(1, datetime.datetime(2024, 2, 5, 0, 0))"
      ]
     },
     "execution_count": 62,
     "metadata": {},
     "output_type": "execute_result"
    }
   ],
   "source": [
    "PROVISIONAL_CHANGE_MAP_IDX = [k for (k, dt) in enumerate(acq_dt_hls) if dt > EVENT_DT][0]\n",
    "PROVISIONAL_CHANGE_MAP_IDX, acq_dt_hls[PROVISIONAL_CHANGE_MAP_IDX]"
   ]
  },
  {
   "cell_type": "code",
   "execution_count": 63,
   "id": "94b7968e-28bc-4e45-8260-380365eeb9bb",
   "metadata": {},
   "outputs": [
    {
     "name": "stdout",
     "output_type": "stream",
     "text": [
      "out/chile_fire_2024/change_map_dist_hls/dist_hls_provisional_change_map_veg_2024-02-05.tif\n",
      "out/chile_fire_2024/change_map_dist_hls/dist_hls_provisional_change_map_gen_2024-02-05.tif\n"
     ]
    }
   ],
   "source": [
    "for data_list, change_token in zip([merged_veg_status, merged_gen_status], ['veg', 'gen']):\n",
    "    with rasterio.open(data_list[PROVISIONAL_CHANGE_MAP_IDX]) as ds:\n",
    "        X_status_prov = ds.read(1)\n",
    "        p = ds.profile\n",
    "        \n",
    "    X_change_prov = np.zeros(X_status_prov.shape)\n",
    "    \n",
    "    confirmed_change_labels = [3, 6, 7, 8]\n",
    "    X_change_prov[np.isin(X_status_prov, confirmed_change_labels)] = 255\n",
    "    \n",
    "    prov_change_labels = [1, 2, 3, 5]\n",
    "    X_change_prov[np.isin(X_status_prov, prov_change_labels)] = 1\n",
    "    \n",
    "    #no_change_labels = [0]\n",
    "    #X_change_prov[np.isin(X_status_prov, no_change_labels)] = 0\n",
    "    \n",
    "    X_change_prov[X_status_prov == 255] = 255\n",
    "\n",
    "    out_path = change_dir / f'dist_hls_provisional_change_map_{change_token}_{str(acq_dt_hls[PROVISIONAL_CHANGE_MAP_IDX].date())}.tif'\n",
    "    print(out_path)\n",
    "    with rasterio.open(out_path, 'w', **p) as ds:\n",
    "        ds.write(X_change_prov.astype(np.uint8), 1)\n",
    "    "
   ]
  },
  {
   "cell_type": "code",
   "execution_count": 64,
   "id": "64d31c77-b013-4282-bf3c-cfff01bf8802",
   "metadata": {},
   "outputs": [
    {
     "data": {
      "text/plain": [
       "<matplotlib.image.AxesImage at 0x334f015e0>"
      ]
     },
     "execution_count": 64,
     "metadata": {},
     "output_type": "execute_result"
    },
    {
     "data": {
      "image/png": "[encoded data removed]",
      "text/plain": [
       "<Figure size 640x480 with 1 Axes>"
      ]
     },
     "metadata": {},
     "output_type": "display_data"
    }
   ],
   "source": [
    "X_change_prov_veg_p = X_change_prov_veg.copy()\n",
    "X_change_prov_veg_p[X_change_prov_veg_p == 255] = np.nan\n",
    "plt.imshow(X_change_prov_veg_p, vmin=0, vmax=1, interpolation='none')"
   ]
  },
  {
   "cell_type": "markdown",
   "id": "30c6ba61-7e28-4dc6-9f06-0b0a536e50cb",
   "metadata": {},
   "source": [
    "## Confirmed Change Map"
   ]
  },
  {
   "cell_type": "code",
   "execution_count": 65,
   "id": "5dd32319-6797-4bb8-abef-5424344604c8",
   "metadata": {},
   "outputs": [
    {
     "data": {
      "text/plain": [
       "(14, datetime.datetime(2024, 3, 9, 0, 0))"
      ]
     },
     "execution_count": 65,
     "metadata": {},
     "output_type": "execute_result"
    }
   ],
   "source": [
    "min_days = event_dict['dist_hls_confirmed_change_min_days']\n",
    "CHANGE_MAP_CONFIRMED_IDX = [k for (k, dt) in enumerate(acq_dt_hls) if dt > EVENT_DT + datetime.timedelta(min_days)][0]\n",
    "CHANGE_MAP_CONFIRMED_IDX, acq_dt_hls[CHANGE_MAP_CONFIRMED_IDX]"
   ]
  },
  {
   "cell_type": "code",
   "execution_count": 68,
   "id": "77eccbda-6352-46ed-9270-05b1ea433a2f",
   "metadata": {},
   "outputs": [
    {
     "data": {
      "text/plain": [
       "{'driver': 'GTiff', 'dtype': 'uint8', 'nodata': 255.0, 'width': 3660, 'height': 3660, 'count': 1, 'crs': CRS.from_epsg(32619), 'transform': Affine(30.0, 0.0, 199980.0,\n",
       "       0.0, -30.0, -3600000.0), 'blockxsize': 256, 'blockysize': 256, 'tiled': True, 'compress': 'deflate', 'interleave': 'band'}"
      ]
     },
     "execution_count": 68,
     "metadata": {},
     "output_type": "execute_result"
    }
   ],
   "source": [
    "p"
   ]
  },
  {
   "cell_type": "code",
   "execution_count": 69,
   "id": "d13a688f-85a7-4569-a6c8-d62232d45694",
   "metadata": {},
   "outputs": [
    {
     "name": "stdout",
     "output_type": "stream",
     "text": [
      "out/chile_fire_2024/change_map_dist_hls/dist_hls_confirmed_change_map_veg_2024-02-05.tif\n",
      "out/chile_fire_2024/change_map_dist_hls/dist_hls_confirmed_change_map_gen_2024-02-05.tif\n"
     ]
    }
   ],
   "source": [
    "for data_list_status, data_list_date, change_token in zip([merged_veg_status, merged_gen_status], \n",
    "                                          [merged_veg_date, merged_gen_date],\n",
    "                                          ['veg', 'gen']):\n",
    "    with rasterio.open(data_list_status[CHANGE_MAP_CONFIRMED_IDX]) as ds:\n",
    "        X_status_con = ds.read(1)\n",
    "        p = ds.profile\n",
    "\n",
    "    with rasterio.open(data_list_date[CHANGE_MAP_CONFIRMED_IDX]) as ds:\n",
    "        X_date = ds.read(1)\n",
    "\n",
    "    confirmed_event_day_val = (EVENT_DT - datetime.datetime(2020, 12, 31)).days\n",
    "    X_change_con = np.zeros(X_status_con.shape)\n",
    "    \n",
    "    confirmed_change_labels = [3, 6, 7, 8]\n",
    "    X_change_con[np.isin(X_status_con, confirmed_change_labels) & (X_date >= confirmed_event_day_val)] = 1\n",
    "\n",
    "    #prov_change_labels = [1, 2, 3, 5]\n",
    "    #X_change_con[np.isin(X_status_con, prov_change_labels)] = 255\n",
    "    \n",
    "    X_change_con[X_status_con == 255] = 255\n",
    "\n",
    "    out_path = change_dir / f'dist_hls_confirmed_change_map_{change_token}_{str(acq_dt_hls[PROVISIONAL_CHANGE_MAP_IDX].date())}.tif'\n",
    "    print(out_path)\n",
    "    with rasterio.open(out_path, 'w', **p) as ds:\n",
    "        ds.write(X_change_con.astype(np.uint8), 1)\n",
    "    "
   ]
  },
  {
   "cell_type": "code",
   "execution_count": null,
   "id": "339a672d-37fd-4126-a82a-8061339df884",
   "metadata": {},
   "outputs": [],
   "source": []
  }
 ],
 "metadata": {
  "kernelspec": {
   "display_name": "dist-s1",
   "language": "python",
   "name": "dist-s1"
  },
  "language_info": {
   "codemirror_mode": {
    "name": "ipython",
    "version": 3
   },
   "file_extension": ".py",
   "mimetype": "text/x-python",
   "name": "python",
   "nbconvert_exporter": "python",
   "pygments_lexer": "ipython3",
   "version": "3.12.4"
  }
 },
 "nbformat": 4,
 "nbformat_minor": 5
}
