{
 "cells": [
  {
   "cell_type": "code",
   "execution_count": 2,
   "id": "d0daa663-d531-445d-9b62-adba1a1b4dbf",
   "metadata": {
    "editable": true,
    "slideshow": {
     "slide_type": ""
    },
    "tags": []
   },
   "outputs": [],
   "source": [
    "import asf_search as asf\n",
    "import geopandas as gpd\n",
    "from shapely.geometry import box\n",
    "from shapely.ops import unary_union\n",
    "from shapely import force_2d\n",
    "from rasterio.crs import CRS\n",
    "import pandas as pd\n",
    "import yaml\n",
    "from pathlib import Path\n",
    "from tqdm import tqdm\n",
    "import rasterio\n",
    "import numpy as np\n",
    "from asf_search import ASFSession\n",
    "import http.cookiejar\n",
    "from dem_stitcher.geojson_io import read_geojson_gzip\n",
    "import backoff\n",
    "from skimage.restoration import denoise_tv_bregman\n",
    "import matplotlib.pyplot as plt\n",
    "from dem_stitcher.rio_tools import reproject_arr_to_match_profile\n",
    "from requests.exceptions import HTTPError\n",
    "from rasterio import RasterioIOError\n",
    "import requests"
   ]
  },
  {
   "cell_type": "markdown",
   "id": "17d6ddf3-db3e-48ba-8ee0-f9ba1634fd26",
   "metadata": {
    "editable": true,
    "slideshow": {
     "slide_type": ""
    },
    "tags": []
   },
   "source": [
    "# Parameters"
   ]
  },
  {
   "cell_type": "code",
   "execution_count": 3,
   "id": "6a8dd91d-cc0e-4c6e-bd23-9d2a30969d70",
   "metadata": {
    "editable": true,
    "slideshow": {
     "slide_type": ""
    },
    "tags": [
     "parameters"
    ]
   },
   "outputs": [],
   "source": [
    "EVENT_NAME = 'monkey_creek_fire_2024'"
   ]
  },
  {
   "cell_type": "markdown",
   "id": "2224a858-667c-47b8-a15d-a3ab4fa40122",
   "metadata": {
    "editable": true,
    "slideshow": {
     "slide_type": ""
    },
    "tags": []
   },
   "source": [
    "# Read Yaml"
   ]
  },
  {
   "cell_type": "code",
   "execution_count": 4,
   "id": "c013d1bf-a8c6-42e9-a773-9c492cbd47a7",
   "metadata": {
    "editable": true,
    "slideshow": {
     "slide_type": ""
    },
    "tags": []
   },
   "outputs": [
    {
     "data": {
      "text/plain": [
       "{'event_name': 'monkey_creek_fire_2024',\n",
       " 'bounds': [-119.58304548, 44.80735, -118.969322, 45.0896335],\n",
       " 'event_date': '2024-07-18',\n",
       " 'pre_event_window_days': 100,\n",
       " 'post_event_window_days': 60,\n",
       " 'rtc_track_numbers': [64],\n",
       " 'mgrs_tiles': ['10TGQ', '11TLK'],\n",
       " 'dist_hls_confirmed_change_min_days': 15,\n",
       " 'links': ['https://data.usatoday.com/fires/monkey-creek/4c740d60-3ea2-40ae-9400-397a37d93a28/']}"
      ]
     },
     "execution_count": 4,
     "metadata": {},
     "output_type": "execute_result"
    }
   ],
   "source": [
    "yaml_file = f'events/{EVENT_NAME}.yml'\n",
    "with open(yaml_file) as f:\n",
    "    event_dict = yaml.safe_load(f)[\"event\"]\n",
    "event_dict"
   ]
  },
  {
   "cell_type": "code",
   "execution_count": 5,
   "id": "093652bb-13ed-4420-91e0-0ae25addd071",
   "metadata": {
    "editable": true,
    "slideshow": {
     "slide_type": ""
    },
    "tags": []
   },
   "outputs": [],
   "source": [
    "aoi = box(*event_dict['bounds'])\n",
    "df_aoi = gpd.GeoDataFrame(geometry=[aoi], crs=CRS.from_epsg(4326))"
   ]
  },
  {
   "cell_type": "code",
   "execution_count": 6,
   "id": "ada7adf0-26e9-4004-8235-7579a206b80a",
   "metadata": {
    "editable": true,
    "slideshow": {
     "slide_type": ""
    },
    "tags": []
   },
   "outputs": [],
   "source": [
    "df_mgrs = gpd.read_parquet('mgrs.parquet')\n",
    "df_mgrs_overlapping = df_mgrs[df_mgrs.tile_id.isin(event_dict['mgrs_tiles'])].reset_index(drop=True)\n"
   ]
  },
  {
   "cell_type": "code",
   "execution_count": 7,
   "id": "c9d6947a-cd0e-40db-a327-22cc6fa6cef1",
   "metadata": {
    "editable": true,
    "slideshow": {
     "slide_type": ""
    },
    "tags": []
   },
   "outputs": [
    {
     "data": {
      "text/html": [
       "<div>\n",
       "<style scoped>\n",
       "    .dataframe tbody tr th:only-of-type {\n",
       "        vertical-align: middle;\n",
       "    }\n",
       "\n",
       "    .dataframe tbody tr th {\n",
       "        vertical-align: top;\n",
       "    }\n",
       "\n",
       "    .dataframe thead th {\n",
       "        text-align: right;\n",
       "    }\n",
       "</style>\n",
       "<table border=\"1\" class=\"dataframe\">\n",
       "  <thead>\n",
       "    <tr style=\"text-align: right;\">\n",
       "      <th></th>\n",
       "      <th>tile_id</th>\n",
       "      <th>epsg</th>\n",
       "      <th>utm_wkt</th>\n",
       "      <th>geometry</th>\n",
       "    </tr>\n",
       "  </thead>\n",
       "  <tbody>\n",
       "    <tr>\n",
       "      <th>0</th>\n",
       "      <td>10TGQ</td>\n",
       "      <td>32610</td>\n",
       "      <td>MULTIPOLYGON(((699960 5000040,699960 4890240,8...</td>\n",
       "      <td>MULTIPOLYGON (((-120.45737 45.12552, -120.5001...</td>\n",
       "    </tr>\n",
       "    <tr>\n",
       "      <th>1</th>\n",
       "      <td>11TLK</td>\n",
       "      <td>32611</td>\n",
       "      <td>MULTIPOLYGON(((300000 5000040,300000 4890240,4...</td>\n",
       "      <td>MULTIPOLYGON (((-119.54314 45.12551, -119.5003...</td>\n",
       "    </tr>\n",
       "  </tbody>\n",
       "</table>\n",
       "</div>"
      ],
      "text/plain": [
       "  tile_id    epsg                                            utm_wkt  \\\n",
       "0   10TGQ   32610  MULTIPOLYGON(((699960 5000040,699960 4890240,8...   \n",
       "1   11TLK   32611  MULTIPOLYGON(((300000 5000040,300000 4890240,4...   \n",
       "\n",
       "                                            geometry  \n",
       "0  MULTIPOLYGON (((-120.45737 45.12552, -120.5001...  \n",
       "1  MULTIPOLYGON (((-119.54314 45.12551, -119.5003...  "
      ]
     },
     "execution_count": 7,
     "metadata": {},
     "output_type": "execute_result"
    }
   ],
   "source": [
    "df_mgrs_overlapping = df_mgrs[df_mgrs.tile_id.isin(event_dict['mgrs_tiles'])].reset_index(drop=True)\n",
    "df_mgrs_overlapping.head()"
   ]
  },
  {
   "cell_type": "code",
   "execution_count": 8,
   "id": "0c0cbd79-ca18-43f6-8cf3-81bce226d81e",
   "metadata": {
    "editable": true,
    "slideshow": {
     "slide_type": ""
    },
    "tags": []
   },
   "outputs": [
    {
     "data": {
      "image/svg+xml": [
       "<svg xmlns=\"http://www.w3.org/2000/svg\" xmlns:xlink=\"http://www.w3.org/1999/xlink\" width=\"100.0\" height=\"100.0\" viewBox=\"-120.59503400761147 44.00488812086062 2.5618355083209536 1.2380678581436584\" preserveAspectRatio=\"xMinYMin meet\"><g transform=\"matrix(1,0,0,-1,0,89.24784409986489)\"><path fill-rule=\"evenodd\" fill=\"#66cc99\" stroke=\"#555555\" stroke-width=\"0.05123671016641907\" opacity=\"0.6\" d=\"M -118.128081295895,44.0997709174651 L -118.128081295895,45.1480731823998 L -120.500151211007,45.1480731823998 L -120.500151211007,44.0997709174651 L -118.128081295895,44.0997709174651 z\" /></g></svg>"
      ],
      "text/plain": [
       "<POLYGON ((-118.128 44.1, -118.128 45.148, -120.5 45.148, -120.5 44.1, -118....>"
      ]
     },
     "execution_count": 8,
     "metadata": {},
     "output_type": "execute_result"
    }
   ],
   "source": [
    "search_geo = box(*df_mgrs_overlapping.total_bounds)\n",
    "search_geo"
   ]
  },
  {
   "cell_type": "markdown",
   "id": "f0ab0009-2448-41fe-8c79-29c9617f6c4e",
   "metadata": {
    "editable": true,
    "slideshow": {
     "slide_type": ""
    },
    "tags": []
   },
   "source": [
    "# Assign dates from event dict"
   ]
  },
  {
   "cell_type": "code",
   "execution_count": 9,
   "id": "341fa65f-5ed4-4285-9f6e-6b1cdf5273a5",
   "metadata": {
    "editable": true,
    "slideshow": {
     "slide_type": ""
    },
    "tags": []
   },
   "outputs": [],
   "source": [
    "import datetime\n",
    "EVENT_DT = datetime.datetime.strptime(event_dict['event_date'], \"%Y-%m-%d\")\n",
    "PRE_DT_START = EVENT_DT - datetime.timedelta(days=event_dict['pre_event_window_days'])\n",
    "POST_DT_STOP = EVENT_DT + datetime.timedelta(days=event_dict['post_event_window_days'])\n"
   ]
  },
  {
   "cell_type": "code",
   "execution_count": 10,
   "id": "2e407856-6178-449a-b646-1872fd4973b2",
   "metadata": {
    "editable": true,
    "slideshow": {
     "slide_type": ""
    },
    "tags": []
   },
   "outputs": [],
   "source": [
    "resp = asf.geo_search(intersectsWith=search_geo.wkt,\n",
    "                                 processingLevel='RTC',\n",
    "                                 platform=asf.constants.SENTINEL1, \n",
    "                                 start=PRE_DT_START, \n",
    "                                 end=POST_DT_STOP,\n",
    "                                 relativeOrbit=event_dict['rtc_track_numbers']\n",
    "                                )"
   ]
  },
  {
   "cell_type": "code",
   "execution_count": 11,
   "id": "10b82e2c-a8db-410c-8aec-c9ad556fe2d4",
   "metadata": {
    "editable": true,
    "slideshow": {
     "slide_type": ""
    },
    "tags": []
   },
   "outputs": [],
   "source": [
    "df_rtc_resp = gpd.GeoDataFrame.from_features(resp.geojson(), crs=CRS.from_epsg(4326))\n",
    "df_rtc_resp['acq_dt'] = pd.to_datetime(df_rtc_resp.startTime)\n",
    "df_rtc_resp['acq_date'] = pd.to_datetime(df_rtc_resp.startTime).dt.round('D').dt.date"
   ]
  },
  {
   "cell_type": "code",
   "execution_count": 12,
   "id": "0b5b79f9-0ffe-4d6b-ac11-5ce26f27e96d",
   "metadata": {
    "editable": true,
    "slideshow": {
     "slide_type": ""
    },
    "tags": []
   },
   "outputs": [
    {
     "data": {
      "text/plain": [
       "[datetime.date(2024, 4, 20),\n",
       " datetime.date(2024, 5, 2),\n",
       " datetime.date(2024, 5, 14),\n",
       " datetime.date(2024, 5, 26),\n",
       " datetime.date(2024, 6, 19),\n",
       " datetime.date(2024, 7, 1),\n",
       " datetime.date(2024, 7, 13),\n",
       " datetime.date(2024, 7, 25),\n",
       " datetime.date(2024, 8, 6)]"
      ]
     },
     "execution_count": 12,
     "metadata": {},
     "output_type": "execute_result"
    }
   ],
   "source": [
    "sorted(df_rtc_resp.acq_date.unique())"
   ]
  },
  {
   "cell_type": "code",
   "execution_count": 13,
   "id": "6b716e92-235d-47ec-ad6c-986b9e9821e2",
   "metadata": {
    "editable": true,
    "scrolled": true,
    "slideshow": {
     "slide_type": ""
    },
    "tags": []
   },
   "outputs": [
    {
     "data": {
      "text/plain": [
       "<Axes: >"
      ]
     },
     "execution_count": 13,
     "metadata": {},
     "output_type": "execute_result"
    },
    {
     "data": {
      "image/png": "[encoded data removed]",
      "text/plain": [
       "<Figure size 640x480 with 1 Axes>"
      ]
     },
     "metadata": {},
     "output_type": "display_data"
    }
   ],
   "source": [
    "df_rtc_resp.plot()"
   ]
  },
  {
   "cell_type": "markdown",
   "id": "0d66ec9f-8853-4184-9b1b-0db0cbf1dd5b",
   "metadata": {
    "editable": true,
    "slideshow": {
     "slide_type": ""
    },
    "tags": []
   },
   "source": [
    "# Save Data"
   ]
  },
  {
   "cell_type": "code",
   "execution_count": 14,
   "id": "1f07923e-0960-418a-93d5-ea2b65205bba",
   "metadata": {
    "editable": true,
    "slideshow": {
     "slide_type": ""
    },
    "tags": []
   },
   "outputs": [
    {
     "data": {
      "text/plain": [
       "PosixPath('out/monkey_creek_fire_2024/burst_data')"
      ]
     },
     "execution_count": 14,
     "metadata": {},
     "output_type": "execute_result"
    }
   ],
   "source": [
    "burst_dir = Path('out') / event_dict['event_name'] / 'burst_data' \n",
    "burst_dir.mkdir(exist_ok=True, parents=True)\n",
    "burst_dir"
   ]
  },
  {
   "cell_type": "code",
   "execution_count": 15,
   "id": "e68a5910-24cf-4595-b120-19a389cd4c7d",
   "metadata": {
    "editable": true,
    "slideshow": {
     "slide_type": ""
    },
    "tags": []
   },
   "outputs": [],
   "source": [
    "from requests.exceptions import HTTPError\n",
    "from mpire import WorkerPool\n",
    "import scipy.ndimage as ndimage\n",
    "from skimage.measure import regionprops, label\n",
    "\n",
    "def despeckle_one(\n",
    "    X: np.ndarray, reg_param=5, noise_floor_db=-22, preserve_nans=True\n",
    ") -> np.ndarray:\n",
    "    X_c = np.clip(X, 1e-7, 1)\n",
    "    X_db = 10 * np.log10(X_c, out=np.full(X_c.shape, np.nan), where=(~np.isnan(X_c)))\n",
    "    X_db[np.isnan(X_c)] = noise_floor_db\n",
    "    X_db_dspkl = denoise_tv_bregman(\n",
    "        X_db, weight=1.0 / reg_param, isotropic=True, eps=1e-3\n",
    "    )\n",
    "    X_dspkl = np.power(10, X_db_dspkl / 10.0)\n",
    "\n",
    "    data_mask = np.isnan(X_c).astype(bool)\n",
    "    mask_labels = label(data_mask)\n",
    "    \n",
    "    exterior_mask_val = mask_labels[0, 0]\n",
    "    assert all([exterior_mask_val == mask_labels[i, j] for i in [0, -1] for j in [0, -1]])\n",
    "    exterior_mask = (mask_labels == exterior_mask_val).astype(np.uint8)\n",
    "\n",
    "    exterior_mask_b = ndimage.binary_dilation(exterior_mask, iterations=4).astype(bool)\n",
    "    \n",
    "    if preserve_nans:\n",
    "        X_dspkl[exterior_mask_b] = np.nan\n",
    "    else:\n",
    "         X_dspkl[exterior_mask_b] = 0\n",
    "    X_dspkl = np.clip(X_dspkl, 0, 1)\n",
    "    \n",
    "    return X_dspkl\n",
    "\n",
    "@backoff.on_exception(\n",
    "    backoff.expo,\n",
    "    [ConnectionError, HTTPError, RasterioIOError],\n",
    "    max_tries=10,\n",
    "    max_time=60,\n",
    "    jitter=backoff.full_jitter,\n",
    ")\n",
    "def localize_one_rtc(\n",
    "    url: str,\n",
    "    ts_dir: str | Path\n",
    ") -> Path:\n",
    "    local_fn = url.split(\"/\")[-1]\n",
    "    out_path = ts_dir / local_fn\n",
    "    if not ts_dir.exists():\n",
    "        ts_dir.mkdir(parents=True)\n",
    "    if out_path.exists():\n",
    "        return out_path\n",
    "        \n",
    "    with requests.get(url, stream=True) as r:\n",
    "        r.raise_for_status()\n",
    "        with open(out_path, 'wb') as f:\n",
    "            for chunk in r.iter_content(chunk_size=16384): \n",
    "                f.write(chunk)\n",
    "    return out_path\n"
   ]
  },
  {
   "cell_type": "code",
   "execution_count": 16,
   "id": "cfb36d8a-5e7d-465a-8aec-a74e37e285f2",
   "metadata": {
    "editable": true,
    "slideshow": {
     "slide_type": ""
    },
    "tags": []
   },
   "outputs": [
    {
     "name": "stdout",
     "output_type": "stream",
     "text": [
      "64 2024-04-20 24\n",
      "64 2024-05-02 24\n",
      "64 2024-05-14 24\n",
      "64 2024-05-26 24\n",
      "64 2024-06-19 24\n",
      "64 2024-07-01 24\n",
      "64 2024-07-13 24\n",
      "64 2024-07-25 23\n",
      "64 2024-08-06 24\n"
     ]
    }
   ],
   "source": [
    "zipped_inputs = []\n",
    "for (track_number, date), df_rtc_date in df_rtc_resp.groupby(['pathNumber', \n",
    "                                                              'acq_date']):\n",
    "    print(track_number, date, df_rtc_date.shape[0])\n",
    "    vh_urls = df_rtc_date.url.tolist()\n",
    "    vv_urls = [url.replace('VH.tif', 'VV.tif') for url in vh_urls]\n",
    "    ts_dir = burst_dir / f'track{str(track_number)}' / f'{str(date)}'\n",
    "    ts_dir.mkdir(exist_ok=True, parents=True)\n",
    "    localize_one_rtc_p = lambda url: localize_one_rtc(url, ts_dir=ts_dir)\n",
    "    zipped_inputs.extend([(url, ts_dir) for url in vv_urls + vh_urls]) \n",
    "\n",
    "    "
   ]
  },
  {
   "cell_type": "code",
   "execution_count": 17,
   "id": "df7a80b1-e8fe-4a3a-ac04-e8c27a944540",
   "metadata": {
    "editable": true,
    "slideshow": {
     "slide_type": ""
    },
    "tags": []
   },
   "outputs": [],
   "source": [
    "def localize_one_rtc_p(data: tuple) -> Path:\n",
    "    return localize_one_rtc(*data)\n",
    "    \n",
    "#localize_one_rtc_p(zipped_inputs[0])"
   ]
  },
  {
   "cell_type": "code",
   "execution_count": 20,
   "id": "7589b4bc-2e5d-4398-b9da-fb23405aebee",
   "metadata": {
    "editable": true,
    "slideshow": {
     "slide_type": ""
    },
    "tags": []
   },
   "outputs": [],
   "source": [
    "# with WorkerPool(n_jobs=5, use_dill=True) as pool:\n",
    "#     out_paths = pool.map(\n",
    "#         localize_one_rtc,\n",
    "#         zipped_inputs,\n",
    "#         progress_bar=True,\\\n",
    "#         progress_bar_style=\"std\",\n",
    "#         concatenate_numpy_output=False,\n",
    "#     )"
   ]
  },
  {
   "cell_type": "code",
   "execution_count": 21,
   "id": "0d9a00f5-a951-42a6-b7b0-b7f60aaa8d06",
   "metadata": {
    "editable": true,
    "slideshow": {
     "slide_type": ""
    },
    "tags": []
   },
   "outputs": [
    {
     "name": "stderr",
     "output_type": "stream",
     "text": [
      "100%|█| 430/430 [02:42<00:00,  2.65it/s\n"
     ]
    }
   ],
   "source": [
    "import concurrent.futures\n",
    "\n",
    "with concurrent.futures.ThreadPoolExecutor(max_workers=10) as executor:\n",
    "    out_paths = list(tqdm(executor.map(localize_one_rtc_p, zipped_inputs[:]), total=len(zipped_inputs)))"
   ]
  },
  {
   "cell_type": "markdown",
   "id": "b9728a9c-5708-4213-a29d-cd2e0db12002",
   "metadata": {
    "editable": true,
    "slideshow": {
     "slide_type": ""
    },
    "tags": []
   },
   "source": [
    "# Merge data"
   ]
  },
  {
   "cell_type": "code",
   "execution_count": 28,
   "id": "520c4bf9-3d6e-4d2d-9a05-69c02068b4e9",
   "metadata": {
    "editable": true,
    "slideshow": {
     "slide_type": ""
    },
    "tags": []
   },
   "outputs": [
    {
     "data": {
      "text/plain": [
       "PosixPath('out/monkey_creek_fire_2024/change_map_dist_hls')"
      ]
     },
     "execution_count": 28,
     "metadata": {},
     "output_type": "execute_result"
    }
   ],
   "source": [
    "change_dir_hls = Path('out') / event_dict['event_name'] / 'change_map_dist_hls'\n",
    "change_dir_hls.mkdir(exist_ok=True, parents=True)\n",
    "change_dir_hls"
   ]
  },
  {
   "cell_type": "code",
   "execution_count": 29,
   "id": "5eb9f4c3-fd0f-4950-9b97-239defc025bf",
   "metadata": {
    "editable": true,
    "slideshow": {
     "slide_type": ""
    },
    "tags": []
   },
   "outputs": [
    {
     "data": {
      "text/plain": [
       "PosixPath('out/monkey_creek_fire_2024/change_map_dist_hls/dist_hls_provisional_change_map_veg_first2024-07-19.tif')"
      ]
     },
     "execution_count": 29,
     "metadata": {},
     "output_type": "execute_result"
    }
   ],
   "source": [
    "change_map_tif = list(change_dir_hls.glob('*.tif'))[0]\n",
    "with rasterio.open(change_map_tif) as ds:\n",
    "    ref_profile_dist_hls = ds.profile\n",
    "\n",
    "change_map_tif"
   ]
  },
  {
   "cell_type": "code",
   "execution_count": 24,
   "id": "9d5465d6-6246-4128-9761-d50d0ef86c0b",
   "metadata": {
    "editable": true,
    "slideshow": {
     "slide_type": ""
    },
    "tags": []
   },
   "outputs": [
    {
     "data": {
      "text/plain": [
       "[PosixPath('out/monkey_creek_fire_2024/burst_data/track64/2024-04-20'),\n",
       " PosixPath('out/monkey_creek_fire_2024/burst_data/track64/2024-05-02'),\n",
       " PosixPath('out/monkey_creek_fire_2024/burst_data/track64/2024-05-14'),\n",
       " PosixPath('out/monkey_creek_fire_2024/burst_data/track64/2024-05-26'),\n",
       " PosixPath('out/monkey_creek_fire_2024/burst_data/track64/2024-06-19'),\n",
       " PosixPath('out/monkey_creek_fire_2024/burst_data/track64/2024-07-01'),\n",
       " PosixPath('out/monkey_creek_fire_2024/burst_data/track64/2024-07-13'),\n",
       " PosixPath('out/monkey_creek_fire_2024/burst_data/track64/2024-07-25'),\n",
       " PosixPath('out/monkey_creek_fire_2024/burst_data/track64/2024-08-06')]"
      ]
     },
     "execution_count": 24,
     "metadata": {},
     "output_type": "execute_result"
    }
   ],
   "source": [
    "track_dirs = [burst_dir / f'track{t}' for t in event_dict[\"rtc_track_numbers\"]]\n",
    "acq_dirs = sorted([date_dir for track_dir in track_dirs for date_dir in track_dir.glob('*/')])\n",
    "acq_dirs"
   ]
  },
  {
   "cell_type": "code",
   "execution_count": 33,
   "id": "8a493cf6-0b6c-410b-a290-7e288e7528ef",
   "metadata": {
    "editable": true,
    "slideshow": {
     "slide_type": ""
    },
    "tags": []
   },
   "outputs": [],
   "source": [
    "from rasterio.merge import merge\n",
    "from dem_stitcher.rio_tools import reproject_profile_to_new_crs\n",
    "def merge_one_dir(acq_dir: Path, pol='VV', preserve_nans=True) -> list:\n",
    "    assert pol in ['VV', 'VH']\n",
    "    all_img_paths = list(acq_dir.glob(f'OPERA*{pol}.tif'))\n",
    "    date_str = acq_dir.stem\n",
    "    track_str = acq_dir.parent.stem\n",
    "    acq_date_track_token = f'{date_str}_{track_str}'\n",
    "\n",
    "    ts_dir = burst_dir.parent / 'rtc_ts_merged' / track_str \n",
    "    ts_dir.mkdir(exist_ok=True, parents=True)\n",
    "\n",
    "    dst_path = ts_dir / f'merged_{acq_date_track_token}_{pol}.tif'\n",
    "\n",
    "    if dst_path.exists():\n",
    "        return dst_path\n",
    "\n",
    "    def get_crs(p):\n",
    "        with rasterio.open(p) as ds:\n",
    "            crs = ds.crs\n",
    "        return crs\n",
    "\n",
    "    crs_l = [get_crs(path) for path in all_img_paths]\n",
    "    def most_common(lst):\n",
    "        \"\"\"source: https://stackoverflow.com/a/1518632\"\"\"\n",
    "        return max(set(lst), key=lst.count)\n",
    "    ref_crs = most_common(crs_l)\n",
    "    for path, crs in zip(all_img_paths, crs_l):\n",
    "        if ref_crs != crs:\n",
    "            with rasterio.open(path) as ds:\n",
    "                X = ds.read(1)\n",
    "                p = ds.profile\n",
    "            prof_r = reproject_profile_to_new_crs(p, ref_crs)\n",
    "            X_r, p_r = reproject_arr_to_match_profile(X, p, prof_r)\n",
    "            # overwrite\n",
    "            with rasterio.open(path, 'w', **p_r) as ds:\n",
    "                ds.write(X_r)\n",
    "    \n",
    "    X_m, t_m = merge(all_img_paths, dtype='float32', method='first')\n",
    "    with rasterio.open(all_img_paths[0]) as ds:\n",
    "        p = ds.profile\n",
    "    prof_merged = p.copy()\n",
    "    prof_merged['transform'] = t_m\n",
    "    prof_merged['count'] = X_m.shape[0]\n",
    "    prof_merged['height'] = X_m.shape[1]\n",
    "    prof_merged['width'] = X_m.shape[2]\n",
    "\n",
    "    X_m_d = despeckle_one(X_m[0, ...], preserve_nans=preserve_nans)\n",
    "\n",
    "    X_m_d_r, p_m_r = reproject_arr_to_match_profile(X_m_d, prof_merged, ref_profile_dist_hls)\n",
    "    \n",
    "    with rasterio.open(dst_path, 'w', **p_m_r) as ds:\n",
    "        ds.write(X_m_d_r)\n",
    "    \n",
    "    return dst_path"
   ]
  },
  {
   "cell_type": "code",
   "execution_count": 34,
   "id": "a6d66423-a230-4f8b-bc21-cd9a55d17429",
   "metadata": {
    "editable": true,
    "slideshow": {
     "slide_type": ""
    },
    "tags": []
   },
   "outputs": [],
   "source": [
    "# merge_one_dir(*merge_inputs[29])"
   ]
  },
  {
   "cell_type": "code",
   "execution_count": 35,
   "id": "48bef4f7-db43-4e2b-8431-cb8a35240bc5",
   "metadata": {
    "editable": true,
    "slideshow": {
     "slide_type": ""
    },
    "tags": []
   },
   "outputs": [
    {
     "name": "stderr",
     "output_type": "stream",
     "text": [
      "100%|█| 18/18 [00:00<00:00, 227.41it/s]\n"
     ]
    },
    {
     "data": {
      "text/plain": [
       "[PosixPath('out/monkey_creek_fire_2024/rtc_ts_merged/track64/merged_2024-04-20_track64_VV.tif'),\n",
       " PosixPath('out/monkey_creek_fire_2024/rtc_ts_merged/track64/merged_2024-04-20_track64_VH.tif'),\n",
       " PosixPath('out/monkey_creek_fire_2024/rtc_ts_merged/track64/merged_2024-05-02_track64_VV.tif'),\n",
       " PosixPath('out/monkey_creek_fire_2024/rtc_ts_merged/track64/merged_2024-05-02_track64_VH.tif'),\n",
       " PosixPath('out/monkey_creek_fire_2024/rtc_ts_merged/track64/merged_2024-05-14_track64_VV.tif'),\n",
       " PosixPath('out/monkey_creek_fire_2024/rtc_ts_merged/track64/merged_2024-05-14_track64_VH.tif'),\n",
       " PosixPath('out/monkey_creek_fire_2024/rtc_ts_merged/track64/merged_2024-05-26_track64_VV.tif'),\n",
       " PosixPath('out/monkey_creek_fire_2024/rtc_ts_merged/track64/merged_2024-05-26_track64_VH.tif'),\n",
       " PosixPath('out/monkey_creek_fire_2024/rtc_ts_merged/track64/merged_2024-06-19_track64_VV.tif'),\n",
       " PosixPath('out/monkey_creek_fire_2024/rtc_ts_merged/track64/merged_2024-06-19_track64_VH.tif'),\n",
       " PosixPath('out/monkey_creek_fire_2024/rtc_ts_merged/track64/merged_2024-07-01_track64_VV.tif'),\n",
       " PosixPath('out/monkey_creek_fire_2024/rtc_ts_merged/track64/merged_2024-07-01_track64_VH.tif'),\n",
       " PosixPath('out/monkey_creek_fire_2024/rtc_ts_merged/track64/merged_2024-07-13_track64_VV.tif'),\n",
       " PosixPath('out/monkey_creek_fire_2024/rtc_ts_merged/track64/merged_2024-07-13_track64_VH.tif'),\n",
       " PosixPath('out/monkey_creek_fire_2024/rtc_ts_merged/track64/merged_2024-07-25_track64_VV.tif'),\n",
       " PosixPath('out/monkey_creek_fire_2024/rtc_ts_merged/track64/merged_2024-07-25_track64_VH.tif'),\n",
       " PosixPath('out/monkey_creek_fire_2024/rtc_ts_merged/track64/merged_2024-08-06_track64_VV.tif'),\n",
       " PosixPath('out/monkey_creek_fire_2024/rtc_ts_merged/track64/merged_2024-08-06_track64_VH.tif')]"
      ]
     },
     "execution_count": 35,
     "metadata": {},
     "output_type": "execute_result"
    }
   ],
   "source": [
    "merge_inputs = [(directory, pol) for directory in acq_dirs[:] for pol in ['VV', 'VH']]\n",
    "\n",
    "with WorkerPool(n_jobs=5, use_dill=True) as pool:\n",
    "    dst_paths = pool.map(\n",
    "        merge_one_dir,\n",
    "        merge_inputs,\n",
    "        progress_bar=True,\\\n",
    "        progress_bar_style=\"std\",\n",
    "    )\n",
    "# dst_paths = [merge_one_dir(directory, pol=pol) for directory in tqdm(acq_dirs[:]) for pol in ['VV', 'VH']]\n",
    "dst_paths"
   ]
  },
  {
   "cell_type": "markdown",
   "id": "2178c31b-ff99-4d28-9532-b513fb570276",
   "metadata": {
    "editable": true,
    "slideshow": {
     "slide_type": ""
    },
    "tags": []
   },
   "source": [
    "# Remove Source Burst Directory"
   ]
  },
  {
   "cell_type": "code",
   "execution_count": null,
   "id": "2fc97e52-1dd2-45a2-866d-f5796d95d86a",
   "metadata": {
    "editable": true,
    "slideshow": {
     "slide_type": ""
    },
    "tags": []
   },
   "outputs": [],
   "source": [
    "import shutil\n",
    "\n",
    "shutil.rmtree(burst_dir)"
   ]
  }
 ],
 "metadata": {
  "kernelspec": {
   "display_name": "dist-s1",
   "language": "python",
   "name": "dist-s1"
  },
  "language_info": {
   "codemirror_mode": {
    "name": "ipython",
    "version": 3
   },
   "file_extension": ".py",
   "mimetype": "text/x-python",
   "name": "python",
   "nbconvert_exporter": "python",
   "pygments_lexer": "ipython3",
   "version": "3.12.4"
  }
 },
 "nbformat": 4,
 "nbformat_minor": 5
}
