{
 "cells": [
  {
   "cell_type": "code",
   "execution_count": 4,
   "id": "d0daa663-d531-445d-9b62-adba1a1b4dbf",
   "metadata": {
    "editable": true,
    "slideshow": {
     "slide_type": ""
    },
    "tags": []
   },
   "outputs": [],
   "source": [
    "import asf_search as asf\n",
    "import geopandas as gpd\n",
    "from shapely.geometry import box\n",
    "from shapely.ops import unary_union\n",
    "from shapely import force_2d\n",
    "from rasterio.crs import CRS\n",
    "import pandas as pd\n",
    "import yaml\n",
    "from pathlib import Path\n",
    "from tqdm import tqdm\n",
    "import rasterio\n",
    "import numpy as np\n",
    "from asf_search import ASFSession\n",
    "import http.cookiejar\n",
    "from dem_stitcher.geojson_io import read_geojson_gzip\n",
    "import backoff\n",
    "from skimage.restoration import denoise_tv_bregman\n",
    "import matplotlib.pyplot as plt\n",
    "from dem_stitcher.rio_tools import reproject_arr_to_match_profile"
   ]
  },
  {
   "cell_type": "code",
   "execution_count": 5,
   "id": "424bb720-bc78-49bf-9477-515f5744a421",
   "metadata": {
    "editable": true,
    "slideshow": {
     "slide_type": ""
    },
    "tags": []
   },
   "outputs": [],
   "source": [
    "DAAC_ENV_CONFIG = {'GDAL_HTTP_UNSAFESSL': 'YES',\n",
    "                   'GDAL_HTTP_COOKIEFILE': '~/cookies.txt',\n",
    "                   'GDAL_HTTP_COOKIEJAR': '~/cookies.txt',\n",
    "                   'GDAL_DISABLE_READDIR_ON_OPEN': 'YES',\n",
    "                   'CPL_VSIL_CURL_ALLOWED_EXTENSIONS': 'TIF'}"
   ]
  },
  {
   "cell_type": "markdown",
   "id": "17d6ddf3-db3e-48ba-8ee0-f9ba1634fd26",
   "metadata": {
    "editable": true,
    "slideshow": {
     "slide_type": ""
    },
    "tags": []
   },
   "source": [
    "# Parameters"
   ]
  },
  {
   "cell_type": "code",
   "execution_count": 6,
   "id": "6a8dd91d-cc0e-4c6e-bd23-9d2a30969d70",
   "metadata": {
    "editable": true,
    "slideshow": {
     "slide_type": ""
    },
    "tags": [
     "parameters"
    ]
   },
   "outputs": [],
   "source": [
    "EVENT_NAME = 'chile_fire_2024'"
   ]
  },
  {
   "cell_type": "markdown",
   "id": "2224a858-667c-47b8-a15d-a3ab4fa40122",
   "metadata": {
    "editable": true,
    "slideshow": {
     "slide_type": ""
    },
    "tags": []
   },
   "source": [
    "# Read Yaml"
   ]
  },
  {
   "cell_type": "code",
   "execution_count": 7,
   "id": "c013d1bf-a8c6-42e9-a773-9c492cbd47a7",
   "metadata": {
    "editable": true,
    "slideshow": {
     "slide_type": ""
    },
    "tags": []
   },
   "outputs": [
    {
     "data": {
      "text/plain": [
       "{'event_name': 'chile_fire_2024',\n",
       " 'bounds': [-71.53071089, -33.20143816, -71.2964628, -32.98270579],\n",
       " 'event_date': '2024-02-04',\n",
       " 'pre_event_window_days': 100,\n",
       " 'post_event_window_days': 60,\n",
       " 'rtc_track_numbers': [18, 156],\n",
       " 'mgrs_tiles': ['19HBD'],\n",
       " 'source_id': 'EMSR715',\n",
       " 'dist_hls_confirmed_change_min_days': 30,\n",
       " 'links': ['https://earthobservatory.nasa.gov/images/152411/fires-rage-in-central-chile',\n",
       "  'https://en.wikipedia.org/wiki/2024_Chile_wildfires']}"
      ]
     },
     "execution_count": 7,
     "metadata": {},
     "output_type": "execute_result"
    }
   ],
   "source": [
    "yaml_file = f'events/{EVENT_NAME}.yml'\n",
    "with open(yaml_file) as f:\n",
    "    event_dict = yaml.safe_load(f)[\"event\"]\n",
    "event_dict"
   ]
  },
  {
   "cell_type": "code",
   "execution_count": 4,
   "id": "093652bb-13ed-4420-91e0-0ae25addd071",
   "metadata": {
    "editable": true,
    "slideshow": {
     "slide_type": ""
    },
    "tags": []
   },
   "outputs": [],
   "source": [
    "aoi = box(*event_dict['bounds'])\n",
    "df_aoi = gpd.GeoDataFrame(geometry=[aoi], crs=CRS.from_epsg(4326))"
   ]
  },
  {
   "cell_type": "code",
   "execution_count": 12,
   "id": "e8e5fdc0-e30b-4650-ac9d-675a391795c9",
   "metadata": {},
   "outputs": [
    {
     "data": {
      "text/html": [
       "<div>\n",
       "<style scoped>\n",
       "    .dataframe tbody tr th:only-of-type {\n",
       "        vertical-align: middle;\n",
       "    }\n",
       "\n",
       "    .dataframe tbody tr th {\n",
       "        vertical-align: top;\n",
       "    }\n",
       "\n",
       "    .dataframe thead th {\n",
       "        text-align: right;\n",
       "    }\n",
       "</style>\n",
       "<table border=\"1\" class=\"dataframe\">\n",
       "  <thead>\n",
       "    <tr style=\"text-align: right;\">\n",
       "      <th></th>\n",
       "      <th>tile_id</th>\n",
       "      <th>geometry</th>\n",
       "    </tr>\n",
       "  </thead>\n",
       "  <tbody>\n",
       "    <tr>\n",
       "      <th>0</th>\n",
       "      <td>19HBD</td>\n",
       "      <td>POLYGON ((-72.19295 -32.49681, -71.02522 -32.5...</td>\n",
       "    </tr>\n",
       "  </tbody>\n",
       "</table>\n",
       "</div>"
      ],
      "text/plain": [
       "  tile_id                                           geometry\n",
       "0   19HBD  POLYGON ((-72.19295 -32.49681, -71.02522 -32.5..."
      ]
     },
     "execution_count": 12,
     "metadata": {},
     "output_type": "execute_result"
    }
   ],
   "source": [
    "df_mgrs = gpd.read_file('https://raw.githubusercontent.com/NASA-IMPACT/hls-land_tiles/master/s2_grid.json')\n",
    "df_mgrs_overlapping = df_mgrs[df_mgrs.identifier.isin(event_dict['mgrs_tiles'])].reset_index(drop=True)\n",
    "df_mgrs_overlapping.rename(columns={'identifier': 'tile_id'}, inplace=True)\n",
    "# Remove extra column\n",
    "df_mgrs_overlapping.drop(columns='type', inplace=True)\n",
    "df_mgrs_overlapping['geometry'] = df_mgrs_overlapping.geometry.map(lambda multi_geo: unary_union(multi_geo.geoms))\n",
    "# Makes 3d or Z dimension go away\n",
    "df_mgrs_overlapping['geometry'] = df_mgrs_overlapping.geometry.map(lambda geo: force_2d(geo))\n",
    "df_mgrs_overlapping.head()"
   ]
  },
  {
   "cell_type": "code",
   "execution_count": 13,
   "id": "0c0cbd79-ca18-43f6-8cf3-81bce226d81e",
   "metadata": {},
   "outputs": [
    {
     "data": {
      "image/svg+xml": [
       "<svg xmlns=\"http://www.w3.org/2000/svg\" xmlns:xlink=\"http://www.w3.org/1999/xlink\" width=\"100.0\" height=\"100.0\" viewBox=\"-72.276940775448 -33.558997212348004 1.2998639604959976 1.1103267899960088\" preserveAspectRatio=\"xMinYMin meet\"><g transform=\"matrix(1,0,0,-1,0,-66.0076676347)\"><path fill-rule=\"evenodd\" fill=\"#66cc99\" stroke=\"#555555\" stroke-width=\"0.02599727920991995\" opacity=\"0.6\" d=\"M -71.0252199246,-33.5108541027 L -71.0252199246,-32.496813532 L -72.2287976658,-32.496813532 L -72.2287976658,-33.5108541027 L -71.0252199246,-33.5108541027 z\" /></g></svg>"
      ],
      "text/plain": [
       "<POLYGON ((-71.025 -33.511, -71.025 -32.497, -72.229 -32.497, -72.229 -33.51...>"
      ]
     },
     "execution_count": 13,
     "metadata": {},
     "output_type": "execute_result"
    }
   ],
   "source": [
    "df_mgrs_search = df_mgrs_overlapping[df_mgrs_overlapping.tile_id.isin(event_dict['mgrs_tiles'])].reset_index(drop=True)\n",
    "search_geo = box(*df_mgrs_search.total_bounds)\n",
    "search_geo"
   ]
  },
  {
   "cell_type": "markdown",
   "id": "f0ab0009-2448-41fe-8c79-29c9617f6c4e",
   "metadata": {},
   "source": [
    "# Assign dates from event dict"
   ]
  },
  {
   "cell_type": "code",
   "execution_count": 14,
   "id": "341fa65f-5ed4-4285-9f6e-6b1cdf5273a5",
   "metadata": {},
   "outputs": [],
   "source": [
    "import datetime\n",
    "EVENT_DT = datetime.datetime.strptime(event_dict['event_date'], \"%Y-%m-%d\")\n",
    "PRE_DT_START = EVENT_DT - datetime.timedelta(days=event_dict['pre_event_window_days'])\n",
    "POST_DT_STOP = EVENT_DT + datetime.timedelta(days=event_dict['post_event_window_days'])\n"
   ]
  },
  {
   "cell_type": "code",
   "execution_count": 15,
   "id": "2e407856-6178-449a-b646-1872fd4973b2",
   "metadata": {},
   "outputs": [],
   "source": [
    "resp = asf.geo_search(intersectsWith=search_geo.wkt,\n",
    "                                 processingLevel='RTC',\n",
    "                                 platform=asf.constants.SENTINEL1, \n",
    "                                 start=PRE_DT_START, \n",
    "                                 end=POST_DT_STOP,\n",
    "                                 relativeOrbit=event_dict['rtc_track_numbers']\n",
    "                                )"
   ]
  },
  {
   "cell_type": "code",
   "execution_count": 16,
   "id": "10b82e2c-a8db-410c-8aec-c9ad556fe2d4",
   "metadata": {},
   "outputs": [],
   "source": [
    "df_rtc_resp = gpd.GeoDataFrame.from_features(resp.geojson(), crs=CRS.from_epsg(4326))\n",
    "df_rtc_resp['acq_dt'] = pd.to_datetime(df_rtc_resp.startTime)\n",
    "df_rtc_resp['acq_date'] = pd.to_datetime(df_rtc_resp.startTime).dt.round('D').dt.date"
   ]
  },
  {
   "cell_type": "code",
   "execution_count": 17,
   "id": "0b5b79f9-0ffe-4d6b-ac11-5ce26f27e96d",
   "metadata": {},
   "outputs": [
    {
     "data": {
      "text/plain": [
       "[datetime.date(2023, 11, 1),\n",
       " datetime.date(2023, 11, 10),\n",
       " datetime.date(2023, 11, 13),\n",
       " datetime.date(2023, 11, 22),\n",
       " datetime.date(2023, 11, 25),\n",
       " datetime.date(2023, 12, 4),\n",
       " datetime.date(2023, 12, 7),\n",
       " datetime.date(2023, 12, 16),\n",
       " datetime.date(2023, 12, 19),\n",
       " datetime.date(2023, 12, 28),\n",
       " datetime.date(2023, 12, 31),\n",
       " datetime.date(2024, 1, 9),\n",
       " datetime.date(2024, 1, 12),\n",
       " datetime.date(2024, 1, 21),\n",
       " datetime.date(2024, 1, 24),\n",
       " datetime.date(2024, 2, 2),\n",
       " datetime.date(2024, 2, 5),\n",
       " datetime.date(2024, 2, 14),\n",
       " datetime.date(2024, 2, 17),\n",
       " datetime.date(2024, 2, 26),\n",
       " datetime.date(2024, 2, 29),\n",
       " datetime.date(2024, 3, 9),\n",
       " datetime.date(2024, 3, 12),\n",
       " datetime.date(2024, 3, 21),\n",
       " datetime.date(2024, 3, 24),\n",
       " datetime.date(2024, 4, 2)]"
      ]
     },
     "execution_count": 17,
     "metadata": {},
     "output_type": "execute_result"
    }
   ],
   "source": [
    "sorted(df_rtc_resp.acq_date.unique())"
   ]
  },
  {
   "cell_type": "code",
   "execution_count": 18,
   "id": "6b716e92-235d-47ec-ad6c-986b9e9821e2",
   "metadata": {
    "scrolled": true
   },
   "outputs": [
    {
     "data": {
      "text/plain": [
       "<Axes: >"
      ]
     },
     "execution_count": 18,
     "metadata": {},
     "output_type": "execute_result"
    },
    {
     "data": {
      "image/png": "[encoded data removed]",
      "text/plain": [
       "<Figure size 640x480 with 1 Axes>"
      ]
     },
     "metadata": {},
     "output_type": "display_data"
    }
   ],
   "source": [
    "df_rtc_resp.plot()"
   ]
  },
  {
   "cell_type": "markdown",
   "id": "0d66ec9f-8853-4184-9b1b-0db0cbf1dd5b",
   "metadata": {},
   "source": [
    "# Save Data"
   ]
  },
  {
   "cell_type": "code",
   "execution_count": 19,
   "id": "1f07923e-0960-418a-93d5-ea2b65205bba",
   "metadata": {},
   "outputs": [
    {
     "data": {
      "text/plain": [
       "PosixPath('out/chile_fire_2024/burst_data')"
      ]
     },
     "execution_count": 19,
     "metadata": {},
     "output_type": "execute_result"
    }
   ],
   "source": [
    "burst_dir = Path('out') / event_dict['event_name'] / 'burst_data' \n",
    "burst_dir.mkdir(exist_ok=True, parents=True)\n",
    "burst_dir"
   ]
  },
  {
   "cell_type": "code",
   "execution_count": 39,
   "id": "e68a5910-24cf-4595-b120-19a389cd4c7d",
   "metadata": {},
   "outputs": [],
   "source": [
    "from requests.exceptions import HTTPError\n",
    "from mpire import WorkerPool\n",
    "import scipy.ndimage as ndimage\n",
    "from skimage.measure import regionprops, label\n",
    "\n",
    "def despeckle_one(\n",
    "    X: np.ndarray, reg_param=5, noise_floor_db=-22, preserve_nans=True\n",
    ") -> np.ndarray:\n",
    "    X_c = np.clip(X, 1e-7, 1)\n",
    "    X_db = 10 * np.log10(X_c, out=np.full(X_c.shape, np.nan), where=(~np.isnan(X_c)))\n",
    "    X_db[np.isnan(X_c)] = noise_floor_db\n",
    "    X_db_dspkl = denoise_tv_bregman(\n",
    "        X_db, weight=1.0 / reg_param, isotropic=True, eps=1e-3\n",
    "    )\n",
    "    X_dspkl = np.power(10, X_db_dspkl / 10.0)\n",
    "\n",
    "    data_mask = np.isnan(X_c).astype(bool)\n",
    "    mask_labels = label(data_mask)\n",
    "    \n",
    "    exterior_mask_val = mask_labels[0, 0]\n",
    "    assert all([exterior_mask_val == mask_labels[i, j] for i in [0, -1] for j in [0, -1]])\n",
    "    exterior_mask = (mask_labels == exterior_mask_val).astype(np.uint8)\n",
    "\n",
    "    exterior_mask_b = ndimage.binary_dilation(exterior_mask, iterations=4).astype(bool)\n",
    "    \n",
    "    if preserve_nans:\n",
    "        X_dspkl[exterior_mask_b] = np.nan\n",
    "    else:\n",
    "         X_dspkl[exterior_mask_b] = 0\n",
    "    X_dspkl = np.clip(X_dspkl, 0, 1)\n",
    "    \n",
    "    return X_dspkl\n",
    "\n",
    "\n",
    "def localize_one_rtc(\n",
    "    url: str | Path | list | tuple,\n",
    "    ts_dir: str | Path = Path(\".\"),\n",
    ") -> Path:\n",
    "    if isinstance(url, (list, tuple)):\n",
    "        local_fn = url[0].split(\"/\")[-1]\n",
    "        local_fn = f\"{local_fn[:-7]}_stack.tif\"\n",
    "    else:\n",
    "        local_fn = url.split(\"/\")[-1]\n",
    "\n",
    "    out_path = ts_dir / local_fn\n",
    "\n",
    "    if out_path.exists():\n",
    "        return out_path\n",
    "\n",
    "    def open_one(url: str) -> tuple:\n",
    "        with rasterio.Env(**DAAC_ENV_CONFIG):\n",
    "            with rasterio.open(url) as ds:\n",
    "                X = ds.read(1)\n",
    "                p = ds.profile\n",
    "\n",
    "        X = np.clip(X, 1e-7, 1)\n",
    "        return X, p\n",
    "\n",
    "    if not isinstance(url, (list, tuple)):\n",
    "        arrs, ps = zip(*[open_one(url)])\n",
    "    else:\n",
    "        arrs, ps = zip(*list(map(open_one, url)))\n",
    "\n",
    "\n",
    "    X_out = np.stack(arrs, axis=0)\n",
    "    p = ps[0].copy()\n",
    "    p[\"count\"] = X_out.shape[0]\n",
    "    with rasterio.open(out_path, \"w\", **p) as ds:\n",
    "        ds.write(X_out)\n",
    "    return X_out"
   ]
  },
  {
   "cell_type": "code",
   "execution_count": 40,
   "id": "959901ee-0bfc-4e46-97a4-9c90e1a2af48",
   "metadata": {},
   "outputs": [
    {
     "name": "stderr",
     "output_type": "stream",
     "text": [
      "dates:   0%|                 | 0/26 [00:00<?, ?it/s]"
     ]
    },
    {
     "name": "stdout",
     "output_type": "stream",
     "text": [
      "18 2023-11-01 16\n"
     ]
    },
    {
     "name": "stderr",
     "output_type": "stream",
     "text": [
      "100%|██████████████| 32/32 [00:00<00:00, 407.10it/s]\n",
      "dates:   4%|▎        | 1/26 [00:00<00:07,  3.16it/s]"
     ]
    },
    {
     "name": "stdout",
     "output_type": "stream",
     "text": [
      "18 2023-11-13 16\n"
     ]
    },
    {
     "name": "stderr",
     "output_type": "stream",
     "text": [
      "100%|██████████████| 32/32 [00:00<00:00, 375.08it/s]\n",
      "dates:   8%|▋        | 2/26 [00:00<00:06,  3.65it/s]"
     ]
    },
    {
     "name": "stdout",
     "output_type": "stream",
     "text": [
      "18 2023-11-25 16\n"
     ]
    },
    {
     "name": "stderr",
     "output_type": "stream",
     "text": [
      "100%|██████████████| 32/32 [00:00<00:00, 403.04it/s]\n",
      "dates:  12%|█        | 3/26 [00:00<00:06,  3.75it/s]"
     ]
    },
    {
     "name": "stdout",
     "output_type": "stream",
     "text": [
      "18 2023-12-07 16\n"
     ]
    },
    {
     "name": "stderr",
     "output_type": "stream",
     "text": [
      "100%|██████████████| 32/32 [00:00<00:00, 412.71it/s]\n",
      "dates:  15%|█▍       | 4/26 [00:01<00:05,  3.77it/s]"
     ]
    },
    {
     "name": "stdout",
     "output_type": "stream",
     "text": [
      "18 2023-12-19 16\n"
     ]
    },
    {
     "name": "stderr",
     "output_type": "stream",
     "text": [
      "100%|██████████████| 32/32 [00:00<00:00, 390.46it/s]\n",
      "dates:  19%|█▋       | 5/26 [00:01<00:05,  3.78it/s]"
     ]
    },
    {
     "name": "stdout",
     "output_type": "stream",
     "text": [
      "18 2023-12-31 16\n"
     ]
    },
    {
     "name": "stderr",
     "output_type": "stream",
     "text": [
      "100%|██████████████| 32/32 [00:00<00:00, 413.62it/s]\n",
      "dates:  23%|██       | 6/26 [00:01<00:05,  3.78it/s]"
     ]
    },
    {
     "name": "stdout",
     "output_type": "stream",
     "text": [
      "18 2024-01-12 16\n"
     ]
    },
    {
     "name": "stderr",
     "output_type": "stream",
     "text": [
      "100%|██████████████| 32/32 [00:00<00:00, 393.72it/s]\n",
      "dates:  27%|██▍      | 7/26 [00:01<00:05,  3.79it/s]"
     ]
    },
    {
     "name": "stdout",
     "output_type": "stream",
     "text": [
      "18 2024-01-24 16\n"
     ]
    },
    {
     "name": "stderr",
     "output_type": "stream",
     "text": [
      "100%|██████████████| 32/32 [00:00<00:00, 405.35it/s]\n",
      "dates:  31%|██▊      | 8/26 [00:02<00:04,  3.80it/s]"
     ]
    },
    {
     "name": "stdout",
     "output_type": "stream",
     "text": [
      "18 2024-02-05 16\n"
     ]
    },
    {
     "name": "stderr",
     "output_type": "stream",
     "text": [
      "100%|██████████████| 32/32 [00:00<00:00, 307.52it/s]\n",
      "dates:  35%|███      | 9/26 [00:02<00:05,  2.84it/s]"
     ]
    },
    {
     "name": "stdout",
     "output_type": "stream",
     "text": [
      "18 2024-02-17 16\n"
     ]
    },
    {
     "name": "stderr",
     "output_type": "stream",
     "text": [
      "100%|██████████████| 32/32 [00:00<00:00, 367.94it/s]\n",
      "dates:  38%|███     | 10/26 [00:02<00:05,  3.13it/s]"
     ]
    },
    {
     "name": "stdout",
     "output_type": "stream",
     "text": [
      "18 2024-02-29 32\n"
     ]
    },
    {
     "name": "stderr",
     "output_type": "stream",
     "text": [
      "100%|██████████████| 64/64 [00:00<00:00, 837.38it/s]\n",
      "dates:  42%|███▍    | 11/26 [00:03<00:04,  3.34it/s]"
     ]
    },
    {
     "name": "stdout",
     "output_type": "stream",
     "text": [
      "18 2024-03-12 29\n"
     ]
    },
    {
     "name": "stderr",
     "output_type": "stream",
     "text": [
      "100%|██████████████| 58/58 [00:00<00:00, 720.56it/s]\n",
      "dates:  46%|███▋    | 12/26 [00:03<00:04,  3.48it/s]"
     ]
    },
    {
     "name": "stdout",
     "output_type": "stream",
     "text": [
      "18 2024-03-24 16\n"
     ]
    },
    {
     "name": "stderr",
     "output_type": "stream",
     "text": [
      "100%|██████████████| 32/32 [00:00<00:00, 399.66it/s]\n",
      "dates:  50%|████    | 13/26 [00:03<00:03,  3.61it/s]"
     ]
    },
    {
     "name": "stdout",
     "output_type": "stream",
     "text": [
      "156 2023-11-10 22\n"
     ]
    },
    {
     "name": "stderr",
     "output_type": "stream",
     "text": [
      "100%|██████████████| 44/44 [00:00<00:00, 552.63it/s]\n",
      "dates:  54%|████▎   | 14/26 [00:03<00:03,  3.71it/s]"
     ]
    },
    {
     "name": "stdout",
     "output_type": "stream",
     "text": [
      "156 2023-11-22 22\n"
     ]
    },
    {
     "name": "stderr",
     "output_type": "stream",
     "text": [
      "100%|██████████████| 44/44 [00:00<00:00, 525.94it/s]\n",
      "dates:  58%|████▌   | 15/26 [00:04<00:02,  3.70it/s]"
     ]
    },
    {
     "name": "stdout",
     "output_type": "stream",
     "text": [
      "156 2023-12-04 44\n"
     ]
    },
    {
     "name": "stderr",
     "output_type": "stream",
     "text": [
      "100%|█████████████| 88/88 [00:00<00:00, 1137.91it/s]\n",
      "dates:  62%|████▉   | 16/26 [00:04<00:02,  3.73it/s]"
     ]
    },
    {
     "name": "stdout",
     "output_type": "stream",
     "text": [
      "156 2023-12-16 44\n"
     ]
    },
    {
     "name": "stderr",
     "output_type": "stream",
     "text": [
      "100%|█████████████| 88/88 [00:00<00:00, 1118.97it/s]\n",
      "dates:  65%|█████▏  | 17/26 [00:04<00:02,  3.75it/s]"
     ]
    },
    {
     "name": "stdout",
     "output_type": "stream",
     "text": [
      "156 2023-12-28 22\n"
     ]
    },
    {
     "name": "stderr",
     "output_type": "stream",
     "text": [
      "100%|██████████████| 44/44 [00:00<00:00, 604.78it/s]\n",
      "dates:  69%|█████▌  | 18/26 [00:04<00:02,  3.82it/s]"
     ]
    },
    {
     "name": "stdout",
     "output_type": "stream",
     "text": [
      "156 2024-01-09 22\n"
     ]
    },
    {
     "name": "stderr",
     "output_type": "stream",
     "text": [
      "100%|██████████████| 44/44 [00:00<00:00, 559.97it/s]\n",
      "dates:  73%|█████▊  | 19/26 [00:05<00:01,  3.84it/s]"
     ]
    },
    {
     "name": "stdout",
     "output_type": "stream",
     "text": [
      "156 2024-01-21 22\n"
     ]
    },
    {
     "name": "stderr",
     "output_type": "stream",
     "text": [
      "100%|██████████████| 44/44 [00:00<00:00, 542.05it/s]\n",
      "dates:  77%|██████▏ | 20/26 [00:05<00:01,  3.84it/s]"
     ]
    },
    {
     "name": "stdout",
     "output_type": "stream",
     "text": [
      "156 2024-02-02 22\n"
     ]
    },
    {
     "name": "stderr",
     "output_type": "stream",
     "text": [
      "100%|██████████████| 44/44 [00:00<00:00, 611.46it/s]\n",
      "dates:  81%|██████▍ | 21/26 [00:05<00:01,  3.87it/s]"
     ]
    },
    {
     "name": "stdout",
     "output_type": "stream",
     "text": [
      "156 2024-02-14 44\n"
     ]
    },
    {
     "name": "stderr",
     "output_type": "stream",
     "text": [
      "100%|█████████████| 88/88 [00:00<00:00, 1118.85it/s]\n",
      "dates:  85%|██████▊ | 22/26 [00:06<00:01,  3.92it/s]"
     ]
    },
    {
     "name": "stdout",
     "output_type": "stream",
     "text": [
      "156 2024-02-26 13\n"
     ]
    },
    {
     "name": "stderr",
     "output_type": "stream",
     "text": [
      "100%|██████████████| 26/26 [00:00<00:00, 311.28it/s]\n",
      "dates:  88%|███████ | 23/26 [00:06<00:00,  3.87it/s]"
     ]
    },
    {
     "name": "stdout",
     "output_type": "stream",
     "text": [
      "156 2024-03-09 27\n"
     ]
    },
    {
     "name": "stderr",
     "output_type": "stream",
     "text": [
      "100%|██████████████| 54/54 [00:00<00:00, 688.60it/s]\n",
      "dates:  92%|███████▍| 24/26 [00:06<00:00,  3.86it/s]"
     ]
    },
    {
     "name": "stdout",
     "output_type": "stream",
     "text": [
      "156 2024-03-21 22\n"
     ]
    },
    {
     "name": "stderr",
     "output_type": "stream",
     "text": [
      "100%|██████████████| 44/44 [00:00<00:00, 564.94it/s]\n",
      "dates:  96%|███████▋| 25/26 [00:06<00:00,  3.88it/s]"
     ]
    },
    {
     "name": "stdout",
     "output_type": "stream",
     "text": [
      "156 2024-04-02 22\n"
     ]
    },
    {
     "name": "stderr",
     "output_type": "stream",
     "text": [
      "100%|██████████████| 44/44 [00:00<00:00, 563.05it/s]\n",
      "dates: 100%|████████| 26/26 [00:07<00:00,  3.68it/s]"
     ]
    },
    {
     "name": "stdout",
     "output_type": "stream",
     "text": [
      "CPU times: user 471 ms, sys: 1.44 s, total: 1.91 s\n",
      "Wall time: 7.07 s\n"
     ]
    },
    {
     "name": "stderr",
     "output_type": "stream",
     "text": [
      "\n"
     ]
    }
   ],
   "source": [
    "%%time\n",
    "\n",
    "\n",
    "for (track_number, date), df_rtc_date in tqdm(df_rtc_resp.groupby(['pathNumber', 'acq_date']), desc='dates'):\n",
    "    print(track_number, date, df_rtc_date.shape[0])\n",
    "    vh_urls = df_rtc_date.url.tolist()\n",
    "    vv_urls = [url.replace('VH.tif', 'VV.tif') for url in vh_urls]\n",
    "    ts_dir = burst_dir / f'track{str(track_number)}' / f'{str(date)}'\n",
    "    ts_dir.mkdir(exist_ok=True, parents=True)\n",
    "    localize_one_rtc_p = lambda url: localize_one_rtc(url, ts_dir=ts_dir)\n",
    "\n",
    "    with WorkerPool(n_jobs=5, use_dill=True) as pool:\n",
    "        dual_loc_path = pool.map(\n",
    "            localize_one_rtc_p,\n",
    "            vv_urls + vh_urls,\n",
    "            progress_bar=True,\\\n",
    "            progress_bar_style=\"std\",\n",
    "            concatenate_numpy_output=False,\n",
    "        )\n"
   ]
  },
  {
   "cell_type": "markdown",
   "id": "b9728a9c-5708-4213-a29d-cd2e0db12002",
   "metadata": {},
   "source": [
    "# Merge data"
   ]
  },
  {
   "cell_type": "code",
   "execution_count": null,
   "id": "520c4bf9-3d6e-4d2d-9a05-69c02068b4e9",
   "metadata": {},
   "outputs": [],
   "source": [
    "change_dir_hls = Path('out') / event_dict['event_name'] / 'change_map_dist_hls'\n",
    "change_dir_hls.mkdir(exist_ok=True, parents=True)"
   ]
  },
  {
   "cell_type": "code",
   "execution_count": null,
   "id": "5eb9f4c3-fd0f-4950-9b97-239defc025bf",
   "metadata": {},
   "outputs": [],
   "source": [
    "change_map_tif = list(change_dir_hls.glob('*.tif'))[0]\n",
    "with rasterio.open(change_map_tif) as ds:\n",
    "    ref_profile_dist_hls = ds.profile"
   ]
  },
  {
   "cell_type": "code",
   "execution_count": 41,
   "id": "9d5465d6-6246-4128-9761-d50d0ef86c0b",
   "metadata": {},
   "outputs": [
    {
     "data": {
      "text/plain": [
       "[PosixPath('out/chile_fire_2024/burst_data/track156/2023-11-10'),\n",
       " PosixPath('out/chile_fire_2024/burst_data/track156/2023-11-22'),\n",
       " PosixPath('out/chile_fire_2024/burst_data/track156/2023-12-04'),\n",
       " PosixPath('out/chile_fire_2024/burst_data/track156/2023-12-16'),\n",
       " PosixPath('out/chile_fire_2024/burst_data/track156/2023-12-28'),\n",
       " PosixPath('out/chile_fire_2024/burst_data/track156/2024-01-09'),\n",
       " PosixPath('out/chile_fire_2024/burst_data/track156/2024-01-21'),\n",
       " PosixPath('out/chile_fire_2024/burst_data/track156/2024-02-02'),\n",
       " PosixPath('out/chile_fire_2024/burst_data/track156/2024-02-14'),\n",
       " PosixPath('out/chile_fire_2024/burst_data/track156/2024-02-26'),\n",
       " PosixPath('out/chile_fire_2024/burst_data/track156/2024-03-09'),\n",
       " PosixPath('out/chile_fire_2024/burst_data/track156/2024-03-21'),\n",
       " PosixPath('out/chile_fire_2024/burst_data/track156/2024-04-02'),\n",
       " PosixPath('out/chile_fire_2024/burst_data/track18/2023-11-01'),\n",
       " PosixPath('out/chile_fire_2024/burst_data/track18/2023-11-13'),\n",
       " PosixPath('out/chile_fire_2024/burst_data/track18/2023-11-25'),\n",
       " PosixPath('out/chile_fire_2024/burst_data/track18/2023-12-07'),\n",
       " PosixPath('out/chile_fire_2024/burst_data/track18/2023-12-19'),\n",
       " PosixPath('out/chile_fire_2024/burst_data/track18/2023-12-31'),\n",
       " PosixPath('out/chile_fire_2024/burst_data/track18/2024-01-12'),\n",
       " PosixPath('out/chile_fire_2024/burst_data/track18/2024-01-24'),\n",
       " PosixPath('out/chile_fire_2024/burst_data/track18/2024-02-05'),\n",
       " PosixPath('out/chile_fire_2024/burst_data/track18/2024-02-17'),\n",
       " PosixPath('out/chile_fire_2024/burst_data/track18/2024-02-29'),\n",
       " PosixPath('out/chile_fire_2024/burst_data/track18/2024-03-12'),\n",
       " PosixPath('out/chile_fire_2024/burst_data/track18/2024-03-24')]"
      ]
     },
     "execution_count": 41,
     "metadata": {},
     "output_type": "execute_result"
    }
   ],
   "source": [
    "track_dirs = [burst_dir / f'track{t}' for t in event_dict[\"rtc_track_numbers\"]]\n",
    "acq_dirs = sorted([date_dir for track_dir in track_dirs for date_dir in track_dir.glob('*/')])\n",
    "acq_dirs"
   ]
  },
  {
   "cell_type": "code",
   "execution_count": 42,
   "id": "8a493cf6-0b6c-410b-a290-7e288e7528ef",
   "metadata": {},
   "outputs": [],
   "source": [
    "from rasterio.merge import merge\n",
    "def merge_one_dir(acq_dir: Path, pol='VV', preserve_nans=True) -> list:\n",
    "    assert pol in ['VV', 'VH']\n",
    "    all_img_paths = list(acq_dir.glob(f'OPERA*{pol}.tif'))\n",
    "    date_str = acq_dir.stem\n",
    "    track_str = acq_dir.parent.stem\n",
    "    acq_date_track_token = f'{date_str}_track{track_str}'\n",
    "\n",
    "    ts_dir = burst_dir.parent / 'rtc_ts_merged' / track_str \n",
    "    ts_dir.mkdir(exist_ok=True, parents=True)\n",
    "\n",
    "    dst_path = ts_dir / f'merged_{acq_date_track_token}_{pol}.tif'\n",
    "\n",
    "    \n",
    "    if dst_path.exists():\n",
    "        return dst_path\n",
    "        \n",
    "    X_m, t_m = merge(all_img_paths, dtype='float32', method='first')\n",
    "    with rasterio.open(all_img_paths[0]) as ds:\n",
    "        p = ds.profile\n",
    "    prof_merged = p.copy()\n",
    "    prof_merged['transform'] = t_m\n",
    "    prof_merged['count'] = X_m.shape[0]\n",
    "    prof_merged['height'] = X_m.shape[1]\n",
    "    prof_merged['width'] = X_m.shape[2]\n",
    "\n",
    "    X_m_d = despeckle_one(X_m[0, ...], preserve_nans=preserve_nans)\n",
    "\n",
    "    X_m_d_r, p_m_r = reproject_arr_to_match_profile(X_m_d, prof_merged, ref_profile_dist_hls)\n",
    "    \n",
    "    with rasterio.open(dst_path, 'w', **p_m_r) as ds:\n",
    "        ds.write(X_m_d_r)\n",
    "    \n",
    "    return dst_path"
   ]
  },
  {
   "cell_type": "code",
   "execution_count": 43,
   "id": "2935b001-cd0a-4dec-8431-cb9a88a5c4ea",
   "metadata": {},
   "outputs": [
    {
     "name": "stderr",
     "output_type": "stream",
     "text": [
      "100%|███████████████| 26/26 [20:32<00:00, 47.41s/it]\n"
     ]
    },
    {
     "data": {
      "text/plain": [
       "[PosixPath('out/chile_fire_2024/rtc_ts_merged/track156/merged_2023-11-10_tracktrack156_VV.tif'),\n",
       " PosixPath('out/chile_fire_2024/rtc_ts_merged/track156/merged_2023-11-10_tracktrack156_VH.tif'),\n",
       " PosixPath('out/chile_fire_2024/rtc_ts_merged/track156/merged_2023-11-22_tracktrack156_VV.tif'),\n",
       " PosixPath('out/chile_fire_2024/rtc_ts_merged/track156/merged_2023-11-22_tracktrack156_VH.tif'),\n",
       " PosixPath('out/chile_fire_2024/rtc_ts_merged/track156/merged_2023-12-04_tracktrack156_VV.tif'),\n",
       " PosixPath('out/chile_fire_2024/rtc_ts_merged/track156/merged_2023-12-04_tracktrack156_VH.tif'),\n",
       " PosixPath('out/chile_fire_2024/rtc_ts_merged/track156/merged_2023-12-16_tracktrack156_VV.tif'),\n",
       " PosixPath('out/chile_fire_2024/rtc_ts_merged/track156/merged_2023-12-16_tracktrack156_VH.tif'),\n",
       " PosixPath('out/chile_fire_2024/rtc_ts_merged/track156/merged_2023-12-28_tracktrack156_VV.tif'),\n",
       " PosixPath('out/chile_fire_2024/rtc_ts_merged/track156/merged_2023-12-28_tracktrack156_VH.tif'),\n",
       " PosixPath('out/chile_fire_2024/rtc_ts_merged/track156/merged_2024-01-09_tracktrack156_VV.tif'),\n",
       " PosixPath('out/chile_fire_2024/rtc_ts_merged/track156/merged_2024-01-09_tracktrack156_VH.tif'),\n",
       " PosixPath('out/chile_fire_2024/rtc_ts_merged/track156/merged_2024-01-21_tracktrack156_VV.tif'),\n",
       " PosixPath('out/chile_fire_2024/rtc_ts_merged/track156/merged_2024-01-21_tracktrack156_VH.tif'),\n",
       " PosixPath('out/chile_fire_2024/rtc_ts_merged/track156/merged_2024-02-02_tracktrack156_VV.tif'),\n",
       " PosixPath('out/chile_fire_2024/rtc_ts_merged/track156/merged_2024-02-02_tracktrack156_VH.tif'),\n",
       " PosixPath('out/chile_fire_2024/rtc_ts_merged/track156/merged_2024-02-14_tracktrack156_VV.tif'),\n",
       " PosixPath('out/chile_fire_2024/rtc_ts_merged/track156/merged_2024-02-14_tracktrack156_VH.tif'),\n",
       " PosixPath('out/chile_fire_2024/rtc_ts_merged/track156/merged_2024-02-26_tracktrack156_VV.tif'),\n",
       " PosixPath('out/chile_fire_2024/rtc_ts_merged/track156/merged_2024-02-26_tracktrack156_VH.tif'),\n",
       " PosixPath('out/chile_fire_2024/rtc_ts_merged/track156/merged_2024-03-09_tracktrack156_VV.tif'),\n",
       " PosixPath('out/chile_fire_2024/rtc_ts_merged/track156/merged_2024-03-09_tracktrack156_VH.tif'),\n",
       " PosixPath('out/chile_fire_2024/rtc_ts_merged/track156/merged_2024-03-21_tracktrack156_VV.tif'),\n",
       " PosixPath('out/chile_fire_2024/rtc_ts_merged/track156/merged_2024-03-21_tracktrack156_VH.tif'),\n",
       " PosixPath('out/chile_fire_2024/rtc_ts_merged/track156/merged_2024-04-02_tracktrack156_VV.tif'),\n",
       " PosixPath('out/chile_fire_2024/rtc_ts_merged/track156/merged_2024-04-02_tracktrack156_VH.tif'),\n",
       " PosixPath('out/chile_fire_2024/rtc_ts_merged/track18/merged_2023-11-01_tracktrack18_VV.tif'),\n",
       " PosixPath('out/chile_fire_2024/rtc_ts_merged/track18/merged_2023-11-01_tracktrack18_VH.tif'),\n",
       " PosixPath('out/chile_fire_2024/rtc_ts_merged/track18/merged_2023-11-13_tracktrack18_VV.tif'),\n",
       " PosixPath('out/chile_fire_2024/rtc_ts_merged/track18/merged_2023-11-13_tracktrack18_VH.tif'),\n",
       " PosixPath('out/chile_fire_2024/rtc_ts_merged/track18/merged_2023-11-25_tracktrack18_VV.tif'),\n",
       " PosixPath('out/chile_fire_2024/rtc_ts_merged/track18/merged_2023-11-25_tracktrack18_VH.tif'),\n",
       " PosixPath('out/chile_fire_2024/rtc_ts_merged/track18/merged_2023-12-07_tracktrack18_VV.tif'),\n",
       " PosixPath('out/chile_fire_2024/rtc_ts_merged/track18/merged_2023-12-07_tracktrack18_VH.tif'),\n",
       " PosixPath('out/chile_fire_2024/rtc_ts_merged/track18/merged_2023-12-19_tracktrack18_VV.tif'),\n",
       " PosixPath('out/chile_fire_2024/rtc_ts_merged/track18/merged_2023-12-19_tracktrack18_VH.tif'),\n",
       " PosixPath('out/chile_fire_2024/rtc_ts_merged/track18/merged_2023-12-31_tracktrack18_VV.tif'),\n",
       " PosixPath('out/chile_fire_2024/rtc_ts_merged/track18/merged_2023-12-31_tracktrack18_VH.tif'),\n",
       " PosixPath('out/chile_fire_2024/rtc_ts_merged/track18/merged_2024-01-12_tracktrack18_VV.tif'),\n",
       " PosixPath('out/chile_fire_2024/rtc_ts_merged/track18/merged_2024-01-12_tracktrack18_VH.tif'),\n",
       " PosixPath('out/chile_fire_2024/rtc_ts_merged/track18/merged_2024-01-24_tracktrack18_VV.tif'),\n",
       " PosixPath('out/chile_fire_2024/rtc_ts_merged/track18/merged_2024-01-24_tracktrack18_VH.tif'),\n",
       " PosixPath('out/chile_fire_2024/rtc_ts_merged/track18/merged_2024-02-05_tracktrack18_VV.tif'),\n",
       " PosixPath('out/chile_fire_2024/rtc_ts_merged/track18/merged_2024-02-05_tracktrack18_VH.tif'),\n",
       " PosixPath('out/chile_fire_2024/rtc_ts_merged/track18/merged_2024-02-17_tracktrack18_VV.tif'),\n",
       " PosixPath('out/chile_fire_2024/rtc_ts_merged/track18/merged_2024-02-17_tracktrack18_VH.tif'),\n",
       " PosixPath('out/chile_fire_2024/rtc_ts_merged/track18/merged_2024-02-29_tracktrack18_VV.tif'),\n",
       " PosixPath('out/chile_fire_2024/rtc_ts_merged/track18/merged_2024-02-29_tracktrack18_VH.tif'),\n",
       " PosixPath('out/chile_fire_2024/rtc_ts_merged/track18/merged_2024-03-12_tracktrack18_VV.tif'),\n",
       " PosixPath('out/chile_fire_2024/rtc_ts_merged/track18/merged_2024-03-12_tracktrack18_VH.tif'),\n",
       " PosixPath('out/chile_fire_2024/rtc_ts_merged/track18/merged_2024-03-24_tracktrack18_VV.tif'),\n",
       " PosixPath('out/chile_fire_2024/rtc_ts_merged/track18/merged_2024-03-24_tracktrack18_VH.tif')]"
      ]
     },
     "execution_count": 43,
     "metadata": {},
     "output_type": "execute_result"
    }
   ],
   "source": [
    "dst_paths = [merge_one_dir(directory, pol=pol) for directory in tqdm(acq_dirs[:]) for pol in ['VV', 'VH']]\n",
    "dst_paths"
   ]
  },
  {
   "cell_type": "markdown",
   "id": "2178c31b-ff99-4d28-9532-b513fb570276",
   "metadata": {},
   "source": [
    "# Remove Source Burst Directory"
   ]
  },
  {
   "cell_type": "code",
   "execution_count": 44,
   "id": "2fc97e52-1dd2-45a2-866d-f5796d95d86a",
   "metadata": {},
   "outputs": [],
   "source": [
    "# import shutil\n",
    "\n",
    "# shutil.rmtree(burst_dir)"
   ]
  }
 ],
 "metadata": {
  "kernelspec": {
   "display_name": "dist-s1",
   "language": "python",
   "name": "dist-s1"
  },
  "language_info": {
   "codemirror_mode": {
    "name": "ipython",
    "version": 3
   },
   "file_extension": ".py",
   "mimetype": "text/x-python",
   "name": "python",
   "nbconvert_exporter": "python",
   "pygments_lexer": "ipython3",
   "version": "3.12.4"
  }
 },
 "nbformat": 4,
 "nbformat_minor": 5
}
