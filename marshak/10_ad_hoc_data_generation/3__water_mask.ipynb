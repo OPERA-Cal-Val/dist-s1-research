{
 "cells": [
  {
   "cell_type": "code",
   "execution_count": 34,
   "id": "f4fe73b3-0e81-43ff-93d3-3af0b0826732",
   "metadata": {},
   "outputs": [],
   "source": [
    "import matplotlib.pyplot as plt\n",
    "from pathlib import Path\n",
    "import yaml\n",
    "import rasterio\n",
    "from tile_mate import get_raster_from_tiles\n",
    "from rasterio.warp import transform_bounds\n",
    "from rasterio.crs import CRS\n",
    "from dem_stitcher.rio_tools import reproject_arr_to_match_profile\n",
    "import numpy as np"
   ]
  },
  {
   "cell_type": "code",
   "execution_count": 119,
   "id": "1faf003c-5739-4163-9bbf-85076d309d2e",
   "metadata": {},
   "outputs": [
    {
     "data": {
      "text/plain": [
       "{'event_name': 'papau_new_guinea',\n",
       " 'bounds': [143.3, -5.3, 143.4, -5.4],\n",
       " 'event_date': '2024-04-16',\n",
       " 'pre_event_window_days': 60,\n",
       " 'post_event_window_days': 30,\n",
       " 'rtc_track_number': 9,\n",
       " 'mgrs_tiles': None,\n",
       " 'burst_ids': ['T009_019294_IW2'],\n",
       " 'links': ['https://www.cnn.com/2024/05/28/asia/papua-new-guinea-landslide-satellite-imagery-intl/index.html']}"
      ]
     },
     "execution_count": 119,
     "metadata": {},
     "output_type": "execute_result"
    }
   ],
   "source": [
    "yaml_file = 'events/papau_new_guinea.yml' #'porto_algre.yml'\n",
    "with open(yaml_file) as f:\n",
    "    event_dict = yaml.safe_load(f)[\"event\"]\n",
    "event_dict"
   ]
  },
  {
   "cell_type": "code",
   "execution_count": 120,
   "id": "ec63e442-c9d1-4124-8ae3-49b98e183420",
   "metadata": {},
   "outputs": [],
   "source": [
    "external_data_dir = Path(f'out/{event_dict['event_name']}/external_data')\n",
    "external_data_dir.mkdir(exist_ok=True, parents=True)"
   ]
  },
  {
   "cell_type": "code",
   "execution_count": 121,
   "id": "f818f6bc-d296-4672-88d8-f71ed3a82b5e",
   "metadata": {},
   "outputs": [
    {
     "data": {
      "text/plain": [
       "PosixPath('out/papau_new_guinea/rtc_ts_merged/track9/__2024-03-23_merged_VH.tif')"
      ]
     },
     "execution_count": 121,
     "metadata": {},
     "output_type": "execute_result"
    }
   ],
   "source": [
    "track_dir = list(Path(f'out/{event_dict['event_name']}/rtc_ts_merged').glob('*/'))[0]\n",
    "rtc_merged_path = list(track_dir.glob('*.tif'))[0]\n",
    "rtc_merged_path"
   ]
  },
  {
   "cell_type": "code",
   "execution_count": 122,
   "id": "4b8a8ec6-8b8c-48b4-9a6e-21a35b12ff35",
   "metadata": {},
   "outputs": [],
   "source": [
    "with rasterio.open(rtc_merged_path) as ds:\n",
    "    ref_profile = ds.profile\n",
    "    ref_crs = ds.crs\n",
    "    ref_bounds = ds.bounds"
   ]
  },
  {
   "cell_type": "code",
   "execution_count": 123,
   "id": "0b5e1e07-0d42-48fe-ad4f-034127f80a27",
   "metadata": {},
   "outputs": [],
   "source": [
    "bounds_4326 = transform_bounds(ref_profile['crs'], CRS.from_epsg(4326), *ref_bounds)"
   ]
  },
  {
   "cell_type": "code",
   "execution_count": 124,
   "id": "f06d2f19-0a43-4f15-aeca-a87453d65aac",
   "metadata": {},
   "outputs": [
    {
     "name": "stderr",
     "output_type": "stream",
     "text": [
      "Reading tile metadata: 100%|█| 2/2 [00:\n",
      "Reading tile imagery: 100%|█| 2/2 [00:0\n"
     ]
    }
   ],
   "source": [
    "X_esa, p_esa = get_raster_from_tiles(bounds_4326, tile_shortname='esa_world_cover_2021')"
   ]
  },
  {
   "cell_type": "code",
   "execution_count": 125,
   "id": "b6228099-1acf-4755-aaa2-2aa76f576d64",
   "metadata": {},
   "outputs": [
    {
     "name": "stderr",
     "output_type": "stream",
     "text": [
      "Reading tile metadata: 100%|█| 1/1 [00:\n",
      "Reading tile imagery: 100%|█| 1/1 [00:0\n"
     ]
    }
   ],
   "source": [
    "X_pekel, p_pekel = get_raster_from_tiles(bounds_4326, tile_shortname='pekel_water_occ_2021')"
   ]
  },
  {
   "cell_type": "code",
   "execution_count": 126,
   "id": "d9a6b32f-bdef-4ccc-adbf-30465c4401cf",
   "metadata": {},
   "outputs": [
    {
     "data": {
      "text/plain": [
       "{'algorithm_version': 'V2.0.0',\n",
       " 'copyright': 'ESA WorldCover project 2021 / Contains modified Copernicus Sentinel data (2021) processed by ESA WorldCover consortium',\n",
       " 'creation_time': '2022-10-21 07:35:40.236136',\n",
       " 'legend': '10  Tree cover\\n20  Shrubland\\n30  Grassland\\n40  Cropland\\n50  Built-up\\n60  Bare/sparse vegetation\\n70  Snow and ice\\n80  Permanent water bodies\\n90  Herbaceous wetland\\n95  Mangroves\\n100 Moss and lichen\\n',\n",
       " 'license': 'CC-BY 4.0 - https://creativecommons.org/licenses/by/4.0/',\n",
       " 'product_crs': 'EPSG:4326',\n",
       " 'product_grid': '3x3 degree tiling grid',\n",
       " 'product_tile': 'S54E168',\n",
       " 'product_type': 'LandCover Map',\n",
       " 'product_version': 'V2.0.0',\n",
       " 'reference': 'https://esa-worldcover.org',\n",
       " 'time_end': '2021-12-31T23:59:59Z',\n",
       " 'time_start': '2021-01-01T00:00:00Z',\n",
       " 'title': 'ESA WorldCover product at 10m resolution for year 2021',\n",
       " 'AREA_OR_POINT': 'Area'}"
      ]
     },
     "execution_count": 126,
     "metadata": {},
     "output_type": "execute_result"
    }
   ],
   "source": [
    "p_esa['tags']"
   ]
  },
  {
   "cell_type": "code",
   "execution_count": 127,
   "id": "6e73e01f-0a5b-42d4-8bb5-81c086a758e5",
   "metadata": {},
   "outputs": [
    {
     "data": {
      "text/plain": [
       "array([10, 10, 10, ..., 10, 10, 10], dtype=uint8)"
      ]
     },
     "execution_count": 127,
     "metadata": {},
     "output_type": "execute_result"
    }
   ],
   "source": [
    "l = X_esa[0, :, 0]\n",
    "l = l[~np.isin(l, [60, 80])]\n",
    "l"
   ]
  },
  {
   "cell_type": "code",
   "execution_count": 128,
   "id": "327d3c18-afab-4694-9575-88426d6f3165",
   "metadata": {},
   "outputs": [
    {
     "data": {
      "text/plain": [
       "<matplotlib.image.AxesImage at 0x359ee5c40>"
      ]
     },
     "execution_count": 128,
     "metadata": {},
     "output_type": "execute_result"
    },
    {
     "data": {
      "image/png": "[encoded data removed]",
      "text/plain": [
       "<Figure size 640x480 with 1 Axes>"
      ]
     },
     "metadata": {},
     "output_type": "display_data"
    }
   ],
   "source": [
    "X_esa_water = (np.isin(X_esa, [0, 80]))[0, ...]\n",
    "plt.imshow(X_esa_water)"
   ]
  },
  {
   "cell_type": "code",
   "execution_count": 129,
   "id": "05a8ab89-5d3e-4062-b6c5-c9718b0ecb9f",
   "metadata": {},
   "outputs": [
    {
     "data": {
      "text/plain": [
       "<matplotlib.image.AxesImage at 0x359f964e0>"
      ]
     },
     "execution_count": 129,
     "metadata": {},
     "output_type": "execute_result"
    },
    {
     "data": {
      "image/png": "[encoded data removed]",
      "text/plain": [
       "<Figure size 640x480 with 1 Axes>"
      ]
     },
     "metadata": {},
     "output_type": "display_data"
    }
   ],
   "source": [
    "X_pekel_water = (X_pekel > 99)[0, ...]\n",
    "plt.imshow(X_pekel_water)"
   ]
  },
  {
   "cell_type": "markdown",
   "id": "3c9c64a1-f79b-4941-b5e6-0c8e6620a015",
   "metadata": {},
   "source": [
    "# Reproject everything"
   ]
  },
  {
   "cell_type": "code",
   "execution_count": 130,
   "id": "eb558bbe-7171-4bcb-9d02-bb9a243cdb97",
   "metadata": {},
   "outputs": [],
   "source": [
    "src_profile = p_pekel.copy()\n",
    "src_profile['dtype'] = np.uint8\n",
    "src_profile['nodata'] = 255\n",
    "\n",
    "X_p_r, p_pekel_r = reproject_arr_to_match_profile(X_pekel_water.astype(np.uint8), src_profile, ref_profile, resampling='nearest')"
   ]
  },
  {
   "cell_type": "code",
   "execution_count": 131,
   "id": "c6c2a970-b88a-409a-b96e-28781f240cfc",
   "metadata": {},
   "outputs": [],
   "source": [
    "src_profile = p_esa.copy()\n",
    "src_profile['dtype'] = np.float32\n",
    "src_profile['nodata'] = np.nan\n",
    "\n",
    "X_esa_r, p_esa_r = reproject_arr_to_match_profile(X_esa_water.astype(np.float32), src_profile, ref_profile, resampling='average')"
   ]
  },
  {
   "cell_type": "code",
   "execution_count": 132,
   "id": "300be6d7-6178-4b62-9cc8-e01722880756",
   "metadata": {},
   "outputs": [],
   "source": [
    "X_esa_water_r = (X_esa_r > .5).astype(np.uint8)"
   ]
  },
  {
   "cell_type": "code",
   "execution_count": 133,
   "id": "fa852308-baeb-46b4-8dce-31eae48df978",
   "metadata": {},
   "outputs": [
    {
     "data": {
      "text/plain": [
       "<matplotlib.image.AxesImage at 0x359fb3860>"
      ]
     },
     "execution_count": 133,
     "metadata": {},
     "output_type": "execute_result"
    },
    {
     "data": {
      "image/png": "[encoded data removed]",
      "text/plain": [
       "<Figure size 640x480 with 1 Axes>"
      ]
     },
     "metadata": {},
     "output_type": "display_data"
    }
   ],
   "source": [
    "X_water_final = X_esa_water_r | X_p_r\n",
    "\n",
    "plt.imshow(X_water_final[0, ...])"
   ]
  },
  {
   "cell_type": "code",
   "execution_count": 135,
   "id": "9abc9daa-8765-4deb-a733-e59d370986c1",
   "metadata": {},
   "outputs": [],
   "source": [
    "with rasterio.open(external_data_dir / 'water_mask_esa_and_pekel99.tif', 'w', **p_esa_r) as ds:\n",
    "    ds.write(X_water_final)"
   ]
  }
 ],
 "metadata": {
  "kernelspec": {
   "display_name": "dist-s1",
   "language": "python",
   "name": "dist-s1"
  },
  "language_info": {
   "codemirror_mode": {
    "name": "ipython",
    "version": 3
   },
   "file_extension": ".py",
   "mimetype": "text/x-python",
   "name": "python",
   "nbconvert_exporter": "python",
   "pygments_lexer": "ipython3",
   "version": "3.12.4"
  }
 },
 "nbformat": 4,
 "nbformat_minor": 5
}
