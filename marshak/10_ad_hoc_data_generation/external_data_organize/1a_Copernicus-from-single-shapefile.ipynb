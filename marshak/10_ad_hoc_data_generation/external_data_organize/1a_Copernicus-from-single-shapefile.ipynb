{
 "cells": [
  {
   "cell_type": "markdown",
   "id": "7adb281c-9900-4db9-9534-19256b72c3d7",
   "metadata": {},
   "source": [
    "This is formatting and aligning data from Copernicus EMS data: https://rapidmapping.emergency.copernicus.eu/"
   ]
  },
  {
   "cell_type": "code",
   "execution_count": 1,
   "id": "f4fe73b3-0e81-43ff-93d3-3af0b0826732",
   "metadata": {},
   "outputs": [],
   "source": [
    "import geopandas as gpd\n",
    "import rasterio\n",
    "import numpy as np\n",
    "import matplotlib.pyplot as plt\n",
    "from pathlib import Path\n",
    "import yaml\n",
    "from rasterio.crs import CRS\n",
    "import pandas as pd"
   ]
  },
  {
   "cell_type": "code",
   "execution_count": 31,
   "id": "9c51f032-262d-47e6-bbe7-5dba57bbec72",
   "metadata": {},
   "outputs": [
    {
     "data": {
      "text/plain": [
       "{'event_name': 'attica_fire_2024',\n",
       " 'bounds': [10.97631339, 43.81441325, 11.15319728, 43.98650075],\n",
       " 'event_date': '2024-08-11',\n",
       " 'pre_event_window_days': 100,\n",
       " 'post_event_window_days': 60,\n",
       " 'rtc_track_numbers': [15, 168],\n",
       " 'mgrs_tiles': ['32TPP'],\n",
       " 'dist_hls_confirmed_change_min_days': 30,\n",
       " 'source_id': 'Copernicus EMSR746',\n",
       " 'links': ['https://rapidmapping.emergency.copernicus.eu/EMSR746',\n",
       "  'https://en.wikipedia.org/wiki/2024_Attica_wildfires',\n",
       "  'https://www.independent.co.uk/news/world/europe/greece-wildfires-latest-satellite-images-b2595495.html']}"
      ]
     },
     "execution_count": 31,
     "metadata": {},
     "output_type": "execute_result"
    }
   ],
   "source": [
    "yaml_file = '../events/attica_fire_2024.yml' #'porto_algre.yml'\n",
    "with open(yaml_file) as f:\n",
    "    event_dict = yaml.safe_load(f)[\"event\"]\n",
    "event_dict"
   ]
  },
  {
   "cell_type": "code",
   "execution_count": 34,
   "id": "d4aea86c-28cf-4053-a552-1d65c58d31ae",
   "metadata": {},
   "outputs": [
    {
     "data": {
      "text/html": [
       "<div>\n",
       "<style scoped>\n",
       "    .dataframe tbody tr th:only-of-type {\n",
       "        vertical-align: middle;\n",
       "    }\n",
       "\n",
       "    .dataframe tbody tr th {\n",
       "        vertical-align: top;\n",
       "    }\n",
       "\n",
       "    .dataframe thead th {\n",
       "        text-align: right;\n",
       "    }\n",
       "</style>\n",
       "<table border=\"1\" class=\"dataframe\">\n",
       "  <thead>\n",
       "    <tr style=\"text-align: right;\">\n",
       "      <th></th>\n",
       "      <th>event_type</th>\n",
       "      <th>obj_desc</th>\n",
       "      <th>det_method</th>\n",
       "      <th>notation</th>\n",
       "      <th>dmg_src_id</th>\n",
       "      <th>area</th>\n",
       "      <th>geometry</th>\n",
       "    </tr>\n",
       "  </thead>\n",
       "  <tbody>\n",
       "    <tr>\n",
       "      <th>0</th>\n",
       "      <td>8-Wildfire</td>\n",
       "      <td>Land fire: Brush, bush, Pasture</td>\n",
       "      <td>Photo-interpretation</td>\n",
       "      <td>Burnt area</td>\n",
       "      <td>4</td>\n",
       "      <td>0.529487</td>\n",
       "      <td>POLYGON ((23.85765 38.03539, 23.85769 38.03527...</td>\n",
       "    </tr>\n",
       "    <tr>\n",
       "      <th>1</th>\n",
       "      <td>8-Wildfire</td>\n",
       "      <td>Land fire: Brush, bush, Pasture</td>\n",
       "      <td>Photo-interpretation</td>\n",
       "      <td>Burnt area</td>\n",
       "      <td>4</td>\n",
       "      <td>1.019033</td>\n",
       "      <td>POLYGON ((23.85086 38.03815, 23.85070 38.03760...</td>\n",
       "    </tr>\n",
       "    <tr>\n",
       "      <th>2</th>\n",
       "      <td>8-Wildfire</td>\n",
       "      <td>Land fire: Brush, bush, Pasture</td>\n",
       "      <td>Photo-interpretation</td>\n",
       "      <td>Burnt area</td>\n",
       "      <td>4</td>\n",
       "      <td>56.291607</td>\n",
       "      <td>POLYGON ((23.84996 38.05174, 23.85010 38.05160...</td>\n",
       "    </tr>\n",
       "    <tr>\n",
       "      <th>3</th>\n",
       "      <td>8-Wildfire</td>\n",
       "      <td>Land fire: Brush, bush, Pasture</td>\n",
       "      <td>Photo-interpretation</td>\n",
       "      <td>Burnt area</td>\n",
       "      <td>4</td>\n",
       "      <td>2.441494</td>\n",
       "      <td>POLYGON ((23.85904 38.04450, 23.85929 38.04444...</td>\n",
       "    </tr>\n",
       "    <tr>\n",
       "      <th>4</th>\n",
       "      <td>8-Wildfire</td>\n",
       "      <td>Land fire: Brush, bush, Pasture</td>\n",
       "      <td>Photo-interpretation</td>\n",
       "      <td>Burnt area</td>\n",
       "      <td>4</td>\n",
       "      <td>0.383931</td>\n",
       "      <td>POLYGON ((23.86137 38.04596, 23.86173 38.04531...</td>\n",
       "    </tr>\n",
       "  </tbody>\n",
       "</table>\n",
       "</div>"
      ],
      "text/plain": [
       "   event_type                         obj_desc            det_method  \\\n",
       "0  8-Wildfire  Land fire: Brush, bush, Pasture  Photo-interpretation   \n",
       "1  8-Wildfire  Land fire: Brush, bush, Pasture  Photo-interpretation   \n",
       "2  8-Wildfire  Land fire: Brush, bush, Pasture  Photo-interpretation   \n",
       "3  8-Wildfire  Land fire: Brush, bush, Pasture  Photo-interpretation   \n",
       "4  8-Wildfire  Land fire: Brush, bush, Pasture  Photo-interpretation   \n",
       "\n",
       "     notation  dmg_src_id       area  \\\n",
       "0  Burnt area           4   0.529487   \n",
       "1  Burnt area           4   1.019033   \n",
       "2  Burnt area           4  56.291607   \n",
       "3  Burnt area           4   2.441494   \n",
       "4  Burnt area           4   0.383931   \n",
       "\n",
       "                                            geometry  \n",
       "0  POLYGON ((23.85765 38.03539, 23.85769 38.03527...  \n",
       "1  POLYGON ((23.85086 38.03815, 23.85070 38.03760...  \n",
       "2  POLYGON ((23.84996 38.05174, 23.85010 38.05160...  \n",
       "3  POLYGON ((23.85904 38.04450, 23.85929 38.04444...  \n",
       "4  POLYGON ((23.86137 38.04596, 23.86173 38.04531...  "
      ]
     },
     "execution_count": 34,
     "metadata": {},
     "output_type": "execute_result"
    }
   ],
   "source": [
    "df_event = gpd.read_file('../external_validation_data/copernicus_ems/greece_attica_fire_2024/EMSR746_AOI01_DEL_MONIT02_observedEventA_v1.shp')\n",
    "df_event.head()"
   ]
  },
  {
   "cell_type": "code",
   "execution_count": 35,
   "id": "d248e026-7574-407d-882e-b2581b202a6a",
   "metadata": {},
   "outputs": [
    {
     "data": {
      "text/plain": [
       "<Axes: >"
      ]
     },
     "execution_count": 35,
     "metadata": {},
     "output_type": "execute_result"
    },
    {
     "data": {
      "image/png": "[encoded data removed]",
      "text/plain": [
       "<Figure size 640x480 with 1 Axes>"
      ]
     },
     "metadata": {},
     "output_type": "display_data"
    }
   ],
   "source": [
    "df_event.plot()"
   ]
  },
  {
   "cell_type": "code",
   "execution_count": 37,
   "id": "2934250f-f7b1-4acb-b6fe-b917af062c11",
   "metadata": {},
   "outputs": [
    {
     "data": {
      "text/plain": [
       "array([23.84811098, 38.02547756, 23.96650282, 38.24431915])"
      ]
     },
     "execution_count": 37,
     "metadata": {},
     "output_type": "execute_result"
    }
   ],
   "source": [
    "df_event.total_bounds"
   ]
  },
  {
   "cell_type": "code",
   "execution_count": 38,
   "id": "17b53fe3-4110-4f90-80d3-d6c2fddff3a9",
   "metadata": {},
   "outputs": [
    {
     "data": {
      "text/html": [
       "<div>\n",
       "<style scoped>\n",
       "    .dataframe tbody tr th:only-of-type {\n",
       "        vertical-align: middle;\n",
       "    }\n",
       "\n",
       "    .dataframe tbody tr th {\n",
       "        vertical-align: top;\n",
       "    }\n",
       "\n",
       "    .dataframe thead th {\n",
       "        text-align: right;\n",
       "    }\n",
       "</style>\n",
       "<table border=\"1\" class=\"dataframe\">\n",
       "  <thead>\n",
       "    <tr style=\"text-align: right;\">\n",
       "      <th></th>\n",
       "      <th>name</th>\n",
       "      <th>date</th>\n",
       "      <th>source_id</th>\n",
       "      <th>geometry</th>\n",
       "    </tr>\n",
       "  </thead>\n",
       "  <tbody>\n",
       "    <tr>\n",
       "      <th>0</th>\n",
       "      <td>attica_fire_2024</td>\n",
       "      <td>2024-08-11</td>\n",
       "      <td>Copernicus Copernicus EMSR746</td>\n",
       "      <td>MULTIPOLYGON (((23.85731 38.03476, 23.85723 38...</td>\n",
       "    </tr>\n",
       "  </tbody>\n",
       "</table>\n",
       "</div>"
      ],
      "text/plain": [
       "               name       date                      source_id  \\\n",
       "0  attica_fire_2024 2024-08-11  Copernicus Copernicus EMSR746   \n",
       "\n",
       "                                            geometry  \n",
       "0  MULTIPOLYGON (((23.85731 38.03476, 23.85723 38...  "
      ]
     },
     "execution_count": 38,
     "metadata": {},
     "output_type": "execute_result"
    }
   ],
   "source": [
    "geo = df_event.geometry.unary_union\n",
    "\n",
    "df_event_f = gpd.GeoDataFrame({'name': [event_dict['event_name']],\n",
    "                               'date': [pd.to_datetime(event_dict['event_date'])],\n",
    "                               'source_id': [f'Copernicus {event_dict[\"source_id\"]}']},\n",
    "                              geometry=[geo],\n",
    "                              crs=CRS.from_epsg(4326))\n",
    "df_event_f.head()"
   ]
  },
  {
   "cell_type": "code",
   "execution_count": 39,
   "id": "a56f7d98-4a80-4994-8799-4249fd0f3251",
   "metadata": {},
   "outputs": [],
   "source": [
    "EXTERNAL_VAL_DATA_DIR = Path('../external_validation_data_db/')\n",
    "EXTERNAL_VAL_DATA_DIR.mkdir(exist_ok=True, parents=True)"
   ]
  },
  {
   "cell_type": "code",
   "execution_count": 41,
   "id": "7b486c54-ec4a-4892-a1fd-3a19f098334c",
   "metadata": {},
   "outputs": [],
   "source": [
    "df_event_f.to_file(EXTERNAL_VAL_DATA_DIR / f'{event_dict[\"event_name\"]}.geojson', driver='GeoJSON')"
   ]
  }
 ],
 "metadata": {
  "kernelspec": {
   "display_name": "dist-s1",
   "language": "python",
   "name": "dist-s1"
  },
  "language_info": {
   "codemirror_mode": {
    "name": "ipython",
    "version": 3
   },
   "file_extension": ".py",
   "mimetype": "text/x-python",
   "name": "python",
   "nbconvert_exporter": "python",
   "pygments_lexer": "ipython3",
   "version": "3.12.4"
  }
 },
 "nbformat": 4,
 "nbformat_minor": 5
}
