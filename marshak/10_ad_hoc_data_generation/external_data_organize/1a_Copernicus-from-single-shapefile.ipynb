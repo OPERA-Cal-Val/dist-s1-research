{
 "cells": [
  {
   "cell_type": "markdown",
   "id": "7adb281c-9900-4db9-9534-19256b72c3d7",
   "metadata": {},
   "source": [
    "This is formatting and aligning data from Copernicus EMS data: https://rapidmapping.emergency.copernicus.eu/"
   ]
  },
  {
   "cell_type": "code",
   "execution_count": 1,
   "id": "f4fe73b3-0e81-43ff-93d3-3af0b0826732",
   "metadata": {},
   "outputs": [],
   "source": [
    "import geopandas as gpd\n",
    "import rasterio\n",
    "import numpy as np\n",
    "import matplotlib.pyplot as plt\n",
    "from pathlib import Path\n",
    "import yaml\n",
    "from rasterio.crs import CRS\n",
    "import pandas as pd"
   ]
  },
  {
   "cell_type": "code",
   "execution_count": 22,
   "id": "9c51f032-262d-47e6-bbe7-5dba57bbec72",
   "metadata": {},
   "outputs": [
    {
     "data": {
      "text/plain": [
       "{'event_name': 'derna_flood_2023',\n",
       " 'bounds': [10.97631339, 43.81441325, 11.15319728, 43.98650075],\n",
       " 'event_date': '2023-11-09',\n",
       " 'pre_event_window_days': 100,\n",
       " 'post_event_window_days': 60,\n",
       " 'rtc_track_numbers': [15, 168],\n",
       " 'mgrs_tiles': ['32TPP'],\n",
       " 'dist_hls_confirmed_change_min_days': 30,\n",
       " 'source_id': 'Copernicus EMSR696',\n",
       " 'links': ['https://rapidmapping.emergency.copernicus.eu/EMSR696/download',\n",
       "  'https://apnews.com/article/libya-derna-floods-5d29f54b47bcc6daa6802e5f9c8f2d10']}"
      ]
     },
     "execution_count": 22,
     "metadata": {},
     "output_type": "execute_result"
    }
   ],
   "source": [
    "yaml_file = '../events/derna_flood_2023.yml' #'porto_algre.yml'\n",
    "with open(yaml_file) as f:\n",
    "    event_dict = yaml.safe_load(f)[\"event\"]\n",
    "event_dict"
   ]
  },
  {
   "cell_type": "code",
   "execution_count": 25,
   "id": "d4aea86c-28cf-4053-a552-1d65c58d31ae",
   "metadata": {},
   "outputs": [
    {
     "data": {
      "text/html": [
       "<div>\n",
       "<style scoped>\n",
       "    .dataframe tbody tr th:only-of-type {\n",
       "        vertical-align: middle;\n",
       "    }\n",
       "\n",
       "    .dataframe tbody tr th {\n",
       "        vertical-align: top;\n",
       "    }\n",
       "\n",
       "    .dataframe thead th {\n",
       "        text-align: right;\n",
       "    }\n",
       "</style>\n",
       "<table border=\"1\" class=\"dataframe\">\n",
       "  <thead>\n",
       "    <tr style=\"text-align: right;\">\n",
       "      <th></th>\n",
       "      <th>event_type</th>\n",
       "      <th>obj_desc</th>\n",
       "      <th>det_method</th>\n",
       "      <th>notation</th>\n",
       "      <th>dmg_src_id</th>\n",
       "      <th>area</th>\n",
       "      <th>geometry</th>\n",
       "    </tr>\n",
       "  </thead>\n",
       "  <tbody>\n",
       "    <tr>\n",
       "      <th>0</th>\n",
       "      <td>5-Flood</td>\n",
       "      <td>Flash flood</td>\n",
       "      <td>Photo-interpretation</td>\n",
       "      <td>Flooded area</td>\n",
       "      <td>4</td>\n",
       "      <td>0.140699</td>\n",
       "      <td>POLYGON ((22.63312 32.76671, 22.63298 32.76667...</td>\n",
       "    </tr>\n",
       "    <tr>\n",
       "      <th>1</th>\n",
       "      <td>5-Flood</td>\n",
       "      <td>Flash flood</td>\n",
       "      <td>Photo-interpretation</td>\n",
       "      <td>Flooded area</td>\n",
       "      <td>4</td>\n",
       "      <td>0.149789</td>\n",
       "      <td>POLYGON ((22.65015 32.76139, 22.64993 32.76138...</td>\n",
       "    </tr>\n",
       "    <tr>\n",
       "      <th>2</th>\n",
       "      <td>5-Flood</td>\n",
       "      <td>Flash flood</td>\n",
       "      <td>Photo-interpretation</td>\n",
       "      <td>Flooded area</td>\n",
       "      <td>4</td>\n",
       "      <td>3.159541</td>\n",
       "      <td>POLYGON ((22.52495 32.80071, 22.52464 32.80063...</td>\n",
       "    </tr>\n",
       "    <tr>\n",
       "      <th>3</th>\n",
       "      <td>5-Flood</td>\n",
       "      <td>Flash flood</td>\n",
       "      <td>Photo-interpretation</td>\n",
       "      <td>Flooded area</td>\n",
       "      <td>4</td>\n",
       "      <td>5.546772</td>\n",
       "      <td>POLYGON ((22.55975 32.80014, 22.55994 32.80013...</td>\n",
       "    </tr>\n",
       "    <tr>\n",
       "      <th>4</th>\n",
       "      <td>5-Flood</td>\n",
       "      <td>Flash flood</td>\n",
       "      <td>Photo-interpretation</td>\n",
       "      <td>Flooded area</td>\n",
       "      <td>4</td>\n",
       "      <td>4.997236</td>\n",
       "      <td>POLYGON ((22.56581 32.78939, 22.56490 32.78762...</td>\n",
       "    </tr>\n",
       "  </tbody>\n",
       "</table>\n",
       "</div>"
      ],
      "text/plain": [
       "  event_type     obj_desc            det_method      notation  dmg_src_id  \\\n",
       "0    5-Flood  Flash flood  Photo-interpretation  Flooded area           4   \n",
       "1    5-Flood  Flash flood  Photo-interpretation  Flooded area           4   \n",
       "2    5-Flood  Flash flood  Photo-interpretation  Flooded area           4   \n",
       "3    5-Flood  Flash flood  Photo-interpretation  Flooded area           4   \n",
       "4    5-Flood  Flash flood  Photo-interpretation  Flooded area           4   \n",
       "\n",
       "       area                                           geometry  \n",
       "0  0.140699  POLYGON ((22.63312 32.76671, 22.63298 32.76667...  \n",
       "1  0.149789  POLYGON ((22.65015 32.76139, 22.64993 32.76138...  \n",
       "2  3.159541  POLYGON ((22.52495 32.80071, 22.52464 32.80063...  \n",
       "3  5.546772  POLYGON ((22.55975 32.80014, 22.55994 32.80013...  \n",
       "4  4.997236  POLYGON ((22.56581 32.78939, 22.56490 32.78762...  "
      ]
     },
     "execution_count": 25,
     "metadata": {},
     "output_type": "execute_result"
    }
   ],
   "source": [
    "df_event = gpd.read_file('../external_validation_data/copernicus_ems/derna_flood_2023/EMSR696_AOI01_GRA_PRODUCT_observedEventA_v1.shp')\n",
    "df_event.head()"
   ]
  },
  {
   "cell_type": "code",
   "execution_count": 26,
   "id": "d248e026-7574-407d-882e-b2581b202a6a",
   "metadata": {},
   "outputs": [
    {
     "data": {
      "text/plain": [
       "<Axes: >"
      ]
     },
     "execution_count": 26,
     "metadata": {},
     "output_type": "execute_result"
    },
    {
     "data": {
      "image/png": "[encoded data removed]",
      "text/plain": [
       "<Figure size 640x480 with 1 Axes>"
      ]
     },
     "metadata": {},
     "output_type": "display_data"
    }
   ],
   "source": [
    "df_event.plot()"
   ]
  },
  {
   "cell_type": "code",
   "execution_count": 27,
   "id": "2934250f-f7b1-4acb-b6fe-b917af062c11",
   "metadata": {},
   "outputs": [
    {
     "data": {
      "text/plain": [
       "array([22.52302437, 32.65748484, 22.68674853, 32.80244308])"
      ]
     },
     "execution_count": 27,
     "metadata": {},
     "output_type": "execute_result"
    }
   ],
   "source": [
    "df_event.total_bounds"
   ]
  },
  {
   "cell_type": "code",
   "execution_count": 28,
   "id": "17b53fe3-4110-4f90-80d3-d6c2fddff3a9",
   "metadata": {},
   "outputs": [
    {
     "data": {
      "text/html": [
       "<div>\n",
       "<style scoped>\n",
       "    .dataframe tbody tr th:only-of-type {\n",
       "        vertical-align: middle;\n",
       "    }\n",
       "\n",
       "    .dataframe tbody tr th {\n",
       "        vertical-align: top;\n",
       "    }\n",
       "\n",
       "    .dataframe thead th {\n",
       "        text-align: right;\n",
       "    }\n",
       "</style>\n",
       "<table border=\"1\" class=\"dataframe\">\n",
       "  <thead>\n",
       "    <tr style=\"text-align: right;\">\n",
       "      <th></th>\n",
       "      <th>name</th>\n",
       "      <th>date</th>\n",
       "      <th>source_id</th>\n",
       "      <th>geometry</th>\n",
       "    </tr>\n",
       "  </thead>\n",
       "  <tbody>\n",
       "    <tr>\n",
       "      <th>0</th>\n",
       "      <td>derna_flood_2023</td>\n",
       "      <td>2023-11-09</td>\n",
       "      <td>Copernicus Copernicus EMSR696</td>\n",
       "      <td>MULTIPOLYGON (((22.58865 32.66955, 22.58890 32...</td>\n",
       "    </tr>\n",
       "  </tbody>\n",
       "</table>\n",
       "</div>"
      ],
      "text/plain": [
       "               name       date                      source_id  \\\n",
       "0  derna_flood_2023 2023-11-09  Copernicus Copernicus EMSR696   \n",
       "\n",
       "                                            geometry  \n",
       "0  MULTIPOLYGON (((22.58865 32.66955, 22.58890 32...  "
      ]
     },
     "execution_count": 28,
     "metadata": {},
     "output_type": "execute_result"
    }
   ],
   "source": [
    "geo = df_event.geometry.unary_union\n",
    "\n",
    "df_event_f = gpd.GeoDataFrame({'name': [event_dict['event_name']],\n",
    "                               'date': [pd.to_datetime(event_dict['event_date'])],\n",
    "                               'source_id': [f'Copernicus {event_dict[\"source_id\"]}']},\n",
    "                              geometry=[geo],\n",
    "                              crs=CRS.from_epsg(4326))\n",
    "df_event_f.head()"
   ]
  },
  {
   "cell_type": "code",
   "execution_count": 29,
   "id": "a56f7d98-4a80-4994-8799-4249fd0f3251",
   "metadata": {},
   "outputs": [],
   "source": [
    "EXTERNAL_VAL_DATA_DIR = Path('../external_validation_data_db/')\n",
    "EXTERNAL_VAL_DATA_DIR.mkdir(exist_ok=True, parents=True)"
   ]
  },
  {
   "cell_type": "code",
   "execution_count": 30,
   "id": "7b486c54-ec4a-4892-a1fd-3a19f098334c",
   "metadata": {},
   "outputs": [],
   "source": [
    "df_event_f.to_file(EXTERNAL_VAL_DATA_DIR / f'{event_dict[\"event_name\"]}.geojson', driver='GeoJSON')"
   ]
  },
  {
   "cell_type": "code",
   "execution_count": null,
   "id": "187c5987-79e6-46e4-b03a-9b1110f1f326",
   "metadata": {},
   "outputs": [],
   "source": []
  }
 ],
 "metadata": {
  "kernelspec": {
   "display_name": "dist-s1",
   "language": "python",
   "name": "dist-s1"
  },
  "language_info": {
   "codemirror_mode": {
    "name": "ipython",
    "version": 3
   },
   "file_extension": ".py",
   "mimetype": "text/x-python",
   "name": "python",
   "nbconvert_exporter": "python",
   "pygments_lexer": "ipython3",
   "version": "3.12.4"
  }
 },
 "nbformat": 4,
 "nbformat_minor": 5
}
