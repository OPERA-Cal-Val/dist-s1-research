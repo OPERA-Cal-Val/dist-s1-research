{
 "cells": [
  {
   "cell_type": "markdown",
   "id": "7adb281c-9900-4db9-9534-19256b72c3d7",
   "metadata": {},
   "source": [
    "This is formatting and aligning data from Copernicus EMS data: https://rapidmapping.emergency.copernicus.eu/"
   ]
  },
  {
   "cell_type": "code",
   "execution_count": 10,
   "id": "f4fe73b3-0e81-43ff-93d3-3af0b0826732",
   "metadata": {},
   "outputs": [],
   "source": [
    "import geopandas as gpd\n",
    "import rasterio\n",
    "import numpy as np\n",
    "import matplotlib.pyplot as plt\n",
    "from pathlib import Path\n",
    "import yaml\n",
    "from rasterio.crs import CRS\n",
    "import pandas as pd\n",
    "import fiona"
   ]
  },
  {
   "cell_type": "code",
   "execution_count": 27,
   "id": "9c51f032-262d-47e6-bbe7-5dba57bbec72",
   "metadata": {},
   "outputs": [
    {
     "data": {
      "text/plain": [
       "{'event_name': 'tuscany_flood_2023',\n",
       " 'bounds': [10.97631339, 43.81441325, 11.15319728, 43.98650075],\n",
       " 'event_date': '2023-11-02',\n",
       " 'pre_event_window_days': 100,\n",
       " 'post_event_window_days': 60,\n",
       " 'rtc_track_numbers': [15, 168],\n",
       " 'mgrs_tiles': ['32TPP'],\n",
       " 'dist_hls_confirmed_change_min_days': 30,\n",
       " 'source_id': 'Copernicus EMSN185',\n",
       " 'links': ['https://emergency.copernicus.eu/mapping/list-of-components/EMSN185',\n",
       "  'https://earthobservatory.nasa.gov/images/152051/flooding-in-tuscany']}"
      ]
     },
     "execution_count": 27,
     "metadata": {},
     "output_type": "execute_result"
    }
   ],
   "source": [
    "yaml_file = '../events/tuscany_flood_2023.yml' #'porto_algre.yml'\n",
    "with open(yaml_file) as f:\n",
    "    event_dict = yaml.safe_load(f)[\"event\"]\n",
    "event_dict"
   ]
  },
  {
   "cell_type": "code",
   "execution_count": 13,
   "id": "42e4b3d8-a25c-4107-8631-f67e5aac1bc2",
   "metadata": {},
   "outputs": [
    {
     "data": {
      "text/plain": [
       "['P00_sensor_footprint',\n",
       " 'P00_data_source',\n",
       " 'P08DDA_DamageAssessmentP',\n",
       " 'P08DDA_DamageAssessmentL',\n",
       " 'P00_map_frame',\n",
       " 'P00_aoi',\n",
       " 'P08DDA_ObservedEventL',\n",
       " 'P08DDA_ObservedEventP',\n",
       " 'P20RHIA_BoundaryA',\n",
       " 'P20RHIA_BoundaryL',\n",
       " 'P20RHIA_BuiltupA',\n",
       " 'P20RHIA_Contour',\n",
       " 'P20RHIA_Facilities',\n",
       " 'P20RHIA_HydrographyA',\n",
       " 'P20RHIA_HydrographyL',\n",
       " 'P20RHIA_NameLoc',\n",
       " 'P20RHIA_TransportationA',\n",
       " 'P20RHIA_TransportationL',\n",
       " 'P08DDA_ObservedEventA',\n",
       " 'P08DDA_DamageAssessmentA',\n",
       " 'fras_aux_pppp',\n",
       " 'fras_aux_ppppp',\n",
       " 'fras_aux_testRaster',\n",
       " 'fras_aux_zzz',\n",
       " 'fras_blk_pppp',\n",
       " 'fras_blk_ppppp',\n",
       " 'fras_blk_testRaster',\n",
       " 'fras_blk_zzz',\n",
       " 'fras_bnd_pppp',\n",
       " 'fras_bnd_ppppp',\n",
       " 'fras_bnd_testRaster',\n",
       " 'fras_bnd_zzz',\n",
       " 'fras_ras_pppp',\n",
       " 'fras_ras_ppppp',\n",
       " 'fras_ras_testRaster',\n",
       " 'fras_ras_zzz']"
      ]
     },
     "execution_count": 13,
     "metadata": {},
     "output_type": "execute_result"
    }
   ],
   "source": [
    "fiona.listlayers('../external_validation_data/copernicus_ems/tuscany_flood_2023/EMSN185_STD_UTM32N.gdb')"
   ]
  },
  {
   "cell_type": "code",
   "execution_count": 17,
   "id": "d4aea86c-28cf-4053-a552-1d65c58d31ae",
   "metadata": {},
   "outputs": [
    {
     "data": {
      "text/html": [
       "<div>\n",
       "<style scoped>\n",
       "    .dataframe tbody tr th:only-of-type {\n",
       "        vertical-align: middle;\n",
       "    }\n",
       "\n",
       "    .dataframe tbody tr th {\n",
       "        vertical-align: top;\n",
       "    }\n",
       "\n",
       "    .dataframe thead th {\n",
       "        text-align: right;\n",
       "    }\n",
       "</style>\n",
       "<table border=\"1\" class=\"dataframe\">\n",
       "  <thead>\n",
       "    <tr style=\"text-align: right;\">\n",
       "      <th></th>\n",
       "      <th>event_type</th>\n",
       "      <th>det_method</th>\n",
       "      <th>notation</th>\n",
       "      <th>aoi_id</th>\n",
       "      <th>dmg_src_id</th>\n",
       "      <th>SHAPE_Length</th>\n",
       "      <th>SHAPE_Area</th>\n",
       "      <th>geometry</th>\n",
       "    </tr>\n",
       "  </thead>\n",
       "  <tbody>\n",
       "    <tr>\n",
       "      <th>0</th>\n",
       "      <td>1</td>\n",
       "      <td>1</td>\n",
       "      <td>1</td>\n",
       "      <td>01</td>\n",
       "      <td>2</td>\n",
       "      <td>156.006294</td>\n",
       "      <td>477.368860</td>\n",
       "      <td>MULTIPOLYGON (((671616.091 4853539.443, 671616...</td>\n",
       "    </tr>\n",
       "    <tr>\n",
       "      <th>1</th>\n",
       "      <td>1</td>\n",
       "      <td>1</td>\n",
       "      <td>1</td>\n",
       "      <td>01</td>\n",
       "      <td>2</td>\n",
       "      <td>238.123451</td>\n",
       "      <td>2628.651723</td>\n",
       "      <td>MULTIPOLYGON (((673114.400 4854768.620, 673108...</td>\n",
       "    </tr>\n",
       "    <tr>\n",
       "      <th>2</th>\n",
       "      <td>1</td>\n",
       "      <td>1</td>\n",
       "      <td>1</td>\n",
       "      <td>01</td>\n",
       "      <td>2</td>\n",
       "      <td>9103.940582</td>\n",
       "      <td>243031.945976</td>\n",
       "      <td>MULTIPOLYGON (((673066.915 4855407.040, 673075...</td>\n",
       "    </tr>\n",
       "    <tr>\n",
       "      <th>3</th>\n",
       "      <td>1</td>\n",
       "      <td>1</td>\n",
       "      <td>1</td>\n",
       "      <td>01</td>\n",
       "      <td>2</td>\n",
       "      <td>5591.720848</td>\n",
       "      <td>68218.926011</td>\n",
       "      <td>MULTIPOLYGON (((671603.594 4856593.297, 671569...</td>\n",
       "    </tr>\n",
       "    <tr>\n",
       "      <th>4</th>\n",
       "      <td>1</td>\n",
       "      <td>1</td>\n",
       "      <td>1</td>\n",
       "      <td>01</td>\n",
       "      <td>2</td>\n",
       "      <td>6611.030564</td>\n",
       "      <td>30980.920840</td>\n",
       "      <td>MULTIPOLYGON (((671097.016 4856504.479, 671118...</td>\n",
       "    </tr>\n",
       "  </tbody>\n",
       "</table>\n",
       "</div>"
      ],
      "text/plain": [
       "  event_type det_method notation aoi_id dmg_src_id  SHAPE_Length  \\\n",
       "0          1          1        1     01          2    156.006294   \n",
       "1          1          1        1     01          2    238.123451   \n",
       "2          1          1        1     01          2   9103.940582   \n",
       "3          1          1        1     01          2   5591.720848   \n",
       "4          1          1        1     01          2   6611.030564   \n",
       "\n",
       "      SHAPE_Area                                           geometry  \n",
       "0     477.368860  MULTIPOLYGON (((671616.091 4853539.443, 671616...  \n",
       "1    2628.651723  MULTIPOLYGON (((673114.400 4854768.620, 673108...  \n",
       "2  243031.945976  MULTIPOLYGON (((673066.915 4855407.040, 673075...  \n",
       "3   68218.926011  MULTIPOLYGON (((671603.594 4856593.297, 671569...  \n",
       "4   30980.920840  MULTIPOLYGON (((671097.016 4856504.479, 671118...  "
      ]
     },
     "execution_count": 17,
     "metadata": {},
     "output_type": "execute_result"
    }
   ],
   "source": [
    "df_event = gpd.read_file('../external_validation_data/copernicus_ems/tuscany_flood_2023/EMSN185_STD_UTM32N.gdb/', layer='P08DDA_ObservedEventA')\n",
    "df_event.head()"
   ]
  },
  {
   "cell_type": "code",
   "execution_count": 18,
   "id": "d248e026-7574-407d-882e-b2581b202a6a",
   "metadata": {},
   "outputs": [
    {
     "data": {
      "text/plain": [
       "<Axes: >"
      ]
     },
     "execution_count": 18,
     "metadata": {},
     "output_type": "execute_result"
    },
    {
     "data": {
      "image/png": "[encoded data removed]",
      "text/plain": [
       "<Figure size 640x480 with 1 Axes>"
      ]
     },
     "metadata": {},
     "output_type": "display_data"
    }
   ],
   "source": [
    "df_event.plot()"
   ]
  },
  {
   "cell_type": "code",
   "execution_count": 19,
   "id": "9873911d-c605-4153-bb82-28f98449c5e6",
   "metadata": {},
   "outputs": [],
   "source": [
    "df_event = df_event.to_crs(4326)"
   ]
  },
  {
   "cell_type": "code",
   "execution_count": 21,
   "id": "2934250f-f7b1-4acb-b6fe-b917af062c11",
   "metadata": {},
   "outputs": [
    {
     "data": {
      "text/plain": [
       "array([10.97631339, 43.81441325, 11.15319728, 43.98650075])"
      ]
     },
     "execution_count": 21,
     "metadata": {},
     "output_type": "execute_result"
    }
   ],
   "source": [
    "df_event.total_bounds"
   ]
  },
  {
   "cell_type": "code",
   "execution_count": 22,
   "id": "17b53fe3-4110-4f90-80d3-d6c2fddff3a9",
   "metadata": {},
   "outputs": [
    {
     "data": {
      "text/html": [
       "<div>\n",
       "<style scoped>\n",
       "    .dataframe tbody tr th:only-of-type {\n",
       "        vertical-align: middle;\n",
       "    }\n",
       "\n",
       "    .dataframe tbody tr th {\n",
       "        vertical-align: top;\n",
       "    }\n",
       "\n",
       "    .dataframe thead th {\n",
       "        text-align: right;\n",
       "    }\n",
       "</style>\n",
       "<table border=\"1\" class=\"dataframe\">\n",
       "  <thead>\n",
       "    <tr style=\"text-align: right;\">\n",
       "      <th></th>\n",
       "      <th>name</th>\n",
       "      <th>date</th>\n",
       "      <th>source_id</th>\n",
       "      <th>geometry</th>\n",
       "    </tr>\n",
       "  </thead>\n",
       "  <tbody>\n",
       "    <tr>\n",
       "      <th>0</th>\n",
       "      <td>tuscany_flood_2023</td>\n",
       "      <td>2023-11-02</td>\n",
       "      <td>Copernicus Copernicus EMSN185</td>\n",
       "      <td>MULTIPOLYGON (((10.97632 43.84244, 10.97635 43...</td>\n",
       "    </tr>\n",
       "  </tbody>\n",
       "</table>\n",
       "</div>"
      ],
      "text/plain": [
       "                 name       date                      source_id  \\\n",
       "0  tuscany_flood_2023 2023-11-02  Copernicus Copernicus EMSN185   \n",
       "\n",
       "                                            geometry  \n",
       "0  MULTIPOLYGON (((10.97632 43.84244, 10.97635 43...  "
      ]
     },
     "execution_count": 22,
     "metadata": {},
     "output_type": "execute_result"
    }
   ],
   "source": [
    "geo = df_event.geometry.unary_union\n",
    "\n",
    "df_event_f = gpd.GeoDataFrame({'name': [event_dict['event_name']],\n",
    "                               'date': [pd.to_datetime(event_dict['event_date'])],\n",
    "                               'source_id': [f'Copernicus {event_dict[\"source_id\"]}']},\n",
    "                              geometry=[geo],\n",
    "                              crs=CRS.from_epsg(4326))\n",
    "df_event_f.head()"
   ]
  },
  {
   "cell_type": "code",
   "execution_count": 23,
   "id": "a56f7d98-4a80-4994-8799-4249fd0f3251",
   "metadata": {},
   "outputs": [],
   "source": [
    "EXTERNAL_VAL_DATA_DIR = Path('../external_validation_data_db/')\n",
    "EXTERNAL_VAL_DATA_DIR.mkdir(exist_ok=True, parents=True)"
   ]
  },
  {
   "cell_type": "code",
   "execution_count": 25,
   "id": "7b486c54-ec4a-4892-a1fd-3a19f098334c",
   "metadata": {},
   "outputs": [],
   "source": [
    "df_event_f.to_file(EXTERNAL_VAL_DATA_DIR / f'{event_dict[\"event_name\"]}.geojson', driver='GeoJSON')\n",
    "#df_event_f.to_file(EXTERNAL_VAL_DATA_DIR / f'{event_dict[\"event_name\"]}.geojson', driver='GeoJSON')"
   ]
  }
 ],
 "metadata": {
  "kernelspec": {
   "display_name": "dist-s1",
   "language": "python",
   "name": "dist-s1"
  },
  "language_info": {
   "codemirror_mode": {
    "name": "ipython",
    "version": 3
   },
   "file_extension": ".py",
   "mimetype": "text/x-python",
   "name": "python",
   "nbconvert_exporter": "python",
   "pygments_lexer": "ipython3",
   "version": "3.12.4"
  }
 },
 "nbformat": 4,
 "nbformat_minor": 5
}
