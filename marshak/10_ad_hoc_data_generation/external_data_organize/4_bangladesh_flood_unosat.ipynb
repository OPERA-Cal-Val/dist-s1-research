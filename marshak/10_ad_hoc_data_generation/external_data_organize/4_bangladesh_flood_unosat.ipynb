{
 "cells": [
  {
   "cell_type": "markdown",
   "id": "308f7b60-0c23-4865-81d3-cfc2bfc1a170",
   "metadata": {
    "editable": true,
    "slideshow": {
     "slide_type": ""
    },
    "tags": []
   },
   "source": [
    "Source: https://data.humdata.org/dataset/satellite-detected-water-extents-between-4-11-july-2024-in-bangladesh"
   ]
  },
  {
   "cell_type": "code",
   "execution_count": 45,
   "id": "0c14f20f-03f2-43da-8ba5-294931194ff4",
   "metadata": {
    "editable": true,
    "slideshow": {
     "slide_type": ""
    },
    "tags": []
   },
   "outputs": [],
   "source": [
    "import geopandas as gpd\n",
    "import pandas as pd\n",
    "import yaml\n",
    "from rasterio.crs import CRS\n",
    "from pathlib import Path"
   ]
  },
  {
   "cell_type": "code",
   "execution_count": 46,
   "id": "eb81041d-99b5-4d8e-9e5e-fb1aae7d184f",
   "metadata": {},
   "outputs": [
    {
     "data": {
      "text/plain": [
       "{'event_name': 'bangladesh_coastal_flood_2024',\n",
       " 'bounds': [88.96546265, 21.65505773, 91.33990759, 24.17825791],\n",
       " 'event_date': '2024-07-08',\n",
       " 'pre_event_window_days': 100,\n",
       " 'post_event_window_days': 60,\n",
       " 'rtc_track_numbers': [150, 114],\n",
       " 'mgrs_tiles': ['45QYE', '45QYF', '45QZE', '45QZF'],\n",
       " 'dist_hls_confirmed_change_min_days': 30,\n",
       " 'source_id': 'UNOSAT via https://data.humdata.org',\n",
       " 'links': ['https://data.humdata.org/dataset/satellite-detected-water-extents-between-4-11-july-2024-in-bangladesh',\n",
       "  'https://reliefweb.int/disaster/fl-2024-000088-bgd']}"
      ]
     },
     "execution_count": 46,
     "metadata": {},
     "output_type": "execute_result"
    }
   ],
   "source": [
    "yaml_file = '../events/bangladesh_coastal_flood_2024.yml' #'porto_algre.yml'\n",
    "with open(yaml_file) as f:\n",
    "    event_dict = yaml.safe_load(f)[\"event\"]\n",
    "event_dict"
   ]
  },
  {
   "cell_type": "code",
   "execution_count": 47,
   "id": "508d63fc-be64-458f-9c8d-2a8ca05ff6de",
   "metadata": {
    "editable": true,
    "slideshow": {
     "slide_type": ""
    },
    "tags": []
   },
   "outputs": [
    {
     "data": {
      "text/html": [
       "<div>\n",
       "<style scoped>\n",
       "    .dataframe tbody tr th:only-of-type {\n",
       "        vertical-align: middle;\n",
       "    }\n",
       "\n",
       "    .dataframe tbody tr th {\n",
       "        vertical-align: top;\n",
       "    }\n",
       "\n",
       "    .dataframe thead th {\n",
       "        text-align: right;\n",
       "    }\n",
       "</style>\n",
       "<table border=\"1\" class=\"dataframe\">\n",
       "  <thead>\n",
       "    <tr style=\"text-align: right;\">\n",
       "      <th></th>\n",
       "      <th>FID_bgd_ad</th>\n",
       "      <th>Shape_Leng</th>\n",
       "      <th>ADM3_EN</th>\n",
       "      <th>ADM3_PCODE</th>\n",
       "      <th>ADM2_EN</th>\n",
       "      <th>ADM2_PCODE</th>\n",
       "      <th>ADM1_EN</th>\n",
       "      <th>ADM1_PCODE</th>\n",
       "      <th>ADM0_EN</th>\n",
       "      <th>ADM0_PCODE</th>\n",
       "      <th>FL_Area</th>\n",
       "      <th>geometry</th>\n",
       "    </tr>\n",
       "  </thead>\n",
       "  <tbody>\n",
       "    <tr>\n",
       "      <th>0</th>\n",
       "      <td>0</td>\n",
       "      <td>1.171879</td>\n",
       "      <td>Abhaynagar</td>\n",
       "      <td>BD404104</td>\n",
       "      <td>Jessore</td>\n",
       "      <td>BD4041</td>\n",
       "      <td>Khulna</td>\n",
       "      <td>BD40</td>\n",
       "      <td>Bangladesh</td>\n",
       "      <td>BD</td>\n",
       "      <td>14.676618</td>\n",
       "      <td>MULTIPOLYGON (((89.51577 22.92842, 89.51568 22...</td>\n",
       "    </tr>\n",
       "    <tr>\n",
       "      <th>1</th>\n",
       "      <td>4</td>\n",
       "      <td>0.687378</td>\n",
       "      <td>Agailjhara</td>\n",
       "      <td>BD100602</td>\n",
       "      <td>Barisal</td>\n",
       "      <td>BD1006</td>\n",
       "      <td>Barisal</td>\n",
       "      <td>BD10</td>\n",
       "      <td>Bangladesh</td>\n",
       "      <td>BD</td>\n",
       "      <td>2.021449</td>\n",
       "      <td>MULTIPOLYGON (((90.18070 22.90734, 90.18061 22...</td>\n",
       "    </tr>\n",
       "    <tr>\n",
       "      <th>2</th>\n",
       "      <td>8</td>\n",
       "      <td>1.092474</td>\n",
       "      <td>Alamdanga</td>\n",
       "      <td>BD401807</td>\n",
       "      <td>Chuadanga</td>\n",
       "      <td>BD4018</td>\n",
       "      <td>Khulna</td>\n",
       "      <td>BD40</td>\n",
       "      <td>Bangladesh</td>\n",
       "      <td>BD</td>\n",
       "      <td>0.243772</td>\n",
       "      <td>MULTIPOLYGON (((89.00759 23.62812, 89.00759 23...</td>\n",
       "    </tr>\n",
       "    <tr>\n",
       "      <th>3</th>\n",
       "      <td>9</td>\n",
       "      <td>0.777981</td>\n",
       "      <td>Alfadanga</td>\n",
       "      <td>BD302903</td>\n",
       "      <td>Faridpur</td>\n",
       "      <td>BD3029</td>\n",
       "      <td>Dhaka</td>\n",
       "      <td>BD30</td>\n",
       "      <td>Bangladesh</td>\n",
       "      <td>BD</td>\n",
       "      <td>1.220706</td>\n",
       "      <td>MULTIPOLYGON (((89.68752 23.21052, 89.68752 23...</td>\n",
       "    </tr>\n",
       "    <tr>\n",
       "      <th>4</th>\n",
       "      <td>11</td>\n",
       "      <td>1.846319</td>\n",
       "      <td>Amtali</td>\n",
       "      <td>BD100409</td>\n",
       "      <td>Barguna</td>\n",
       "      <td>BD1004</td>\n",
       "      <td>Barisal</td>\n",
       "      <td>BD10</td>\n",
       "      <td>Bangladesh</td>\n",
       "      <td>BD</td>\n",
       "      <td>51.657308</td>\n",
       "      <td>MULTIPOLYGON (((90.07247 21.86330, 90.07202 21...</td>\n",
       "    </tr>\n",
       "  </tbody>\n",
       "</table>\n",
       "</div>"
      ],
      "text/plain": [
       "   FID_bgd_ad  Shape_Leng     ADM3_EN ADM3_PCODE    ADM2_EN ADM2_PCODE  \\\n",
       "0           0    1.171879  Abhaynagar   BD404104    Jessore     BD4041   \n",
       "1           4    0.687378  Agailjhara   BD100602    Barisal     BD1006   \n",
       "2           8    1.092474   Alamdanga   BD401807  Chuadanga     BD4018   \n",
       "3           9    0.777981   Alfadanga   BD302903   Faridpur     BD3029   \n",
       "4          11    1.846319      Amtali   BD100409    Barguna     BD1004   \n",
       "\n",
       "   ADM1_EN ADM1_PCODE     ADM0_EN ADM0_PCODE    FL_Area  \\\n",
       "0   Khulna       BD40  Bangladesh         BD  14.676618   \n",
       "1  Barisal       BD10  Bangladesh         BD   2.021449   \n",
       "2   Khulna       BD40  Bangladesh         BD   0.243772   \n",
       "3    Dhaka       BD30  Bangladesh         BD   1.220706   \n",
       "4  Barisal       BD10  Bangladesh         BD  51.657308   \n",
       "\n",
       "                                            geometry  \n",
       "0  MULTIPOLYGON (((89.51577 22.92842, 89.51568 22...  \n",
       "1  MULTIPOLYGON (((90.18070 22.90734, 90.18061 22...  \n",
       "2  MULTIPOLYGON (((89.00759 23.62812, 89.00759 23...  \n",
       "3  MULTIPOLYGON (((89.68752 23.21052, 89.68752 23...  \n",
       "4  MULTIPOLYGON (((90.07247 21.86330, 90.07202 21...  "
      ]
     },
     "execution_count": 47,
     "metadata": {},
     "output_type": "execute_result"
    }
   ],
   "source": [
    "df_flood = gpd.read_file('../external_validation_data/ST1_20240704_20240711_FloodExtent_Bangladesh')\n",
    "df_flood = df_flood.to_crs(4326)\n",
    "df_flood.head()"
   ]
  },
  {
   "cell_type": "code",
   "execution_count": 48,
   "id": "0d206250-19fa-46ba-a8f6-c07edcc24770",
   "metadata": {
    "editable": true,
    "slideshow": {
     "slide_type": ""
    },
    "tags": []
   },
   "outputs": [],
   "source": [
    "# df_flood_coastal = df_flood.cx[89.2:91, 21.5: 24].reset_index(drop=True)\n",
    "# df_flood_coastal.explore()"
   ]
  },
  {
   "cell_type": "code",
   "execution_count": 49,
   "id": "6ed28660-4cbf-4191-9d2e-725557983ae3",
   "metadata": {},
   "outputs": [
    {
     "data": {
      "text/plain": [
       "array([88.96546265, 21.65505773, 91.33990759, 24.17825791])"
      ]
     },
     "execution_count": 49,
     "metadata": {},
     "output_type": "execute_result"
    }
   ],
   "source": [
    "df_flood_coastal.total_bounds"
   ]
  },
  {
   "cell_type": "code",
   "execution_count": 50,
   "id": "8ae58dd4-bece-4e79-a844-4aa86484589c",
   "metadata": {},
   "outputs": [
    {
     "data": {
      "text/html": [
       "<div>\n",
       "<style scoped>\n",
       "    .dataframe tbody tr th:only-of-type {\n",
       "        vertical-align: middle;\n",
       "    }\n",
       "\n",
       "    .dataframe tbody tr th {\n",
       "        vertical-align: top;\n",
       "    }\n",
       "\n",
       "    .dataframe thead th {\n",
       "        text-align: right;\n",
       "    }\n",
       "</style>\n",
       "<table border=\"1\" class=\"dataframe\">\n",
       "  <thead>\n",
       "    <tr style=\"text-align: right;\">\n",
       "      <th></th>\n",
       "      <th>name</th>\n",
       "      <th>date</th>\n",
       "      <th>source_id</th>\n",
       "      <th>geometry</th>\n",
       "    </tr>\n",
       "  </thead>\n",
       "  <tbody>\n",
       "    <tr>\n",
       "      <th>0</th>\n",
       "      <td>bangladesh_coastal_flood_2024</td>\n",
       "      <td>2024-07-08</td>\n",
       "      <td>UNOSAT via https://data.humdata.org</td>\n",
       "      <td>MULTIPOLYGON (((89.51577 22.92842, 89.51568 22...</td>\n",
       "    </tr>\n",
       "    <tr>\n",
       "      <th>1</th>\n",
       "      <td>bangladesh_coastal_flood_2024</td>\n",
       "      <td>2024-07-08</td>\n",
       "      <td>UNOSAT via https://data.humdata.org</td>\n",
       "      <td>MULTIPOLYGON (((90.18070 22.90734, 90.18061 22...</td>\n",
       "    </tr>\n",
       "    <tr>\n",
       "      <th>2</th>\n",
       "      <td>bangladesh_coastal_flood_2024</td>\n",
       "      <td>2024-07-08</td>\n",
       "      <td>UNOSAT via https://data.humdata.org</td>\n",
       "      <td>MULTIPOLYGON (((89.68752 23.21052, 89.68752 23...</td>\n",
       "    </tr>\n",
       "    <tr>\n",
       "      <th>3</th>\n",
       "      <td>bangladesh_coastal_flood_2024</td>\n",
       "      <td>2024-07-08</td>\n",
       "      <td>UNOSAT via https://data.humdata.org</td>\n",
       "      <td>MULTIPOLYGON (((90.07247 21.86330, 90.07202 21...</td>\n",
       "    </tr>\n",
       "    <tr>\n",
       "      <th>4</th>\n",
       "      <td>bangladesh_coastal_flood_2024</td>\n",
       "      <td>2024-07-08</td>\n",
       "      <td>UNOSAT via https://data.humdata.org</td>\n",
       "      <td>MULTIPOLYGON (((89.24744 22.35108, 89.24717 22...</td>\n",
       "    </tr>\n",
       "  </tbody>\n",
       "</table>\n",
       "</div>"
      ],
      "text/plain": [
       "                            name       date  \\\n",
       "0  bangladesh_coastal_flood_2024 2024-07-08   \n",
       "1  bangladesh_coastal_flood_2024 2024-07-08   \n",
       "2  bangladesh_coastal_flood_2024 2024-07-08   \n",
       "3  bangladesh_coastal_flood_2024 2024-07-08   \n",
       "4  bangladesh_coastal_flood_2024 2024-07-08   \n",
       "\n",
       "                             source_id  \\\n",
       "0  UNOSAT via https://data.humdata.org   \n",
       "1  UNOSAT via https://data.humdata.org   \n",
       "2  UNOSAT via https://data.humdata.org   \n",
       "3  UNOSAT via https://data.humdata.org   \n",
       "4  UNOSAT via https://data.humdata.org   \n",
       "\n",
       "                                            geometry  \n",
       "0  MULTIPOLYGON (((89.51577 22.92842, 89.51568 22...  \n",
       "1  MULTIPOLYGON (((90.18070 22.90734, 90.18061 22...  \n",
       "2  MULTIPOLYGON (((89.68752 23.21052, 89.68752 23...  \n",
       "3  MULTIPOLYGON (((90.07247 21.86330, 90.07202 21...  \n",
       "4  MULTIPOLYGON (((89.24744 22.35108, 89.24717 22...  "
      ]
     },
     "execution_count": 50,
     "metadata": {},
     "output_type": "execute_result"
    }
   ],
   "source": [
    "n = df_flood_coastal.shape[0]\n",
    "df_event_f = gpd.GeoDataFrame({'name': [event_dict['event_name'] for k in range(n)],\n",
    "                               'date': [pd.to_datetime(event_dict['event_date']) for k in range(n)],\n",
    "                               'source_id': [f'{event_dict[\"source_id\"]}' for k in range(n)]},\n",
    "                              geometry=df_flood_coastal.geometry.tolist(),\n",
    "                              crs=CRS.from_epsg(4326))\n",
    "df_event_f.head()"
   ]
  },
  {
   "cell_type": "code",
   "execution_count": 51,
   "id": "ed9dddb7-b070-4bbf-b514-3575365ea15d",
   "metadata": {},
   "outputs": [],
   "source": [
    "EXTERNAL_VAL_DATA_DIR = Path('../external_validation_data_db/')\n",
    "EXTERNAL_VAL_DATA_DIR.mkdir(exist_ok=True, parents=True)"
   ]
  },
  {
   "cell_type": "code",
   "execution_count": 52,
   "id": "cbb66a9c-32f1-42c4-ab3f-4b5a2cd0b1b3",
   "metadata": {},
   "outputs": [],
   "source": [
    "df_event_f.to_parquet(EXTERNAL_VAL_DATA_DIR / f'{event_dict[\"event_name\"]}.parquet')"
   ]
  },
  {
   "cell_type": "code",
   "execution_count": 37,
   "id": "a6327680-4e5b-4808-9caf-8c34b0aaaaca",
   "metadata": {},
   "outputs": [],
   "source": [
    "#df_event_f.to_file(EXTERNAL_VAL_DATA_DIR / f'{event_dict[\"event_name\"]}.geojson', driver='GeoJSON')"
   ]
  }
 ],
 "metadata": {
  "kernelspec": {
   "display_name": "dist-s1",
   "language": "python",
   "name": "dist-s1"
  },
  "language_info": {
   "codemirror_mode": {
    "name": "ipython",
    "version": 3
   },
   "file_extension": ".py",
   "mimetype": "text/x-python",
   "name": "python",
   "nbconvert_exporter": "python",
   "pygments_lexer": "ipython3",
   "version": "3.12.4"
  }
 },
 "nbformat": 4,
 "nbformat_minor": 5
}
