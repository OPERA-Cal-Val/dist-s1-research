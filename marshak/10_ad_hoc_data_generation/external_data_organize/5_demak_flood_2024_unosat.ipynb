{
 "cells": [
  {
   "cell_type": "markdown",
   "id": "308f7b60-0c23-4865-81d3-cfc2bfc1a170",
   "metadata": {
    "editable": true,
    "slideshow": {
     "slide_type": ""
    },
    "tags": []
   },
   "source": [
    "Source: https://data.humdata.org/dataset/satellite-detected-water-extents-between-4-11-july-2024-in-bangladesh"
   ]
  },
  {
   "cell_type": "code",
   "execution_count": 1,
   "id": "0c14f20f-03f2-43da-8ba5-294931194ff4",
   "metadata": {
    "editable": true,
    "slideshow": {
     "slide_type": ""
    },
    "tags": []
   },
   "outputs": [],
   "source": [
    "import geopandas as gpd\n",
    "import pandas as pd\n",
    "import yaml\n",
    "from rasterio.crs import CRS\n",
    "from pathlib import Path"
   ]
  },
  {
   "cell_type": "code",
   "execution_count": 2,
   "id": "eb81041d-99b5-4d8e-9e5e-fb1aae7d184f",
   "metadata": {},
   "outputs": [
    {
     "data": {
      "text/plain": [
       "{'event_name': 'demak_flood_2024',\n",
       " 'bounds': [87.95007937, 20.62819353, 92.63540544, 26.6340386],\n",
       " 'event_date': '2024-03-15',\n",
       " 'pre_event_window_days': 100,\n",
       " 'post_event_window_days': 60,\n",
       " 'rtc_track_numbers': [150, 114],\n",
       " 'mgrs_tiles': ['45QYE', '45QYF', '45QZE', '45QZF'],\n",
       " 'dist_hls_confirmed_change_min_days': 30,\n",
       " 'source_id': 'UNOSAT via humanitarian data exchange',\n",
       " 'links': ['https://data.humdata.org/dataset/satellite-detected-water-extents-between-4-11-july-2024-in-bangladesh',\n",
       "  'https://data.humdata.org/dataset/satellite-detected-water-extent-over-jawa-tengah-province-indonesia-as-of-27-march-2024']}"
      ]
     },
     "execution_count": 2,
     "metadata": {},
     "output_type": "execute_result"
    }
   ],
   "source": [
    "yaml_file = '../events/demak_flood_2024.yml' #'porto_algre.yml'\n",
    "with open(yaml_file) as f:\n",
    "    event_dict = yaml.safe_load(f)[\"event\"]\n",
    "event_dict"
   ]
  },
  {
   "cell_type": "code",
   "execution_count": 5,
   "id": "508d63fc-be64-458f-9c8d-2a8ca05ff6de",
   "metadata": {
    "editable": true,
    "slideshow": {
     "slide_type": ""
    },
    "tags": []
   },
   "outputs": [
    {
     "data": {
      "text/html": [
       "<div>\n",
       "<style scoped>\n",
       "    .dataframe tbody tr th:only-of-type {\n",
       "        vertical-align: middle;\n",
       "    }\n",
       "\n",
       "    .dataframe tbody tr th {\n",
       "        vertical-align: top;\n",
       "    }\n",
       "\n",
       "    .dataframe thead th {\n",
       "        text-align: right;\n",
       "    }\n",
       "</style>\n",
       "<table border=\"1\" class=\"dataframe\">\n",
       "  <thead>\n",
       "    <tr style=\"text-align: right;\">\n",
       "      <th></th>\n",
       "      <th>Water_Clas</th>\n",
       "      <th>Sensor_ID</th>\n",
       "      <th>Sensor_Dat</th>\n",
       "      <th>Confidence</th>\n",
       "      <th>Field_Vali</th>\n",
       "      <th>Water_Stat</th>\n",
       "      <th>Notes</th>\n",
       "      <th>Area_m2</th>\n",
       "      <th>Area_ha</th>\n",
       "      <th>SenorID_ol</th>\n",
       "      <th>...</th>\n",
       "      <th>StaffID</th>\n",
       "      <th>EventCode</th>\n",
       "      <th>d_Water_Cl</th>\n",
       "      <th>d_Sensor_I</th>\n",
       "      <th>d_Confiden</th>\n",
       "      <th>d_Field_Va</th>\n",
       "      <th>d_Water_St</th>\n",
       "      <th>d_SenorID_</th>\n",
       "      <th>d_StaffID</th>\n",
       "      <th>geometry</th>\n",
       "    </tr>\n",
       "  </thead>\n",
       "  <tbody>\n",
       "    <tr>\n",
       "      <th>0</th>\n",
       "      <td>1</td>\n",
       "      <td>42</td>\n",
       "      <td>2024-03-15</td>\n",
       "      <td>4</td>\n",
       "      <td>0</td>\n",
       "      <td>2</td>\n",
       "      <td>None</td>\n",
       "      <td>3.892312e+08</td>\n",
       "      <td>38923.119603</td>\n",
       "      <td>0</td>\n",
       "      <td>...</td>\n",
       "      <td>219</td>\n",
       "      <td>FL20240326IDN</td>\n",
       "      <td>Flood Water</td>\n",
       "      <td>Sentinel-1</td>\n",
       "      <td>To Be Evaluated</td>\n",
       "      <td>Not yet field validated</td>\n",
       "      <td>No water change / Static Level</td>\n",
       "      <td>None</td>\n",
       "      <td>SS</td>\n",
       "      <td>MULTIPOLYGON (((110.68327 -7.10235, 110.68346 ...</td>\n",
       "    </tr>\n",
       "  </tbody>\n",
       "</table>\n",
       "<p>1 rows × 22 columns</p>\n",
       "</div>"
      ],
      "text/plain": [
       "   Water_Clas  Sensor_ID  Sensor_Dat  Confidence  Field_Vali  Water_Stat  \\\n",
       "0           1         42  2024-03-15           4           0           2   \n",
       "\n",
       "  Notes       Area_m2       Area_ha  SenorID_ol  ...  StaffID      EventCode  \\\n",
       "0  None  3.892312e+08  38923.119603           0  ...      219  FL20240326IDN   \n",
       "\n",
       "    d_Water_Cl  d_Sensor_I       d_Confiden               d_Field_Va  \\\n",
       "0  Flood Water  Sentinel-1  To Be Evaluated  Not yet field validated   \n",
       "\n",
       "                       d_Water_St d_SenorID_ d_StaffID  \\\n",
       "0  No water change / Static Level       None        SS   \n",
       "\n",
       "                                            geometry  \n",
       "0  MULTIPOLYGON (((110.68327 -7.10235, 110.68346 ...  \n",
       "\n",
       "[1 rows x 22 columns]"
      ]
     },
     "execution_count": 5,
     "metadata": {},
     "output_type": "execute_result"
    }
   ],
   "source": [
    "df_flood_0 = gpd.read_file('../external_validation_data/unosat/FL20240326IDN_SHP/S1_20240315_FloodExtent_Demak.shp')\n",
    "df_flood_0 = df_flood_0.to_crs(4326)\n",
    "df_flood_0.head()"
   ]
  },
  {
   "cell_type": "code",
   "execution_count": 7,
   "id": "c9b8a2d5-fc8c-41c0-9f39-b6752f65e460",
   "metadata": {},
   "outputs": [
    {
     "data": {
      "text/html": [
       "<div>\n",
       "<style scoped>\n",
       "    .dataframe tbody tr th:only-of-type {\n",
       "        vertical-align: middle;\n",
       "    }\n",
       "\n",
       "    .dataframe tbody tr th {\n",
       "        vertical-align: top;\n",
       "    }\n",
       "\n",
       "    .dataframe thead th {\n",
       "        text-align: right;\n",
       "    }\n",
       "</style>\n",
       "<table border=\"1\" class=\"dataframe\">\n",
       "  <thead>\n",
       "    <tr style=\"text-align: right;\">\n",
       "      <th></th>\n",
       "      <th>Water_Clas</th>\n",
       "      <th>Sensor_ID</th>\n",
       "      <th>Sensor_Dat</th>\n",
       "      <th>Confidence</th>\n",
       "      <th>Field_Vali</th>\n",
       "      <th>Water_Stat</th>\n",
       "      <th>Notes</th>\n",
       "      <th>Area_m2</th>\n",
       "      <th>Area_ha</th>\n",
       "      <th>SenorID_ol</th>\n",
       "      <th>...</th>\n",
       "      <th>SHAPE_Leng</th>\n",
       "      <th>SHAPE_Area</th>\n",
       "      <th>d_Water_Cl</th>\n",
       "      <th>d_Sensor_I</th>\n",
       "      <th>d_Confiden</th>\n",
       "      <th>d_Field_Va</th>\n",
       "      <th>d_Water_St</th>\n",
       "      <th>d_SenorID_</th>\n",
       "      <th>d_StaffID</th>\n",
       "      <th>geometry</th>\n",
       "    </tr>\n",
       "  </thead>\n",
       "  <tbody>\n",
       "    <tr>\n",
       "      <th>0</th>\n",
       "      <td>2</td>\n",
       "      <td>42</td>\n",
       "      <td>2024-03-15</td>\n",
       "      <td>4</td>\n",
       "      <td>0</td>\n",
       "      <td>2</td>\n",
       "      <td>None</td>\n",
       "      <td>4.743859e+08</td>\n",
       "      <td>47438.586458</td>\n",
       "      <td>0</td>\n",
       "      <td>...</td>\n",
       "      <td>148.315129</td>\n",
       "      <td>0.038812</td>\n",
       "      <td>Satellite Detected Water / Possible Saturated ...</td>\n",
       "      <td>Sentinel-1</td>\n",
       "      <td>To Be Evaluated</td>\n",
       "      <td>Not yet field validated</td>\n",
       "      <td>No water change / Static Level</td>\n",
       "      <td>None</td>\n",
       "      <td>SS</td>\n",
       "      <td>MULTIPOLYGON (((110.68327 -7.10235, 110.68346 ...</td>\n",
       "    </tr>\n",
       "  </tbody>\n",
       "</table>\n",
       "<p>1 rows × 22 columns</p>\n",
       "</div>"
      ],
      "text/plain": [
       "   Water_Clas  Sensor_ID  Sensor_Dat  Confidence  Field_Vali  Water_Stat  \\\n",
       "0           2         42  2024-03-15           4           0           2   \n",
       "\n",
       "  Notes       Area_m2       Area_ha  SenorID_ol  ...  SHAPE_Leng SHAPE_Area  \\\n",
       "0  None  4.743859e+08  47438.586458           0  ...  148.315129   0.038812   \n",
       "\n",
       "                                          d_Water_Cl  d_Sensor_I  \\\n",
       "0  Satellite Detected Water / Possible Saturated ...  Sentinel-1   \n",
       "\n",
       "        d_Confiden               d_Field_Va                      d_Water_St  \\\n",
       "0  To Be Evaluated  Not yet field validated  No water change / Static Level   \n",
       "\n",
       "  d_SenorID_ d_StaffID                                           geometry  \n",
       "0       None        SS  MULTIPOLYGON (((110.68327 -7.10235, 110.68346 ...  \n",
       "\n",
       "[1 rows x 22 columns]"
      ]
     },
     "execution_count": 7,
     "metadata": {},
     "output_type": "execute_result"
    }
   ],
   "source": [
    "df_flood_1 = gpd.read_file('../external_validation_data/unosat/FL20240326IDN_SHP/S1_20240315_WaterExtent_Demak.shp')\n",
    "df_flood_1 = df_flood_1.to_crs(4326)\n",
    "df_flood_1.head()"
   ]
  },
  {
   "cell_type": "code",
   "execution_count": 8,
   "id": "0d206250-19fa-46ba-a8f6-c07edcc24770",
   "metadata": {
    "editable": true,
    "slideshow": {
     "slide_type": ""
    },
    "tags": []
   },
   "outputs": [],
   "source": [
    "# df_flood_coastal = df_flood.cx[89.2:91, 21.5: 24].reset_index(drop=True)\n",
    "# df_flood_coastal.explore()"
   ]
  },
  {
   "cell_type": "code",
   "execution_count": 10,
   "id": "6ed28660-4cbf-4191-9d2e-725557983ae3",
   "metadata": {},
   "outputs": [
    {
     "data": {
      "text/plain": [
       "array([110.49054153,  -7.10254596, 111.30352226,  -6.68671509])"
      ]
     },
     "execution_count": 10,
     "metadata": {},
     "output_type": "execute_result"
    }
   ],
   "source": [
    "df_flood_0.total_bounds"
   ]
  },
  {
   "cell_type": "code",
   "execution_count": 11,
   "id": "8ae58dd4-bece-4e79-a844-4aa86484589c",
   "metadata": {},
   "outputs": [
    {
     "data": {
      "text/html": [
       "<div>\n",
       "<style scoped>\n",
       "    .dataframe tbody tr th:only-of-type {\n",
       "        vertical-align: middle;\n",
       "    }\n",
       "\n",
       "    .dataframe tbody tr th {\n",
       "        vertical-align: top;\n",
       "    }\n",
       "\n",
       "    .dataframe thead th {\n",
       "        text-align: right;\n",
       "    }\n",
       "</style>\n",
       "<table border=\"1\" class=\"dataframe\">\n",
       "  <thead>\n",
       "    <tr style=\"text-align: right;\">\n",
       "      <th></th>\n",
       "      <th>name</th>\n",
       "      <th>date</th>\n",
       "      <th>source_id</th>\n",
       "      <th>geometry</th>\n",
       "    </tr>\n",
       "  </thead>\n",
       "  <tbody>\n",
       "    <tr>\n",
       "      <th>0</th>\n",
       "      <td>demak_flood_2024</td>\n",
       "      <td>2024-03-15</td>\n",
       "      <td>UNOSAT via humanitarian data exchange</td>\n",
       "      <td>MULTIPOLYGON (((110.68327 -7.10235, 110.68346 ...</td>\n",
       "    </tr>\n",
       "  </tbody>\n",
       "</table>\n",
       "</div>"
      ],
      "text/plain": [
       "               name       date                              source_id  \\\n",
       "0  demak_flood_2024 2024-03-15  UNOSAT via humanitarian data exchange   \n",
       "\n",
       "                                            geometry  \n",
       "0  MULTIPOLYGON (((110.68327 -7.10235, 110.68346 ...  "
      ]
     },
     "execution_count": 11,
     "metadata": {},
     "output_type": "execute_result"
    }
   ],
   "source": [
    "n = df_flood_0.shape[0]\n",
    "df_event_f = gpd.GeoDataFrame({'name': [event_dict['event_name'] for k in range(n)],\n",
    "                               'date': [pd.to_datetime(event_dict['event_date']) for k in range(n)],\n",
    "                               'source_id': [f'{event_dict[\"source_id\"]}' for k in range(n)]},\n",
    "                               geometry=df_flood_0.geometry.tolist(),\n",
    "                               crs=CRS.from_epsg(4326))\n",
    "df_event_f.head()"
   ]
  },
  {
   "cell_type": "code",
   "execution_count": 12,
   "id": "ed9dddb7-b070-4bbf-b514-3575365ea15d",
   "metadata": {},
   "outputs": [],
   "source": [
    "EXTERNAL_VAL_DATA_DIR = Path('../external_validation_data_db/')\n",
    "EXTERNAL_VAL_DATA_DIR.mkdir(exist_ok=True, parents=True)"
   ]
  },
  {
   "cell_type": "code",
   "execution_count": 13,
   "id": "cbb66a9c-32f1-42c4-ab3f-4b5a2cd0b1b3",
   "metadata": {},
   "outputs": [],
   "source": [
    "df_event_f.to_parquet(EXTERNAL_VAL_DATA_DIR / f'{event_dict[\"event_name\"]}.parquet')"
   ]
  }
 ],
 "metadata": {
  "kernelspec": {
   "display_name": "dist-s1",
   "language": "python",
   "name": "dist-s1"
  },
  "language_info": {
   "codemirror_mode": {
    "name": "ipython",
    "version": 3
   },
   "file_extension": ".py",
   "mimetype": "text/x-python",
   "name": "python",
   "nbconvert_exporter": "python",
   "pygments_lexer": "ipython3",
   "version": "3.12.4"
  }
 },
 "nbformat": 4,
 "nbformat_minor": 5
}
