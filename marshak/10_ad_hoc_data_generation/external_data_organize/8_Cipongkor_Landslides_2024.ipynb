{
 "cells": [
  {
   "cell_type": "markdown",
   "id": "308f7b60-0c23-4865-81d3-cfc2bfc1a170",
   "metadata": {
    "editable": true,
    "slideshow": {
     "slide_type": ""
    },
    "tags": []
   },
   "source": [
    "https://data.humdata.org/dataset/landslide-impact-analysis-in-cipongkor-sub-district-bandung-barat-district-jawa-barat-prov"
   ]
  },
  {
   "cell_type": "code",
   "execution_count": 1,
   "id": "0c14f20f-03f2-43da-8ba5-294931194ff4",
   "metadata": {
    "editable": true,
    "slideshow": {
     "slide_type": ""
    },
    "tags": []
   },
   "outputs": [],
   "source": [
    "import geopandas as gpd\n",
    "import pandas as pd\n",
    "import yaml\n",
    "from rasterio.crs import CRS\n",
    "from pathlib import Path\n",
    "import fiona\n",
    "from shapely.ops import polygonize\n",
    "from shapely.geometry import mapping, Polygon, shape\n",
    "import glob"
   ]
  },
  {
   "cell_type": "code",
   "execution_count": 3,
   "id": "eb81041d-99b5-4d8e-9e5e-fb1aae7d184f",
   "metadata": {},
   "outputs": [
    {
     "data": {
      "text/plain": [
       "{'event_name': 'brazzaville_landslide_and_flood_2024',\n",
       " 'bounds': [15.19418162, -4.31842285, 15.31481366, -4.13558505],\n",
       " 'event_date': '2024-02-08',\n",
       " 'pre_event_window_days': 100,\n",
       " 'post_event_window_days': 60,\n",
       " 'rtc_track_numbers': [7, 109],\n",
       " 'mgrs_tiles': ['33MWR'],\n",
       " 'dist_hls_confirmed_change_min_days': 30,\n",
       " 'source_id': 'UNOSAT via humanitarian data exchange',\n",
       " 'links': ['2024 and 2023 combined: https://data.humdata.org/dataset/water-and-landslide-mudflow-extents-in-brazzaville-department-republic-of-congo-as-of-8-fe',\n",
       "  '2023: https://data.humdata.org/dataset/water-and-landslide-mudflow-extents-in-brazzaville-and-pool-departments-republic-of-congo-',\n",
       "  '2024: https://global-flood.emergency.copernicus.eu/news/159-flooding-in-the-democratic-republic-of-the-congo-and-congo-brazzaville-january-2024']}"
      ]
     },
     "execution_count": 3,
     "metadata": {},
     "output_type": "execute_result"
    }
   ],
   "source": [
    "yaml_file = '../events/cipongkor_landslides_2024.yml' #'porto_algre.yml'\n",
    "with open(yaml_file) as f:\n",
    "    event_dict = yaml.safe_load(f)[\"event\"]\n",
    "event_dict"
   ]
  },
  {
   "cell_type": "code",
   "execution_count": 10,
   "id": "60e523ae-dcd2-4004-9dad-7fad4723db32",
   "metadata": {},
   "outputs": [
    {
     "data": {
      "text/plain": [
       "['../external_validation_data/unosat/FL20240102COG_SHP/S2_20231228_CloudObstruction_Brazaville.shp',\n",
       " '../external_validation_data/unosat/FL20240102COG_SHP/VIIRS_20231229_20240102_PermanentWater_Congo.shp',\n",
       " '../external_validation_data/unosat/FL20240102COG_SHP/S2_20231228_FloodExtent_Brazaville.shp',\n",
       " '../external_validation_data/unosat/FL20240102COG_SHP/WV2_20240208_WaterExtent_Brazaville.shp',\n",
       " '../external_validation_data/unosat/FL20240102COG_SHP/GE1_20230513_WaterExtent_OverDam.shp',\n",
       " '../external_validation_data/unosat/FL20240102COG_SHP/S2_20231228_LandslideExtent_Brazaville.shp',\n",
       " '../external_validation_data/unosat/FL20240102COG_SHP/S2_20231029_WaterExtent_Brazaville.shp',\n",
       " '../external_validation_data/unosat/FL20240102COG_SHP/S2_20231228_AnalysisExtent_Brazaville.shp',\n",
       " '../external_validation_data/unosat/FL20240102COG_SHP/WV2_20240208_WaterExtent_OverDam.shp',\n",
       " '../external_validation_data/unosat/FL20240102COG_SHP/VIIRS_20231229_20240102_MinimumFloodWaterExtent_Congo.shp',\n",
       " '../external_validation_data/unosat/FL20240102COG_SHP/WV2_20240208_LandslideExtent_OverDam.shp',\n",
       " '../external_validation_data/unosat/FL20240102COG_SHP/VIIRS_20231229_20240102_AnalysisExtent_Congo.shp',\n",
       " '../external_validation_data/unosat/FL20240102COG_SHP/WV2_20240208_DamageDam.shp',\n",
       " '../external_validation_data/unosat/FL20240102COG_SHP/WV2_20240208_AnalysisExtent_Brazaville.shp',\n",
       " '../external_validation_data/unosat/FL20240102COG_SHP/S2_20231228_WaterExtent_Brazaville.shp',\n",
       " '../external_validation_data/unosat/FL20240102COG_SHP/WV2_20240208_PotentiallyAffectedStructureByFlood.shp',\n",
       " '../external_validation_data/unosat/FL20240102COG_SHP/WV2_20240208_AnalysisExtent_OverDam.shp',\n",
       " '../external_validation_data/unosat/FL20240102COG_SHP/VIIRS_20231229_20240102_CloudObstruction_Congo.shp',\n",
       " '../external_validation_data/unosat/FL20240102COG_SHP/WV2_20240208_FloodExtent_Brazaville.shp',\n",
       " '../external_validation_data/unosat/FL20240102COG_SHP/WV2_20240208_DamageAssessment.shp']"
      ]
     },
     "execution_count": 10,
     "metadata": {},
     "output_type": "execute_result"
    }
   ],
   "source": [
    "shp_files = glob.glob('../external_validation_data/unosat/FL20240102COG_SHP/*.shp')\n",
    "shp_files"
   ]
  },
  {
   "cell_type": "code",
   "execution_count": 11,
   "id": "97d7b2fc-d6d4-4408-aaa3-5076ecc91916",
   "metadata": {},
   "outputs": [
    {
     "data": {
      "text/plain": [
       "['../external_validation_data/unosat/FL20240102COG_SHP/S2_20231228_FloodExtent_Brazaville.shp',\n",
       " '../external_validation_data/unosat/FL20240102COG_SHP/S2_20231228_LandslideExtent_Brazaville.shp']"
      ]
     },
     "execution_count": 11,
     "metadata": {},
     "output_type": "execute_result"
    }
   ],
   "source": [
    "shp_files_2023 = [p for p in shp_files if ('S2_20231228' in p) and (('Landslide' in p) or ('Flood' in p))]\n",
    "shp_files_2023"
   ]
  },
  {
   "cell_type": "code",
   "execution_count": 12,
   "id": "508d63fc-be64-458f-9c8d-2a8ca05ff6de",
   "metadata": {
    "editable": true,
    "slideshow": {
     "slide_type": ""
    },
    "tags": []
   },
   "outputs": [
    {
     "data": {
      "text/html": [
       "<div>\n",
       "<style scoped>\n",
       "    .dataframe tbody tr th:only-of-type {\n",
       "        vertical-align: middle;\n",
       "    }\n",
       "\n",
       "    .dataframe tbody tr th {\n",
       "        vertical-align: top;\n",
       "    }\n",
       "\n",
       "    .dataframe thead th {\n",
       "        text-align: right;\n",
       "    }\n",
       "</style>\n",
       "<table border=\"1\" class=\"dataframe\">\n",
       "  <thead>\n",
       "    <tr style=\"text-align: right;\">\n",
       "      <th></th>\n",
       "      <th>geometry</th>\n",
       "    </tr>\n",
       "  </thead>\n",
       "  <tbody>\n",
       "    <tr>\n",
       "      <th>0</th>\n",
       "      <td>MULTIPOLYGON (((15.20864 -4.31842, 15.20837 -4...</td>\n",
       "    </tr>\n",
       "    <tr>\n",
       "      <th>1</th>\n",
       "      <td>MULTIPOLYGON (((15.24069 -4.23629, 15.24069 -4...</td>\n",
       "    </tr>\n",
       "  </tbody>\n",
       "</table>\n",
       "</div>"
      ],
      "text/plain": [
       "                                            geometry\n",
       "0  MULTIPOLYGON (((15.20864 -4.31842, 15.20837 -4...\n",
       "1  MULTIPOLYGON (((15.24069 -4.23629, 15.24069 -4..."
      ]
     },
     "execution_count": 12,
     "metadata": {},
     "output_type": "execute_result"
    }
   ],
   "source": [
    "dfs = [gpd.read_file(p)[['geometry']] for p in shp_files_2023]\n",
    "df_event = pd.concat(dfs, axis=0).reset_index(drop=True)\n",
    "df_event = df_event.to_crs(4326)\n",
    "df_event.head()"
   ]
  },
  {
   "cell_type": "code",
   "execution_count": 13,
   "id": "1a311562-652d-4d3e-a6dd-012c682c4a73",
   "metadata": {},
   "outputs": [
    {
     "data": {
      "text/plain": [
       "array([15.19418162, -4.31842285, 15.31481366, -4.13558505])"
      ]
     },
     "execution_count": 13,
     "metadata": {},
     "output_type": "execute_result"
    }
   ],
   "source": [
    "df_event.total_bounds"
   ]
  },
  {
   "cell_type": "code",
   "execution_count": 5,
   "id": "0d206250-19fa-46ba-a8f6-c07edcc24770",
   "metadata": {
    "editable": true,
    "slideshow": {
     "slide_type": ""
    },
    "tags": []
   },
   "outputs": [],
   "source": [
    "# df_flood_coastal = df_flood.cx[89.2:91, 21.5: 24].reset_index(drop=True)\n",
    "# df_flood_coastal.explore()"
   ]
  },
  {
   "cell_type": "code",
   "execution_count": 6,
   "id": "8ae58dd4-bece-4e79-a844-4aa86484589c",
   "metadata": {},
   "outputs": [
    {
     "data": {
      "text/html": [
       "<div>\n",
       "<style scoped>\n",
       "    .dataframe tbody tr th:only-of-type {\n",
       "        vertical-align: middle;\n",
       "    }\n",
       "\n",
       "    .dataframe tbody tr th {\n",
       "        vertical-align: top;\n",
       "    }\n",
       "\n",
       "    .dataframe thead th {\n",
       "        text-align: right;\n",
       "    }\n",
       "</style>\n",
       "<table border=\"1\" class=\"dataframe\">\n",
       "  <thead>\n",
       "    <tr style=\"text-align: right;\">\n",
       "      <th></th>\n",
       "      <th>name</th>\n",
       "      <th>date</th>\n",
       "      <th>source_id</th>\n",
       "      <th>geometry</th>\n",
       "    </tr>\n",
       "  </thead>\n",
       "  <tbody>\n",
       "    <tr>\n",
       "      <th>0</th>\n",
       "      <td>brazzaville_landslide_and_flood_2023</td>\n",
       "      <td>2023-12-28</td>\n",
       "      <td>UNOSAT via humanitarian data exchange</td>\n",
       "      <td>MULTIPOLYGON (((15.20864 -4.31842, 15.20837 -4...</td>\n",
       "    </tr>\n",
       "    <tr>\n",
       "      <th>1</th>\n",
       "      <td>brazzaville_landslide_and_flood_2023</td>\n",
       "      <td>2023-12-28</td>\n",
       "      <td>UNOSAT via humanitarian data exchange</td>\n",
       "      <td>MULTIPOLYGON (((15.24069 -4.23629, 15.24069 -4...</td>\n",
       "    </tr>\n",
       "  </tbody>\n",
       "</table>\n",
       "</div>"
      ],
      "text/plain": [
       "                                   name       date  \\\n",
       "0  brazzaville_landslide_and_flood_2023 2023-12-28   \n",
       "1  brazzaville_landslide_and_flood_2023 2023-12-28   \n",
       "\n",
       "                               source_id  \\\n",
       "0  UNOSAT via humanitarian data exchange   \n",
       "1  UNOSAT via humanitarian data exchange   \n",
       "\n",
       "                                            geometry  \n",
       "0  MULTIPOLYGON (((15.20864 -4.31842, 15.20837 -4...  \n",
       "1  MULTIPOLYGON (((15.24069 -4.23629, 15.24069 -4...  "
      ]
     },
     "execution_count": 6,
     "metadata": {},
     "output_type": "execute_result"
    }
   ],
   "source": [
    "n = df_event.shape[0]\n",
    "df_event_f = gpd.GeoDataFrame({'name': [event_dict['event_name'] for k in range(n)],\n",
    "                               'date': [pd.to_datetime(event_dict['event_date']) for k in range(n)],\n",
    "                               'source_id': [f'{event_dict[\"source_id\"]}' for k in range(n)]},\n",
    "                              geometry=df_event.geometry.tolist(),\n",
    "                              crs=CRS.from_epsg(4326))\n",
    "df_event_f.head()"
   ]
  },
  {
   "cell_type": "code",
   "execution_count": 7,
   "id": "ed9dddb7-b070-4bbf-b514-3575365ea15d",
   "metadata": {},
   "outputs": [],
   "source": [
    "EXTERNAL_VAL_DATA_DIR = Path('../external_validation_data_db/')\n",
    "EXTERNAL_VAL_DATA_DIR.mkdir(exist_ok=True, parents=True)"
   ]
  },
  {
   "cell_type": "code",
   "execution_count": 8,
   "id": "cbb66a9c-32f1-42c4-ab3f-4b5a2cd0b1b3",
   "metadata": {},
   "outputs": [],
   "source": [
    "#df_event_f.to_parquet(EXTERNAL_VAL_DATA_DIR / f'{event_dict[\"event_name\"]}.parquet')"
   ]
  },
  {
   "cell_type": "code",
   "execution_count": 9,
   "id": "a6327680-4e5b-4808-9caf-8c34b0aaaaca",
   "metadata": {},
   "outputs": [],
   "source": [
    "df_event_f.to_file(EXTERNAL_VAL_DATA_DIR / f'{event_dict[\"event_name\"]}.geojson', driver='GeoJSON')"
   ]
  }
 ],
 "metadata": {
  "kernelspec": {
   "display_name": "dist-s1",
   "language": "python",
   "name": "dist-s1"
  },
  "language_info": {
   "codemirror_mode": {
    "name": "ipython",
    "version": 3
   },
   "file_extension": ".py",
   "mimetype": "text/x-python",
   "name": "python",
   "nbconvert_exporter": "python",
   "pygments_lexer": "ipython3",
   "version": "3.12.4"
  }
 },
 "nbformat": 4,
 "nbformat_minor": 5
}
