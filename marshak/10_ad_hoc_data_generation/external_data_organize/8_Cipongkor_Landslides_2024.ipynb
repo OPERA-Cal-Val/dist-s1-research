{
 "cells": [
  {
   "cell_type": "markdown",
   "id": "308f7b60-0c23-4865-81d3-cfc2bfc1a170",
   "metadata": {
    "editable": true,
    "slideshow": {
     "slide_type": ""
    },
    "tags": []
   },
   "source": [
    "https://data.humdata.org/dataset/landslide-impact-analysis-in-cipongkor-sub-district-bandung-barat-district-jawa-barat-prov"
   ]
  },
  {
   "cell_type": "code",
   "execution_count": 1,
   "id": "0c14f20f-03f2-43da-8ba5-294931194ff4",
   "metadata": {
    "editable": true,
    "slideshow": {
     "slide_type": ""
    },
    "tags": []
   },
   "outputs": [],
   "source": [
    "import geopandas as gpd\n",
    "import pandas as pd\n",
    "import yaml\n",
    "from rasterio.crs import CRS\n",
    "from pathlib import Path\n",
    "import fiona\n",
    "from shapely.ops import polygonize\n",
    "from shapely.geometry import mapping, Polygon, shape\n",
    "import glob"
   ]
  },
  {
   "cell_type": "code",
   "execution_count": 5,
   "id": "eb81041d-99b5-4d8e-9e5e-fb1aae7d184f",
   "metadata": {},
   "outputs": [
    {
     "data": {
      "text/plain": [
       "{'event_name': 'cipongkor_landslides_2024',\n",
       " 'bounds': [15.19418162, -4.31842285, 15.31481366, -4.13558505],\n",
       " 'event_date': '2024-03-24',\n",
       " 'pre_event_window_days': 100,\n",
       " 'post_event_window_days': 60,\n",
       " 'rtc_track_numbers': [7, 109],\n",
       " 'mgrs_tiles': ['33MWR'],\n",
       " 'dist_hls_confirmed_change_min_days': 30,\n",
       " 'source_id': 'UNOSAT via humanitarian data exchange',\n",
       " 'links': ['https://reliefweb.int/map/indonesia/landslide-impact-analysis-cipongkor-sub-district-bandung-barat-district-jawa-barat-province-indonesia-29-march-2024-imagery-analysis-29032024-published-18042024-v1',\n",
       "  'https://www.kompas.id/baca/english/2024/03/30/en-puasa-berselimut-duka-korban-longsor-cipongkor-di-bandung-barat',\n",
       "  'data: https://data.humdata.org/dataset/landslide-impact-analysis-in-cipongkor-sub-district-bandung-barat-district-jawa-barat-prov ']}"
      ]
     },
     "execution_count": 5,
     "metadata": {},
     "output_type": "execute_result"
    }
   ],
   "source": [
    "yaml_file = '../events/cipongkor_landslides_2024.yml' #'porto_algre.yml'\n",
    "with open(yaml_file) as f:\n",
    "    event_dict = yaml.safe_load(f)[\"event\"]\n",
    "event_dict"
   ]
  },
  {
   "cell_type": "code",
   "execution_count": 12,
   "id": "508d63fc-be64-458f-9c8d-2a8ca05ff6de",
   "metadata": {
    "editable": true,
    "slideshow": {
     "slide_type": ""
    },
    "tags": []
   },
   "outputs": [
    {
     "data": {
      "text/html": [
       "<div>\n",
       "<style scoped>\n",
       "    .dataframe tbody tr th:only-of-type {\n",
       "        vertical-align: middle;\n",
       "    }\n",
       "\n",
       "    .dataframe tbody tr th {\n",
       "        vertical-align: top;\n",
       "    }\n",
       "\n",
       "    .dataframe thead th {\n",
       "        text-align: right;\n",
       "    }\n",
       "</style>\n",
       "<table border=\"1\" class=\"dataframe\">\n",
       "  <thead>\n",
       "    <tr style=\"text-align: right;\">\n",
       "      <th></th>\n",
       "      <th>SiteID</th>\n",
       "      <th>SensorDate</th>\n",
       "      <th>SensorID</th>\n",
       "      <th>FieldValid</th>\n",
       "      <th>Settlement</th>\n",
       "      <th>Main_Damag</th>\n",
       "      <th>Grouped_Da</th>\n",
       "      <th>ImageID_Nu</th>\n",
       "      <th>Shape_Leng</th>\n",
       "      <th>Shape_Area</th>\n",
       "      <th>...</th>\n",
       "      <th>Confidence</th>\n",
       "      <th>Field_Vali</th>\n",
       "      <th>Water_Stat</th>\n",
       "      <th>Notes</th>\n",
       "      <th>Area_m2</th>\n",
       "      <th>Area_ha</th>\n",
       "      <th>SenorID_ol</th>\n",
       "      <th>StaffID</th>\n",
       "      <th>EventCode</th>\n",
       "      <th>geometry</th>\n",
       "    </tr>\n",
       "  </thead>\n",
       "  <tbody>\n",
       "    <tr>\n",
       "      <th>0</th>\n",
       "      <td>0</td>\n",
       "      <td>2024-03-29</td>\n",
       "      <td>8</td>\n",
       "      <td>0</td>\n",
       "      <td>None</td>\n",
       "      <td>0</td>\n",
       "      <td>1</td>\n",
       "      <td>0</td>\n",
       "      <td>0.454072</td>\n",
       "      <td>0.000044</td>\n",
       "      <td>...</td>\n",
       "      <td>To be evaluated</td>\n",
       "      <td>Not yet field validated</td>\n",
       "      <td>New Water / Water Increase</td>\n",
       "      <td>None</td>\n",
       "      <td>541087.0</td>\n",
       "      <td>54.1087</td>\n",
       "      <td>None</td>\n",
       "      <td>JT</td>\n",
       "      <td>EQ20240326IDN</td>\n",
       "      <td>MULTIPOLYGON (((107.30703 -6.95475, 107.30703 ...</td>\n",
       "    </tr>\n",
       "  </tbody>\n",
       "</table>\n",
       "<p>1 rows × 23 columns</p>\n",
       "</div>"
      ],
      "text/plain": [
       "   SiteID  SensorDate  SensorID  FieldValid Settlement  Main_Damag  \\\n",
       "0       0  2024-03-29         8           0       None           0   \n",
       "\n",
       "   Grouped_Da  ImageID_Nu  Shape_Leng  Shape_Area  ...       Confidence  \\\n",
       "0           1           0    0.454072    0.000044  ...  To be evaluated   \n",
       "\n",
       "                Field_Vali                  Water_Stat Notes   Area_m2  \\\n",
       "0  Not yet field validated  New Water / Water Increase  None  541087.0   \n",
       "\n",
       "   Area_ha SenorID_ol  StaffID      EventCode  \\\n",
       "0  54.1087       None       JT  EQ20240326IDN   \n",
       "\n",
       "                                            geometry  \n",
       "0  MULTIPOLYGON (((107.30703 -6.95475, 107.30703 ...  \n",
       "\n",
       "[1 rows x 23 columns]"
      ]
     },
     "execution_count": 12,
     "metadata": {},
     "output_type": "execute_result"
    }
   ],
   "source": [
    "df_event = gpd.read_file('../external_validation_data/unosat/cipongkor_landslide/WV3_20240329_LandslideExtent_Cipongkor.shp')\n",
    "df_event = df_event.to_crs(4326)\n",
    "df_event.head()"
   ]
  },
  {
   "cell_type": "code",
   "execution_count": 13,
   "id": "1a311562-652d-4d3e-a6dd-012c682c4a73",
   "metadata": {},
   "outputs": [
    {
     "data": {
      "text/plain": [
       "array([107.29793288,  -6.9549793 , 107.32434909,  -6.92756748])"
      ]
     },
     "execution_count": 13,
     "metadata": {},
     "output_type": "execute_result"
    }
   ],
   "source": [
    "df_event.total_bounds"
   ]
  },
  {
   "cell_type": "code",
   "execution_count": 14,
   "id": "0d206250-19fa-46ba-a8f6-c07edcc24770",
   "metadata": {
    "editable": true,
    "slideshow": {
     "slide_type": ""
    },
    "tags": []
   },
   "outputs": [],
   "source": [
    "# df_flood_coastal = df_flood.cx[89.2:91, 21.5: 24].reset_index(drop=True)\n",
    "# df_flood_coastal.explore()"
   ]
  },
  {
   "cell_type": "code",
   "execution_count": 15,
   "id": "8ae58dd4-bece-4e79-a844-4aa86484589c",
   "metadata": {},
   "outputs": [
    {
     "data": {
      "text/html": [
       "<div>\n",
       "<style scoped>\n",
       "    .dataframe tbody tr th:only-of-type {\n",
       "        vertical-align: middle;\n",
       "    }\n",
       "\n",
       "    .dataframe tbody tr th {\n",
       "        vertical-align: top;\n",
       "    }\n",
       "\n",
       "    .dataframe thead th {\n",
       "        text-align: right;\n",
       "    }\n",
       "</style>\n",
       "<table border=\"1\" class=\"dataframe\">\n",
       "  <thead>\n",
       "    <tr style=\"text-align: right;\">\n",
       "      <th></th>\n",
       "      <th>name</th>\n",
       "      <th>date</th>\n",
       "      <th>source_id</th>\n",
       "      <th>geometry</th>\n",
       "    </tr>\n",
       "  </thead>\n",
       "  <tbody>\n",
       "    <tr>\n",
       "      <th>0</th>\n",
       "      <td>cipongkor_landslides_2024</td>\n",
       "      <td>2024-03-24</td>\n",
       "      <td>UNOSAT via humanitarian data exchange</td>\n",
       "      <td>MULTIPOLYGON (((107.30703 -6.95475, 107.30703 ...</td>\n",
       "    </tr>\n",
       "  </tbody>\n",
       "</table>\n",
       "</div>"
      ],
      "text/plain": [
       "                        name       date  \\\n",
       "0  cipongkor_landslides_2024 2024-03-24   \n",
       "\n",
       "                               source_id  \\\n",
       "0  UNOSAT via humanitarian data exchange   \n",
       "\n",
       "                                            geometry  \n",
       "0  MULTIPOLYGON (((107.30703 -6.95475, 107.30703 ...  "
      ]
     },
     "execution_count": 15,
     "metadata": {},
     "output_type": "execute_result"
    }
   ],
   "source": [
    "n = df_event.shape[0]\n",
    "df_event_f = gpd.GeoDataFrame({'name': [event_dict['event_name'] for k in range(n)],\n",
    "                               'date': [pd.to_datetime(event_dict['event_date']) for k in range(n)],\n",
    "                               'source_id': [f'{event_dict[\"source_id\"]}' for k in range(n)]},\n",
    "                              geometry=df_event.geometry.tolist(),\n",
    "                              crs=CRS.from_epsg(4326))\n",
    "df_event_f.head()"
   ]
  },
  {
   "cell_type": "code",
   "execution_count": 16,
   "id": "a4a2fc05-7247-43ca-bcbf-13b061fbe561",
   "metadata": {},
   "outputs": [
    {
     "data": {
      "text/plain": [
       "<Axes: >"
      ]
     },
     "execution_count": 16,
     "metadata": {},
     "output_type": "execute_result"
    },
    {
     "data": {
      "image/png": "[encoded data removed]",
      "text/plain": [
       "<Figure size 640x480 with 1 Axes>"
      ]
     },
     "metadata": {},
     "output_type": "display_data"
    }
   ],
   "source": [
    "df_event_f.plot()"
   ]
  },
  {
   "cell_type": "code",
   "execution_count": 17,
   "id": "ed9dddb7-b070-4bbf-b514-3575365ea15d",
   "metadata": {},
   "outputs": [],
   "source": [
    "EXTERNAL_VAL_DATA_DIR = Path('../external_validation_data_db/')\n",
    "EXTERNAL_VAL_DATA_DIR.mkdir(exist_ok=True, parents=True)"
   ]
  },
  {
   "cell_type": "code",
   "execution_count": 18,
   "id": "cbb66a9c-32f1-42c4-ab3f-4b5a2cd0b1b3",
   "metadata": {},
   "outputs": [],
   "source": [
    "#df_event_f.to_parquet(EXTERNAL_VAL_DATA_DIR / f'{event_dict[\"event_name\"]}.parquet')"
   ]
  },
  {
   "cell_type": "code",
   "execution_count": 19,
   "id": "a6327680-4e5b-4808-9caf-8c34b0aaaaca",
   "metadata": {},
   "outputs": [],
   "source": [
    "df_event_f.to_file(EXTERNAL_VAL_DATA_DIR / f'{event_dict[\"event_name\"]}.geojson', driver='GeoJSON')"
   ]
  }
 ],
 "metadata": {
  "kernelspec": {
   "display_name": "dist-s1",
   "language": "python",
   "name": "dist-s1"
  },
  "language_info": {
   "codemirror_mode": {
    "name": "ipython",
    "version": 3
   },
   "file_extension": ".py",
   "mimetype": "text/x-python",
   "name": "python",
   "nbconvert_exporter": "python",
   "pygments_lexer": "ipython3",
   "version": "3.12.4"
  }
 },
 "nbformat": 4,
 "nbformat_minor": 5
}
