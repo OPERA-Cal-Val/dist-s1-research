{
 "cells": [
  {
   "cell_type": "code",
   "execution_count": 45,
   "id": "f2bf5227-3dea-4b09-b899-2b4ed71b1656",
   "metadata": {},
   "outputs": [],
   "source": [
    "import geopandas as gpd\n",
    "\n",
    "from pystac_client import Client  \n",
    "from pystac_client import ItemSearch\n",
    "from pystac.item import Item\n",
    "from shapely.geometry import box, shape\n",
    "import yaml\n",
    "from rasterio.crs import CRS\n",
    "import datetime\n",
    "import pandas as pd\n",
    "from pathlib import Path\n",
    "from tqdm import tqdm\n",
    "import rasterio\n",
    "from rasterio.merge import merge\n",
    "import numpy as np\n",
    "import asf_search as asf\n",
    "from dem_stitcher.rio_tools import reproject_arr_to_new_crs, reproject_arr_to_match_profile\n",
    "import shutil\n",
    "import numpy as np\n",
    "import matplotlib.pyplot as plt"
   ]
  },
  {
   "cell_type": "code",
   "execution_count": 2,
   "id": "24d98fa9-1af2-4855-a299-9c2f74b49f3a",
   "metadata": {},
   "outputs": [
    {
     "data": {
      "text/plain": [
       "{'event_name': 'jebel_ali_flood',\n",
       " 'bounds': [54.5, 23.5, 56.5, 25.5],\n",
       " 'event_date': '2024-04-16',\n",
       " 'pre_event_window_days': 30,\n",
       " 'post_event_window_days': 30,\n",
       " 'links': ['https://www.cnn.com/2024/04/22/weather/dubai-flooding-before-after-satellite-climate/index.html']}"
      ]
     },
     "execution_count": 2,
     "metadata": {},
     "output_type": "execute_result"
    }
   ],
   "source": [
    "yaml_file = 'events/jebel_ali_flood_2024.yml' #'porto_algre.yml'\n",
    "with open(yaml_file) as f:\n",
    "    event_dict = yaml.safe_load(f)[\"event\"]\n",
    "event_dict"
   ]
  },
  {
   "cell_type": "code",
   "execution_count": 3,
   "id": "a6a44ab7-d18b-49b3-9d5a-0893a0b41665",
   "metadata": {},
   "outputs": [],
   "source": [
    "EVENT_DT = datetime.datetime.strptime(event_dict['event_date'], \"%Y-%m-%d\")\n",
    "PRE_DT_START = EVENT_DT - datetime.timedelta(days=event_dict['pre_event_window_days'])\n",
    "POST_DT_STOP = EVENT_DT + datetime.timedelta(days=event_dict['post_event_window_days'])"
   ]
  },
  {
   "cell_type": "code",
   "execution_count": 4,
   "id": "78e39468-74db-4a99-b4b3-ff22b483b1ea",
   "metadata": {},
   "outputs": [],
   "source": [
    "aoi = box(*event_dict['bounds'])\n",
    "df_aoi = gpd.GeoDataFrame(geometry=[aoi], crs=CRS.from_epsg(4326))"
   ]
  },
  {
   "cell_type": "code",
   "execution_count": 5,
   "id": "de61fcbf-60bc-4f71-bd94-db470f4a3567",
   "metadata": {},
   "outputs": [],
   "source": [
    "#df_mgrs = gpd.read_file('https://raw.githubusercontent.com/NASA-IMPACT/hls-land_tiles/master/s2_grid.json')"
   ]
  },
  {
   "cell_type": "code",
   "execution_count": 6,
   "id": "537991e4-f998-47b9-8f18-99f4d423fbd7",
   "metadata": {},
   "outputs": [],
   "source": [
    "stac = 'https://cmr.earthdata.nasa.gov/cloudstac/'    # CMR-STAC API Endpoint\n",
    "api = Client.open(f'{stac}/POCLOUD/')\n",
    "collections = ['OPERA_L3_DSWX-HLS_V1']\n",
    "\n",
    "search_params = {\"collections\": collections,\n",
    "                 \"intersects\": aoi.__geo_interface__,\n",
    "                 \"datetime\": [PRE_DT_START, POST_DT_STOP],\n",
    "                 \"max_items\": 1000}\n",
    "search_dswx = api.search(**search_params)"
   ]
  },
  {
   "cell_type": "code",
   "execution_count": 7,
   "id": "2e37e0be-9c49-4e48-8e8b-983565b14046",
   "metadata": {},
   "outputs": [
    {
     "data": {
      "text/plain": [
       "429"
      ]
     },
     "execution_count": 7,
     "metadata": {},
     "output_type": "execute_result"
    }
   ],
   "source": [
    "l = list(search_dswx.items())\n",
    "len(l)"
   ]
  },
  {
   "cell_type": "code",
   "execution_count": 8,
   "id": "c277c2b0-e723-445b-bda7-0ffcf72938dc",
   "metadata": {},
   "outputs": [],
   "source": [
    "def format_item(item):\n",
    "    out = {**{'id': item.id}, \n",
    "           **item.properties, \n",
    "           **{'geometry': shape(item.geometry)},\n",
    "           **{key: value.href for (key, value) in sorted(item.assets.items())[:2]}\n",
    "          }\n",
    "    return out\n",
    "    "
   ]
  },
  {
   "cell_type": "code",
   "execution_count": 9,
   "id": "b5428347-9dee-484a-8047-1ca2c50d9aec",
   "metadata": {},
   "outputs": [
    {
     "data": {
      "text/html": [
       "<div>\n",
       "<style scoped>\n",
       "    .dataframe tbody tr th:only-of-type {\n",
       "        vertical-align: middle;\n",
       "    }\n",
       "\n",
       "    .dataframe tbody tr th {\n",
       "        vertical-align: top;\n",
       "    }\n",
       "\n",
       "    .dataframe thead th {\n",
       "        text-align: right;\n",
       "    }\n",
       "</style>\n",
       "<table border=\"1\" class=\"dataframe\">\n",
       "  <thead>\n",
       "    <tr style=\"text-align: right;\">\n",
       "      <th></th>\n",
       "      <th>id</th>\n",
       "      <th>eo:cloud_cover</th>\n",
       "      <th>datetime</th>\n",
       "      <th>start_datetime</th>\n",
       "      <th>end_datetime</th>\n",
       "      <th>geometry</th>\n",
       "      <th>0_B01_WTR</th>\n",
       "      <th>0_B02_BWTR</th>\n",
       "      <th>acq_date</th>\n",
       "      <th>sensor</th>\n",
       "    </tr>\n",
       "  </thead>\n",
       "  <tbody>\n",
       "    <tr>\n",
       "      <th>0</th>\n",
       "      <td>OPERA_L3_DSWx-HLS_T40RBP_20240317T065209Z_2024...</td>\n",
       "      <td>6.0</td>\n",
       "      <td>2024-03-17 06:52:09.423000+00:00</td>\n",
       "      <td>2024-03-17T06:52:09.423Z</td>\n",
       "      <td>2024-03-17T06:52:09.423Z</td>\n",
       "      <td>POLYGON ((53.94800 25.24100, 55.06300 25.24100...</td>\n",
       "      <td>https://archive.podaac.earthdata.nasa.gov/poda...</td>\n",
       "      <td>https://archive.podaac.earthdata.nasa.gov/poda...</td>\n",
       "      <td>2024-03-17</td>\n",
       "      <td>L8</td>\n",
       "    </tr>\n",
       "    <tr>\n",
       "      <th>1</th>\n",
       "      <td>OPERA_L3_DSWx-HLS_T40RBN_20240317T065209Z_2024...</td>\n",
       "      <td>12.0</td>\n",
       "      <td>2024-03-17 06:52:09.423000+00:00</td>\n",
       "      <td>2024-03-17T06:52:09.423Z</td>\n",
       "      <td>2024-03-17T06:52:09.423Z</td>\n",
       "      <td>POLYGON ((53.97100 24.33900, 55.07700 24.33900...</td>\n",
       "      <td>https://archive.podaac.earthdata.nasa.gov/poda...</td>\n",
       "      <td>https://archive.podaac.earthdata.nasa.gov/poda...</td>\n",
       "      <td>2024-03-17</td>\n",
       "      <td>L8</td>\n",
       "    </tr>\n",
       "    <tr>\n",
       "      <th>2</th>\n",
       "      <td>OPERA_L3_DSWx-HLS_T39RZH_20240317T065209Z_2024...</td>\n",
       "      <td>12.0</td>\n",
       "      <td>2024-03-17 06:52:09.423000+00:00</td>\n",
       "      <td>2024-03-17T06:52:09.423Z</td>\n",
       "      <td>2024-03-17T06:52:09.423Z</td>\n",
       "      <td>POLYGON ((53.90800 24.31700, 55.02000 24.31700...</td>\n",
       "      <td>https://archive.podaac.earthdata.nasa.gov/poda...</td>\n",
       "      <td>https://archive.podaac.earthdata.nasa.gov/poda...</td>\n",
       "      <td>2024-03-17</td>\n",
       "      <td>L8</td>\n",
       "    </tr>\n",
       "    <tr>\n",
       "      <th>3</th>\n",
       "      <td>OPERA_L3_DSWx-HLS_T39RZJ_20240317T065209Z_2024...</td>\n",
       "      <td>6.0</td>\n",
       "      <td>2024-03-17 06:52:09.423000+00:00</td>\n",
       "      <td>2024-03-17T06:52:09.423Z</td>\n",
       "      <td>2024-03-17T06:52:09.423Z</td>\n",
       "      <td>POLYGON ((53.92900 25.21800, 55.05100 25.21800...</td>\n",
       "      <td>https://archive.podaac.earthdata.nasa.gov/poda...</td>\n",
       "      <td>https://archive.podaac.earthdata.nasa.gov/poda...</td>\n",
       "      <td>2024-03-17</td>\n",
       "      <td>L8</td>\n",
       "    </tr>\n",
       "    <tr>\n",
       "      <th>4</th>\n",
       "      <td>OPERA_L3_DSWx-HLS_T40QBM_20240317T065233Z_2024...</td>\n",
       "      <td>7.0</td>\n",
       "      <td>2024-03-17 06:52:33.314000+00:00</td>\n",
       "      <td>2024-03-17T06:52:33.314Z</td>\n",
       "      <td>2024-03-17T06:52:33.314Z</td>\n",
       "      <td>POLYGON ((53.99300 23.43700, 55.09000 23.43700...</td>\n",
       "      <td>https://archive.podaac.earthdata.nasa.gov/poda...</td>\n",
       "      <td>https://archive.podaac.earthdata.nasa.gov/poda...</td>\n",
       "      <td>2024-03-17</td>\n",
       "      <td>L8</td>\n",
       "    </tr>\n",
       "  </tbody>\n",
       "</table>\n",
       "</div>"
      ],
      "text/plain": [
       "                                                  id  ...  sensor\n",
       "0  OPERA_L3_DSWx-HLS_T40RBP_20240317T065209Z_2024...  ...      L8\n",
       "1  OPERA_L3_DSWx-HLS_T40RBN_20240317T065209Z_2024...  ...      L8\n",
       "2  OPERA_L3_DSWx-HLS_T39RZH_20240317T065209Z_2024...  ...      L8\n",
       "3  OPERA_L3_DSWx-HLS_T39RZJ_20240317T065209Z_2024...  ...      L8\n",
       "4  OPERA_L3_DSWx-HLS_T40QBM_20240317T065233Z_2024...  ...      L8\n",
       "\n",
       "[5 rows x 10 columns]"
      ]
     },
     "execution_count": 9,
     "metadata": {},
     "output_type": "execute_result"
    }
   ],
   "source": [
    "data = list(map(format_item, l))\n",
    "df_resp = pd.DataFrame(data)\n",
    "df_resp = gpd.GeoDataFrame(df_resp, geometry=df_resp.geometry, crs=CRS.from_epsg(4326))\n",
    "df_resp['datetime'] = pd.to_datetime(df_resp['datetime'])\n",
    "df_resp['acq_date']= df_resp['datetime'].dt.date\n",
    "df_resp['sensor'] = df_resp['id'].map(lambda oid: oid.split('_')[-3]) \n",
    "df_resp.head()"
   ]
  },
  {
   "cell_type": "code",
   "execution_count": 10,
   "id": "a000ec41-f6ab-41dc-95ff-b0a45febdd3d",
   "metadata": {},
   "outputs": [
    {
     "data": {
      "text/plain": [
       "<Axes: >"
      ]
     },
     "execution_count": 10,
     "metadata": {},
     "output_type": "execute_result"
    },
    {
     "data": {
      "image/png": "[encoded data removed]",
      "text/plain": [
       "<Figure size 640x480 with 1 Axes>"
      ]
     },
     "metadata": {},
     "output_type": "display_data"
    }
   ],
   "source": [
    "df_resp.exterior.plot()"
   ]
  },
  {
   "cell_type": "code",
   "execution_count": 11,
   "id": "9110a085-4a6d-41ef-9c88-a13820a21820",
   "metadata": {},
   "outputs": [
    {
     "data": {
      "text/plain": [
       "array([datetime.date(2024, 3, 17), datetime.date(2024, 3, 18),\n",
       "       datetime.date(2024, 3, 19), datetime.date(2024, 3, 20),\n",
       "       datetime.date(2024, 3, 21), datetime.date(2024, 3, 23),\n",
       "       datetime.date(2024, 3, 25), datetime.date(2024, 3, 26),\n",
       "       datetime.date(2024, 3, 28), datetime.date(2024, 3, 30),\n",
       "       datetime.date(2024, 4, 2), datetime.date(2024, 4, 4),\n",
       "       datetime.date(2024, 4, 5), datetime.date(2024, 4, 7),\n",
       "       datetime.date(2024, 4, 9), datetime.date(2024, 4, 10),\n",
       "       datetime.date(2024, 4, 11), datetime.date(2024, 4, 12),\n",
       "       datetime.date(2024, 4, 13), datetime.date(2024, 4, 14),\n",
       "       datetime.date(2024, 4, 15), datetime.date(2024, 4, 17),\n",
       "       datetime.date(2024, 4, 18), datetime.date(2024, 4, 19),\n",
       "       datetime.date(2024, 4, 20), datetime.date(2024, 4, 22),\n",
       "       datetime.date(2024, 4, 25), datetime.date(2024, 4, 27),\n",
       "       datetime.date(2024, 4, 29), datetime.date(2024, 4, 30),\n",
       "       datetime.date(2024, 5, 4), datetime.date(2024, 5, 5),\n",
       "       datetime.date(2024, 5, 6), datetime.date(2024, 5, 7),\n",
       "       datetime.date(2024, 5, 9), datetime.date(2024, 5, 10),\n",
       "       datetime.date(2024, 5, 12), datetime.date(2024, 5, 13),\n",
       "       datetime.date(2024, 5, 15)], dtype=object)"
      ]
     },
     "execution_count": 11,
     "metadata": {},
     "output_type": "execute_result"
    }
   ],
   "source": [
    "df_resp.acq_date.unique()"
   ]
  },
  {
   "cell_type": "code",
   "execution_count": 12,
   "id": "4b5e9be1-4f22-48b3-9a1e-a9c313a73c05",
   "metadata": {},
   "outputs": [],
   "source": [
    "dswx_hls_dir = Path('out') / event_dict['event_name'] / 'dswx_hls'\n",
    "dswx_hls_dir.mkdir(exist_ok=True, parents=True)"
   ]
  },
  {
   "cell_type": "code",
   "execution_count": 19,
   "id": "66ecf4a8-0d3a-4976-adf2-ff2e96e7e84b",
   "metadata": {
    "scrolled": true
   },
   "outputs": [
    {
     "name": "stderr",
     "output_type": "stream",
     "text": [
      "dates:   0%|                  | 0/48 [00:00<?, ?it/s]/Users/cmarshak/miniforge3/envs/dist-s1/lib/python3.12/site-packages/asf_search/download/download.py:68: UserWarning: File already exists, skipping download: out/jebel_ali_flood/dswx_hls/2024-03-17__L8/OPERA_L3_DSWx-HLS_T39RZH_20240317T065209Z_20240319T085427Z_L8_30_v1.0_B01_WTR.tif\n",
      "  warnings.warn(f'File already exists, skipping download: {os.path.join(path, filename)}')\n",
      "/Users/cmarshak/miniforge3/envs/dist-s1/lib/python3.12/site-packages/asf_search/download/download.py:68: UserWarning: File already exists, skipping download: out/jebel_ali_flood/dswx_hls/2024-03-17__L8/OPERA_L3_DSWx-HLS_T39QZG_20240317T065233Z_20240319T085355Z_L8_30_v1.0_B01_WTR.tif\n",
      "  warnings.warn(f'File already exists, skipping download: {os.path.join(path, filename)}')\n",
      "/Users/cmarshak/miniforge3/envs/dist-s1/lib/python3.12/site-packages/asf_search/download/download.py:68: UserWarning: File already exists, skipping download: out/jebel_ali_flood/dswx_hls/2024-03-17__L8/OPERA_L3_DSWx-HLS_T40QBL_20240317T065257Z_20240319T085316Z_L8_30_v1.0_B01_WTR.tif\n",
      "  warnings.warn(f'File already exists, skipping download: {os.path.join(path, filename)}')\n",
      "/Users/cmarshak/miniforge3/envs/dist-s1/lib/python3.12/site-packages/asf_search/download/download.py:68: UserWarning: File already exists, skipping download: out/jebel_ali_flood/dswx_hls/2024-03-17__L8/OPERA_L3_DSWx-HLS_T39QZF_20240317T065257Z_20240408T235023Z_L8_30_v1.0_B01_WTR.tif\n",
      "  warnings.warn(f'File already exists, skipping download: {os.path.join(path, filename)}')\n",
      "/Users/cmarshak/miniforge3/envs/dist-s1/lib/python3.12/site-packages/asf_search/download/download.py:68: UserWarning: File already exists, skipping download: out/jebel_ali_flood/dswx_hls/2024-03-17__L8/OPERA_L3_DSWx-HLS_T39RZJ_20240317T065209Z_20240319T085506Z_L8_30_v1.0_B01_WTR.tif\n",
      "  warnings.warn(f'File already exists, skipping download: {os.path.join(path, filename)}')\n",
      "/Users/cmarshak/miniforge3/envs/dist-s1/lib/python3.12/site-packages/asf_search/download/download.py:68: UserWarning: File already exists, skipping download: out/jebel_ali_flood/dswx_hls/2024-03-17__L8/OPERA_L3_DSWx-HLS_T40RBN_20240317T065209Z_20240319T085403Z_L8_30_v1.0_B01_WTR.tif\n",
      "  warnings.warn(f'File already exists, skipping download: {os.path.join(path, filename)}')\n",
      "/Users/cmarshak/miniforge3/envs/dist-s1/lib/python3.12/site-packages/asf_search/download/download.py:68: UserWarning: File already exists, skipping download: out/jebel_ali_flood/dswx_hls/2024-03-17__L8/OPERA_L3_DSWx-HLS_T40RBP_20240317T065209Z_20240319T085425Z_L8_30_v1.0_B01_WTR.tif\n",
      "  warnings.warn(f'File already exists, skipping download: {os.path.join(path, filename)}')\n",
      "/Users/cmarshak/miniforge3/envs/dist-s1/lib/python3.12/site-packages/asf_search/download/download.py:68: UserWarning: File already exists, skipping download: out/jebel_ali_flood/dswx_hls/2024-03-17__L8/OPERA_L3_DSWx-HLS_T40QBM_20240317T065233Z_20240319T085356Z_L8_30_v1.0_B01_WTR.tif\n",
      "  warnings.warn(f'File already exists, skipping download: {os.path.join(path, filename)}')\n",
      "dates:   2%|▏         | 1/48 [00:00<00:17,  2.71it/s]/Users/cmarshak/miniforge3/envs/dist-s1/lib/python3.12/site-packages/asf_search/download/download.py:68: UserWarning: File already exists, skipping download: out/jebel_ali_flood/dswx_hls/2024-03-19__L8/OPERA_L3_DSWx-HLS_T40QCM_20240319T064010Z_20240322T192354Z_L8_30_v1.0_B01_WTR.tif\n",
      "  warnings.warn(f'File already exists, skipping download: {os.path.join(path, filename)}')\n",
      "/Users/cmarshak/miniforge3/envs/dist-s1/lib/python3.12/site-packages/asf_search/download/download.py:68: UserWarning: File already exists, skipping download: out/jebel_ali_flood/dswx_hls/2024-03-19__L8/OPERA_L3_DSWx-HLS_T40QDM_20240319T064010Z_20240322T192419Z_L8_30_v1.0_B01_WTR.tif\n",
      "  warnings.warn(f'File already exists, skipping download: {os.path.join(path, filename)}')\n",
      "/Users/cmarshak/miniforge3/envs/dist-s1/lib/python3.12/site-packages/asf_search/download/download.py:68: UserWarning: File already exists, skipping download: out/jebel_ali_flood/dswx_hls/2024-03-19__L8/OPERA_L3_DSWx-HLS_T40QCL_20240319T064034Z_20240322T174808Z_L8_30_v1.0_B01_WTR.tif\n",
      "  warnings.warn(f'File already exists, skipping download: {os.path.join(path, filename)}')\n",
      "/Users/cmarshak/miniforge3/envs/dist-s1/lib/python3.12/site-packages/asf_search/download/download.py:68: UserWarning: File already exists, skipping download: out/jebel_ali_flood/dswx_hls/2024-03-19__L8/OPERA_L3_DSWx-HLS_T40QDL_20240319T064034Z_20240322T174804Z_L8_30_v1.0_B01_WTR.tif\n",
      "  warnings.warn(f'File already exists, skipping download: {os.path.join(path, filename)}')\n",
      "/Users/cmarshak/miniforge3/envs/dist-s1/lib/python3.12/site-packages/asf_search/download/download.py:68: UserWarning: File already exists, skipping download: out/jebel_ali_flood/dswx_hls/2024-03-19__L8/OPERA_L3_DSWx-HLS_T40RCP_20240319T063946Z_20240322T192347Z_L8_30_v1.0_B01_WTR.tif\n",
      "  warnings.warn(f'File already exists, skipping download: {os.path.join(path, filename)}')\n",
      "/Users/cmarshak/miniforge3/envs/dist-s1/lib/python3.12/site-packages/asf_search/download/download.py:68: UserWarning: File already exists, skipping download: out/jebel_ali_flood/dswx_hls/2024-03-19__L8/OPERA_L3_DSWx-HLS_T40RDP_20240319T063946Z_20240322T210820Z_L8_30_v1.0_B01_WTR.tif\n",
      "  warnings.warn(f'File already exists, skipping download: {os.path.join(path, filename)}')\n",
      "/Users/cmarshak/miniforge3/envs/dist-s1/lib/python3.12/site-packages/asf_search/download/download.py:68: UserWarning: File already exists, skipping download: out/jebel_ali_flood/dswx_hls/2024-03-19__L8/OPERA_L3_DSWx-HLS_T40RDN_20240319T063946Z_20240408T230837Z_L8_30_v1.0_B01_WTR.tif\n",
      "  warnings.warn(f'File already exists, skipping download: {os.path.join(path, filename)}')\n",
      "/Users/cmarshak/miniforge3/envs/dist-s1/lib/python3.12/site-packages/asf_search/download/download.py:68: UserWarning: File already exists, skipping download: out/jebel_ali_flood/dswx_hls/2024-03-19__L8/OPERA_L3_DSWx-HLS_T40RCN_20240319T064010Z_20240322T192350Z_L8_30_v1.0_B01_WTR.tif\n",
      "  warnings.warn(f'File already exists, skipping download: {os.path.join(path, filename)}')\n",
      "dates:   4%|▍         | 2/48 [00:00<00:16,  2.76it/s]/Users/cmarshak/miniforge3/envs/dist-s1/lib/python3.12/site-packages/asf_search/download/download.py:68: UserWarning: File already exists, skipping download: out/jebel_ali_flood/dswx_hls/2024-03-26__L8/OPERA_L3_DSWx-HLS_T40RBN_20240326T064547Z_20240328T084310Z_L8_30_v1.0_B01_WTR.tif\n",
      "  warnings.warn(f'File already exists, skipping download: {os.path.join(path, filename)}')\n",
      "/Users/cmarshak/miniforge3/envs/dist-s1/lib/python3.12/site-packages/asf_search/download/download.py:68: UserWarning: File already exists, skipping download: out/jebel_ali_flood/dswx_hls/2024-03-26__L8/OPERA_L3_DSWx-HLS_T40RCN_20240326T064547Z_20240328T084303Z_L8_30_v1.0_B01_WTR.tif\n",
      "  warnings.warn(f'File already exists, skipping download: {os.path.join(path, filename)}')\n",
      "/Users/cmarshak/miniforge3/envs/dist-s1/lib/python3.12/site-packages/asf_search/download/download.py:68: UserWarning: File already exists, skipping download: out/jebel_ali_flood/dswx_hls/2024-03-26__L8/OPERA_L3_DSWx-HLS_T40RBP_20240326T064547Z_20240328T084252Z_L8_30_v1.0_B01_WTR.tif\n",
      "  warnings.warn(f'File already exists, skipping download: {os.path.join(path, filename)}')\n",
      "/Users/cmarshak/miniforge3/envs/dist-s1/lib/python3.12/site-packages/asf_search/download/download.py:68: UserWarning: File already exists, skipping download: out/jebel_ali_flood/dswx_hls/2024-03-26__L8/OPERA_L3_DSWx-HLS_T39RZH_20240326T064611Z_20240328T084150Z_L8_30_v1.0_B01_WTR.tif\n",
      "  warnings.warn(f'File already exists, skipping download: {os.path.join(path, filename)}')\n",
      "/Users/cmarshak/miniforge3/envs/dist-s1/lib/python3.12/site-packages/asf_search/download/download.py:68: UserWarning: File already exists, skipping download: out/jebel_ali_flood/dswx_hls/2024-03-26__L8/OPERA_L3_DSWx-HLS_T40QDM_20240326T064611Z_20240328T084236Z_L8_30_v1.0_B01_WTR.tif\n",
      "  warnings.warn(f'File already exists, skipping download: {os.path.join(path, filename)}')\n",
      "/Users/cmarshak/miniforge3/envs/dist-s1/lib/python3.12/site-packages/asf_search/download/download.py:68: UserWarning: File already exists, skipping download: out/jebel_ali_flood/dswx_hls/2024-03-26__L8/OPERA_L3_DSWx-HLS_T40QCM_20240326T064611Z_20240328T084234Z_L8_30_v1.0_B01_WTR.tif\n",
      "  warnings.warn(f'File already exists, skipping download: {os.path.join(path, filename)}')\n",
      "/Users/cmarshak/miniforge3/envs/dist-s1/lib/python3.12/site-packages/asf_search/download/download.py:68: UserWarning: File already exists, skipping download: out/jebel_ali_flood/dswx_hls/2024-03-26__L8/OPERA_L3_DSWx-HLS_T40QBM_20240326T064611Z_20240328T084239Z_L8_30_v1.0_B01_WTR.tif\n",
      "  warnings.warn(f'File already exists, skipping download: {os.path.join(path, filename)}')\n",
      "/Users/cmarshak/miniforge3/envs/dist-s1/lib/python3.12/site-packages/asf_search/download/download.py:68: UserWarning: File already exists, skipping download: out/jebel_ali_flood/dswx_hls/2024-03-26__L8/OPERA_L3_DSWx-HLS_T40QCL_20240326T064635Z_20240328T084236Z_L8_30_v1.0_B01_WTR.tif\n",
      "  warnings.warn(f'File already exists, skipping download: {os.path.join(path, filename)}')\n",
      "/Users/cmarshak/miniforge3/envs/dist-s1/lib/python3.12/site-packages/asf_search/download/download.py:68: UserWarning: File already exists, skipping download: out/jebel_ali_flood/dswx_hls/2024-03-26__L8/OPERA_L3_DSWx-HLS_T40QBL_20240326T064635Z_20240330T183807Z_L8_30_v1.0_B01_WTR.tif\n",
      "  warnings.warn(f'File already exists, skipping download: {os.path.join(path, filename)}')\n",
      "/Users/cmarshak/miniforge3/envs/dist-s1/lib/python3.12/site-packages/asf_search/download/download.py:68: UserWarning: File already exists, skipping download: out/jebel_ali_flood/dswx_hls/2024-03-26__L8/OPERA_L3_DSWx-HLS_T39QZF_20240326T064635Z_20240330T183742Z_L8_30_v1.0_B01_WTR.tif\n",
      "  warnings.warn(f'File already exists, skipping download: {os.path.join(path, filename)}')\n",
      "/Users/cmarshak/miniforge3/envs/dist-s1/lib/python3.12/site-packages/asf_search/download/download.py:68: UserWarning: File already exists, skipping download: out/jebel_ali_flood/dswx_hls/2024-03-26__L8/OPERA_L3_DSWx-HLS_T40RCP_20240326T064547Z_20240328T084309Z_L8_30_v1.0_B01_WTR.tif\n",
      "  warnings.warn(f'File already exists, skipping download: {os.path.join(path, filename)}')\n",
      "/Users/cmarshak/miniforge3/envs/dist-s1/lib/python3.12/site-packages/asf_search/download/download.py:68: UserWarning: File already exists, skipping download: out/jebel_ali_flood/dswx_hls/2024-03-26__L8/OPERA_L3_DSWx-HLS_T39RZJ_20240326T064547Z_20240328T084256Z_L8_30_v1.0_B01_WTR.tif\n",
      "  warnings.warn(f'File already exists, skipping download: {os.path.join(path, filename)}')\n",
      "/Users/cmarshak/miniforge3/envs/dist-s1/lib/python3.12/site-packages/asf_search/download/download.py:68: UserWarning: File already exists, skipping download: out/jebel_ali_flood/dswx_hls/2024-03-26__L8/OPERA_L3_DSWx-HLS_T40RDN_20240326T064547Z_20240328T084236Z_L8_30_v1.0_B01_WTR.tif\n",
      "  warnings.warn(f'File already exists, skipping download: {os.path.join(path, filename)}')\n",
      "/Users/cmarshak/miniforge3/envs/dist-s1/lib/python3.12/site-packages/asf_search/download/download.py:68: UserWarning: File already exists, skipping download: out/jebel_ali_flood/dswx_hls/2024-03-26__L8/OPERA_L3_DSWx-HLS_T40RDP_20240326T064547Z_20240328T084236Z_L8_30_v1.0_B01_WTR.tif\n",
      "  warnings.warn(f'File already exists, skipping download: {os.path.join(path, filename)}')\n",
      "dates:   6%|▋         | 3/48 [00:01<00:16,  2.80it/s]/Users/cmarshak/miniforge3/envs/dist-s1/lib/python3.12/site-packages/asf_search/download/download.py:68: UserWarning: File already exists, skipping download: out/jebel_ali_flood/dswx_hls/2024-03-28__L8/OPERA_L3_DSWx-HLS_T40QDL_20240328T063412Z_20240330T083432Z_L8_30_v1.0_B01_WTR.tif\n",
      "  warnings.warn(f'File already exists, skipping download: {os.path.join(path, filename)}')\n",
      "dates:   8%|▊         | 4/48 [00:01<00:14,  2.95it/s]/Users/cmarshak/miniforge3/envs/dist-s1/lib/python3.12/site-packages/asf_search/download/download.py:68: UserWarning: File already exists, skipping download: out/jebel_ali_flood/dswx_hls/2024-04-02__L8/OPERA_L3_DSWx-HLS_T39RZH_20240402T065157Z_20240404T084013Z_L8_30_v1.0_B01_WTR.tif\n",
      "  warnings.warn(f'File already exists, skipping download: {os.path.join(path, filename)}')\n",
      "/Users/cmarshak/miniforge3/envs/dist-s1/lib/python3.12/site-packages/asf_search/download/download.py:68: UserWarning: File already exists, skipping download: out/jebel_ali_flood/dswx_hls/2024-04-02__L8/OPERA_L3_DSWx-HLS_T39QZG_20240402T065221Z_20240418T150045Z_L8_30_v1.0_B01_WTR.tif\n",
      "  warnings.warn(f'File already exists, skipping download: {os.path.join(path, filename)}')\n",
      "/Users/cmarshak/miniforge3/envs/dist-s1/lib/python3.12/site-packages/asf_search/download/download.py:68: UserWarning: File already exists, skipping download: out/jebel_ali_flood/dswx_hls/2024-04-02__L8/OPERA_L3_DSWx-HLS_T40RBN_20240402T065157Z_20240418T141747Z_L8_30_v1.0_B01_WTR.tif\n",
      "  warnings.warn(f'File already exists, skipping download: {os.path.join(path, filename)}')\n",
      "/Users/cmarshak/miniforge3/envs/dist-s1/lib/python3.12/site-packages/asf_search/download/download.py:68: UserWarning: File already exists, skipping download: out/jebel_ali_flood/dswx_hls/2024-04-02__L8/OPERA_L3_DSWx-HLS_T40QBL_20240402T065245Z_20240404T083837Z_L8_30_v1.0_B01_WTR.tif\n",
      "  warnings.warn(f'File already exists, skipping download: {os.path.join(path, filename)}')\n",
      "/Users/cmarshak/miniforge3/envs/dist-s1/lib/python3.12/site-packages/asf_search/download/download.py:68: UserWarning: File already exists, skipping download: out/jebel_ali_flood/dswx_hls/2024-04-02__L8/OPERA_L3_DSWx-HLS_T39QZF_20240402T065245Z_20240404T083850Z_L8_30_v1.0_B01_WTR.tif\n",
      "  warnings.warn(f'File already exists, skipping download: {os.path.join(path, filename)}')\n",
      "/Users/cmarshak/miniforge3/envs/dist-s1/lib/python3.12/site-packages/asf_search/download/download.py:68: UserWarning: File already exists, skipping download: out/jebel_ali_flood/dswx_hls/2024-04-02__L8/OPERA_L3_DSWx-HLS_T39RZJ_20240402T065157Z_20240404T083950Z_L8_30_v1.0_B01_WTR.tif\n",
      "  warnings.warn(f'File already exists, skipping download: {os.path.join(path, filename)}')\n",
      "/Users/cmarshak/miniforge3/envs/dist-s1/lib/python3.12/site-packages/asf_search/download/download.py:68: UserWarning: File already exists, skipping download: out/jebel_ali_flood/dswx_hls/2024-04-02__L8/OPERA_L3_DSWx-HLS_T40RBP_20240402T065157Z_20240404T084028Z_L8_30_v1.0_B01_WTR.tif\n",
      "  warnings.warn(f'File already exists, skipping download: {os.path.join(path, filename)}')\n",
      "/Users/cmarshak/miniforge3/envs/dist-s1/lib/python3.12/site-packages/asf_search/download/download.py:68: UserWarning: File already exists, skipping download: out/jebel_ali_flood/dswx_hls/2024-04-02__L8/OPERA_L3_DSWx-HLS_T40QBM_20240402T065221Z_20240404T083914Z_L8_30_v1.0_B01_WTR.tif\n",
      "  warnings.warn(f'File already exists, skipping download: {os.path.join(path, filename)}')\n",
      "dates:  10%|█         | 5/48 [00:01<00:14,  2.89it/s]/Users/cmarshak/miniforge3/envs/dist-s1/lib/python3.12/site-packages/asf_search/download/download.py:68: UserWarning: File already exists, skipping download: out/jebel_ali_flood/dswx_hls/2024-04-04__L8/OPERA_L3_DSWx-HLS_T40RDN_20240404T063936Z_20240406T170532Z_L8_30_v1.0_B01_WTR.tif\n",
      "  warnings.warn(f'File already exists, skipping download: {os.path.join(path, filename)}')\n",
      "/Users/cmarshak/miniforge3/envs/dist-s1/lib/python3.12/site-packages/asf_search/download/download.py:68: UserWarning: File already exists, skipping download: out/jebel_ali_flood/dswx_hls/2024-04-04__L8/OPERA_L3_DSWx-HLS_T40RCP_20240404T063936Z_20240406T170508Z_L8_30_v1.0_B01_WTR.tif\n",
      "  warnings.warn(f'File already exists, skipping download: {os.path.join(path, filename)}')\n",
      "/Users/cmarshak/miniforge3/envs/dist-s1/lib/python3.12/site-packages/asf_search/download/download.py:68: UserWarning: File already exists, skipping download: out/jebel_ali_flood/dswx_hls/2024-04-04__L8/OPERA_L3_DSWx-HLS_T40QDM_20240404T064000Z_20240406T170528Z_L8_30_v1.0_B01_WTR.tif\n",
      "  warnings.warn(f'File already exists, skipping download: {os.path.join(path, filename)}')\n",
      "/Users/cmarshak/miniforge3/envs/dist-s1/lib/python3.12/site-packages/asf_search/download/download.py:68: UserWarning: File already exists, skipping download: out/jebel_ali_flood/dswx_hls/2024-04-04__L8/OPERA_L3_DSWx-HLS_T40QDL_20240404T064024Z_20240406T170446Z_L8_30_v1.0_B01_WTR.tif\n",
      "  warnings.warn(f'File already exists, skipping download: {os.path.join(path, filename)}')\n",
      "/Users/cmarshak/miniforge3/envs/dist-s1/lib/python3.12/site-packages/asf_search/download/download.py:68: UserWarning: File already exists, skipping download: out/jebel_ali_flood/dswx_hls/2024-04-04__L8/OPERA_L3_DSWx-HLS_T40QCL_20240404T064024Z_20240406T170505Z_L8_30_v1.0_B01_WTR.tif\n",
      "  warnings.warn(f'File already exists, skipping download: {os.path.join(path, filename)}')\n",
      "/Users/cmarshak/miniforge3/envs/dist-s1/lib/python3.12/site-packages/asf_search/download/download.py:68: UserWarning: File already exists, skipping download: out/jebel_ali_flood/dswx_hls/2024-04-04__L8/OPERA_L3_DSWx-HLS_T40RDP_20240404T063936Z_20240406T170533Z_L8_30_v1.0_B01_WTR.tif\n",
      "  warnings.warn(f'File already exists, skipping download: {os.path.join(path, filename)}')\n",
      "/Users/cmarshak/miniforge3/envs/dist-s1/lib/python3.12/site-packages/asf_search/download/download.py:68: UserWarning: File already exists, skipping download: out/jebel_ali_flood/dswx_hls/2024-04-04__L8/OPERA_L3_DSWx-HLS_T40QCM_20240404T064000Z_20240406T170507Z_L8_30_v1.0_B01_WTR.tif\n",
      "  warnings.warn(f'File already exists, skipping download: {os.path.join(path, filename)}')\n",
      "/Users/cmarshak/miniforge3/envs/dist-s1/lib/python3.12/site-packages/asf_search/download/download.py:68: UserWarning: File already exists, skipping download: out/jebel_ali_flood/dswx_hls/2024-04-04__L8/OPERA_L3_DSWx-HLS_T40RCN_20240404T064000Z_20240406T170457Z_L8_30_v1.0_B01_WTR.tif\n",
      "  warnings.warn(f'File already exists, skipping download: {os.path.join(path, filename)}')\n",
      "dates:  12%|█▎        | 6/48 [00:02<00:14,  2.82it/s]/Users/cmarshak/miniforge3/envs/dist-s1/lib/python3.12/site-packages/asf_search/download/download.py:68: UserWarning: File already exists, skipping download: out/jebel_ali_flood/dswx_hls/2024-04-11__L8/OPERA_L3_DSWx-HLS_T40RDN_20240411T064545Z_20240413T122708Z_L8_30_v1.0_B01_WTR.tif\n",
      "  warnings.warn(f'File already exists, skipping download: {os.path.join(path, filename)}')\n",
      "/Users/cmarshak/miniforge3/envs/dist-s1/lib/python3.12/site-packages/asf_search/download/download.py:68: UserWarning: File already exists, skipping download: out/jebel_ali_flood/dswx_hls/2024-04-11__L8/OPERA_L3_DSWx-HLS_T39RZJ_20240411T064545Z_20240413T122735Z_L8_30_v1.0_B01_WTR.tif\n",
      "  warnings.warn(f'File already exists, skipping download: {os.path.join(path, filename)}')\n",
      "/Users/cmarshak/miniforge3/envs/dist-s1/lib/python3.12/site-packages/asf_search/download/download.py:68: UserWarning: File already exists, skipping download: out/jebel_ali_flood/dswx_hls/2024-04-11__L8/OPERA_L3_DSWx-HLS_T40RBN_20240411T064545Z_20240413T122801Z_L8_30_v1.0_B01_WTR.tif\n",
      "  warnings.warn(f'File already exists, skipping download: {os.path.join(path, filename)}')\n",
      "/Users/cmarshak/miniforge3/envs/dist-s1/lib/python3.12/site-packages/asf_search/download/download.py:68: UserWarning: File already exists, skipping download: out/jebel_ali_flood/dswx_hls/2024-04-11__L8/OPERA_L3_DSWx-HLS_T40QCM_20240411T064608Z_20240413T122701Z_L8_30_v1.0_B01_WTR.tif\n",
      "  warnings.warn(f'File already exists, skipping download: {os.path.join(path, filename)}')\n",
      "/Users/cmarshak/miniforge3/envs/dist-s1/lib/python3.12/site-packages/asf_search/download/download.py:68: UserWarning: File already exists, skipping download: out/jebel_ali_flood/dswx_hls/2024-04-11__L8/OPERA_L3_DSWx-HLS_T40QDM_20240411T064608Z_20240413T122654Z_L8_30_v1.0_B01_WTR.tif\n",
      "  warnings.warn(f'File already exists, skipping download: {os.path.join(path, filename)}')\n",
      "/Users/cmarshak/miniforge3/envs/dist-s1/lib/python3.12/site-packages/asf_search/download/download.py:68: UserWarning: File already exists, skipping download: out/jebel_ali_flood/dswx_hls/2024-04-11__L8/OPERA_L3_DSWx-HLS_T40QBM_20240411T064608Z_20240413T122656Z_L8_30_v1.0_B01_WTR.tif\n",
      "  warnings.warn(f'File already exists, skipping download: {os.path.join(path, filename)}')\n",
      "/Users/cmarshak/miniforge3/envs/dist-s1/lib/python3.12/site-packages/asf_search/download/download.py:68: UserWarning: File already exists, skipping download: out/jebel_ali_flood/dswx_hls/2024-04-11__L8/OPERA_L3_DSWx-HLS_T39QZG_20240411T064608Z_20240413T122627Z_L8_30_v1.0_B01_WTR.tif\n",
      "  warnings.warn(f'File already exists, skipping download: {os.path.join(path, filename)}')\n",
      "/Users/cmarshak/miniforge3/envs/dist-s1/lib/python3.12/site-packages/asf_search/download/download.py:68: UserWarning: File already exists, skipping download: out/jebel_ali_flood/dswx_hls/2024-04-11__L8/OPERA_L3_DSWx-HLS_T39RZH_20240411T064608Z_20240413T122649Z_L8_30_v1.0_B01_WTR.tif\n",
      "  warnings.warn(f'File already exists, skipping download: {os.path.join(path, filename)}')\n",
      "/Users/cmarshak/miniforge3/envs/dist-s1/lib/python3.12/site-packages/asf_search/download/download.py:68: UserWarning: File already exists, skipping download: out/jebel_ali_flood/dswx_hls/2024-04-11__L8/OPERA_L3_DSWx-HLS_T40QCL_20240411T064632Z_20240413T080959Z_L8_30_v1.0_B01_WTR.tif\n",
      "  warnings.warn(f'File already exists, skipping download: {os.path.join(path, filename)}')\n",
      "/Users/cmarshak/miniforge3/envs/dist-s1/lib/python3.12/site-packages/asf_search/download/download.py:68: UserWarning: File already exists, skipping download: out/jebel_ali_flood/dswx_hls/2024-04-11__L8/OPERA_L3_DSWx-HLS_T39QZF_20240411T064632Z_20240413T122632Z_L8_30_v1.0_B01_WTR.tif\n",
      "  warnings.warn(f'File already exists, skipping download: {os.path.join(path, filename)}')\n",
      "/Users/cmarshak/miniforge3/envs/dist-s1/lib/python3.12/site-packages/asf_search/download/download.py:68: UserWarning: File already exists, skipping download: out/jebel_ali_flood/dswx_hls/2024-04-11__L8/OPERA_L3_DSWx-HLS_T40QBL_20240411T064632Z_20240413T122649Z_L8_30_v1.0_B01_WTR.tif\n",
      "  warnings.warn(f'File already exists, skipping download: {os.path.join(path, filename)}')\n",
      "/Users/cmarshak/miniforge3/envs/dist-s1/lib/python3.12/site-packages/asf_search/download/download.py:68: UserWarning: File already exists, skipping download: out/jebel_ali_flood/dswx_hls/2024-04-11__L8/OPERA_L3_DSWx-HLS_T40RDP_20240411T064545Z_20240413T081031Z_L8_30_v1.0_B01_WTR.tif\n",
      "  warnings.warn(f'File already exists, skipping download: {os.path.join(path, filename)}')\n",
      "/Users/cmarshak/miniforge3/envs/dist-s1/lib/python3.12/site-packages/asf_search/download/download.py:68: UserWarning: File already exists, skipping download: out/jebel_ali_flood/dswx_hls/2024-04-11__L8/OPERA_L3_DSWx-HLS_T40RCN_20240411T064545Z_20240413T122720Z_L8_30_v1.0_B01_WTR.tif\n",
      "  warnings.warn(f'File already exists, skipping download: {os.path.join(path, filename)}')\n",
      "/Users/cmarshak/miniforge3/envs/dist-s1/lib/python3.12/site-packages/asf_search/download/download.py:68: UserWarning: File already exists, skipping download: out/jebel_ali_flood/dswx_hls/2024-04-11__L8/OPERA_L3_DSWx-HLS_T40RCP_20240411T064545Z_20240413T122720Z_L8_30_v1.0_B01_WTR.tif\n",
      "  warnings.warn(f'File already exists, skipping download: {os.path.join(path, filename)}')\n",
      "/Users/cmarshak/miniforge3/envs/dist-s1/lib/python3.12/site-packages/asf_search/download/download.py:68: UserWarning: File already exists, skipping download: out/jebel_ali_flood/dswx_hls/2024-04-11__L8/OPERA_L3_DSWx-HLS_T40RBP_20240411T064545Z_20240413T122716Z_L8_30_v1.0_B01_WTR.tif\n",
      "  warnings.warn(f'File already exists, skipping download: {os.path.join(path, filename)}')\n",
      "dates:  15%|█▍        | 7/48 [00:02<00:14,  2.82it/s]/Users/cmarshak/miniforge3/envs/dist-s1/lib/python3.12/site-packages/asf_search/download/download.py:68: UserWarning: File already exists, skipping download: out/jebel_ali_flood/dswx_hls/2024-04-13__L8/OPERA_L3_DSWx-HLS_T40QDL_20240413T063410Z_20240415T103220Z_L8_30_v1.0_B01_WTR.tif\n",
      "  warnings.warn(f'File already exists, skipping download: {os.path.join(path, filename)}')\n",
      "dates:  17%|█▋        | 8/48 [00:02<00:13,  2.92it/s]/Users/cmarshak/miniforge3/envs/dist-s1/lib/python3.12/site-packages/asf_search/download/download.py:68: UserWarning: File already exists, skipping download: out/jebel_ali_flood/dswx_hls/2024-04-18__L8/OPERA_L3_DSWx-HLS_T40RBP_20240418T065149Z_20240426T014647Z_L8_30_v1.0_B01_WTR.tif\n",
      "  warnings.warn(f'File already exists, skipping download: {os.path.join(path, filename)}')\n",
      "/Users/cmarshak/miniforge3/envs/dist-s1/lib/python3.12/site-packages/asf_search/download/download.py:68: UserWarning: File already exists, skipping download: out/jebel_ali_flood/dswx_hls/2024-04-18__L8/OPERA_L3_DSWx-HLS_T39QZG_20240418T065213Z_20240426T014553Z_L8_30_v1.0_B01_WTR.tif\n",
      "  warnings.warn(f'File already exists, skipping download: {os.path.join(path, filename)}')\n",
      "/Users/cmarshak/miniforge3/envs/dist-s1/lib/python3.12/site-packages/asf_search/download/download.py:68: UserWarning: File already exists, skipping download: out/jebel_ali_flood/dswx_hls/2024-04-18__L8/OPERA_L3_DSWx-HLS_T40QBL_20240418T065237Z_20240425T120638Z_L8_30_v1.0_B01_WTR.tif\n",
      "  warnings.warn(f'File already exists, skipping download: {os.path.join(path, filename)}')\n",
      "/Users/cmarshak/miniforge3/envs/dist-s1/lib/python3.12/site-packages/asf_search/download/download.py:68: UserWarning: File already exists, skipping download: out/jebel_ali_flood/dswx_hls/2024-04-18__L8/OPERA_L3_DSWx-HLS_T39QZF_20240418T065237Z_20240426T014518Z_L8_30_v1.0_B01_WTR.tif\n",
      "  warnings.warn(f'File already exists, skipping download: {os.path.join(path, filename)}')\n",
      "/Users/cmarshak/miniforge3/envs/dist-s1/lib/python3.12/site-packages/asf_search/download/download.py:68: UserWarning: File already exists, skipping download: out/jebel_ali_flood/dswx_hls/2024-04-18__L8/OPERA_L3_DSWx-HLS_T40QBM_20240418T065213Z_20240426T014603Z_L8_30_v1.0_B01_WTR.tif\n",
      "  warnings.warn(f'File already exists, skipping download: {os.path.join(path, filename)}')\n",
      "/Users/cmarshak/miniforge3/envs/dist-s1/lib/python3.12/site-packages/asf_search/download/download.py:68: UserWarning: File already exists, skipping download: out/jebel_ali_flood/dswx_hls/2024-04-18__L8/OPERA_L3_DSWx-HLS_T39RZJ_20240418T065149Z_20240426T014447Z_L8_30_v1.0_B01_WTR.tif\n",
      "  warnings.warn(f'File already exists, skipping download: {os.path.join(path, filename)}')\n",
      "/Users/cmarshak/miniforge3/envs/dist-s1/lib/python3.12/site-packages/asf_search/download/download.py:68: UserWarning: File already exists, skipping download: out/jebel_ali_flood/dswx_hls/2024-04-18__L8/OPERA_L3_DSWx-HLS_T39RZH_20240418T065149Z_20240426T014617Z_L8_30_v1.0_B01_WTR.tif\n",
      "  warnings.warn(f'File already exists, skipping download: {os.path.join(path, filename)}')\n",
      "/Users/cmarshak/miniforge3/envs/dist-s1/lib/python3.12/site-packages/asf_search/download/download.py:68: UserWarning: File already exists, skipping download: out/jebel_ali_flood/dswx_hls/2024-04-18__L8/OPERA_L3_DSWx-HLS_T40RBN_20240418T065149Z_20240426T014500Z_L8_30_v1.0_B01_WTR.tif\n",
      "  warnings.warn(f'File already exists, skipping download: {os.path.join(path, filename)}')\n",
      "dates:  19%|█▉        | 9/48 [00:03<00:13,  2.88it/s]/Users/cmarshak/miniforge3/envs/dist-s1/lib/python3.12/site-packages/asf_search/download/download.py:68: UserWarning: File already exists, skipping download: out/jebel_ali_flood/dswx_hls/2024-04-20__L8/OPERA_L3_DSWx-HLS_T40RCP_20240420T063927Z_20240425T033029Z_L8_30_v1.0_B01_WTR.tif\n",
      "  warnings.warn(f'File already exists, skipping download: {os.path.join(path, filename)}')\n",
      "/Users/cmarshak/miniforge3/envs/dist-s1/lib/python3.12/site-packages/asf_search/download/download.py:68: UserWarning: File already exists, skipping download: out/jebel_ali_flood/dswx_hls/2024-04-20__L8/OPERA_L3_DSWx-HLS_T40QCM_20240420T063951Z_20240425T033009Z_L8_30_v1.0_B01_WTR.tif\n",
      "  warnings.warn(f'File already exists, skipping download: {os.path.join(path, filename)}')\n",
      "/Users/cmarshak/miniforge3/envs/dist-s1/lib/python3.12/site-packages/asf_search/download/download.py:68: UserWarning: File already exists, skipping download: out/jebel_ali_flood/dswx_hls/2024-04-20__L8/OPERA_L3_DSWx-HLS_T40QDL_20240420T064015Z_20240425T032947Z_L8_30_v1.0_B01_WTR.tif\n",
      "  warnings.warn(f'File already exists, skipping download: {os.path.join(path, filename)}')\n",
      "/Users/cmarshak/miniforge3/envs/dist-s1/lib/python3.12/site-packages/asf_search/download/download.py:68: UserWarning: File already exists, skipping download: out/jebel_ali_flood/dswx_hls/2024-04-20__L8/OPERA_L3_DSWx-HLS_T40QCL_20240420T064015Z_20240425T032937Z_L8_30_v1.0_B01_WTR.tif\n",
      "  warnings.warn(f'File already exists, skipping download: {os.path.join(path, filename)}')\n",
      "/Users/cmarshak/miniforge3/envs/dist-s1/lib/python3.12/site-packages/asf_search/download/download.py:68: UserWarning: File already exists, skipping download: out/jebel_ali_flood/dswx_hls/2024-04-20__L8/OPERA_L3_DSWx-HLS_T40QDM_20240420T063951Z_20240425T033023Z_L8_30_v1.0_B01_WTR.tif\n",
      "  warnings.warn(f'File already exists, skipping download: {os.path.join(path, filename)}')\n",
      "/Users/cmarshak/miniforge3/envs/dist-s1/lib/python3.12/site-packages/asf_search/download/download.py:68: UserWarning: File already exists, skipping download: out/jebel_ali_flood/dswx_hls/2024-04-20__L8/OPERA_L3_DSWx-HLS_T40RDP_20240420T063927Z_20240425T033040Z_L8_30_v1.0_B01_WTR.tif\n",
      "  warnings.warn(f'File already exists, skipping download: {os.path.join(path, filename)}')\n",
      "/Users/cmarshak/miniforge3/envs/dist-s1/lib/python3.12/site-packages/asf_search/download/download.py:68: UserWarning: File already exists, skipping download: out/jebel_ali_flood/dswx_hls/2024-04-20__L8/OPERA_L3_DSWx-HLS_T40RDN_20240420T063927Z_20240425T033031Z_L8_30_v1.0_B01_WTR.tif\n",
      "  warnings.warn(f'File already exists, skipping download: {os.path.join(path, filename)}')\n",
      "/Users/cmarshak/miniforge3/envs/dist-s1/lib/python3.12/site-packages/asf_search/download/download.py:68: UserWarning: File already exists, skipping download: out/jebel_ali_flood/dswx_hls/2024-04-20__L8/OPERA_L3_DSWx-HLS_T40RCN_20240420T063951Z_20240425T032943Z_L8_30_v1.0_B01_WTR.tif\n",
      "  warnings.warn(f'File already exists, skipping download: {os.path.join(path, filename)}')\n",
      "dates:  21%|█▉       | 10/48 [00:03<00:13,  2.87it/s]/Users/cmarshak/miniforge3/envs/dist-s1/lib/python3.12/site-packages/asf_search/download/download.py:68: UserWarning: File already exists, skipping download: out/jebel_ali_flood/dswx_hls/2024-04-27__L8/OPERA_L3_DSWx-HLS_T39RZJ_20240427T064535Z_20240429T073838Z_L8_30_v1.0_B01_WTR.tif\n",
      "  warnings.warn(f'File already exists, skipping download: {os.path.join(path, filename)}')\n",
      "/Users/cmarshak/miniforge3/envs/dist-s1/lib/python3.12/site-packages/asf_search/download/download.py:68: UserWarning: File already exists, skipping download: out/jebel_ali_flood/dswx_hls/2024-04-27__L8/OPERA_L3_DSWx-HLS_T40RBP_20240427T064535Z_20240429T073834Z_L8_30_v1.0_B01_WTR.tif\n",
      "  warnings.warn(f'File already exists, skipping download: {os.path.join(path, filename)}')\n",
      "/Users/cmarshak/miniforge3/envs/dist-s1/lib/python3.12/site-packages/asf_search/download/download.py:68: UserWarning: File already exists, skipping download: out/jebel_ali_flood/dswx_hls/2024-04-27__L8/OPERA_L3_DSWx-HLS_T40RCN_20240427T064535Z_20240429T073826Z_L8_30_v1.0_B01_WTR.tif\n",
      "  warnings.warn(f'File already exists, skipping download: {os.path.join(path, filename)}')\n",
      "/Users/cmarshak/miniforge3/envs/dist-s1/lib/python3.12/site-packages/asf_search/download/download.py:68: UserWarning: File already exists, skipping download: out/jebel_ali_flood/dswx_hls/2024-04-27__L8/OPERA_L3_DSWx-HLS_T39QZG_20240427T064559Z_20240429T073833Z_L8_30_v1.0_B01_WTR.tif\n",
      "  warnings.warn(f'File already exists, skipping download: {os.path.join(path, filename)}')\n",
      "/Users/cmarshak/miniforge3/envs/dist-s1/lib/python3.12/site-packages/asf_search/download/download.py:68: UserWarning: File already exists, skipping download: out/jebel_ali_flood/dswx_hls/2024-04-27__L8/OPERA_L3_DSWx-HLS_T40QBM_20240427T064559Z_20240429T073834Z_L8_30_v1.0_B01_WTR.tif\n",
      "  warnings.warn(f'File already exists, skipping download: {os.path.join(path, filename)}')\n",
      "/Users/cmarshak/miniforge3/envs/dist-s1/lib/python3.12/site-packages/asf_search/download/download.py:68: UserWarning: File already exists, skipping download: out/jebel_ali_flood/dswx_hls/2024-04-27__L8/OPERA_L3_DSWx-HLS_T40QDM_20240427T064559Z_20240429T073820Z_L8_30_v1.0_B01_WTR.tif\n",
      "  warnings.warn(f'File already exists, skipping download: {os.path.join(path, filename)}')\n",
      "/Users/cmarshak/miniforge3/envs/dist-s1/lib/python3.12/site-packages/asf_search/download/download.py:68: UserWarning: File already exists, skipping download: out/jebel_ali_flood/dswx_hls/2024-04-27__L8/OPERA_L3_DSWx-HLS_T39RZH_20240427T064559Z_20240429T073821Z_L8_30_v1.0_B01_WTR.tif\n",
      "  warnings.warn(f'File already exists, skipping download: {os.path.join(path, filename)}')\n",
      "/Users/cmarshak/miniforge3/envs/dist-s1/lib/python3.12/site-packages/asf_search/download/download.py:68: UserWarning: File already exists, skipping download: out/jebel_ali_flood/dswx_hls/2024-04-27__L8/OPERA_L3_DSWx-HLS_T40QCM_20240427T064559Z_20240429T073819Z_L8_30_v1.0_B01_WTR.tif\n",
      "  warnings.warn(f'File already exists, skipping download: {os.path.join(path, filename)}')\n",
      "/Users/cmarshak/miniforge3/envs/dist-s1/lib/python3.12/site-packages/asf_search/download/download.py:68: UserWarning: File already exists, skipping download: out/jebel_ali_flood/dswx_hls/2024-04-27__L8/OPERA_L3_DSWx-HLS_T39QZF_20240427T064623Z_20240429T073802Z_L8_30_v1.0_B01_WTR.tif\n",
      "  warnings.warn(f'File already exists, skipping download: {os.path.join(path, filename)}')\n",
      "/Users/cmarshak/miniforge3/envs/dist-s1/lib/python3.12/site-packages/asf_search/download/download.py:68: UserWarning: File already exists, skipping download: out/jebel_ali_flood/dswx_hls/2024-04-27__L8/OPERA_L3_DSWx-HLS_T40QCL_20240427T064623Z_20240429T073814Z_L8_30_v1.0_B01_WTR.tif\n",
      "  warnings.warn(f'File already exists, skipping download: {os.path.join(path, filename)}')\n",
      "/Users/cmarshak/miniforge3/envs/dist-s1/lib/python3.12/site-packages/asf_search/download/download.py:68: UserWarning: File already exists, skipping download: out/jebel_ali_flood/dswx_hls/2024-04-27__L8/OPERA_L3_DSWx-HLS_T40QBL_20240427T064623Z_20240429T073814Z_L8_30_v1.0_B01_WTR.tif\n",
      "  warnings.warn(f'File already exists, skipping download: {os.path.join(path, filename)}')\n",
      "/Users/cmarshak/miniforge3/envs/dist-s1/lib/python3.12/site-packages/asf_search/download/download.py:68: UserWarning: File already exists, skipping download: out/jebel_ali_flood/dswx_hls/2024-04-27__L8/OPERA_L3_DSWx-HLS_T40RBN_20240427T064535Z_20240429T073835Z_L8_30_v1.0_B01_WTR.tif\n",
      "  warnings.warn(f'File already exists, skipping download: {os.path.join(path, filename)}')\n",
      "/Users/cmarshak/miniforge3/envs/dist-s1/lib/python3.12/site-packages/asf_search/download/download.py:68: UserWarning: File already exists, skipping download: out/jebel_ali_flood/dswx_hls/2024-04-27__L8/OPERA_L3_DSWx-HLS_T40RCP_20240427T064535Z_20240429T073830Z_L8_30_v1.0_B01_WTR.tif\n",
      "  warnings.warn(f'File already exists, skipping download: {os.path.join(path, filename)}')\n",
      "/Users/cmarshak/miniforge3/envs/dist-s1/lib/python3.12/site-packages/asf_search/download/download.py:68: UserWarning: File already exists, skipping download: out/jebel_ali_flood/dswx_hls/2024-04-27__L8/OPERA_L3_DSWx-HLS_T40RDP_20240427T064535Z_20240429T073816Z_L8_30_v1.0_B01_WTR.tif\n",
      "  warnings.warn(f'File already exists, skipping download: {os.path.join(path, filename)}')\n",
      "/Users/cmarshak/miniforge3/envs/dist-s1/lib/python3.12/site-packages/asf_search/download/download.py:68: UserWarning: File already exists, skipping download: out/jebel_ali_flood/dswx_hls/2024-04-27__L8/OPERA_L3_DSWx-HLS_T40RDN_20240427T064535Z_20240429T073812Z_L8_30_v1.0_B01_WTR.tif\n",
      "  warnings.warn(f'File already exists, skipping download: {os.path.join(path, filename)}')\n",
      "dates:  23%|██       | 11/48 [00:03<00:13,  2.84it/s]/Users/cmarshak/miniforge3/envs/dist-s1/lib/python3.12/site-packages/asf_search/download/download.py:68: UserWarning: File already exists, skipping download: out/jebel_ali_flood/dswx_hls/2024-04-29__L8/OPERA_L3_DSWx-HLS_T40QDL_20240429T063359Z_20240501T165203Z_L8_30_v1.0_B01_WTR.tif\n",
      "  warnings.warn(f'File already exists, skipping download: {os.path.join(path, filename)}')\n",
      "dates:  25%|██▎      | 12/48 [00:04<00:12,  2.94it/s]/Users/cmarshak/miniforge3/envs/dist-s1/lib/python3.12/site-packages/asf_search/download/download.py:68: UserWarning: File already exists, skipping download: out/jebel_ali_flood/dswx_hls/2024-05-04__L8/OPERA_L3_DSWx-HLS_T39RZH_20240504T065140Z_20240507T081211Z_L8_30_v1.0_B01_WTR.tif\n",
      "  warnings.warn(f'File already exists, skipping download: {os.path.join(path, filename)}')\n",
      "/Users/cmarshak/miniforge3/envs/dist-s1/lib/python3.12/site-packages/asf_search/download/download.py:68: UserWarning: File already exists, skipping download: out/jebel_ali_flood/dswx_hls/2024-05-04__L8/OPERA_L3_DSWx-HLS_T39QZG_20240504T065204Z_20240507T132602Z_L8_30_v1.0_B01_WTR.tif\n",
      "  warnings.warn(f'File already exists, skipping download: {os.path.join(path, filename)}')\n",
      "/Users/cmarshak/miniforge3/envs/dist-s1/lib/python3.12/site-packages/asf_search/download/download.py:68: UserWarning: File already exists, skipping download: out/jebel_ali_flood/dswx_hls/2024-05-04__L8/OPERA_L3_DSWx-HLS_T39QZF_20240504T065228Z_20240507T132600Z_L8_30_v1.0_B01_WTR.tif\n",
      "  warnings.warn(f'File already exists, skipping download: {os.path.join(path, filename)}')\n",
      "/Users/cmarshak/miniforge3/envs/dist-s1/lib/python3.12/site-packages/asf_search/download/download.py:68: UserWarning: File already exists, skipping download: out/jebel_ali_flood/dswx_hls/2024-05-04__L8/OPERA_L3_DSWx-HLS_T40QBL_20240504T065228Z_20240507T132551Z_L8_30_v1.0_B01_WTR.tif\n",
      "  warnings.warn(f'File already exists, skipping download: {os.path.join(path, filename)}')\n",
      "/Users/cmarshak/miniforge3/envs/dist-s1/lib/python3.12/site-packages/asf_search/download/download.py:68: UserWarning: File already exists, skipping download: out/jebel_ali_flood/dswx_hls/2024-05-04__L8/OPERA_L3_DSWx-HLS_T39RZJ_20240504T065140Z_20240507T081224Z_L8_30_v1.0_B01_WTR.tif\n",
      "  warnings.warn(f'File already exists, skipping download: {os.path.join(path, filename)}')\n",
      "/Users/cmarshak/miniforge3/envs/dist-s1/lib/python3.12/site-packages/asf_search/download/download.py:68: UserWarning: File already exists, skipping download: out/jebel_ali_flood/dswx_hls/2024-05-04__L8/OPERA_L3_DSWx-HLS_T40RBP_20240504T065140Z_20240507T081229Z_L8_30_v1.0_B01_WTR.tif\n",
      "  warnings.warn(f'File already exists, skipping download: {os.path.join(path, filename)}')\n",
      "/Users/cmarshak/miniforge3/envs/dist-s1/lib/python3.12/site-packages/asf_search/download/download.py:68: UserWarning: File already exists, skipping download: out/jebel_ali_flood/dswx_hls/2024-05-04__L8/OPERA_L3_DSWx-HLS_T40QBM_20240504T065204Z_20240507T081215Z_L8_30_v1.0_B01_WTR.tif\n",
      "  warnings.warn(f'File already exists, skipping download: {os.path.join(path, filename)}')\n",
      "/Users/cmarshak/miniforge3/envs/dist-s1/lib/python3.12/site-packages/asf_search/download/download.py:68: UserWarning: File already exists, skipping download: out/jebel_ali_flood/dswx_hls/2024-05-04__L8/OPERA_L3_DSWx-HLS_T40RBN_20240504T065140Z_20240507T081211Z_L8_30_v1.0_B01_WTR.tif\n",
      "  warnings.warn(f'File already exists, skipping download: {os.path.join(path, filename)}')\n",
      "dates:  27%|██▍      | 13/48 [00:04<00:13,  2.65it/s]/Users/cmarshak/miniforge3/envs/dist-s1/lib/python3.12/site-packages/asf_search/download/download.py:68: UserWarning: File already exists, skipping download: out/jebel_ali_flood/dswx_hls/2024-05-06__L8/OPERA_L3_DSWx-HLS_T40RDN_20240506T063917Z_20240509T063908Z_L8_30_v1.0_B01_WTR.tif\n",
      "  warnings.warn(f'File already exists, skipping download: {os.path.join(path, filename)}')\n",
      "/Users/cmarshak/miniforge3/envs/dist-s1/lib/python3.12/site-packages/asf_search/download/download.py:68: UserWarning: File already exists, skipping download: out/jebel_ali_flood/dswx_hls/2024-05-06__L8/OPERA_L3_DSWx-HLS_T40RCP_20240506T063917Z_20240509T063858Z_L8_30_v1.0_B01_WTR.tif\n",
      "  warnings.warn(f'File already exists, skipping download: {os.path.join(path, filename)}')\n",
      "/Users/cmarshak/miniforge3/envs/dist-s1/lib/python3.12/site-packages/asf_search/download/download.py:68: UserWarning: File already exists, skipping download: out/jebel_ali_flood/dswx_hls/2024-05-06__L8/OPERA_L3_DSWx-HLS_T40QDM_20240506T063941Z_20240509T063858Z_L8_30_v1.0_B01_WTR.tif\n",
      "  warnings.warn(f'File already exists, skipping download: {os.path.join(path, filename)}')\n",
      "/Users/cmarshak/miniforge3/envs/dist-s1/lib/python3.12/site-packages/asf_search/download/download.py:68: UserWarning: File already exists, skipping download: out/jebel_ali_flood/dswx_hls/2024-05-06__L8/OPERA_L3_DSWx-HLS_T40QCL_20240506T064005Z_20240509T100323Z_L8_30_v1.0_B01_WTR.tif\n",
      "  warnings.warn(f'File already exists, skipping download: {os.path.join(path, filename)}')\n",
      "/Users/cmarshak/miniforge3/envs/dist-s1/lib/python3.12/site-packages/asf_search/download/download.py:68: UserWarning: File already exists, skipping download: out/jebel_ali_flood/dswx_hls/2024-05-06__L8/OPERA_L3_DSWx-HLS_T40QDL_20240506T064005Z_20240509T021820Z_L8_30_v1.0_B01_WTR.tif\n",
      "  warnings.warn(f'File already exists, skipping download: {os.path.join(path, filename)}')\n",
      "/Users/cmarshak/miniforge3/envs/dist-s1/lib/python3.12/site-packages/asf_search/download/download.py:68: UserWarning: File already exists, skipping download: out/jebel_ali_flood/dswx_hls/2024-05-06__L8/OPERA_L3_DSWx-HLS_T40RDP_20240506T063917Z_20240509T063902Z_L8_30_v1.0_B01_WTR.tif\n",
      "  warnings.warn(f'File already exists, skipping download: {os.path.join(path, filename)}')\n",
      "/Users/cmarshak/miniforge3/envs/dist-s1/lib/python3.12/site-packages/asf_search/download/download.py:68: UserWarning: File already exists, skipping download: out/jebel_ali_flood/dswx_hls/2024-05-06__L8/OPERA_L3_DSWx-HLS_T40RCN_20240506T063941Z_20240509T021801Z_L8_30_v1.0_B01_WTR.tif\n",
      "  warnings.warn(f'File already exists, skipping download: {os.path.join(path, filename)}')\n",
      "/Users/cmarshak/miniforge3/envs/dist-s1/lib/python3.12/site-packages/asf_search/download/download.py:68: UserWarning: File already exists, skipping download: out/jebel_ali_flood/dswx_hls/2024-05-06__L8/OPERA_L3_DSWx-HLS_T40QCM_20240506T063941Z_20240509T063842Z_L8_30_v1.0_B01_WTR.tif\n",
      "  warnings.warn(f'File already exists, skipping download: {os.path.join(path, filename)}')\n",
      "dates:  29%|██▋      | 14/48 [00:04<00:12,  2.71it/s]/Users/cmarshak/miniforge3/envs/dist-s1/lib/python3.12/site-packages/asf_search/download/download.py:68: UserWarning: File already exists, skipping download: out/jebel_ali_flood/dswx_hls/2024-05-13__L8/OPERA_L3_DSWx-HLS_T40RBP_20240513T064521Z_20240515T104935Z_L8_30_v1.0_B01_WTR.tif\n",
      "  warnings.warn(f'File already exists, skipping download: {os.path.join(path, filename)}')\n",
      "/Users/cmarshak/miniforge3/envs/dist-s1/lib/python3.12/site-packages/asf_search/download/download.py:68: UserWarning: File already exists, skipping download: out/jebel_ali_flood/dswx_hls/2024-05-13__L8/OPERA_L3_DSWx-HLS_T40RBN_20240513T064521Z_20240515T104925Z_L8_30_v1.0_B01_WTR.tif\n",
      "  warnings.warn(f'File already exists, skipping download: {os.path.join(path, filename)}')\n",
      "/Users/cmarshak/miniforge3/envs/dist-s1/lib/python3.12/site-packages/asf_search/download/download.py:68: UserWarning: File already exists, skipping download: out/jebel_ali_flood/dswx_hls/2024-05-13__L8/OPERA_L3_DSWx-HLS_T40RCP_20240513T064521Z_20240515T104944Z_L8_30_v1.0_B01_WTR.tif\n",
      "  warnings.warn(f'File already exists, skipping download: {os.path.join(path, filename)}')\n",
      "/Users/cmarshak/miniforge3/envs/dist-s1/lib/python3.12/site-packages/asf_search/download/download.py:68: UserWarning: File already exists, skipping download: out/jebel_ali_flood/dswx_hls/2024-05-13__L8/OPERA_L3_DSWx-HLS_T40QDM_20240513T064545Z_20240515T104910Z_L8_30_v1.0_B01_WTR.tif\n",
      "  warnings.warn(f'File already exists, skipping download: {os.path.join(path, filename)}')\n",
      "/Users/cmarshak/miniforge3/envs/dist-s1/lib/python3.12/site-packages/asf_search/download/download.py:68: UserWarning: File already exists, skipping download: out/jebel_ali_flood/dswx_hls/2024-05-13__L8/OPERA_L3_DSWx-HLS_T39RZH_20240513T064545Z_20240515T104923Z_L8_30_v1.0_B01_WTR.tif\n",
      "  warnings.warn(f'File already exists, skipping download: {os.path.join(path, filename)}')\n",
      "/Users/cmarshak/miniforge3/envs/dist-s1/lib/python3.12/site-packages/asf_search/download/download.py:68: UserWarning: File already exists, skipping download: out/jebel_ali_flood/dswx_hls/2024-05-13__L8/OPERA_L3_DSWx-HLS_T40QCM_20240513T064545Z_20240515T104941Z_L8_30_v1.0_B01_WTR.tif\n",
      "  warnings.warn(f'File already exists, skipping download: {os.path.join(path, filename)}')\n",
      "/Users/cmarshak/miniforge3/envs/dist-s1/lib/python3.12/site-packages/asf_search/download/download.py:68: UserWarning: File already exists, skipping download: out/jebel_ali_flood/dswx_hls/2024-05-13__L8/OPERA_L3_DSWx-HLS_T39QZG_20240513T064545Z_20240515T104925Z_L8_30_v1.0_B01_WTR.tif\n",
      "  warnings.warn(f'File already exists, skipping download: {os.path.join(path, filename)}')\n",
      "/Users/cmarshak/miniforge3/envs/dist-s1/lib/python3.12/site-packages/asf_search/download/download.py:68: UserWarning: File already exists, skipping download: out/jebel_ali_flood/dswx_hls/2024-05-13__L8/OPERA_L3_DSWx-HLS_T40QBM_20240513T064545Z_20240515T104937Z_L8_30_v1.0_B01_WTR.tif\n",
      "  warnings.warn(f'File already exists, skipping download: {os.path.join(path, filename)}')\n",
      "/Users/cmarshak/miniforge3/envs/dist-s1/lib/python3.12/site-packages/asf_search/download/download.py:68: UserWarning: File already exists, skipping download: out/jebel_ali_flood/dswx_hls/2024-05-13__L8/OPERA_L3_DSWx-HLS_T40QCL_20240513T064609Z_20240515T104911Z_L8_30_v1.0_B01_WTR.tif\n",
      "  warnings.warn(f'File already exists, skipping download: {os.path.join(path, filename)}')\n",
      "/Users/cmarshak/miniforge3/envs/dist-s1/lib/python3.12/site-packages/asf_search/download/download.py:68: UserWarning: File already exists, skipping download: out/jebel_ali_flood/dswx_hls/2024-05-13__L8/OPERA_L3_DSWx-HLS_T39QZF_20240513T064609Z_20240515T104923Z_L8_30_v1.0_B01_WTR.tif\n",
      "  warnings.warn(f'File already exists, skipping download: {os.path.join(path, filename)}')\n",
      "/Users/cmarshak/miniforge3/envs/dist-s1/lib/python3.12/site-packages/asf_search/download/download.py:68: UserWarning: File already exists, skipping download: out/jebel_ali_flood/dswx_hls/2024-05-13__L8/OPERA_L3_DSWx-HLS_T40QBL_20240513T064609Z_20240517T134009Z_L8_30_v1.0_B01_WTR.tif\n",
      "  warnings.warn(f'File already exists, skipping download: {os.path.join(path, filename)}')\n",
      "/Users/cmarshak/miniforge3/envs/dist-s1/lib/python3.12/site-packages/asf_search/download/download.py:68: UserWarning: File already exists, skipping download: out/jebel_ali_flood/dswx_hls/2024-05-13__L8/OPERA_L3_DSWx-HLS_T40RCN_20240513T064521Z_20240515T104929Z_L8_30_v1.0_B01_WTR.tif\n",
      "  warnings.warn(f'File already exists, skipping download: {os.path.join(path, filename)}')\n",
      "/Users/cmarshak/miniforge3/envs/dist-s1/lib/python3.12/site-packages/asf_search/download/download.py:68: UserWarning: File already exists, skipping download: out/jebel_ali_flood/dswx_hls/2024-05-13__L8/OPERA_L3_DSWx-HLS_T39RZJ_20240513T064521Z_20240515T104944Z_L8_30_v1.0_B01_WTR.tif\n",
      "  warnings.warn(f'File already exists, skipping download: {os.path.join(path, filename)}')\n",
      "/Users/cmarshak/miniforge3/envs/dist-s1/lib/python3.12/site-packages/asf_search/download/download.py:68: UserWarning: File already exists, skipping download: out/jebel_ali_flood/dswx_hls/2024-05-13__L8/OPERA_L3_DSWx-HLS_T40RDP_20240513T064521Z_20240515T104927Z_L8_30_v1.0_B01_WTR.tif\n",
      "  warnings.warn(f'File already exists, skipping download: {os.path.join(path, filename)}')\n",
      "/Users/cmarshak/miniforge3/envs/dist-s1/lib/python3.12/site-packages/asf_search/download/download.py:68: UserWarning: File already exists, skipping download: out/jebel_ali_flood/dswx_hls/2024-05-13__L8/OPERA_L3_DSWx-HLS_T40RDN_20240513T064521Z_20240515T104923Z_L8_30_v1.0_B01_WTR.tif\n",
      "  warnings.warn(f'File already exists, skipping download: {os.path.join(path, filename)}')\n",
      "dates:  31%|██▊      | 15/48 [00:05<00:12,  2.74it/s]/Users/cmarshak/miniforge3/envs/dist-s1/lib/python3.12/site-packages/asf_search/download/download.py:68: UserWarning: File already exists, skipping download: out/jebel_ali_flood/dswx_hls/2024-05-15__L8/OPERA_L3_DSWx-HLS_T40QDL_20240515T063344Z_20240517T174159Z_L8_30_v1.0_B01_WTR.tif\n",
      "  warnings.warn(f'File already exists, skipping download: {os.path.join(path, filename)}')\n",
      "dates:  33%|███      | 16/48 [00:05<00:11,  2.88it/s]/Users/cmarshak/miniforge3/envs/dist-s1/lib/python3.12/site-packages/asf_search/download/download.py:68: UserWarning: File already exists, skipping download: out/jebel_ali_flood/dswx_hls/2024-03-18__S2A/OPERA_L3_DSWx-HLS_T40RDP_20240318T064621Z_20240409T013959Z_S2A_30_v1.0_B01_WTR.tif\n",
      "  warnings.warn(f'File already exists, skipping download: {os.path.join(path, filename)}')\n",
      "/Users/cmarshak/miniforge3/envs/dist-s1/lib/python3.12/site-packages/asf_search/download/download.py:68: UserWarning: File already exists, skipping download: out/jebel_ali_flood/dswx_hls/2024-03-18__S2A/OPERA_L3_DSWx-HLS_T40RCN_20240318T064621Z_20240322T081850Z_S2A_30_v1.0_B01_WTR.tif\n",
      "  warnings.warn(f'File already exists, skipping download: {os.path.join(path, filename)}')\n",
      "/Users/cmarshak/miniforge3/envs/dist-s1/lib/python3.12/site-packages/asf_search/download/download.py:68: UserWarning: File already exists, skipping download: out/jebel_ali_flood/dswx_hls/2024-03-18__S2A/OPERA_L3_DSWx-HLS_T40RBN_20240318T064621Z_20240322T081844Z_S2A_30_v1.0_B01_WTR.tif\n",
      "  warnings.warn(f'File already exists, skipping download: {os.path.join(path, filename)}')\n",
      "/Users/cmarshak/miniforge3/envs/dist-s1/lib/python3.12/site-packages/asf_search/download/download.py:68: UserWarning: File already exists, skipping download: out/jebel_ali_flood/dswx_hls/2024-03-18__S2A/OPERA_L3_DSWx-HLS_T39RZH_20240318T064621Z_20240322T081851Z_S2A_30_v1.0_B01_WTR.tif\n",
      "  warnings.warn(f'File already exists, skipping download: {os.path.join(path, filename)}')\n",
      "/Users/cmarshak/miniforge3/envs/dist-s1/lib/python3.12/site-packages/asf_search/download/download.py:68: UserWarning: File already exists, skipping download: out/jebel_ali_flood/dswx_hls/2024-03-18__S2A/OPERA_L3_DSWx-HLS_T40QDM_20240318T064621Z_20240322T075445Z_S2A_30_v1.0_B01_WTR.tif\n",
      "  warnings.warn(f'File already exists, skipping download: {os.path.join(path, filename)}')\n",
      "/Users/cmarshak/miniforge3/envs/dist-s1/lib/python3.12/site-packages/asf_search/download/download.py:68: UserWarning: File already exists, skipping download: out/jebel_ali_flood/dswx_hls/2024-03-18__S2A/OPERA_L3_DSWx-HLS_T40QCM_20240318T064621Z_20240322T081843Z_S2A_30_v1.0_B01_WTR.tif\n",
      "  warnings.warn(f'File already exists, skipping download: {os.path.join(path, filename)}')\n",
      "/Users/cmarshak/miniforge3/envs/dist-s1/lib/python3.12/site-packages/asf_search/download/download.py:68: UserWarning: File already exists, skipping download: out/jebel_ali_flood/dswx_hls/2024-03-18__S2A/OPERA_L3_DSWx-HLS_T40QBM_20240318T064621Z_20240322T062254Z_S2A_30_v1.0_B01_WTR.tif\n",
      "  warnings.warn(f'File already exists, skipping download: {os.path.join(path, filename)}')\n",
      "/Users/cmarshak/miniforge3/envs/dist-s1/lib/python3.12/site-packages/asf_search/download/download.py:68: UserWarning: File already exists, skipping download: out/jebel_ali_flood/dswx_hls/2024-03-18__S2A/OPERA_L3_DSWx-HLS_T39QZG_20240318T064621Z_20240322T054852Z_S2A_30_v1.0_B01_WTR.tif\n",
      "  warnings.warn(f'File already exists, skipping download: {os.path.join(path, filename)}')\n",
      "/Users/cmarshak/miniforge3/envs/dist-s1/lib/python3.12/site-packages/asf_search/download/download.py:68: UserWarning: File already exists, skipping download: out/jebel_ali_flood/dswx_hls/2024-03-18__S2A/OPERA_L3_DSWx-HLS_T40QDL_20240318T064621Z_20240322T054838Z_S2A_30_v1.0_B01_WTR.tif\n",
      "  warnings.warn(f'File already exists, skipping download: {os.path.join(path, filename)}')\n",
      "/Users/cmarshak/miniforge3/envs/dist-s1/lib/python3.12/site-packages/asf_search/download/download.py:68: UserWarning: File already exists, skipping download: out/jebel_ali_flood/dswx_hls/2024-03-18__S2A/OPERA_L3_DSWx-HLS_T40QCL_20240318T064621Z_20240322T054835Z_S2A_30_v1.0_B01_WTR.tif\n",
      "  warnings.warn(f'File already exists, skipping download: {os.path.join(path, filename)}')\n",
      "/Users/cmarshak/miniforge3/envs/dist-s1/lib/python3.12/site-packages/asf_search/download/download.py:68: UserWarning: File already exists, skipping download: out/jebel_ali_flood/dswx_hls/2024-03-18__S2A/OPERA_L3_DSWx-HLS_T40QBL_20240318T064621Z_20240322T161238Z_S2A_30_v1.0_B01_WTR.tif\n",
      "  warnings.warn(f'File already exists, skipping download: {os.path.join(path, filename)}')\n",
      "/Users/cmarshak/miniforge3/envs/dist-s1/lib/python3.12/site-packages/asf_search/download/download.py:68: UserWarning: File already exists, skipping download: out/jebel_ali_flood/dswx_hls/2024-03-18__S2A/OPERA_L3_DSWx-HLS_T39QZF_20240318T064621Z_20240322T054835Z_S2A_30_v1.0_B01_WTR.tif\n",
      "  warnings.warn(f'File already exists, skipping download: {os.path.join(path, filename)}')\n",
      "/Users/cmarshak/miniforge3/envs/dist-s1/lib/python3.12/site-packages/asf_search/download/download.py:68: UserWarning: File already exists, skipping download: out/jebel_ali_flood/dswx_hls/2024-03-18__S2A/OPERA_L3_DSWx-HLS_T40RCP_20240318T064621Z_20240322T140614Z_S2A_30_v1.0_B01_WTR.tif\n",
      "  warnings.warn(f'File already exists, skipping download: {os.path.join(path, filename)}')\n",
      "/Users/cmarshak/miniforge3/envs/dist-s1/lib/python3.12/site-packages/asf_search/download/download.py:68: UserWarning: File already exists, skipping download: out/jebel_ali_flood/dswx_hls/2024-03-18__S2A/OPERA_L3_DSWx-HLS_T40RBP_20240318T064621Z_20240322T161238Z_S2A_30_v1.0_B01_WTR.tif\n",
      "  warnings.warn(f'File already exists, skipping download: {os.path.join(path, filename)}')\n",
      "/Users/cmarshak/miniforge3/envs/dist-s1/lib/python3.12/site-packages/asf_search/download/download.py:68: UserWarning: File already exists, skipping download: out/jebel_ali_flood/dswx_hls/2024-03-18__S2A/OPERA_L3_DSWx-HLS_T39RZJ_20240318T064621Z_20240322T054842Z_S2A_30_v1.0_B01_WTR.tif\n",
      "  warnings.warn(f'File already exists, skipping download: {os.path.join(path, filename)}')\n",
      "/Users/cmarshak/miniforge3/envs/dist-s1/lib/python3.12/site-packages/asf_search/download/download.py:68: UserWarning: File already exists, skipping download: out/jebel_ali_flood/dswx_hls/2024-03-18__S2A/OPERA_L3_DSWx-HLS_T40RDN_20240318T064621Z_20240322T054845Z_S2A_30_v1.0_B01_WTR.tif\n",
      "  warnings.warn(f'File already exists, skipping download: {os.path.join(path, filename)}')\n",
      "dates:  35%|███▏     | 17/48 [00:05<00:10,  2.87it/s]/Users/cmarshak/miniforge3/envs/dist-s1/lib/python3.12/site-packages/asf_search/download/download.py:68: UserWarning: File already exists, skipping download: out/jebel_ali_flood/dswx_hls/2024-03-21__S2A/OPERA_L3_DSWx-HLS_T40RBN_20240321T065621Z_20240323T123925Z_S2A_30_v1.0_B01_WTR.tif\n",
      "  warnings.warn(f'File already exists, skipping download: {os.path.join(path, filename)}')\n",
      "/Users/cmarshak/miniforge3/envs/dist-s1/lib/python3.12/site-packages/asf_search/download/download.py:68: UserWarning: File already exists, skipping download: out/jebel_ali_flood/dswx_hls/2024-03-21__S2A/OPERA_L3_DSWx-HLS_T40QBM_20240321T065621Z_20240323T123929Z_S2A_30_v1.0_B01_WTR.tif\n",
      "  warnings.warn(f'File already exists, skipping download: {os.path.join(path, filename)}')\n",
      "/Users/cmarshak/miniforge3/envs/dist-s1/lib/python3.12/site-packages/asf_search/download/download.py:68: UserWarning: File already exists, skipping download: out/jebel_ali_flood/dswx_hls/2024-03-21__S2A/OPERA_L3_DSWx-HLS_T39QZG_20240321T065621Z_20240323T123843Z_S2A_30_v1.0_B01_WTR.tif\n",
      "  warnings.warn(f'File already exists, skipping download: {os.path.join(path, filename)}')\n",
      "/Users/cmarshak/miniforge3/envs/dist-s1/lib/python3.12/site-packages/asf_search/download/download.py:68: UserWarning: File already exists, skipping download: out/jebel_ali_flood/dswx_hls/2024-03-21__S2A/OPERA_L3_DSWx-HLS_T40QBL_20240321T065621Z_20240323T123852Z_S2A_30_v1.0_B01_WTR.tif\n",
      "  warnings.warn(f'File already exists, skipping download: {os.path.join(path, filename)}')\n",
      "/Users/cmarshak/miniforge3/envs/dist-s1/lib/python3.12/site-packages/asf_search/download/download.py:68: UserWarning: File already exists, skipping download: out/jebel_ali_flood/dswx_hls/2024-03-21__S2A/OPERA_L3_DSWx-HLS_T39QZF_20240321T065621Z_20240323T123859Z_S2A_30_v1.0_B01_WTR.tif\n",
      "  warnings.warn(f'File already exists, skipping download: {os.path.join(path, filename)}')\n",
      "/Users/cmarshak/miniforge3/envs/dist-s1/lib/python3.12/site-packages/asf_search/download/download.py:68: UserWarning: File already exists, skipping download: out/jebel_ali_flood/dswx_hls/2024-03-21__S2A/OPERA_L3_DSWx-HLS_T39RZJ_20240321T065621Z_20240323T163131Z_S2A_30_v1.0_B01_WTR.tif\n",
      "  warnings.warn(f'File already exists, skipping download: {os.path.join(path, filename)}')\n",
      "/Users/cmarshak/miniforge3/envs/dist-s1/lib/python3.12/site-packages/asf_search/download/download.py:68: UserWarning: File already exists, skipping download: out/jebel_ali_flood/dswx_hls/2024-03-21__S2A/OPERA_L3_DSWx-HLS_T40RBP_20240321T065621Z_20240408T231527Z_S2A_30_v1.0_B01_WTR.tif\n",
      "  warnings.warn(f'File already exists, skipping download: {os.path.join(path, filename)}')\n",
      "/Users/cmarshak/miniforge3/envs/dist-s1/lib/python3.12/site-packages/asf_search/download/download.py:68: UserWarning: File already exists, skipping download: out/jebel_ali_flood/dswx_hls/2024-03-21__S2A/OPERA_L3_DSWx-HLS_T40RCP_20240321T065621Z_20240323T123847Z_S2A_30_v1.0_B01_WTR.tif\n",
      "  warnings.warn(f'File already exists, skipping download: {os.path.join(path, filename)}')\n",
      "/Users/cmarshak/miniforge3/envs/dist-s1/lib/python3.12/site-packages/asf_search/download/download.py:68: UserWarning: File already exists, skipping download: out/jebel_ali_flood/dswx_hls/2024-03-21__S2A/OPERA_L3_DSWx-HLS_T39RZH_20240321T065621Z_20240323T163159Z_S2A_30_v1.0_B01_WTR.tif\n",
      "  warnings.warn(f'File already exists, skipping download: {os.path.join(path, filename)}')\n",
      "dates:  38%|███▍     | 18/48 [00:06<00:10,  2.85it/s]/Users/cmarshak/miniforge3/envs/dist-s1/lib/python3.12/site-packages/asf_search/download/download.py:68: UserWarning: File already exists, skipping download: out/jebel_ali_flood/dswx_hls/2024-03-25__S2A/OPERA_L3_DSWx-HLS_T40RDP_20240325T063631Z_20240327T102638Z_S2A_30_v1.0_B01_WTR.tif\n",
      "  warnings.warn(f'File already exists, skipping download: {os.path.join(path, filename)}')\n",
      "/Users/cmarshak/miniforge3/envs/dist-s1/lib/python3.12/site-packages/asf_search/download/download.py:68: UserWarning: File already exists, skipping download: out/jebel_ali_flood/dswx_hls/2024-03-25__S2A/OPERA_L3_DSWx-HLS_T40QDM_20240325T063631Z_20240327T102629Z_S2A_30_v1.0_B01_WTR.tif\n",
      "  warnings.warn(f'File already exists, skipping download: {os.path.join(path, filename)}')\n",
      "/Users/cmarshak/miniforge3/envs/dist-s1/lib/python3.12/site-packages/asf_search/download/download.py:68: UserWarning: File already exists, skipping download: out/jebel_ali_flood/dswx_hls/2024-03-25__S2A/OPERA_L3_DSWx-HLS_T40RDN_20240325T063631Z_20240327T150507Z_S2A_30_v1.0_B01_WTR.tif\n",
      "  warnings.warn(f'File already exists, skipping download: {os.path.join(path, filename)}')\n",
      "/Users/cmarshak/miniforge3/envs/dist-s1/lib/python3.12/site-packages/asf_search/download/download.py:68: UserWarning: File already exists, skipping download: out/jebel_ali_flood/dswx_hls/2024-03-25__S2A/OPERA_L3_DSWx-HLS_T40QDL_20240325T063631Z_20240327T150345Z_S2A_30_v1.0_B01_WTR.tif\n",
      "  warnings.warn(f'File already exists, skipping download: {os.path.join(path, filename)}')\n",
      "dates:  40%|███▌     | 19/48 [00:06<00:10,  2.85it/s]/Users/cmarshak/miniforge3/envs/dist-s1/lib/python3.12/site-packages/asf_search/download/download.py:68: UserWarning: File already exists, skipping download: out/jebel_ali_flood/dswx_hls/2024-03-28__S2A/OPERA_L3_DSWx-HLS_T40RDP_20240328T064621Z_20240330T155126Z_S2A_30_v1.0_B01_WTR.tif\n",
      "  warnings.warn(f'File already exists, skipping download: {os.path.join(path, filename)}')\n",
      "/Users/cmarshak/miniforge3/envs/dist-s1/lib/python3.12/site-packages/asf_search/download/download.py:68: UserWarning: File already exists, skipping download: out/jebel_ali_flood/dswx_hls/2024-03-28__S2A/OPERA_L3_DSWx-HLS_T40RCN_20240328T064621Z_20240330T180856Z_S2A_30_v1.0_B01_WTR.tif\n",
      "  warnings.warn(f'File already exists, skipping download: {os.path.join(path, filename)}')\n",
      "/Users/cmarshak/miniforge3/envs/dist-s1/lib/python3.12/site-packages/asf_search/download/download.py:68: UserWarning: File already exists, skipping download: out/jebel_ali_flood/dswx_hls/2024-03-28__S2A/OPERA_L3_DSWx-HLS_T40RBN_20240328T064621Z_20240330T155046Z_S2A_30_v1.0_B01_WTR.tif\n",
      "  warnings.warn(f'File already exists, skipping download: {os.path.join(path, filename)}')\n",
      "/Users/cmarshak/miniforge3/envs/dist-s1/lib/python3.12/site-packages/asf_search/download/download.py:68: UserWarning: File already exists, skipping download: out/jebel_ali_flood/dswx_hls/2024-03-28__S2A/OPERA_L3_DSWx-HLS_T39RZH_20240328T064621Z_20240330T155045Z_S2A_30_v1.0_B01_WTR.tif\n",
      "  warnings.warn(f'File already exists, skipping download: {os.path.join(path, filename)}')\n",
      "/Users/cmarshak/miniforge3/envs/dist-s1/lib/python3.12/site-packages/asf_search/download/download.py:68: UserWarning: File already exists, skipping download: out/jebel_ali_flood/dswx_hls/2024-03-28__S2A/OPERA_L3_DSWx-HLS_T40QDM_20240328T064621Z_20240330T155118Z_S2A_30_v1.0_B01_WTR.tif\n",
      "  warnings.warn(f'File already exists, skipping download: {os.path.join(path, filename)}')\n",
      "/Users/cmarshak/miniforge3/envs/dist-s1/lib/python3.12/site-packages/asf_search/download/download.py:68: UserWarning: File already exists, skipping download: out/jebel_ali_flood/dswx_hls/2024-03-28__S2A/OPERA_L3_DSWx-HLS_T40QCM_20240328T064621Z_20240330T155022Z_S2A_30_v1.0_B01_WTR.tif\n",
      "  warnings.warn(f'File already exists, skipping download: {os.path.join(path, filename)}')\n",
      "/Users/cmarshak/miniforge3/envs/dist-s1/lib/python3.12/site-packages/asf_search/download/download.py:68: UserWarning: File already exists, skipping download: out/jebel_ali_flood/dswx_hls/2024-03-28__S2A/OPERA_L3_DSWx-HLS_T40QBM_20240328T064621Z_20240330T155011Z_S2A_30_v1.0_B01_WTR.tif\n",
      "  warnings.warn(f'File already exists, skipping download: {os.path.join(path, filename)}')\n",
      "/Users/cmarshak/miniforge3/envs/dist-s1/lib/python3.12/site-packages/asf_search/download/download.py:68: UserWarning: File already exists, skipping download: out/jebel_ali_flood/dswx_hls/2024-03-28__S2A/OPERA_L3_DSWx-HLS_T39QZG_20240328T064621Z_20240330T175901Z_S2A_30_v1.0_B01_WTR.tif\n",
      "  warnings.warn(f'File already exists, skipping download: {os.path.join(path, filename)}')\n",
      "/Users/cmarshak/miniforge3/envs/dist-s1/lib/python3.12/site-packages/asf_search/download/download.py:68: UserWarning: File already exists, skipping download: out/jebel_ali_flood/dswx_hls/2024-03-28__S2A/OPERA_L3_DSWx-HLS_T40QDL_20240328T064621Z_20240330T175907Z_S2A_30_v1.0_B01_WTR.tif\n",
      "  warnings.warn(f'File already exists, skipping download: {os.path.join(path, filename)}')\n",
      "/Users/cmarshak/miniforge3/envs/dist-s1/lib/python3.12/site-packages/asf_search/download/download.py:68: UserWarning: File already exists, skipping download: out/jebel_ali_flood/dswx_hls/2024-03-28__S2A/OPERA_L3_DSWx-HLS_T39RZJ_20240328T064621Z_20240330T155059Z_S2A_30_v1.0_B01_WTR.tif\n",
      "  warnings.warn(f'File already exists, skipping download: {os.path.join(path, filename)}')\n",
      "/Users/cmarshak/miniforge3/envs/dist-s1/lib/python3.12/site-packages/asf_search/download/download.py:68: UserWarning: File already exists, skipping download: out/jebel_ali_flood/dswx_hls/2024-03-28__S2A/OPERA_L3_DSWx-HLS_T40QCL_20240328T064621Z_20240330T105032Z_S2A_30_v1.0_B01_WTR.tif\n",
      "  warnings.warn(f'File already exists, skipping download: {os.path.join(path, filename)}')\n",
      "/Users/cmarshak/miniforge3/envs/dist-s1/lib/python3.12/site-packages/asf_search/download/download.py:68: UserWarning: File already exists, skipping download: out/jebel_ali_flood/dswx_hls/2024-03-28__S2A/OPERA_L3_DSWx-HLS_T39QZF_20240328T064621Z_20240330T155033Z_S2A_30_v1.0_B01_WTR.tif\n",
      "  warnings.warn(f'File already exists, skipping download: {os.path.join(path, filename)}')\n",
      "/Users/cmarshak/miniforge3/envs/dist-s1/lib/python3.12/site-packages/asf_search/download/download.py:68: UserWarning: File already exists, skipping download: out/jebel_ali_flood/dswx_hls/2024-03-28__S2A/OPERA_L3_DSWx-HLS_T40RBP_20240328T064621Z_20240330T155042Z_S2A_30_v1.0_B01_WTR.tif\n",
      "  warnings.warn(f'File already exists, skipping download: {os.path.join(path, filename)}')\n",
      "/Users/cmarshak/miniforge3/envs/dist-s1/lib/python3.12/site-packages/asf_search/download/download.py:68: UserWarning: File already exists, skipping download: out/jebel_ali_flood/dswx_hls/2024-03-28__S2A/OPERA_L3_DSWx-HLS_T40QBL_20240328T064621Z_20240330T105021Z_S2A_30_v1.0_B01_WTR.tif\n",
      "  warnings.warn(f'File already exists, skipping download: {os.path.join(path, filename)}')\n",
      "/Users/cmarshak/miniforge3/envs/dist-s1/lib/python3.12/site-packages/asf_search/download/download.py:68: UserWarning: File already exists, skipping download: out/jebel_ali_flood/dswx_hls/2024-03-28__S2A/OPERA_L3_DSWx-HLS_T40RCP_20240328T064621Z_20240330T155121Z_S2A_30_v1.0_B01_WTR.tif\n",
      "  warnings.warn(f'File already exists, skipping download: {os.path.join(path, filename)}')\n",
      "/Users/cmarshak/miniforge3/envs/dist-s1/lib/python3.12/site-packages/asf_search/download/download.py:68: UserWarning: File already exists, skipping download: out/jebel_ali_flood/dswx_hls/2024-03-28__S2A/OPERA_L3_DSWx-HLS_T40RDN_20240328T064621Z_20240330T155140Z_S2A_30_v1.0_B01_WTR.tif\n",
      "  warnings.warn(f'File already exists, skipping download: {os.path.join(path, filename)}')\n",
      "dates:  42%|███▊     | 20/48 [00:07<00:09,  2.84it/s]/Users/cmarshak/miniforge3/envs/dist-s1/lib/python3.12/site-packages/asf_search/download/download.py:68: UserWarning: File already exists, skipping download: out/jebel_ali_flood/dswx_hls/2024-04-04__S2A/OPERA_L3_DSWx-HLS_T40QDL_20240404T063621Z_20240408T230242Z_S2A_30_v1.0_B01_WTR.tif\n",
      "  warnings.warn(f'File already exists, skipping download: {os.path.join(path, filename)}')\n",
      "/Users/cmarshak/miniforge3/envs/dist-s1/lib/python3.12/site-packages/asf_search/download/download.py:68: UserWarning: File already exists, skipping download: out/jebel_ali_flood/dswx_hls/2024-04-04__S2A/OPERA_L3_DSWx-HLS_T40RDN_20240404T063621Z_20240406T211432Z_S2A_30_v1.0_B01_WTR.tif\n",
      "  warnings.warn(f'File already exists, skipping download: {os.path.join(path, filename)}')\n",
      "dates:  44%|███▉     | 21/48 [00:07<00:09,  2.91it/s]/Users/cmarshak/miniforge3/envs/dist-s1/lib/python3.12/site-packages/asf_search/download/download.py:68: UserWarning: File already exists, skipping download: out/jebel_ali_flood/dswx_hls/2024-04-07__S2A/OPERA_L3_DSWx-HLS_T40RCP_20240407T064621Z_20240411T151608Z_S2A_30_v1.0_B01_WTR.tif\n",
      "  warnings.warn(f'File already exists, skipping download: {os.path.join(path, filename)}')\n",
      "/Users/cmarshak/miniforge3/envs/dist-s1/lib/python3.12/site-packages/asf_search/download/download.py:68: UserWarning: File already exists, skipping download: out/jebel_ali_flood/dswx_hls/2024-04-07__S2A/OPERA_L3_DSWx-HLS_T39QZG_20240407T064621Z_20240411T032220Z_S2A_30_v1.0_B01_WTR.tif\n",
      "  warnings.warn(f'File already exists, skipping download: {os.path.join(path, filename)}')\n",
      "/Users/cmarshak/miniforge3/envs/dist-s1/lib/python3.12/site-packages/asf_search/download/download.py:68: UserWarning: File already exists, skipping download: out/jebel_ali_flood/dswx_hls/2024-04-07__S2A/OPERA_L3_DSWx-HLS_T40QCL_20240407T064621Z_20240411T154517Z_S2A_30_v1.0_B01_WTR.tif\n",
      "  warnings.warn(f'File already exists, skipping download: {os.path.join(path, filename)}')\n",
      "/Users/cmarshak/miniforge3/envs/dist-s1/lib/python3.12/site-packages/asf_search/download/download.py:68: UserWarning: File already exists, skipping download: out/jebel_ali_flood/dswx_hls/2024-04-07__S2A/OPERA_L3_DSWx-HLS_T40QBL_20240407T064621Z_20240411T021739Z_S2A_30_v1.0_B01_WTR.tif\n",
      "  warnings.warn(f'File already exists, skipping download: {os.path.join(path, filename)}')\n",
      "/Users/cmarshak/miniforge3/envs/dist-s1/lib/python3.12/site-packages/asf_search/download/download.py:68: UserWarning: File already exists, skipping download: out/jebel_ali_flood/dswx_hls/2024-04-07__S2A/OPERA_L3_DSWx-HLS_T39QZF_20240407T064621Z_20240411T032225Z_S2A_30_v1.0_B01_WTR.tif\n",
      "  warnings.warn(f'File already exists, skipping download: {os.path.join(path, filename)}')\n",
      "/Users/cmarshak/miniforge3/envs/dist-s1/lib/python3.12/site-packages/asf_search/download/download.py:68: UserWarning: File already exists, skipping download: out/jebel_ali_flood/dswx_hls/2024-04-07__S2A/OPERA_L3_DSWx-HLS_T40RDP_20240407T064621Z_20240411T062910Z_S2A_30_v1.0_B01_WTR.tif\n",
      "  warnings.warn(f'File already exists, skipping download: {os.path.join(path, filename)}')\n",
      "/Users/cmarshak/miniforge3/envs/dist-s1/lib/python3.12/site-packages/asf_search/download/download.py:68: UserWarning: File already exists, skipping download: out/jebel_ali_flood/dswx_hls/2024-04-07__S2A/OPERA_L3_DSWx-HLS_T40RDN_20240407T064621Z_20240411T032241Z_S2A_30_v1.0_B01_WTR.tif\n",
      "  warnings.warn(f'File already exists, skipping download: {os.path.join(path, filename)}')\n",
      "/Users/cmarshak/miniforge3/envs/dist-s1/lib/python3.12/site-packages/asf_search/download/download.py:68: UserWarning: File already exists, skipping download: out/jebel_ali_flood/dswx_hls/2024-04-07__S2A/OPERA_L3_DSWx-HLS_T39RZH_20240407T064621Z_20240411T154508Z_S2A_30_v1.0_B01_WTR.tif\n",
      "  warnings.warn(f'File already exists, skipping download: {os.path.join(path, filename)}')\n",
      "/Users/cmarshak/miniforge3/envs/dist-s1/lib/python3.12/site-packages/asf_search/download/download.py:68: UserWarning: File already exists, skipping download: out/jebel_ali_flood/dswx_hls/2024-04-07__S2A/OPERA_L3_DSWx-HLS_T40RBP_20240407T064621Z_20240411T151607Z_S2A_30_v1.0_B01_WTR.tif\n",
      "  warnings.warn(f'File already exists, skipping download: {os.path.join(path, filename)}')\n",
      "dates:  46%|████▏    | 22/48 [00:07<00:09,  2.89it/s]/Users/cmarshak/miniforge3/envs/dist-s1/lib/python3.12/site-packages/asf_search/download/download.py:68: UserWarning: File already exists, skipping download: out/jebel_ali_flood/dswx_hls/2024-04-10__S2A/OPERA_L3_DSWx-HLS_T40RCP_20240410T065621Z_20240412T105616Z_S2A_30_v1.0_B01_WTR.tif\n",
      "  warnings.warn(f'File already exists, skipping download: {os.path.join(path, filename)}')\n",
      "/Users/cmarshak/miniforge3/envs/dist-s1/lib/python3.12/site-packages/asf_search/download/download.py:68: UserWarning: File already exists, skipping download: out/jebel_ali_flood/dswx_hls/2024-04-10__S2A/OPERA_L3_DSWx-HLS_T39RZH_20240410T065621Z_20240412T105608Z_S2A_30_v1.0_B01_WTR.tif\n",
      "  warnings.warn(f'File already exists, skipping download: {os.path.join(path, filename)}')\n",
      "/Users/cmarshak/miniforge3/envs/dist-s1/lib/python3.12/site-packages/asf_search/download/download.py:68: UserWarning: File already exists, skipping download: out/jebel_ali_flood/dswx_hls/2024-04-10__S2A/OPERA_L3_DSWx-HLS_T39QZG_20240410T065621Z_20240412T105605Z_S2A_30_v1.0_B01_WTR.tif\n",
      "  warnings.warn(f'File already exists, skipping download: {os.path.join(path, filename)}')\n",
      "/Users/cmarshak/miniforge3/envs/dist-s1/lib/python3.12/site-packages/asf_search/download/download.py:68: UserWarning: File already exists, skipping download: out/jebel_ali_flood/dswx_hls/2024-04-10__S2A/OPERA_L3_DSWx-HLS_T40QBL_20240410T065621Z_20240412T083825Z_S2A_30_v1.0_B01_WTR.tif\n",
      "  warnings.warn(f'File already exists, skipping download: {os.path.join(path, filename)}')\n",
      "/Users/cmarshak/miniforge3/envs/dist-s1/lib/python3.12/site-packages/asf_search/download/download.py:68: UserWarning: File already exists, skipping download: out/jebel_ali_flood/dswx_hls/2024-04-10__S2A/OPERA_L3_DSWx-HLS_T39QZF_20240410T065621Z_20240412T083825Z_S2A_30_v1.0_B01_WTR.tif\n",
      "  warnings.warn(f'File already exists, skipping download: {os.path.join(path, filename)}')\n",
      "/Users/cmarshak/miniforge3/envs/dist-s1/lib/python3.12/site-packages/asf_search/download/download.py:68: UserWarning: File already exists, skipping download: out/jebel_ali_flood/dswx_hls/2024-04-10__S2A/OPERA_L3_DSWx-HLS_T40RBP_20240410T065621Z_20240412T105617Z_S2A_30_v1.0_B01_WTR.tif\n",
      "  warnings.warn(f'File already exists, skipping download: {os.path.join(path, filename)}')\n",
      "/Users/cmarshak/miniforge3/envs/dist-s1/lib/python3.12/site-packages/asf_search/download/download.py:68: UserWarning: File already exists, skipping download: out/jebel_ali_flood/dswx_hls/2024-04-10__S2A/OPERA_L3_DSWx-HLS_T39RZJ_20240410T065621Z_20240412T105613Z_S2A_30_v1.0_B01_WTR.tif\n",
      "  warnings.warn(f'File already exists, skipping download: {os.path.join(path, filename)}')\n",
      "/Users/cmarshak/miniforge3/envs/dist-s1/lib/python3.12/site-packages/asf_search/download/download.py:68: UserWarning: File already exists, skipping download: out/jebel_ali_flood/dswx_hls/2024-04-10__S2A/OPERA_L3_DSWx-HLS_T40QBM_20240410T065621Z_20240412T083818Z_S2A_30_v1.0_B01_WTR.tif\n",
      "  warnings.warn(f'File already exists, skipping download: {os.path.join(path, filename)}')\n",
      "dates:  48%|████▎    | 23/48 [00:08<00:08,  2.86it/s]/Users/cmarshak/miniforge3/envs/dist-s1/lib/python3.12/site-packages/asf_search/download/download.py:68: UserWarning: File already exists, skipping download: out/jebel_ali_flood/dswx_hls/2024-04-14__S2A/OPERA_L3_DSWx-HLS_T40RDN_20240414T063631Z_20240416T232137Z_S2A_30_v1.0_B01_WTR.tif\n",
      "  warnings.warn(f'File already exists, skipping download: {os.path.join(path, filename)}')\n",
      "/Users/cmarshak/miniforge3/envs/dist-s1/lib/python3.12/site-packages/asf_search/download/download.py:68: UserWarning: File already exists, skipping download: out/jebel_ali_flood/dswx_hls/2024-04-14__S2A/OPERA_L3_DSWx-HLS_T40QDM_20240414T063631Z_20240416T232128Z_S2A_30_v1.0_B01_WTR.tif\n",
      "  warnings.warn(f'File already exists, skipping download: {os.path.join(path, filename)}')\n",
      "/Users/cmarshak/miniforge3/envs/dist-s1/lib/python3.12/site-packages/asf_search/download/download.py:68: UserWarning: File already exists, skipping download: out/jebel_ali_flood/dswx_hls/2024-04-14__S2A/OPERA_L3_DSWx-HLS_T40QDL_20240414T063631Z_20240416T232136Z_S2A_30_v1.0_B01_WTR.tif\n",
      "  warnings.warn(f'File already exists, skipping download: {os.path.join(path, filename)}')\n",
      "/Users/cmarshak/miniforge3/envs/dist-s1/lib/python3.12/site-packages/asf_search/download/download.py:68: UserWarning: File already exists, skipping download: out/jebel_ali_flood/dswx_hls/2024-04-14__S2A/OPERA_L3_DSWx-HLS_T40RDP_20240414T063631Z_20240416T180054Z_S2A_30_v1.0_B01_WTR.tif\n",
      "  warnings.warn(f'File already exists, skipping download: {os.path.join(path, filename)}')\n",
      "dates:  50%|████▌    | 24/48 [00:08<00:08,  2.86it/s]/Users/cmarshak/miniforge3/envs/dist-s1/lib/python3.12/site-packages/asf_search/download/download.py:68: UserWarning: File already exists, skipping download: out/jebel_ali_flood/dswx_hls/2024-04-17__S2A/OPERA_L3_DSWx-HLS_T40RDP_20240417T064631Z_20240426T230237Z_S2A_30_v1.0_B01_WTR.tif\n",
      "  warnings.warn(f'File already exists, skipping download: {os.path.join(path, filename)}')\n",
      "/Users/cmarshak/miniforge3/envs/dist-s1/lib/python3.12/site-packages/asf_search/download/download.py:68: UserWarning: File already exists, skipping download: out/jebel_ali_flood/dswx_hls/2024-04-17__S2A/OPERA_L3_DSWx-HLS_T40RCP_20240417T064631Z_20240426T213557Z_S2A_30_v1.0_B01_WTR.tif\n",
      "  warnings.warn(f'File already exists, skipping download: {os.path.join(path, filename)}')\n",
      "/Users/cmarshak/miniforge3/envs/dist-s1/lib/python3.12/site-packages/asf_search/download/download.py:68: UserWarning: File already exists, skipping download: out/jebel_ali_flood/dswx_hls/2024-04-17__S2A/OPERA_L3_DSWx-HLS_T40RCN_20240417T064631Z_20240426T223546Z_S2A_30_v1.0_B01_WTR.tif\n",
      "  warnings.warn(f'File already exists, skipping download: {os.path.join(path, filename)}')\n",
      "/Users/cmarshak/miniforge3/envs/dist-s1/lib/python3.12/site-packages/asf_search/download/download.py:68: UserWarning: File already exists, skipping download: out/jebel_ali_flood/dswx_hls/2024-04-17__S2A/OPERA_L3_DSWx-HLS_T40RBN_20240417T064631Z_20240426T213550Z_S2A_30_v1.0_B01_WTR.tif\n",
      "  warnings.warn(f'File already exists, skipping download: {os.path.join(path, filename)}')\n",
      "/Users/cmarshak/miniforge3/envs/dist-s1/lib/python3.12/site-packages/asf_search/download/download.py:68: UserWarning: File already exists, skipping download: out/jebel_ali_flood/dswx_hls/2024-04-17__S2A/OPERA_L3_DSWx-HLS_T39RZH_20240417T064631Z_20240427T002706Z_S2A_30_v1.0_B01_WTR.tif\n",
      "  warnings.warn(f'File already exists, skipping download: {os.path.join(path, filename)}')\n",
      "/Users/cmarshak/miniforge3/envs/dist-s1/lib/python3.12/site-packages/asf_search/download/download.py:68: UserWarning: File already exists, skipping download: out/jebel_ali_flood/dswx_hls/2024-04-17__S2A/OPERA_L3_DSWx-HLS_T40QDM_20240417T064631Z_20240426T210636Z_S2A_30_v1.0_B01_WTR.tif\n",
      "  warnings.warn(f'File already exists, skipping download: {os.path.join(path, filename)}')\n",
      "/Users/cmarshak/miniforge3/envs/dist-s1/lib/python3.12/site-packages/asf_search/download/download.py:68: UserWarning: File already exists, skipping download: out/jebel_ali_flood/dswx_hls/2024-04-17__S2A/OPERA_L3_DSWx-HLS_T40QBM_20240417T064631Z_20240426T223547Z_S2A_30_v1.0_B01_WTR.tif\n",
      "  warnings.warn(f'File already exists, skipping download: {os.path.join(path, filename)}')\n",
      "/Users/cmarshak/miniforge3/envs/dist-s1/lib/python3.12/site-packages/asf_search/download/download.py:68: UserWarning: File already exists, skipping download: out/jebel_ali_flood/dswx_hls/2024-04-17__S2A/OPERA_L3_DSWx-HLS_T39RZJ_20240417T064631Z_20240426T213745Z_S2A_30_v1.0_B01_WTR.tif\n",
      "  warnings.warn(f'File already exists, skipping download: {os.path.join(path, filename)}')\n",
      "/Users/cmarshak/miniforge3/envs/dist-s1/lib/python3.12/site-packages/asf_search/download/download.py:68: UserWarning: File already exists, skipping download: out/jebel_ali_flood/dswx_hls/2024-04-17__S2A/OPERA_L3_DSWx-HLS_T39QZG_20240417T064631Z_20240426T223546Z_S2A_30_v1.0_B01_WTR.tif\n",
      "  warnings.warn(f'File already exists, skipping download: {os.path.join(path, filename)}')\n",
      "/Users/cmarshak/miniforge3/envs/dist-s1/lib/python3.12/site-packages/asf_search/download/download.py:68: UserWarning: File already exists, skipping download: out/jebel_ali_flood/dswx_hls/2024-04-17__S2A/OPERA_L3_DSWx-HLS_T40QDL_20240417T064631Z_20240426T210647Z_S2A_30_v1.0_B01_WTR.tif\n",
      "  warnings.warn(f'File already exists, skipping download: {os.path.join(path, filename)}')\n",
      "/Users/cmarshak/miniforge3/envs/dist-s1/lib/python3.12/site-packages/asf_search/download/download.py:68: UserWarning: File already exists, skipping download: out/jebel_ali_flood/dswx_hls/2024-04-17__S2A/OPERA_L3_DSWx-HLS_T40QCL_20240417T064631Z_20240426T203721Z_S2A_30_v1.0_B01_WTR.tif\n",
      "  warnings.warn(f'File already exists, skipping download: {os.path.join(path, filename)}')\n",
      "/Users/cmarshak/miniforge3/envs/dist-s1/lib/python3.12/site-packages/asf_search/download/download.py:68: UserWarning: File already exists, skipping download: out/jebel_ali_flood/dswx_hls/2024-04-17__S2A/OPERA_L3_DSWx-HLS_T40RBP_20240417T064631Z_20240426T210647Z_S2A_30_v1.0_B01_WTR.tif\n",
      "  warnings.warn(f'File already exists, skipping download: {os.path.join(path, filename)}')\n",
      "/Users/cmarshak/miniforge3/envs/dist-s1/lib/python3.12/site-packages/asf_search/download/download.py:68: UserWarning: File already exists, skipping download: out/jebel_ali_flood/dswx_hls/2024-04-17__S2A/OPERA_L3_DSWx-HLS_T39QZF_20240417T064631Z_20240427T005509Z_S2A_30_v1.0_B01_WTR.tif\n",
      "  warnings.warn(f'File already exists, skipping download: {os.path.join(path, filename)}')\n",
      "/Users/cmarshak/miniforge3/envs/dist-s1/lib/python3.12/site-packages/asf_search/download/download.py:68: UserWarning: File already exists, skipping download: out/jebel_ali_flood/dswx_hls/2024-04-17__S2A/OPERA_L3_DSWx-HLS_T40QCM_20240417T064631Z_20240426T235004Z_S2A_30_v1.0_B01_WTR.tif\n",
      "  warnings.warn(f'File already exists, skipping download: {os.path.join(path, filename)}')\n",
      "/Users/cmarshak/miniforge3/envs/dist-s1/lib/python3.12/site-packages/asf_search/download/download.py:68: UserWarning: File already exists, skipping download: out/jebel_ali_flood/dswx_hls/2024-04-17__S2A/OPERA_L3_DSWx-HLS_T40QBL_20240417T064631Z_20240426T210636Z_S2A_30_v1.0_B01_WTR.tif\n",
      "  warnings.warn(f'File already exists, skipping download: {os.path.join(path, filename)}')\n",
      "/Users/cmarshak/miniforge3/envs/dist-s1/lib/python3.12/site-packages/asf_search/download/download.py:68: UserWarning: File already exists, skipping download: out/jebel_ali_flood/dswx_hls/2024-04-17__S2A/OPERA_L3_DSWx-HLS_T40RDN_20240417T064631Z_20240426T223547Z_S2A_30_v1.0_B01_WTR.tif\n",
      "  warnings.warn(f'File already exists, skipping download: {os.path.join(path, filename)}')\n",
      "dates:  52%|████▋    | 25/48 [00:08<00:08,  2.84it/s]/Users/cmarshak/miniforge3/envs/dist-s1/lib/python3.12/site-packages/asf_search/download/download.py:68: UserWarning: File already exists, skipping download: out/jebel_ali_flood/dswx_hls/2024-04-20__S2A/OPERA_L3_DSWx-HLS_T40RCP_20240420T065621Z_20240424T235049Z_S2A_30_v1.0_B01_WTR.tif\n",
      "  warnings.warn(f'File already exists, skipping download: {os.path.join(path, filename)}')\n",
      "/Users/cmarshak/miniforge3/envs/dist-s1/lib/python3.12/site-packages/asf_search/download/download.py:68: UserWarning: File already exists, skipping download: out/jebel_ali_flood/dswx_hls/2024-04-20__S2A/OPERA_L3_DSWx-HLS_T40QBM_20240420T065621Z_20240424T235052Z_S2A_30_v1.0_B01_WTR.tif\n",
      "  warnings.warn(f'File already exists, skipping download: {os.path.join(path, filename)}')\n",
      "/Users/cmarshak/miniforge3/envs/dist-s1/lib/python3.12/site-packages/asf_search/download/download.py:68: UserWarning: File already exists, skipping download: out/jebel_ali_flood/dswx_hls/2024-04-20__S2A/OPERA_L3_DSWx-HLS_T39QZG_20240420T065621Z_20240426T215249Z_S2A_30_v1.0_B01_WTR.tif\n",
      "  warnings.warn(f'File already exists, skipping download: {os.path.join(path, filename)}')\n",
      "/Users/cmarshak/miniforge3/envs/dist-s1/lib/python3.12/site-packages/asf_search/download/download.py:68: UserWarning: File already exists, skipping download: out/jebel_ali_flood/dswx_hls/2024-04-20__S2A/OPERA_L3_DSWx-HLS_T40QBL_20240420T065621Z_20240424T235058Z_S2A_30_v1.0_B01_WTR.tif\n",
      "  warnings.warn(f'File already exists, skipping download: {os.path.join(path, filename)}')\n",
      "/Users/cmarshak/miniforge3/envs/dist-s1/lib/python3.12/site-packages/asf_search/download/download.py:68: UserWarning: File already exists, skipping download: out/jebel_ali_flood/dswx_hls/2024-04-20__S2A/OPERA_L3_DSWx-HLS_T39QZF_20240420T065621Z_20240426T215254Z_S2A_30_v1.0_B01_WTR.tif\n",
      "  warnings.warn(f'File already exists, skipping download: {os.path.join(path, filename)}')\n",
      "/Users/cmarshak/miniforge3/envs/dist-s1/lib/python3.12/site-packages/asf_search/download/download.py:68: UserWarning: File already exists, skipping download: out/jebel_ali_flood/dswx_hls/2024-04-20__S2A/OPERA_L3_DSWx-HLS_T39QZF_20240420T065621Z_20240426T232006Z_S2A_30_v1.0_B01_WTR.tif\n",
      "  warnings.warn(f'File already exists, skipping download: {os.path.join(path, filename)}')\n",
      "/Users/cmarshak/miniforge3/envs/dist-s1/lib/python3.12/site-packages/asf_search/download/download.py:68: UserWarning: File already exists, skipping download: out/jebel_ali_flood/dswx_hls/2024-04-20__S2A/OPERA_L3_DSWx-HLS_T40RBP_20240420T065621Z_20240426T212323Z_S2A_30_v1.0_B01_WTR.tif\n",
      "  warnings.warn(f'File already exists, skipping download: {os.path.join(path, filename)}')\n",
      "/Users/cmarshak/miniforge3/envs/dist-s1/lib/python3.12/site-packages/asf_search/download/download.py:68: UserWarning: File already exists, skipping download: out/jebel_ali_flood/dswx_hls/2024-04-20__S2A/OPERA_L3_DSWx-HLS_T39RZJ_20240420T065621Z_20240426T222232Z_S2A_30_v1.0_B01_WTR.tif\n",
      "  warnings.warn(f'File already exists, skipping download: {os.path.join(path, filename)}')\n",
      "/Users/cmarshak/miniforge3/envs/dist-s1/lib/python3.12/site-packages/asf_search/download/download.py:68: UserWarning: File already exists, skipping download: out/jebel_ali_flood/dswx_hls/2024-04-20__S2A/OPERA_L3_DSWx-HLS_T39RZH_20240420T065621Z_20240426T222233Z_S2A_30_v1.0_B01_WTR.tif\n",
      "  warnings.warn(f'File already exists, skipping download: {os.path.join(path, filename)}')\n",
      "/Users/cmarshak/miniforge3/envs/dist-s1/lib/python3.12/site-packages/asf_search/download/download.py:68: UserWarning: File already exists, skipping download: out/jebel_ali_flood/dswx_hls/2024-04-20__S2A/OPERA_L3_DSWx-HLS_T40RBN_20240420T065621Z_20240426T222229Z_S2A_30_v1.0_B01_WTR.tif\n",
      "  warnings.warn(f'File already exists, skipping download: {os.path.join(path, filename)}')\n",
      "dates:  54%|████▉    | 26/48 [00:09<00:07,  2.83it/s]/Users/cmarshak/miniforge3/envs/dist-s1/lib/python3.12/site-packages/asf_search/download/download.py:68: UserWarning: File already exists, skipping download: out/jebel_ali_flood/dswx_hls/2024-04-27__S2A/OPERA_L3_DSWx-HLS_T40RDP_20240427T064631Z_20240429T113427Z_S2A_30_v1.0_B01_WTR.tif\n",
      "  warnings.warn(f'File already exists, skipping download: {os.path.join(path, filename)}')\n",
      "/Users/cmarshak/miniforge3/envs/dist-s1/lib/python3.12/site-packages/asf_search/download/download.py:68: UserWarning: File already exists, skipping download: out/jebel_ali_flood/dswx_hls/2024-04-27__S2A/OPERA_L3_DSWx-HLS_T40RCN_20240427T064631Z_20240429T093329Z_S2A_30_v1.0_B01_WTR.tif\n",
      "  warnings.warn(f'File already exists, skipping download: {os.path.join(path, filename)}')\n",
      "/Users/cmarshak/miniforge3/envs/dist-s1/lib/python3.12/site-packages/asf_search/download/download.py:68: UserWarning: File already exists, skipping download: out/jebel_ali_flood/dswx_hls/2024-04-27__S2A/OPERA_L3_DSWx-HLS_T40RBN_20240427T064631Z_20240429T113425Z_S2A_30_v1.0_B01_WTR.tif\n",
      "  warnings.warn(f'File already exists, skipping download: {os.path.join(path, filename)}')\n",
      "/Users/cmarshak/miniforge3/envs/dist-s1/lib/python3.12/site-packages/asf_search/download/download.py:68: UserWarning: File already exists, skipping download: out/jebel_ali_flood/dswx_hls/2024-04-27__S2A/OPERA_L3_DSWx-HLS_T39RZH_20240427T064631Z_20240429T093325Z_S2A_30_v1.0_B01_WTR.tif\n",
      "  warnings.warn(f'File already exists, skipping download: {os.path.join(path, filename)}')\n",
      "/Users/cmarshak/miniforge3/envs/dist-s1/lib/python3.12/site-packages/asf_search/download/download.py:68: UserWarning: File already exists, skipping download: out/jebel_ali_flood/dswx_hls/2024-04-27__S2A/OPERA_L3_DSWx-HLS_T40QDM_20240427T064631Z_20240429T093320Z_S2A_30_v1.0_B01_WTR.tif\n",
      "  warnings.warn(f'File already exists, skipping download: {os.path.join(path, filename)}')\n",
      "/Users/cmarshak/miniforge3/envs/dist-s1/lib/python3.12/site-packages/asf_search/download/download.py:68: UserWarning: File already exists, skipping download: out/jebel_ali_flood/dswx_hls/2024-04-27__S2A/OPERA_L3_DSWx-HLS_T40QCM_20240427T064631Z_20240429T093326Z_S2A_30_v1.0_B01_WTR.tif\n",
      "  warnings.warn(f'File already exists, skipping download: {os.path.join(path, filename)}')\n",
      "/Users/cmarshak/miniforge3/envs/dist-s1/lib/python3.12/site-packages/asf_search/download/download.py:68: UserWarning: File already exists, skipping download: out/jebel_ali_flood/dswx_hls/2024-04-27__S2A/OPERA_L3_DSWx-HLS_T40QBM_20240427T064631Z_20240429T093323Z_S2A_30_v1.0_B01_WTR.tif\n",
      "  warnings.warn(f'File already exists, skipping download: {os.path.join(path, filename)}')\n",
      "/Users/cmarshak/miniforge3/envs/dist-s1/lib/python3.12/site-packages/asf_search/download/download.py:68: UserWarning: File already exists, skipping download: out/jebel_ali_flood/dswx_hls/2024-04-27__S2A/OPERA_L3_DSWx-HLS_T40QBM_20240427T064631Z_20240429T120341Z_S2A_30_v1.0_B01_WTR.tif\n",
      "  warnings.warn(f'File already exists, skipping download: {os.path.join(path, filename)}')\n",
      "/Users/cmarshak/miniforge3/envs/dist-s1/lib/python3.12/site-packages/asf_search/download/download.py:68: UserWarning: File already exists, skipping download: out/jebel_ali_flood/dswx_hls/2024-04-27__S2A/OPERA_L3_DSWx-HLS_T39QZG_20240427T064631Z_20240429T093308Z_S2A_30_v1.0_B01_WTR.tif\n",
      "  warnings.warn(f'File already exists, skipping download: {os.path.join(path, filename)}')\n",
      "/Users/cmarshak/miniforge3/envs/dist-s1/lib/python3.12/site-packages/asf_search/download/download.py:68: UserWarning: File already exists, skipping download: out/jebel_ali_flood/dswx_hls/2024-04-27__S2A/OPERA_L3_DSWx-HLS_T40QDL_20240427T064631Z_20240429T093325Z_S2A_30_v1.0_B01_WTR.tif\n",
      "  warnings.warn(f'File already exists, skipping download: {os.path.join(path, filename)}')\n",
      "/Users/cmarshak/miniforge3/envs/dist-s1/lib/python3.12/site-packages/asf_search/download/download.py:68: UserWarning: File already exists, skipping download: out/jebel_ali_flood/dswx_hls/2024-04-27__S2A/OPERA_L3_DSWx-HLS_T40QCL_20240427T064631Z_20240429T093325Z_S2A_30_v1.0_B01_WTR.tif\n",
      "  warnings.warn(f'File already exists, skipping download: {os.path.join(path, filename)}')\n",
      "/Users/cmarshak/miniforge3/envs/dist-s1/lib/python3.12/site-packages/asf_search/download/download.py:68: UserWarning: File already exists, skipping download: out/jebel_ali_flood/dswx_hls/2024-04-27__S2A/OPERA_L3_DSWx-HLS_T40QCL_20240427T064631Z_20240429T133138Z_S2A_30_v1.0_B01_WTR.tif\n",
      "  warnings.warn(f'File already exists, skipping download: {os.path.join(path, filename)}')\n",
      "/Users/cmarshak/miniforge3/envs/dist-s1/lib/python3.12/site-packages/asf_search/download/download.py:68: UserWarning: File already exists, skipping download: out/jebel_ali_flood/dswx_hls/2024-04-27__S2A/OPERA_L3_DSWx-HLS_T40QBL_20240427T064631Z_20240429T093322Z_S2A_30_v1.0_B01_WTR.tif\n",
      "  warnings.warn(f'File already exists, skipping download: {os.path.join(path, filename)}')\n",
      "/Users/cmarshak/miniforge3/envs/dist-s1/lib/python3.12/site-packages/asf_search/download/download.py:68: UserWarning: File already exists, skipping download: out/jebel_ali_flood/dswx_hls/2024-04-27__S2A/OPERA_L3_DSWx-HLS_T40QBL_20240427T064631Z_20240429T113423Z_S2A_30_v1.0_B01_WTR.tif\n",
      "  warnings.warn(f'File already exists, skipping download: {os.path.join(path, filename)}')\n",
      "/Users/cmarshak/miniforge3/envs/dist-s1/lib/python3.12/site-packages/asf_search/download/download.py:68: UserWarning: File already exists, skipping download: out/jebel_ali_flood/dswx_hls/2024-04-27__S2A/OPERA_L3_DSWx-HLS_T39QZF_20240427T064631Z_20240429T093310Z_S2A_30_v1.0_B01_WTR.tif\n",
      "  warnings.warn(f'File already exists, skipping download: {os.path.join(path, filename)}')\n",
      "/Users/cmarshak/miniforge3/envs/dist-s1/lib/python3.12/site-packages/asf_search/download/download.py:68: UserWarning: File already exists, skipping download: out/jebel_ali_flood/dswx_hls/2024-04-27__S2A/OPERA_L3_DSWx-HLS_T39QZF_20240427T064631Z_20240429T113420Z_S2A_30_v1.0_B01_WTR.tif\n",
      "  warnings.warn(f'File already exists, skipping download: {os.path.join(path, filename)}')\n",
      "/Users/cmarshak/miniforge3/envs/dist-s1/lib/python3.12/site-packages/asf_search/download/download.py:68: UserWarning: File already exists, skipping download: out/jebel_ali_flood/dswx_hls/2024-04-27__S2A/OPERA_L3_DSWx-HLS_T40RCP_20240427T064631Z_20240429T113427Z_S2A_30_v1.0_B01_WTR.tif\n",
      "  warnings.warn(f'File already exists, skipping download: {os.path.join(path, filename)}')\n",
      "/Users/cmarshak/miniforge3/envs/dist-s1/lib/python3.12/site-packages/asf_search/download/download.py:68: UserWarning: File already exists, skipping download: out/jebel_ali_flood/dswx_hls/2024-04-27__S2A/OPERA_L3_DSWx-HLS_T40RBP_20240427T064631Z_20240429T093338Z_S2A_30_v1.0_B01_WTR.tif\n",
      "  warnings.warn(f'File already exists, skipping download: {os.path.join(path, filename)}')\n",
      "/Users/cmarshak/miniforge3/envs/dist-s1/lib/python3.12/site-packages/asf_search/download/download.py:68: UserWarning: File already exists, skipping download: out/jebel_ali_flood/dswx_hls/2024-04-27__S2A/OPERA_L3_DSWx-HLS_T39RZJ_20240427T064631Z_20240429T073126Z_S2A_30_v1.0_B01_WTR.tif\n",
      "  warnings.warn(f'File already exists, skipping download: {os.path.join(path, filename)}')\n",
      "/Users/cmarshak/miniforge3/envs/dist-s1/lib/python3.12/site-packages/asf_search/download/download.py:68: UserWarning: File already exists, skipping download: out/jebel_ali_flood/dswx_hls/2024-04-27__S2A/OPERA_L3_DSWx-HLS_T40RDN_20240427T064631Z_20240429T120325Z_S2A_30_v1.0_B01_WTR.tif\n",
      "  warnings.warn(f'File already exists, skipping download: {os.path.join(path, filename)}')\n",
      "dates:  56%|█████    | 27/48 [00:09<00:07,  2.81it/s]/Users/cmarshak/miniforge3/envs/dist-s1/lib/python3.12/site-packages/asf_search/download/download.py:68: UserWarning: File already exists, skipping download: out/jebel_ali_flood/dswx_hls/2024-04-30__S2A/OPERA_L3_DSWx-HLS_T40RBN_20240430T065621Z_20240507T185237Z_S2A_30_v1.0_B01_WTR.tif\n",
      "  warnings.warn(f'File already exists, skipping download: {os.path.join(path, filename)}')\n",
      "/Users/cmarshak/miniforge3/envs/dist-s1/lib/python3.12/site-packages/asf_search/download/download.py:68: UserWarning: File already exists, skipping download: out/jebel_ali_flood/dswx_hls/2024-04-30__S2A/OPERA_L3_DSWx-HLS_T39RZJ_20240430T065621Z_20240507T223901Z_S2A_30_v1.0_B01_WTR.tif\n",
      "  warnings.warn(f'File already exists, skipping download: {os.path.join(path, filename)}')\n",
      "/Users/cmarshak/miniforge3/envs/dist-s1/lib/python3.12/site-packages/asf_search/download/download.py:68: UserWarning: File already exists, skipping download: out/jebel_ali_flood/dswx_hls/2024-04-30__S2A/OPERA_L3_DSWx-HLS_T40QBM_20240430T065621Z_20240507T034447Z_S2A_30_v1.0_B01_WTR.tif\n",
      "  warnings.warn(f'File already exists, skipping download: {os.path.join(path, filename)}')\n",
      "/Users/cmarshak/miniforge3/envs/dist-s1/lib/python3.12/site-packages/asf_search/download/download.py:68: UserWarning: File already exists, skipping download: out/jebel_ali_flood/dswx_hls/2024-04-30__S2A/OPERA_L3_DSWx-HLS_T39QZG_20240430T065621Z_20240508T033508Z_S2A_30_v1.0_B01_WTR.tif\n",
      "  warnings.warn(f'File already exists, skipping download: {os.path.join(path, filename)}')\n",
      "/Users/cmarshak/miniforge3/envs/dist-s1/lib/python3.12/site-packages/asf_search/download/download.py:68: UserWarning: File already exists, skipping download: out/jebel_ali_flood/dswx_hls/2024-04-30__S2A/OPERA_L3_DSWx-HLS_T40QBL_20240430T065621Z_20240508T033518Z_S2A_30_v1.0_B01_WTR.tif\n",
      "  warnings.warn(f'File already exists, skipping download: {os.path.join(path, filename)}')\n",
      "/Users/cmarshak/miniforge3/envs/dist-s1/lib/python3.12/site-packages/asf_search/download/download.py:68: UserWarning: File already exists, skipping download: out/jebel_ali_flood/dswx_hls/2024-04-30__S2A/OPERA_L3_DSWx-HLS_T39QZF_20240430T065621Z_20240508T033517Z_S2A_30_v1.0_B01_WTR.tif\n",
      "  warnings.warn(f'File already exists, skipping download: {os.path.join(path, filename)}')\n",
      "/Users/cmarshak/miniforge3/envs/dist-s1/lib/python3.12/site-packages/asf_search/download/download.py:68: UserWarning: File already exists, skipping download: out/jebel_ali_flood/dswx_hls/2024-04-30__S2A/OPERA_L3_DSWx-HLS_T40RCP_20240430T065621Z_20240508T033540Z_S2A_30_v1.0_B01_WTR.tif\n",
      "  warnings.warn(f'File already exists, skipping download: {os.path.join(path, filename)}')\n",
      "/Users/cmarshak/miniforge3/envs/dist-s1/lib/python3.12/site-packages/asf_search/download/download.py:68: UserWarning: File already exists, skipping download: out/jebel_ali_flood/dswx_hls/2024-04-30__S2A/OPERA_L3_DSWx-HLS_T40RBP_20240430T065621Z_20240508T155252Z_S2A_30_v1.0_B01_WTR.tif\n",
      "  warnings.warn(f'File already exists, skipping download: {os.path.join(path, filename)}')\n",
      "/Users/cmarshak/miniforge3/envs/dist-s1/lib/python3.12/site-packages/asf_search/download/download.py:68: UserWarning: File already exists, skipping download: out/jebel_ali_flood/dswx_hls/2024-04-30__S2A/OPERA_L3_DSWx-HLS_T39RZH_20240430T065621Z_20240508T033508Z_S2A_30_v1.0_B01_WTR.tif\n",
      "  warnings.warn(f'File already exists, skipping download: {os.path.join(path, filename)}')\n",
      "dates:  58%|█████▎   | 28/48 [00:09<00:07,  2.79it/s]/Users/cmarshak/miniforge3/envs/dist-s1/lib/python3.12/site-packages/asf_search/download/download.py:68: UserWarning: File already exists, skipping download: out/jebel_ali_flood/dswx_hls/2024-05-04__S2A/OPERA_L3_DSWx-HLS_T40RDP_20240504T063631Z_20240507T233439Z_S2A_30_v1.0_B01_WTR.tif\n",
      "  warnings.warn(f'File already exists, skipping download: {os.path.join(path, filename)}')\n",
      "/Users/cmarshak/miniforge3/envs/dist-s1/lib/python3.12/site-packages/asf_search/download/download.py:68: UserWarning: File already exists, skipping download: out/jebel_ali_flood/dswx_hls/2024-05-04__S2A/OPERA_L3_DSWx-HLS_T40QDM_20240504T063631Z_20240508T210722Z_S2A_30_v1.0_B01_WTR.tif\n",
      "  warnings.warn(f'File already exists, skipping download: {os.path.join(path, filename)}')\n",
      "/Users/cmarshak/miniforge3/envs/dist-s1/lib/python3.12/site-packages/asf_search/download/download.py:68: UserWarning: File already exists, skipping download: out/jebel_ali_flood/dswx_hls/2024-05-04__S2A/OPERA_L3_DSWx-HLS_T40RDN_20240504T063631Z_20240508T210732Z_S2A_30_v1.0_B01_WTR.tif\n",
      "  warnings.warn(f'File already exists, skipping download: {os.path.join(path, filename)}')\n",
      "/Users/cmarshak/miniforge3/envs/dist-s1/lib/python3.12/site-packages/asf_search/download/download.py:68: UserWarning: File already exists, skipping download: out/jebel_ali_flood/dswx_hls/2024-05-04__S2A/OPERA_L3_DSWx-HLS_T40QDL_20240504T063631Z_20240507T233419Z_S2A_30_v1.0_B01_WTR.tif\n",
      "  warnings.warn(f'File already exists, skipping download: {os.path.join(path, filename)}')\n",
      "/Users/cmarshak/miniforge3/envs/dist-s1/lib/python3.12/site-packages/asf_search/download/download.py:68: UserWarning: File already exists, skipping download: out/jebel_ali_flood/dswx_hls/2024-05-04__S2A/OPERA_L3_DSWx-HLS_T40QDL_20240504T063631Z_20240508T211431Z_S2A_30_v1.0_B01_WTR.tif\n",
      "  warnings.warn(f'File already exists, skipping download: {os.path.join(path, filename)}')\n",
      "/Users/cmarshak/miniforge3/envs/dist-s1/lib/python3.12/site-packages/asf_search/download/download.py:68: UserWarning: File already exists, skipping download: out/jebel_ali_flood/dswx_hls/2024-05-04__S2A/OPERA_L3_DSWx-HLS_T40QDM_20240504T063631Z_20240507T233418Z_S2A_30_v1.0_B01_WTR.tif\n",
      "  warnings.warn(f'File already exists, skipping download: {os.path.join(path, filename)}')\n",
      "/Users/cmarshak/miniforge3/envs/dist-s1/lib/python3.12/site-packages/asf_search/download/download.py:68: UserWarning: File already exists, skipping download: out/jebel_ali_flood/dswx_hls/2024-05-04__S2A/OPERA_L3_DSWx-HLS_T40RDP_20240504T063631Z_20240508T210727Z_S2A_30_v1.0_B01_WTR.tif\n",
      "  warnings.warn(f'File already exists, skipping download: {os.path.join(path, filename)}')\n",
      "/Users/cmarshak/miniforge3/envs/dist-s1/lib/python3.12/site-packages/asf_search/download/download.py:68: UserWarning: File already exists, skipping download: out/jebel_ali_flood/dswx_hls/2024-05-04__S2A/OPERA_L3_DSWx-HLS_T40RDN_20240504T063631Z_20240507T233415Z_S2A_30_v1.0_B01_WTR.tif\n",
      "  warnings.warn(f'File already exists, skipping download: {os.path.join(path, filename)}')\n",
      "dates:  60%|█████▍   | 29/48 [00:10<00:06,  2.77it/s]/Users/cmarshak/miniforge3/envs/dist-s1/lib/python3.12/site-packages/asf_search/download/download.py:68: UserWarning: File already exists, skipping download: out/jebel_ali_flood/dswx_hls/2024-05-07__S2A/OPERA_L3_DSWx-HLS_T40RBP_20240507T064631Z_20240509T165038Z_S2A_30_v1.0_B01_WTR.tif\n",
      "  warnings.warn(f'File already exists, skipping download: {os.path.join(path, filename)}')\n",
      "/Users/cmarshak/miniforge3/envs/dist-s1/lib/python3.12/site-packages/asf_search/download/download.py:68: UserWarning: File already exists, skipping download: out/jebel_ali_flood/dswx_hls/2024-05-07__S2A/OPERA_L3_DSWx-HLS_T40RDP_20240507T064631Z_20240509T165048Z_S2A_30_v1.0_B01_WTR.tif\n",
      "  warnings.warn(f'File already exists, skipping download: {os.path.join(path, filename)}')\n",
      "/Users/cmarshak/miniforge3/envs/dist-s1/lib/python3.12/site-packages/asf_search/download/download.py:68: UserWarning: File already exists, skipping download: out/jebel_ali_flood/dswx_hls/2024-05-07__S2A/OPERA_L3_DSWx-HLS_T40RCP_20240507T064631Z_20240509T230446Z_S2A_30_v1.0_B01_WTR.tif\n",
      "  warnings.warn(f'File already exists, skipping download: {os.path.join(path, filename)}')\n",
      "/Users/cmarshak/miniforge3/envs/dist-s1/lib/python3.12/site-packages/asf_search/download/download.py:68: UserWarning: File already exists, skipping download: out/jebel_ali_flood/dswx_hls/2024-05-07__S2A/OPERA_L3_DSWx-HLS_T39RZJ_20240507T064631Z_20240509T165025Z_S2A_30_v1.0_B01_WTR.tif\n",
      "  warnings.warn(f'File already exists, skipping download: {os.path.join(path, filename)}')\n",
      "/Users/cmarshak/miniforge3/envs/dist-s1/lib/python3.12/site-packages/asf_search/download/download.py:68: UserWarning: File already exists, skipping download: out/jebel_ali_flood/dswx_hls/2024-05-07__S2A/OPERA_L3_DSWx-HLS_T40RCN_20240507T064631Z_20240509T165057Z_S2A_30_v1.0_B01_WTR.tif\n",
      "  warnings.warn(f'File already exists, skipping download: {os.path.join(path, filename)}')\n",
      "/Users/cmarshak/miniforge3/envs/dist-s1/lib/python3.12/site-packages/asf_search/download/download.py:68: UserWarning: File already exists, skipping download: out/jebel_ali_flood/dswx_hls/2024-05-07__S2A/OPERA_L3_DSWx-HLS_T39RZH_20240507T064631Z_20240509T165036Z_S2A_30_v1.0_B01_WTR.tif\n",
      "  warnings.warn(f'File already exists, skipping download: {os.path.join(path, filename)}')\n",
      "/Users/cmarshak/miniforge3/envs/dist-s1/lib/python3.12/site-packages/asf_search/download/download.py:68: UserWarning: File already exists, skipping download: out/jebel_ali_flood/dswx_hls/2024-05-07__S2A/OPERA_L3_DSWx-HLS_T40QDM_20240507T064631Z_20240509T230430Z_S2A_30_v1.0_B01_WTR.tif\n",
      "  warnings.warn(f'File already exists, skipping download: {os.path.join(path, filename)}')\n",
      "/Users/cmarshak/miniforge3/envs/dist-s1/lib/python3.12/site-packages/asf_search/download/download.py:68: UserWarning: File already exists, skipping download: out/jebel_ali_flood/dswx_hls/2024-05-07__S2A/OPERA_L3_DSWx-HLS_T40QCM_20240507T064631Z_20240509T165104Z_S2A_30_v1.0_B01_WTR.tif\n",
      "  warnings.warn(f'File already exists, skipping download: {os.path.join(path, filename)}')\n",
      "/Users/cmarshak/miniforge3/envs/dist-s1/lib/python3.12/site-packages/asf_search/download/download.py:68: UserWarning: File already exists, skipping download: out/jebel_ali_flood/dswx_hls/2024-05-07__S2A/OPERA_L3_DSWx-HLS_T40RBN_20240507T064631Z_20240509T205222Z_S2A_30_v1.0_B01_WTR.tif\n",
      "  warnings.warn(f'File already exists, skipping download: {os.path.join(path, filename)}')\n",
      "/Users/cmarshak/miniforge3/envs/dist-s1/lib/python3.12/site-packages/asf_search/download/download.py:68: UserWarning: File already exists, skipping download: out/jebel_ali_flood/dswx_hls/2024-05-07__S2A/OPERA_L3_DSWx-HLS_T40QBM_20240507T064631Z_20240509T231728Z_S2A_30_v1.0_B01_WTR.tif\n",
      "  warnings.warn(f'File already exists, skipping download: {os.path.join(path, filename)}')\n",
      "/Users/cmarshak/miniforge3/envs/dist-s1/lib/python3.12/site-packages/asf_search/download/download.py:68: UserWarning: File already exists, skipping download: out/jebel_ali_flood/dswx_hls/2024-05-07__S2A/OPERA_L3_DSWx-HLS_T39QZG_20240507T064631Z_20240509T165043Z_S2A_30_v1.0_B01_WTR.tif\n",
      "  warnings.warn(f'File already exists, skipping download: {os.path.join(path, filename)}')\n",
      "/Users/cmarshak/miniforge3/envs/dist-s1/lib/python3.12/site-packages/asf_search/download/download.py:68: UserWarning: File already exists, skipping download: out/jebel_ali_flood/dswx_hls/2024-05-07__S2A/OPERA_L3_DSWx-HLS_T40QBL_20240507T064631Z_20240509T165021Z_S2A_30_v1.0_B01_WTR.tif\n",
      "  warnings.warn(f'File already exists, skipping download: {os.path.join(path, filename)}')\n",
      "/Users/cmarshak/miniforge3/envs/dist-s1/lib/python3.12/site-packages/asf_search/download/download.py:68: UserWarning: File already exists, skipping download: out/jebel_ali_flood/dswx_hls/2024-05-07__S2A/OPERA_L3_DSWx-HLS_T39QZF_20240507T064631Z_20240509T205250Z_S2A_30_v1.0_B01_WTR.tif\n",
      "  warnings.warn(f'File already exists, skipping download: {os.path.join(path, filename)}')\n",
      "/Users/cmarshak/miniforge3/envs/dist-s1/lib/python3.12/site-packages/asf_search/download/download.py:68: UserWarning: File already exists, skipping download: out/jebel_ali_flood/dswx_hls/2024-05-07__S2A/OPERA_L3_DSWx-HLS_T40QCL_20240507T064631Z_20240509T165021Z_S2A_30_v1.0_B01_WTR.tif\n",
      "  warnings.warn(f'File already exists, skipping download: {os.path.join(path, filename)}')\n",
      "/Users/cmarshak/miniforge3/envs/dist-s1/lib/python3.12/site-packages/asf_search/download/download.py:68: UserWarning: File already exists, skipping download: out/jebel_ali_flood/dswx_hls/2024-05-07__S2A/OPERA_L3_DSWx-HLS_T40QDL_20240507T064631Z_20240509T224716Z_S2A_30_v1.0_B01_WTR.tif\n",
      "  warnings.warn(f'File already exists, skipping download: {os.path.join(path, filename)}')\n",
      "/Users/cmarshak/miniforge3/envs/dist-s1/lib/python3.12/site-packages/asf_search/download/download.py:68: UserWarning: File already exists, skipping download: out/jebel_ali_flood/dswx_hls/2024-05-07__S2A/OPERA_L3_DSWx-HLS_T40RDN_20240507T064631Z_20240509T165028Z_S2A_30_v1.0_B01_WTR.tif\n",
      "  warnings.warn(f'File already exists, skipping download: {os.path.join(path, filename)}')\n",
      "dates:  62%|█████▋   | 30/48 [00:10<00:06,  2.76it/s]/Users/cmarshak/miniforge3/envs/dist-s1/lib/python3.12/site-packages/asf_search/download/download.py:68: UserWarning: File already exists, skipping download: out/jebel_ali_flood/dswx_hls/2024-05-10__S2A/OPERA_L3_DSWx-HLS_T40RCP_20240510T065621Z_20240512T094241Z_S2A_30_v1.0_B01_WTR.tif\n",
      "  warnings.warn(f'File already exists, skipping download: {os.path.join(path, filename)}')\n",
      "/Users/cmarshak/miniforge3/envs/dist-s1/lib/python3.12/site-packages/asf_search/download/download.py:68: UserWarning: File already exists, skipping download: out/jebel_ali_flood/dswx_hls/2024-05-10__S2A/OPERA_L3_DSWx-HLS_T40QBM_20240510T065621Z_20240512T094226Z_S2A_30_v1.0_B01_WTR.tif\n",
      "  warnings.warn(f'File already exists, skipping download: {os.path.join(path, filename)}')\n",
      "/Users/cmarshak/miniforge3/envs/dist-s1/lib/python3.12/site-packages/asf_search/download/download.py:68: UserWarning: File already exists, skipping download: out/jebel_ali_flood/dswx_hls/2024-05-10__S2A/OPERA_L3_DSWx-HLS_T39QZG_20240510T065621Z_20240512T094230Z_S2A_30_v1.0_B01_WTR.tif\n",
      "  warnings.warn(f'File already exists, skipping download: {os.path.join(path, filename)}')\n",
      "/Users/cmarshak/miniforge3/envs/dist-s1/lib/python3.12/site-packages/asf_search/download/download.py:68: UserWarning: File already exists, skipping download: out/jebel_ali_flood/dswx_hls/2024-05-10__S2A/OPERA_L3_DSWx-HLS_T40QBL_20240510T065621Z_20240512T094228Z_S2A_30_v1.0_B01_WTR.tif\n",
      "  warnings.warn(f'File already exists, skipping download: {os.path.join(path, filename)}')\n",
      "/Users/cmarshak/miniforge3/envs/dist-s1/lib/python3.12/site-packages/asf_search/download/download.py:68: UserWarning: File already exists, skipping download: out/jebel_ali_flood/dswx_hls/2024-05-10__S2A/OPERA_L3_DSWx-HLS_T39QZF_20240510T065621Z_20240512T073200Z_S2A_30_v1.0_B01_WTR.tif\n",
      "  warnings.warn(f'File already exists, skipping download: {os.path.join(path, filename)}')\n",
      "/Users/cmarshak/miniforge3/envs/dist-s1/lib/python3.12/site-packages/asf_search/download/download.py:68: UserWarning: File already exists, skipping download: out/jebel_ali_flood/dswx_hls/2024-05-10__S2A/OPERA_L3_DSWx-HLS_T40RBP_20240510T065621Z_20240512T115624Z_S2A_30_v1.0_B01_WTR.tif\n",
      "  warnings.warn(f'File already exists, skipping download: {os.path.join(path, filename)}')\n",
      "/Users/cmarshak/miniforge3/envs/dist-s1/lib/python3.12/site-packages/asf_search/download/download.py:68: UserWarning: File already exists, skipping download: out/jebel_ali_flood/dswx_hls/2024-05-10__S2A/OPERA_L3_DSWx-HLS_T40RBN_20240510T065621Z_20240512T115614Z_S2A_30_v1.0_B01_WTR.tif\n",
      "  warnings.warn(f'File already exists, skipping download: {os.path.join(path, filename)}')\n",
      "/Users/cmarshak/miniforge3/envs/dist-s1/lib/python3.12/site-packages/asf_search/download/download.py:68: UserWarning: File already exists, skipping download: out/jebel_ali_flood/dswx_hls/2024-05-10__S2A/OPERA_L3_DSWx-HLS_T39RZJ_20240510T065621Z_20240512T115619Z_S2A_30_v1.0_B01_WTR.tif\n",
      "  warnings.warn(f'File already exists, skipping download: {os.path.join(path, filename)}')\n",
      "/Users/cmarshak/miniforge3/envs/dist-s1/lib/python3.12/site-packages/asf_search/download/download.py:68: UserWarning: File already exists, skipping download: out/jebel_ali_flood/dswx_hls/2024-05-10__S2A/OPERA_L3_DSWx-HLS_T39RZH_20240510T065621Z_20240512T094238Z_S2A_30_v1.0_B01_WTR.tif\n",
      "  warnings.warn(f'File already exists, skipping download: {os.path.join(path, filename)}')\n",
      "dates:  65%|█████▊   | 31/48 [00:10<00:06,  2.77it/s]/Users/cmarshak/miniforge3/envs/dist-s1/lib/python3.12/site-packages/asf_search/download/download.py:68: UserWarning: File already exists, skipping download: out/jebel_ali_flood/dswx_hls/2024-03-20__S2B/OPERA_L3_DSWx-HLS_T40QDL_20240320T063629Z_20240322T235014Z_S2B_30_v1.0_B01_WTR.tif\n",
      "  warnings.warn(f'File already exists, skipping download: {os.path.join(path, filename)}')\n",
      "dates:  67%|██████   | 32/48 [00:11<00:05,  2.89it/s]/Users/cmarshak/miniforge3/envs/dist-s1/lib/python3.12/site-packages/asf_search/download/download.py:68: UserWarning: File already exists, skipping download: out/jebel_ali_flood/dswx_hls/2024-03-23__S2B/OPERA_L3_DSWx-HLS_T40QDL_20240323T064629Z_20240325T134552Z_S2B_30_v1.0_B01_WTR.tif\n",
      "  warnings.warn(f'File already exists, skipping download: {os.path.join(path, filename)}')\n",
      "/Users/cmarshak/miniforge3/envs/dist-s1/lib/python3.12/site-packages/asf_search/download/download.py:68: UserWarning: File already exists, skipping download: out/jebel_ali_flood/dswx_hls/2024-03-23__S2B/OPERA_L3_DSWx-HLS_T39QZF_20240323T064629Z_20240325T134558Z_S2B_30_v1.0_B01_WTR.tif\n",
      "  warnings.warn(f'File already exists, skipping download: {os.path.join(path, filename)}')\n",
      "/Users/cmarshak/miniforge3/envs/dist-s1/lib/python3.12/site-packages/asf_search/download/download.py:68: UserWarning: File already exists, skipping download: out/jebel_ali_flood/dswx_hls/2024-03-23__S2B/OPERA_L3_DSWx-HLS_T40QCL_20240323T064629Z_20240325T134600Z_S2B_30_v1.0_B01_WTR.tif\n",
      "  warnings.warn(f'File already exists, skipping download: {os.path.join(path, filename)}')\n",
      "dates:  69%|██████▏  | 33/48 [00:11<00:05,  2.91it/s]/Users/cmarshak/miniforge3/envs/dist-s1/lib/python3.12/site-packages/asf_search/download/download.py:68: UserWarning: File already exists, skipping download: out/jebel_ali_flood/dswx_hls/2024-03-26__S2B/OPERA_L3_DSWx-HLS_T40RCP_20240326T065619Z_20240328T104652Z_S2B_30_v1.0_B01_WTR.tif\n",
      "  warnings.warn(f'File already exists, skipping download: {os.path.join(path, filename)}')\n",
      "/Users/cmarshak/miniforge3/envs/dist-s1/lib/python3.12/site-packages/asf_search/download/download.py:68: UserWarning: File already exists, skipping download: out/jebel_ali_flood/dswx_hls/2024-03-26__S2B/OPERA_L3_DSWx-HLS_T40QBM_20240326T065619Z_20240328T104643Z_S2B_30_v1.0_B01_WTR.tif\n",
      "  warnings.warn(f'File already exists, skipping download: {os.path.join(path, filename)}')\n",
      "/Users/cmarshak/miniforge3/envs/dist-s1/lib/python3.12/site-packages/asf_search/download/download.py:68: UserWarning: File already exists, skipping download: out/jebel_ali_flood/dswx_hls/2024-03-26__S2B/OPERA_L3_DSWx-HLS_T39QZG_20240326T065619Z_20240328T104636Z_S2B_30_v1.0_B01_WTR.tif\n",
      "  warnings.warn(f'File already exists, skipping download: {os.path.join(path, filename)}')\n",
      "/Users/cmarshak/miniforge3/envs/dist-s1/lib/python3.12/site-packages/asf_search/download/download.py:68: UserWarning: File already exists, skipping download: out/jebel_ali_flood/dswx_hls/2024-03-26__S2B/OPERA_L3_DSWx-HLS_T40QBL_20240326T065619Z_20240328T104623Z_S2B_30_v1.0_B01_WTR.tif\n",
      "  warnings.warn(f'File already exists, skipping download: {os.path.join(path, filename)}')\n",
      "/Users/cmarshak/miniforge3/envs/dist-s1/lib/python3.12/site-packages/asf_search/download/download.py:68: UserWarning: File already exists, skipping download: out/jebel_ali_flood/dswx_hls/2024-03-26__S2B/OPERA_L3_DSWx-HLS_T39QZF_20240326T065619Z_20240328T104629Z_S2B_30_v1.0_B01_WTR.tif\n",
      "  warnings.warn(f'File already exists, skipping download: {os.path.join(path, filename)}')\n",
      "/Users/cmarshak/miniforge3/envs/dist-s1/lib/python3.12/site-packages/asf_search/download/download.py:68: UserWarning: File already exists, skipping download: out/jebel_ali_flood/dswx_hls/2024-03-26__S2B/OPERA_L3_DSWx-HLS_T40RBN_20240326T065619Z_20240328T153526Z_S2B_30_v1.0_B01_WTR.tif\n",
      "  warnings.warn(f'File already exists, skipping download: {os.path.join(path, filename)}')\n",
      "/Users/cmarshak/miniforge3/envs/dist-s1/lib/python3.12/site-packages/asf_search/download/download.py:68: UserWarning: File already exists, skipping download: out/jebel_ali_flood/dswx_hls/2024-03-26__S2B/OPERA_L3_DSWx-HLS_T40RBP_20240326T065619Z_20240328T180309Z_S2B_30_v1.0_B01_WTR.tif\n",
      "  warnings.warn(f'File already exists, skipping download: {os.path.join(path, filename)}')\n",
      "/Users/cmarshak/miniforge3/envs/dist-s1/lib/python3.12/site-packages/asf_search/download/download.py:68: UserWarning: File already exists, skipping download: out/jebel_ali_flood/dswx_hls/2024-03-26__S2B/OPERA_L3_DSWx-HLS_T39RZJ_20240326T065619Z_20240328T153521Z_S2B_30_v1.0_B01_WTR.tif\n",
      "  warnings.warn(f'File already exists, skipping download: {os.path.join(path, filename)}')\n",
      "/Users/cmarshak/miniforge3/envs/dist-s1/lib/python3.12/site-packages/asf_search/download/download.py:68: UserWarning: File already exists, skipping download: out/jebel_ali_flood/dswx_hls/2024-03-26__S2B/OPERA_L3_DSWx-HLS_T39RZH_20240326T065619Z_20240328T104659Z_S2B_30_v1.0_B01_WTR.tif\n",
      "  warnings.warn(f'File already exists, skipping download: {os.path.join(path, filename)}')\n",
      "dates:  71%|██████▍  | 34/48 [00:11<00:04,  2.88it/s]/Users/cmarshak/miniforge3/envs/dist-s1/lib/python3.12/site-packages/asf_search/download/download.py:68: UserWarning: File already exists, skipping download: out/jebel_ali_flood/dswx_hls/2024-03-30__S2B/OPERA_L3_DSWx-HLS_T40RDP_20240330T063629Z_20240401T170101Z_S2B_30_v1.0_B01_WTR.tif\n",
      "  warnings.warn(f'File already exists, skipping download: {os.path.join(path, filename)}')\n",
      "/Users/cmarshak/miniforge3/envs/dist-s1/lib/python3.12/site-packages/asf_search/download/download.py:68: UserWarning: File already exists, skipping download: out/jebel_ali_flood/dswx_hls/2024-03-30__S2B/OPERA_L3_DSWx-HLS_T40RDN_20240330T063629Z_20240401T142922Z_S2B_30_v1.0_B01_WTR.tif\n",
      "  warnings.warn(f'File already exists, skipping download: {os.path.join(path, filename)}')\n",
      "/Users/cmarshak/miniforge3/envs/dist-s1/lib/python3.12/site-packages/asf_search/download/download.py:68: UserWarning: File already exists, skipping download: out/jebel_ali_flood/dswx_hls/2024-03-30__S2B/OPERA_L3_DSWx-HLS_T40QDM_20240330T063629Z_20240401T100742Z_S2B_30_v1.0_B01_WTR.tif\n",
      "  warnings.warn(f'File already exists, skipping download: {os.path.join(path, filename)}')\n",
      "/Users/cmarshak/miniforge3/envs/dist-s1/lib/python3.12/site-packages/asf_search/download/download.py:68: UserWarning: File already exists, skipping download: out/jebel_ali_flood/dswx_hls/2024-03-30__S2B/OPERA_L3_DSWx-HLS_T40QDL_20240330T063629Z_20240401T142845Z_S2B_30_v1.0_B01_WTR.tif\n",
      "  warnings.warn(f'File already exists, skipping download: {os.path.join(path, filename)}')\n",
      "dates:  73%|██████▌  | 35/48 [00:12<00:04,  2.88it/s]/Users/cmarshak/miniforge3/envs/dist-s1/lib/python3.12/site-packages/asf_search/download/download.py:68: UserWarning: File already exists, skipping download: out/jebel_ali_flood/dswx_hls/2024-04-02__S2B/OPERA_L3_DSWx-HLS_T40RCP_20240402T064619Z_20240404T105358Z_S2B_30_v1.0_B01_WTR.tif\n",
      "  warnings.warn(f'File already exists, skipping download: {os.path.join(path, filename)}')\n",
      "/Users/cmarshak/miniforge3/envs/dist-s1/lib/python3.12/site-packages/asf_search/download/download.py:68: UserWarning: File already exists, skipping download: out/jebel_ali_flood/dswx_hls/2024-04-02__S2B/OPERA_L3_DSWx-HLS_T40RDP_20240402T064619Z_20240404T105359Z_S2B_30_v1.0_B01_WTR.tif\n",
      "  warnings.warn(f'File already exists, skipping download: {os.path.join(path, filename)}')\n",
      "/Users/cmarshak/miniforge3/envs/dist-s1/lib/python3.12/site-packages/asf_search/download/download.py:68: UserWarning: File already exists, skipping download: out/jebel_ali_flood/dswx_hls/2024-04-02__S2B/OPERA_L3_DSWx-HLS_T40RCP_20240402T064619Z_20240404T151103Z_S2B_30_v1.0_B01_WTR.tif\n",
      "  warnings.warn(f'File already exists, skipping download: {os.path.join(path, filename)}')\n",
      "/Users/cmarshak/miniforge3/envs/dist-s1/lib/python3.12/site-packages/asf_search/download/download.py:68: UserWarning: File already exists, skipping download: out/jebel_ali_flood/dswx_hls/2024-04-02__S2B/OPERA_L3_DSWx-HLS_T40RDP_20240402T064619Z_20240404T151149Z_S2B_30_v1.0_B01_WTR.tif\n",
      "  warnings.warn(f'File already exists, skipping download: {os.path.join(path, filename)}')\n",
      "/Users/cmarshak/miniforge3/envs/dist-s1/lib/python3.12/site-packages/asf_search/download/download.py:68: UserWarning: File already exists, skipping download: out/jebel_ali_flood/dswx_hls/2024-04-02__S2B/OPERA_L3_DSWx-HLS_T40RBP_20240402T064619Z_20240404T151157Z_S2B_30_v1.0_B01_WTR.tif\n",
      "  warnings.warn(f'File already exists, skipping download: {os.path.join(path, filename)}')\n",
      "/Users/cmarshak/miniforge3/envs/dist-s1/lib/python3.12/site-packages/asf_search/download/download.py:68: UserWarning: File already exists, skipping download: out/jebel_ali_flood/dswx_hls/2024-04-02__S2B/OPERA_L3_DSWx-HLS_T40RCN_20240402T064619Z_20240405T011925Z_S2B_30_v1.0_B01_WTR.tif\n",
      "  warnings.warn(f'File already exists, skipping download: {os.path.join(path, filename)}')\n",
      "/Users/cmarshak/miniforge3/envs/dist-s1/lib/python3.12/site-packages/asf_search/download/download.py:68: UserWarning: File already exists, skipping download: out/jebel_ali_flood/dswx_hls/2024-04-02__S2B/OPERA_L3_DSWx-HLS_T39RZJ_20240402T064619Z_20240404T105422Z_S2B_30_v1.0_B01_WTR.tif\n",
      "  warnings.warn(f'File already exists, skipping download: {os.path.join(path, filename)}')\n",
      "/Users/cmarshak/miniforge3/envs/dist-s1/lib/python3.12/site-packages/asf_search/download/download.py:68: UserWarning: File already exists, skipping download: out/jebel_ali_flood/dswx_hls/2024-04-02__S2B/OPERA_L3_DSWx-HLS_T40RBN_20240402T064619Z_20240404T151157Z_S2B_30_v1.0_B01_WTR.tif\n",
      "  warnings.warn(f'File already exists, skipping download: {os.path.join(path, filename)}')\n",
      "/Users/cmarshak/miniforge3/envs/dist-s1/lib/python3.12/site-packages/asf_search/download/download.py:68: UserWarning: File already exists, skipping download: out/jebel_ali_flood/dswx_hls/2024-04-02__S2B/OPERA_L3_DSWx-HLS_T39RZH_20240402T064619Z_20240404T151144Z_S2B_30_v1.0_B01_WTR.tif\n",
      "  warnings.warn(f'File already exists, skipping download: {os.path.join(path, filename)}')\n",
      "/Users/cmarshak/miniforge3/envs/dist-s1/lib/python3.12/site-packages/asf_search/download/download.py:68: UserWarning: File already exists, skipping download: out/jebel_ali_flood/dswx_hls/2024-04-02__S2B/OPERA_L3_DSWx-HLS_T40QCM_20240402T064619Z_20240404T151044Z_S2B_30_v1.0_B01_WTR.tif\n",
      "  warnings.warn(f'File already exists, skipping download: {os.path.join(path, filename)}')\n",
      "/Users/cmarshak/miniforge3/envs/dist-s1/lib/python3.12/site-packages/asf_search/download/download.py:68: UserWarning: File already exists, skipping download: out/jebel_ali_flood/dswx_hls/2024-04-02__S2B/OPERA_L3_DSWx-HLS_T40QBM_20240402T064619Z_20240404T151109Z_S2B_30_v1.0_B01_WTR.tif\n",
      "  warnings.warn(f'File already exists, skipping download: {os.path.join(path, filename)}')\n",
      "/Users/cmarshak/miniforge3/envs/dist-s1/lib/python3.12/site-packages/asf_search/download/download.py:68: UserWarning: File already exists, skipping download: out/jebel_ali_flood/dswx_hls/2024-04-02__S2B/OPERA_L3_DSWx-HLS_T40QDM_20240402T064619Z_20240404T151129Z_S2B_30_v1.0_B01_WTR.tif\n",
      "  warnings.warn(f'File already exists, skipping download: {os.path.join(path, filename)}')\n",
      "/Users/cmarshak/miniforge3/envs/dist-s1/lib/python3.12/site-packages/asf_search/download/download.py:68: UserWarning: File already exists, skipping download: out/jebel_ali_flood/dswx_hls/2024-04-02__S2B/OPERA_L3_DSWx-HLS_T39QZG_20240402T064619Z_20240404T151134Z_S2B_30_v1.0_B01_WTR.tif\n",
      "  warnings.warn(f'File already exists, skipping download: {os.path.join(path, filename)}')\n",
      "/Users/cmarshak/miniforge3/envs/dist-s1/lib/python3.12/site-packages/asf_search/download/download.py:68: UserWarning: File already exists, skipping download: out/jebel_ali_flood/dswx_hls/2024-04-02__S2B/OPERA_L3_DSWx-HLS_T40QDL_20240402T064619Z_20240404T105403Z_S2B_30_v1.0_B01_WTR.tif\n",
      "  warnings.warn(f'File already exists, skipping download: {os.path.join(path, filename)}')\n",
      "/Users/cmarshak/miniforge3/envs/dist-s1/lib/python3.12/site-packages/asf_search/download/download.py:68: UserWarning: File already exists, skipping download: out/jebel_ali_flood/dswx_hls/2024-04-02__S2B/OPERA_L3_DSWx-HLS_T40QCL_20240402T064619Z_20240418T120301Z_S2B_30_v1.0_B01_WTR.tif\n",
      "  warnings.warn(f'File already exists, skipping download: {os.path.join(path, filename)}')\n",
      "/Users/cmarshak/miniforge3/envs/dist-s1/lib/python3.12/site-packages/asf_search/download/download.py:68: UserWarning: File already exists, skipping download: out/jebel_ali_flood/dswx_hls/2024-04-02__S2B/OPERA_L3_DSWx-HLS_T40QBL_20240402T064619Z_20240418T150109Z_S2B_30_v1.0_B01_WTR.tif\n",
      "  warnings.warn(f'File already exists, skipping download: {os.path.join(path, filename)}')\n",
      "/Users/cmarshak/miniforge3/envs/dist-s1/lib/python3.12/site-packages/asf_search/download/download.py:68: UserWarning: File already exists, skipping download: out/jebel_ali_flood/dswx_hls/2024-04-02__S2B/OPERA_L3_DSWx-HLS_T39QZF_20240402T064619Z_20240404T151059Z_S2B_30_v1.0_B01_WTR.tif\n",
      "  warnings.warn(f'File already exists, skipping download: {os.path.join(path, filename)}')\n",
      "/Users/cmarshak/miniforge3/envs/dist-s1/lib/python3.12/site-packages/asf_search/download/download.py:68: UserWarning: File already exists, skipping download: out/jebel_ali_flood/dswx_hls/2024-04-02__S2B/OPERA_L3_DSWx-HLS_T39RZJ_20240402T064619Z_20240404T151147Z_S2B_30_v1.0_B01_WTR.tif\n",
      "  warnings.warn(f'File already exists, skipping download: {os.path.join(path, filename)}')\n",
      "/Users/cmarshak/miniforge3/envs/dist-s1/lib/python3.12/site-packages/asf_search/download/download.py:68: UserWarning: File already exists, skipping download: out/jebel_ali_flood/dswx_hls/2024-04-02__S2B/OPERA_L3_DSWx-HLS_T40RDN_20240402T064619Z_20240404T105430Z_S2B_30_v1.0_B01_WTR.tif\n",
      "  warnings.warn(f'File already exists, skipping download: {os.path.join(path, filename)}')\n",
      "/Users/cmarshak/miniforge3/envs/dist-s1/lib/python3.12/site-packages/asf_search/download/download.py:68: UserWarning: File already exists, skipping download: out/jebel_ali_flood/dswx_hls/2024-04-02__S2B/OPERA_L3_DSWx-HLS_T40RDN_20240402T064619Z_20240404T151143Z_S2B_30_v1.0_B01_WTR.tif\n",
      "  warnings.warn(f'File already exists, skipping download: {os.path.join(path, filename)}')\n",
      "/Users/cmarshak/miniforge3/envs/dist-s1/lib/python3.12/site-packages/asf_search/download/download.py:68: UserWarning: File already exists, skipping download: out/jebel_ali_flood/dswx_hls/2024-04-02__S2B/OPERA_L3_DSWx-HLS_T40RCN_20240402T064619Z_20240404T151102Z_S2B_30_v1.0_B01_WTR.tif\n",
      "  warnings.warn(f'File already exists, skipping download: {os.path.join(path, filename)}')\n",
      "dates:  75%|██████▊  | 36/48 [00:12<00:04,  2.85it/s]/Users/cmarshak/miniforge3/envs/dist-s1/lib/python3.12/site-packages/asf_search/download/download.py:68: UserWarning: File already exists, skipping download: out/jebel_ali_flood/dswx_hls/2024-04-05__S2B/OPERA_L3_DSWx-HLS_T40RBP_20240405T065619Z_20240408T052726Z_S2B_30_v1.0_B01_WTR.tif\n",
      "  warnings.warn(f'File already exists, skipping download: {os.path.join(path, filename)}')\n",
      "/Users/cmarshak/miniforge3/envs/dist-s1/lib/python3.12/site-packages/asf_search/download/download.py:68: UserWarning: File already exists, skipping download: out/jebel_ali_flood/dswx_hls/2024-04-05__S2B/OPERA_L3_DSWx-HLS_T40QBM_20240405T065619Z_20240408T052930Z_S2B_30_v1.0_B01_WTR.tif\n",
      "  warnings.warn(f'File already exists, skipping download: {os.path.join(path, filename)}')\n",
      "/Users/cmarshak/miniforge3/envs/dist-s1/lib/python3.12/site-packages/asf_search/download/download.py:68: UserWarning: File already exists, skipping download: out/jebel_ali_flood/dswx_hls/2024-04-05__S2B/OPERA_L3_DSWx-HLS_T39QZG_20240405T065619Z_20240418T150044Z_S2B_30_v1.0_B01_WTR.tif\n",
      "  warnings.warn(f'File already exists, skipping download: {os.path.join(path, filename)}')\n",
      "/Users/cmarshak/miniforge3/envs/dist-s1/lib/python3.12/site-packages/asf_search/download/download.py:68: UserWarning: File already exists, skipping download: out/jebel_ali_flood/dswx_hls/2024-04-05__S2B/OPERA_L3_DSWx-HLS_T40QBL_20240405T065619Z_20240408T052630Z_S2B_30_v1.0_B01_WTR.tif\n",
      "  warnings.warn(f'File already exists, skipping download: {os.path.join(path, filename)}')\n",
      "/Users/cmarshak/miniforge3/envs/dist-s1/lib/python3.12/site-packages/asf_search/download/download.py:68: UserWarning: File already exists, skipping download: out/jebel_ali_flood/dswx_hls/2024-04-05__S2B/OPERA_L3_DSWx-HLS_T39QZF_20240405T065619Z_20240408T052610Z_S2B_30_v1.0_B01_WTR.tif\n",
      "  warnings.warn(f'File already exists, skipping download: {os.path.join(path, filename)}')\n",
      "/Users/cmarshak/miniforge3/envs/dist-s1/lib/python3.12/site-packages/asf_search/download/download.py:68: UserWarning: File already exists, skipping download: out/jebel_ali_flood/dswx_hls/2024-04-05__S2B/OPERA_L3_DSWx-HLS_T40RBN_20240405T065619Z_20240408T052632Z_S2B_30_v1.0_B01_WTR.tif\n",
      "  warnings.warn(f'File already exists, skipping download: {os.path.join(path, filename)}')\n",
      "/Users/cmarshak/miniforge3/envs/dist-s1/lib/python3.12/site-packages/asf_search/download/download.py:68: UserWarning: File already exists, skipping download: out/jebel_ali_flood/dswx_hls/2024-04-05__S2B/OPERA_L3_DSWx-HLS_T40RCP_20240405T065619Z_20240407T212127Z_S2B_30_v1.0_B01_WTR.tif\n",
      "  warnings.warn(f'File already exists, skipping download: {os.path.join(path, filename)}')\n",
      "/Users/cmarshak/miniforge3/envs/dist-s1/lib/python3.12/site-packages/asf_search/download/download.py:68: UserWarning: File already exists, skipping download: out/jebel_ali_flood/dswx_hls/2024-04-05__S2B/OPERA_L3_DSWx-HLS_T39RZJ_20240405T065619Z_20240408T052905Z_S2B_30_v1.0_B01_WTR.tif\n",
      "  warnings.warn(f'File already exists, skipping download: {os.path.join(path, filename)}')\n",
      "/Users/cmarshak/miniforge3/envs/dist-s1/lib/python3.12/site-packages/asf_search/download/download.py:68: UserWarning: File already exists, skipping download: out/jebel_ali_flood/dswx_hls/2024-04-05__S2B/OPERA_L3_DSWx-HLS_T39RZH_20240405T065619Z_20240408T052741Z_S2B_30_v1.0_B01_WTR.tif\n",
      "  warnings.warn(f'File already exists, skipping download: {os.path.join(path, filename)}')\n",
      "dates:  77%|██████▉  | 37/48 [00:13<00:03,  2.83it/s]/Users/cmarshak/miniforge3/envs/dist-s1/lib/python3.12/site-packages/asf_search/download/download.py:68: UserWarning: File already exists, skipping download: out/jebel_ali_flood/dswx_hls/2024-04-09__S2B/OPERA_L3_DSWx-HLS_T40RDN_20240409T063629Z_20240413T011352Z_S2B_30_v1.0_B01_WTR.tif\n",
      "  warnings.warn(f'File already exists, skipping download: {os.path.join(path, filename)}')\n",
      "/Users/cmarshak/miniforge3/envs/dist-s1/lib/python3.12/site-packages/asf_search/download/download.py:68: UserWarning: File already exists, skipping download: out/jebel_ali_flood/dswx_hls/2024-04-09__S2B/OPERA_L3_DSWx-HLS_T40QDM_20240409T063629Z_20240413T011405Z_S2B_30_v1.0_B01_WTR.tif\n",
      "  warnings.warn(f'File already exists, skipping download: {os.path.join(path, filename)}')\n",
      "/Users/cmarshak/miniforge3/envs/dist-s1/lib/python3.12/site-packages/asf_search/download/download.py:68: UserWarning: File already exists, skipping download: out/jebel_ali_flood/dswx_hls/2024-04-09__S2B/OPERA_L3_DSWx-HLS_T40QDL_20240409T063629Z_20240413T011346Z_S2B_30_v1.0_B01_WTR.tif\n",
      "  warnings.warn(f'File already exists, skipping download: {os.path.join(path, filename)}')\n",
      "dates:  79%|███████▏ | 38/48 [00:13<00:03,  2.87it/s]/Users/cmarshak/miniforge3/envs/dist-s1/lib/python3.12/site-packages/asf_search/download/download.py:68: UserWarning: File already exists, skipping download: out/jebel_ali_flood/dswx_hls/2024-04-12__S2B/OPERA_L3_DSWx-HLS_T39RZJ_20240412T064629Z_20240414T103510Z_S2B_30_v1.0_B01_WTR.tif\n",
      "  warnings.warn(f'File already exists, skipping download: {os.path.join(path, filename)}')\n",
      "/Users/cmarshak/miniforge3/envs/dist-s1/lib/python3.12/site-packages/asf_search/download/download.py:68: UserWarning: File already exists, skipping download: out/jebel_ali_flood/dswx_hls/2024-04-12__S2B/OPERA_L3_DSWx-HLS_T40RCN_20240412T064629Z_20240414T160852Z_S2B_30_v1.0_B01_WTR.tif\n",
      "  warnings.warn(f'File already exists, skipping download: {os.path.join(path, filename)}')\n",
      "/Users/cmarshak/miniforge3/envs/dist-s1/lib/python3.12/site-packages/asf_search/download/download.py:68: UserWarning: File already exists, skipping download: out/jebel_ali_flood/dswx_hls/2024-04-12__S2B/OPERA_L3_DSWx-HLS_T40RBN_20240412T064629Z_20240414T160850Z_S2B_30_v1.0_B01_WTR.tif\n",
      "  warnings.warn(f'File already exists, skipping download: {os.path.join(path, filename)}')\n",
      "/Users/cmarshak/miniforge3/envs/dist-s1/lib/python3.12/site-packages/asf_search/download/download.py:68: UserWarning: File already exists, skipping download: out/jebel_ali_flood/dswx_hls/2024-04-12__S2B/OPERA_L3_DSWx-HLS_T39RZH_20240412T064629Z_20240414T160825Z_S2B_30_v1.0_B01_WTR.tif\n",
      "  warnings.warn(f'File already exists, skipping download: {os.path.join(path, filename)}')\n",
      "/Users/cmarshak/miniforge3/envs/dist-s1/lib/python3.12/site-packages/asf_search/download/download.py:68: UserWarning: File already exists, skipping download: out/jebel_ali_flood/dswx_hls/2024-04-12__S2B/OPERA_L3_DSWx-HLS_T40QDM_20240412T064629Z_20240414T160619Z_S2B_30_v1.0_B01_WTR.tif\n",
      "  warnings.warn(f'File already exists, skipping download: {os.path.join(path, filename)}')\n",
      "/Users/cmarshak/miniforge3/envs/dist-s1/lib/python3.12/site-packages/asf_search/download/download.py:68: UserWarning: File already exists, skipping download: out/jebel_ali_flood/dswx_hls/2024-04-12__S2B/OPERA_L3_DSWx-HLS_T40QCM_20240412T064629Z_20240414T160603Z_S2B_30_v1.0_B01_WTR.tif\n",
      "  warnings.warn(f'File already exists, skipping download: {os.path.join(path, filename)}')\n",
      "/Users/cmarshak/miniforge3/envs/dist-s1/lib/python3.12/site-packages/asf_search/download/download.py:68: UserWarning: File already exists, skipping download: out/jebel_ali_flood/dswx_hls/2024-04-12__S2B/OPERA_L3_DSWx-HLS_T40QBM_20240412T064629Z_20240414T160539Z_S2B_30_v1.0_B01_WTR.tif\n",
      "  warnings.warn(f'File already exists, skipping download: {os.path.join(path, filename)}')\n",
      "/Users/cmarshak/miniforge3/envs/dist-s1/lib/python3.12/site-packages/asf_search/download/download.py:68: UserWarning: File already exists, skipping download: out/jebel_ali_flood/dswx_hls/2024-04-12__S2B/OPERA_L3_DSWx-HLS_T39QZG_20240412T064629Z_20240414T160551Z_S2B_30_v1.0_B01_WTR.tif\n",
      "  warnings.warn(f'File already exists, skipping download: {os.path.join(path, filename)}')\n",
      "/Users/cmarshak/miniforge3/envs/dist-s1/lib/python3.12/site-packages/asf_search/download/download.py:68: UserWarning: File already exists, skipping download: out/jebel_ali_flood/dswx_hls/2024-04-12__S2B/OPERA_L3_DSWx-HLS_T40QDL_20240412T064629Z_20240414T160534Z_S2B_30_v1.0_B01_WTR.tif\n",
      "  warnings.warn(f'File already exists, skipping download: {os.path.join(path, filename)}')\n",
      "/Users/cmarshak/miniforge3/envs/dist-s1/lib/python3.12/site-packages/asf_search/download/download.py:68: UserWarning: File already exists, skipping download: out/jebel_ali_flood/dswx_hls/2024-04-12__S2B/OPERA_L3_DSWx-HLS_T40QCL_20240412T064629Z_20240414T185537Z_S2B_30_v1.0_B01_WTR.tif\n",
      "  warnings.warn(f'File already exists, skipping download: {os.path.join(path, filename)}')\n",
      "/Users/cmarshak/miniforge3/envs/dist-s1/lib/python3.12/site-packages/asf_search/download/download.py:68: UserWarning: File already exists, skipping download: out/jebel_ali_flood/dswx_hls/2024-04-12__S2B/OPERA_L3_DSWx-HLS_T40QBL_20240412T064629Z_20240414T160526Z_S2B_30_v1.0_B01_WTR.tif\n",
      "  warnings.warn(f'File already exists, skipping download: {os.path.join(path, filename)}')\n",
      "/Users/cmarshak/miniforge3/envs/dist-s1/lib/python3.12/site-packages/asf_search/download/download.py:68: UserWarning: File already exists, skipping download: out/jebel_ali_flood/dswx_hls/2024-04-12__S2B/OPERA_L3_DSWx-HLS_T39QZF_20240412T064629Z_20240414T160532Z_S2B_30_v1.0_B01_WTR.tif\n",
      "  warnings.warn(f'File already exists, skipping download: {os.path.join(path, filename)}')\n",
      "/Users/cmarshak/miniforge3/envs/dist-s1/lib/python3.12/site-packages/asf_search/download/download.py:68: UserWarning: File already exists, skipping download: out/jebel_ali_flood/dswx_hls/2024-04-12__S2B/OPERA_L3_DSWx-HLS_T40RDP_20240412T064629Z_20240414T160635Z_S2B_30_v1.0_B01_WTR.tif\n",
      "  warnings.warn(f'File already exists, skipping download: {os.path.join(path, filename)}')\n",
      "/Users/cmarshak/miniforge3/envs/dist-s1/lib/python3.12/site-packages/asf_search/download/download.py:68: UserWarning: File already exists, skipping download: out/jebel_ali_flood/dswx_hls/2024-04-12__S2B/OPERA_L3_DSWx-HLS_T40RDN_20240412T064629Z_20240414T160624Z_S2B_30_v1.0_B01_WTR.tif\n",
      "  warnings.warn(f'File already exists, skipping download: {os.path.join(path, filename)}')\n",
      "/Users/cmarshak/miniforge3/envs/dist-s1/lib/python3.12/site-packages/asf_search/download/download.py:68: UserWarning: File already exists, skipping download: out/jebel_ali_flood/dswx_hls/2024-04-12__S2B/OPERA_L3_DSWx-HLS_T40RCP_20240412T064629Z_20240414T160635Z_S2B_30_v1.0_B01_WTR.tif\n",
      "  warnings.warn(f'File already exists, skipping download: {os.path.join(path, filename)}')\n",
      "/Users/cmarshak/miniforge3/envs/dist-s1/lib/python3.12/site-packages/asf_search/download/download.py:68: UserWarning: File already exists, skipping download: out/jebel_ali_flood/dswx_hls/2024-04-12__S2B/OPERA_L3_DSWx-HLS_T40RBP_20240412T064629Z_20240414T160623Z_S2B_30_v1.0_B01_WTR.tif\n",
      "  warnings.warn(f'File already exists, skipping download: {os.path.join(path, filename)}')\n",
      "dates:  81%|███████▎ | 39/48 [00:13<00:03,  2.85it/s]/Users/cmarshak/miniforge3/envs/dist-s1/lib/python3.12/site-packages/asf_search/download/download.py:68: UserWarning: File already exists, skipping download: out/jebel_ali_flood/dswx_hls/2024-04-15__S2B/OPERA_L3_DSWx-HLS_T40RCP_20240415T065619Z_20240417T155457Z_S2B_30_v1.0_B01_WTR.tif\n",
      "  warnings.warn(f'File already exists, skipping download: {os.path.join(path, filename)}')\n",
      "/Users/cmarshak/miniforge3/envs/dist-s1/lib/python3.12/site-packages/asf_search/download/download.py:68: UserWarning: File already exists, skipping download: out/jebel_ali_flood/dswx_hls/2024-04-15__S2B/OPERA_L3_DSWx-HLS_T40QBM_20240415T065619Z_20240417T174356Z_S2B_30_v1.0_B01_WTR.tif\n",
      "  warnings.warn(f'File already exists, skipping download: {os.path.join(path, filename)}')\n",
      "/Users/cmarshak/miniforge3/envs/dist-s1/lib/python3.12/site-packages/asf_search/download/download.py:68: UserWarning: File already exists, skipping download: out/jebel_ali_flood/dswx_hls/2024-04-15__S2B/OPERA_L3_DSWx-HLS_T40RBN_20240415T065619Z_20240417T094334Z_S2B_30_v1.0_B01_WTR.tif\n",
      "  warnings.warn(f'File already exists, skipping download: {os.path.join(path, filename)}')\n",
      "/Users/cmarshak/miniforge3/envs/dist-s1/lib/python3.12/site-packages/asf_search/download/download.py:68: UserWarning: File already exists, skipping download: out/jebel_ali_flood/dswx_hls/2024-04-15__S2B/OPERA_L3_DSWx-HLS_T39QZG_20240415T065619Z_20240417T094325Z_S2B_30_v1.0_B01_WTR.tif\n",
      "  warnings.warn(f'File already exists, skipping download: {os.path.join(path, filename)}')\n",
      "/Users/cmarshak/miniforge3/envs/dist-s1/lib/python3.12/site-packages/asf_search/download/download.py:68: UserWarning: File already exists, skipping download: out/jebel_ali_flood/dswx_hls/2024-04-15__S2B/OPERA_L3_DSWx-HLS_T39QZF_20240415T065619Z_20240417T094303Z_S2B_30_v1.0_B01_WTR.tif\n",
      "  warnings.warn(f'File already exists, skipping download: {os.path.join(path, filename)}')\n",
      "/Users/cmarshak/miniforge3/envs/dist-s1/lib/python3.12/site-packages/asf_search/download/download.py:68: UserWarning: File already exists, skipping download: out/jebel_ali_flood/dswx_hls/2024-04-15__S2B/OPERA_L3_DSWx-HLS_T40QBL_20240415T065619Z_20240417T094321Z_S2B_30_v1.0_B01_WTR.tif\n",
      "  warnings.warn(f'File already exists, skipping download: {os.path.join(path, filename)}')\n",
      "/Users/cmarshak/miniforge3/envs/dist-s1/lib/python3.12/site-packages/asf_search/download/download.py:68: UserWarning: File already exists, skipping download: out/jebel_ali_flood/dswx_hls/2024-04-15__S2B/OPERA_L3_DSWx-HLS_T40RBP_20240415T065619Z_20240417T155451Z_S2B_30_v1.0_B01_WTR.tif\n",
      "  warnings.warn(f'File already exists, skipping download: {os.path.join(path, filename)}')\n",
      "/Users/cmarshak/miniforge3/envs/dist-s1/lib/python3.12/site-packages/asf_search/download/download.py:68: UserWarning: File already exists, skipping download: out/jebel_ali_flood/dswx_hls/2024-04-15__S2B/OPERA_L3_DSWx-HLS_T39RZJ_20240415T065619Z_20240417T094333Z_S2B_30_v1.0_B01_WTR.tif\n",
      "  warnings.warn(f'File already exists, skipping download: {os.path.join(path, filename)}')\n",
      "/Users/cmarshak/miniforge3/envs/dist-s1/lib/python3.12/site-packages/asf_search/download/download.py:68: UserWarning: File already exists, skipping download: out/jebel_ali_flood/dswx_hls/2024-04-15__S2B/OPERA_L3_DSWx-HLS_T39RZH_20240415T065619Z_20240417T155445Z_S2B_30_v1.0_B01_WTR.tif\n",
      "  warnings.warn(f'File already exists, skipping download: {os.path.join(path, filename)}')\n",
      "dates:  83%|███████▌ | 40/48 [00:14<00:02,  2.84it/s]/Users/cmarshak/miniforge3/envs/dist-s1/lib/python3.12/site-packages/asf_search/download/download.py:68: UserWarning: File already exists, skipping download: out/jebel_ali_flood/dswx_hls/2024-04-19__S2B/OPERA_L3_DSWx-HLS_T40RDN_20240419T063629Z_20240425T075612Z_S2B_30_v1.0_B01_WTR.tif\n",
      "  warnings.warn(f'File already exists, skipping download: {os.path.join(path, filename)}')\n",
      "/Users/cmarshak/miniforge3/envs/dist-s1/lib/python3.12/site-packages/asf_search/download/download.py:68: UserWarning: File already exists, skipping download: out/jebel_ali_flood/dswx_hls/2024-04-19__S2B/OPERA_L3_DSWx-HLS_T40RDP_20240419T063629Z_20240426T212750Z_S2B_30_v1.0_B01_WTR.tif\n",
      "  warnings.warn(f'File already exists, skipping download: {os.path.join(path, filename)}')\n",
      "/Users/cmarshak/miniforge3/envs/dist-s1/lib/python3.12/site-packages/asf_search/download/download.py:68: UserWarning: File already exists, skipping download: out/jebel_ali_flood/dswx_hls/2024-04-19__S2B/OPERA_L3_DSWx-HLS_T40QDM_20240419T063629Z_20240426T222709Z_S2B_30_v1.0_B01_WTR.tif\n",
      "  warnings.warn(f'File already exists, skipping download: {os.path.join(path, filename)}')\n",
      "/Users/cmarshak/miniforge3/envs/dist-s1/lib/python3.12/site-packages/asf_search/download/download.py:68: UserWarning: File already exists, skipping download: out/jebel_ali_flood/dswx_hls/2024-04-19__S2B/OPERA_L3_DSWx-HLS_T40QDL_20240419T063629Z_20240426T212746Z_S2B_30_v1.0_B01_WTR.tif\n",
      "  warnings.warn(f'File already exists, skipping download: {os.path.join(path, filename)}')\n",
      "dates:  85%|███████▋ | 41/48 [00:14<00:02,  2.85it/s]/Users/cmarshak/miniforge3/envs/dist-s1/lib/python3.12/site-packages/asf_search/download/download.py:68: UserWarning: File already exists, skipping download: out/jebel_ali_flood/dswx_hls/2024-04-22__S2B/OPERA_L3_DSWx-HLS_T40RDP_20240422T064629Z_20240424T223331Z_S2B_30_v1.0_B01_WTR.tif\n",
      "  warnings.warn(f'File already exists, skipping download: {os.path.join(path, filename)}')\n",
      "/Users/cmarshak/miniforge3/envs/dist-s1/lib/python3.12/site-packages/asf_search/download/download.py:68: UserWarning: File already exists, skipping download: out/jebel_ali_flood/dswx_hls/2024-04-22__S2B/OPERA_L3_DSWx-HLS_T40RCN_20240422T064629Z_20240426T043615Z_S2B_30_v1.0_B01_WTR.tif\n",
      "  warnings.warn(f'File already exists, skipping download: {os.path.join(path, filename)}')\n",
      "/Users/cmarshak/miniforge3/envs/dist-s1/lib/python3.12/site-packages/asf_search/download/download.py:68: UserWarning: File already exists, skipping download: out/jebel_ali_flood/dswx_hls/2024-04-22__S2B/OPERA_L3_DSWx-HLS_T40RBN_20240422T064629Z_20240424T223236Z_S2B_30_v1.0_B01_WTR.tif\n",
      "  warnings.warn(f'File already exists, skipping download: {os.path.join(path, filename)}')\n",
      "/Users/cmarshak/miniforge3/envs/dist-s1/lib/python3.12/site-packages/asf_search/download/download.py:68: UserWarning: File already exists, skipping download: out/jebel_ali_flood/dswx_hls/2024-04-22__S2B/OPERA_L3_DSWx-HLS_T39RZH_20240422T064629Z_20240424T223236Z_S2B_30_v1.0_B01_WTR.tif\n",
      "  warnings.warn(f'File already exists, skipping download: {os.path.join(path, filename)}')\n",
      "/Users/cmarshak/miniforge3/envs/dist-s1/lib/python3.12/site-packages/asf_search/download/download.py:68: UserWarning: File already exists, skipping download: out/jebel_ali_flood/dswx_hls/2024-04-22__S2B/OPERA_L3_DSWx-HLS_T40QDM_20240422T064629Z_20240426T221353Z_S2B_30_v1.0_B01_WTR.tif\n",
      "  warnings.warn(f'File already exists, skipping download: {os.path.join(path, filename)}')\n",
      "/Users/cmarshak/miniforge3/envs/dist-s1/lib/python3.12/site-packages/asf_search/download/download.py:68: UserWarning: File already exists, skipping download: out/jebel_ali_flood/dswx_hls/2024-04-22__S2B/OPERA_L3_DSWx-HLS_T40QCM_20240422T064629Z_20240426T224437Z_S2B_30_v1.0_B01_WTR.tif\n",
      "  warnings.warn(f'File already exists, skipping download: {os.path.join(path, filename)}')\n",
      "/Users/cmarshak/miniforge3/envs/dist-s1/lib/python3.12/site-packages/asf_search/download/download.py:68: UserWarning: File already exists, skipping download: out/jebel_ali_flood/dswx_hls/2024-04-22__S2B/OPERA_L3_DSWx-HLS_T40QBM_20240422T064629Z_20240427T010217Z_S2B_30_v1.0_B01_WTR.tif\n",
      "  warnings.warn(f'File already exists, skipping download: {os.path.join(path, filename)}')\n",
      "/Users/cmarshak/miniforge3/envs/dist-s1/lib/python3.12/site-packages/asf_search/download/download.py:68: UserWarning: File already exists, skipping download: out/jebel_ali_flood/dswx_hls/2024-04-22__S2B/OPERA_L3_DSWx-HLS_T40RBP_20240422T064629Z_20240425T054132Z_S2B_30_v1.0_B01_WTR.tif\n",
      "  warnings.warn(f'File already exists, skipping download: {os.path.join(path, filename)}')\n",
      "/Users/cmarshak/miniforge3/envs/dist-s1/lib/python3.12/site-packages/asf_search/download/download.py:68: UserWarning: File already exists, skipping download: out/jebel_ali_flood/dswx_hls/2024-04-22__S2B/OPERA_L3_DSWx-HLS_T39QZG_20240422T064629Z_20240427T003952Z_S2B_30_v1.0_B01_WTR.tif\n",
      "  warnings.warn(f'File already exists, skipping download: {os.path.join(path, filename)}')\n",
      "/Users/cmarshak/miniforge3/envs/dist-s1/lib/python3.12/site-packages/asf_search/download/download.py:68: UserWarning: File already exists, skipping download: out/jebel_ali_flood/dswx_hls/2024-04-22__S2B/OPERA_L3_DSWx-HLS_T40RCP_20240422T064629Z_20240427T003001Z_S2B_30_v1.0_B01_WTR.tif\n",
      "  warnings.warn(f'File already exists, skipping download: {os.path.join(path, filename)}')\n",
      "/Users/cmarshak/miniforge3/envs/dist-s1/lib/python3.12/site-packages/asf_search/download/download.py:68: UserWarning: File already exists, skipping download: out/jebel_ali_flood/dswx_hls/2024-04-22__S2B/OPERA_L3_DSWx-HLS_T40QCL_20240422T064629Z_20240425T151613Z_S2B_30_v1.0_B01_WTR.tif\n",
      "  warnings.warn(f'File already exists, skipping download: {os.path.join(path, filename)}')\n",
      "/Users/cmarshak/miniforge3/envs/dist-s1/lib/python3.12/site-packages/asf_search/download/download.py:68: UserWarning: File already exists, skipping download: out/jebel_ali_flood/dswx_hls/2024-04-22__S2B/OPERA_L3_DSWx-HLS_T40QDL_20240422T064629Z_20240425T054133Z_S2B_30_v1.0_B01_WTR.tif\n",
      "  warnings.warn(f'File already exists, skipping download: {os.path.join(path, filename)}')\n",
      "/Users/cmarshak/miniforge3/envs/dist-s1/lib/python3.12/site-packages/asf_search/download/download.py:68: UserWarning: File already exists, skipping download: out/jebel_ali_flood/dswx_hls/2024-04-22__S2B/OPERA_L3_DSWx-HLS_T40QBL_20240422T064629Z_20240426T224435Z_S2B_30_v1.0_B01_WTR.tif\n",
      "  warnings.warn(f'File already exists, skipping download: {os.path.join(path, filename)}')\n",
      "/Users/cmarshak/miniforge3/envs/dist-s1/lib/python3.12/site-packages/asf_search/download/download.py:68: UserWarning: File already exists, skipping download: out/jebel_ali_flood/dswx_hls/2024-04-22__S2B/OPERA_L3_DSWx-HLS_T39QZF_20240422T064629Z_20240427T015535Z_S2B_30_v1.0_B01_WTR.tif\n",
      "  warnings.warn(f'File already exists, skipping download: {os.path.join(path, filename)}')\n",
      "/Users/cmarshak/miniforge3/envs/dist-s1/lib/python3.12/site-packages/asf_search/download/download.py:68: UserWarning: File already exists, skipping download: out/jebel_ali_flood/dswx_hls/2024-04-22__S2B/OPERA_L3_DSWx-HLS_T39RZJ_20240422T064629Z_20240424T223226Z_S2B_30_v1.0_B01_WTR.tif\n",
      "  warnings.warn(f'File already exists, skipping download: {os.path.join(path, filename)}')\n",
      "/Users/cmarshak/miniforge3/envs/dist-s1/lib/python3.12/site-packages/asf_search/download/download.py:68: UserWarning: File already exists, skipping download: out/jebel_ali_flood/dswx_hls/2024-04-22__S2B/OPERA_L3_DSWx-HLS_T40RDN_20240422T064629Z_20240426T224431Z_S2B_30_v1.0_B01_WTR.tif\n",
      "  warnings.warn(f'File already exists, skipping download: {os.path.join(path, filename)}')\n",
      "dates:  88%|███████▉ | 42/48 [00:14<00:02,  2.83it/s]/Users/cmarshak/miniforge3/envs/dist-s1/lib/python3.12/site-packages/asf_search/download/download.py:68: UserWarning: File already exists, skipping download: out/jebel_ali_flood/dswx_hls/2024-04-25__S2B/OPERA_L3_DSWx-HLS_T40RBP_20240425T065619Z_20240427T094340Z_S2B_30_v1.0_B01_WTR.tif\n",
      "  warnings.warn(f'File already exists, skipping download: {os.path.join(path, filename)}')\n",
      "/Users/cmarshak/miniforge3/envs/dist-s1/lib/python3.12/site-packages/asf_search/download/download.py:68: UserWarning: File already exists, skipping download: out/jebel_ali_flood/dswx_hls/2024-04-25__S2B/OPERA_L3_DSWx-HLS_T40QBM_20240425T065619Z_20240428T022833Z_S2B_30_v1.0_B01_WTR.tif\n",
      "  warnings.warn(f'File already exists, skipping download: {os.path.join(path, filename)}')\n",
      "/Users/cmarshak/miniforge3/envs/dist-s1/lib/python3.12/site-packages/asf_search/download/download.py:68: UserWarning: File already exists, skipping download: out/jebel_ali_flood/dswx_hls/2024-04-25__S2B/OPERA_L3_DSWx-HLS_T39QZG_20240425T065619Z_20240427T094318Z_S2B_30_v1.0_B01_WTR.tif\n",
      "  warnings.warn(f'File already exists, skipping download: {os.path.join(path, filename)}')\n",
      "/Users/cmarshak/miniforge3/envs/dist-s1/lib/python3.12/site-packages/asf_search/download/download.py:68: UserWarning: File already exists, skipping download: out/jebel_ali_flood/dswx_hls/2024-04-25__S2B/OPERA_L3_DSWx-HLS_T40QBL_20240425T065619Z_20240427T094323Z_S2B_30_v1.0_B01_WTR.tif\n",
      "  warnings.warn(f'File already exists, skipping download: {os.path.join(path, filename)}')\n",
      "/Users/cmarshak/miniforge3/envs/dist-s1/lib/python3.12/site-packages/asf_search/download/download.py:68: UserWarning: File already exists, skipping download: out/jebel_ali_flood/dswx_hls/2024-04-25__S2B/OPERA_L3_DSWx-HLS_T39QZF_20240425T065619Z_20240427T094311Z_S2B_30_v1.0_B01_WTR.tif\n",
      "  warnings.warn(f'File already exists, skipping download: {os.path.join(path, filename)}')\n",
      "/Users/cmarshak/miniforge3/envs/dist-s1/lib/python3.12/site-packages/asf_search/download/download.py:68: UserWarning: File already exists, skipping download: out/jebel_ali_flood/dswx_hls/2024-04-25__S2B/OPERA_L3_DSWx-HLS_T40RBN_20240425T065619Z_20240427T094323Z_S2B_30_v1.0_B01_WTR.tif\n",
      "  warnings.warn(f'File already exists, skipping download: {os.path.join(path, filename)}')\n",
      "/Users/cmarshak/miniforge3/envs/dist-s1/lib/python3.12/site-packages/asf_search/download/download.py:68: UserWarning: File already exists, skipping download: out/jebel_ali_flood/dswx_hls/2024-04-25__S2B/OPERA_L3_DSWx-HLS_T40RCP_20240425T065619Z_20240427T094346Z_S2B_30_v1.0_B01_WTR.tif\n",
      "  warnings.warn(f'File already exists, skipping download: {os.path.join(path, filename)}')\n",
      "/Users/cmarshak/miniforge3/envs/dist-s1/lib/python3.12/site-packages/asf_search/download/download.py:68: UserWarning: File already exists, skipping download: out/jebel_ali_flood/dswx_hls/2024-04-25__S2B/OPERA_L3_DSWx-HLS_T39RZH_20240425T065619Z_20240427T094333Z_S2B_30_v1.0_B01_WTR.tif\n",
      "  warnings.warn(f'File already exists, skipping download: {os.path.join(path, filename)}')\n",
      "/Users/cmarshak/miniforge3/envs/dist-s1/lib/python3.12/site-packages/asf_search/download/download.py:68: UserWarning: File already exists, skipping download: out/jebel_ali_flood/dswx_hls/2024-04-25__S2B/OPERA_L3_DSWx-HLS_T39RZJ_20240425T065619Z_20240427T094328Z_S2B_30_v1.0_B01_WTR.tif\n",
      "  warnings.warn(f'File already exists, skipping download: {os.path.join(path, filename)}')\n",
      "dates:  90%|████████ | 43/48 [00:15<00:01,  2.56it/s]/Users/cmarshak/miniforge3/envs/dist-s1/lib/python3.12/site-packages/asf_search/download/download.py:68: UserWarning: File already exists, skipping download: out/jebel_ali_flood/dswx_hls/2024-04-29__S2B/OPERA_L3_DSWx-HLS_T40RDP_20240429T063629Z_20240501T154001Z_S2B_30_v1.0_B01_WTR.tif\n",
      "  warnings.warn(f'File already exists, skipping download: {os.path.join(path, filename)}')\n",
      "/Users/cmarshak/miniforge3/envs/dist-s1/lib/python3.12/site-packages/asf_search/download/download.py:68: UserWarning: File already exists, skipping download: out/jebel_ali_flood/dswx_hls/2024-04-29__S2B/OPERA_L3_DSWx-HLS_T40RDN_20240429T063629Z_20240501T213638Z_S2B_30_v1.0_B01_WTR.tif\n",
      "  warnings.warn(f'File already exists, skipping download: {os.path.join(path, filename)}')\n",
      "/Users/cmarshak/miniforge3/envs/dist-s1/lib/python3.12/site-packages/asf_search/download/download.py:68: UserWarning: File already exists, skipping download: out/jebel_ali_flood/dswx_hls/2024-04-29__S2B/OPERA_L3_DSWx-HLS_T40QDL_20240429T063629Z_20240501T153945Z_S2B_30_v1.0_B01_WTR.tif\n",
      "  warnings.warn(f'File already exists, skipping download: {os.path.join(path, filename)}')\n",
      "/Users/cmarshak/miniforge3/envs/dist-s1/lib/python3.12/site-packages/asf_search/download/download.py:68: UserWarning: File already exists, skipping download: out/jebel_ali_flood/dswx_hls/2024-04-29__S2B/OPERA_L3_DSWx-HLS_T40QDM_20240429T063629Z_20240501T153948Z_S2B_30_v1.0_B01_WTR.tif\n",
      "  warnings.warn(f'File already exists, skipping download: {os.path.join(path, filename)}')\n",
      "dates:  92%|████████▎| 44/48 [00:15<00:01,  2.63it/s]/Users/cmarshak/miniforge3/envs/dist-s1/lib/python3.12/site-packages/asf_search/download/download.py:68: UserWarning: File already exists, skipping download: out/jebel_ali_flood/dswx_hls/2024-05-05__S2B/OPERA_L3_DSWx-HLS_T40RCP_20240505T065619Z_20240508T125832Z_S2B_30_v1.0_B01_WTR.tif\n",
      "  warnings.warn(f'File already exists, skipping download: {os.path.join(path, filename)}')\n",
      "/Users/cmarshak/miniforge3/envs/dist-s1/lib/python3.12/site-packages/asf_search/download/download.py:68: UserWarning: File already exists, skipping download: out/jebel_ali_flood/dswx_hls/2024-05-05__S2B/OPERA_L3_DSWx-HLS_T40QBM_20240505T065619Z_20240508T125751Z_S2B_30_v1.0_B01_WTR.tif\n",
      "  warnings.warn(f'File already exists, skipping download: {os.path.join(path, filename)}')\n",
      "/Users/cmarshak/miniforge3/envs/dist-s1/lib/python3.12/site-packages/asf_search/download/download.py:68: UserWarning: File already exists, skipping download: out/jebel_ali_flood/dswx_hls/2024-05-05__S2B/OPERA_L3_DSWx-HLS_T39QZG_20240505T065619Z_20240508T125754Z_S2B_30_v1.0_B01_WTR.tif\n",
      "  warnings.warn(f'File already exists, skipping download: {os.path.join(path, filename)}')\n",
      "/Users/cmarshak/miniforge3/envs/dist-s1/lib/python3.12/site-packages/asf_search/download/download.py:68: UserWarning: File already exists, skipping download: out/jebel_ali_flood/dswx_hls/2024-05-05__S2B/OPERA_L3_DSWx-HLS_T39RZJ_20240505T065619Z_20240508T125827Z_S2B_30_v1.0_B01_WTR.tif\n",
      "  warnings.warn(f'File already exists, skipping download: {os.path.join(path, filename)}')\n",
      "/Users/cmarshak/miniforge3/envs/dist-s1/lib/python3.12/site-packages/asf_search/download/download.py:68: UserWarning: File already exists, skipping download: out/jebel_ali_flood/dswx_hls/2024-05-05__S2B/OPERA_L3_DSWx-HLS_T40RBP_20240505T065619Z_20240508T125817Z_S2B_30_v1.0_B01_WTR.tif\n",
      "  warnings.warn(f'File already exists, skipping download: {os.path.join(path, filename)}')\n",
      "/Users/cmarshak/miniforge3/envs/dist-s1/lib/python3.12/site-packages/asf_search/download/download.py:68: UserWarning: File already exists, skipping download: out/jebel_ali_flood/dswx_hls/2024-05-05__S2B/OPERA_L3_DSWx-HLS_T40QBL_20240505T065619Z_20240508T125749Z_S2B_30_v1.0_B01_WTR.tif\n",
      "  warnings.warn(f'File already exists, skipping download: {os.path.join(path, filename)}')\n",
      "/Users/cmarshak/miniforge3/envs/dist-s1/lib/python3.12/site-packages/asf_search/download/download.py:68: UserWarning: File already exists, skipping download: out/jebel_ali_flood/dswx_hls/2024-05-05__S2B/OPERA_L3_DSWx-HLS_T39QZF_20240505T065619Z_20240508T125728Z_S2B_30_v1.0_B01_WTR.tif\n",
      "  warnings.warn(f'File already exists, skipping download: {os.path.join(path, filename)}')\n",
      "/Users/cmarshak/miniforge3/envs/dist-s1/lib/python3.12/site-packages/asf_search/download/download.py:68: UserWarning: File already exists, skipping download: out/jebel_ali_flood/dswx_hls/2024-05-05__S2B/OPERA_L3_DSWx-HLS_T40RBN_20240505T065619Z_20240508T125826Z_S2B_30_v1.0_B01_WTR.tif\n",
      "  warnings.warn(f'File already exists, skipping download: {os.path.join(path, filename)}')\n",
      "/Users/cmarshak/miniforge3/envs/dist-s1/lib/python3.12/site-packages/asf_search/download/download.py:68: UserWarning: File already exists, skipping download: out/jebel_ali_flood/dswx_hls/2024-05-05__S2B/OPERA_L3_DSWx-HLS_T39RZH_20240505T065619Z_20240508T125900Z_S2B_30_v1.0_B01_WTR.tif\n",
      "  warnings.warn(f'File already exists, skipping download: {os.path.join(path, filename)}')\n",
      "dates:  94%|████████▍| 45/48 [00:15<00:01,  2.68it/s]/Users/cmarshak/miniforge3/envs/dist-s1/lib/python3.12/site-packages/asf_search/download/download.py:68: UserWarning: File already exists, skipping download: out/jebel_ali_flood/dswx_hls/2024-05-09__S2B/OPERA_L3_DSWx-HLS_T40RDP_20240509T063629Z_20240511T092956Z_S2B_30_v1.0_B01_WTR.tif\n",
      "  warnings.warn(f'File already exists, skipping download: {os.path.join(path, filename)}')\n",
      "/Users/cmarshak/miniforge3/envs/dist-s1/lib/python3.12/site-packages/asf_search/download/download.py:68: UserWarning: File already exists, skipping download: out/jebel_ali_flood/dswx_hls/2024-05-09__S2B/OPERA_L3_DSWx-HLS_T40RDN_20240509T063629Z_20240511T092953Z_S2B_30_v1.0_B01_WTR.tif\n",
      "  warnings.warn(f'File already exists, skipping download: {os.path.join(path, filename)}')\n",
      "/Users/cmarshak/miniforge3/envs/dist-s1/lib/python3.12/site-packages/asf_search/download/download.py:68: UserWarning: File already exists, skipping download: out/jebel_ali_flood/dswx_hls/2024-05-09__S2B/OPERA_L3_DSWx-HLS_T40QDM_20240509T063629Z_20240511T132619Z_S2B_30_v1.0_B01_WTR.tif\n",
      "  warnings.warn(f'File already exists, skipping download: {os.path.join(path, filename)}')\n",
      "/Users/cmarshak/miniforge3/envs/dist-s1/lib/python3.12/site-packages/asf_search/download/download.py:68: UserWarning: File already exists, skipping download: out/jebel_ali_flood/dswx_hls/2024-05-09__S2B/OPERA_L3_DSWx-HLS_T40QDL_20240509T063629Z_20240511T092941Z_S2B_30_v1.0_B01_WTR.tif\n",
      "  warnings.warn(f'File already exists, skipping download: {os.path.join(path, filename)}')\n",
      "dates:  96%|████████▋| 46/48 [00:16<00:00,  2.73it/s]/Users/cmarshak/miniforge3/envs/dist-s1/lib/python3.12/site-packages/asf_search/download/download.py:68: UserWarning: File already exists, skipping download: out/jebel_ali_flood/dswx_hls/2024-05-12__S2B/OPERA_L3_DSWx-HLS_T39RZJ_20240512T064629Z_20240514T093613Z_S2B_30_v1.0_B01_WTR.tif\n",
      "  warnings.warn(f'File already exists, skipping download: {os.path.join(path, filename)}')\n",
      "/Users/cmarshak/miniforge3/envs/dist-s1/lib/python3.12/site-packages/asf_search/download/download.py:68: UserWarning: File already exists, skipping download: out/jebel_ali_flood/dswx_hls/2024-05-12__S2B/OPERA_L3_DSWx-HLS_T40RCN_20240512T064629Z_20240514T093631Z_S2B_30_v1.0_B01_WTR.tif\n",
      "  warnings.warn(f'File already exists, skipping download: {os.path.join(path, filename)}')\n",
      "/Users/cmarshak/miniforge3/envs/dist-s1/lib/python3.12/site-packages/asf_search/download/download.py:68: UserWarning: File already exists, skipping download: out/jebel_ali_flood/dswx_hls/2024-05-12__S2B/OPERA_L3_DSWx-HLS_T40RBN_20240512T064629Z_20240514T093612Z_S2B_30_v1.0_B01_WTR.tif\n",
      "  warnings.warn(f'File already exists, skipping download: {os.path.join(path, filename)}')\n",
      "/Users/cmarshak/miniforge3/envs/dist-s1/lib/python3.12/site-packages/asf_search/download/download.py:68: UserWarning: File already exists, skipping download: out/jebel_ali_flood/dswx_hls/2024-05-12__S2B/OPERA_L3_DSWx-HLS_T39RZH_20240512T064629Z_20240514T093609Z_S2B_30_v1.0_B01_WTR.tif\n",
      "  warnings.warn(f'File already exists, skipping download: {os.path.join(path, filename)}')\n",
      "/Users/cmarshak/miniforge3/envs/dist-s1/lib/python3.12/site-packages/asf_search/download/download.py:68: UserWarning: File already exists, skipping download: out/jebel_ali_flood/dswx_hls/2024-05-12__S2B/OPERA_L3_DSWx-HLS_T40QDM_20240512T064629Z_20240514T093617Z_S2B_30_v1.0_B01_WTR.tif\n",
      "  warnings.warn(f'File already exists, skipping download: {os.path.join(path, filename)}')\n",
      "/Users/cmarshak/miniforge3/envs/dist-s1/lib/python3.12/site-packages/asf_search/download/download.py:68: UserWarning: File already exists, skipping download: out/jebel_ali_flood/dswx_hls/2024-05-12__S2B/OPERA_L3_DSWx-HLS_T40QCM_20240512T064629Z_20240514T112036Z_S2B_30_v1.0_B01_WTR.tif\n",
      "  warnings.warn(f'File already exists, skipping download: {os.path.join(path, filename)}')\n",
      "/Users/cmarshak/miniforge3/envs/dist-s1/lib/python3.12/site-packages/asf_search/download/download.py:68: UserWarning: File already exists, skipping download: out/jebel_ali_flood/dswx_hls/2024-05-12__S2B/OPERA_L3_DSWx-HLS_T40QBM_20240512T064629Z_20240514T093608Z_S2B_30_v1.0_B01_WTR.tif\n",
      "  warnings.warn(f'File already exists, skipping download: {os.path.join(path, filename)}')\n",
      "/Users/cmarshak/miniforge3/envs/dist-s1/lib/python3.12/site-packages/asf_search/download/download.py:68: UserWarning: File already exists, skipping download: out/jebel_ali_flood/dswx_hls/2024-05-12__S2B/OPERA_L3_DSWx-HLS_T39QZG_20240512T064629Z_20240514T093609Z_S2B_30_v1.0_B01_WTR.tif\n",
      "  warnings.warn(f'File already exists, skipping download: {os.path.join(path, filename)}')\n",
      "/Users/cmarshak/miniforge3/envs/dist-s1/lib/python3.12/site-packages/asf_search/download/download.py:68: UserWarning: File already exists, skipping download: out/jebel_ali_flood/dswx_hls/2024-05-12__S2B/OPERA_L3_DSWx-HLS_T40QDL_20240512T064629Z_20240514T112041Z_S2B_30_v1.0_B01_WTR.tif\n",
      "  warnings.warn(f'File already exists, skipping download: {os.path.join(path, filename)}')\n",
      "/Users/cmarshak/miniforge3/envs/dist-s1/lib/python3.12/site-packages/asf_search/download/download.py:68: UserWarning: File already exists, skipping download: out/jebel_ali_flood/dswx_hls/2024-05-12__S2B/OPERA_L3_DSWx-HLS_T40QCL_20240512T064629Z_20240514T113536Z_S2B_30_v1.0_B01_WTR.tif\n",
      "  warnings.warn(f'File already exists, skipping download: {os.path.join(path, filename)}')\n",
      "/Users/cmarshak/miniforge3/envs/dist-s1/lib/python3.12/site-packages/asf_search/download/download.py:68: UserWarning: File already exists, skipping download: out/jebel_ali_flood/dswx_hls/2024-05-12__S2B/OPERA_L3_DSWx-HLS_T40QBL_20240512T064629Z_20240514T093605Z_S2B_30_v1.0_B01_WTR.tif\n",
      "  warnings.warn(f'File already exists, skipping download: {os.path.join(path, filename)}')\n",
      "/Users/cmarshak/miniforge3/envs/dist-s1/lib/python3.12/site-packages/asf_search/download/download.py:68: UserWarning: File already exists, skipping download: out/jebel_ali_flood/dswx_hls/2024-05-12__S2B/OPERA_L3_DSWx-HLS_T39QZF_20240512T064629Z_20240514T093605Z_S2B_30_v1.0_B01_WTR.tif\n",
      "  warnings.warn(f'File already exists, skipping download: {os.path.join(path, filename)}')\n",
      "/Users/cmarshak/miniforge3/envs/dist-s1/lib/python3.12/site-packages/asf_search/download/download.py:68: UserWarning: File already exists, skipping download: out/jebel_ali_flood/dswx_hls/2024-05-12__S2B/OPERA_L3_DSWx-HLS_T40RDP_20240512T064629Z_20240514T093635Z_S2B_30_v1.0_B01_WTR.tif\n",
      "  warnings.warn(f'File already exists, skipping download: {os.path.join(path, filename)}')\n",
      "/Users/cmarshak/miniforge3/envs/dist-s1/lib/python3.12/site-packages/asf_search/download/download.py:68: UserWarning: File already exists, skipping download: out/jebel_ali_flood/dswx_hls/2024-05-12__S2B/OPERA_L3_DSWx-HLS_T40RBP_20240512T064629Z_20240514T093620Z_S2B_30_v1.0_B01_WTR.tif\n",
      "  warnings.warn(f'File already exists, skipping download: {os.path.join(path, filename)}')\n",
      "/Users/cmarshak/miniforge3/envs/dist-s1/lib/python3.12/site-packages/asf_search/download/download.py:68: UserWarning: File already exists, skipping download: out/jebel_ali_flood/dswx_hls/2024-05-12__S2B/OPERA_L3_DSWx-HLS_T40RDN_20240512T064629Z_20240514T093625Z_S2B_30_v1.0_B01_WTR.tif\n",
      "  warnings.warn(f'File already exists, skipping download: {os.path.join(path, filename)}')\n",
      "/Users/cmarshak/miniforge3/envs/dist-s1/lib/python3.12/site-packages/asf_search/download/download.py:68: UserWarning: File already exists, skipping download: out/jebel_ali_flood/dswx_hls/2024-05-12__S2B/OPERA_L3_DSWx-HLS_T40RCP_20240512T064629Z_20240514T093622Z_S2B_30_v1.0_B01_WTR.tif\n",
      "  warnings.warn(f'File already exists, skipping download: {os.path.join(path, filename)}')\n",
      "dates:  98%|████████▊| 47/48 [00:16<00:00,  2.74it/s]/Users/cmarshak/miniforge3/envs/dist-s1/lib/python3.12/site-packages/asf_search/download/download.py:68: UserWarning: File already exists, skipping download: out/jebel_ali_flood/dswx_hls/2024-05-15__S2B/OPERA_L3_DSWx-HLS_T40RCP_20240515T065619Z_20240517T093445Z_S2B_30_v1.0_B01_WTR.tif\n",
      "  warnings.warn(f'File already exists, skipping download: {os.path.join(path, filename)}')\n",
      "/Users/cmarshak/miniforge3/envs/dist-s1/lib/python3.12/site-packages/asf_search/download/download.py:68: UserWarning: File already exists, skipping download: out/jebel_ali_flood/dswx_hls/2024-05-15__S2B/OPERA_L3_DSWx-HLS_T40QBM_20240515T065619Z_20240517T073840Z_S2B_30_v1.0_B01_WTR.tif\n",
      "  warnings.warn(f'File already exists, skipping download: {os.path.join(path, filename)}')\n",
      "/Users/cmarshak/miniforge3/envs/dist-s1/lib/python3.12/site-packages/asf_search/download/download.py:68: UserWarning: File already exists, skipping download: out/jebel_ali_flood/dswx_hls/2024-05-15__S2B/OPERA_L3_DSWx-HLS_T39QZG_20240515T065619Z_20240517T093435Z_S2B_30_v1.0_B01_WTR.tif\n",
      "  warnings.warn(f'File already exists, skipping download: {os.path.join(path, filename)}')\n",
      "/Users/cmarshak/miniforge3/envs/dist-s1/lib/python3.12/site-packages/asf_search/download/download.py:68: UserWarning: File already exists, skipping download: out/jebel_ali_flood/dswx_hls/2024-05-15__S2B/OPERA_L3_DSWx-HLS_T40QBL_20240515T065619Z_20240517T093427Z_S2B_30_v1.0_B01_WTR.tif\n",
      "  warnings.warn(f'File already exists, skipping download: {os.path.join(path, filename)}')\n",
      "/Users/cmarshak/miniforge3/envs/dist-s1/lib/python3.12/site-packages/asf_search/download/download.py:68: UserWarning: File already exists, skipping download: out/jebel_ali_flood/dswx_hls/2024-05-15__S2B/OPERA_L3_DSWx-HLS_T39QZF_20240515T065619Z_20240517T133433Z_S2B_30_v1.0_B01_WTR.tif\n",
      "  warnings.warn(f'File already exists, skipping download: {os.path.join(path, filename)}')\n",
      "/Users/cmarshak/miniforge3/envs/dist-s1/lib/python3.12/site-packages/asf_search/download/download.py:68: UserWarning: File already exists, skipping download: out/jebel_ali_flood/dswx_hls/2024-05-15__S2B/OPERA_L3_DSWx-HLS_T40RBP_20240515T065619Z_20240517T112958Z_S2B_30_v1.0_B01_WTR.tif\n",
      "  warnings.warn(f'File already exists, skipping download: {os.path.join(path, filename)}')\n",
      "/Users/cmarshak/miniforge3/envs/dist-s1/lib/python3.12/site-packages/asf_search/download/download.py:68: UserWarning: File already exists, skipping download: out/jebel_ali_flood/dswx_hls/2024-05-15__S2B/OPERA_L3_DSWx-HLS_T39RZJ_20240515T065619Z_20240517T093441Z_S2B_30_v1.0_B01_WTR.tif\n",
      "  warnings.warn(f'File already exists, skipping download: {os.path.join(path, filename)}')\n",
      "/Users/cmarshak/miniforge3/envs/dist-s1/lib/python3.12/site-packages/asf_search/download/download.py:68: UserWarning: File already exists, skipping download: out/jebel_ali_flood/dswx_hls/2024-05-15__S2B/OPERA_L3_DSWx-HLS_T40RBN_20240515T065619Z_20240517T093420Z_S2B_30_v1.0_B01_WTR.tif\n",
      "  warnings.warn(f'File already exists, skipping download: {os.path.join(path, filename)}')\n",
      "/Users/cmarshak/miniforge3/envs/dist-s1/lib/python3.12/site-packages/asf_search/download/download.py:68: UserWarning: File already exists, skipping download: out/jebel_ali_flood/dswx_hls/2024-05-15__S2B/OPERA_L3_DSWx-HLS_T39RZH_20240515T065619Z_20240517T093443Z_S2B_30_v1.0_B01_WTR.tif\n",
      "  warnings.warn(f'File already exists, skipping download: {os.path.join(path, filename)}')\n",
      "dates: 100%|█████████| 48/48 [00:17<00:00,  2.81it/s]"
     ]
    },
    {
     "name": "stdout",
     "output_type": "stream",
     "text": [
      "CPU times: user 210 ms, sys: 794 ms, total: 1 s\n",
      "Wall time: 17.1 s\n"
     ]
    },
    {
     "name": "stderr",
     "output_type": "stream",
     "text": [
      "\n"
     ]
    }
   ],
   "source": [
    "%%time\n",
    "\n",
    "for (sensor, date), df_rtc_date in tqdm(df_resp.groupby(['sensor', 'acq_date']), desc='dates'):\n",
    "    wtr_links = df_rtc_date['0_B01_WTR']\n",
    "    \n",
    "    date_dir = dswx_hls_dir / f'{str(date)}__{sensor}'\n",
    "    date_dir.mkdir(exist_ok=True, parents=True)\n",
    "\n",
    "    asf.download_urls(urls=wtr_links, path=date_dir, processes=5)"
   ]
  },
  {
   "cell_type": "markdown",
   "id": "7ff8f55a-3410-4a7d-921b-acbbb5ee27f3",
   "metadata": {},
   "source": [
    "# Merge"
   ]
  },
  {
   "cell_type": "code",
   "execution_count": 20,
   "id": "312b6730-f35d-4af9-b9c0-552f88622eb6",
   "metadata": {},
   "outputs": [
    {
     "data": {
      "text/plain": [
       "[PosixPath('out/jebel_ali_flood/dswx_hls/2024-03-17__L8'),\n",
       " PosixPath('out/jebel_ali_flood/dswx_hls/2024-03-18__S2A'),\n",
       " PosixPath('out/jebel_ali_flood/dswx_hls/2024-03-19__L8'),\n",
       " PosixPath('out/jebel_ali_flood/dswx_hls/2024-03-20__S2B'),\n",
       " PosixPath('out/jebel_ali_flood/dswx_hls/2024-03-21__S2A'),\n",
       " PosixPath('out/jebel_ali_flood/dswx_hls/2024-03-23__S2B'),\n",
       " PosixPath('out/jebel_ali_flood/dswx_hls/2024-03-24__L8'),\n",
       " PosixPath('out/jebel_ali_flood/dswx_hls/2024-03-25__S2A'),\n",
       " PosixPath('out/jebel_ali_flood/dswx_hls/2024-03-26__L8'),\n",
       " PosixPath('out/jebel_ali_flood/dswx_hls/2024-03-26__S2B'),\n",
       " PosixPath('out/jebel_ali_flood/dswx_hls/2024-03-28__L8'),\n",
       " PosixPath('out/jebel_ali_flood/dswx_hls/2024-03-28__S2A'),\n",
       " PosixPath('out/jebel_ali_flood/dswx_hls/2024-03-30__S2B'),\n",
       " PosixPath('out/jebel_ali_flood/dswx_hls/2024-04-02__L8'),\n",
       " PosixPath('out/jebel_ali_flood/dswx_hls/2024-04-02__S2B'),\n",
       " PosixPath('out/jebel_ali_flood/dswx_hls/2024-04-04__L8'),\n",
       " PosixPath('out/jebel_ali_flood/dswx_hls/2024-04-04__S2A'),\n",
       " PosixPath('out/jebel_ali_flood/dswx_hls/2024-04-05__S2B'),\n",
       " PosixPath('out/jebel_ali_flood/dswx_hls/2024-04-07__S2A'),\n",
       " PosixPath('out/jebel_ali_flood/dswx_hls/2024-04-09__S2B'),\n",
       " PosixPath('out/jebel_ali_flood/dswx_hls/2024-04-10__S2A'),\n",
       " PosixPath('out/jebel_ali_flood/dswx_hls/2024-04-11__L8'),\n",
       " PosixPath('out/jebel_ali_flood/dswx_hls/2024-04-12__S2B'),\n",
       " PosixPath('out/jebel_ali_flood/dswx_hls/2024-04-13__L8'),\n",
       " PosixPath('out/jebel_ali_flood/dswx_hls/2024-04-14__S2A'),\n",
       " PosixPath('out/jebel_ali_flood/dswx_hls/2024-04-15__S2B'),\n",
       " PosixPath('out/jebel_ali_flood/dswx_hls/2024-04-17__S2A'),\n",
       " PosixPath('out/jebel_ali_flood/dswx_hls/2024-04-18__L8'),\n",
       " PosixPath('out/jebel_ali_flood/dswx_hls/2024-04-19__S2B'),\n",
       " PosixPath('out/jebel_ali_flood/dswx_hls/2024-04-20__L8'),\n",
       " PosixPath('out/jebel_ali_flood/dswx_hls/2024-04-20__S2A'),\n",
       " PosixPath('out/jebel_ali_flood/dswx_hls/2024-04-22__S2B'),\n",
       " PosixPath('out/jebel_ali_flood/dswx_hls/2024-04-25__L8'),\n",
       " PosixPath('out/jebel_ali_flood/dswx_hls/2024-04-25__S2B'),\n",
       " PosixPath('out/jebel_ali_flood/dswx_hls/2024-04-27__L8'),\n",
       " PosixPath('out/jebel_ali_flood/dswx_hls/2024-04-27__S2A'),\n",
       " PosixPath('out/jebel_ali_flood/dswx_hls/2024-04-29__L8'),\n",
       " PosixPath('out/jebel_ali_flood/dswx_hls/2024-04-29__S2B'),\n",
       " PosixPath('out/jebel_ali_flood/dswx_hls/2024-04-30__S2A'),\n",
       " PosixPath('out/jebel_ali_flood/dswx_hls/2024-05-04__L8'),\n",
       " PosixPath('out/jebel_ali_flood/dswx_hls/2024-05-04__S2A'),\n",
       " PosixPath('out/jebel_ali_flood/dswx_hls/2024-05-05__S2B'),\n",
       " PosixPath('out/jebel_ali_flood/dswx_hls/2024-05-06__L8'),\n",
       " PosixPath('out/jebel_ali_flood/dswx_hls/2024-05-07__S2A'),\n",
       " PosixPath('out/jebel_ali_flood/dswx_hls/2024-05-09__S2B'),\n",
       " PosixPath('out/jebel_ali_flood/dswx_hls/2024-05-10__S2A'),\n",
       " PosixPath('out/jebel_ali_flood/dswx_hls/2024-05-11__L8'),\n",
       " PosixPath('out/jebel_ali_flood/dswx_hls/2024-05-12__S2B'),\n",
       " PosixPath('out/jebel_ali_flood/dswx_hls/2024-05-13__L8'),\n",
       " PosixPath('out/jebel_ali_flood/dswx_hls/2024-05-15__L8'),\n",
       " PosixPath('out/jebel_ali_flood/dswx_hls/2024-05-15__S2B')]"
      ]
     },
     "execution_count": 20,
     "metadata": {},
     "output_type": "execute_result"
    }
   ],
   "source": [
    "all_acq_dirs = sorted([acq_dir for acq_dir in dswx_hls_dir.glob('*')])\n",
    "all_acq_dirs = list(filter(lambda p: p.is_dir(), all_acq_dirs))\n",
    "all_acq_dirs"
   ]
  },
  {
   "cell_type": "code",
   "execution_count": 81,
   "id": "910eee8f-534e-4c4a-81be-b540f7adac7b",
   "metadata": {},
   "outputs": [],
   "source": [
    "import concurrent.futures\n",
    "import warnings\n",
    "from typing import Union\n",
    "\n",
    "import numpy as np\n",
    "import rasterio\n",
    "from rasterio.crs import CRS\n",
    "from rasterio.enums import Resampling\n",
    "from rasterio.io import MemoryFile\n",
    "from rasterio.merge import merge\n",
    "from rasterio.windows import Window\n",
    "from shapely.geometry import box\n",
    "from tqdm import tqdm\n",
    "\n",
    "def merge_arrays_with_geometadata(\n",
    "    arrays: list[np.ndarray],\n",
    "    profiles: list[dict],\n",
    "    resampling='bilinear',\n",
    "    nodata = None,\n",
    "    dtype: str = None,\n",
    "    method='first',\n",
    ") -> tuple[np.ndarray, dict]:\n",
    "    n_dim = arrays[0].shape\n",
    "    if len(n_dim) not in [2, 3]:\n",
    "        raise ValueError('Currently arrays must be in BIP format' 'i.e. channels x height x width or flat array')\n",
    "    if len(set([len(arr.shape) for arr in arrays])) != 1:\n",
    "        raise ValueError('All arrays must have same number of dimensions i.e. 2 or 3')\n",
    "\n",
    "    if len(n_dim) == 2:\n",
    "        arrays_input = [arr[np.newaxis, ...] for arr in arrays]\n",
    "    else:\n",
    "        arrays_input = arrays\n",
    "\n",
    "    if (len(arrays)) != (len(profiles)):\n",
    "        raise ValueError('Length of arrays and profiles needs to be the same')\n",
    "\n",
    "    memfiles = [MemoryFile() for p in profiles]\n",
    "    datasets = [mfile.open(**p) for (mfile, p) in zip(memfiles, profiles)]\n",
    "    [ds.write(arr) for (ds, arr) in zip(datasets, arrays_input)]\n",
    "\n",
    "    if dtype is None:\n",
    "        dst_dtype = profiles[0]['dtype']\n",
    "    if nodata is None:\n",
    "        dst_nodata = profiles[0]['nodata']\n",
    "\n",
    "    merged_arr, merged_trans = merge(\n",
    "        datasets, resampling=Resampling[resampling], method='min', nodata=dst_nodata, dtype=dst_dtype\n",
    "    )\n",
    "\n",
    "    prof_merged = profiles[0].copy()\n",
    "    prof_merged['transform'] = merged_trans\n",
    "    prof_merged['count'] = merged_arr.shape[0]\n",
    "    prof_merged['height'] = merged_arr.shape[1]\n",
    "    prof_merged['width'] = merged_arr.shape[2]\n",
    "    prof_merged['nodata'] = dst_nodata\n",
    "    prof_merged['dtype'] = dst_dtype\n",
    "    \n",
    "    [ds.close() for ds in datasets]\n",
    "    [mfile.close() for mfile in memfiles]\n",
    "\n",
    "    return merged_arr, prof_merged"
   ]
  },
  {
   "cell_type": "code",
   "execution_count": 85,
   "id": "41471056-8dbf-40dc-97fc-e0fbc9054295",
   "metadata": {},
   "outputs": [],
   "source": [
    "#from dem_stitcher.merge import merge_arrays_with_geometadata\n",
    "\n",
    "def get_crs(path: str) -> Path:\n",
    "    with rasterio.open(path) as ds:\n",
    "        crs = ds.crs\n",
    "    return crs\n",
    "\n",
    "def get_profile(path: Path) -> dict:\n",
    "    with rasterio.open(path) as ds:\n",
    "        p = ds.profile\n",
    "    return p\n",
    "\n",
    "\n",
    "def read_one(path: Path) -> tuple:\n",
    "    with rasterio.open(path) as ds:\n",
    "        p = ds.profile\n",
    "        X = ds.read()\n",
    "    return X, p\n",
    "\n",
    "def merge_one_dir(acq_dir: Path) -> list:\n",
    "    all_img_paths = sorted(list(acq_dir.glob(f'OPERA*.tif')))\n",
    "    crs_l = list(map(get_crs, all_img_paths))\n",
    "\n",
    "    \n",
    "    stem = acq_dir.stem\n",
    "    dst_path = acq_dir / f'__{stem}_merged.tif'\n",
    "    if len(list(set(crs_l))) == 1:\n",
    "        merge(all_img_paths, dtype='uint8', method='min', dst_path=dst_path)\n",
    "    else:\n",
    "        profiles = list(map(get_profile, all_img_paths))\n",
    "        ref_crs = crs_l[0]\n",
    "        ref_profile = profiles[0]\n",
    "\n",
    "        with rasterio.open(all_img_paths[0]) as ds:\n",
    "            cmap = ds.colormap(1)\n",
    "        zipped_data = [read_one(path) for path in all_img_paths]\n",
    "        zipped_data = [(X, p) if p['crs'] == ref_crs \n",
    "                       else reproject_arr_to_new_crs(X, \n",
    "                                                     p, \n",
    "                                                     ref_crs, \n",
    "                                                     resampling='nearest') \n",
    "                       for (X, p) in zipped_data ]\n",
    "        arrays, profiles_dst = zip(*zipped_data)\n",
    "        arrays = [arr[0, ...] for arr in arrays]\n",
    "        X_m, p_m = merge_arrays_with_geometadata(arrays, \n",
    "                                                 profiles_dst, \n",
    "                                                 resampling='nearest',\n",
    "                                                 method='first')\n",
    "        with rasterio.open(dst_path, 'w', **p_m) as ds:\n",
    "            ds.write(X_m)\n",
    "            ds.write_colormap(1, cmap)\n",
    "    return dst_path"
   ]
  },
  {
   "cell_type": "code",
   "execution_count": 86,
   "id": "4ec6bce9-fef8-4a22-b5e3-75662eb4f84b",
   "metadata": {},
   "outputs": [
    {
     "data": {
      "text/plain": [
       "[(0, PosixPath('out/jebel_ali_flood/dswx_hls/2024-03-17__L8')),\n",
       " (1, PosixPath('out/jebel_ali_flood/dswx_hls/2024-03-18__S2A')),\n",
       " (2, PosixPath('out/jebel_ali_flood/dswx_hls/2024-03-19__L8')),\n",
       " (3, PosixPath('out/jebel_ali_flood/dswx_hls/2024-03-20__S2B')),\n",
       " (4, PosixPath('out/jebel_ali_flood/dswx_hls/2024-03-21__S2A')),\n",
       " (5, PosixPath('out/jebel_ali_flood/dswx_hls/2024-03-23__S2B')),\n",
       " (6, PosixPath('out/jebel_ali_flood/dswx_hls/2024-03-24__L8')),\n",
       " (7, PosixPath('out/jebel_ali_flood/dswx_hls/2024-03-25__S2A')),\n",
       " (8, PosixPath('out/jebel_ali_flood/dswx_hls/2024-03-26__L8')),\n",
       " (9, PosixPath('out/jebel_ali_flood/dswx_hls/2024-03-26__S2B')),\n",
       " (10, PosixPath('out/jebel_ali_flood/dswx_hls/2024-03-28__L8')),\n",
       " (11, PosixPath('out/jebel_ali_flood/dswx_hls/2024-03-28__S2A')),\n",
       " (12, PosixPath('out/jebel_ali_flood/dswx_hls/2024-03-30__S2B')),\n",
       " (13, PosixPath('out/jebel_ali_flood/dswx_hls/2024-04-02__L8')),\n",
       " (14, PosixPath('out/jebel_ali_flood/dswx_hls/2024-04-02__S2B')),\n",
       " (15, PosixPath('out/jebel_ali_flood/dswx_hls/2024-04-04__L8')),\n",
       " (16, PosixPath('out/jebel_ali_flood/dswx_hls/2024-04-04__S2A')),\n",
       " (17, PosixPath('out/jebel_ali_flood/dswx_hls/2024-04-05__S2B')),\n",
       " (18, PosixPath('out/jebel_ali_flood/dswx_hls/2024-04-07__S2A')),\n",
       " (19, PosixPath('out/jebel_ali_flood/dswx_hls/2024-04-09__S2B')),\n",
       " (20, PosixPath('out/jebel_ali_flood/dswx_hls/2024-04-10__S2A')),\n",
       " (21, PosixPath('out/jebel_ali_flood/dswx_hls/2024-04-11__L8')),\n",
       " (22, PosixPath('out/jebel_ali_flood/dswx_hls/2024-04-12__S2B')),\n",
       " (23, PosixPath('out/jebel_ali_flood/dswx_hls/2024-04-13__L8')),\n",
       " (24, PosixPath('out/jebel_ali_flood/dswx_hls/2024-04-14__S2A')),\n",
       " (25, PosixPath('out/jebel_ali_flood/dswx_hls/2024-04-15__S2B')),\n",
       " (26, PosixPath('out/jebel_ali_flood/dswx_hls/2024-04-17__S2A')),\n",
       " (27, PosixPath('out/jebel_ali_flood/dswx_hls/2024-04-18__L8')),\n",
       " (28, PosixPath('out/jebel_ali_flood/dswx_hls/2024-04-19__S2B')),\n",
       " (29, PosixPath('out/jebel_ali_flood/dswx_hls/2024-04-20__L8')),\n",
       " (30, PosixPath('out/jebel_ali_flood/dswx_hls/2024-04-20__S2A')),\n",
       " (31, PosixPath('out/jebel_ali_flood/dswx_hls/2024-04-22__S2B')),\n",
       " (32, PosixPath('out/jebel_ali_flood/dswx_hls/2024-04-25__L8')),\n",
       " (33, PosixPath('out/jebel_ali_flood/dswx_hls/2024-04-25__S2B')),\n",
       " (34, PosixPath('out/jebel_ali_flood/dswx_hls/2024-04-27__L8')),\n",
       " (35, PosixPath('out/jebel_ali_flood/dswx_hls/2024-04-27__S2A')),\n",
       " (36, PosixPath('out/jebel_ali_flood/dswx_hls/2024-04-29__L8')),\n",
       " (37, PosixPath('out/jebel_ali_flood/dswx_hls/2024-04-29__S2B')),\n",
       " (38, PosixPath('out/jebel_ali_flood/dswx_hls/2024-04-30__S2A')),\n",
       " (39, PosixPath('out/jebel_ali_flood/dswx_hls/2024-05-04__L8')),\n",
       " (40, PosixPath('out/jebel_ali_flood/dswx_hls/2024-05-04__S2A')),\n",
       " (41, PosixPath('out/jebel_ali_flood/dswx_hls/2024-05-05__S2B')),\n",
       " (42, PosixPath('out/jebel_ali_flood/dswx_hls/2024-05-06__L8')),\n",
       " (43, PosixPath('out/jebel_ali_flood/dswx_hls/2024-05-07__S2A')),\n",
       " (44, PosixPath('out/jebel_ali_flood/dswx_hls/2024-05-09__S2B')),\n",
       " (45, PosixPath('out/jebel_ali_flood/dswx_hls/2024-05-10__S2A')),\n",
       " (46, PosixPath('out/jebel_ali_flood/dswx_hls/2024-05-11__L8')),\n",
       " (47, PosixPath('out/jebel_ali_flood/dswx_hls/2024-05-12__S2B')),\n",
       " (48, PosixPath('out/jebel_ali_flood/dswx_hls/2024-05-13__L8')),\n",
       " (49, PosixPath('out/jebel_ali_flood/dswx_hls/2024-05-15__L8')),\n",
       " (50, PosixPath('out/jebel_ali_flood/dswx_hls/2024-05-15__S2B'))]"
      ]
     },
     "execution_count": 86,
     "metadata": {},
     "output_type": "execute_result"
    }
   ],
   "source": [
    "list(enumerate(all_acq_dirs))"
   ]
  },
  {
   "cell_type": "code",
   "execution_count": 88,
   "id": "c60a8cd7-f524-4c86-82fc-491a1e73d2c8",
   "metadata": {},
   "outputs": [
    {
     "name": "stdout",
     "output_type": "stream",
     "text": [
      "255.0 uint8\n",
      "{'driver': 'GTiff', 'dtype': 'uint8', 'nodata': 255.0, 'width': 10796, 'height': 14139, 'count': 1, 'crs': CRS.from_epsg(32639), 'transform': Affine(30.0, 0.0, 799652.4356356872,\n",
      "       0.0, -30.0, 2914408.9280173755), 'blockxsize': 512, 'blockysize': 512, 'tiled': True, 'compress': 'deflate', 'interleave': 'band'}\n"
     ]
    },
    {
     "data": {
      "text/plain": [
       "PosixPath('out/jebel_ali_flood/dswx_hls/2024-04-11__L8/__2024-04-11__L8_merged.tif')"
      ]
     },
     "execution_count": 88,
     "metadata": {},
     "output_type": "execute_result"
    }
   ],
   "source": [
    "merge_one_dir(all_acq_dirs[21])"
   ]
  },
  {
   "cell_type": "code",
   "execution_count": 89,
   "id": "33f17ef9-e2ee-43d9-842f-cdfa8be4c87f",
   "metadata": {},
   "outputs": [
    {
     "name": "stderr",
     "output_type": "stream",
     "text": [
      "  0%|                                                                                                                                   | 0/51 [00:00<?, ?it/s]"
     ]
    },
    {
     "name": "stdout",
     "output_type": "stream",
     "text": [
      "255.0 uint8\n"
     ]
    },
    {
     "name": "stderr",
     "output_type": "stream",
     "text": [
      "  2%|██▍                                                                                                                        | 1/51 [00:02<02:00,  2.41s/it]"
     ]
    },
    {
     "name": "stdout",
     "output_type": "stream",
     "text": [
      "{'driver': 'GTiff', 'dtype': 'uint8', 'nodata': 255.0, 'width': 7574, 'height': 13829, 'count': 1, 'crs': CRS.from_epsg(32639), 'transform': Affine(30.0, 0.0, 699960.0,\n",
      "       0.0, -30.0, 2905114.3998004096), 'blockxsize': 512, 'blockysize': 512, 'tiled': True, 'compress': 'deflate', 'interleave': 'band'}\n",
      "255.0 uint8\n"
     ]
    },
    {
     "name": "stderr",
     "output_type": "stream",
     "text": [
      "  4%|████▊                                                                                                                      | 2/51 [00:08<03:31,  4.32s/it]"
     ]
    },
    {
     "name": "stdout",
     "output_type": "stream",
     "text": [
      "{'driver': 'GTiff', 'dtype': 'uint8', 'nodata': 255.0, 'width': 10933, 'height': 14139, 'count': 1, 'crs': CRS.from_epsg(32639), 'transform': Affine(30.0, 0.0, 799652.4356356872,\n",
      "       0.0, -30.0, 2914408.9280173755), 'blockxsize': 512, 'blockysize': 512, 'tiled': True, 'compress': 'deflate', 'interleave': 'band'}\n"
     ]
    },
    {
     "name": "stderr",
     "output_type": "stream",
     "text": [
      "  6%|███████▏                                                                                                                   | 3/51 [00:08<02:08,  2.68s/it]"
     ]
    },
    {
     "name": "stdout",
     "output_type": "stream",
     "text": [
      "255.0 uint8\n"
     ]
    },
    {
     "name": "stderr",
     "output_type": "stream",
     "text": [
      " 10%|████████████                                                                                                               | 5/51 [00:11<01:30,  1.96s/it]"
     ]
    },
    {
     "name": "stdout",
     "output_type": "stream",
     "text": [
      "{'driver': 'GTiff', 'dtype': 'uint8', 'nodata': 255.0, 'width': 10488, 'height': 13984, 'count': 1, 'crs': CRS.from_epsg(32639), 'transform': Affine(30.0, 0.0, 699960.0,\n",
      "       0.0, -30.0, 2909756.665607162), 'blockxsize': 512, 'blockysize': 512, 'tiled': True, 'compress': 'deflate', 'interleave': 'band'}\n",
      "255.0 uint8\n"
     ]
    },
    {
     "name": "stderr",
     "output_type": "stream",
     "text": [
      " 12%|██████████████▍                                                                                                            | 6/51 [00:12<01:15,  1.69s/it]"
     ]
    },
    {
     "name": "stdout",
     "output_type": "stream",
     "text": [
      "{'driver': 'GTiff', 'dtype': 'uint8', 'nodata': 255.0, 'width': 10922, 'height': 4102, 'count': 1, 'crs': CRS.from_epsg(32639), 'transform': Affine(30.0, 0.0, 799980.0,\n",
      "       0.0, -30.0, 2613293.360473935), 'blockxsize': 512, 'blockysize': 512, 'tiled': True, 'compress': 'deflate', 'interleave': 'band'}\n"
     ]
    },
    {
     "name": "stderr",
     "output_type": "stream",
     "text": [
      " 16%|███████████████████▎                                                                                                       | 8/51 [00:13<00:44,  1.02s/it]"
     ]
    },
    {
     "name": "stdout",
     "output_type": "stream",
     "text": [
      "255.0 uint8\n"
     ]
    },
    {
     "name": "stderr",
     "output_type": "stream",
     "text": [
      " 18%|█████████████████████▋                                                                                                     | 9/51 [00:17<01:22,  1.97s/it]"
     ]
    },
    {
     "name": "stdout",
     "output_type": "stream",
     "text": [
      "{'driver': 'GTiff', 'dtype': 'uint8', 'nodata': 255.0, 'width': 10796, 'height': 14139, 'count': 1, 'crs': CRS.from_epsg(32639), 'transform': Affine(30.0, 0.0, 799652.4356356872,\n",
      "       0.0, -30.0, 2914408.9280173755), 'blockxsize': 512, 'blockysize': 512, 'tiled': True, 'compress': 'deflate', 'interleave': 'band'}\n",
      "255.0 uint8\n"
     ]
    },
    {
     "name": "stderr",
     "output_type": "stream",
     "text": [
      " 20%|███████████████████████▉                                                                                                  | 10/51 [00:20<01:29,  2.19s/it]"
     ]
    },
    {
     "name": "stdout",
     "output_type": "stream",
     "text": [
      "{'driver': 'GTiff', 'dtype': 'uint8', 'nodata': 255.0, 'width': 10488, 'height': 13984, 'count': 1, 'crs': CRS.from_epsg(32639), 'transform': Affine(30.0, 0.0, 699960.0,\n",
      "       0.0, -30.0, 2909756.665607162), 'blockxsize': 512, 'blockysize': 512, 'tiled': True, 'compress': 'deflate', 'interleave': 'band'}\n",
      "255.0 uint8\n"
     ]
    },
    {
     "name": "stderr",
     "output_type": "stream",
     "text": [
      " 24%|████████████████████████████▋                                                                                             | 12/51 [00:26<01:36,  2.48s/it]"
     ]
    },
    {
     "name": "stdout",
     "output_type": "stream",
     "text": [
      "{'driver': 'GTiff', 'dtype': 'uint8', 'nodata': 255.0, 'width': 10933, 'height': 14139, 'count': 1, 'crs': CRS.from_epsg(32639), 'transform': Affine(30.0, 0.0, 799652.4356356872,\n",
      "       0.0, -30.0, 2914408.9280173755), 'blockxsize': 512, 'blockysize': 512, 'tiled': True, 'compress': 'deflate', 'interleave': 'band'}\n"
     ]
    },
    {
     "name": "stderr",
     "output_type": "stream",
     "text": [
      " 25%|███████████████████████████████                                                                                           | 13/51 [00:26<01:15,  1.97s/it]"
     ]
    },
    {
     "name": "stdout",
     "output_type": "stream",
     "text": [
      "255.0 uint8\n"
     ]
    },
    {
     "name": "stderr",
     "output_type": "stream",
     "text": [
      " 27%|█████████████████████████████████▍                                                                                        | 14/51 [00:29<01:16,  2.07s/it]"
     ]
    },
    {
     "name": "stdout",
     "output_type": "stream",
     "text": [
      "{'driver': 'GTiff', 'dtype': 'uint8', 'nodata': 255.0, 'width': 7574, 'height': 13829, 'count': 1, 'crs': CRS.from_epsg(32639), 'transform': Affine(30.0, 0.0, 699960.0,\n",
      "       0.0, -30.0, 2905114.3998004096), 'blockxsize': 512, 'blockysize': 512, 'tiled': True, 'compress': 'deflate', 'interleave': 'band'}\n",
      "255.0 uint8\n"
     ]
    },
    {
     "name": "stderr",
     "output_type": "stream",
     "text": [
      " 29%|███████████████████████████████████▉                                                                                      | 15/51 [00:36<02:04,  3.45s/it]"
     ]
    },
    {
     "name": "stdout",
     "output_type": "stream",
     "text": [
      "{'driver': 'GTiff', 'dtype': 'uint8', 'nodata': 255.0, 'width': 10933, 'height': 14139, 'count': 1, 'crs': CRS.from_epsg(32639), 'transform': Affine(30.0, 0.0, 799652.4356356872,\n",
      "       0.0, -30.0, 2914408.9280173755), 'blockxsize': 512, 'blockysize': 512, 'tiled': True, 'compress': 'deflate', 'interleave': 'band'}\n"
     ]
    },
    {
     "name": "stderr",
     "output_type": "stream",
     "text": [
      " 33%|████████████████████████████████████████▋                                                                                 | 17/51 [00:37<01:07,  2.00s/it]"
     ]
    },
    {
     "name": "stdout",
     "output_type": "stream",
     "text": [
      "255.0 uint8\n"
     ]
    },
    {
     "name": "stderr",
     "output_type": "stream",
     "text": [
      " 35%|███████████████████████████████████████████                                                                               | 18/51 [00:40<01:14,  2.26s/it]"
     ]
    },
    {
     "name": "stdout",
     "output_type": "stream",
     "text": [
      "{'driver': 'GTiff', 'dtype': 'uint8', 'nodata': 255.0, 'width': 10488, 'height': 13984, 'count': 1, 'crs': CRS.from_epsg(32639), 'transform': Affine(30.0, 0.0, 699960.0,\n",
      "       0.0, -30.0, 2909756.665607162), 'blockxsize': 512, 'blockysize': 512, 'tiled': True, 'compress': 'deflate', 'interleave': 'band'}\n",
      "255.0 uint8\n"
     ]
    },
    {
     "name": "stderr",
     "output_type": "stream",
     "text": [
      " 37%|█████████████████████████████████████████████▍                                                                            | 19/51 [00:43<01:19,  2.49s/it]"
     ]
    },
    {
     "name": "stdout",
     "output_type": "stream",
     "text": [
      "{'driver': 'GTiff', 'dtype': 'uint8', 'nodata': 255.0, 'width': 10654, 'height': 14139, 'count': 1, 'crs': CRS.from_epsg(32639), 'transform': Affine(30.0, 0.0, 799652.4356356872,\n",
      "       0.0, -30.0, 2914408.9280173755), 'blockxsize': 512, 'blockysize': 512, 'tiled': True, 'compress': 'deflate', 'interleave': 'band'}\n"
     ]
    },
    {
     "name": "stderr",
     "output_type": "stream",
     "text": [
      " 39%|███████████████████████████████████████████████▊                                                                          | 20/51 [00:43<00:56,  1.83s/it]"
     ]
    },
    {
     "name": "stdout",
     "output_type": "stream",
     "text": [
      "255.0 uint8\n"
     ]
    },
    {
     "name": "stderr",
     "output_type": "stream",
     "text": [
      " 41%|██████████████████████████████████████████████████▏                                                                       | 21/51 [00:45<00:59,  1.99s/it]"
     ]
    },
    {
     "name": "stdout",
     "output_type": "stream",
     "text": [
      "{'driver': 'GTiff', 'dtype': 'uint8', 'nodata': 255.0, 'width': 10488, 'height': 13984, 'count': 1, 'crs': CRS.from_epsg(32639), 'transform': Affine(30.0, 0.0, 699960.0,\n",
      "       0.0, -30.0, 2909756.665607162), 'blockxsize': 512, 'blockysize': 512, 'tiled': True, 'compress': 'deflate', 'interleave': 'band'}\n",
      "255.0 uint8\n"
     ]
    },
    {
     "name": "stderr",
     "output_type": "stream",
     "text": [
      " 43%|████████████████████████████████████████████████████▋                                                                     | 22/51 [00:51<01:24,  2.91s/it]"
     ]
    },
    {
     "name": "stdout",
     "output_type": "stream",
     "text": [
      "{'driver': 'GTiff', 'dtype': 'uint8', 'nodata': 255.0, 'width': 10796, 'height': 14139, 'count': 1, 'crs': CRS.from_epsg(32639), 'transform': Affine(30.0, 0.0, 799652.4356356872,\n",
      "       0.0, -30.0, 2914408.9280173755), 'blockxsize': 512, 'blockysize': 512, 'tiled': True, 'compress': 'deflate', 'interleave': 'band'}\n",
      "255.0 uint8\n"
     ]
    },
    {
     "name": "stderr",
     "output_type": "stream",
     "text": [
      " 45%|███████████████████████████████████████████████████████                                                                   | 23/51 [00:56<01:44,  3.74s/it]"
     ]
    },
    {
     "name": "stdout",
     "output_type": "stream",
     "text": [
      "{'driver': 'GTiff', 'dtype': 'uint8', 'nodata': 255.0, 'width': 10933, 'height': 14139, 'count': 1, 'crs': CRS.from_epsg(32639), 'transform': Affine(30.0, 0.0, 799652.4356356872,\n",
      "       0.0, -30.0, 2914408.9280173755), 'blockxsize': 512, 'blockysize': 512, 'tiled': True, 'compress': 'deflate', 'interleave': 'band'}\n"
     ]
    },
    {
     "name": "stderr",
     "output_type": "stream",
     "text": [
      " 49%|███████████████████████████████████████████████████████████▊                                                              | 25/51 [00:57<00:55,  2.12s/it]"
     ]
    },
    {
     "name": "stdout",
     "output_type": "stream",
     "text": [
      "255.0 uint8\n"
     ]
    },
    {
     "name": "stderr",
     "output_type": "stream",
     "text": [
      " 51%|██████████████████████████████████████████████████████████████▏                                                           | 26/51 [00:59<00:57,  2.29s/it]"
     ]
    },
    {
     "name": "stdout",
     "output_type": "stream",
     "text": [
      "{'driver': 'GTiff', 'dtype': 'uint8', 'nodata': 255.0, 'width': 10488, 'height': 13984, 'count': 1, 'crs': CRS.from_epsg(32639), 'transform': Affine(30.0, 0.0, 699960.0,\n",
      "       0.0, -30.0, 2909756.665607162), 'blockxsize': 512, 'blockysize': 512, 'tiled': True, 'compress': 'deflate', 'interleave': 'band'}\n",
      "255.0 uint8\n"
     ]
    },
    {
     "name": "stderr",
     "output_type": "stream",
     "text": [
      " 53%|████████████████████████████████████████████████████████████████▌                                                         | 27/51 [01:06<01:22,  3.43s/it]"
     ]
    },
    {
     "name": "stdout",
     "output_type": "stream",
     "text": [
      "{'driver': 'GTiff', 'dtype': 'uint8', 'nodata': 255.0, 'width': 10933, 'height': 14139, 'count': 1, 'crs': CRS.from_epsg(32639), 'transform': Affine(30.0, 0.0, 799652.4356356872,\n",
      "       0.0, -30.0, 2914408.9280173755), 'blockxsize': 512, 'blockysize': 512, 'tiled': True, 'compress': 'deflate', 'interleave': 'band'}\n",
      "255.0 uint8\n"
     ]
    },
    {
     "name": "stderr",
     "output_type": "stream",
     "text": [
      " 55%|██████████████████████████████████████████████████████████████████▉                                                       | 28/51 [01:09<01:12,  3.14s/it]"
     ]
    },
    {
     "name": "stdout",
     "output_type": "stream",
     "text": [
      "{'driver': 'GTiff', 'dtype': 'uint8', 'nodata': 255.0, 'width': 7574, 'height': 13829, 'count': 1, 'crs': CRS.from_epsg(32639), 'transform': Affine(30.0, 0.0, 699960.0,\n",
      "       0.0, -30.0, 2905114.3998004096), 'blockxsize': 512, 'blockysize': 512, 'tiled': True, 'compress': 'deflate', 'interleave': 'band'}\n"
     ]
    },
    {
     "name": "stderr",
     "output_type": "stream",
     "text": [
      " 59%|███████████████████████████████████████████████████████████████████████▊                                                  | 30/51 [01:10<00:39,  1.87s/it]"
     ]
    },
    {
     "name": "stdout",
     "output_type": "stream",
     "text": [
      "255.0 uint8\n"
     ]
    },
    {
     "name": "stderr",
     "output_type": "stream",
     "text": [
      " 61%|██████████████████████████████████████████████████████████████████████████▏                                               | 31/51 [01:13<00:44,  2.21s/it]"
     ]
    },
    {
     "name": "stdout",
     "output_type": "stream",
     "text": [
      "{'driver': 'GTiff', 'dtype': 'uint8', 'nodata': 255.0, 'width': 10488, 'height': 13984, 'count': 1, 'crs': CRS.from_epsg(32639), 'transform': Affine(30.0, 0.0, 699960.0,\n",
      "       0.0, -30.0, 2909756.665607162), 'blockxsize': 512, 'blockysize': 512, 'tiled': True, 'compress': 'deflate', 'interleave': 'band'}\n",
      "255.0 uint8\n"
     ]
    },
    {
     "name": "stderr",
     "output_type": "stream",
     "text": [
      " 63%|████████████████████████████████████████████████████████████████████████████▌                                             | 32/51 [01:18<01:01,  3.23s/it]"
     ]
    },
    {
     "name": "stdout",
     "output_type": "stream",
     "text": [
      "{'driver': 'GTiff', 'dtype': 'uint8', 'nodata': 255.0, 'width': 10933, 'height': 14139, 'count': 1, 'crs': CRS.from_epsg(32639), 'transform': Affine(30.0, 0.0, 799652.4356356872,\n",
      "       0.0, -30.0, 2914408.9280173755), 'blockxsize': 512, 'blockysize': 512, 'tiled': True, 'compress': 'deflate', 'interleave': 'band'}\n",
      "255.0 uint8\n"
     ]
    },
    {
     "name": "stderr",
     "output_type": "stream",
     "text": [
      " 67%|█████████████████████████████████████████████████████████████████████████████████▎                                        | 34/51 [01:22<00:43,  2.57s/it]"
     ]
    },
    {
     "name": "stdout",
     "output_type": "stream",
     "text": [
      "{'driver': 'GTiff', 'dtype': 'uint8', 'nodata': 255.0, 'width': 10488, 'height': 13984, 'count': 1, 'crs': CRS.from_epsg(32639), 'transform': Affine(30.0, 0.0, 699960.0,\n",
      "       0.0, -30.0, 2909756.665607162), 'blockxsize': 512, 'blockysize': 512, 'tiled': True, 'compress': 'deflate', 'interleave': 'band'}\n",
      "255.0 uint8\n"
     ]
    },
    {
     "name": "stderr",
     "output_type": "stream",
     "text": [
      " 69%|███████████████████████████████████████████████████████████████████████████████████▋                                      | 35/51 [01:27<00:51,  3.22s/it]"
     ]
    },
    {
     "name": "stdout",
     "output_type": "stream",
     "text": [
      "{'driver': 'GTiff', 'dtype': 'uint8', 'nodata': 255.0, 'width': 10796, 'height': 14139, 'count': 1, 'crs': CRS.from_epsg(32639), 'transform': Affine(30.0, 0.0, 799652.4356356872,\n",
      "       0.0, -30.0, 2914408.9280173755), 'blockxsize': 512, 'blockysize': 512, 'tiled': True, 'compress': 'deflate', 'interleave': 'band'}\n",
      "255.0 uint8\n"
     ]
    },
    {
     "name": "stderr",
     "output_type": "stream",
     "text": [
      " 71%|██████████████████████████████████████████████████████████████████████████████████████                                    | 36/51 [01:34<01:02,  4.20s/it]"
     ]
    },
    {
     "name": "stdout",
     "output_type": "stream",
     "text": [
      "{'driver': 'GTiff', 'dtype': 'uint8', 'nodata': 255.0, 'width': 10933, 'height': 14139, 'count': 1, 'crs': CRS.from_epsg(32639), 'transform': Affine(30.0, 0.0, 799652.4356356872,\n",
      "       0.0, -30.0, 2914408.9280173755), 'blockxsize': 512, 'blockysize': 512, 'tiled': True, 'compress': 'deflate', 'interleave': 'band'}\n"
     ]
    },
    {
     "name": "stderr",
     "output_type": "stream",
     "text": [
      " 75%|██████████████████████████████████████████████████████████████████████████████████████████▉                               | 38/51 [01:34<00:32,  2.49s/it]"
     ]
    },
    {
     "name": "stdout",
     "output_type": "stream",
     "text": [
      "255.0 uint8\n"
     ]
    },
    {
     "name": "stderr",
     "output_type": "stream",
     "text": [
      " 76%|█████████████████████████████████████████████████████████████████████████████████████████████▎                            | 39/51 [01:37<00:30,  2.57s/it]"
     ]
    },
    {
     "name": "stdout",
     "output_type": "stream",
     "text": [
      "{'driver': 'GTiff', 'dtype': 'uint8', 'nodata': 255.0, 'width': 10488, 'height': 13984, 'count': 1, 'crs': CRS.from_epsg(32639), 'transform': Affine(30.0, 0.0, 699960.0,\n",
      "       0.0, -30.0, 2909756.665607162), 'blockxsize': 512, 'blockysize': 512, 'tiled': True, 'compress': 'deflate', 'interleave': 'band'}\n",
      "255.0 uint8\n"
     ]
    },
    {
     "name": "stderr",
     "output_type": "stream",
     "text": [
      " 78%|███████████████████████████████████████████████████████████████████████████████████████████████▋                          | 40/51 [01:40<00:28,  2.55s/it]"
     ]
    },
    {
     "name": "stdout",
     "output_type": "stream",
     "text": [
      "{'driver': 'GTiff', 'dtype': 'uint8', 'nodata': 255.0, 'width': 7574, 'height': 13829, 'count': 1, 'crs': CRS.from_epsg(32639), 'transform': Affine(30.0, 0.0, 699960.0,\n",
      "       0.0, -30.0, 2905114.3998004096), 'blockxsize': 512, 'blockysize': 512, 'tiled': True, 'compress': 'deflate', 'interleave': 'band'}\n"
     ]
    },
    {
     "name": "stderr",
     "output_type": "stream",
     "text": [
      " 80%|██████████████████████████████████████████████████████████████████████████████████████████████████                        | 41/51 [01:40<00:20,  2.02s/it]"
     ]
    },
    {
     "name": "stdout",
     "output_type": "stream",
     "text": [
      "255.0 uint8\n"
     ]
    },
    {
     "name": "stderr",
     "output_type": "stream",
     "text": [
      " 82%|████████████████████████████████████████████████████████████████████████████████████████████████████▍                     | 42/51 [01:43<00:20,  2.24s/it]"
     ]
    },
    {
     "name": "stdout",
     "output_type": "stream",
     "text": [
      "{'driver': 'GTiff', 'dtype': 'uint8', 'nodata': 255.0, 'width': 10488, 'height': 13984, 'count': 1, 'crs': CRS.from_epsg(32639), 'transform': Affine(30.0, 0.0, 699960.0,\n",
      "       0.0, -30.0, 2909756.665607162), 'blockxsize': 512, 'blockysize': 512, 'tiled': True, 'compress': 'deflate', 'interleave': 'band'}\n"
     ]
    },
    {
     "name": "stderr",
     "output_type": "stream",
     "text": [
      " 84%|██████████████████████████████████████████████████████████████████████████████████████████████████████▊                   | 43/51 [01:44<00:14,  1.80s/it]"
     ]
    },
    {
     "name": "stdout",
     "output_type": "stream",
     "text": [
      "255.0 uint8\n"
     ]
    },
    {
     "name": "stderr",
     "output_type": "stream",
     "text": [
      " 86%|█████████████████████████████████████████████████████████████████████████████████████████████████████████▎                | 44/51 [01:49<00:20,  2.92s/it]"
     ]
    },
    {
     "name": "stdout",
     "output_type": "stream",
     "text": [
      "{'driver': 'GTiff', 'dtype': 'uint8', 'nodata': 255.0, 'width': 10933, 'height': 14139, 'count': 1, 'crs': CRS.from_epsg(32639), 'transform': Affine(30.0, 0.0, 799652.4356356872,\n",
      "       0.0, -30.0, 2914408.9280173755), 'blockxsize': 512, 'blockysize': 512, 'tiled': True, 'compress': 'deflate', 'interleave': 'band'}\n"
     ]
    },
    {
     "name": "stderr",
     "output_type": "stream",
     "text": [
      " 88%|███████████████████████████████████████████████████████████████████████████████████████████████████████████▋              | 45/51 [01:50<00:12,  2.16s/it]"
     ]
    },
    {
     "name": "stdout",
     "output_type": "stream",
     "text": [
      "255.0 uint8\n"
     ]
    },
    {
     "name": "stderr",
     "output_type": "stream",
     "text": [
      " 92%|████████████████████████████████████████████████████████████████████████████████████████████████████████████████▍         | 47/51 [01:54<00:07,  2.00s/it]"
     ]
    },
    {
     "name": "stdout",
     "output_type": "stream",
     "text": [
      "{'driver': 'GTiff', 'dtype': 'uint8', 'nodata': 255.0, 'width': 10488, 'height': 13984, 'count': 1, 'crs': CRS.from_epsg(32639), 'transform': Affine(30.0, 0.0, 699960.0,\n",
      "       0.0, -30.0, 2909756.665607162), 'blockxsize': 512, 'blockysize': 512, 'tiled': True, 'compress': 'deflate', 'interleave': 'band'}\n",
      "255.0 uint8\n"
     ]
    },
    {
     "name": "stderr",
     "output_type": "stream",
     "text": [
      " 94%|██████████████████████████████████████████████████████████████████████████████████████████████████████████████████▊       | 48/51 [02:00<00:09,  3.07s/it]"
     ]
    },
    {
     "name": "stdout",
     "output_type": "stream",
     "text": [
      "{'driver': 'GTiff', 'dtype': 'uint8', 'nodata': 255.0, 'width': 10933, 'height': 14139, 'count': 1, 'crs': CRS.from_epsg(32639), 'transform': Affine(30.0, 0.0, 799652.4356356872,\n",
      "       0.0, -30.0, 2914408.9280173755), 'blockxsize': 512, 'blockysize': 512, 'tiled': True, 'compress': 'deflate', 'interleave': 'band'}\n",
      "255.0 uint8\n"
     ]
    },
    {
     "name": "stderr",
     "output_type": "stream",
     "text": [
      " 96%|█████████████████████████████████████████████████████████████████████████████████████████████████████████████████████▏    | 49/51 [02:05<00:07,  3.68s/it]"
     ]
    },
    {
     "name": "stdout",
     "output_type": "stream",
     "text": [
      "{'driver': 'GTiff', 'dtype': 'uint8', 'nodata': 255.0, 'width': 10796, 'height': 14139, 'count': 1, 'crs': CRS.from_epsg(32639), 'transform': Affine(30.0, 0.0, 799652.4356356872,\n",
      "       0.0, -30.0, 2914408.9280173755), 'blockxsize': 512, 'blockysize': 512, 'tiled': True, 'compress': 'deflate', 'interleave': 'band'}\n",
      "255.0 uint8\n"
     ]
    },
    {
     "name": "stderr",
     "output_type": "stream",
     "text": [
      "100%|██████████████████████████████████████████████████████████████████████████████████████████████████████████████████████████| 51/51 [02:08<00:00,  2.52s/it]"
     ]
    },
    {
     "name": "stdout",
     "output_type": "stream",
     "text": [
      "{'driver': 'GTiff', 'dtype': 'uint8', 'nodata': 255.0, 'width': 10488, 'height': 13984, 'count': 1, 'crs': CRS.from_epsg(32639), 'transform': Affine(30.0, 0.0, 699960.0,\n",
      "       0.0, -30.0, 2909756.665607162), 'blockxsize': 512, 'blockysize': 512, 'tiled': True, 'compress': 'deflate', 'interleave': 'band'}\n"
     ]
    },
    {
     "name": "stderr",
     "output_type": "stream",
     "text": [
      "\n"
     ]
    },
    {
     "data": {
      "text/plain": [
       "[PosixPath('out/jebel_ali_flood/dswx_hls/2024-03-17__L8/__2024-03-17__L8_merged.tif'),\n",
       " PosixPath('out/jebel_ali_flood/dswx_hls/2024-03-18__S2A/__2024-03-18__S2A_merged.tif'),\n",
       " PosixPath('out/jebel_ali_flood/dswx_hls/2024-03-19__L8/__2024-03-19__L8_merged.tif'),\n",
       " PosixPath('out/jebel_ali_flood/dswx_hls/2024-03-20__S2B/__2024-03-20__S2B_merged.tif'),\n",
       " PosixPath('out/jebel_ali_flood/dswx_hls/2024-03-21__S2A/__2024-03-21__S2A_merged.tif'),\n",
       " PosixPath('out/jebel_ali_flood/dswx_hls/2024-03-23__S2B/__2024-03-23__S2B_merged.tif'),\n",
       " PosixPath('out/jebel_ali_flood/dswx_hls/2024-03-24__L8/__2024-03-24__L8_merged.tif'),\n",
       " PosixPath('out/jebel_ali_flood/dswx_hls/2024-03-25__S2A/__2024-03-25__S2A_merged.tif'),\n",
       " PosixPath('out/jebel_ali_flood/dswx_hls/2024-03-26__L8/__2024-03-26__L8_merged.tif'),\n",
       " PosixPath('out/jebel_ali_flood/dswx_hls/2024-03-26__S2B/__2024-03-26__S2B_merged.tif'),\n",
       " PosixPath('out/jebel_ali_flood/dswx_hls/2024-03-28__L8/__2024-03-28__L8_merged.tif'),\n",
       " PosixPath('out/jebel_ali_flood/dswx_hls/2024-03-28__S2A/__2024-03-28__S2A_merged.tif'),\n",
       " PosixPath('out/jebel_ali_flood/dswx_hls/2024-03-30__S2B/__2024-03-30__S2B_merged.tif'),\n",
       " PosixPath('out/jebel_ali_flood/dswx_hls/2024-04-02__L8/__2024-04-02__L8_merged.tif'),\n",
       " PosixPath('out/jebel_ali_flood/dswx_hls/2024-04-02__S2B/__2024-04-02__S2B_merged.tif'),\n",
       " PosixPath('out/jebel_ali_flood/dswx_hls/2024-04-04__L8/__2024-04-04__L8_merged.tif'),\n",
       " PosixPath('out/jebel_ali_flood/dswx_hls/2024-04-04__S2A/__2024-04-04__S2A_merged.tif'),\n",
       " PosixPath('out/jebel_ali_flood/dswx_hls/2024-04-05__S2B/__2024-04-05__S2B_merged.tif'),\n",
       " PosixPath('out/jebel_ali_flood/dswx_hls/2024-04-07__S2A/__2024-04-07__S2A_merged.tif'),\n",
       " PosixPath('out/jebel_ali_flood/dswx_hls/2024-04-09__S2B/__2024-04-09__S2B_merged.tif'),\n",
       " PosixPath('out/jebel_ali_flood/dswx_hls/2024-04-10__S2A/__2024-04-10__S2A_merged.tif'),\n",
       " PosixPath('out/jebel_ali_flood/dswx_hls/2024-04-11__L8/__2024-04-11__L8_merged.tif'),\n",
       " PosixPath('out/jebel_ali_flood/dswx_hls/2024-04-12__S2B/__2024-04-12__S2B_merged.tif'),\n",
       " PosixPath('out/jebel_ali_flood/dswx_hls/2024-04-13__L8/__2024-04-13__L8_merged.tif'),\n",
       " PosixPath('out/jebel_ali_flood/dswx_hls/2024-04-14__S2A/__2024-04-14__S2A_merged.tif'),\n",
       " PosixPath('out/jebel_ali_flood/dswx_hls/2024-04-15__S2B/__2024-04-15__S2B_merged.tif'),\n",
       " PosixPath('out/jebel_ali_flood/dswx_hls/2024-04-17__S2A/__2024-04-17__S2A_merged.tif'),\n",
       " PosixPath('out/jebel_ali_flood/dswx_hls/2024-04-18__L8/__2024-04-18__L8_merged.tif'),\n",
       " PosixPath('out/jebel_ali_flood/dswx_hls/2024-04-19__S2B/__2024-04-19__S2B_merged.tif'),\n",
       " PosixPath('out/jebel_ali_flood/dswx_hls/2024-04-20__L8/__2024-04-20__L8_merged.tif'),\n",
       " PosixPath('out/jebel_ali_flood/dswx_hls/2024-04-20__S2A/__2024-04-20__S2A_merged.tif'),\n",
       " PosixPath('out/jebel_ali_flood/dswx_hls/2024-04-22__S2B/__2024-04-22__S2B_merged.tif'),\n",
       " PosixPath('out/jebel_ali_flood/dswx_hls/2024-04-25__L8/__2024-04-25__L8_merged.tif'),\n",
       " PosixPath('out/jebel_ali_flood/dswx_hls/2024-04-25__S2B/__2024-04-25__S2B_merged.tif'),\n",
       " PosixPath('out/jebel_ali_flood/dswx_hls/2024-04-27__L8/__2024-04-27__L8_merged.tif'),\n",
       " PosixPath('out/jebel_ali_flood/dswx_hls/2024-04-27__S2A/__2024-04-27__S2A_merged.tif'),\n",
       " PosixPath('out/jebel_ali_flood/dswx_hls/2024-04-29__L8/__2024-04-29__L8_merged.tif'),\n",
       " PosixPath('out/jebel_ali_flood/dswx_hls/2024-04-29__S2B/__2024-04-29__S2B_merged.tif'),\n",
       " PosixPath('out/jebel_ali_flood/dswx_hls/2024-04-30__S2A/__2024-04-30__S2A_merged.tif'),\n",
       " PosixPath('out/jebel_ali_flood/dswx_hls/2024-05-04__L8/__2024-05-04__L8_merged.tif'),\n",
       " PosixPath('out/jebel_ali_flood/dswx_hls/2024-05-04__S2A/__2024-05-04__S2A_merged.tif'),\n",
       " PosixPath('out/jebel_ali_flood/dswx_hls/2024-05-05__S2B/__2024-05-05__S2B_merged.tif'),\n",
       " PosixPath('out/jebel_ali_flood/dswx_hls/2024-05-06__L8/__2024-05-06__L8_merged.tif'),\n",
       " PosixPath('out/jebel_ali_flood/dswx_hls/2024-05-07__S2A/__2024-05-07__S2A_merged.tif'),\n",
       " PosixPath('out/jebel_ali_flood/dswx_hls/2024-05-09__S2B/__2024-05-09__S2B_merged.tif'),\n",
       " PosixPath('out/jebel_ali_flood/dswx_hls/2024-05-10__S2A/__2024-05-10__S2A_merged.tif'),\n",
       " PosixPath('out/jebel_ali_flood/dswx_hls/2024-05-11__L8/__2024-05-11__L8_merged.tif'),\n",
       " PosixPath('out/jebel_ali_flood/dswx_hls/2024-05-12__S2B/__2024-05-12__S2B_merged.tif'),\n",
       " PosixPath('out/jebel_ali_flood/dswx_hls/2024-05-13__L8/__2024-05-13__L8_merged.tif'),\n",
       " PosixPath('out/jebel_ali_flood/dswx_hls/2024-05-15__L8/__2024-05-15__L8_merged.tif'),\n",
       " PosixPath('out/jebel_ali_flood/dswx_hls/2024-05-15__S2B/__2024-05-15__S2B_merged.tif')]"
      ]
     },
     "execution_count": 89,
     "metadata": {},
     "output_type": "execute_result"
    }
   ],
   "source": [
    "dst_paths = [merge_one_dir(acq_dir) for acq_dir in tqdm(all_acq_dirs)]\n",
    "dst_paths"
   ]
  },
  {
   "cell_type": "code",
   "execution_count": 95,
   "id": "17db1f9f-8eba-4081-aaec-3f7f49d4b30c",
   "metadata": {},
   "outputs": [
    {
     "data": {
      "text/plain": [
       "PosixPath('out/jebel_ali_flood/dswx_hls_ts_merged')"
      ]
     },
     "execution_count": 95,
     "metadata": {},
     "output_type": "execute_result"
    }
   ],
   "source": [
    "ts_dir = dswx_hls_dir.parent / 'dswx_hls_ts_merged'\n",
    "ts_dir.mkdir(exist_ok=True, parents=True)\n",
    "ts_dir"
   ]
  },
  {
   "cell_type": "code",
   "execution_count": 91,
   "id": "97219136-0bb4-4ed7-a611-79528550177d",
   "metadata": {},
   "outputs": [],
   "source": [
    "\n",
    "def get_idx_with_largest_size(paths: list[Path]) -> int:\n",
    "    def get_size(path: Path) -> int:\n",
    "        with rasterio.open(path) as ds:\n",
    "            m, n = ds.shape\n",
    "\n",
    "        return m * n\n",
    "\n",
    "    sizes = list(map(get_size, paths))\n",
    "    idx = np.argmax(sizes)\n",
    "    return idx\n",
    "\n",
    "def make_cube(paths: list[Path]):\n",
    "    ref_idx = get_idx_with_largest_size(paths)\n",
    "\n",
    "\n",
    "    profiles = list(map(get_profile, paths))\n",
    "    ref_profile = profiles[ref_idx]\n",
    "\n",
    "    cube_paths = []\n",
    "    for p, path in zip(profiles, paths):\n",
    "        out_path = ts_dir / path.name\n",
    "        \n",
    "        cond0 = (p['transform'] == ref_profile['transform'])\n",
    "        cond1 = (p['width'] == ref_profile['width'])\n",
    "        cond2 = (p['height'] == ref_profile['height'])\n",
    "        cond3 = (p['crs'] == ref_profile['crs'])\n",
    "        if cond0 and cond1 and cond2 and cond3:\n",
    "            shutil.copyfile(path, out_path)\n",
    "        else:\n",
    "            with rasterio.open(path) as ds:\n",
    "                X = ds.read(1)\n",
    "                p = ds.profile\n",
    "                cmap = ds.colormap(1)\n",
    "            print('pre', p)\n",
    "            X_r, p_r = reproject_arr_to_match_profile(X, p, ref_profile)\n",
    "            print('post', p_r)\n",
    "            with rasterio.open(out_path, 'w', **p_r) as ds:\n",
    "                ds.write(X_r)\n",
    "                ds.write_colormap(1, cmap)\n",
    "        cube_paths.append(out_path)\n",
    "    \n",
    "    return cube_paths"
   ]
  },
  {
   "cell_type": "code",
   "execution_count": 92,
   "id": "9b3cdd2e-b6c7-4dea-ba18-482cdafe13e3",
   "metadata": {},
   "outputs": [],
   "source": [
    "# import shutil\n",
    "\n",
    "# def get_size(path: Path) -> int:\n",
    "#     with rasterio.open(path) as ds:\n",
    "#         m, n = ds.shape\n",
    "\n",
    "#     return m * n\n",
    "\n",
    "\n",
    "# def make_cube(paths: list[Path]):\n",
    "#     raster_sizes = list(map(get_size, paths))\n",
    "#     ref_idx = np.argmax(raster_sizes)\n",
    "\n",
    "#     max_size = raster_sizes[ref_idx]\n",
    "#     paths_with_max_size = [p for (p, s) in zip(paths, raster_sizes) if s == max_size]\n",
    "    \n",
    "#     def get_profile(path: Path) -> dict:\n",
    "#         with rasterio.open(path) as ds:\n",
    "#             p = ds.profile\n",
    "#         return p\n",
    "\n",
    "#     profiles = list(map(get_profile, paths_with_max_size))\n",
    "#     ref_profile = profiles[0]\n",
    "\n",
    "#     cube_paths = []\n",
    "#     for p, path in zip(profiles, paths_with_max_size):\n",
    "#         out_path = ts_dir / path.name\n",
    "#         cond0 = (p['transform'] == ref_profile['transform'])\n",
    "#         cond1 = (p['width'] == ref_profile['width'])\n",
    "#         cond2 = (p['height'] == ref_profile['height'])\n",
    "#         cond3 = (p['crs'] == ref_profile['crs'])\n",
    "#         if cond0 and cond1 and cond2 and cond3:\n",
    "#             shutil.copyfile(path, out_path)\n",
    "#         else:\n",
    "#             raise NotImplementedError\n",
    "#         cube_paths.append(out_path)\n",
    "    \n",
    "#     return cube_paths"
   ]
  },
  {
   "cell_type": "code",
   "execution_count": 93,
   "id": "5fb95123-7687-4c78-bed7-0ff0c96c73a4",
   "metadata": {},
   "outputs": [
    {
     "name": "stdout",
     "output_type": "stream",
     "text": [
      "pre {'driver': 'GTiff', 'dtype': 'uint8', 'nodata': 255.0, 'width': 7574, 'height': 13829, 'count': 1, 'crs': CRS.from_epsg(32639), 'transform': Affine(30.0, 0.0, 699960.0,\n",
      "       0.0, -30.0, 2905114.3998004096), 'blockxsize': 512, 'blockysize': 512, 'tiled': True, 'compress': 'deflate', 'interleave': 'band'}\n",
      "post {'driver': 'GTiff', 'dtype': 'uint8', 'nodata': 255.0, 'width': 10933, 'height': 14139, 'count': 1, 'crs': CRS.from_epsg(32639), 'transform': Affine(30.0, 0.0, 799652.4356356872,\n",
      "       0.0, -30.0, 2914408.9280173755), 'blockxsize': 512, 'blockysize': 512, 'tiled': True, 'compress': 'deflate', 'interleave': 'band'}\n",
      "pre {'driver': 'GTiff', 'dtype': 'uint8', 'nodata': 255.0, 'width': 6992, 'height': 13660, 'count': 1, 'crs': CRS.from_epsg(32640), 'transform': Affine(30.0, 0.0, 300000.0,\n",
      "       0.0, -30.0, 2900040.0), 'blockxsize': 512, 'blockysize': 512, 'tiled': True, 'compress': 'deflate', 'interleave': 'band'}\n",
      "post {'driver': 'GTiff', 'dtype': 'uint8', 'nodata': 255.0, 'width': 10933, 'height': 14139, 'count': 1, 'crs': CRS.from_epsg(32639), 'transform': Affine(30.0, 0.0, 799652.4356356872,\n",
      "       0.0, -30.0, 2914408.9280173755), 'blockxsize': 512, 'blockysize': 512, 'tiled': True, 'compress': 'deflate', 'interleave': 'band'}\n",
      "pre {'driver': 'GTiff', 'dtype': 'uint8', 'nodata': 255.0, 'width': 3660, 'height': 3660, 'count': 1, 'crs': CRS.from_epsg(32640), 'transform': Affine(30.0, 0.0, 399960.0,\n",
      "       0.0, -30.0, 2600040.0), 'blockxsize': 512, 'blockysize': 512, 'tiled': True, 'compress': 'deflate', 'interleave': 'band'}\n",
      "post {'driver': 'GTiff', 'dtype': 'uint8', 'nodata': 255.0, 'width': 10933, 'height': 14139, 'count': 1, 'crs': CRS.from_epsg(32639), 'transform': Affine(30.0, 0.0, 799652.4356356872,\n",
      "       0.0, -30.0, 2914408.9280173755), 'blockxsize': 512, 'blockysize': 512, 'tiled': True, 'compress': 'deflate', 'interleave': 'band'}\n",
      "pre {'driver': 'GTiff', 'dtype': 'uint8', 'nodata': 255.0, 'width': 10488, 'height': 13984, 'count': 1, 'crs': CRS.from_epsg(32639), 'transform': Affine(30.0, 0.0, 699960.0,\n",
      "       0.0, -30.0, 2909756.665607162), 'blockxsize': 512, 'blockysize': 512, 'tiled': True, 'compress': 'deflate', 'interleave': 'band'}\n",
      "post {'driver': 'GTiff', 'dtype': 'uint8', 'nodata': 255.0, 'width': 10933, 'height': 14139, 'count': 1, 'crs': CRS.from_epsg(32639), 'transform': Affine(30.0, 0.0, 799652.4356356872,\n",
      "       0.0, -30.0, 2914408.9280173755), 'blockxsize': 512, 'blockysize': 512, 'tiled': True, 'compress': 'deflate', 'interleave': 'band'}\n",
      "pre {'driver': 'GTiff', 'dtype': 'uint8', 'nodata': 255.0, 'width': 10922, 'height': 4102, 'count': 1, 'crs': CRS.from_epsg(32639), 'transform': Affine(30.0, 0.0, 799980.0,\n",
      "       0.0, -30.0, 2613293.360473935), 'blockxsize': 512, 'blockysize': 512, 'tiled': True, 'compress': 'deflate', 'interleave': 'band'}\n",
      "post {'driver': 'GTiff', 'dtype': 'uint8', 'nodata': 255.0, 'width': 10933, 'height': 14139, 'count': 1, 'crs': CRS.from_epsg(32639), 'transform': Affine(30.0, 0.0, 799652.4356356872,\n",
      "       0.0, -30.0, 2914408.9280173755), 'blockxsize': 512, 'blockysize': 512, 'tiled': True, 'compress': 'deflate', 'interleave': 'band'}\n",
      "pre {'driver': 'GTiff', 'dtype': 'uint8', 'nodata': 255.0, 'width': 3660, 'height': 3660, 'count': 1, 'crs': CRS.from_epsg(32639), 'transform': Affine(30.0, 0.0, 699960.0,\n",
      "       0.0, -30.0, 2800020.0), 'blockxsize': 512, 'blockysize': 512, 'tiled': True, 'compress': 'deflate', 'interleave': 'band'}\n",
      "post {'driver': 'GTiff', 'dtype': 'uint8', 'nodata': 255.0, 'width': 10933, 'height': 14139, 'count': 1, 'crs': CRS.from_epsg(32639), 'transform': Affine(30.0, 0.0, 799652.4356356872,\n",
      "       0.0, -30.0, 2914408.9280173755), 'blockxsize': 512, 'blockysize': 512, 'tiled': True, 'compress': 'deflate', 'interleave': 'band'}\n",
      "pre {'driver': 'GTiff', 'dtype': 'uint8', 'nodata': 255.0, 'width': 3660, 'height': 13660, 'count': 1, 'crs': CRS.from_epsg(32640), 'transform': Affine(30.0, 0.0, 399960.0,\n",
      "       0.0, -30.0, 2900040.0), 'blockxsize': 512, 'blockysize': 512, 'tiled': True, 'compress': 'deflate', 'interleave': 'band'}\n",
      "post {'driver': 'GTiff', 'dtype': 'uint8', 'nodata': 255.0, 'width': 10933, 'height': 14139, 'count': 1, 'crs': CRS.from_epsg(32639), 'transform': Affine(30.0, 0.0, 799652.4356356872,\n",
      "       0.0, -30.0, 2914408.9280173755), 'blockxsize': 512, 'blockysize': 512, 'tiled': True, 'compress': 'deflate', 'interleave': 'band'}\n",
      "pre {'driver': 'GTiff', 'dtype': 'uint8', 'nodata': 255.0, 'width': 10796, 'height': 14139, 'count': 1, 'crs': CRS.from_epsg(32639), 'transform': Affine(30.0, 0.0, 799652.4356356872,\n",
      "       0.0, -30.0, 2914408.9280173755), 'blockxsize': 512, 'blockysize': 512, 'tiled': True, 'compress': 'deflate', 'interleave': 'band'}\n",
      "post {'driver': 'GTiff', 'dtype': 'uint8', 'nodata': 255.0, 'width': 10933, 'height': 14139, 'count': 1, 'crs': CRS.from_epsg(32639), 'transform': Affine(30.0, 0.0, 799652.4356356872,\n",
      "       0.0, -30.0, 2914408.9280173755), 'blockxsize': 512, 'blockysize': 512, 'tiled': True, 'compress': 'deflate', 'interleave': 'band'}\n",
      "pre {'driver': 'GTiff', 'dtype': 'uint8', 'nodata': 255.0, 'width': 10488, 'height': 13984, 'count': 1, 'crs': CRS.from_epsg(32639), 'transform': Affine(30.0, 0.0, 699960.0,\n",
      "       0.0, -30.0, 2909756.665607162), 'blockxsize': 512, 'blockysize': 512, 'tiled': True, 'compress': 'deflate', 'interleave': 'band'}\n",
      "post {'driver': 'GTiff', 'dtype': 'uint8', 'nodata': 255.0, 'width': 10933, 'height': 14139, 'count': 1, 'crs': CRS.from_epsg(32639), 'transform': Affine(30.0, 0.0, 799652.4356356872,\n",
      "       0.0, -30.0, 2914408.9280173755), 'blockxsize': 512, 'blockysize': 512, 'tiled': True, 'compress': 'deflate', 'interleave': 'band'}\n",
      "pre {'driver': 'GTiff', 'dtype': 'uint8', 'nodata': 255.0, 'width': 3660, 'height': 3660, 'count': 1, 'crs': CRS.from_epsg(32640), 'transform': Affine(30.0, 0.0, 399960.0,\n",
      "       0.0, -30.0, 2600040.0), 'blockxsize': 512, 'blockysize': 512, 'tiled': True, 'compress': 'deflate', 'interleave': 'band'}\n",
      "post {'driver': 'GTiff', 'dtype': 'uint8', 'nodata': 255.0, 'width': 10933, 'height': 14139, 'count': 1, 'crs': CRS.from_epsg(32639), 'transform': Affine(30.0, 0.0, 799652.4356356872,\n",
      "       0.0, -30.0, 2914408.9280173755), 'blockxsize': 512, 'blockysize': 512, 'tiled': True, 'compress': 'deflate', 'interleave': 'band'}\n",
      "pre {'driver': 'GTiff', 'dtype': 'uint8', 'nodata': 255.0, 'width': 3660, 'height': 13660, 'count': 1, 'crs': CRS.from_epsg(32640), 'transform': Affine(30.0, 0.0, 399960.0,\n",
      "       0.0, -30.0, 2900040.0), 'blockxsize': 512, 'blockysize': 512, 'tiled': True, 'compress': 'deflate', 'interleave': 'band'}\n",
      "post {'driver': 'GTiff', 'dtype': 'uint8', 'nodata': 255.0, 'width': 10933, 'height': 14139, 'count': 1, 'crs': CRS.from_epsg(32639), 'transform': Affine(30.0, 0.0, 799652.4356356872,\n",
      "       0.0, -30.0, 2914408.9280173755), 'blockxsize': 512, 'blockysize': 512, 'tiled': True, 'compress': 'deflate', 'interleave': 'band'}\n",
      "pre {'driver': 'GTiff', 'dtype': 'uint8', 'nodata': 255.0, 'width': 7574, 'height': 13829, 'count': 1, 'crs': CRS.from_epsg(32639), 'transform': Affine(30.0, 0.0, 699960.0,\n",
      "       0.0, -30.0, 2905114.3998004096), 'blockxsize': 512, 'blockysize': 512, 'tiled': True, 'compress': 'deflate', 'interleave': 'band'}\n",
      "post {'driver': 'GTiff', 'dtype': 'uint8', 'nodata': 255.0, 'width': 10933, 'height': 14139, 'count': 1, 'crs': CRS.from_epsg(32639), 'transform': Affine(30.0, 0.0, 799652.4356356872,\n",
      "       0.0, -30.0, 2914408.9280173755), 'blockxsize': 512, 'blockysize': 512, 'tiled': True, 'compress': 'deflate', 'interleave': 'band'}\n",
      "pre {'driver': 'GTiff', 'dtype': 'uint8', 'nodata': 255.0, 'width': 6992, 'height': 13660, 'count': 1, 'crs': CRS.from_epsg(32640), 'transform': Affine(30.0, 0.0, 300000.0,\n",
      "       0.0, -30.0, 2900040.0), 'blockxsize': 512, 'blockysize': 512, 'tiled': True, 'compress': 'deflate', 'interleave': 'band'}\n",
      "post {'driver': 'GTiff', 'dtype': 'uint8', 'nodata': 255.0, 'width': 10933, 'height': 14139, 'count': 1, 'crs': CRS.from_epsg(32639), 'transform': Affine(30.0, 0.0, 799652.4356356872,\n",
      "       0.0, -30.0, 2914408.9280173755), 'blockxsize': 512, 'blockysize': 512, 'tiled': True, 'compress': 'deflate', 'interleave': 'band'}\n",
      "pre {'driver': 'GTiff', 'dtype': 'uint8', 'nodata': 255.0, 'width': 3660, 'height': 10326, 'count': 1, 'crs': CRS.from_epsg(32640), 'transform': Affine(30.0, 0.0, 399960.0,\n",
      "       0.0, -30.0, 2800020.0), 'blockxsize': 512, 'blockysize': 512, 'tiled': True, 'compress': 'deflate', 'interleave': 'band'}\n",
      "post {'driver': 'GTiff', 'dtype': 'uint8', 'nodata': 255.0, 'width': 10933, 'height': 14139, 'count': 1, 'crs': CRS.from_epsg(32639), 'transform': Affine(30.0, 0.0, 799652.4356356872,\n",
      "       0.0, -30.0, 2914408.9280173755), 'blockxsize': 512, 'blockysize': 512, 'tiled': True, 'compress': 'deflate', 'interleave': 'band'}\n",
      "pre {'driver': 'GTiff', 'dtype': 'uint8', 'nodata': 255.0, 'width': 10488, 'height': 13984, 'count': 1, 'crs': CRS.from_epsg(32639), 'transform': Affine(30.0, 0.0, 699960.0,\n",
      "       0.0, -30.0, 2909756.665607162), 'blockxsize': 512, 'blockysize': 512, 'tiled': True, 'compress': 'deflate', 'interleave': 'band'}\n",
      "post {'driver': 'GTiff', 'dtype': 'uint8', 'nodata': 255.0, 'width': 10933, 'height': 14139, 'count': 1, 'crs': CRS.from_epsg(32639), 'transform': Affine(30.0, 0.0, 799652.4356356872,\n",
      "       0.0, -30.0, 2914408.9280173755), 'blockxsize': 512, 'blockysize': 512, 'tiled': True, 'compress': 'deflate', 'interleave': 'band'}\n",
      "pre {'driver': 'GTiff', 'dtype': 'uint8', 'nodata': 255.0, 'width': 10654, 'height': 14139, 'count': 1, 'crs': CRS.from_epsg(32639), 'transform': Affine(30.0, 0.0, 799652.4356356872,\n",
      "       0.0, -30.0, 2914408.9280173755), 'blockxsize': 512, 'blockysize': 512, 'tiled': True, 'compress': 'deflate', 'interleave': 'band'}\n",
      "post {'driver': 'GTiff', 'dtype': 'uint8', 'nodata': 255.0, 'width': 10933, 'height': 14139, 'count': 1, 'crs': CRS.from_epsg(32639), 'transform': Affine(30.0, 0.0, 799652.4356356872,\n",
      "       0.0, -30.0, 2914408.9280173755), 'blockxsize': 512, 'blockysize': 512, 'tiled': True, 'compress': 'deflate', 'interleave': 'band'}\n",
      "pre {'driver': 'GTiff', 'dtype': 'uint8', 'nodata': 255.0, 'width': 3660, 'height': 10326, 'count': 1, 'crs': CRS.from_epsg(32640), 'transform': Affine(30.0, 0.0, 399960.0,\n",
      "       0.0, -30.0, 2800020.0), 'blockxsize': 512, 'blockysize': 512, 'tiled': True, 'compress': 'deflate', 'interleave': 'band'}\n",
      "post {'driver': 'GTiff', 'dtype': 'uint8', 'nodata': 255.0, 'width': 10933, 'height': 14139, 'count': 1, 'crs': CRS.from_epsg(32639), 'transform': Affine(30.0, 0.0, 799652.4356356872,\n",
      "       0.0, -30.0, 2914408.9280173755), 'blockxsize': 512, 'blockysize': 512, 'tiled': True, 'compress': 'deflate', 'interleave': 'band'}\n",
      "pre {'driver': 'GTiff', 'dtype': 'uint8', 'nodata': 255.0, 'width': 10488, 'height': 13984, 'count': 1, 'crs': CRS.from_epsg(32639), 'transform': Affine(30.0, 0.0, 699960.0,\n",
      "       0.0, -30.0, 2909756.665607162), 'blockxsize': 512, 'blockysize': 512, 'tiled': True, 'compress': 'deflate', 'interleave': 'band'}\n",
      "post {'driver': 'GTiff', 'dtype': 'uint8', 'nodata': 255.0, 'width': 10933, 'height': 14139, 'count': 1, 'crs': CRS.from_epsg(32639), 'transform': Affine(30.0, 0.0, 799652.4356356872,\n",
      "       0.0, -30.0, 2914408.9280173755), 'blockxsize': 512, 'blockysize': 512, 'tiled': True, 'compress': 'deflate', 'interleave': 'band'}\n",
      "pre {'driver': 'GTiff', 'dtype': 'uint8', 'nodata': 255.0, 'width': 10796, 'height': 14139, 'count': 1, 'crs': CRS.from_epsg(32639), 'transform': Affine(30.0, 0.0, 799652.4356356872,\n",
      "       0.0, -30.0, 2914408.9280173755), 'blockxsize': 512, 'blockysize': 512, 'tiled': True, 'compress': 'deflate', 'interleave': 'band'}\n",
      "post {'driver': 'GTiff', 'dtype': 'uint8', 'nodata': 255.0, 'width': 10933, 'height': 14139, 'count': 1, 'crs': CRS.from_epsg(32639), 'transform': Affine(30.0, 0.0, 799652.4356356872,\n",
      "       0.0, -30.0, 2914408.9280173755), 'blockxsize': 512, 'blockysize': 512, 'tiled': True, 'compress': 'deflate', 'interleave': 'band'}\n",
      "pre {'driver': 'GTiff', 'dtype': 'uint8', 'nodata': 255.0, 'width': 3660, 'height': 3660, 'count': 1, 'crs': CRS.from_epsg(32640), 'transform': Affine(30.0, 0.0, 399960.0,\n",
      "       0.0, -30.0, 2600040.0), 'blockxsize': 512, 'blockysize': 512, 'tiled': True, 'compress': 'deflate', 'interleave': 'band'}\n",
      "post {'driver': 'GTiff', 'dtype': 'uint8', 'nodata': 255.0, 'width': 10933, 'height': 14139, 'count': 1, 'crs': CRS.from_epsg(32639), 'transform': Affine(30.0, 0.0, 799652.4356356872,\n",
      "       0.0, -30.0, 2914408.9280173755), 'blockxsize': 512, 'blockysize': 512, 'tiled': True, 'compress': 'deflate', 'interleave': 'band'}\n",
      "pre {'driver': 'GTiff', 'dtype': 'uint8', 'nodata': 255.0, 'width': 3660, 'height': 13660, 'count': 1, 'crs': CRS.from_epsg(32640), 'transform': Affine(30.0, 0.0, 399960.0,\n",
      "       0.0, -30.0, 2900040.0), 'blockxsize': 512, 'blockysize': 512, 'tiled': True, 'compress': 'deflate', 'interleave': 'band'}\n",
      "post {'driver': 'GTiff', 'dtype': 'uint8', 'nodata': 255.0, 'width': 10933, 'height': 14139, 'count': 1, 'crs': CRS.from_epsg(32639), 'transform': Affine(30.0, 0.0, 799652.4356356872,\n",
      "       0.0, -30.0, 2914408.9280173755), 'blockxsize': 512, 'blockysize': 512, 'tiled': True, 'compress': 'deflate', 'interleave': 'band'}\n",
      "pre {'driver': 'GTiff', 'dtype': 'uint8', 'nodata': 255.0, 'width': 10488, 'height': 13984, 'count': 1, 'crs': CRS.from_epsg(32639), 'transform': Affine(30.0, 0.0, 699960.0,\n",
      "       0.0, -30.0, 2909756.665607162), 'blockxsize': 512, 'blockysize': 512, 'tiled': True, 'compress': 'deflate', 'interleave': 'band'}\n",
      "post {'driver': 'GTiff', 'dtype': 'uint8', 'nodata': 255.0, 'width': 10933, 'height': 14139, 'count': 1, 'crs': CRS.from_epsg(32639), 'transform': Affine(30.0, 0.0, 799652.4356356872,\n",
      "       0.0, -30.0, 2914408.9280173755), 'blockxsize': 512, 'blockysize': 512, 'tiled': True, 'compress': 'deflate', 'interleave': 'band'}\n",
      "pre {'driver': 'GTiff', 'dtype': 'uint8', 'nodata': 255.0, 'width': 7574, 'height': 13829, 'count': 1, 'crs': CRS.from_epsg(32639), 'transform': Affine(30.0, 0.0, 699960.0,\n",
      "       0.0, -30.0, 2905114.3998004096), 'blockxsize': 512, 'blockysize': 512, 'tiled': True, 'compress': 'deflate', 'interleave': 'band'}\n",
      "post {'driver': 'GTiff', 'dtype': 'uint8', 'nodata': 255.0, 'width': 10933, 'height': 14139, 'count': 1, 'crs': CRS.from_epsg(32639), 'transform': Affine(30.0, 0.0, 799652.4356356872,\n",
      "       0.0, -30.0, 2914408.9280173755), 'blockxsize': 512, 'blockysize': 512, 'tiled': True, 'compress': 'deflate', 'interleave': 'band'}\n",
      "pre {'driver': 'GTiff', 'dtype': 'uint8', 'nodata': 255.0, 'width': 3660, 'height': 13660, 'count': 1, 'crs': CRS.from_epsg(32640), 'transform': Affine(30.0, 0.0, 399960.0,\n",
      "       0.0, -30.0, 2900040.0), 'blockxsize': 512, 'blockysize': 512, 'tiled': True, 'compress': 'deflate', 'interleave': 'band'}\n",
      "post {'driver': 'GTiff', 'dtype': 'uint8', 'nodata': 255.0, 'width': 10933, 'height': 14139, 'count': 1, 'crs': CRS.from_epsg(32639), 'transform': Affine(30.0, 0.0, 799652.4356356872,\n",
      "       0.0, -30.0, 2914408.9280173755), 'blockxsize': 512, 'blockysize': 512, 'tiled': True, 'compress': 'deflate', 'interleave': 'band'}\n",
      "pre {'driver': 'GTiff', 'dtype': 'uint8', 'nodata': 255.0, 'width': 6992, 'height': 13660, 'count': 1, 'crs': CRS.from_epsg(32640), 'transform': Affine(30.0, 0.0, 300000.0,\n",
      "       0.0, -30.0, 2900040.0), 'blockxsize': 512, 'blockysize': 512, 'tiled': True, 'compress': 'deflate', 'interleave': 'band'}\n",
      "post {'driver': 'GTiff', 'dtype': 'uint8', 'nodata': 255.0, 'width': 10933, 'height': 14139, 'count': 1, 'crs': CRS.from_epsg(32639), 'transform': Affine(30.0, 0.0, 799652.4356356872,\n",
      "       0.0, -30.0, 2914408.9280173755), 'blockxsize': 512, 'blockysize': 512, 'tiled': True, 'compress': 'deflate', 'interleave': 'band'}\n",
      "pre {'driver': 'GTiff', 'dtype': 'uint8', 'nodata': 255.0, 'width': 10488, 'height': 13984, 'count': 1, 'crs': CRS.from_epsg(32639), 'transform': Affine(30.0, 0.0, 699960.0,\n",
      "       0.0, -30.0, 2909756.665607162), 'blockxsize': 512, 'blockysize': 512, 'tiled': True, 'compress': 'deflate', 'interleave': 'band'}\n",
      "post {'driver': 'GTiff', 'dtype': 'uint8', 'nodata': 255.0, 'width': 10933, 'height': 14139, 'count': 1, 'crs': CRS.from_epsg(32639), 'transform': Affine(30.0, 0.0, 799652.4356356872,\n",
      "       0.0, -30.0, 2914408.9280173755), 'blockxsize': 512, 'blockysize': 512, 'tiled': True, 'compress': 'deflate', 'interleave': 'band'}\n",
      "pre {'driver': 'GTiff', 'dtype': 'uint8', 'nodata': 255.0, 'width': 3660, 'height': 3660, 'count': 1, 'crs': CRS.from_epsg(32639), 'transform': Affine(30.0, 0.0, 699960.0,\n",
      "       0.0, -30.0, 2800020.0), 'blockxsize': 512, 'blockysize': 512, 'tiled': True, 'compress': 'deflate', 'interleave': 'band'}\n",
      "post {'driver': 'GTiff', 'dtype': 'uint8', 'nodata': 255.0, 'width': 10933, 'height': 14139, 'count': 1, 'crs': CRS.from_epsg(32639), 'transform': Affine(30.0, 0.0, 799652.4356356872,\n",
      "       0.0, -30.0, 2914408.9280173755), 'blockxsize': 512, 'blockysize': 512, 'tiled': True, 'compress': 'deflate', 'interleave': 'band'}\n",
      "pre {'driver': 'GTiff', 'dtype': 'uint8', 'nodata': 255.0, 'width': 10488, 'height': 13984, 'count': 1, 'crs': CRS.from_epsg(32639), 'transform': Affine(30.0, 0.0, 699960.0,\n",
      "       0.0, -30.0, 2909756.665607162), 'blockxsize': 512, 'blockysize': 512, 'tiled': True, 'compress': 'deflate', 'interleave': 'band'}\n",
      "post {'driver': 'GTiff', 'dtype': 'uint8', 'nodata': 255.0, 'width': 10933, 'height': 14139, 'count': 1, 'crs': CRS.from_epsg(32639), 'transform': Affine(30.0, 0.0, 799652.4356356872,\n",
      "       0.0, -30.0, 2914408.9280173755), 'blockxsize': 512, 'blockysize': 512, 'tiled': True, 'compress': 'deflate', 'interleave': 'band'}\n",
      "pre {'driver': 'GTiff', 'dtype': 'uint8', 'nodata': 255.0, 'width': 10796, 'height': 14139, 'count': 1, 'crs': CRS.from_epsg(32639), 'transform': Affine(30.0, 0.0, 799652.4356356872,\n",
      "       0.0, -30.0, 2914408.9280173755), 'blockxsize': 512, 'blockysize': 512, 'tiled': True, 'compress': 'deflate', 'interleave': 'band'}\n",
      "post {'driver': 'GTiff', 'dtype': 'uint8', 'nodata': 255.0, 'width': 10933, 'height': 14139, 'count': 1, 'crs': CRS.from_epsg(32639), 'transform': Affine(30.0, 0.0, 799652.4356356872,\n",
      "       0.0, -30.0, 2914408.9280173755), 'blockxsize': 512, 'blockysize': 512, 'tiled': True, 'compress': 'deflate', 'interleave': 'band'}\n",
      "pre {'driver': 'GTiff', 'dtype': 'uint8', 'nodata': 255.0, 'width': 3660, 'height': 3660, 'count': 1, 'crs': CRS.from_epsg(32640), 'transform': Affine(30.0, 0.0, 399960.0,\n",
      "       0.0, -30.0, 2600040.0), 'blockxsize': 512, 'blockysize': 512, 'tiled': True, 'compress': 'deflate', 'interleave': 'band'}\n",
      "post {'driver': 'GTiff', 'dtype': 'uint8', 'nodata': 255.0, 'width': 10933, 'height': 14139, 'count': 1, 'crs': CRS.from_epsg(32639), 'transform': Affine(30.0, 0.0, 799652.4356356872,\n",
      "       0.0, -30.0, 2914408.9280173755), 'blockxsize': 512, 'blockysize': 512, 'tiled': True, 'compress': 'deflate', 'interleave': 'band'}\n",
      "pre {'driver': 'GTiff', 'dtype': 'uint8', 'nodata': 255.0, 'width': 3660, 'height': 13660, 'count': 1, 'crs': CRS.from_epsg(32640), 'transform': Affine(30.0, 0.0, 399960.0,\n",
      "       0.0, -30.0, 2900040.0), 'blockxsize': 512, 'blockysize': 512, 'tiled': True, 'compress': 'deflate', 'interleave': 'band'}\n",
      "post {'driver': 'GTiff', 'dtype': 'uint8', 'nodata': 255.0, 'width': 10933, 'height': 14139, 'count': 1, 'crs': CRS.from_epsg(32639), 'transform': Affine(30.0, 0.0, 799652.4356356872,\n",
      "       0.0, -30.0, 2914408.9280173755), 'blockxsize': 512, 'blockysize': 512, 'tiled': True, 'compress': 'deflate', 'interleave': 'band'}\n",
      "pre {'driver': 'GTiff', 'dtype': 'uint8', 'nodata': 255.0, 'width': 10488, 'height': 13984, 'count': 1, 'crs': CRS.from_epsg(32639), 'transform': Affine(30.0, 0.0, 699960.0,\n",
      "       0.0, -30.0, 2909756.665607162), 'blockxsize': 512, 'blockysize': 512, 'tiled': True, 'compress': 'deflate', 'interleave': 'band'}\n",
      "post {'driver': 'GTiff', 'dtype': 'uint8', 'nodata': 255.0, 'width': 10933, 'height': 14139, 'count': 1, 'crs': CRS.from_epsg(32639), 'transform': Affine(30.0, 0.0, 799652.4356356872,\n",
      "       0.0, -30.0, 2914408.9280173755), 'blockxsize': 512, 'blockysize': 512, 'tiled': True, 'compress': 'deflate', 'interleave': 'band'}\n",
      "pre {'driver': 'GTiff', 'dtype': 'uint8', 'nodata': 255.0, 'width': 7574, 'height': 13829, 'count': 1, 'crs': CRS.from_epsg(32639), 'transform': Affine(30.0, 0.0, 699960.0,\n",
      "       0.0, -30.0, 2905114.3998004096), 'blockxsize': 512, 'blockysize': 512, 'tiled': True, 'compress': 'deflate', 'interleave': 'band'}\n",
      "post {'driver': 'GTiff', 'dtype': 'uint8', 'nodata': 255.0, 'width': 10933, 'height': 14139, 'count': 1, 'crs': CRS.from_epsg(32639), 'transform': Affine(30.0, 0.0, 799652.4356356872,\n",
      "       0.0, -30.0, 2914408.9280173755), 'blockxsize': 512, 'blockysize': 512, 'tiled': True, 'compress': 'deflate', 'interleave': 'band'}\n",
      "pre {'driver': 'GTiff', 'dtype': 'uint8', 'nodata': 255.0, 'width': 3660, 'height': 13660, 'count': 1, 'crs': CRS.from_epsg(32640), 'transform': Affine(30.0, 0.0, 399960.0,\n",
      "       0.0, -30.0, 2900040.0), 'blockxsize': 512, 'blockysize': 512, 'tiled': True, 'compress': 'deflate', 'interleave': 'band'}\n",
      "post {'driver': 'GTiff', 'dtype': 'uint8', 'nodata': 255.0, 'width': 10933, 'height': 14139, 'count': 1, 'crs': CRS.from_epsg(32639), 'transform': Affine(30.0, 0.0, 799652.4356356872,\n",
      "       0.0, -30.0, 2914408.9280173755), 'blockxsize': 512, 'blockysize': 512, 'tiled': True, 'compress': 'deflate', 'interleave': 'band'}\n",
      "pre {'driver': 'GTiff', 'dtype': 'uint8', 'nodata': 255.0, 'width': 10488, 'height': 13984, 'count': 1, 'crs': CRS.from_epsg(32639), 'transform': Affine(30.0, 0.0, 699960.0,\n",
      "       0.0, -30.0, 2909756.665607162), 'blockxsize': 512, 'blockysize': 512, 'tiled': True, 'compress': 'deflate', 'interleave': 'band'}\n",
      "post {'driver': 'GTiff', 'dtype': 'uint8', 'nodata': 255.0, 'width': 10933, 'height': 14139, 'count': 1, 'crs': CRS.from_epsg(32639), 'transform': Affine(30.0, 0.0, 799652.4356356872,\n",
      "       0.0, -30.0, 2914408.9280173755), 'blockxsize': 512, 'blockysize': 512, 'tiled': True, 'compress': 'deflate', 'interleave': 'band'}\n",
      "pre {'driver': 'GTiff', 'dtype': 'uint8', 'nodata': 255.0, 'width': 6992, 'height': 13660, 'count': 1, 'crs': CRS.from_epsg(32640), 'transform': Affine(30.0, 0.0, 300000.0,\n",
      "       0.0, -30.0, 2900040.0), 'blockxsize': 512, 'blockysize': 512, 'tiled': True, 'compress': 'deflate', 'interleave': 'band'}\n",
      "post {'driver': 'GTiff', 'dtype': 'uint8', 'nodata': 255.0, 'width': 10933, 'height': 14139, 'count': 1, 'crs': CRS.from_epsg(32639), 'transform': Affine(30.0, 0.0, 799652.4356356872,\n",
      "       0.0, -30.0, 2914408.9280173755), 'blockxsize': 512, 'blockysize': 512, 'tiled': True, 'compress': 'deflate', 'interleave': 'band'}\n",
      "pre {'driver': 'GTiff', 'dtype': 'uint8', 'nodata': 255.0, 'width': 3660, 'height': 13660, 'count': 1, 'crs': CRS.from_epsg(32640), 'transform': Affine(30.0, 0.0, 399960.0,\n",
      "       0.0, -30.0, 2900040.0), 'blockxsize': 512, 'blockysize': 512, 'tiled': True, 'compress': 'deflate', 'interleave': 'band'}\n",
      "post {'driver': 'GTiff', 'dtype': 'uint8', 'nodata': 255.0, 'width': 10933, 'height': 14139, 'count': 1, 'crs': CRS.from_epsg(32639), 'transform': Affine(30.0, 0.0, 799652.4356356872,\n",
      "       0.0, -30.0, 2914408.9280173755), 'blockxsize': 512, 'blockysize': 512, 'tiled': True, 'compress': 'deflate', 'interleave': 'band'}\n",
      "pre {'driver': 'GTiff', 'dtype': 'uint8', 'nodata': 255.0, 'width': 10488, 'height': 13984, 'count': 1, 'crs': CRS.from_epsg(32639), 'transform': Affine(30.0, 0.0, 699960.0,\n",
      "       0.0, -30.0, 2909756.665607162), 'blockxsize': 512, 'blockysize': 512, 'tiled': True, 'compress': 'deflate', 'interleave': 'band'}\n",
      "post {'driver': 'GTiff', 'dtype': 'uint8', 'nodata': 255.0, 'width': 10933, 'height': 14139, 'count': 1, 'crs': CRS.from_epsg(32639), 'transform': Affine(30.0, 0.0, 799652.4356356872,\n",
      "       0.0, -30.0, 2914408.9280173755), 'blockxsize': 512, 'blockysize': 512, 'tiled': True, 'compress': 'deflate', 'interleave': 'band'}\n",
      "pre {'driver': 'GTiff', 'dtype': 'uint8', 'nodata': 255.0, 'width': 3660, 'height': 3660, 'count': 1, 'crs': CRS.from_epsg(32639), 'transform': Affine(30.0, 0.0, 699960.0,\n",
      "       0.0, -30.0, 2800020.0), 'blockxsize': 512, 'blockysize': 512, 'tiled': True, 'compress': 'deflate', 'interleave': 'band'}\n",
      "post {'driver': 'GTiff', 'dtype': 'uint8', 'nodata': 255.0, 'width': 10933, 'height': 14139, 'count': 1, 'crs': CRS.from_epsg(32639), 'transform': Affine(30.0, 0.0, 799652.4356356872,\n",
      "       0.0, -30.0, 2914408.9280173755), 'blockxsize': 512, 'blockysize': 512, 'tiled': True, 'compress': 'deflate', 'interleave': 'band'}\n",
      "pre {'driver': 'GTiff', 'dtype': 'uint8', 'nodata': 255.0, 'width': 10796, 'height': 14139, 'count': 1, 'crs': CRS.from_epsg(32639), 'transform': Affine(30.0, 0.0, 799652.4356356872,\n",
      "       0.0, -30.0, 2914408.9280173755), 'blockxsize': 512, 'blockysize': 512, 'tiled': True, 'compress': 'deflate', 'interleave': 'band'}\n",
      "post {'driver': 'GTiff', 'dtype': 'uint8', 'nodata': 255.0, 'width': 10933, 'height': 14139, 'count': 1, 'crs': CRS.from_epsg(32639), 'transform': Affine(30.0, 0.0, 799652.4356356872,\n",
      "       0.0, -30.0, 2914408.9280173755), 'blockxsize': 512, 'blockysize': 512, 'tiled': True, 'compress': 'deflate', 'interleave': 'band'}\n",
      "pre {'driver': 'GTiff', 'dtype': 'uint8', 'nodata': 255.0, 'width': 3660, 'height': 3660, 'count': 1, 'crs': CRS.from_epsg(32640), 'transform': Affine(30.0, 0.0, 399960.0,\n",
      "       0.0, -30.0, 2600040.0), 'blockxsize': 512, 'blockysize': 512, 'tiled': True, 'compress': 'deflate', 'interleave': 'band'}\n",
      "post {'driver': 'GTiff', 'dtype': 'uint8', 'nodata': 255.0, 'width': 10933, 'height': 14139, 'count': 1, 'crs': CRS.from_epsg(32639), 'transform': Affine(30.0, 0.0, 799652.4356356872,\n",
      "       0.0, -30.0, 2914408.9280173755), 'blockxsize': 512, 'blockysize': 512, 'tiled': True, 'compress': 'deflate', 'interleave': 'band'}\n",
      "pre {'driver': 'GTiff', 'dtype': 'uint8', 'nodata': 255.0, 'width': 10488, 'height': 13984, 'count': 1, 'crs': CRS.from_epsg(32639), 'transform': Affine(30.0, 0.0, 699960.0,\n",
      "       0.0, -30.0, 2909756.665607162), 'blockxsize': 512, 'blockysize': 512, 'tiled': True, 'compress': 'deflate', 'interleave': 'band'}\n",
      "post {'driver': 'GTiff', 'dtype': 'uint8', 'nodata': 255.0, 'width': 10933, 'height': 14139, 'count': 1, 'crs': CRS.from_epsg(32639), 'transform': Affine(30.0, 0.0, 799652.4356356872,\n",
      "       0.0, -30.0, 2914408.9280173755), 'blockxsize': 512, 'blockysize': 512, 'tiled': True, 'compress': 'deflate', 'interleave': 'band'}\n"
     ]
    }
   ],
   "source": [
    "merged_paths = make_cube(dst_paths)"
   ]
  },
  {
   "cell_type": "code",
   "execution_count": 96,
   "id": "7c236e51-f5b7-4978-9675-ae7efcb99c2f",
   "metadata": {},
   "outputs": [
    {
     "data": {
      "text/plain": [
       "[(0,\n",
       "  PosixPath('out/jebel_ali_flood/dswx_hls_ts_merged/__2024-03-17__L8_merged.tif')),\n",
       " (1,\n",
       "  PosixPath('out/jebel_ali_flood/dswx_hls_ts_merged/__2024-03-18__S2A_merged.tif')),\n",
       " (2,\n",
       "  PosixPath('out/jebel_ali_flood/dswx_hls_ts_merged/__2024-03-19__L8_merged.tif')),\n",
       " (3,\n",
       "  PosixPath('out/jebel_ali_flood/dswx_hls_ts_merged/__2024-03-20__S2B_merged.tif')),\n",
       " (4,\n",
       "  PosixPath('out/jebel_ali_flood/dswx_hls_ts_merged/__2024-03-21__S2A_merged.tif')),\n",
       " (5,\n",
       "  PosixPath('out/jebel_ali_flood/dswx_hls_ts_merged/__2024-03-23__S2B_merged.tif')),\n",
       " (6,\n",
       "  PosixPath('out/jebel_ali_flood/dswx_hls_ts_merged/__2024-03-24__L8_merged.tif')),\n",
       " (7,\n",
       "  PosixPath('out/jebel_ali_flood/dswx_hls_ts_merged/__2024-03-25__S2A_merged.tif')),\n",
       " (8,\n",
       "  PosixPath('out/jebel_ali_flood/dswx_hls_ts_merged/__2024-03-26__L8_merged.tif')),\n",
       " (9,\n",
       "  PosixPath('out/jebel_ali_flood/dswx_hls_ts_merged/__2024-03-26__S2B_merged.tif')),\n",
       " (10,\n",
       "  PosixPath('out/jebel_ali_flood/dswx_hls_ts_merged/__2024-03-28__L8_merged.tif')),\n",
       " (11,\n",
       "  PosixPath('out/jebel_ali_flood/dswx_hls_ts_merged/__2024-03-28__S2A_merged.tif')),\n",
       " (12,\n",
       "  PosixPath('out/jebel_ali_flood/dswx_hls_ts_merged/__2024-03-30__S2B_merged.tif')),\n",
       " (13,\n",
       "  PosixPath('out/jebel_ali_flood/dswx_hls_ts_merged/__2024-04-02__L8_merged.tif')),\n",
       " (14,\n",
       "  PosixPath('out/jebel_ali_flood/dswx_hls_ts_merged/__2024-04-02__S2B_merged.tif')),\n",
       " (15,\n",
       "  PosixPath('out/jebel_ali_flood/dswx_hls_ts_merged/__2024-04-04__L8_merged.tif')),\n",
       " (16,\n",
       "  PosixPath('out/jebel_ali_flood/dswx_hls_ts_merged/__2024-04-04__S2A_merged.tif')),\n",
       " (17,\n",
       "  PosixPath('out/jebel_ali_flood/dswx_hls_ts_merged/__2024-04-05__S2B_merged.tif')),\n",
       " (18,\n",
       "  PosixPath('out/jebel_ali_flood/dswx_hls_ts_merged/__2024-04-07__S2A_merged.tif')),\n",
       " (19,\n",
       "  PosixPath('out/jebel_ali_flood/dswx_hls_ts_merged/__2024-04-09__S2B_merged.tif')),\n",
       " (20,\n",
       "  PosixPath('out/jebel_ali_flood/dswx_hls_ts_merged/__2024-04-10__S2A_merged.tif')),\n",
       " (21,\n",
       "  PosixPath('out/jebel_ali_flood/dswx_hls_ts_merged/__2024-04-11__L8_merged.tif')),\n",
       " (22,\n",
       "  PosixPath('out/jebel_ali_flood/dswx_hls_ts_merged/__2024-04-12__S2B_merged.tif')),\n",
       " (23,\n",
       "  PosixPath('out/jebel_ali_flood/dswx_hls_ts_merged/__2024-04-13__L8_merged.tif')),\n",
       " (24,\n",
       "  PosixPath('out/jebel_ali_flood/dswx_hls_ts_merged/__2024-04-14__S2A_merged.tif')),\n",
       " (25,\n",
       "  PosixPath('out/jebel_ali_flood/dswx_hls_ts_merged/__2024-04-15__S2B_merged.tif')),\n",
       " (26,\n",
       "  PosixPath('out/jebel_ali_flood/dswx_hls_ts_merged/__2024-04-17__S2A_merged.tif')),\n",
       " (27,\n",
       "  PosixPath('out/jebel_ali_flood/dswx_hls_ts_merged/__2024-04-18__L8_merged.tif')),\n",
       " (28,\n",
       "  PosixPath('out/jebel_ali_flood/dswx_hls_ts_merged/__2024-04-19__S2B_merged.tif')),\n",
       " (29,\n",
       "  PosixPath('out/jebel_ali_flood/dswx_hls_ts_merged/__2024-04-20__L8_merged.tif')),\n",
       " (30,\n",
       "  PosixPath('out/jebel_ali_flood/dswx_hls_ts_merged/__2024-04-20__S2A_merged.tif')),\n",
       " (31,\n",
       "  PosixPath('out/jebel_ali_flood/dswx_hls_ts_merged/__2024-04-22__S2B_merged.tif')),\n",
       " (32,\n",
       "  PosixPath('out/jebel_ali_flood/dswx_hls_ts_merged/__2024-04-25__L8_merged.tif')),\n",
       " (33,\n",
       "  PosixPath('out/jebel_ali_flood/dswx_hls_ts_merged/__2024-04-25__S2B_merged.tif')),\n",
       " (34,\n",
       "  PosixPath('out/jebel_ali_flood/dswx_hls_ts_merged/__2024-04-27__L8_merged.tif')),\n",
       " (35,\n",
       "  PosixPath('out/jebel_ali_flood/dswx_hls_ts_merged/__2024-04-27__S2A_merged.tif')),\n",
       " (36,\n",
       "  PosixPath('out/jebel_ali_flood/dswx_hls_ts_merged/__2024-04-29__L8_merged.tif')),\n",
       " (37,\n",
       "  PosixPath('out/jebel_ali_flood/dswx_hls_ts_merged/__2024-04-29__S2B_merged.tif')),\n",
       " (38,\n",
       "  PosixPath('out/jebel_ali_flood/dswx_hls_ts_merged/__2024-04-30__S2A_merged.tif')),\n",
       " (39,\n",
       "  PosixPath('out/jebel_ali_flood/dswx_hls_ts_merged/__2024-05-04__L8_merged.tif')),\n",
       " (40,\n",
       "  PosixPath('out/jebel_ali_flood/dswx_hls_ts_merged/__2024-05-04__S2A_merged.tif')),\n",
       " (41,\n",
       "  PosixPath('out/jebel_ali_flood/dswx_hls_ts_merged/__2024-05-05__S2B_merged.tif')),\n",
       " (42,\n",
       "  PosixPath('out/jebel_ali_flood/dswx_hls_ts_merged/__2024-05-06__L8_merged.tif')),\n",
       " (43,\n",
       "  PosixPath('out/jebel_ali_flood/dswx_hls_ts_merged/__2024-05-07__S2A_merged.tif')),\n",
       " (44,\n",
       "  PosixPath('out/jebel_ali_flood/dswx_hls_ts_merged/__2024-05-09__S2B_merged.tif')),\n",
       " (45,\n",
       "  PosixPath('out/jebel_ali_flood/dswx_hls_ts_merged/__2024-05-10__S2A_merged.tif')),\n",
       " (46,\n",
       "  PosixPath('out/jebel_ali_flood/dswx_hls_ts_merged/__2024-05-11__L8_merged.tif')),\n",
       " (47,\n",
       "  PosixPath('out/jebel_ali_flood/dswx_hls_ts_merged/__2024-05-12__S2B_merged.tif')),\n",
       " (48,\n",
       "  PosixPath('out/jebel_ali_flood/dswx_hls_ts_merged/__2024-05-13__L8_merged.tif')),\n",
       " (49,\n",
       "  PosixPath('out/jebel_ali_flood/dswx_hls_ts_merged/__2024-05-15__L8_merged.tif')),\n",
       " (50,\n",
       "  PosixPath('out/jebel_ali_flood/dswx_hls_ts_merged/__2024-05-15__S2B_merged.tif'))]"
      ]
     },
     "execution_count": 96,
     "metadata": {},
     "output_type": "execute_result"
    }
   ],
   "source": [
    "list(enumerate(merged_paths))"
   ]
  },
  {
   "cell_type": "markdown",
   "id": "1f535155-8771-42ae-aba6-ce7908db1df4",
   "metadata": {},
   "source": [
    "# Make Change Map"
   ]
  },
  {
   "cell_type": "code",
   "execution_count": 97,
   "id": "f1b01907-ccb9-458d-97bf-b477989a0dcb",
   "metadata": {},
   "outputs": [
    {
     "data": {
      "text/plain": [
       "(PosixPath('out/jebel_ali_flood/dswx_hls_ts_merged/__2024-04-11__L8_merged.tif'),\n",
       " PosixPath('out/jebel_ali_flood/dswx_hls_ts_merged/__2024-04-27__L8_merged.tif'))"
      ]
     },
     "execution_count": 97,
     "metadata": {},
     "output_type": "execute_result"
    }
   ],
   "source": [
    "PRE_PATH = merged_paths[21]\n",
    "POST_PATH = merged_paths[34]\n",
    "PRE_PATH, POST_PATH"
   ]
  },
  {
   "cell_type": "code",
   "execution_count": 98,
   "id": "c7fda18d-aba6-4b47-9c87-c352b553167b",
   "metadata": {},
   "outputs": [],
   "source": [
    "with rasterio.open(PRE_PATH) as ds:\n",
    "    X_dswx_pre = ds.read(1)"
   ]
  },
  {
   "cell_type": "code",
   "execution_count": 117,
   "id": "5b3c3e60-511e-4b3c-9568-ac425d5401b9",
   "metadata": {},
   "outputs": [],
   "source": [
    "with rasterio.open(POST_PATH) as ds:\n",
    "    X_dswx_post = ds.read(1)\n",
    "    p_dswx = ds.profile"
   ]
  },
  {
   "cell_type": "code",
   "execution_count": 107,
   "id": "1f0358e9-d7a4-43be-b4af-d774bc854599",
   "metadata": {},
   "outputs": [],
   "source": [
    "X_flood = np.full(X_dswx_pre.shape, 255)\n",
    "X_flood[~np.isin(X_dswx_pre, [0, 1, 2]) | ~np.isin(X_dswx_post, [0, 1, 2])] = 255\n",
    "X_flood[((X_dswx_pre == 0) & (X_dswx_post == 0)) | (np.isin(X_dswx_pre, [1, 2]) & np.isin(X_dswx_post, [1, 2]))] = 0\n",
    "X_flood[np.isin(X_dswx_pre, [0]) & np.isin(X_dswx_post, [1, 2])] = 1\n"
   ]
  },
  {
   "cell_type": "code",
   "execution_count": 121,
   "id": "e663a006-6f70-408b-9385-13f42c668c27",
   "metadata": {},
   "outputs": [
    {
     "data": {
      "text/plain": [
       "PosixPath('out/jebel_ali_flood/rtc_ts_merged/track130/__2024-04-24_merged_VV.tif')"
      ]
     },
     "execution_count": 121,
     "metadata": {},
     "output_type": "execute_result"
    }
   ],
   "source": [
    "track_dir = list(Path(f'out/{event_dict['event_name']}/rtc_ts_merged').glob('*/'))[0]\n",
    "rtc_merged_path = list(track_dir.glob('*.tif'))[0]\n",
    "rtc_merged_path"
   ]
  },
  {
   "cell_type": "code",
   "execution_count": 122,
   "id": "9edbef96-19f0-4b40-843e-9e6992a77339",
   "metadata": {},
   "outputs": [],
   "source": [
    "with rasterio.open(rtc_merged_path) as ds:\n",
    "    p_rtc = ds.profile"
   ]
  },
  {
   "cell_type": "code",
   "execution_count": 123,
   "id": "bb81e003-cd99-460c-90d1-ad52358aae13",
   "metadata": {},
   "outputs": [],
   "source": [
    "X_flood_r, p_r = reproject_arr_to_match_profile(X_flood, p_dswx, p_rtc, resampling='nearest')"
   ]
  },
  {
   "cell_type": "code",
   "execution_count": 124,
   "id": "13963cd5-31ee-4e46-96a0-425c14bd5b23",
   "metadata": {},
   "outputs": [],
   "source": [
    "#plt.imshow(X_flood, cmap='tab20c', interpolation='none')"
   ]
  },
  {
   "cell_type": "code",
   "execution_count": 125,
   "id": "e67c7b57-964b-4d8b-8b2c-d80422a26b5b",
   "metadata": {},
   "outputs": [],
   "source": [
    "with rasterio.open(ts_dir.parent / f'flood_map_dswx_hls__PRE_{PRE_PATH.stem}_POST_{POST_PATH.stem}.tif', 'w', **p_r) as ds:\n",
    "    ds.write(X_flood_r)"
   ]
  }
 ],
 "metadata": {
  "kernelspec": {
   "display_name": "dist-s1",
   "language": "python",
   "name": "dist-s1"
  },
  "language_info": {
   "codemirror_mode": {
    "name": "ipython",
    "version": 3
   },
   "file_extension": ".py",
   "mimetype": "text/x-python",
   "name": "python",
   "nbconvert_exporter": "python",
   "pygments_lexer": "ipython3",
   "version": "3.12.4"
  }
 },
 "nbformat": 4,
 "nbformat_minor": 5
}
