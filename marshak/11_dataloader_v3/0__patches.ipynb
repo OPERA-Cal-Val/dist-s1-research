{
 "cells": [
  {
   "cell_type": "markdown",
   "id": "d984c78d-4fa5-497a-9ab3-b63eb7a1dfbc",
   "metadata": {},
   "source": [
    "The point of this notebook is to build a custom dataset and sampler for the time series analysis we want to do. The idea is the following, we have a burst dataset much of which is nodata. Furthermore we want to load a series of these datasets into batches. Don't want to waste training on patches that are empty and want to make sure we can load this data in moderately performant way considering there is so much streaming and urls happening.\n",
    "\n",
    "I am sure this will be improved and modified as time goes on and this represents a first attempt."
   ]
  },
  {
   "cell_type": "code",
   "execution_count": 1,
   "id": "7c771c67-14e8-4cef-b912-75dd2b11b8f5",
   "metadata": {},
   "outputs": [
    {
     "data": {
      "text/plain": [
       "['pekel_water_occ_2021',\n",
       " 'esa_world_cover_2020',\n",
       " 'esa_world_cover_2021',\n",
       " 'hansen_annual_mosaic',\n",
       " 'hansen_lossyear',\n",
       " 'hansen_gain',\n",
       " 'hansen_treecover_2000',\n",
       " 's1_coherence_2020',\n",
       " 'cop_100_lulc_discrete',\n",
       " 'radd_deforestation_alerts_2022',\n",
       " 'hand',\n",
       " 'glad_landcover',\n",
       " 'glad_change']"
      ]
     },
     "execution_count": 1,
     "metadata": {},
     "output_type": "execute_result"
    }
   ],
   "source": [
    "import geopandas as gpd\n",
    "import rasterio\n",
    "import numpy as np\n",
    "from pathlib import Path\n",
    "import matplotlib.pyplot as plt\n",
    "from shapely.geometry import box\n",
    "from rasterio.transform import xy\n",
    "import pandas as pd\n",
    "from tqdm import tqdm\n",
    "from rasterio.windows import Window\n",
    "import concurrent.futures\n",
    "from dem_stitcher.geojson_io import to_geojson_gzip, read_geojson_gzip\n",
    "from rasterio.warp import transform_bounds\n",
    "from tile_mate import get_raster_from_tiles\n",
    "from tile_mate.stitcher import DATASET_SHORTNAMES\n",
    "from rasterio.crs import CRS\n",
    "from dem_stitcher.rio_tools import reproject_arr_to_match_profile\n",
    "DATASET_SHORTNAMES"
   ]
  },
  {
   "cell_type": "markdown",
   "id": "f8f97c22-d2af-4cbd-96da-46517280a986",
   "metadata": {},
   "source": [
    "# Parameters"
   ]
  },
  {
   "cell_type": "code",
   "execution_count": 2,
   "id": "302c8fef-5f6f-47ac-9337-10d3e476d4b8",
   "metadata": {},
   "outputs": [],
   "source": [
    "PATCH_SIZE = 64"
   ]
  },
  {
   "cell_type": "markdown",
   "id": "7066f6f2-9d72-4230-88c2-df5441c772cb",
   "metadata": {},
   "source": [
    "# Burst data"
   ]
  },
  {
   "cell_type": "code",
   "execution_count": 3,
   "id": "e5e3cbe3-15eb-4b52-8f81-35cd19d7033e",
   "metadata": {},
   "outputs": [
    {
     "data": {
      "text/html": [
       "<div>\n",
       "<style scoped>\n",
       "    .dataframe tbody tr th:only-of-type {\n",
       "        vertical-align: middle;\n",
       "    }\n",
       "\n",
       "    .dataframe tbody tr th {\n",
       "        vertical-align: top;\n",
       "    }\n",
       "\n",
       "    .dataframe thead th {\n",
       "        text-align: right;\n",
       "    }\n",
       "</style>\n",
       "<table border=\"1\" class=\"dataframe\">\n",
       "  <thead>\n",
       "    <tr style=\"text-align: right;\">\n",
       "      <th></th>\n",
       "      <th>rtc_s1_id</th>\n",
       "      <th>input_slc_id</th>\n",
       "      <th>jpl_burst_id</th>\n",
       "      <th>bursts_per_slc_input</th>\n",
       "      <th>rtc_s1_vv_url</th>\n",
       "      <th>rtc_s1_vh_url</th>\n",
       "      <th>rtc_s1_h5_url</th>\n",
       "      <th>acq_datetime</th>\n",
       "    </tr>\n",
       "  </thead>\n",
       "  <tbody>\n",
       "    <tr>\n",
       "      <th>0</th>\n",
       "      <td>OPERA_L2_RTC-S1_T005-008688-IW2_20201010T00400...</td>\n",
       "      <td>S1A_IW_SLC__1SDV_20201010T004001_20201010T0040...</td>\n",
       "      <td>T005-008688-IW2</td>\n",
       "      <td>27</td>\n",
       "      <td>https://opera-pst-rs-pop1.s3.us-west-2.amazona...</td>\n",
       "      <td>https://opera-pst-rs-pop1.s3.us-west-2.amazona...</td>\n",
       "      <td>https://opera-pst-rs-pop1.s3.us-west-2.amazona...</td>\n",
       "      <td>2020-10-10 00:40:01</td>\n",
       "    </tr>\n",
       "    <tr>\n",
       "      <th>1</th>\n",
       "      <td>OPERA_L2_RTC-S1_T005-008688-IW2_20201022T00400...</td>\n",
       "      <td>S1A_IW_SLC__1SDV_20201022T004000_20201022T0040...</td>\n",
       "      <td>T005-008688-IW2</td>\n",
       "      <td>27</td>\n",
       "      <td>https://opera-pst-rs-pop1.s3.us-west-2.amazona...</td>\n",
       "      <td>https://opera-pst-rs-pop1.s3.us-west-2.amazona...</td>\n",
       "      <td>https://opera-pst-rs-pop1.s3.us-west-2.amazona...</td>\n",
       "      <td>2020-10-22 00:40:00</td>\n",
       "    </tr>\n",
       "    <tr>\n",
       "      <th>2</th>\n",
       "      <td>OPERA_L2_RTC-S1_T005-008688-IW2_20201103T00400...</td>\n",
       "      <td>S1A_IW_SLC__1SDV_20201103T004000_20201103T0040...</td>\n",
       "      <td>T005-008688-IW2</td>\n",
       "      <td>27</td>\n",
       "      <td>https://opera-pst-rs-pop1.s3.us-west-2.amazona...</td>\n",
       "      <td>https://opera-pst-rs-pop1.s3.us-west-2.amazona...</td>\n",
       "      <td>https://opera-pst-rs-pop1.s3.us-west-2.amazona...</td>\n",
       "      <td>2020-11-03 00:40:00</td>\n",
       "    </tr>\n",
       "    <tr>\n",
       "      <th>3</th>\n",
       "      <td>OPERA_L2_RTC-S1_T005-008688-IW2_20201115T00400...</td>\n",
       "      <td>S1A_IW_SLC__1SDV_20201115T004000_20201115T0040...</td>\n",
       "      <td>T005-008688-IW2</td>\n",
       "      <td>27</td>\n",
       "      <td>https://opera-pst-rs-pop1.s3.us-west-2.amazona...</td>\n",
       "      <td>https://opera-pst-rs-pop1.s3.us-west-2.amazona...</td>\n",
       "      <td>https://opera-pst-rs-pop1.s3.us-west-2.amazona...</td>\n",
       "      <td>2020-11-15 00:40:00</td>\n",
       "    </tr>\n",
       "    <tr>\n",
       "      <th>4</th>\n",
       "      <td>OPERA_L2_RTC-S1_T005-008688-IW2_20201127T00400...</td>\n",
       "      <td>S1A_IW_SLC__1SDV_20201127T004000_20201127T0040...</td>\n",
       "      <td>T005-008688-IW2</td>\n",
       "      <td>27</td>\n",
       "      <td>https://opera-pst-rs-pop1.s3.us-west-2.amazona...</td>\n",
       "      <td>https://opera-pst-rs-pop1.s3.us-west-2.amazona...</td>\n",
       "      <td>https://opera-pst-rs-pop1.s3.us-west-2.amazona...</td>\n",
       "      <td>2020-11-27 00:40:00</td>\n",
       "    </tr>\n",
       "  </tbody>\n",
       "</table>\n",
       "</div>"
      ],
      "text/plain": [
       "                                           rtc_s1_id  \\\n",
       "0  OPERA_L2_RTC-S1_T005-008688-IW2_20201010T00400...   \n",
       "1  OPERA_L2_RTC-S1_T005-008688-IW2_20201022T00400...   \n",
       "2  OPERA_L2_RTC-S1_T005-008688-IW2_20201103T00400...   \n",
       "3  OPERA_L2_RTC-S1_T005-008688-IW2_20201115T00400...   \n",
       "4  OPERA_L2_RTC-S1_T005-008688-IW2_20201127T00400...   \n",
       "\n",
       "                                        input_slc_id     jpl_burst_id  \\\n",
       "0  S1A_IW_SLC__1SDV_20201010T004001_20201010T0040...  T005-008688-IW2   \n",
       "1  S1A_IW_SLC__1SDV_20201022T004000_20201022T0040...  T005-008688-IW2   \n",
       "2  S1A_IW_SLC__1SDV_20201103T004000_20201103T0040...  T005-008688-IW2   \n",
       "3  S1A_IW_SLC__1SDV_20201115T004000_20201115T0040...  T005-008688-IW2   \n",
       "4  S1A_IW_SLC__1SDV_20201127T004000_20201127T0040...  T005-008688-IW2   \n",
       "\n",
       "   bursts_per_slc_input                                      rtc_s1_vv_url  \\\n",
       "0                    27  https://opera-pst-rs-pop1.s3.us-west-2.amazona...   \n",
       "1                    27  https://opera-pst-rs-pop1.s3.us-west-2.amazona...   \n",
       "2                    27  https://opera-pst-rs-pop1.s3.us-west-2.amazona...   \n",
       "3                    27  https://opera-pst-rs-pop1.s3.us-west-2.amazona...   \n",
       "4                    27  https://opera-pst-rs-pop1.s3.us-west-2.amazona...   \n",
       "\n",
       "                                       rtc_s1_vh_url  \\\n",
       "0  https://opera-pst-rs-pop1.s3.us-west-2.amazona...   \n",
       "1  https://opera-pst-rs-pop1.s3.us-west-2.amazona...   \n",
       "2  https://opera-pst-rs-pop1.s3.us-west-2.amazona...   \n",
       "3  https://opera-pst-rs-pop1.s3.us-west-2.amazona...   \n",
       "4  https://opera-pst-rs-pop1.s3.us-west-2.amazona...   \n",
       "\n",
       "                                       rtc_s1_h5_url         acq_datetime  \n",
       "0  https://opera-pst-rs-pop1.s3.us-west-2.amazona...  2020-10-10 00:40:01  \n",
       "1  https://opera-pst-rs-pop1.s3.us-west-2.amazona...  2020-10-22 00:40:00  \n",
       "2  https://opera-pst-rs-pop1.s3.us-west-2.amazona...  2020-11-03 00:40:00  \n",
       "3  https://opera-pst-rs-pop1.s3.us-west-2.amazona...  2020-11-15 00:40:00  \n",
       "4  https://opera-pst-rs-pop1.s3.us-west-2.amazona...  2020-11-27 00:40:00  "
      ]
     },
     "execution_count": 3,
     "metadata": {},
     "output_type": "execute_result"
    }
   ],
   "source": [
    "df_rtc_meta = pd.read_parquet('rtc_s1_tables/rtc_s1_table.parquet')\n",
    "df_rtc_meta.head()"
   ]
  },
  {
   "cell_type": "markdown",
   "id": "9c1c3038-49e2-4d7e-b377-64618c972935",
   "metadata": {},
   "source": [
    "# For one burst"
   ]
  },
  {
   "cell_type": "code",
   "execution_count": 4,
   "id": "61104e20-d1c9-4a25-b0fd-ea54e548e2a3",
   "metadata": {},
   "outputs": [],
   "source": [
    "BURST_ID = 'T076-163099-IW1'#'T126-269585-IW2'"
   ]
  },
  {
   "cell_type": "code",
   "execution_count": 5,
   "id": "0c3ca658-27ff-4455-8efb-b8ee5f8b3108",
   "metadata": {},
   "outputs": [
    {
     "data": {
      "text/html": [
       "<div>\n",
       "<style scoped>\n",
       "    .dataframe tbody tr th:only-of-type {\n",
       "        vertical-align: middle;\n",
       "    }\n",
       "\n",
       "    .dataframe tbody tr th {\n",
       "        vertical-align: top;\n",
       "    }\n",
       "\n",
       "    .dataframe thead th {\n",
       "        text-align: right;\n",
       "    }\n",
       "</style>\n",
       "<table border=\"1\" class=\"dataframe\">\n",
       "  <thead>\n",
       "    <tr style=\"text-align: right;\">\n",
       "      <th></th>\n",
       "      <th>rtc_s1_id</th>\n",
       "      <th>input_slc_id</th>\n",
       "      <th>jpl_burst_id</th>\n",
       "      <th>bursts_per_slc_input</th>\n",
       "      <th>rtc_s1_vv_url</th>\n",
       "      <th>rtc_s1_vh_url</th>\n",
       "      <th>rtc_s1_h5_url</th>\n",
       "      <th>acq_datetime</th>\n",
       "    </tr>\n",
       "  </thead>\n",
       "  <tbody>\n",
       "    <tr>\n",
       "      <th>0</th>\n",
       "      <td>OPERA_L2_RTC-S1_T076-163099-IW1_20201002T22582...</td>\n",
       "      <td>S1A_IW_SLC__1SDV_20201002T225827_20201002T2258...</td>\n",
       "      <td>T076-163099-IW1</td>\n",
       "      <td>28</td>\n",
       "      <td>https://opera-pst-rs-pop1.s3.us-west-2.amazona...</td>\n",
       "      <td>https://opera-pst-rs-pop1.s3.us-west-2.amazona...</td>\n",
       "      <td>https://opera-pst-rs-pop1.s3.us-west-2.amazona...</td>\n",
       "      <td>2020-10-02 22:58:27</td>\n",
       "    </tr>\n",
       "    <tr>\n",
       "      <th>1</th>\n",
       "      <td>OPERA_L2_RTC-S1_T076-163099-IW1_20201014T22582...</td>\n",
       "      <td>S1A_IW_SLC__1SDV_20201014T225827_20201014T2258...</td>\n",
       "      <td>T076-163099-IW1</td>\n",
       "      <td>28</td>\n",
       "      <td>https://opera-pst-rs-pop1.s3.us-west-2.amazona...</td>\n",
       "      <td>https://opera-pst-rs-pop1.s3.us-west-2.amazona...</td>\n",
       "      <td>https://opera-pst-rs-pop1.s3.us-west-2.amazona...</td>\n",
       "      <td>2020-10-14 22:58:27</td>\n",
       "    </tr>\n",
       "    <tr>\n",
       "      <th>2</th>\n",
       "      <td>OPERA_L2_RTC-S1_T076-163099-IW1_20201026T22582...</td>\n",
       "      <td>S1A_IW_SLC__1SDV_20201026T225827_20201026T2258...</td>\n",
       "      <td>T076-163099-IW1</td>\n",
       "      <td>28</td>\n",
       "      <td>https://opera-pst-rs-pop1.s3.us-west-2.amazona...</td>\n",
       "      <td>https://opera-pst-rs-pop1.s3.us-west-2.amazona...</td>\n",
       "      <td>https://opera-pst-rs-pop1.s3.us-west-2.amazona...</td>\n",
       "      <td>2020-10-26 22:58:27</td>\n",
       "    </tr>\n",
       "    <tr>\n",
       "      <th>3</th>\n",
       "      <td>OPERA_L2_RTC-S1_T076-163099-IW1_20201107T22582...</td>\n",
       "      <td>S1A_IW_SLC__1SDV_20201107T225827_20201107T2258...</td>\n",
       "      <td>T076-163099-IW1</td>\n",
       "      <td>28</td>\n",
       "      <td>https://opera-pst-rs-pop1.s3.us-west-2.amazona...</td>\n",
       "      <td>https://opera-pst-rs-pop1.s3.us-west-2.amazona...</td>\n",
       "      <td>https://opera-pst-rs-pop1.s3.us-west-2.amazona...</td>\n",
       "      <td>2020-11-07 22:58:27</td>\n",
       "    </tr>\n",
       "    <tr>\n",
       "      <th>4</th>\n",
       "      <td>OPERA_L2_RTC-S1_T076-163099-IW1_20201119T22582...</td>\n",
       "      <td>S1A_IW_SLC__1SDV_20201119T225827_20201119T2258...</td>\n",
       "      <td>T076-163099-IW1</td>\n",
       "      <td>28</td>\n",
       "      <td>https://opera-pst-rs-pop1.s3.us-west-2.amazona...</td>\n",
       "      <td>https://opera-pst-rs-pop1.s3.us-west-2.amazona...</td>\n",
       "      <td>https://opera-pst-rs-pop1.s3.us-west-2.amazona...</td>\n",
       "      <td>2020-11-19 22:58:27</td>\n",
       "    </tr>\n",
       "  </tbody>\n",
       "</table>\n",
       "</div>"
      ],
      "text/plain": [
       "                                           rtc_s1_id  \\\n",
       "0  OPERA_L2_RTC-S1_T076-163099-IW1_20201002T22582...   \n",
       "1  OPERA_L2_RTC-S1_T076-163099-IW1_20201014T22582...   \n",
       "2  OPERA_L2_RTC-S1_T076-163099-IW1_20201026T22582...   \n",
       "3  OPERA_L2_RTC-S1_T076-163099-IW1_20201107T22582...   \n",
       "4  OPERA_L2_RTC-S1_T076-163099-IW1_20201119T22582...   \n",
       "\n",
       "                                        input_slc_id     jpl_burst_id  \\\n",
       "0  S1A_IW_SLC__1SDV_20201002T225827_20201002T2258...  T076-163099-IW1   \n",
       "1  S1A_IW_SLC__1SDV_20201014T225827_20201014T2258...  T076-163099-IW1   \n",
       "2  S1A_IW_SLC__1SDV_20201026T225827_20201026T2258...  T076-163099-IW1   \n",
       "3  S1A_IW_SLC__1SDV_20201107T225827_20201107T2258...  T076-163099-IW1   \n",
       "4  S1A_IW_SLC__1SDV_20201119T225827_20201119T2258...  T076-163099-IW1   \n",
       "\n",
       "   bursts_per_slc_input                                      rtc_s1_vv_url  \\\n",
       "0                    28  https://opera-pst-rs-pop1.s3.us-west-2.amazona...   \n",
       "1                    28  https://opera-pst-rs-pop1.s3.us-west-2.amazona...   \n",
       "2                    28  https://opera-pst-rs-pop1.s3.us-west-2.amazona...   \n",
       "3                    28  https://opera-pst-rs-pop1.s3.us-west-2.amazona...   \n",
       "4                    28  https://opera-pst-rs-pop1.s3.us-west-2.amazona...   \n",
       "\n",
       "                                       rtc_s1_vh_url  \\\n",
       "0  https://opera-pst-rs-pop1.s3.us-west-2.amazona...   \n",
       "1  https://opera-pst-rs-pop1.s3.us-west-2.amazona...   \n",
       "2  https://opera-pst-rs-pop1.s3.us-west-2.amazona...   \n",
       "3  https://opera-pst-rs-pop1.s3.us-west-2.amazona...   \n",
       "4  https://opera-pst-rs-pop1.s3.us-west-2.amazona...   \n",
       "\n",
       "                                       rtc_s1_h5_url         acq_datetime  \n",
       "0  https://opera-pst-rs-pop1.s3.us-west-2.amazona...  2020-10-02 22:58:27  \n",
       "1  https://opera-pst-rs-pop1.s3.us-west-2.amazona...  2020-10-14 22:58:27  \n",
       "2  https://opera-pst-rs-pop1.s3.us-west-2.amazona...  2020-10-26 22:58:27  \n",
       "3  https://opera-pst-rs-pop1.s3.us-west-2.amazona...  2020-11-07 22:58:27  \n",
       "4  https://opera-pst-rs-pop1.s3.us-west-2.amazona...  2020-11-19 22:58:27  "
      ]
     },
     "execution_count": 5,
     "metadata": {},
     "output_type": "execute_result"
    }
   ],
   "source": [
    "df_ts = df_rtc_meta[df_rtc_meta['jpl_burst_id'] == BURST_ID].reset_index(drop=True)\n",
    "df_ts.head()"
   ]
  },
  {
   "cell_type": "code",
   "execution_count": 6,
   "id": "9444f63f-5809-4a7f-b7ad-fb5e993d17d0",
   "metadata": {},
   "outputs": [
    {
     "data": {
      "text/plain": [
       "'https://opera-pst-rs-pop1.s3.us-west-2.amazonaws.com/products/RTC_S1/OPERA_L2_RTC-S1_T076-163099-IW1_20201002T225827Z_20240426T175120Z_S1A_30_v1.0/OPERA_L2_RTC-S1_T076-163099-IW1_20201002T225827Z_20240426T175120Z_S1A_30_v1.0_VV.tif'"
      ]
     },
     "execution_count": 6,
     "metadata": {},
     "output_type": "execute_result"
    }
   ],
   "source": [
    "sample_paths = [p for p in df_ts.rtc_s1_vv_url]\n",
    "sample_paths[0]"
   ]
  },
  {
   "cell_type": "code",
   "execution_count": 7,
   "id": "4f9b91ab-ebd8-40b4-9101-b91db6c3132c",
   "metadata": {},
   "outputs": [
    {
     "data": {
      "text/plain": [
       "CRS.from_epsg(32719)"
      ]
     },
     "execution_count": 7,
     "metadata": {},
     "output_type": "execute_result"
    }
   ],
   "source": [
    "with rasterio.open(sample_paths[0]) as ds:\n",
    "    data_mask = ds.read_masks(1).astype(bool)\n",
    "    width = ds.width\n",
    "    height = ds.height\n",
    "    X = ds.read(1)\n",
    "    transform = ds.transform\n",
    "    p = ds.profile\n",
    "    bounds_utm = ds.bounds\n",
    "p['crs']"
   ]
  },
  {
   "cell_type": "code",
   "execution_count": 8,
   "id": "8912bdea-26a2-41cc-9cbb-05075ce684a4",
   "metadata": {},
   "outputs": [
    {
     "data": {
      "text/plain": [
       "32719"
      ]
     },
     "execution_count": 8,
     "metadata": {},
     "output_type": "execute_result"
    }
   ],
   "source": [
    "p['crs'].to_epsg()"
   ]
  },
  {
   "cell_type": "code",
   "execution_count": 9,
   "id": "f02946f1-bc3b-47f0-84d7-c30c1d4233ae",
   "metadata": {},
   "outputs": [
    {
     "data": {
      "text/plain": [
       "<matplotlib.image.AxesImage at 0x7f999d34bbc0>"
      ]
     },
     "execution_count": 9,
     "metadata": {},
     "output_type": "execute_result"
    },
    {
     "data": {
      "image/png": "[encoded data removed]",
      "text/plain": [
       "<Figure size 640x480 with 1 Axes>"
      ]
     },
     "metadata": {},
     "output_type": "display_data"
    }
   ],
   "source": [
    "plt.imshow(data_mask)"
   ]
  },
  {
   "cell_type": "code",
   "execution_count": 10,
   "id": "b2cff411-780e-495d-b6e5-f0b31b9fbc2e",
   "metadata": {},
   "outputs": [],
   "source": [
    "bounds_ll = transform_bounds(p['crs'], CRS.from_epsg(4326), *bounds_utm)"
   ]
  },
  {
   "cell_type": "code",
   "execution_count": 11,
   "id": "60538c5f-e556-4b5e-ba78-c5c5eae97e99",
   "metadata": {},
   "outputs": [
    {
     "name": "stderr",
     "output_type": "stream",
     "text": [
      "Reading tile metadata: 100%|██████████████████| 1/1 [00:00<00:00, 12945.38it/s]\n",
      "Reading tile imagery: 100%|██████████████████████| 1/1 [00:02<00:00,  2.16s/it]\n"
     ]
    }
   ],
   "source": [
    "X_glad_lc, p_lc = get_raster_from_tiles(bounds_ll, tile_shortname='glad_landcover', year=2020)"
   ]
  },
  {
   "cell_type": "code",
   "execution_count": 12,
   "id": "41d84d78-1757-42e5-ba29-f4f2aa8c8f7c",
   "metadata": {},
   "outputs": [],
   "source": [
    "X_glad_lc_utm, p_lc_r = reproject_arr_to_match_profile(X_glad_lc, p_lc, p)\n",
    "X_glad_lc_utm = X_glad_lc_utm[0, ...]"
   ]
  },
  {
   "cell_type": "code",
   "execution_count": 13,
   "id": "edbf4660-4245-49f6-a904-296c07a5513e",
   "metadata": {},
   "outputs": [
    {
     "data": {
      "text/plain": [
       "<matplotlib.image.AxesImage at 0x7f98e16ea2d0>"
      ]
     },
     "execution_count": 13,
     "metadata": {},
     "output_type": "execute_result"
    },
    {
     "data": {
      "image/png": "[encoded data removed]",
      "text/plain": [
       "<Figure size 640x480 with 1 Axes>"
      ]
     },
     "metadata": {},
     "output_type": "display_data"
    }
   ],
   "source": [
    "plt.imshow(X_glad_lc_utm == 254)"
   ]
  },
  {
   "cell_type": "code",
   "execution_count": 14,
   "id": "649ce7e7-7001-4bf2-a4f7-9221a4b6129a",
   "metadata": {},
   "outputs": [
    {
     "data": {
      "text/plain": [
       "3686.4"
      ]
     },
     "execution_count": 14,
     "metadata": {},
     "output_type": "execute_result"
    }
   ],
   "source": [
    "stride = max(int(PATCH_SIZE / 2.25), 50) # otherwise just too much data\n",
    "patch_x = PATCH_SIZE\n",
    "patch_y = PATCH_SIZE\n",
    "percent_covered = .9  # as value in [0, 1]\n",
    "pixels_covered = patch_x * patch_y * percent_covered\n",
    "pixels_covered"
   ]
  },
  {
   "cell_type": "code",
   "execution_count": 15,
   "id": "89158e7f-3102-40be-8aab-29d43bc6288a",
   "metadata": {},
   "outputs": [],
   "source": [
    "n_x = width // stride + 1\n",
    "n_y = height // stride + 1"
   ]
  },
  {
   "cell_type": "code",
   "execution_count": 16,
   "id": "db00b2ca-5d02-4539-9f98-5d64d38d3272",
   "metadata": {},
   "outputs": [],
   "source": [
    "slices_x = [np.s_[i * stride: i * stride + patch_x] for i in range(n_x)]\n",
    "slices_y = [np.s_[i * stride: i * stride + patch_x] for i in range(n_y)]"
   ]
  },
  {
   "cell_type": "code",
   "execution_count": 17,
   "id": "16efd5b1-4acd-4a54-9db9-0b2d1cc8c7ce",
   "metadata": {},
   "outputs": [
    {
     "data": {
      "text/plain": [
       "2345"
      ]
     },
     "execution_count": 17,
     "metadata": {},
     "output_type": "execute_result"
    }
   ],
   "source": [
    "patches = [(sy, sx) for sy in slices_y for sx in slices_x]\n",
    "len(patches)"
   ]
  },
  {
   "cell_type": "code",
   "execution_count": 18,
   "id": "23811580-10c3-42dd-b8ea-b9a5d2e2d78d",
   "metadata": {},
   "outputs": [
    {
     "data": {
      "text/plain": [
       "<matplotlib.image.AxesImage at 0x7f98db72e450>"
      ]
     },
     "execution_count": 18,
     "metadata": {},
     "output_type": "execute_result"
    },
    {
     "data": {
      "image/png": "[encoded data removed]",
      "text/plain": [
       "<Figure size 640x480 with 1 Axes>"
      ]
     },
     "metadata": {},
     "output_type": "display_data"
    }
   ],
   "source": [
    "data_mask_f = (data_mask.astype(bool) & ~(X_glad_lc_utm == 254))\n",
    "plt.imshow(data_mask_f)"
   ]
  },
  {
   "cell_type": "code",
   "execution_count": 19,
   "id": "748ccd60-b65b-4258-b8bd-8b8d57db3fb2",
   "metadata": {},
   "outputs": [
    {
     "data": {
      "text/plain": [
       "(1729, 3327)"
      ]
     },
     "execution_count": 19,
     "metadata": {},
     "output_type": "execute_result"
    }
   ],
   "source": [
    "data_mask.shape"
   ]
  },
  {
   "cell_type": "code",
   "execution_count": 20,
   "id": "35959849-13dd-4818-ab8f-b26b2b130575",
   "metadata": {},
   "outputs": [
    {
     "data": {
      "text/plain": [
       "704"
      ]
     },
     "execution_count": 20,
     "metadata": {},
     "output_type": "execute_result"
    }
   ],
   "source": [
    "patches_with_data = [p for p in patches \n",
    "                     if (data_mask_f[p].sum() > pixels_covered) \n",
    "                     and (data_mask_f[p].shape == (patch_x, patch_y))\n",
    "                    ]\n",
    "len(patches_with_data)"
   ]
  },
  {
   "cell_type": "code",
   "execution_count": 21,
   "id": "4b9bb0bd-828f-4be8-8cff-98a1a6816484",
   "metadata": {},
   "outputs": [
    {
     "data": {
      "text/plain": [
       "<matplotlib.image.AxesImage at 0x7f98db7ca300>"
      ]
     },
     "execution_count": 21,
     "metadata": {},
     "output_type": "execute_result"
    },
    {
     "data": {
      "image/png": "[encoded data removed]",
      "text/plain": [
       "<Figure size 640x480 with 1 Axes>"
      ]
     },
     "metadata": {},
     "output_type": "display_data"
    }
   ],
   "source": [
    "plt.imshow(X[patches_with_data[50]], vmin=0, vmax=.5)"
   ]
  },
  {
   "cell_type": "code",
   "execution_count": 22,
   "id": "41a79dc9-1b86-4a37-92c9-622e5862f20c",
   "metadata": {},
   "outputs": [
    {
     "data": {
      "text/plain": [
       "(slice(500, 564, None), slice(3200, 3264, None))"
      ]
     },
     "execution_count": 22,
     "metadata": {},
     "output_type": "execute_result"
    }
   ],
   "source": [
    "patches_with_data[100]"
   ]
  },
  {
   "cell_type": "code",
   "execution_count": 23,
   "id": "366c0529-2294-40e9-b8bb-2a208956452c",
   "metadata": {},
   "outputs": [
    {
     "name": "stderr",
     "output_type": "stream",
     "text": [
      "100%|█████████████████████████████████████| 704/704 [00:00<00:00, 12155.75it/s]\n"
     ]
    }
   ],
   "source": [
    "def get_geo(sx, sy, transform):\n",
    "    xmin, ymin = xy(transform, sy.start, sx.start)\n",
    "    xmax, ymax = xy(transform, sy.stop, sx.stop)\n",
    "    return box(xmin, ymin, xmax, ymax)\n",
    "\n",
    "patch_records = [{'x_start': sx.start,\n",
    "                  'x_stop': sx.stop,\n",
    "                  'y_start': sy.start,\n",
    "                  'y_stop': sy.stop,\n",
    "                  'epsg': p['crs'].to_epsg(),\n",
    "                  'burst_id': 'T064_135524_IW1',\n",
    "                  'geometry': get_geo(sx, sy, transform)} for (sy, sx) in tqdm(patches_with_data)]"
   ]
  },
  {
   "cell_type": "code",
   "execution_count": 24,
   "id": "e8bd9c0b-d82d-433e-a3fc-9ae24154bb2e",
   "metadata": {},
   "outputs": [
    {
     "data": {
      "text/plain": [
       "{'x_start': 2900,\n",
       " 'x_stop': 2964,\n",
       " 'y_start': 250,\n",
       " 'y_stop': 314,\n",
       " 'epsg': 32719,\n",
       " 'burst_id': 'T064_135524_IW1',\n",
       " 'geometry': <POLYGON ((765885 7464165, 765885 7462245, 763965 7462245, 763965 7464165, 7...>}"
      ]
     },
     "execution_count": 24,
     "metadata": {},
     "output_type": "execute_result"
    }
   ],
   "source": [
    "patch_records[0]"
   ]
  },
  {
   "cell_type": "code",
   "execution_count": 25,
   "id": "d7bfef7a-15ad-4567-bd1c-71dfade040e4",
   "metadata": {},
   "outputs": [
    {
     "data": {
      "text/plain": [
       "<Axes: >"
      ]
     },
     "execution_count": 25,
     "metadata": {},
     "output_type": "execute_result"
    },
    {
     "data": {
      "image/png": "[encoded data removed]",
      "text/plain": [
       "<Figure size 1500x1000 with 1 Axes>"
      ]
     },
     "metadata": {},
     "output_type": "display_data"
    }
   ],
   "source": [
    "df_patches = gpd.GeoDataFrame(patch_records)\n",
    "df_patches['patch_id'] = df_patches.index\n",
    "ax = df_patches.exterior.plot(figsize=(15, 10), color='black', lw=.1, alpha=1)\n",
    "df_patches.plot(figsize=(15, 10), alpha=.05, ax=ax)\n"
   ]
  },
  {
   "cell_type": "markdown",
   "id": "52df8e70-d249-47ff-8035-15dd9f6407ec",
   "metadata": {},
   "source": [
    "# Serializing all the Bursts"
   ]
  },
  {
   "cell_type": "code",
   "execution_count": 35,
   "id": "ca04c02e-7af3-4d26-9892-fcf29902e9ea",
   "metadata": {},
   "outputs": [],
   "source": [
    "burst_ids = df_rtc_meta.jpl_burst_id.unique()\n",
    "\n",
    "def get_utm_geo(sx, sy, transform):\n",
    "    xmin, ymin = xy(transform, sy.start, sx.start)\n",
    "    xmax, ymax = xy(transform, sy.stop, sx.stop)\n",
    "    return box(xmin, ymin, xmax, ymax)\n",
    "\n",
    "def get_patch_dataframe_utm(burst_id: str, \n",
    "                            stride = stride,\n",
    "                            patch_x = PATCH_SIZE,\n",
    "                            patch_y = PATCH_SIZE,\n",
    "                            percent_covered = percent_covered) -> gpd.GeoDataFrame:\n",
    "        \n",
    "    \n",
    "    pixels_covered_per_patch = patch_x * patch_y * percent_covered\n",
    "    df_ts = pd.read_parquet('rtc_s1_tables/rtc_s1_table.parquet',\n",
    "                              filters=[('jpl_burst_id', '=', burst_id)])\n",
    "    path_vv = df_ts.rtc_s1_vv_url[0]\n",
    "    \n",
    "    with rasterio.open(path_vv) as ds:\n",
    "        data_mask = ds.read_masks(1).astype(bool)\n",
    "        width = ds.width\n",
    "        height = ds.height\n",
    "        transform = ds.transform\n",
    "        p = ds.profile\n",
    "        bounds_utm = ds.bounds\n",
    "        \n",
    "    bounds_ll = transform_bounds(p['crs'], CRS.from_epsg(4326), *bounds_utm)\n",
    "    X_glad_lc, p_lc = get_raster_from_tiles(bounds_ll, tile_shortname='glad_landcover', year=2020)\n",
    "\n",
    "    X_glad_lc_utm, p_lc_r = reproject_arr_to_match_profile(X_glad_lc, p_lc, p)\n",
    "    X_glad_lc_utm = X_glad_lc_utm[0, ...]\n",
    "\n",
    "    data_mask_f = (data_mask.astype(bool) & ~(X_glad_lc_utm == 254)).astype(np.uint8)\n",
    "    \n",
    "    n_x = width // stride + 1\n",
    "    n_y = height // stride + 1\n",
    "    \n",
    "    slices_x = [np.s_[i * stride: i * stride + patch_x] for i in range(n_x)]\n",
    "    slices_y = [np.s_[i * stride: i * stride + patch_x] for i in range(n_y)]\n",
    "\n",
    "    patches = [(sy, sx) for sy in slices_y for sx in slices_x]\n",
    "    patches_with_data = [p for p in patches if (data_mask_f[p].sum() > pixels_covered)\n",
    "                         and (data_mask_f[p].shape == (patch_x, patch_y))]\n",
    "\n",
    "    patch_records = [{'x_start': sx.start,\n",
    "                      'y_start': sy.start,\n",
    "                      'jpl_burst_id': burst_id,\n",
    "                     } for (sy, sx) in patches_with_data]\n",
    "\n",
    "    df = pd.DataFrame(patch_records)\n",
    "    return df\n",
    "        "
   ]
  },
  {
   "cell_type": "code",
   "execution_count": null,
   "id": "f8906c4b-3f02-4a48-819c-cd7e2d1405be",
   "metadata": {
    "scrolled": true
   },
   "outputs": [
    {
     "data": {
      "application/vnd.jupyter.widget-view+json": {
       "model_id": "aa2ee1483bdf41b79b8710481a14b582",
       "version_major": 2,
       "version_minor": 0
      },
      "text/plain": [
       "  0%|                                                 | 0/3429 [00:00<?, ?it/s]"
      ]
     },
     "metadata": {},
     "output_type": "display_data"
    },
    {
     "name": "stderr",
     "output_type": "stream",
     "text": [
      "Reading tile metadata: 100%|███████████████████| 1/1 [00:00<00:00, 9058.97it/s]\n",
      "Reading tile metadata: 100%|███████████████████| 1/1 [00:00<00:00, 9177.91it/s]\n",
      "Reading tile metadata: 100%|███████████████████| 1/1 [00:00<00:00, 1818.87it/s]\n",
      "Reading tile metadata: 100%|███████████████████| 1/1 [00:00<00:00, 9218.25it/s]\n",
      "Reading tile metadata: 100%|███████████████████| 1/1 [00:00<00:00, 8305.55it/s]\n",
      "Reading tile metadata: 100%|███████████████████| 1/1 [00:00<00:00, 9686.61it/s]\n",
      "Reading tile metadata: 100%|██████████████████| 1/1 [00:00<00:00, 10330.80it/s]\n",
      "Reading tile metadata: 100%|███████████████████| 1/1 [00:00<00:00, 9177.91it/s]\n",
      "Reading tile metadata:   0%|                             | 0/2 [00:00<?, ?it/s]/u/duvel-d2/cmarshak/miniforge3/envs/dist-s1/lib/python3.12/site-packages/dem_stitcher/rio_window.py:99: RuntimeWarning: Requesting extent beyond raster bounds of [-10.0, 40.0, 0.0, 50.0]. Shrinking bounds in raster crs to (-0.31796185570665786, 41.97403599609201, 0.0, 42.412255685419275).\n",
      "  warn(\n",
      "Reading tile metadata: 100%|████████████████████| 2/2 [00:00<00:00, 784.20it/s]\n",
      "Reading tile imagery: 100%|██████████████████████| 1/1 [00:01<00:00,  1.94s/it]\n",
      "Reading tile imagery: 100%|██████████████████████| 1/1 [00:02<00:00,  2.03s/it]\n",
      "Reading tile metadata: 100%|██████████████████| 1/1 [00:00<00:00, 10255.02it/s]\n",
      "Reading tile imagery: 100%|██████████████████████| 1/1 [00:01<00:00,  1.55s/it]\n",
      "Reading tile imagery: 100%|██████████████████████| 1/1 [00:01<00:00,  1.46s/it]\n",
      "Reading tile imagery: 100%|██████████████████████| 1/1 [00:04<00:00,  4.67s/it]\n",
      "Reading tile metadata: 100%|███████████████████| 1/1 [00:00<00:00, 1645.47it/s]\n",
      "Reading tile imagery: 100%|██████████████████████| 2/2 [00:04<00:00,  2.12s/it]\n",
      "Reading tile metadata: 100%|██████████████████| 1/1 [00:00<00:00, 12087.33it/s]\n",
      "Reading tile imagery: 100%|██████████████████████| 1/1 [00:06<00:00,  6.14s/it]\n"
     ]
    }
   ],
   "source": [
    "from mpire import WorkerPool\n",
    "\n",
    "\n",
    "with WorkerPool(n_jobs=10, use_dill=True) as pool:\n",
    "    dfs = pool.map(\n",
    "        get_patch_dataframe_utm, (bid for bid in burst_ids), \n",
    "        progress_bar=True, \n",
    "        progress_bar_style='notebook', \n",
    "        iterable_len=len(burst_ids)\n",
    "    )"
   ]
  },
  {
   "cell_type": "code",
   "execution_count": 41,
   "id": "22f1ed50-002b-4486-a238-4bfb8d75f916",
   "metadata": {},
   "outputs": [],
   "source": [
    "patch_dir = Path('patch_data')\n",
    "patch_dir.mkdir(exist_ok=True, parents=True)"
   ]
  },
  {
   "cell_type": "code",
   "execution_count": 42,
   "id": "0e42fe9a-d059-4d8f-a1cc-8157600ea765",
   "metadata": {},
   "outputs": [],
   "source": [
    "df_patch = pd.concat(dfs, axis=0)\n",
    "df_patch.to_parquet(patch_dir / f'burst_patch_table_{PATCH_SIZE}.parquet')"
   ]
  },
  {
   "cell_type": "markdown",
   "id": "95ecfa70-ff62-4ae3-96c1-dd0563abc48c",
   "metadata": {},
   "source": [
    "## Checking we can stream data using our dataframe"
   ]
  },
  {
   "cell_type": "code",
   "execution_count": null,
   "id": "92c907f7-a51c-42a7-ab4c-0b8a0bf802df",
   "metadata": {},
   "outputs": [],
   "source": [
    "all_burst_ids = df_rtc_meta.jpl_burst_id.unique()\n",
    "df_patches = pd.read_parquet('burst_patch_table.parquet',\n",
    "                              filters=[('jpl_burst_id', '=', all_burst_ids[30])])"
   ]
  },
  {
   "cell_type": "code",
   "execution_count": null,
   "id": "521aae14-c783-438b-bc4e-e41c65decab2",
   "metadata": {},
   "outputs": [],
   "source": [
    "\n",
    "utm_record = df_patches.iloc[40].to_dict()\n",
    "ind = (df_rtc_meta['jpl_burst_id'] == utm_record['jpl_burst_id'])\n",
    "df_ts = df_rtc_meta[ind].reset_index(drop=True)"
   ]
  },
  {
   "cell_type": "code",
   "execution_count": null,
   "id": "0558042a-dcf6-4a0b-b823-e3f7faed7ff1",
   "metadata": {},
   "outputs": [],
   "source": [
    "PATCH_IND = 30\n",
    "RASTER_IND = 30\n",
    "\n",
    "\n",
    "r = utm_record\n",
    "rows = [r['y_start'], r['y_start'] + PATCH_SIZE]\n",
    "cols = [r['x_start'], r['x_start'] + PATCH_SIZE]\n",
    "window = Window.from_slices(rows=rows, cols=cols)\n",
    "\n",
    "with rasterio.open(df_ts.rtc_s1_vh_url[RASTER_IND]) as ds:\n",
    "    X_p = ds.read(1, window=window)"
   ]
  },
  {
   "cell_type": "code",
   "execution_count": null,
   "id": "60dbae1a-5f17-4a7f-a6ff-25f8595b7d55",
   "metadata": {},
   "outputs": [],
   "source": [
    "plt.imshow(X_p, vmin=0, vmax=.15)"
   ]
  }
 ],
 "metadata": {
  "kernelspec": {
   "display_name": "dist-s1",
   "language": "python",
   "name": "dist-s1"
  },
  "language_info": {
   "codemirror_mode": {
    "name": "ipython",
    "version": 3
   },
   "file_extension": ".py",
   "mimetype": "text/x-python",
   "name": "python",
   "nbconvert_exporter": "python",
   "pygments_lexer": "ipython3",
   "version": "3.12.4"
  }
 },
 "nbformat": 4,
 "nbformat_minor": 5
}
