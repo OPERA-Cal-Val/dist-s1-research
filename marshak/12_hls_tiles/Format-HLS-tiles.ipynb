{
 "cells": [
  {
   "cell_type": "markdown",
   "id": "0e6a5c6f-08dd-4c10-9538-d39cbd3832b6",
   "metadata": {},
   "source": [
    "Download kml file from here: https://hls.gsfc.nasa.gov/products-description/tiling-system/\n",
    "\n",
    "The actual download link is this: https://hls.gsfc.nasa.gov/wp-content/uploads/2016/03/S2A_OPER_GIP_TILPAR_MPC__20151209T095117_V20150622T000000_21000101T000000_B00.kml"
   ]
  },
  {
   "cell_type": "code",
   "execution_count": 1,
   "id": "2ba3c6ed-9020-423b-a15d-e1f3f9b57ac0",
   "metadata": {},
   "outputs": [],
   "source": [
    "import geopandas as gpd\n",
    "import pandas as pd\n",
    "from bs4 import BeautifulSoup\n",
    "import fiona\n",
    "import json\n",
    "from tqdm import tqdm\n",
    "from shapely import from_wkt \n",
    "from rasterio.crs import CRS\n",
    "\n",
    "fiona.drvsupport.supported_drivers['LIBKML'] = 'rw'"
   ]
  },
  {
   "cell_type": "code",
   "execution_count": 2,
   "id": "9839f857-8313-4cdd-b5c8-6fdb495ef588",
   "metadata": {},
   "outputs": [
    {
     "data": {
      "text/html": [
       "<div>\n",
       "<style scoped>\n",
       "    .dataframe tbody tr th:only-of-type {\n",
       "        vertical-align: middle;\n",
       "    }\n",
       "\n",
       "    .dataframe tbody tr th {\n",
       "        vertical-align: top;\n",
       "    }\n",
       "\n",
       "    .dataframe thead th {\n",
       "        text-align: right;\n",
       "    }\n",
       "</style>\n",
       "<table border=\"1\" class=\"dataframe\">\n",
       "  <thead>\n",
       "    <tr style=\"text-align: right;\">\n",
       "      <th></th>\n",
       "      <th>Name</th>\n",
       "      <th>description</th>\n",
       "      <th>timestamp</th>\n",
       "      <th>begin</th>\n",
       "      <th>end</th>\n",
       "      <th>altitudeMode</th>\n",
       "      <th>tessellate</th>\n",
       "      <th>extrude</th>\n",
       "      <th>visibility</th>\n",
       "      <th>drawOrder</th>\n",
       "      <th>icon</th>\n",
       "      <th>snippet</th>\n",
       "      <th>geometry</th>\n",
       "    </tr>\n",
       "  </thead>\n",
       "  <tbody>\n",
       "    <tr>\n",
       "      <th>0</th>\n",
       "      <td>01CCV</td>\n",
       "      <td>TILE PROPERTIES&lt;br&gt;&lt;table border=0 cellpadding...</td>\n",
       "      <td>NaT</td>\n",
       "      <td>NaT</td>\n",
       "      <td>NaT</td>\n",
       "      <td>None</td>\n",
       "      <td>-1</td>\n",
       "      <td>0</td>\n",
       "      <td>-1</td>\n",
       "      <td>None</td>\n",
       "      <td>None</td>\n",
       "      <td></td>\n",
       "      <td>GEOMETRYCOLLECTION Z (POLYGON Z ((180.00000 -7...</td>\n",
       "    </tr>\n",
       "    <tr>\n",
       "      <th>1</th>\n",
       "      <td>01CDH</td>\n",
       "      <td>TILE PROPERTIES&lt;br&gt;&lt;table border=0 cellpadding...</td>\n",
       "      <td>NaT</td>\n",
       "      <td>NaT</td>\n",
       "      <td>NaT</td>\n",
       "      <td>None</td>\n",
       "      <td>-1</td>\n",
       "      <td>0</td>\n",
       "      <td>-1</td>\n",
       "      <td>None</td>\n",
       "      <td>None</td>\n",
       "      <td></td>\n",
       "      <td>GEOMETRYCOLLECTION Z (POLYGON Z ((180.00000 -8...</td>\n",
       "    </tr>\n",
       "    <tr>\n",
       "      <th>2</th>\n",
       "      <td>01CDJ</td>\n",
       "      <td>TILE PROPERTIES&lt;br&gt;&lt;table border=0 cellpadding...</td>\n",
       "      <td>NaT</td>\n",
       "      <td>NaT</td>\n",
       "      <td>NaT</td>\n",
       "      <td>None</td>\n",
       "      <td>-1</td>\n",
       "      <td>0</td>\n",
       "      <td>-1</td>\n",
       "      <td>None</td>\n",
       "      <td>None</td>\n",
       "      <td></td>\n",
       "      <td>GEOMETRYCOLLECTION Z (POLYGON Z ((180.00000 -8...</td>\n",
       "    </tr>\n",
       "    <tr>\n",
       "      <th>3</th>\n",
       "      <td>01CDK</td>\n",
       "      <td>TILE PROPERTIES&lt;br&gt;&lt;table border=0 cellpadding...</td>\n",
       "      <td>NaT</td>\n",
       "      <td>NaT</td>\n",
       "      <td>NaT</td>\n",
       "      <td>None</td>\n",
       "      <td>-1</td>\n",
       "      <td>0</td>\n",
       "      <td>-1</td>\n",
       "      <td>None</td>\n",
       "      <td>None</td>\n",
       "      <td></td>\n",
       "      <td>GEOMETRYCOLLECTION Z (POLYGON Z ((180.00000 -8...</td>\n",
       "    </tr>\n",
       "    <tr>\n",
       "      <th>4</th>\n",
       "      <td>01CDL</td>\n",
       "      <td>TILE PROPERTIES&lt;br&gt;&lt;table border=0 cellpadding...</td>\n",
       "      <td>NaT</td>\n",
       "      <td>NaT</td>\n",
       "      <td>NaT</td>\n",
       "      <td>None</td>\n",
       "      <td>-1</td>\n",
       "      <td>0</td>\n",
       "      <td>-1</td>\n",
       "      <td>None</td>\n",
       "      <td>None</td>\n",
       "      <td></td>\n",
       "      <td>GEOMETRYCOLLECTION Z (POLYGON Z ((180.00000 -8...</td>\n",
       "    </tr>\n",
       "  </tbody>\n",
       "</table>\n",
       "</div>"
      ],
      "text/plain": [
       "    Name                                        description timestamp begin  \\\n",
       "0  01CCV  TILE PROPERTIES<br><table border=0 cellpadding...       NaT   NaT   \n",
       "1  01CDH  TILE PROPERTIES<br><table border=0 cellpadding...       NaT   NaT   \n",
       "2  01CDJ  TILE PROPERTIES<br><table border=0 cellpadding...       NaT   NaT   \n",
       "3  01CDK  TILE PROPERTIES<br><table border=0 cellpadding...       NaT   NaT   \n",
       "4  01CDL  TILE PROPERTIES<br><table border=0 cellpadding...       NaT   NaT   \n",
       "\n",
       "  end altitudeMode  tessellate  extrude  visibility drawOrder  icon snippet  \\\n",
       "0 NaT         None          -1        0          -1      None  None           \n",
       "1 NaT         None          -1        0          -1      None  None           \n",
       "2 NaT         None          -1        0          -1      None  None           \n",
       "3 NaT         None          -1        0          -1      None  None           \n",
       "4 NaT         None          -1        0          -1      None  None           \n",
       "\n",
       "                                            geometry  \n",
       "0  GEOMETRYCOLLECTION Z (POLYGON Z ((180.00000 -7...  \n",
       "1  GEOMETRYCOLLECTION Z (POLYGON Z ((180.00000 -8...  \n",
       "2  GEOMETRYCOLLECTION Z (POLYGON Z ((180.00000 -8...  \n",
       "3  GEOMETRYCOLLECTION Z (POLYGON Z ((180.00000 -8...  \n",
       "4  GEOMETRYCOLLECTION Z (POLYGON Z ((180.00000 -8...  "
      ]
     },
     "execution_count": 2,
     "metadata": {},
     "output_type": "execute_result"
    }
   ],
   "source": [
    "df = gpd.read_file('S2A_OPER_GIP_TILPAR_MPC__20151209T095117_V20150622T000000_21000101T000000_B00.kml', driver='LIBKML')\n",
    "df.head()"
   ]
  },
  {
   "cell_type": "code",
   "execution_count": 3,
   "id": "8bd69847-cc4e-4bc2-8e65-d168905fcb02",
   "metadata": {},
   "outputs": [
    {
     "data": {
      "text/plain": [
       "'TILE PROPERTIES<br><table border=0 cellpadding=0 cellspacing=0  width=250 style=\"FONT-SIZE: 11px; FONT-FAMILY: Verdana, Arial, Helvetica, sans-serif;\"><tr><td bgcolor=\"#E3E1CA\" align=\"right\"><font COLOR=\"#000000\"><b>TILE_ID</b></font></td><td bgcolor=\"#E4E6CA\"> <font COLOR=\"#008000\">01CCV</font></td></tr><tr><td bgcolor=\"#E3E1CA\" align=\"right\"><font COLOR=\"#000000\"><b>EPSG</b></font></td><td bgcolor=\"#E4E6CA\"> <font COLOR=\"#008000\">32701</font></td></tr><tr><td bgcolor=\"#E3E1CA\" align=\"right\"><font COLOR=\"#000000\"><b>MGRS_REF</b></font></td><td bgcolor=\"#E4E6CA\"> <font COLOR=\"#008000\">-72.01265627 177.18928449 -72.077536527 -179.91249232 -72.972797991 179.93922476 -72.9043013 176.89507973</font></td></tr><tr><td bgcolor=\"#E3E1CA\" align=\"right\"><font COLOR=\"#000000\"><b>UTM_WKT</b></font></td><td bgcolor=\"#E4E6CA\"> <font COLOR=\"#008000\">MULTIPOLYGON(((300000 2000020,300000 1890220,409800 1890220,409800 2000020,300000 2000020)))</font></td></tr><tr><td bgcolor=\"#E3E1CA\" align=\"right\"><font COLOR=\"#000000\"><b>LL_WKT</b></font></td><td bgcolor=\"#E4E6CA\"> <font COLOR=\"#008000\">MULTIPOLYGON(((177.189340361676 -72.0124778858137,176.864623786205 -72.9914734627827,-179.775147078577 -73.064632943735,-179.627444421211 -72.081397340079,177.189340361676 -72.0124778858137)))</font></td></tr></table>'"
      ]
     },
     "execution_count": 3,
     "metadata": {},
     "output_type": "execute_result"
    }
   ],
   "source": [
    "tile_properties_html = [record['description'] for record in df.to_dict('records')]\n",
    "tile_properties_html[0]"
   ]
  },
  {
   "cell_type": "code",
   "execution_count": 4,
   "id": "99d5c425-dbde-4765-8fd0-158fd7aeb961",
   "metadata": {},
   "outputs": [],
   "source": [
    "def get_tile_properties(html_data: str) -> dict:\n",
    "    \"\"\"Source: https://stackoverflow.com/a/18544794\"\"\"\n",
    "    table_data = [[cell.text for cell in row(\"td\")] \n",
    "                  for row in BeautifulSoup(html_data)(\"tr\")]\n",
    "    data = dict(table_data)\n",
    "    return data"
   ]
  },
  {
   "cell_type": "code",
   "execution_count": 5,
   "id": "bbc1e67f-a1b9-47cb-9396-124231f1e0c3",
   "metadata": {},
   "outputs": [
    {
     "name": "stderr",
     "output_type": "stream",
     "text": [
      "100%|█| 56686/56686 [00:19<00:0\n"
     ]
    },
    {
     "data": {
      "text/plain": [
       "[{'TILE_ID': ' 01CCV',\n",
       "  'EPSG': ' 32701',\n",
       "  'MGRS_REF': ' -72.01265627 177.18928449 -72.077536527 -179.91249232 -72.972797991 179.93922476 -72.9043013 176.89507973',\n",
       "  'UTM_WKT': ' MULTIPOLYGON(((300000 2000020,300000 1890220,409800 1890220,409800 2000020,300000 2000020)))',\n",
       "  'LL_WKT': ' MULTIPOLYGON(((177.189340361676 -72.0124778858137,176.864623786205 -72.9914734627827,-179.775147078577 -73.064632943735,-179.627444421211 -72.081397340079,177.189340361676 -72.0124778858137)))'},\n",
       " {'TILE_ID': ' 01CDH',\n",
       "  'EPSG': ' 32701',\n",
       "  'MGRS_REF': ' -82.796942202 175.83834491 -82.852560274 -177 -83.748345357 -177 -83.684758644 174.83020094',\n",
       "  'UTM_WKT': ' MULTIPOLYGON(((399960 800020,399960 690220,509760 690220,509760 800020,399960 800020)))',\n",
       "  'LL_WKT': ' MULTIPOLYGON(((175.835686552199 -82.7967201119087,174.712881529024 -83.7714121109537,-176.185902759418 -83.8353338950151,-176.297440454183 -82.8518492389837,175.835686552199 -82.7967201119087)))'},\n",
       " {'TILE_ID': ' 01CDJ',\n",
       "  'EPSG': ' 32701',\n",
       "  'MGRS_REF': ' -81.907342379 176.62455327 -81.956740238 -177 -82.852560274 -177 -82.796942202 175.83834491',\n",
       "  'UTM_WKT': ' MULTIPOLYGON(((399960 900040,399960 790240,509760 790240,509760 900040,399960 900040)))',\n",
       "  'LL_WKT': ' MULTIPOLYGON(((176.62230379644 -81.9069468576663,175.748186754943 -82.8836372312677,-176.288769011947 -82.9394518280668,-176.375253108343 -81.9559099029374,176.62230379644 -81.9069468576663)))'}]"
      ]
     },
     "execution_count": 5,
     "metadata": {},
     "output_type": "execute_result"
    }
   ],
   "source": [
    "tile_properties = list(map(get_tile_properties, tqdm(tile_properties_html)))\n",
    "tile_properties[:3]"
   ]
  },
  {
   "cell_type": "code",
   "execution_count": 6,
   "id": "13fdc3ca-93b4-4b78-bc46-e594b1393a29",
   "metadata": {},
   "outputs": [
    {
     "data": {
      "text/html": [
       "<div>\n",
       "<style scoped>\n",
       "    .dataframe tbody tr th:only-of-type {\n",
       "        vertical-align: middle;\n",
       "    }\n",
       "\n",
       "    .dataframe tbody tr th {\n",
       "        vertical-align: top;\n",
       "    }\n",
       "\n",
       "    .dataframe thead th {\n",
       "        text-align: right;\n",
       "    }\n",
       "</style>\n",
       "<table border=\"1\" class=\"dataframe\">\n",
       "  <thead>\n",
       "    <tr style=\"text-align: right;\">\n",
       "      <th></th>\n",
       "      <th>tile_id</th>\n",
       "      <th>epsg</th>\n",
       "      <th>mgrs_ref</th>\n",
       "      <th>utm_wkt</th>\n",
       "      <th>ll_wkt</th>\n",
       "    </tr>\n",
       "  </thead>\n",
       "  <tbody>\n",
       "    <tr>\n",
       "      <th>0</th>\n",
       "      <td>01CCV</td>\n",
       "      <td>32701</td>\n",
       "      <td>-72.01265627 177.18928449 -72.077536527 -179....</td>\n",
       "      <td>MULTIPOLYGON(((300000 2000020,300000 1890220,...</td>\n",
       "      <td>MULTIPOLYGON(((177.189340361676 -72.012477885...</td>\n",
       "    </tr>\n",
       "    <tr>\n",
       "      <th>1</th>\n",
       "      <td>01CDH</td>\n",
       "      <td>32701</td>\n",
       "      <td>-82.796942202 175.83834491 -82.852560274 -177...</td>\n",
       "      <td>MULTIPOLYGON(((399960 800020,399960 690220,50...</td>\n",
       "      <td>MULTIPOLYGON(((175.835686552199 -82.796720111...</td>\n",
       "    </tr>\n",
       "    <tr>\n",
       "      <th>2</th>\n",
       "      <td>01CDJ</td>\n",
       "      <td>32701</td>\n",
       "      <td>-81.907342379 176.62455327 -81.956740238 -177...</td>\n",
       "      <td>MULTIPOLYGON(((399960 900040,399960 790240,50...</td>\n",
       "      <td>MULTIPOLYGON(((176.62230379644 -81.9069468576...</td>\n",
       "    </tr>\n",
       "    <tr>\n",
       "      <th>3</th>\n",
       "      <td>01CDK</td>\n",
       "      <td>32701</td>\n",
       "      <td>-81.01647427 177.25448324 -81.060880975 -177 ...</td>\n",
       "      <td>MULTIPOLYGON(((399960 1000000,399960 890200,5...</td>\n",
       "      <td>MULTIPOLYGON(((177.252200236163 -81.016438828...</td>\n",
       "    </tr>\n",
       "    <tr>\n",
       "      <th>4</th>\n",
       "      <td>01CDL</td>\n",
       "      <td>32701</td>\n",
       "      <td>-80.124666236 177.77028412 -80.164978249 -177...</td>\n",
       "      <td>MULTIPOLYGON(((399960 1100020,399960 990220,5...</td>\n",
       "      <td>MULTIPOLYGON(((177.768297510956 -80.124455609...</td>\n",
       "    </tr>\n",
       "  </tbody>\n",
       "</table>\n",
       "</div>"
      ],
      "text/plain": [
       "  tile_id    epsg                                           mgrs_ref  \\\n",
       "0   01CCV   32701   -72.01265627 177.18928449 -72.077536527 -179....   \n",
       "1   01CDH   32701   -82.796942202 175.83834491 -82.852560274 -177...   \n",
       "2   01CDJ   32701   -81.907342379 176.62455327 -81.956740238 -177...   \n",
       "3   01CDK   32701   -81.01647427 177.25448324 -81.060880975 -177 ...   \n",
       "4   01CDL   32701   -80.124666236 177.77028412 -80.164978249 -177...   \n",
       "\n",
       "                                             utm_wkt  \\\n",
       "0   MULTIPOLYGON(((300000 2000020,300000 1890220,...   \n",
       "1   MULTIPOLYGON(((399960 800020,399960 690220,50...   \n",
       "2   MULTIPOLYGON(((399960 900040,399960 790240,50...   \n",
       "3   MULTIPOLYGON(((399960 1000000,399960 890200,5...   \n",
       "4   MULTIPOLYGON(((399960 1100020,399960 990220,5...   \n",
       "\n",
       "                                              ll_wkt  \n",
       "0   MULTIPOLYGON(((177.189340361676 -72.012477885...  \n",
       "1   MULTIPOLYGON(((175.835686552199 -82.796720111...  \n",
       "2   MULTIPOLYGON(((176.62230379644 -81.9069468576...  \n",
       "3   MULTIPOLYGON(((177.252200236163 -81.016438828...  \n",
       "4   MULTIPOLYGON(((177.768297510956 -80.124455609...  "
      ]
     },
     "execution_count": 6,
     "metadata": {},
     "output_type": "execute_result"
    }
   ],
   "source": [
    "df = pd.DataFrame(tile_properties)\n",
    "df.columns = [col.lower() for col in df.columns]\n",
    "df.head()"
   ]
  },
  {
   "cell_type": "code",
   "execution_count": 7,
   "id": "79778bae-3018-4c4b-a8fb-97aa2b4f9da5",
   "metadata": {},
   "outputs": [
    {
     "data": {
      "text/html": [
       "<div>\n",
       "<style scoped>\n",
       "    .dataframe tbody tr th:only-of-type {\n",
       "        vertical-align: middle;\n",
       "    }\n",
       "\n",
       "    .dataframe tbody tr th {\n",
       "        vertical-align: top;\n",
       "    }\n",
       "\n",
       "    .dataframe thead th {\n",
       "        text-align: right;\n",
       "    }\n",
       "</style>\n",
       "<table border=\"1\" class=\"dataframe\">\n",
       "  <thead>\n",
       "    <tr style=\"text-align: right;\">\n",
       "      <th></th>\n",
       "      <th>tile_id</th>\n",
       "      <th>epsg</th>\n",
       "      <th>utm_wkt</th>\n",
       "      <th>geometry</th>\n",
       "    </tr>\n",
       "  </thead>\n",
       "  <tbody>\n",
       "    <tr>\n",
       "      <th>0</th>\n",
       "      <td>01CCV</td>\n",
       "      <td>32701</td>\n",
       "      <td>MULTIPOLYGON(((300000 2000020,300000 1890220,...</td>\n",
       "      <td>MULTIPOLYGON (((177.18934 -72.01248, 176.86462...</td>\n",
       "    </tr>\n",
       "    <tr>\n",
       "      <th>1</th>\n",
       "      <td>01CDH</td>\n",
       "      <td>32701</td>\n",
       "      <td>MULTIPOLYGON(((399960 800020,399960 690220,50...</td>\n",
       "      <td>MULTIPOLYGON (((175.83569 -82.79672, 174.71288...</td>\n",
       "    </tr>\n",
       "    <tr>\n",
       "      <th>2</th>\n",
       "      <td>01CDJ</td>\n",
       "      <td>32701</td>\n",
       "      <td>MULTIPOLYGON(((399960 900040,399960 790240,50...</td>\n",
       "      <td>MULTIPOLYGON (((176.62230 -81.90695, 175.74819...</td>\n",
       "    </tr>\n",
       "    <tr>\n",
       "      <th>3</th>\n",
       "      <td>01CDK</td>\n",
       "      <td>32701</td>\n",
       "      <td>MULTIPOLYGON(((399960 1000000,399960 890200,5...</td>\n",
       "      <td>MULTIPOLYGON (((177.25220 -81.01644, 176.55270...</td>\n",
       "    </tr>\n",
       "    <tr>\n",
       "      <th>4</th>\n",
       "      <td>01CDL</td>\n",
       "      <td>32701</td>\n",
       "      <td>MULTIPOLYGON(((399960 1100020,399960 990220,5...</td>\n",
       "      <td>MULTIPOLYGON (((177.76830 -80.12446, 177.19616...</td>\n",
       "    </tr>\n",
       "  </tbody>\n",
       "</table>\n",
       "</div>"
      ],
      "text/plain": [
       "  tile_id    epsg                                            utm_wkt  \\\n",
       "0   01CCV   32701   MULTIPOLYGON(((300000 2000020,300000 1890220,...   \n",
       "1   01CDH   32701   MULTIPOLYGON(((399960 800020,399960 690220,50...   \n",
       "2   01CDJ   32701   MULTIPOLYGON(((399960 900040,399960 790240,50...   \n",
       "3   01CDK   32701   MULTIPOLYGON(((399960 1000000,399960 890200,5...   \n",
       "4   01CDL   32701   MULTIPOLYGON(((399960 1100020,399960 990220,5...   \n",
       "\n",
       "                                            geometry  \n",
       "0  MULTIPOLYGON (((177.18934 -72.01248, 176.86462...  \n",
       "1  MULTIPOLYGON (((175.83569 -82.79672, 174.71288...  \n",
       "2  MULTIPOLYGON (((176.62230 -81.90695, 175.74819...  \n",
       "3  MULTIPOLYGON (((177.25220 -81.01644, 176.55270...  \n",
       "4  MULTIPOLYGON (((177.76830 -80.12446, 177.19616...  "
      ]
     },
     "execution_count": 7,
     "metadata": {},
     "output_type": "execute_result"
    }
   ],
   "source": [
    "df_mgrs = gpd.GeoDataFrame(df, geometry=[from_wkt(wkt) for wkt in df.ll_wkt.tolist()], crs=CRS.from_epsg(4326))\n",
    "df_mgrs.drop(columns=['mgrs_ref', 'll_wkt'], inplace=True)\n",
    "df_mgrs.head()"
   ]
  },
  {
   "cell_type": "code",
   "execution_count": 8,
   "id": "3b590cc6-039b-41c4-8759-52d104d6256b",
   "metadata": {},
   "outputs": [],
   "source": [
    "df_mgrs['utm_wkt'] = df_mgrs['utm_wkt'].str.strip()\n",
    "df_mgrs['tile_id'] = df_mgrs['utm_wkt'].str.strip()"
   ]
  },
  {
   "cell_type": "code",
   "execution_count": 9,
   "id": "674457fe-3931-4875-9f8c-16b87590cd5c",
   "metadata": {},
   "outputs": [],
   "source": [
    "df_mgrs.to_parquet('mgrs.parquet')"
   ]
  },
  {
   "cell_type": "code",
   "execution_count": null,
   "id": "9af50dfe-0bb1-4598-a189-2f6dc93fb719",
   "metadata": {},
   "outputs": [],
   "source": [
    "df_mgrs.to_file('mgrs.geojson', driver='GeoJSON')"
   ]
  }
 ],
 "metadata": {
  "kernelspec": {
   "display_name": "dist-s1",
   "language": "python",
   "name": "dist-s1"
  },
  "language_info": {
   "codemirror_mode": {
    "name": "ipython",
    "version": 3
   },
   "file_extension": ".py",
   "mimetype": "text/x-python",
   "name": "python",
   "nbconvert_exporter": "python",
   "pygments_lexer": "ipython3",
   "version": "3.12.4"
  }
 },
 "nbformat": 4,
 "nbformat_minor": 5
}
