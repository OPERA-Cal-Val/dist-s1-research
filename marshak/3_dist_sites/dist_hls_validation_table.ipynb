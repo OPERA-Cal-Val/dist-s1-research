{
 "cells": [
  {
   "cell_type": "code",
   "execution_count": 1,
   "id": "70a57868-9564-4ab5-801e-b90067892d54",
   "metadata": {},
   "outputs": [],
   "source": [
    "import geopandas as gpd\n",
    "from rasterio.crs import CRS\n",
    "import matplotlib.pyplot as plt\n",
    "from shapely.geometry import Point\n",
    "import pandas as pd\n",
    "from dem_stitcher.geojson_io import read_geojson_gzip\n",
    "from shapely.geometry import Polygon, shape\n",
    "import asf_search as asf\n",
    "import concurrent.futures\n",
    "from tqdm import tqdm\n",
    "import mpire\n",
    "import backoff\n",
    "import requests\n",
    "import contextily as cx"
   ]
  },
  {
   "cell_type": "code",
   "execution_count": 2,
   "id": "4205ad88-48d9-466f-971e-7e2219ff1cfe",
   "metadata": {},
   "outputs": [],
   "source": [
    "START_DATE = '2020-01-01'\n",
    "END_DATE = '2022-01-01'\n",
    "MINIMUM_SAMPLES_PER_SITE_AND_BURST = 55 # for prior to December 21, 2021 we expect ~60 samples per year\n",
    "N_TROPICAL_SITES = 10\n",
    "TROPICAL_BUFFER_DEG = 5"
   ]
  },
  {
   "cell_type": "markdown",
   "id": "8152dccd-1031-4816-b6c2-68ea426f0b54",
   "metadata": {},
   "source": [
    "# Read the disturbance Data"
   ]
  },
  {
   "cell_type": "code",
   "execution_count": 3,
   "id": "0d50db79-419b-4f74-b5ba-1fffdd1f2bdb",
   "metadata": {},
   "outputs": [
    {
     "data": {
      "text/html": [
       "<div>\n",
       "<style scoped>\n",
       "    .dataframe tbody tr th:only-of-type {\n",
       "        vertical-align: middle;\n",
       "    }\n",
       "\n",
       "    .dataframe tbody tr th {\n",
       "        vertical-align: top;\n",
       "    }\n",
       "\n",
       "    .dataframe thead th {\n",
       "        text-align: right;\n",
       "    }\n",
       "</style>\n",
       "<table border=\"1\" class=\"dataframe\">\n",
       "  <thead>\n",
       "    <tr style=\"text-align: right;\">\n",
       "      <th></th>\n",
       "      <th>ID</th>\n",
       "      <th>overallLabel</th>\n",
       "      <th>Long</th>\n",
       "      <th>Lat</th>\n",
       "      <th>changetype</th>\n",
       "      <th>20211001</th>\n",
       "      <th>20211002</th>\n",
       "      <th>20211003</th>\n",
       "      <th>20211004</th>\n",
       "      <th>20211005</th>\n",
       "      <th>...</th>\n",
       "      <th>20220921</th>\n",
       "      <th>20220922</th>\n",
       "      <th>20220923</th>\n",
       "      <th>20220924</th>\n",
       "      <th>20220925</th>\n",
       "      <th>20220926</th>\n",
       "      <th>20220927</th>\n",
       "      <th>20220928</th>\n",
       "      <th>20220929</th>\n",
       "      <th>20220930</th>\n",
       "    </tr>\n",
       "  </thead>\n",
       "  <tbody>\n",
       "    <tr>\n",
       "      <th>0</th>\n",
       "      <td>1</td>\n",
       "      <td>VLmaj</td>\n",
       "      <td>-52.379792</td>\n",
       "      <td>-23.297147</td>\n",
       "      <td>Natural browning</td>\n",
       "      <td>noObs</td>\n",
       "      <td>noObs</td>\n",
       "      <td>noObs</td>\n",
       "      <td>noObs</td>\n",
       "      <td>noObs</td>\n",
       "      <td>...</td>\n",
       "      <td>noChange</td>\n",
       "      <td>noChange</td>\n",
       "      <td>noChange</td>\n",
       "      <td>noObs</td>\n",
       "      <td>noObs</td>\n",
       "      <td>noObs</td>\n",
       "      <td>noObs</td>\n",
       "      <td>noObs</td>\n",
       "      <td>noObs</td>\n",
       "      <td>noObs</td>\n",
       "    </tr>\n",
       "    <tr>\n",
       "      <th>1</th>\n",
       "      <td>2</td>\n",
       "      <td>noChange</td>\n",
       "      <td>129.850328</td>\n",
       "      <td>-29.577240</td>\n",
       "      <td>No Change</td>\n",
       "      <td>noObs</td>\n",
       "      <td>noObs</td>\n",
       "      <td>noObs</td>\n",
       "      <td>noChange</td>\n",
       "      <td>noChange</td>\n",
       "      <td>...</td>\n",
       "      <td>noChange</td>\n",
       "      <td>noChange</td>\n",
       "      <td>noChange</td>\n",
       "      <td>noChange</td>\n",
       "      <td>noObs</td>\n",
       "      <td>noObs</td>\n",
       "      <td>noObs</td>\n",
       "      <td>noObs</td>\n",
       "      <td>noObs</td>\n",
       "      <td>noObs</td>\n",
       "    </tr>\n",
       "    <tr>\n",
       "      <th>2</th>\n",
       "      <td>3</td>\n",
       "      <td>VLmin</td>\n",
       "      <td>-98.600559</td>\n",
       "      <td>33.771004</td>\n",
       "      <td>Natural browning</td>\n",
       "      <td>noObs</td>\n",
       "      <td>noObs</td>\n",
       "      <td>noChange</td>\n",
       "      <td>noChange</td>\n",
       "      <td>noChange</td>\n",
       "      <td>...</td>\n",
       "      <td>noChange</td>\n",
       "      <td>noChange</td>\n",
       "      <td>noChange</td>\n",
       "      <td>noChange</td>\n",
       "      <td>noObs</td>\n",
       "      <td>noObs</td>\n",
       "      <td>noObs</td>\n",
       "      <td>noObs</td>\n",
       "      <td>noObs</td>\n",
       "      <td>noObs</td>\n",
       "    </tr>\n",
       "    <tr>\n",
       "      <th>3</th>\n",
       "      <td>4</td>\n",
       "      <td>VLmaj</td>\n",
       "      <td>19.332894</td>\n",
       "      <td>4.574903</td>\n",
       "      <td>Fire</td>\n",
       "      <td>noObs</td>\n",
       "      <td>noObs</td>\n",
       "      <td>noChange</td>\n",
       "      <td>noChange</td>\n",
       "      <td>noChange</td>\n",
       "      <td>...</td>\n",
       "      <td>noChange</td>\n",
       "      <td>noChange</td>\n",
       "      <td>noChange</td>\n",
       "      <td>noChange</td>\n",
       "      <td>noChange</td>\n",
       "      <td>noChange</td>\n",
       "      <td>noChange</td>\n",
       "      <td>noObs</td>\n",
       "      <td>noObs</td>\n",
       "      <td>noObs</td>\n",
       "    </tr>\n",
       "    <tr>\n",
       "      <th>4</th>\n",
       "      <td>5</td>\n",
       "      <td>VLmaj</td>\n",
       "      <td>115.619006</td>\n",
       "      <td>63.108089</td>\n",
       "      <td>Fire</td>\n",
       "      <td>noObs</td>\n",
       "      <td>noObs</td>\n",
       "      <td>noObs</td>\n",
       "      <td>noObs</td>\n",
       "      <td>noObs</td>\n",
       "      <td>...</td>\n",
       "      <td>noChange</td>\n",
       "      <td>noChange</td>\n",
       "      <td>noChange</td>\n",
       "      <td>noChange</td>\n",
       "      <td>noObs</td>\n",
       "      <td>noObs</td>\n",
       "      <td>noObs</td>\n",
       "      <td>noObs</td>\n",
       "      <td>noObs</td>\n",
       "      <td>noObs</td>\n",
       "    </tr>\n",
       "  </tbody>\n",
       "</table>\n",
       "<p>5 rows × 370 columns</p>\n",
       "</div>"
      ],
      "text/plain": [
       "   ID overallLabel        Long        Lat        changetype 20211001 20211002  \\\n",
       "0   1        VLmaj  -52.379792 -23.297147  Natural browning    noObs    noObs   \n",
       "1   2     noChange  129.850328 -29.577240         No Change    noObs    noObs   \n",
       "2   3        VLmin  -98.600559  33.771004  Natural browning    noObs    noObs   \n",
       "3   4        VLmaj   19.332894   4.574903              Fire    noObs    noObs   \n",
       "4   5        VLmaj  115.619006  63.108089              Fire    noObs    noObs   \n",
       "\n",
       "   20211003  20211004  20211005  ...  20220921  20220922  20220923  20220924  \\\n",
       "0     noObs     noObs     noObs  ...  noChange  noChange  noChange     noObs   \n",
       "1     noObs  noChange  noChange  ...  noChange  noChange  noChange  noChange   \n",
       "2  noChange  noChange  noChange  ...  noChange  noChange  noChange  noChange   \n",
       "3  noChange  noChange  noChange  ...  noChange  noChange  noChange  noChange   \n",
       "4     noObs     noObs     noObs  ...  noChange  noChange  noChange  noChange   \n",
       "\n",
       "   20220925  20220926  20220927 20220928 20220929 20220930  \n",
       "0     noObs     noObs     noObs    noObs    noObs    noObs  \n",
       "1     noObs     noObs     noObs    noObs    noObs    noObs  \n",
       "2     noObs     noObs     noObs    noObs    noObs    noObs  \n",
       "3  noChange  noChange  noChange    noObs    noObs    noObs  \n",
       "4     noObs     noObs     noObs    noObs    noObs    noObs  \n",
       "\n",
       "[5 rows x 370 columns]"
      ]
     },
     "execution_count": 3,
     "metadata": {},
     "output_type": "execute_result"
    }
   ],
   "source": [
    "df_dist_hls_val = pd.read_csv('https://raw.githubusercontent.com/OPERA-Cal-Val/DIST-Validation/main/referenceTimeSeries_last.csv')\n",
    "df_dist_hls_val.head()"
   ]
  },
  {
   "cell_type": "markdown",
   "id": "d8cffbb1-f05d-4cd8-a073-1c44a15c2922",
   "metadata": {},
   "source": [
    "# Extracting \"change\" and Last observed \"no change\" indices"
   ]
  },
  {
   "cell_type": "code",
   "execution_count": 4,
   "id": "77fd349b-3705-4a98-86dd-4ebb47689928",
   "metadata": {},
   "outputs": [],
   "source": [
    "def get_index(data: list[str], val: str) -> int:\n",
    "    try:\n",
    "        ind = data.index(val)\n",
    "    except ValueError:\n",
    "        ind = len(data)\n",
    "    return ind\n",
    "\n",
    "\n",
    "def get_first_change(labeled_ts):\n",
    "    get_index_p = lambda val: get_index(labeled_ts, val)\n",
    "    indices = list(map(get_index_p, ['VLmin', 'VLmaj', 'OCmin', 'OCmaj']))\n",
    "    ind = min(indices)\n",
    "    ind = ind if ind < len(labeled_ts) else -1\n",
    "    return ind\n",
    "\n",
    "def get_last_noChange(labeled_ts, change_ind):\n",
    "    if change_ind == -1:\n",
    "        return -1\n",
    "    labeled_ts_r = (labeled_ts[:change_ind][::-1])\n",
    "    ind_nc_r = get_index(labeled_ts_r, 'noChange')\n",
    "    ind_nc = change_ind - ind_nc_r - 1\n",
    "    return ind_nc"
   ]
  },
  {
   "cell_type": "markdown",
   "id": "bd442895-0c95-44da-af1a-137e2b0fb7cf",
   "metadata": {},
   "source": [
    "Debugging/testing"
   ]
  },
  {
   "cell_type": "code",
   "execution_count": 5,
   "id": "93894fd5-cba4-41a9-8f75-dbd81aa09caf",
   "metadata": {},
   "outputs": [
    {
     "data": {
      "text/plain": [
       "(['noObs',\n",
       "  'noObs',\n",
       "  'noObs',\n",
       "  'noObs',\n",
       "  'noObs',\n",
       "  'noObs',\n",
       "  'noObs',\n",
       "  'noObs',\n",
       "  'noObs',\n",
       "  'noObs',\n",
       "  'VLmin',\n",
       "  'VLmin',\n",
       "  'VLmin',\n",
       "  'VLmin',\n",
       "  'VLmin',\n",
       "  'VLmin',\n",
       "  'VLmin',\n",
       "  'VLmin',\n",
       "  'VLmin',\n",
       "  'VLmin'],\n",
       " 119)"
      ]
     },
     "execution_count": 5,
     "metadata": {},
     "output_type": "execute_result"
    }
   ],
   "source": [
    "IND_T = 2\n",
    "row_data = list(df_dist_hls_val.iloc[IND_T])\n",
    "ts_labeled = row_data[5:]\n",
    "ind_c = get_first_change(ts_labeled)\n",
    "ts_labeled[max(ind_c-10, 0): ind_c+10], ind_c"
   ]
  },
  {
   "cell_type": "code",
   "execution_count": 6,
   "id": "c0ac5778-ba03-45b9-aff5-2488b0a1b538",
   "metadata": {},
   "outputs": [
    {
     "data": {
      "text/plain": [
       "(['noChange',\n",
       "  'noObs',\n",
       "  'noObs',\n",
       "  'noObs',\n",
       "  'noObs',\n",
       "  'noObs',\n",
       "  'noObs',\n",
       "  'noObs',\n",
       "  'noObs',\n",
       "  'noObs',\n",
       "  'noObs',\n",
       "  'noObs',\n",
       "  'noObs',\n",
       "  'noObs',\n",
       "  'noObs',\n",
       "  'noObs',\n",
       "  'noObs',\n",
       "  'noObs',\n",
       "  'noObs',\n",
       "  'noObs',\n",
       "  'noObs',\n",
       "  'noObs',\n",
       "  'VLmin'],\n",
       " 119)"
      ]
     },
     "execution_count": 6,
     "metadata": {},
     "output_type": "execute_result"
    }
   ],
   "source": [
    "ind_nc = get_last_noChange(ts_labeled, ind_c)\n",
    "ts_labeled[max(ind_nc, 0) : ind_c+ 1], ind_c"
   ]
  },
  {
   "cell_type": "markdown",
   "id": "6dbb6e5d-1a52-4ee2-b7c4-b924a4a59397",
   "metadata": {},
   "source": [
    "## Extract dates from Table"
   ]
  },
  {
   "cell_type": "code",
   "execution_count": 7,
   "id": "944764fa-d08b-4402-9c2d-3d96bc5b5e99",
   "metadata": {},
   "outputs": [],
   "source": [
    "def get_first_change_from_row(row):\n",
    "    change_label = row['overallLabel']\n",
    "    if change_label in ['VLmin', 'VLmaj', 'OCmaj', 'OCmin']:\n",
    "        dates_str = row.keys().tolist()[5:]\n",
    "        dates = pd.to_datetime(dates_str)\n",
    "        \n",
    "        labeled_ts = list(row)[5:]\n",
    "        ind_c = get_first_change(labeled_ts)\n",
    "        change_date = dates[ind_c]\n",
    "    else:\n",
    "        change_date = pd.NaT\n",
    "    return change_date\n",
    "\n",
    "def get_last_obs_date_before_change(row):\n",
    "    change_label = row['overallLabel']\n",
    "    if change_label in ['VLmin', 'VLmaj', 'OCmaj', 'OCmin']:\n",
    "        dates_str = row.keys().tolist()[5:]\n",
    "        dates = pd.to_datetime(dates_str)\n",
    "        \n",
    "        labeled_ts = list(row)[5:]\n",
    "        ind_c = get_first_change(labeled_ts)\n",
    "        ind_nc = get_last_noChange(labeled_ts, ind_c)\n",
    "        last_obs_date = dates[ind_nc] if ind_nc > -1 else pd.NaT\n",
    "    else:\n",
    "        last_obs_date = pd.NaT\n",
    "\n",
    "    return last_obs_date\n"
   ]
  },
  {
   "cell_type": "code",
   "execution_count": 8,
   "id": "ce55528e-4e3c-43b4-8808-876164f9b80c",
   "metadata": {},
   "outputs": [
    {
     "data": {
      "text/html": [
       "<div>\n",
       "<style scoped>\n",
       "    .dataframe tbody tr th:only-of-type {\n",
       "        vertical-align: middle;\n",
       "    }\n",
       "\n",
       "    .dataframe tbody tr th {\n",
       "        vertical-align: top;\n",
       "    }\n",
       "\n",
       "    .dataframe thead th {\n",
       "        text-align: right;\n",
       "    }\n",
       "</style>\n",
       "<table border=\"1\" class=\"dataframe\">\n",
       "  <thead>\n",
       "    <tr style=\"text-align: right;\">\n",
       "      <th></th>\n",
       "      <th>ID</th>\n",
       "      <th>overallLabel</th>\n",
       "      <th>Long</th>\n",
       "      <th>Lat</th>\n",
       "      <th>changetype</th>\n",
       "      <th>20211001</th>\n",
       "      <th>20211002</th>\n",
       "      <th>20211003</th>\n",
       "      <th>20211004</th>\n",
       "      <th>20211005</th>\n",
       "      <th>...</th>\n",
       "      <th>20220921</th>\n",
       "      <th>20220922</th>\n",
       "      <th>20220923</th>\n",
       "      <th>20220924</th>\n",
       "      <th>20220925</th>\n",
       "      <th>20220926</th>\n",
       "      <th>20220927</th>\n",
       "      <th>20220928</th>\n",
       "      <th>20220929</th>\n",
       "      <th>20220930</th>\n",
       "    </tr>\n",
       "  </thead>\n",
       "  <tbody>\n",
       "    <tr>\n",
       "      <th>0</th>\n",
       "      <td>1</td>\n",
       "      <td>VLmaj</td>\n",
       "      <td>-52.379792</td>\n",
       "      <td>-23.297147</td>\n",
       "      <td>Natural browning</td>\n",
       "      <td>noObs</td>\n",
       "      <td>noObs</td>\n",
       "      <td>noObs</td>\n",
       "      <td>noObs</td>\n",
       "      <td>noObs</td>\n",
       "      <td>...</td>\n",
       "      <td>noChange</td>\n",
       "      <td>noChange</td>\n",
       "      <td>noChange</td>\n",
       "      <td>noObs</td>\n",
       "      <td>noObs</td>\n",
       "      <td>noObs</td>\n",
       "      <td>noObs</td>\n",
       "      <td>noObs</td>\n",
       "      <td>noObs</td>\n",
       "      <td>noObs</td>\n",
       "    </tr>\n",
       "    <tr>\n",
       "      <th>1</th>\n",
       "      <td>2</td>\n",
       "      <td>noChange</td>\n",
       "      <td>129.850328</td>\n",
       "      <td>-29.577240</td>\n",
       "      <td>No Change</td>\n",
       "      <td>noObs</td>\n",
       "      <td>noObs</td>\n",
       "      <td>noObs</td>\n",
       "      <td>noChange</td>\n",
       "      <td>noChange</td>\n",
       "      <td>...</td>\n",
       "      <td>noChange</td>\n",
       "      <td>noChange</td>\n",
       "      <td>noChange</td>\n",
       "      <td>noChange</td>\n",
       "      <td>noObs</td>\n",
       "      <td>noObs</td>\n",
       "      <td>noObs</td>\n",
       "      <td>noObs</td>\n",
       "      <td>noObs</td>\n",
       "      <td>noObs</td>\n",
       "    </tr>\n",
       "    <tr>\n",
       "      <th>2</th>\n",
       "      <td>3</td>\n",
       "      <td>VLmin</td>\n",
       "      <td>-98.600559</td>\n",
       "      <td>33.771004</td>\n",
       "      <td>Natural browning</td>\n",
       "      <td>noObs</td>\n",
       "      <td>noObs</td>\n",
       "      <td>noChange</td>\n",
       "      <td>noChange</td>\n",
       "      <td>noChange</td>\n",
       "      <td>...</td>\n",
       "      <td>noChange</td>\n",
       "      <td>noChange</td>\n",
       "      <td>noChange</td>\n",
       "      <td>noChange</td>\n",
       "      <td>noObs</td>\n",
       "      <td>noObs</td>\n",
       "      <td>noObs</td>\n",
       "      <td>noObs</td>\n",
       "      <td>noObs</td>\n",
       "      <td>noObs</td>\n",
       "    </tr>\n",
       "    <tr>\n",
       "      <th>3</th>\n",
       "      <td>4</td>\n",
       "      <td>VLmaj</td>\n",
       "      <td>19.332894</td>\n",
       "      <td>4.574903</td>\n",
       "      <td>Fire</td>\n",
       "      <td>noObs</td>\n",
       "      <td>noObs</td>\n",
       "      <td>noChange</td>\n",
       "      <td>noChange</td>\n",
       "      <td>noChange</td>\n",
       "      <td>...</td>\n",
       "      <td>noChange</td>\n",
       "      <td>noChange</td>\n",
       "      <td>noChange</td>\n",
       "      <td>noChange</td>\n",
       "      <td>noChange</td>\n",
       "      <td>noChange</td>\n",
       "      <td>noChange</td>\n",
       "      <td>noObs</td>\n",
       "      <td>noObs</td>\n",
       "      <td>noObs</td>\n",
       "    </tr>\n",
       "    <tr>\n",
       "      <th>4</th>\n",
       "      <td>5</td>\n",
       "      <td>VLmaj</td>\n",
       "      <td>115.619006</td>\n",
       "      <td>63.108089</td>\n",
       "      <td>Fire</td>\n",
       "      <td>noObs</td>\n",
       "      <td>noObs</td>\n",
       "      <td>noObs</td>\n",
       "      <td>noObs</td>\n",
       "      <td>noObs</td>\n",
       "      <td>...</td>\n",
       "      <td>noChange</td>\n",
       "      <td>noChange</td>\n",
       "      <td>noChange</td>\n",
       "      <td>noChange</td>\n",
       "      <td>noObs</td>\n",
       "      <td>noObs</td>\n",
       "      <td>noObs</td>\n",
       "      <td>noObs</td>\n",
       "      <td>noObs</td>\n",
       "      <td>noObs</td>\n",
       "    </tr>\n",
       "  </tbody>\n",
       "</table>\n",
       "<p>5 rows × 370 columns</p>\n",
       "</div>"
      ],
      "text/plain": [
       "   ID overallLabel        Long        Lat        changetype 20211001 20211002  \\\n",
       "0   1        VLmaj  -52.379792 -23.297147  Natural browning    noObs    noObs   \n",
       "1   2     noChange  129.850328 -29.577240         No Change    noObs    noObs   \n",
       "2   3        VLmin  -98.600559  33.771004  Natural browning    noObs    noObs   \n",
       "3   4        VLmaj   19.332894   4.574903              Fire    noObs    noObs   \n",
       "4   5        VLmaj  115.619006  63.108089              Fire    noObs    noObs   \n",
       "\n",
       "   20211003  20211004  20211005  ...  20220921  20220922  20220923  20220924  \\\n",
       "0     noObs     noObs     noObs  ...  noChange  noChange  noChange     noObs   \n",
       "1     noObs  noChange  noChange  ...  noChange  noChange  noChange  noChange   \n",
       "2  noChange  noChange  noChange  ...  noChange  noChange  noChange  noChange   \n",
       "3  noChange  noChange  noChange  ...  noChange  noChange  noChange  noChange   \n",
       "4     noObs     noObs     noObs  ...  noChange  noChange  noChange  noChange   \n",
       "\n",
       "   20220925  20220926  20220927 20220928 20220929 20220930  \n",
       "0     noObs     noObs     noObs    noObs    noObs    noObs  \n",
       "1     noObs     noObs     noObs    noObs    noObs    noObs  \n",
       "2     noObs     noObs     noObs    noObs    noObs    noObs  \n",
       "3  noChange  noChange  noChange    noObs    noObs    noObs  \n",
       "4     noObs     noObs     noObs    noObs    noObs    noObs  \n",
       "\n",
       "[5 rows x 370 columns]"
      ]
     },
     "execution_count": 8,
     "metadata": {},
     "output_type": "execute_result"
    }
   ],
   "source": [
    "df_dist_hls_val.head()"
   ]
  },
  {
   "cell_type": "code",
   "execution_count": 9,
   "id": "2c81745d-e66c-4f6f-b6fe-2ef7e20c6599",
   "metadata": {},
   "outputs": [
    {
     "name": "stdout",
     "output_type": "stream",
     "text": [
      "[(Timestamp('2021-10-08 00:00:00'), NaT, False, 'VLmaj'), (NaT, NaT, False, 'noChange'), (Timestamp('2022-01-28 00:00:00'), Timestamp('2022-01-06 00:00:00'), True, 'VLmin'), (Timestamp('2021-11-07 00:00:00'), Timestamp('2021-11-02 00:00:00'), True, 'VLmaj'), (Timestamp('2022-05-18 00:00:00'), Timestamp('2022-05-11 00:00:00'), True, 'VLmaj'), (Timestamp('2021-10-03 00:00:00'), NaT, False, 'VLmaj'), (NaT, NaT, False, 'noChange'), (Timestamp('2021-11-12 00:00:00'), Timestamp('2021-11-03 00:00:00'), True, 'OCmin'), (NaT, NaT, False, 'noChange'), (NaT, NaT, False, 'noChange')]\n"
     ]
    }
   ],
   "source": [
    "change_times = df_dist_hls_val.apply(get_first_change_from_row, axis=1)\n",
    "last_obs_times = df_dist_hls_val.apply(get_last_obs_date_before_change, axis=1)\n",
    "change_labels = df_dist_hls_val.overallLabel[:10]\n",
    "print(list(zip(change_times,last_obs_times, change_times > last_obs_times ,change_labels)))"
   ]
  },
  {
   "cell_type": "code",
   "execution_count": 10,
   "id": "57679cfe-92da-4733-bb27-1f169b57579e",
   "metadata": {},
   "outputs": [],
   "source": [
    "df_sites = gpd.GeoDataFrame({'site_id': df_dist_hls_val.ID,\n",
    "                             'change_label': df_dist_hls_val.overallLabel,\n",
    "                             'change_time': change_times,\n",
    "                             'last_observation_time': last_obs_times},\n",
    "                             geometry=gpd.points_from_xy(df_dist_hls_val.Long,\n",
    "                                                         df_dist_hls_val.Lat),\n",
    "                            crs=CRS.from_epsg(4326))"
   ]
  },
  {
   "cell_type": "code",
   "execution_count": 11,
   "id": "713f6f97-ef0c-41d4-a05c-454d54a95d6b",
   "metadata": {},
   "outputs": [
    {
     "data": {
      "image/png": "[encoded data removed]",
      "text/plain": [
       "<Figure size 640x480 with 1 Axes>"
      ]
     },
     "metadata": {},
     "output_type": "display_data"
    }
   ],
   "source": [
    "ax = df_sites.to_crs(epsg=3857).plot()\n",
    "cx.add_basemap(ax)"
   ]
  },
  {
   "cell_type": "code",
   "execution_count": 12,
   "id": "95b63358-a641-4e50-8b34-245090485755",
   "metadata": {},
   "outputs": [],
   "source": [
    "df_sites.to_file('dist_hls_val_sites.geojson', driver='GeoJSON')"
   ]
  },
  {
   "cell_type": "code",
   "execution_count": 13,
   "id": "dcbdb655-1be6-4820-937f-c8587d7723d3",
   "metadata": {},
   "outputs": [
    {
     "data": {
      "image/svg+xml": [
       "<svg xmlns=\"http://www.w3.org/2000/svg\" xmlns:xlink=\"http://www.w3.org/1999/xlink\" width=\"100.0\" height=\"100.0\" viewBox=\"-53.3797917102057 -24.2971467994267 2.0 2.0\" preserveAspectRatio=\"xMinYMin meet\"><g transform=\"matrix(1,0,0,-1,0,-46.5942935988534)\"><circle cx=\"-52.3797917102057\" cy=\"-23.2971467994267\" r=\"0.06\" stroke=\"#555555\" stroke-width=\"0.02\" fill=\"#66cc99\" opacity=\"0.6\" /></g></svg>"
      ],
      "text/plain": [
       "<POINT (-52.38 -23.297)>"
      ]
     },
     "execution_count": 13,
     "metadata": {},
     "output_type": "execute_result"
    }
   ],
   "source": [
    "site_lut = df_sites[['site_id', 'geometry']].set_index('site_id').to_dict()\n",
    "site_lut['geometry'][1]"
   ]
  },
  {
   "cell_type": "markdown",
   "id": "13af189d-a9e5-4e53-8f63-8961a18c2752",
   "metadata": {},
   "source": [
    "# Burst Ids"
   ]
  },
  {
   "cell_type": "code",
   "execution_count": 14,
   "id": "45680ad7-6320-42e9-96be-d94613137308",
   "metadata": {},
   "outputs": [
    {
     "data": {
      "text/html": [
       "<div>\n",
       "<style scoped>\n",
       "    .dataframe tbody tr th:only-of-type {\n",
       "        vertical-align: middle;\n",
       "    }\n",
       "\n",
       "    .dataframe tbody tr th {\n",
       "        vertical-align: top;\n",
       "    }\n",
       "\n",
       "    .dataframe thead th {\n",
       "        text-align: right;\n",
       "    }\n",
       "</style>\n",
       "<table border=\"1\" class=\"dataframe\">\n",
       "  <thead>\n",
       "    <tr style=\"text-align: right;\">\n",
       "      <th></th>\n",
       "      <th>geometry</th>\n",
       "      <th>burst_id_jpl</th>\n",
       "      <th>is_land</th>\n",
       "      <th>is_north_america</th>\n",
       "      <th>orbit_pass</th>\n",
       "    </tr>\n",
       "  </thead>\n",
       "  <tbody>\n",
       "    <tr>\n",
       "      <th>0</th>\n",
       "      <td>POLYGON ((2.53190 4.75701, 3.29631 4.91201, 3....</td>\n",
       "      <td>t001_000025_iw1</td>\n",
       "      <td>1</td>\n",
       "      <td>False</td>\n",
       "      <td>ASCENDING</td>\n",
       "    </tr>\n",
       "    <tr>\n",
       "      <th>1</th>\n",
       "      <td>POLYGON ((3.25912 4.97460, 4.06055 5.13657, 4....</td>\n",
       "      <td>t001_000025_iw2</td>\n",
       "      <td>1</td>\n",
       "      <td>False</td>\n",
       "      <td>ASCENDING</td>\n",
       "    </tr>\n",
       "    <tr>\n",
       "      <th>2</th>\n",
       "      <td>POLYGON ((4.02659 5.18854, 4.73485 5.32978, 4....</td>\n",
       "      <td>t001_000025_iw3</td>\n",
       "      <td>1</td>\n",
       "      <td>False</td>\n",
       "      <td>ASCENDING</td>\n",
       "    </tr>\n",
       "    <tr>\n",
       "      <th>3</th>\n",
       "      <td>POLYGON ((2.49611 4.92361, 3.26087 5.07851, 3....</td>\n",
       "      <td>t001_000026_iw1</td>\n",
       "      <td>1</td>\n",
       "      <td>False</td>\n",
       "      <td>ASCENDING</td>\n",
       "    </tr>\n",
       "    <tr>\n",
       "      <th>4</th>\n",
       "      <td>POLYGON ((3.22392 5.14115, 4.02565 5.30297, 3....</td>\n",
       "      <td>t001_000026_iw2</td>\n",
       "      <td>1</td>\n",
       "      <td>False</td>\n",
       "      <td>ASCENDING</td>\n",
       "    </tr>\n",
       "  </tbody>\n",
       "</table>\n",
       "</div>"
      ],
      "text/plain": [
       "                                            geometry     burst_id_jpl  \\\n",
       "0  POLYGON ((2.53190 4.75701, 3.29631 4.91201, 3....  t001_000025_iw1   \n",
       "1  POLYGON ((3.25912 4.97460, 4.06055 5.13657, 4....  t001_000025_iw2   \n",
       "2  POLYGON ((4.02659 5.18854, 4.73485 5.32978, 4....  t001_000025_iw3   \n",
       "3  POLYGON ((2.49611 4.92361, 3.26087 5.07851, 3....  t001_000026_iw1   \n",
       "4  POLYGON ((3.22392 5.14115, 4.02565 5.30297, 3....  t001_000026_iw2   \n",
       "\n",
       "   is_land  is_north_america orbit_pass  \n",
       "0        1             False  ASCENDING  \n",
       "1        1             False  ASCENDING  \n",
       "2        1             False  ASCENDING  \n",
       "3        1             False  ASCENDING  \n",
       "4        1             False  ASCENDING  "
      ]
     },
     "execution_count": 14,
     "metadata": {},
     "output_type": "execute_result"
    }
   ],
   "source": [
    "df_burst = read_geojson_gzip('../1_visualize_rtc_time_series/opera_burst_ids.geojson.zip')\n",
    "df_burst.head()"
   ]
  },
  {
   "cell_type": "markdown",
   "id": "f3e7f506-2ef0-45f4-b5bb-b36a58db5453",
   "metadata": {},
   "source": [
    "# Join Burst table and the site ids\n",
    "\n",
    "Via a spatial join"
   ]
  },
  {
   "cell_type": "code",
   "execution_count": 15,
   "id": "b8f2d1f2-89cf-49a0-b1da-880b90054d2b",
   "metadata": {},
   "outputs": [
    {
     "data": {
      "text/html": [
       "<div>\n",
       "<style scoped>\n",
       "    .dataframe tbody tr th:only-of-type {\n",
       "        vertical-align: middle;\n",
       "    }\n",
       "\n",
       "    .dataframe tbody tr th {\n",
       "        vertical-align: top;\n",
       "    }\n",
       "\n",
       "    .dataframe thead th {\n",
       "        text-align: right;\n",
       "    }\n",
       "</style>\n",
       "<table border=\"1\" class=\"dataframe\">\n",
       "  <thead>\n",
       "    <tr style=\"text-align: right;\">\n",
       "      <th></th>\n",
       "      <th>geometry</th>\n",
       "      <th>jpl_burst_id</th>\n",
       "      <th>is_land</th>\n",
       "      <th>is_north_america</th>\n",
       "      <th>orbit_pass</th>\n",
       "      <th>site_id</th>\n",
       "      <th>change_label</th>\n",
       "      <th>change_time</th>\n",
       "      <th>last_observation_time</th>\n",
       "      <th>track_number</th>\n",
       "    </tr>\n",
       "  </thead>\n",
       "  <tbody>\n",
       "    <tr>\n",
       "      <th>0</th>\n",
       "      <td>POLYGON ((-52.73133 -23.43816, -51.90414 -23.2...</td>\n",
       "      <td>t090_193169_iw1</td>\n",
       "      <td>1</td>\n",
       "      <td>False</td>\n",
       "      <td>ASCENDING</td>\n",
       "      <td>1</td>\n",
       "      <td>VLmaj</td>\n",
       "      <td>2021-10-08</td>\n",
       "      <td>NaT</td>\n",
       "      <td>90</td>\n",
       "    </tr>\n",
       "    <tr>\n",
       "      <th>1</th>\n",
       "      <td>POLYGON ((-51.66339 -23.30842, -52.52125 -23.1...</td>\n",
       "      <td>t097_207419_iw2</td>\n",
       "      <td>1</td>\n",
       "      <td>False</td>\n",
       "      <td>DESCENDING</td>\n",
       "      <td>1</td>\n",
       "      <td>VLmaj</td>\n",
       "      <td>2021-10-08</td>\n",
       "      <td>NaT</td>\n",
       "      <td>97</td>\n",
       "    </tr>\n",
       "    <tr>\n",
       "      <th>2</th>\n",
       "      <td>POLYGON ((-53.01716 -23.54912, -52.25936 -23.3...</td>\n",
       "      <td>t163_349964_iw3</td>\n",
       "      <td>1</td>\n",
       "      <td>False</td>\n",
       "      <td>ASCENDING</td>\n",
       "      <td>1</td>\n",
       "      <td>VLmaj</td>\n",
       "      <td>2021-10-08</td>\n",
       "      <td>NaT</td>\n",
       "      <td>163</td>\n",
       "    </tr>\n",
       "    <tr>\n",
       "      <th>3</th>\n",
       "      <td>POLYGON ((129.82540 -29.63759, 130.62076 -29.4...</td>\n",
       "      <td>t039_083584_iw3</td>\n",
       "      <td>1</td>\n",
       "      <td>False</td>\n",
       "      <td>ASCENDING</td>\n",
       "      <td>2</td>\n",
       "      <td>noChange</td>\n",
       "      <td>NaT</td>\n",
       "      <td>NaT</td>\n",
       "      <td>39</td>\n",
       "    </tr>\n",
       "    <tr>\n",
       "      <th>4</th>\n",
       "      <td>POLYGON ((130.49640 -29.60892, 129.63063 -29.4...</td>\n",
       "      <td>t075_160202_iw1</td>\n",
       "      <td>1</td>\n",
       "      <td>False</td>\n",
       "      <td>DESCENDING</td>\n",
       "      <td>2</td>\n",
       "      <td>noChange</td>\n",
       "      <td>NaT</td>\n",
       "      <td>NaT</td>\n",
       "      <td>75</td>\n",
       "    </tr>\n",
       "  </tbody>\n",
       "</table>\n",
       "</div>"
      ],
      "text/plain": [
       "                                            geometry     jpl_burst_id  \\\n",
       "0  POLYGON ((-52.73133 -23.43816, -51.90414 -23.2...  t090_193169_iw1   \n",
       "1  POLYGON ((-51.66339 -23.30842, -52.52125 -23.1...  t097_207419_iw2   \n",
       "2  POLYGON ((-53.01716 -23.54912, -52.25936 -23.3...  t163_349964_iw3   \n",
       "3  POLYGON ((129.82540 -29.63759, 130.62076 -29.4...  t039_083584_iw3   \n",
       "4  POLYGON ((130.49640 -29.60892, 129.63063 -29.4...  t075_160202_iw1   \n",
       "\n",
       "   is_land  is_north_america  orbit_pass  site_id change_label change_time  \\\n",
       "0        1             False   ASCENDING        1        VLmaj  2021-10-08   \n",
       "1        1             False  DESCENDING        1        VLmaj  2021-10-08   \n",
       "2        1             False   ASCENDING        1        VLmaj  2021-10-08   \n",
       "3        1             False   ASCENDING        2     noChange         NaT   \n",
       "4        1             False  DESCENDING        2     noChange         NaT   \n",
       "\n",
       "  last_observation_time  track_number  \n",
       "0                   NaT            90  \n",
       "1                   NaT            97  \n",
       "2                   NaT           163  \n",
       "3                   NaT            39  \n",
       "4                   NaT            75  "
      ]
     },
     "execution_count": 15,
     "metadata": {},
     "output_type": "execute_result"
    }
   ],
   "source": [
    "df_val_bursts = gpd.sjoin(df_burst, df_sites, how='inner', predicate='intersects').reset_index(drop=True)\n",
    "df_val_bursts = df_val_bursts.drop_duplicates()\n",
    "df_val_bursts = df_val_bursts.drop(columns=['index_right'])\n",
    "df_val_bursts['track_number'] = df_val_bursts.burst_id_jpl.map(lambda burst_id_jpl: int(burst_id_jpl.split('_')[0][1:]))\n",
    "df_val_bursts = df_val_bursts.sort_values(by=['site_id', 'burst_id_jpl']).reset_index(drop=True)\n",
    "df_val_bursts.rename(columns={'burst_id_jpl': 'jpl_burst_id'}, inplace=True)\n",
    "df_val_bursts.head()"
   ]
  },
  {
   "cell_type": "code",
   "execution_count": 16,
   "id": "c47195c4-53b2-49de-8536-99636bf1ea98",
   "metadata": {},
   "outputs": [
    {
     "data": {
      "text/plain": [
       "(1117, 10)"
      ]
     },
     "execution_count": 16,
     "metadata": {},
     "output_type": "execute_result"
    }
   ],
   "source": [
    "df_val_bursts.shape"
   ]
  },
  {
   "cell_type": "code",
   "execution_count": 17,
   "id": "df507fd3-1798-4fd0-8f2a-42cb03a06fc0",
   "metadata": {},
   "outputs": [
    {
     "data": {
      "text/plain": [
       "<Axes: >"
      ]
     },
     "execution_count": 17,
     "metadata": {},
     "output_type": "execute_result"
    },
    {
     "data": {
      "image/png": "[encoded data removed]",
      "text/plain": [
       "<Figure size 640x480 with 1 Axes>"
      ]
     },
     "metadata": {},
     "output_type": "display_data"
    }
   ],
   "source": [
    "df_val_bursts.plot()"
   ]
  },
  {
   "cell_type": "markdown",
   "id": "4cc1b27d-6b3b-4044-b6cb-0e46a5c15ba9",
   "metadata": {},
   "source": [
    "Serializing all the bursts."
   ]
  },
  {
   "cell_type": "code",
   "execution_count": 18,
   "id": "ba2b01d5-87ea-4872-a849-9821473ca925",
   "metadata": {},
   "outputs": [],
   "source": [
    "df_val_bursts.to_file('dist_val_bursts.geojson', driver='GeoJSON')"
   ]
  },
  {
   "cell_type": "markdown",
   "id": "cf714d52-ab50-4c17-adcc-6a18a4453c7d",
   "metadata": {},
   "source": [
    "# Multiple bursts overlapping\n",
    "\n",
    "This is particlarly present at high latitudes. We see multiple tracks overlap. We see that there are 11 distinct bursts overlapping site 80!"
   ]
  },
  {
   "cell_type": "code",
   "execution_count": 19,
   "id": "1d71bca0-a14e-4599-b983-7d0d78454e61",
   "metadata": {},
   "outputs": [
    {
     "data": {
      "text/html": [
       "<div>\n",
       "<style scoped>\n",
       "    .dataframe tbody tr th:only-of-type {\n",
       "        vertical-align: middle;\n",
       "    }\n",
       "\n",
       "    .dataframe tbody tr th {\n",
       "        vertical-align: top;\n",
       "    }\n",
       "\n",
       "    .dataframe thead th {\n",
       "        text-align: right;\n",
       "    }\n",
       "</style>\n",
       "<table border=\"1\" class=\"dataframe\">\n",
       "  <thead>\n",
       "    <tr style=\"text-align: right;\">\n",
       "      <th></th>\n",
       "      <th>site_id</th>\n",
       "      <th>orbit_pass</th>\n",
       "    </tr>\n",
       "  </thead>\n",
       "  <tbody>\n",
       "    <tr>\n",
       "      <th>0</th>\n",
       "      <td>80</td>\n",
       "      <td>11</td>\n",
       "    </tr>\n",
       "    <tr>\n",
       "      <th>1</th>\n",
       "      <td>36</td>\n",
       "      <td>10</td>\n",
       "    </tr>\n",
       "    <tr>\n",
       "      <th>2</th>\n",
       "      <td>45</td>\n",
       "      <td>9</td>\n",
       "    </tr>\n",
       "    <tr>\n",
       "      <th>3</th>\n",
       "      <td>85</td>\n",
       "      <td>9</td>\n",
       "    </tr>\n",
       "    <tr>\n",
       "      <th>4</th>\n",
       "      <td>49</td>\n",
       "      <td>9</td>\n",
       "    </tr>\n",
       "    <tr>\n",
       "      <th>5</th>\n",
       "      <td>157</td>\n",
       "      <td>9</td>\n",
       "    </tr>\n",
       "    <tr>\n",
       "      <th>6</th>\n",
       "      <td>81</td>\n",
       "      <td>8</td>\n",
       "    </tr>\n",
       "    <tr>\n",
       "      <th>7</th>\n",
       "      <td>71</td>\n",
       "      <td>8</td>\n",
       "    </tr>\n",
       "    <tr>\n",
       "      <th>8</th>\n",
       "      <td>39</td>\n",
       "      <td>8</td>\n",
       "    </tr>\n",
       "    <tr>\n",
       "      <th>9</th>\n",
       "      <td>218</td>\n",
       "      <td>8</td>\n",
       "    </tr>\n",
       "  </tbody>\n",
       "</table>\n",
       "</div>"
      ],
      "text/plain": [
       "   site_id  orbit_pass\n",
       "0       80          11\n",
       "1       36          10\n",
       "2       45           9\n",
       "3       85           9\n",
       "4       49           9\n",
       "5      157           9\n",
       "6       81           8\n",
       "7       71           8\n",
       "8       39           8\n",
       "9      218           8"
      ]
     },
     "execution_count": 19,
     "metadata": {},
     "output_type": "execute_result"
    }
   ],
   "source": [
    "df_burst_count = df_val_bursts[['site_id', 'orbit_pass']].groupby('site_id').count().sort_values(by='orbit_pass', ascending=False).reset_index(drop=False)\n",
    "df_burst_count.head(10)"
   ]
  },
  {
   "cell_type": "code",
   "execution_count": 20,
   "id": "c8a78714-e7d0-414e-891e-4330896428de",
   "metadata": {},
   "outputs": [
    {
     "data": {
      "text/plain": [
       "<Axes: >"
      ]
     },
     "execution_count": 20,
     "metadata": {},
     "output_type": "execute_result"
    },
    {
     "data": {
      "image/png": "[encoded data removed]",
      "text/plain": [
       "<Figure size 640x480 with 1 Axes>"
      ]
     },
     "metadata": {},
     "output_type": "display_data"
    }
   ],
   "source": [
    "fig, ax = plt.subplots()\n",
    "df_site = df_sites[df_sites.site_id == 80].plot(ax=ax, color='black')\n",
    "df_val_bursts[df_val_bursts.site_id == 80].exterior.plot(ax=ax, alpha=.5)"
   ]
  },
  {
   "cell_type": "markdown",
   "id": "8a73ffd0-019c-4935-b1b7-092efb877d3c",
   "metadata": {},
   "source": [
    "We can better select a suitable burst by calculating the distance from the burst centroid to the Site. This helps find bursts that will likely give us as much context about the site as possible."
   ]
  },
  {
   "cell_type": "code",
   "execution_count": 21,
   "id": "67e14943-8d46-40bc-8fdb-c9759014bace",
   "metadata": {},
   "outputs": [],
   "source": [
    "def distance_to_site_burst(row):\n",
    "    poly_cent = row['geometry'].centroid\n",
    "    site_id = row['site_id']\n",
    "    site_geo = site_lut['geometry'][site_id]\n",
    "\n",
    "    dist = site_geo.distance(poly_cent)\n",
    "    return dist"
   ]
  },
  {
   "cell_type": "markdown",
   "id": "bc6e1169-7070-4492-831c-19c53473c250",
   "metadata": {},
   "source": [
    "The sorting of the data"
   ]
  },
  {
   "cell_type": "code",
   "execution_count": 22,
   "id": "963f6624-9e90-479f-9740-33feb3d79bd9",
   "metadata": {},
   "outputs": [],
   "source": [
    "df_val_bursts['dist_from_site_to_burst_centroid'] = df_val_bursts.apply(distance_to_site_burst, axis=1)\n",
    "df_val_bursts.sort_values(by=['site_id', 'orbit_pass','dist_from_site_to_burst_centroid'], inplace=True)"
   ]
  },
  {
   "cell_type": "markdown",
   "id": "bd3b0d9e-6d45-47f3-bc96-2e76faa811cb",
   "metadata": {},
   "source": [
    "## Get only 1 bursts from ASC/DSC\n",
    "\n",
    "Since the data is now ordered by its proximity to the site, we can select the topmost entry in each group of `site_id` and `orbit_pass` (i.e. ascending/descending)."
   ]
  },
  {
   "cell_type": "code",
   "execution_count": 23,
   "id": "645fae47-6bbb-4b87-b550-6399058a4802",
   "metadata": {},
   "outputs": [
    {
     "data": {
      "text/plain": [
       "((600, 11), (1117, 11))"
      ]
     },
     "execution_count": 23,
     "metadata": {},
     "output_type": "execute_result"
    }
   ],
   "source": [
    "df_val_bursts_filtered = df_val_bursts.groupby(['site_id', 'orbit_pass']).head(1).reset_index(drop=True)\n",
    "df_val_bursts_filtered.shape, df_val_bursts.shape"
   ]
  },
  {
   "cell_type": "code",
   "execution_count": 24,
   "id": "b0061f17-394b-4a27-98b0-a3e01653277a",
   "metadata": {},
   "outputs": [
    {
     "data": {
      "text/plain": [
       "<Axes: >"
      ]
     },
     "execution_count": 24,
     "metadata": {},
     "output_type": "execute_result"
    },
    {
     "data": {
      "image/png": "[encoded data removed]",
      "text/plain": [
       "<Figure size 640x480 with 1 Axes>"
      ]
     },
     "metadata": {},
     "output_type": "display_data"
    }
   ],
   "source": [
    "fig, ax = plt.subplots()\n",
    "df_site = df_sites[df_sites.site_id == 80].plot(ax=ax, color='black')\n",
    "df_val_bursts_filtered[df_val_bursts_filtered.site_id == 80].exterior.plot(ax=ax, alpha=.5)"
   ]
  },
  {
   "cell_type": "markdown",
   "id": "cca94570-0c5d-4fe0-9b40-3c3fb16cd857",
   "metadata": {},
   "source": [
    "# Getting SLC IDs\n",
    "\n",
    "Now that we have the burst for each ascending/descending pass we will use, we query the ASF DAAC for the SLC metadata we need."
   ]
  },
  {
   "cell_type": "code",
   "execution_count": 25,
   "id": "2552f806-b432-45f2-87a4-c81b90b2eb18",
   "metadata": {},
   "outputs": [],
   "source": [
    "@backoff.on_exception(backoff.expo,\n",
    "                      (requests.exceptions.ReadTimeout,\n",
    "                       requests.exceptions.ConnectionError,\n",
    "                      RuntimeError))\n",
    "def get_asf_results(*,geo: Point,\n",
    "                    site_id: int,\n",
    "                    track_number: int,\n",
    "                    jpl_burst_id: str,\n",
    "                    **kwargs):\n",
    "    \n",
    "    res = asf.geo_search(platform=[asf.PLATFORM.SENTINEL1],\n",
    "                         intersectsWith=geo.wkt,\n",
    "                         #maxResults=5_000,\n",
    "                         polarization=['VV+VH'], # could add just 'VV'\n",
    "                         beamMode=[asf.BEAMMODE.IW],\n",
    "                         relativeOrbit=[track_number],\n",
    "                         processingLevel=[asf.PRODUCT_TYPE.SLC],\n",
    "                         start=START_DATE,\n",
    "                         end=END_DATE\n",
    "                         )\n",
    "    df_res = pd.DataFrame()\n",
    "    if res:\n",
    "        geometry = [shape(r.geojson()['geometry']) for r in res]\n",
    "        data = [r.properties for r in res]\n",
    "\n",
    "        df_res = pd.DataFrame(data)\n",
    "        df_res = gpd.GeoDataFrame(df_res,\n",
    "                                  geometry=geometry,\n",
    "                                  crs=CRS.from_epsg(4326))\n",
    "        df_res['site_id'] = site_id\n",
    "        df_res['jpl_burst_id'] = jpl_burst_id\n",
    "\n",
    "    return df_res\n",
    "\n",
    "def get_asf_results_from_record(record) -> gpd.GeoDataFrame:\n",
    "    df = get_asf_results(geo=record['geometry'], site_id=record['site_id'], track_number=record['track_number'], jpl_burst_id=record['jpl_burst_id'])\n",
    "    return df"
   ]
  },
  {
   "cell_type": "markdown",
   "id": "95632e0a-e440-455d-b2d4-79cce6678680",
   "metadata": {},
   "source": [
    "We want the site point for the query as it's more exact."
   ]
  },
  {
   "cell_type": "code",
   "execution_count": 26,
   "id": "43e0fa59-4e13-4cdb-903d-11174ce3a279",
   "metadata": {},
   "outputs": [
    {
     "data": {
      "text/plain": [
       "(600, 11)"
      ]
     },
     "execution_count": 26,
     "metadata": {},
     "output_type": "execute_result"
    }
   ],
   "source": [
    "df_query = df_val_bursts_filtered.copy()\n",
    "df_query = df_query.drop(columns=['geometry'])\n",
    "df_query = pd.merge(df_query, df_sites[['site_id', 'geometry']], how='left', on='site_id')\n",
    "df_query.shape"
   ]
  },
  {
   "cell_type": "code",
   "execution_count": 27,
   "id": "2a0cc413-3258-4df0-af2b-685e8a654e56",
   "metadata": {},
   "outputs": [
    {
     "data": {
      "text/plain": [
       "[{'jpl_burst_id': 't090_193169_iw1',\n",
       "  'is_land': 1,\n",
       "  'is_north_america': False,\n",
       "  'orbit_pass': 'ASCENDING',\n",
       "  'site_id': 1,\n",
       "  'change_label': 'VLmaj',\n",
       "  'change_time': Timestamp('2021-10-08 00:00:00'),\n",
       "  'last_observation_time': NaT,\n",
       "  'track_number': 90,\n",
       "  'dist_from_site_to_burst_centroid': 0.06483761782334214,\n",
       "  'geometry': <POINT (-52.38 -23.297)>},\n",
       " {'jpl_burst_id': 't097_207419_iw2',\n",
       "  'is_land': 1,\n",
       "  'is_north_america': False,\n",
       "  'orbit_pass': 'DESCENDING',\n",
       "  'site_id': 1,\n",
       "  'change_label': 'VLmaj',\n",
       "  'change_time': Timestamp('2021-10-08 00:00:00'),\n",
       "  'last_observation_time': NaT,\n",
       "  'track_number': 97,\n",
       "  'dist_from_site_to_burst_centroid': 0.258935889989853,\n",
       "  'geometry': <POINT (-52.38 -23.297)>}]"
      ]
     },
     "execution_count": 27,
     "metadata": {},
     "output_type": "execute_result"
    }
   ],
   "source": [
    "records = df_query.to_dict('records')\n",
    "records[:2]"
   ]
  },
  {
   "cell_type": "code",
   "execution_count": 28,
   "id": "6e963622-ffc2-4457-b51c-1939a521683b",
   "metadata": {},
   "outputs": [
    {
     "data": {
      "text/html": [
       "<div>\n",
       "<style scoped>\n",
       "    .dataframe tbody tr th:only-of-type {\n",
       "        vertical-align: middle;\n",
       "    }\n",
       "\n",
       "    .dataframe tbody tr th {\n",
       "        vertical-align: top;\n",
       "    }\n",
       "\n",
       "    .dataframe thead th {\n",
       "        text-align: right;\n",
       "    }\n",
       "</style>\n",
       "<table border=\"1\" class=\"dataframe\">\n",
       "  <thead>\n",
       "    <tr style=\"text-align: right;\">\n",
       "      <th></th>\n",
       "      <th>centerLat</th>\n",
       "      <th>centerLon</th>\n",
       "      <th>stopTime</th>\n",
       "      <th>fileID</th>\n",
       "      <th>flightDirection</th>\n",
       "      <th>pathNumber</th>\n",
       "      <th>processingLevel</th>\n",
       "      <th>url</th>\n",
       "      <th>startTime</th>\n",
       "      <th>sceneName</th>\n",
       "      <th>...</th>\n",
       "      <th>processingDate</th>\n",
       "      <th>sensor</th>\n",
       "      <th>groupID</th>\n",
       "      <th>pgeVersion</th>\n",
       "      <th>fileName</th>\n",
       "      <th>beamModeType</th>\n",
       "      <th>s3Urls</th>\n",
       "      <th>geometry</th>\n",
       "      <th>site_id</th>\n",
       "      <th>jpl_burst_id</th>\n",
       "    </tr>\n",
       "  </thead>\n",
       "  <tbody>\n",
       "    <tr>\n",
       "      <th>0</th>\n",
       "      <td>34.3598</td>\n",
       "      <td>-99.0311</td>\n",
       "      <td>2021-12-23T00:36:53Z</td>\n",
       "      <td>S1A_IW_SLC__1SDV_20211223T003625_20211223T0036...</td>\n",
       "      <td>ASCENDING</td>\n",
       "      <td>107</td>\n",
       "      <td>SLC</td>\n",
       "      <td>https://datapool.asf.alaska.edu/SLC/SA/S1A_IW_...</td>\n",
       "      <td>2021-12-23T00:36:25Z</td>\n",
       "      <td>S1A_IW_SLC__1SDV_20211223T003625_20211223T0036...</td>\n",
       "      <td>...</td>\n",
       "      <td>2021-12-23T00:36:25Z</td>\n",
       "      <td>C-SAR</td>\n",
       "      <td>S1A_IWDV_0107_0114_041129_107</td>\n",
       "      <td>003.40</td>\n",
       "      <td>S1A_IW_SLC__1SDV_20211223T003625_20211223T0036...</td>\n",
       "      <td>IW</td>\n",
       "      <td>[s3://asf-ngap2w-p-s1-slc-7b420b89/S1A_IW_SLC_...</td>\n",
       "      <td>POLYGON ((-100.59006 34.99121, -100.19687 33.3...</td>\n",
       "      <td>3</td>\n",
       "      <td>t107_227877_iw2</td>\n",
       "    </tr>\n",
       "    <tr>\n",
       "      <th>1</th>\n",
       "      <td>34.3599</td>\n",
       "      <td>-99.0325</td>\n",
       "      <td>2021-12-11T00:36:54Z</td>\n",
       "      <td>S1A_IW_SLC__1SDV_20211211T003626_20211211T0036...</td>\n",
       "      <td>ASCENDING</td>\n",
       "      <td>107</td>\n",
       "      <td>SLC</td>\n",
       "      <td>https://datapool.asf.alaska.edu/SLC/SA/S1A_IW_...</td>\n",
       "      <td>2021-12-11T00:36:26Z</td>\n",
       "      <td>S1A_IW_SLC__1SDV_20211211T003626_20211211T0036...</td>\n",
       "      <td>...</td>\n",
       "      <td>2021-12-11T00:36:26Z</td>\n",
       "      <td>C-SAR</td>\n",
       "      <td>S1A_IWDV_0107_0114_040954_107</td>\n",
       "      <td>003.40</td>\n",
       "      <td>S1A_IW_SLC__1SDV_20211211T003626_20211211T0036...</td>\n",
       "      <td>IW</td>\n",
       "      <td>[s3://asf-ngap2w-p-s1-slc-7b420b89/S1A_IW_SLC_...</td>\n",
       "      <td>POLYGON ((-100.59154 34.99142, -100.19825 33.3...</td>\n",
       "      <td>3</td>\n",
       "      <td>t107_227877_iw2</td>\n",
       "    </tr>\n",
       "  </tbody>\n",
       "</table>\n",
       "<p>2 rows × 28 columns</p>\n",
       "</div>"
      ],
      "text/plain": [
       "   centerLat  centerLon              stopTime  \\\n",
       "0    34.3598   -99.0311  2021-12-23T00:36:53Z   \n",
       "1    34.3599   -99.0325  2021-12-11T00:36:54Z   \n",
       "\n",
       "                                              fileID flightDirection  \\\n",
       "0  S1A_IW_SLC__1SDV_20211223T003625_20211223T0036...       ASCENDING   \n",
       "1  S1A_IW_SLC__1SDV_20211211T003626_20211211T0036...       ASCENDING   \n",
       "\n",
       "   pathNumber processingLevel  \\\n",
       "0         107             SLC   \n",
       "1         107             SLC   \n",
       "\n",
       "                                                 url             startTime  \\\n",
       "0  https://datapool.asf.alaska.edu/SLC/SA/S1A_IW_...  2021-12-23T00:36:25Z   \n",
       "1  https://datapool.asf.alaska.edu/SLC/SA/S1A_IW_...  2021-12-11T00:36:26Z   \n",
       "\n",
       "                                           sceneName  ...  \\\n",
       "0  S1A_IW_SLC__1SDV_20211223T003625_20211223T0036...  ...   \n",
       "1  S1A_IW_SLC__1SDV_20211211T003626_20211211T0036...  ...   \n",
       "\n",
       "         processingDate sensor                        groupID pgeVersion  \\\n",
       "0  2021-12-23T00:36:25Z  C-SAR  S1A_IWDV_0107_0114_041129_107     003.40   \n",
       "1  2021-12-11T00:36:26Z  C-SAR  S1A_IWDV_0107_0114_040954_107     003.40   \n",
       "\n",
       "                                            fileName beamModeType  \\\n",
       "0  S1A_IW_SLC__1SDV_20211223T003625_20211223T0036...           IW   \n",
       "1  S1A_IW_SLC__1SDV_20211211T003626_20211211T0036...           IW   \n",
       "\n",
       "                                              s3Urls  \\\n",
       "0  [s3://asf-ngap2w-p-s1-slc-7b420b89/S1A_IW_SLC_...   \n",
       "1  [s3://asf-ngap2w-p-s1-slc-7b420b89/S1A_IW_SLC_...   \n",
       "\n",
       "                                            geometry site_id     jpl_burst_id  \n",
       "0  POLYGON ((-100.59006 34.99121, -100.19687 33.3...       3  t107_227877_iw2  \n",
       "1  POLYGON ((-100.59154 34.99142, -100.19825 33.3...       3  t107_227877_iw2  \n",
       "\n",
       "[2 rows x 28 columns]"
      ]
     },
     "execution_count": 28,
     "metadata": {},
     "output_type": "execute_result"
    }
   ],
   "source": [
    "get_asf_results_from_record(records[4]).head(2)"
   ]
  },
  {
   "cell_type": "code",
   "execution_count": 29,
   "id": "7b8cea07-d345-4857-afb4-568f9311e380",
   "metadata": {},
   "outputs": [],
   "source": [
    "#dfs = list(map(get_asf_results_from_record, tqdm(records)))"
   ]
  },
  {
   "cell_type": "code",
   "execution_count": null,
   "id": "b70c8dbf-e3e4-4772-962a-82a61247b2ae",
   "metadata": {},
   "outputs": [
    {
     "name": "stderr",
     "output_type": "stream",
     "text": [
      "  6%|███▊                                                               | 34/600 [02:01<24:35,  2.61s/it]"
     ]
    }
   ],
   "source": [
    "with concurrent.futures.ThreadPoolExecutor(max_workers=5) as executor:\n",
    "    dfs = list(tqdm(executor.map(get_asf_results_from_record, records[:]), total=len(records)))"
   ]
  },
  {
   "cell_type": "code",
   "execution_count": null,
   "id": "c7b7ec20-78a1-4e23-bc52-9e7a03bbb29d",
   "metadata": {},
   "outputs": [],
   "source": [
    "df_slcs = pd.concat(dfs, axis=0)\n",
    "df_slcs.head()"
   ]
  },
  {
   "cell_type": "markdown",
   "id": "1b961c3d-eabc-4a2e-9f63-af129b57fd9b",
   "metadata": {},
   "source": [
    "Serialize the asf data and remove the `s3Urls` because they require "
   ]
  },
  {
   "cell_type": "code",
   "execution_count": null,
   "id": "8baed2ad-c5f1-4218-8f82-a0cb08a6dcfa",
   "metadata": {},
   "outputs": [],
   "source": [
    "df_slcs[[c for c in df_slcs.columns if c not in ['s3Urls']]].to_file('slcs_resp.geojson', driver='GeoJSON',)"
   ]
  },
  {
   "cell_type": "markdown",
   "id": "60ae5bf1-36c8-4a0f-80ef-0b37a121ed0f",
   "metadata": {},
   "source": [
    "# Filtering the SLC data\n",
    "\n",
    "First we read the data we have serialized (so we don't have to unnecessarily query ASF)."
   ]
  },
  {
   "cell_type": "code",
   "execution_count": null,
   "id": "13c5dbac-20f9-4d27-a821-3670c9147acb",
   "metadata": {},
   "outputs": [],
   "source": [
    "df_slcs = gpd.read_file('slcs_resp.geojson')"
   ]
  },
  {
   "cell_type": "markdown",
   "id": "afe103dc-13f5-4e50-bf7f-b113fbd564b9",
   "metadata": {},
   "source": [
    "Let's first observe there are multiple SLCs for a given pass."
   ]
  },
  {
   "cell_type": "code",
   "execution_count": null,
   "id": "d4dc3694-9c4a-4cfb-b672-e6f48f0e8266",
   "metadata": {},
   "outputs": [],
   "source": [
    "df_slcs['date_acquired_str'] = pd.to_datetime(df_slcs['startTime']).dt.date.map(str)\n",
    "df_slcs.sort_values(by=['site_id', 'jpl_burst_id', 'date_acquired_str'], inplace=True)"
   ]
  },
  {
   "cell_type": "markdown",
   "id": "85362bfd-9e6c-446d-a2a0-58b6d2309fe9",
   "metadata": {},
   "source": [
    "We really only want one SLC for a given burst and date/pass."
   ]
  },
  {
   "cell_type": "code",
   "execution_count": null,
   "id": "c017f103-ea79-4c04-87c0-7d7e9790a342",
   "metadata": {},
   "outputs": [],
   "source": [
    "df_slcs['date_acquired_str'] = pd.to_datetime(df_slcs['startTime']).dt.date.map(str)\n",
    "df_slc_per_date_count = df_slcs[['jpl_burst_id', 'date_acquired_str', 'site_id', 'fileID']].groupby(['jpl_burst_id', 'date_acquired_str', 'site_id']).count().sort_values(by='fileID', ascending=False).reset_index(drop=False)\n",
    "df_slc_per_date_count.iloc[:2]"
   ]
  },
  {
   "cell_type": "code",
   "execution_count": null,
   "id": "c5d202e6-82c3-4b29-83d8-377bc2d4d820",
   "metadata": {},
   "outputs": [],
   "source": [
    "# df_slcs[df_slcs.jpl_burst_id == 't021_043849_iw2'].head()"
   ]
  },
  {
   "cell_type": "markdown",
   "id": "91bace41-1ffa-4f84-a84b-89da639f1e66",
   "metadata": {},
   "source": [
    "There are some sites that actually share bursts/SLCs. An example of two sites with shared burst and 2 SLCs."
   ]
  },
  {
   "cell_type": "code",
   "execution_count": null,
   "id": "f82813f6-2a4e-417d-b5ed-962989da3f3e",
   "metadata": {},
   "outputs": [],
   "source": [
    "df_slcs[(df_slcs.jpl_burst_id == 't042_088909_iw2') & (df_slcs.date_acquired_str == '2021-08-14')][['site_id', 'jpl_burst_id', 'fileID']]"
   ]
  },
  {
   "cell_type": "code",
   "execution_count": null,
   "id": "15b10d31-1424-4234-873f-025677afc88d",
   "metadata": {},
   "outputs": [],
   "source": [
    "fig, ax = plt.subplots()\n",
    "\n",
    "df_sites[df_sites.site_id.isin([166, 117])].plot(ax=ax)\n",
    "df_slcs[(df_slcs.jpl_burst_id == 't042_088909_iw2') & (df_slcs.date_acquired_str == '2021-08-14')].exterior.plot(ax=ax)"
   ]
  },
  {
   "cell_type": "markdown",
   "id": "cd581bcf-1468-41f5-8737-3f3b56638500",
   "metadata": {},
   "source": [
    "### Filtering the SLCs by proximity to Site\n",
    "\n",
    "Again, we can order the SLCs within flight direction (ascending/descending) and site according to the SLCs proximity to the site."
   ]
  },
  {
   "cell_type": "code",
   "execution_count": null,
   "id": "215f20c5-659a-4451-bad2-eee21c3d17f9",
   "metadata": {},
   "outputs": [],
   "source": [
    "def distance_to_site_slc(row):\n",
    "    poly_cent = row['geometry'].centroid\n",
    "    site_id = row['site_id']\n",
    "    site_geo = site_lut['geometry'][site_id]\n",
    "\n",
    "    dist = site_geo.distance(poly_cent)\n",
    "    return dist"
   ]
  },
  {
   "cell_type": "code",
   "execution_count": null,
   "id": "b6ab8c9c-aa2f-4a94-9d6a-b27c13ef9767",
   "metadata": {},
   "outputs": [],
   "source": [
    "df_slcs['dist_from_site_to_slc_centroid'] = df_slcs.apply(distance_to_site_slc, axis=1)\n",
    "df_slcs[(df_slcs.jpl_burst_id == 't042_088909_iw2') & (df_slcs.date_acquired_str == '2021-08-14')]"
   ]
  },
  {
   "cell_type": "code",
   "execution_count": null,
   "id": "198fd4ac-5dc3-4306-9e5c-ffc9899fa5cd",
   "metadata": {},
   "outputs": [],
   "source": [
    "df_slcs.sort_values(by=['site_id', 'jpl_burst_id', 'date_acquired_str', 'dist_from_site_to_slc_centroid'], inplace=True)\n",
    "df_slcs_filtered = df_slcs.groupby(['jpl_burst_id', 'date_acquired_str']).head(1)\n",
    "df_slcs_filtered.shape"
   ]
  },
  {
   "cell_type": "code",
   "execution_count": null,
   "id": "68f30f1b-4702-481f-8fad-15440695dec1",
   "metadata": {},
   "outputs": [],
   "source": [
    "print('Total unique SLCs needed: ', len(df_slcs_filtered.fileID.unique()))"
   ]
  },
  {
   "cell_type": "code",
   "execution_count": null,
   "id": "28913750-64f5-465e-94b5-d2f249e5615a",
   "metadata": {},
   "outputs": [],
   "source": [
    "df_slcs_filtered.to_dict('records')[0]"
   ]
  },
  {
   "cell_type": "code",
   "execution_count": null,
   "id": "598c90ab-4411-4766-a593-0e78df8e85ab",
   "metadata": {},
   "outputs": [],
   "source": [
    "df_slc_per_site_and_fa = df_slcs_filtered[['site_id', 'flightDirection', 'fileID']].groupby(['site_id', 'flightDirection']).count().sort_values(by='fileID', ascending=False).reset_index(drop=False)\n",
    "df_slc_per_site_and_fa.head(5)"
   ]
  },
  {
   "cell_type": "code",
   "execution_count": null,
   "id": "c08ac081-3ae1-46f6-8468-58debbf1f8e8",
   "metadata": {},
   "outputs": [],
   "source": [
    "df_slc_per_site_and_fa.iloc[-4:]"
   ]
  },
  {
   "cell_type": "code",
   "execution_count": null,
   "id": "9042fa81-c86b-41de-bd5f-c105c73558c5",
   "metadata": {},
   "outputs": [],
   "source": [
    "df_slcs_per_burst_and_site = df_slcs_filtered[['site_id', 'flightDirection', 'fileID', 'jpl_burst_id']].groupby(['site_id', 'jpl_burst_id', 'flightDirection']).size().reset_index(name='slc_count')\n",
    "df_slcs_per_burst_and_site = df_slcs_per_burst_and_site.sort_values(by='slc_count', ascending=False).reset_index(drop=True)\n",
    "df_slcs_per_burst_and_site.iloc[:4]"
   ]
  },
  {
   "cell_type": "code",
   "execution_count": null,
   "id": "83ce9df5-cc55-4411-9a1a-7e0825e13632",
   "metadata": {},
   "outputs": [],
   "source": [
    "df_slcs_filtered[df_slcs_filtered.site_id == 72].head()"
   ]
  },
  {
   "cell_type": "code",
   "execution_count": null,
   "id": "051d1c03-c187-481b-80f7-f96cf95fd1e3",
   "metadata": {},
   "outputs": [],
   "source": [
    "df_slcs_per_burst_and_site.iloc[-4:]"
   ]
  },
  {
   "cell_type": "markdown",
   "id": "4057fd3e-ffcd-45b3-a3f6-fb4ef94b54ea",
   "metadata": {},
   "source": [
    "Simply due to S1A/S1B availability, we see that certain bursts have less than the expected number of samples. Filtering by frequency ensure we will have a dense time series."
   ]
  },
  {
   "cell_type": "code",
   "execution_count": null,
   "id": "a56d7a5d-240c-47fa-b55d-d6b6d587dfd8",
   "metadata": {},
   "outputs": [],
   "source": [
    "df_val_bursts_with_count = pd.merge(df_val_bursts_filtered, \n",
    "                                  df_slcs_per_burst_and_site[['site_id', 'jpl_burst_id', 'slc_count']], \n",
    "                                  on=['site_id','jpl_burst_id'], \n",
    "                                  how='left')\n",
    "# Some bursts have no counts and are therefore NA\n",
    "df_val_bursts_with_count.dropna(axis=0, subset=['slc_count'], inplace=True)\n",
    "df_val_bursts_with_count.head()"
   ]
  },
  {
   "cell_type": "code",
   "execution_count": null,
   "id": "22a3ba53-9df3-40ef-9f5d-df205632b93f",
   "metadata": {},
   "outputs": [],
   "source": [
    "sufficient_sampling_ind = df_val_bursts_with_count.slc_count >= MINIMUM_SAMPLES_PER_SITE_AND_BURST\n",
    "bursts_with_enough_samples = df_val_bursts_with_count[sufficient_sampling_ind].jpl_burst_id.unique()\n",
    "print('Total bursts with enough samples: ', len(bursts_with_too_few_samples))\n",
    "print('Total bursts available: ', len(df_val_bursts_with_count.jpl_burst_id.unique()))"
   ]
  },
  {
   "cell_type": "code",
   "execution_count": null,
   "id": "028ef570-8af8-47f7-9068-f1164557eb02",
   "metadata": {},
   "outputs": [],
   "source": [
    "df_val_bursts_with_count[sufficient_sampling_ind][['site_id', 'jpl_burst_id', 'slc_count']].head()"
   ]
  },
  {
   "cell_type": "code",
   "execution_count": null,
   "id": "2fbf2bbe-6318-4edf-9907-ae93b2e68e4e",
   "metadata": {},
   "outputs": [],
   "source": [
    "sites_with_enough_samples = df_val_bursts_with_count[sufficient_sampling_ind].site_id.unique().tolist()\n",
    "print('Total sites with enough samples: ', len(sites_with_enough_samples))\n",
    "print('Total sites available: ', len(df_val_bursts_with_count.site_id.unique()))"
   ]
  },
  {
   "cell_type": "code",
   "execution_count": null,
   "id": "0b50d2ce-b2d1-463e-996d-0753ac0178e2",
   "metadata": {},
   "outputs": [],
   "source": [
    "df_val_bursts_tropical = df_val_bursts_with_count.cx[:, -TROPICAL_BUFFER_DEG: TROPICAL_BUFFER_DEG].reset_index(drop=True)\n",
    "df_val_bursts_tropical_top = df_val_bursts_tropical.sort_values(by=['slc_count'], ascending=False).head(N_TROPICAL_SITES)\n",
    "print(df_val_bursts_tropical_top.slc_count.sum())\n",
    "df_val_bursts_tropical_top.head()"
   ]
  },
  {
   "cell_type": "code",
   "execution_count": null,
   "id": "14c7c942-5474-4ca1-aa55-1fedbf9c1e33",
   "metadata": {},
   "outputs": [],
   "source": [
    "top_tropical_bursts = df_val_bursts_tropical_top.jpl_burst_id.unique()\n",
    "print('SLCs used for tropical coverage: ', len(df_slcs_filtered[df_slcs_filtered.jpl_burst_id.isin(top_tropical_bursts)].fileID.unique()))"
   ]
  },
  {
   "cell_type": "code",
   "execution_count": null,
   "id": "58f2a287-68ae-40ce-9bbe-15ef4285c7d3",
   "metadata": {},
   "outputs": [],
   "source": [
    "df_val_bursts_tropical_top.plot()"
   ]
  },
  {
   "cell_type": "code",
   "execution_count": null,
   "id": "27392b34-82b9-4920-ba83-7ee377ae3c6f",
   "metadata": {},
   "outputs": [],
   "source": [
    "ind_samples = df_slcs_filtered.jpl_burst_id.isin(bursts_with_enough_samples)\n",
    "\n",
    "tropical_burst_ids = df_val_bursts_tropical_top.jpl_burst_id.unique().tolist()\n",
    "ind_tropical = df_slcs_filtered.jpl_burst_id.isin(tropical_burst_ids)\n",
    "\n",
    "df_slcs_final = df_slcs_filtered[ind_samples | ind_tropical].reset_index(drop=True)\n",
    "print('Final tally of SLCs: ', len(df_slcs_final.fileID.unique()))"
   ]
  },
  {
   "cell_type": "markdown",
   "id": "cbc9eba9-34fb-4fac-9752-1af569bf565e",
   "metadata": {},
   "source": [
    "Let's visualize the sites"
   ]
  },
  {
   "cell_type": "code",
   "execution_count": null,
   "id": "037187a7-1cea-4bdd-b8bf-e211755913aa",
   "metadata": {},
   "outputs": [],
   "source": [
    "ax = df_sites[df_sites.site_id.isin(df_slcs_final.site_id.unique())].to_crs(epsg=3857).plot(alpha=.75,column='change_label', categorical=True, legend=True)\n",
    "cx.add_basemap(ax)"
   ]
  },
  {
   "cell_type": "markdown",
   "id": "26927b9e-e6ce-4e9a-8824-f7763fd12163",
   "metadata": {},
   "source": [
    "We can now plot the SLC frames with a given site."
   ]
  },
  {
   "cell_type": "code",
   "execution_count": null,
   "id": "b1011d5c-15ec-4b54-a233-d4053accef00",
   "metadata": {},
   "outputs": [],
   "source": [
    "df_slcs_final.site_id.unique()"
   ]
  },
  {
   "cell_type": "code",
   "execution_count": null,
   "id": "351b70da-b0e4-4213-a8b7-0a648d7af7b8",
   "metadata": {},
   "outputs": [],
   "source": [
    "fig, ax = plt.subplots()\n",
    "\n",
    "site_id_sample = 150\n",
    "df_slcs_final[df_slcs_final.site_id == site_id_sample].exterior.plot(ax =ax)\n",
    "df_sites[df_sites.site_id == site_id_sample].plot(ax=ax)"
   ]
  },
  {
   "cell_type": "code",
   "execution_count": null,
   "id": "f566c094-5d42-4dfb-b6b8-43ce0943e56a",
   "metadata": {},
   "outputs": [],
   "source": [
    "compression_options = dict(method='zip', archive_name=f'slcs_for_processing.csv')\n",
    "df_slcs_filtered.to_csv('slcs_for_processing.csv.zip', compression=compression_options, index=False)"
   ]
  },
  {
   "cell_type": "code",
   "execution_count": null,
   "id": "d9af9f42-2f26-4e47-ad2e-829c6b8aa2df",
   "metadata": {},
   "outputs": [],
   "source": [
    "(len(df_slcs_final.fileID.unique())) * .35"
   ]
  }
 ],
 "metadata": {
  "kernelspec": {
   "display_name": "dist-s1",
   "language": "python",
   "name": "dist-s1"
  },
  "language_info": {
   "codemirror_mode": {
    "name": "ipython",
    "version": 3
   },
   "file_extension": ".py",
   "mimetype": "text/x-python",
   "name": "python",
   "nbconvert_exporter": "python",
   "pygments_lexer": "ipython3",
   "version": "3.12.2"
  }
 },
 "nbformat": 4,
 "nbformat_minor": 5
}
