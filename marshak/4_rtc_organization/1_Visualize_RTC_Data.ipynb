{
 "cells": [
  {
   "cell_type": "code",
   "execution_count": 2,
   "id": "fd0dbe7a-298e-42fb-8bf6-f4ac9a433c5e",
   "metadata": {},
   "outputs": [],
   "source": [
    "import geopandas as gpd\n",
    "from dem_stitcher.geojson_io import read_geojson_gzip\n",
    "import pandas as pd\n",
    "import folium\n",
    "import leafmap\n",
    "from tqdm import tqdm"
   ]
  },
  {
   "cell_type": "markdown",
   "id": "2792116f-1ee6-4608-99ee-a7c180485201",
   "metadata": {},
   "source": [
    "# Load the data"
   ]
  },
  {
   "cell_type": "code",
   "execution_count": 3,
   "id": "d47ad04c-cb98-4124-b66b-1d51ad0ddca4",
   "metadata": {},
   "outputs": [
    {
     "data": {
      "text/html": [
       "<div>\n",
       "<style scoped>\n",
       "    .dataframe tbody tr th:only-of-type {\n",
       "        vertical-align: middle;\n",
       "    }\n",
       "\n",
       "    .dataframe tbody tr th {\n",
       "        vertical-align: top;\n",
       "    }\n",
       "\n",
       "    .dataframe thead th {\n",
       "        text-align: right;\n",
       "    }\n",
       "</style>\n",
       "<table border=\"1\" class=\"dataframe\">\n",
       "  <thead>\n",
       "    <tr style=\"text-align: right;\">\n",
       "      <th></th>\n",
       "      <th>geometry</th>\n",
       "      <th>jpl_burst_id</th>\n",
       "      <th>orbit_pass</th>\n",
       "      <th>count</th>\n",
       "      <th>is_val_burst</th>\n",
       "      <th>track_number</th>\n",
       "    </tr>\n",
       "  </thead>\n",
       "  <tbody>\n",
       "    <tr>\n",
       "      <th>0</th>\n",
       "      <td>POLYGON ((-97.90103 16.86358, -97.06559 17.014...</td>\n",
       "      <td>T005-008688-IW2</td>\n",
       "      <td>ASCENDING</td>\n",
       "      <td>66</td>\n",
       "      <td>False</td>\n",
       "      <td>5</td>\n",
       "    </tr>\n",
       "    <tr>\n",
       "      <th>1</th>\n",
       "      <td>POLYGON ((-97.09889 17.06678, -96.35903 17.196...</td>\n",
       "      <td>T005-008688-IW3</td>\n",
       "      <td>ASCENDING</td>\n",
       "      <td>66</td>\n",
       "      <td>False</td>\n",
       "      <td>5</td>\n",
       "    </tr>\n",
       "    <tr>\n",
       "      <th>2</th>\n",
       "      <td>POLYGON ((-98.69437 16.82087, -97.89903 16.966...</td>\n",
       "      <td>T005-008689-IW1</td>\n",
       "      <td>ASCENDING</td>\n",
       "      <td>66</td>\n",
       "      <td>False</td>\n",
       "      <td>5</td>\n",
       "    </tr>\n",
       "    <tr>\n",
       "      <th>3</th>\n",
       "      <td>POLYGON ((-97.93485 17.03023, -97.09864 17.180...</td>\n",
       "      <td>T005-008689-IW2</td>\n",
       "      <td>ASCENDING</td>\n",
       "      <td>66</td>\n",
       "      <td>False</td>\n",
       "      <td>5</td>\n",
       "    </tr>\n",
       "    <tr>\n",
       "      <th>4</th>\n",
       "      <td>POLYGON ((-97.13196 17.23328, -96.39139 17.362...</td>\n",
       "      <td>T005-008689-IW3</td>\n",
       "      <td>ASCENDING</td>\n",
       "      <td>66</td>\n",
       "      <td>False</td>\n",
       "      <td>5</td>\n",
       "    </tr>\n",
       "  </tbody>\n",
       "</table>\n",
       "</div>"
      ],
      "text/plain": [
       "                                            geometry     jpl_burst_id  \\\n",
       "0  POLYGON ((-97.90103 16.86358, -97.06559 17.014...  T005-008688-IW2   \n",
       "1  POLYGON ((-97.09889 17.06678, -96.35903 17.196...  T005-008688-IW3   \n",
       "2  POLYGON ((-98.69437 16.82087, -97.89903 16.966...  T005-008689-IW1   \n",
       "3  POLYGON ((-97.93485 17.03023, -97.09864 17.180...  T005-008689-IW2   \n",
       "4  POLYGON ((-97.13196 17.23328, -96.39139 17.362...  T005-008689-IW3   \n",
       "\n",
       "  orbit_pass  count  is_val_burst  track_number  \n",
       "0  ASCENDING     66         False             5  \n",
       "1  ASCENDING     66         False             5  \n",
       "2  ASCENDING     66         False             5  \n",
       "3  ASCENDING     66         False             5  \n",
       "4  ASCENDING     66         False             5  "
      ]
     },
     "execution_count": 3,
     "metadata": {},
     "output_type": "execute_result"
    }
   ],
   "source": [
    "df_burst_subset = read_geojson_gzip('burst_extent_subset.geojson.zip')\n",
    "df_burst_subset.head()"
   ]
  },
  {
   "cell_type": "code",
   "execution_count": 4,
   "id": "45a9e500-8e1f-4695-bab9-70847a235a5a",
   "metadata": {},
   "outputs": [
    {
     "data": {
      "text/html": [
       "<div>\n",
       "<style scoped>\n",
       "    .dataframe tbody tr th:only-of-type {\n",
       "        vertical-align: middle;\n",
       "    }\n",
       "\n",
       "    .dataframe tbody tr th {\n",
       "        vertical-align: top;\n",
       "    }\n",
       "\n",
       "    .dataframe thead th {\n",
       "        text-align: right;\n",
       "    }\n",
       "</style>\n",
       "<table border=\"1\" class=\"dataframe\">\n",
       "  <thead>\n",
       "    <tr style=\"text-align: right;\">\n",
       "      <th></th>\n",
       "      <th>rtc_s1_id</th>\n",
       "      <th>input_slc_id</th>\n",
       "      <th>jpl_burst_id</th>\n",
       "      <th>bursts_per_slc_input</th>\n",
       "      <th>rtc_s1_vv_url</th>\n",
       "      <th>rtc_s1_vh_url</th>\n",
       "      <th>rtc_s1_h5_url</th>\n",
       "      <th>acq_datetime</th>\n",
       "    </tr>\n",
       "  </thead>\n",
       "  <tbody>\n",
       "    <tr>\n",
       "      <th>0</th>\n",
       "      <td>OPERA_L2_RTC-S1_T005-008688-IW2_20201010T00400...</td>\n",
       "      <td>S1A_IW_SLC__1SDV_20201010T004001_20201010T0040...</td>\n",
       "      <td>T005-008688-IW2</td>\n",
       "      <td>27</td>\n",
       "      <td>https://opera-pst-rs-pop1.s3.us-west-2.amazona...</td>\n",
       "      <td>https://opera-pst-rs-pop1.s3.us-west-2.amazona...</td>\n",
       "      <td>https://opera-pst-rs-pop1.s3.us-west-2.amazona...</td>\n",
       "      <td>2020-10-10 00:40:01</td>\n",
       "    </tr>\n",
       "    <tr>\n",
       "      <th>1</th>\n",
       "      <td>OPERA_L2_RTC-S1_T005-008688-IW2_20201022T00400...</td>\n",
       "      <td>S1A_IW_SLC__1SDV_20201022T004000_20201022T0040...</td>\n",
       "      <td>T005-008688-IW2</td>\n",
       "      <td>27</td>\n",
       "      <td>https://opera-pst-rs-pop1.s3.us-west-2.amazona...</td>\n",
       "      <td>https://opera-pst-rs-pop1.s3.us-west-2.amazona...</td>\n",
       "      <td>https://opera-pst-rs-pop1.s3.us-west-2.amazona...</td>\n",
       "      <td>2020-10-22 00:40:00</td>\n",
       "    </tr>\n",
       "    <tr>\n",
       "      <th>2</th>\n",
       "      <td>OPERA_L2_RTC-S1_T005-008688-IW2_20201103T00400...</td>\n",
       "      <td>S1A_IW_SLC__1SDV_20201103T004000_20201103T0040...</td>\n",
       "      <td>T005-008688-IW2</td>\n",
       "      <td>27</td>\n",
       "      <td>https://opera-pst-rs-pop1.s3.us-west-2.amazona...</td>\n",
       "      <td>https://opera-pst-rs-pop1.s3.us-west-2.amazona...</td>\n",
       "      <td>https://opera-pst-rs-pop1.s3.us-west-2.amazona...</td>\n",
       "      <td>2020-11-03 00:40:00</td>\n",
       "    </tr>\n",
       "    <tr>\n",
       "      <th>3</th>\n",
       "      <td>OPERA_L2_RTC-S1_T005-008688-IW2_20201115T00400...</td>\n",
       "      <td>S1A_IW_SLC__1SDV_20201115T004000_20201115T0040...</td>\n",
       "      <td>T005-008688-IW2</td>\n",
       "      <td>27</td>\n",
       "      <td>https://opera-pst-rs-pop1.s3.us-west-2.amazona...</td>\n",
       "      <td>https://opera-pst-rs-pop1.s3.us-west-2.amazona...</td>\n",
       "      <td>https://opera-pst-rs-pop1.s3.us-west-2.amazona...</td>\n",
       "      <td>2020-11-15 00:40:00</td>\n",
       "    </tr>\n",
       "    <tr>\n",
       "      <th>4</th>\n",
       "      <td>OPERA_L2_RTC-S1_T005-008688-IW2_20201127T00400...</td>\n",
       "      <td>S1A_IW_SLC__1SDV_20201127T004000_20201127T0040...</td>\n",
       "      <td>T005-008688-IW2</td>\n",
       "      <td>27</td>\n",
       "      <td>https://opera-pst-rs-pop1.s3.us-west-2.amazona...</td>\n",
       "      <td>https://opera-pst-rs-pop1.s3.us-west-2.amazona...</td>\n",
       "      <td>https://opera-pst-rs-pop1.s3.us-west-2.amazona...</td>\n",
       "      <td>2020-11-27 00:40:00</td>\n",
       "    </tr>\n",
       "  </tbody>\n",
       "</table>\n",
       "</div>"
      ],
      "text/plain": [
       "                                           rtc_s1_id  \\\n",
       "0  OPERA_L2_RTC-S1_T005-008688-IW2_20201010T00400...   \n",
       "1  OPERA_L2_RTC-S1_T005-008688-IW2_20201022T00400...   \n",
       "2  OPERA_L2_RTC-S1_T005-008688-IW2_20201103T00400...   \n",
       "3  OPERA_L2_RTC-S1_T005-008688-IW2_20201115T00400...   \n",
       "4  OPERA_L2_RTC-S1_T005-008688-IW2_20201127T00400...   \n",
       "\n",
       "                                        input_slc_id     jpl_burst_id  \\\n",
       "0  S1A_IW_SLC__1SDV_20201010T004001_20201010T0040...  T005-008688-IW2   \n",
       "1  S1A_IW_SLC__1SDV_20201022T004000_20201022T0040...  T005-008688-IW2   \n",
       "2  S1A_IW_SLC__1SDV_20201103T004000_20201103T0040...  T005-008688-IW2   \n",
       "3  S1A_IW_SLC__1SDV_20201115T004000_20201115T0040...  T005-008688-IW2   \n",
       "4  S1A_IW_SLC__1SDV_20201127T004000_20201127T0040...  T005-008688-IW2   \n",
       "\n",
       "   bursts_per_slc_input                                      rtc_s1_vv_url  \\\n",
       "0                    27  https://opera-pst-rs-pop1.s3.us-west-2.amazona...   \n",
       "1                    27  https://opera-pst-rs-pop1.s3.us-west-2.amazona...   \n",
       "2                    27  https://opera-pst-rs-pop1.s3.us-west-2.amazona...   \n",
       "3                    27  https://opera-pst-rs-pop1.s3.us-west-2.amazona...   \n",
       "4                    27  https://opera-pst-rs-pop1.s3.us-west-2.amazona...   \n",
       "\n",
       "                                       rtc_s1_vh_url  \\\n",
       "0  https://opera-pst-rs-pop1.s3.us-west-2.amazona...   \n",
       "1  https://opera-pst-rs-pop1.s3.us-west-2.amazona...   \n",
       "2  https://opera-pst-rs-pop1.s3.us-west-2.amazona...   \n",
       "3  https://opera-pst-rs-pop1.s3.us-west-2.amazona...   \n",
       "4  https://opera-pst-rs-pop1.s3.us-west-2.amazona...   \n",
       "\n",
       "                                       rtc_s1_h5_url         acq_datetime  \n",
       "0  https://opera-pst-rs-pop1.s3.us-west-2.amazona...  2020-10-10 00:40:01  \n",
       "1  https://opera-pst-rs-pop1.s3.us-west-2.amazona...  2020-10-22 00:40:00  \n",
       "2  https://opera-pst-rs-pop1.s3.us-west-2.amazona...  2020-11-03 00:40:00  \n",
       "3  https://opera-pst-rs-pop1.s3.us-west-2.amazona...  2020-11-15 00:40:00  \n",
       "4  https://opera-pst-rs-pop1.s3.us-west-2.amazona...  2020-11-27 00:40:00  "
      ]
     },
     "execution_count": 4,
     "metadata": {},
     "output_type": "execute_result"
    }
   ],
   "source": [
    "df_rtc = pd.read_json('rtc_s1_table.json.zip')\n",
    "df_rtc.head()"
   ]
  },
  {
   "cell_type": "code",
   "execution_count": 11,
   "id": "6a348efd-9d05-4897-ae9c-010b03cd0b71",
   "metadata": {},
   "outputs": [
    {
     "data": {
      "text/html": [
       "<div>\n",
       "<style scoped>\n",
       "    .dataframe tbody tr th:only-of-type {\n",
       "        vertical-align: middle;\n",
       "    }\n",
       "\n",
       "    .dataframe tbody tr th {\n",
       "        vertical-align: top;\n",
       "    }\n",
       "\n",
       "    .dataframe thead th {\n",
       "        text-align: right;\n",
       "    }\n",
       "</style>\n",
       "<table border=\"1\" class=\"dataframe\">\n",
       "  <thead>\n",
       "    <tr style=\"text-align: right;\">\n",
       "      <th></th>\n",
       "      <th>site_id</th>\n",
       "      <th>change_label</th>\n",
       "      <th>change_time</th>\n",
       "      <th>last_observation_time</th>\n",
       "      <th>geometry</th>\n",
       "      <th>jpl_burst_id</th>\n",
       "    </tr>\n",
       "  </thead>\n",
       "  <tbody>\n",
       "    <tr>\n",
       "      <th>0</th>\n",
       "      <td>4</td>\n",
       "      <td>VLmaj</td>\n",
       "      <td>2021-11-07</td>\n",
       "      <td>2021-11-02</td>\n",
       "      <td>POINT (19.33289 4.57490)</td>\n",
       "      <td>T036-076228-IW3</td>\n",
       "    </tr>\n",
       "    <tr>\n",
       "      <th>1</th>\n",
       "      <td>13</td>\n",
       "      <td>VLmaj</td>\n",
       "      <td>2021-10-03</td>\n",
       "      <td>NaT</td>\n",
       "      <td>POINT (48.77698 31.75490)</td>\n",
       "      <td>T108-230715-IW2</td>\n",
       "    </tr>\n",
       "    <tr>\n",
       "      <th>2</th>\n",
       "      <td>13</td>\n",
       "      <td>VLmaj</td>\n",
       "      <td>2021-10-03</td>\n",
       "      <td>NaT</td>\n",
       "      <td>POINT (48.77698 31.75490)</td>\n",
       "      <td>T101-214979-IW1</td>\n",
       "    </tr>\n",
       "    <tr>\n",
       "      <th>3</th>\n",
       "      <td>22</td>\n",
       "      <td>VLmin</td>\n",
       "      <td>2021-12-19</td>\n",
       "      <td>2021-12-12</td>\n",
       "      <td>POINT (36.61178 35.52891)</td>\n",
       "      <td>T014-028130-IW2</td>\n",
       "    </tr>\n",
       "    <tr>\n",
       "      <th>4</th>\n",
       "      <td>22</td>\n",
       "      <td>VLmin</td>\n",
       "      <td>2021-12-19</td>\n",
       "      <td>2021-12-12</td>\n",
       "      <td>POINT (36.61178 35.52891)</td>\n",
       "      <td>T021-043823-IW2</td>\n",
       "    </tr>\n",
       "  </tbody>\n",
       "</table>\n",
       "</div>"
      ],
      "text/plain": [
       "   site_id change_label change_time last_observation_time  \\\n",
       "0        4        VLmaj  2021-11-07            2021-11-02   \n",
       "1       13        VLmaj  2021-10-03                   NaT   \n",
       "2       13        VLmaj  2021-10-03                   NaT   \n",
       "3       22        VLmin  2021-12-19            2021-12-12   \n",
       "4       22        VLmin  2021-12-19            2021-12-12   \n",
       "\n",
       "                    geometry     jpl_burst_id  \n",
       "0   POINT (19.33289 4.57490)  T036-076228-IW3  \n",
       "1  POINT (48.77698 31.75490)  T108-230715-IW2  \n",
       "2  POINT (48.77698 31.75490)  T101-214979-IW1  \n",
       "3  POINT (36.61178 35.52891)  T014-028130-IW2  \n",
       "4  POINT (36.61178 35.52891)  T021-043823-IW2  "
      ]
     },
     "execution_count": 11,
     "metadata": {},
     "output_type": "execute_result"
    }
   ],
   "source": [
    "df_val_sites = gpd.read_file('../3_dist_sites/dist_hls_val_sites.geojson')\n",
    "df_val_sites_subset = gpd.sjoin(df_val_sites, df_burst_subset[['jpl_burst_id', 'geometry']], predicate='intersects', how='inner').drop(columns=['index_right']).reset_index(drop=True)\n",
    "df_val_sites_subset.head()"
   ]
  },
  {
   "cell_type": "code",
   "execution_count": 12,
   "id": "71c10e81-9392-42cf-bf10-39e96c9ee6b8",
   "metadata": {},
   "outputs": [],
   "source": [
    "df_val_sites_subset.to_file('val_sites_subset.geojson')"
   ]
  },
  {
   "cell_type": "markdown",
   "id": "27c66831-119d-45fd-b10a-cf66c31b2696",
   "metadata": {},
   "source": [
    "# Visualize Bursts and Select One\n",
    "\n",
    "Sources:\n",
    "\n",
    "1. https://leafmap.org/notebooks/13_geopandas/\n",
    "2. For the style function: https://claude.ai/ chat"
   ]
  },
  {
   "cell_type": "code",
   "execution_count": 13,
   "id": "17789bf2-73ca-485a-a498-26a2a040725a",
   "metadata": {},
   "outputs": [
    {
     "data": {
      "text/plain": [
       "58"
      ]
     },
     "execution_count": 13,
     "metadata": {},
     "output_type": "execute_result"
    }
   ],
   "source": [
    "track_numbers = df_burst_subset.track_number.unique()\n",
    "len(track_numbers)"
   ]
  },
  {
   "cell_type": "code",
   "execution_count": 14,
   "id": "e1439997-1e1f-4007-abeb-66ccaec48504",
   "metadata": {},
   "outputs": [
    {
     "data": {
      "application/vnd.jupyter.widget-view+json": {
       "model_id": "e953d1b0ab6945e189db0a27eb15d0ab",
       "version_major": 2,
       "version_minor": 0
      },
      "text/plain": [
       "Map(center=[20, 0], controls=(ZoomControl(options=['position', 'zoom_in_text', 'zoom_in_title', 'zoom_out_text…"
      ]
     },
     "execution_count": 14,
     "metadata": {},
     "output_type": "execute_result"
    }
   ],
   "source": [
    "import leafmap\n",
    "\n",
    "# Add track numbers if they are blocking tracks with data you require\n",
    "TRACKS_TO_EXCLUDE = [137, 70]\n",
    "\n",
    "gdf = df_burst_subset.copy()\n",
    "gdf.geometry = df_burst_subset.geometry.exterior\n",
    "\n",
    "def f(feature):\n",
    "    return {\n",
    "        'fillColor': 'yellow' if (feature['properties']['is_val_burst']) else 'blue',\n",
    "        'weight': 2,\n",
    "        'fillOpacity': 0.4 * float(feature['properties']['count']) / 100\n",
    "    }\n",
    "\n",
    "m = leafmap.Map()\n",
    "m.add_gdf(df_burst_subset[~df_burst_subset.track_number.isin(TRACKS_TO_EXCLUDE)].copy(), \n",
    "          layer_name=f\"Burst Data\", info_mode='on_click', \n",
    "          style_callback=f)\n",
    "m.add_gdf(df_val_sites_subset, \n",
    "      layer_name=f\"Val. Sites\", info_mode='on_click')\n",
    "m"
   ]
  },
  {
   "cell_type": "markdown",
   "id": "c572c2bf-d7e8-4b43-b3a7-bb4be0e419f7",
   "metadata": {},
   "source": [
    "# Visualize Burst Time Series (Side by Side)\n",
    "\n",
    "Source: https://notebooks.gishub.org/leafmap/21_ts_inspector/"
   ]
  },
  {
   "cell_type": "code",
   "execution_count": 15,
   "id": "dbf423bc-efc7-455b-ab17-0a88fc4d69a6",
   "metadata": {},
   "outputs": [],
   "source": [
    "BURST_ID = 'T126-269585-IW2'"
   ]
  },
  {
   "cell_type": "code",
   "execution_count": 16,
   "id": "b228ff3d-cf36-49cf-9f64-9649e6fbe68d",
   "metadata": {},
   "outputs": [
    {
     "data": {
      "text/html": [
       "<div>\n",
       "<style scoped>\n",
       "    .dataframe tbody tr th:only-of-type {\n",
       "        vertical-align: middle;\n",
       "    }\n",
       "\n",
       "    .dataframe tbody tr th {\n",
       "        vertical-align: top;\n",
       "    }\n",
       "\n",
       "    .dataframe thead th {\n",
       "        text-align: right;\n",
       "    }\n",
       "</style>\n",
       "<table border=\"1\" class=\"dataframe\">\n",
       "  <thead>\n",
       "    <tr style=\"text-align: right;\">\n",
       "      <th></th>\n",
       "      <th>geometry</th>\n",
       "      <th>jpl_burst_id</th>\n",
       "      <th>orbit_pass</th>\n",
       "      <th>count</th>\n",
       "      <th>is_val_burst</th>\n",
       "      <th>track_number</th>\n",
       "    </tr>\n",
       "  </thead>\n",
       "  <tbody>\n",
       "    <tr>\n",
       "      <th>0</th>\n",
       "      <td>POLYGON ((-42.63028 -2.73766, -43.42608 -2.559...</td>\n",
       "      <td>T126-269585-IW2</td>\n",
       "      <td>DESCENDING</td>\n",
       "      <td>67</td>\n",
       "      <td>True</td>\n",
       "      <td>126</td>\n",
       "    </tr>\n",
       "  </tbody>\n",
       "</table>\n",
       "</div>"
      ],
      "text/plain": [
       "                                            geometry     jpl_burst_id  \\\n",
       "0  POLYGON ((-42.63028 -2.73766, -43.42608 -2.559...  T126-269585-IW2   \n",
       "\n",
       "   orbit_pass  count  is_val_burst  track_number  \n",
       "0  DESCENDING     67          True           126  "
      ]
     },
     "execution_count": 16,
     "metadata": {},
     "output_type": "execute_result"
    }
   ],
   "source": [
    "df_burst = df_burst_subset[df_burst_subset.jpl_burst_id == BURST_ID].reset_index(drop=True)\n",
    "df_burst"
   ]
  },
  {
   "cell_type": "code",
   "execution_count": 17,
   "id": "2c577086-d8cc-40da-b5d5-ca1191fbec62",
   "metadata": {},
   "outputs": [
    {
     "data": {
      "text/html": [
       "<div>\n",
       "<style scoped>\n",
       "    .dataframe tbody tr th:only-of-type {\n",
       "        vertical-align: middle;\n",
       "    }\n",
       "\n",
       "    .dataframe tbody tr th {\n",
       "        vertical-align: top;\n",
       "    }\n",
       "\n",
       "    .dataframe thead th {\n",
       "        text-align: right;\n",
       "    }\n",
       "</style>\n",
       "<table border=\"1\" class=\"dataframe\">\n",
       "  <thead>\n",
       "    <tr style=\"text-align: right;\">\n",
       "      <th></th>\n",
       "      <th>rtc_s1_id</th>\n",
       "      <th>input_slc_id</th>\n",
       "      <th>jpl_burst_id</th>\n",
       "      <th>bursts_per_slc_input</th>\n",
       "      <th>rtc_s1_vv_url</th>\n",
       "      <th>rtc_s1_vh_url</th>\n",
       "      <th>rtc_s1_h5_url</th>\n",
       "      <th>acq_datetime</th>\n",
       "    </tr>\n",
       "  </thead>\n",
       "  <tbody>\n",
       "    <tr>\n",
       "      <th>0</th>\n",
       "      <td>OPERA_L2_RTC-S1_T126-269585-IW2_20201006T08334...</td>\n",
       "      <td>S1A_IW_SLC__1SDV_20201006T083340_20201006T0834...</td>\n",
       "      <td>T126-269585-IW2</td>\n",
       "      <td>27</td>\n",
       "      <td>https://opera-pst-rs-pop1.s3.us-west-2.amazona...</td>\n",
       "      <td>https://opera-pst-rs-pop1.s3.us-west-2.amazona...</td>\n",
       "      <td>https://opera-pst-rs-pop1.s3.us-west-2.amazona...</td>\n",
       "      <td>2020-10-06 08:33:40</td>\n",
       "    </tr>\n",
       "    <tr>\n",
       "      <th>1</th>\n",
       "      <td>OPERA_L2_RTC-S1_T126-269585-IW2_20201018T08334...</td>\n",
       "      <td>S1A_IW_SLC__1SDV_20201018T083340_20201018T0834...</td>\n",
       "      <td>T126-269585-IW2</td>\n",
       "      <td>27</td>\n",
       "      <td>https://opera-pst-rs-pop1.s3.us-west-2.amazona...</td>\n",
       "      <td>https://opera-pst-rs-pop1.s3.us-west-2.amazona...</td>\n",
       "      <td>https://opera-pst-rs-pop1.s3.us-west-2.amazona...</td>\n",
       "      <td>2020-10-18 08:33:40</td>\n",
       "    </tr>\n",
       "    <tr>\n",
       "      <th>2</th>\n",
       "      <td>OPERA_L2_RTC-S1_T126-269585-IW2_20201030T08334...</td>\n",
       "      <td>S1A_IW_SLC__1SDV_20201030T083340_20201030T0834...</td>\n",
       "      <td>T126-269585-IW2</td>\n",
       "      <td>27</td>\n",
       "      <td>https://opera-pst-rs-pop1.s3.us-west-2.amazona...</td>\n",
       "      <td>https://opera-pst-rs-pop1.s3.us-west-2.amazona...</td>\n",
       "      <td>https://opera-pst-rs-pop1.s3.us-west-2.amazona...</td>\n",
       "      <td>2020-10-30 08:33:40</td>\n",
       "    </tr>\n",
       "    <tr>\n",
       "      <th>3</th>\n",
       "      <td>OPERA_L2_RTC-S1_T126-269585-IW2_20201111T08334...</td>\n",
       "      <td>S1A_IW_SLC__1SDV_20201111T083340_20201111T0834...</td>\n",
       "      <td>T126-269585-IW2</td>\n",
       "      <td>27</td>\n",
       "      <td>https://opera-pst-rs-pop1.s3.us-west-2.amazona...</td>\n",
       "      <td>https://opera-pst-rs-pop1.s3.us-west-2.amazona...</td>\n",
       "      <td>https://opera-pst-rs-pop1.s3.us-west-2.amazona...</td>\n",
       "      <td>2020-11-11 08:33:40</td>\n",
       "    </tr>\n",
       "    <tr>\n",
       "      <th>4</th>\n",
       "      <td>OPERA_L2_RTC-S1_T126-269585-IW2_20201123T08334...</td>\n",
       "      <td>S1A_IW_SLC__1SDV_20201123T083340_20201123T0834...</td>\n",
       "      <td>T126-269585-IW2</td>\n",
       "      <td>27</td>\n",
       "      <td>https://opera-pst-rs-pop1.s3.us-west-2.amazona...</td>\n",
       "      <td>https://opera-pst-rs-pop1.s3.us-west-2.amazona...</td>\n",
       "      <td>https://opera-pst-rs-pop1.s3.us-west-2.amazona...</td>\n",
       "      <td>2020-11-23 08:33:40</td>\n",
       "    </tr>\n",
       "  </tbody>\n",
       "</table>\n",
       "</div>"
      ],
      "text/plain": [
       "                                           rtc_s1_id  \\\n",
       "0  OPERA_L2_RTC-S1_T126-269585-IW2_20201006T08334...   \n",
       "1  OPERA_L2_RTC-S1_T126-269585-IW2_20201018T08334...   \n",
       "2  OPERA_L2_RTC-S1_T126-269585-IW2_20201030T08334...   \n",
       "3  OPERA_L2_RTC-S1_T126-269585-IW2_20201111T08334...   \n",
       "4  OPERA_L2_RTC-S1_T126-269585-IW2_20201123T08334...   \n",
       "\n",
       "                                        input_slc_id     jpl_burst_id  \\\n",
       "0  S1A_IW_SLC__1SDV_20201006T083340_20201006T0834...  T126-269585-IW2   \n",
       "1  S1A_IW_SLC__1SDV_20201018T083340_20201018T0834...  T126-269585-IW2   \n",
       "2  S1A_IW_SLC__1SDV_20201030T083340_20201030T0834...  T126-269585-IW2   \n",
       "3  S1A_IW_SLC__1SDV_20201111T083340_20201111T0834...  T126-269585-IW2   \n",
       "4  S1A_IW_SLC__1SDV_20201123T083340_20201123T0834...  T126-269585-IW2   \n",
       "\n",
       "   bursts_per_slc_input                                      rtc_s1_vv_url  \\\n",
       "0                    27  https://opera-pst-rs-pop1.s3.us-west-2.amazona...   \n",
       "1                    27  https://opera-pst-rs-pop1.s3.us-west-2.amazona...   \n",
       "2                    27  https://opera-pst-rs-pop1.s3.us-west-2.amazona...   \n",
       "3                    27  https://opera-pst-rs-pop1.s3.us-west-2.amazona...   \n",
       "4                    27  https://opera-pst-rs-pop1.s3.us-west-2.amazona...   \n",
       "\n",
       "                                       rtc_s1_vh_url  \\\n",
       "0  https://opera-pst-rs-pop1.s3.us-west-2.amazona...   \n",
       "1  https://opera-pst-rs-pop1.s3.us-west-2.amazona...   \n",
       "2  https://opera-pst-rs-pop1.s3.us-west-2.amazona...   \n",
       "3  https://opera-pst-rs-pop1.s3.us-west-2.amazona...   \n",
       "4  https://opera-pst-rs-pop1.s3.us-west-2.amazona...   \n",
       "\n",
       "                                       rtc_s1_h5_url         acq_datetime  \n",
       "0  https://opera-pst-rs-pop1.s3.us-west-2.amazona...  2020-10-06 08:33:40  \n",
       "1  https://opera-pst-rs-pop1.s3.us-west-2.amazona...  2020-10-18 08:33:40  \n",
       "2  https://opera-pst-rs-pop1.s3.us-west-2.amazona...  2020-10-30 08:33:40  \n",
       "3  https://opera-pst-rs-pop1.s3.us-west-2.amazona...  2020-11-11 08:33:40  \n",
       "4  https://opera-pst-rs-pop1.s3.us-west-2.amazona...  2020-11-23 08:33:40  "
      ]
     },
     "execution_count": 17,
     "metadata": {},
     "output_type": "execute_result"
    }
   ],
   "source": [
    "df_ts = df_rtc[df_rtc.jpl_burst_id == BURST_ID].reset_index(drop=True)\n",
    "df_ts.head()"
   ]
  },
  {
   "cell_type": "code",
   "execution_count": 70,
   "id": "62bd25e6-1bbf-4486-95ef-0115bcfb5146",
   "metadata": {},
   "outputs": [
    {
     "name": "stderr",
     "output_type": "stream",
     "text": [
      "100%|████████████████████████████████████████████████████████████████████| 67/67 [00:01<00:00, 59.27it/s]\n"
     ]
    }
   ],
   "source": [
    "layers = {d: leafmap.common.get_local_tile_layer(url, vmin=0, vmax=.25) for (d, url) in zip(tqdm(df_ts.acq_datetime[:]), df_ts.rtc_s1_vh_url)}"
   ]
  },
  {
   "cell_type": "code",
   "execution_count": 19,
   "id": "d284a19a-0190-4038-a3bb-9da28b654181",
   "metadata": {},
   "outputs": [
    {
     "data": {
      "application/vnd.jupyter.widget-view+json": {
       "model_id": "62e0f8a7b9424e35ace3ef514e97114f",
       "version_major": 2,
       "version_minor": 0
      },
      "text/plain": [
       "Map(center=[-2.741823506926245, -43.051167425704556], controls=(AttributionControl(options=['position', 'prefi…"
      ]
     },
     "execution_count": 19,
     "metadata": {},
     "output_type": "execute_result"
    }
   ],
   "source": [
    "centroid = df_burst.geometry[0].centroid\n",
    "m = leafmap.ts_inspector(layers, center=(centroid.y, centroid.x), zoom=11)\n",
    "m.add_gdf(df_val_sites, \n",
    "      layer_name=f\"Val. Sites\", info_mode='on_click')\n",
    "m"
   ]
  },
  {
   "cell_type": "markdown",
   "id": "dc74fdb6-a1a1-4b94-8d9d-f72bb610cc71",
   "metadata": {},
   "source": [
    "# Time Slider\n",
    "\n",
    "Not very performant and therefore will be omitted."
   ]
  },
  {
   "cell_type": "code",
   "execution_count": 20,
   "id": "683d18ef-01ca-4f34-9322-88244b8f4fc5",
   "metadata": {},
   "outputs": [],
   "source": [
    "# m = leafmap.Map(center=(centroid.y, centroid.x), zoom=10)\n",
    "# m.add_time_slider(layers,\n",
    "#                   labels=list(layers.keys()),\n",
    "#                   time_interval=2, \n",
    "#                   zoom=11)\n",
    "# m"
   ]
  },
  {
   "cell_type": "markdown",
   "id": "e5896851-a5b9-4458-8ed6-f2b085714cc7",
   "metadata": {},
   "source": [
    "# Visualize with ESRI World Imagery\n",
    "\n",
    "1. https://leafmap.org/notebooks/02_using_basemaps/\n",
    "2. https://leafmap.org/notebooks/05_load_raster/"
   ]
  },
  {
   "cell_type": "code",
   "execution_count": 21,
   "id": "5c6889de-ceec-49e5-8ecc-382dd1a688a1",
   "metadata": {},
   "outputs": [],
   "source": [
    "import rasterio\n",
    "from localtileserver import TileClient, get_leaflet_tile_layer\n",
    "\n",
    "J = 0\n",
    "src_1 = rasterio.open(df_ts.rtc_s1_vh_url.tolist()[J])\n",
    "client_1 = TileClient(src_1)\n",
    "\n",
    "K = -1\n",
    "src_2 = rasterio.open(df_ts.rtc_s1_vh_url.tolist()[K])\n",
    "client_2 = TileClient(src_2)"
   ]
  },
  {
   "cell_type": "code",
   "execution_count": 22,
   "id": "2d29aa61-d40c-48eb-855a-e4f4215ae027",
   "metadata": {},
   "outputs": [
    {
     "data": {
      "application/vnd.jupyter.widget-view+json": {
       "model_id": "4a309066950a48df8697dedfcce4603a",
       "version_major": 2,
       "version_minor": 0
      },
      "text/plain": [
       "Map(center=[-2.741823506926245, -43.051167425704556], controls=(ZoomControl(options=['position', 'zoom_in_text…"
      ]
     },
     "execution_count": 22,
     "metadata": {},
     "output_type": "execute_result"
    }
   ],
   "source": [
    "m = leafmap.Map(center=(centroid.y, centroid.x))\n",
    "m.add_basemap(\"Esri.WorldImagery\")\n",
    "\n",
    "m.add_raster(client_1, vmin=0, vmax=.25, layer_name=df_ts.acq_datetime.tolist()[J])\n",
    "K = -1\n",
    "m.add_raster(client_2, vmin=0, vmax=.25, layer_name=df_ts.acq_datetime.tolist()[K])\n",
    "m"
   ]
  },
  {
   "cell_type": "markdown",
   "id": "d32c7440-9d4c-4d42-8e54-f3137036ba44",
   "metadata": {},
   "source": [
    "# Despeckling\n",
    "\n",
    "Uses the simplest \"homomorphic\" despeckling from here: https://www.charles-deledalle.fr/pages/mulog.php"
   ]
  },
  {
   "cell_type": "code",
   "execution_count": 59,
   "id": "a172b7d1-2991-4fe3-84b0-40d1c349e347",
   "metadata": {},
   "outputs": [],
   "source": [
    "import bm3d\n",
    "import numpy as np\n",
    "\n",
    "def despeckle_one(X: np.ndarray, reg_param=.2) -> np.ndarray:\n",
    "    X_db = np.log10(X, out=np.full(X.shape, np.nan), where=(~np.isnan(X)))\n",
    "    X_db[np.isnan(X)] = -30\n",
    "    X_db_dspkl = bm3d.bm3d(X_db, reg_param)\n",
    "    X_dspkl = np.power(10, X_db_dspkl)\n",
    "    X_dspkl[np.isnan(X)] = np.nan\n",
    "    return X_dspkl"
   ]
  },
  {
   "cell_type": "code",
   "execution_count": 60,
   "id": "bbc4521d-6b7e-4310-9888-c09f90b5ca74",
   "metadata": {},
   "outputs": [],
   "source": [
    "N = 0\n",
    "with rasterio.open(df_ts.rtc_s1_vh_url.tolist()[N]) as ds:\n",
    "    X_vh = ds.read(1)\n",
    "    profile = ds.profile"
   ]
  },
  {
   "cell_type": "code",
   "execution_count": 61,
   "id": "e226c7d8-3f8a-415d-a716-6c065e58e2d9",
   "metadata": {},
   "outputs": [
    {
     "name": "stdout",
     "output_type": "stream",
     "text": [
      "CPU times: user 5min 18s, sys: 46.5 s, total: 6min 4s\n",
      "Wall time: 43.3 s\n"
     ]
    }
   ],
   "source": [
    "%%time\n",
    "\n",
    "X_dspkl = despeckle_one(X_vh)"
   ]
  },
  {
   "cell_type": "markdown",
   "id": "1161866e-1945-4708-9de0-0d3247abc16f",
   "metadata": {},
   "source": [
    "## Visualization: Layer Rasters\n",
    "\n",
    "As above"
   ]
  },
  {
   "cell_type": "code",
   "execution_count": 62,
   "id": "d73b20bd-51e2-41c5-a85a-7c9708cc3c1a",
   "metadata": {},
   "outputs": [],
   "source": [
    "# Create rasterio dataset in memory\n",
    "memory_file = rasterio.MemoryFile()\n",
    "raster_dataset = memory_file.open(driver='GTiff',\n",
    "                                height=X_dspkl.shape[0],\n",
    "                                width=X_dspkl.shape[1],\n",
    "                                count=1,\n",
    "                                dtype=str(X_dspkl.dtype),\n",
    "                                crs=profile['crs'],\n",
    "                                transform=profile['transform'],\n",
    "                                 nodata=np.nan)\n",
    "\n",
    "# Write data array values to the rasterio dataset\n",
    "raster_dataset.write(X_dspkl, 1)\n",
    "raster_dataset.close()\n",
    "\n",
    "client_dspkl = TileClient(raster_dataset)"
   ]
  },
  {
   "cell_type": "code",
   "execution_count": 63,
   "id": "6832aecd-6ef5-4046-9416-26de6a00c05e",
   "metadata": {},
   "outputs": [],
   "source": [
    "src_orig = rasterio.open(df_ts.rtc_s1_vh_url.tolist()[N])\n",
    "client_orig = TileClient(src_orig)"
   ]
  },
  {
   "cell_type": "code",
   "execution_count": 67,
   "id": "da11a3e7-8717-46df-a4f4-8ba051cc476e",
   "metadata": {},
   "outputs": [
    {
     "data": {
      "application/vnd.jupyter.widget-view+json": {
       "model_id": "c3fff229a29a48fd813c5025f911774e",
       "version_major": 2,
       "version_minor": 0
      },
      "text/plain": [
       "Map(center=[-2.741823506926245, -43.051167425704556], controls=(ZoomControl(options=['position', 'zoom_in_text…"
      ]
     },
     "execution_count": 67,
     "metadata": {},
     "output_type": "execute_result"
    }
   ],
   "source": [
    "m = leafmap.Map(center=(centroid.y, centroid.x))\n",
    "m.add_basemap(\"Esri.WorldImagery\")\n",
    "\n",
    "m.add_raster(client_orig, vmin=0, vmax=.25, layer_name='Original')\n",
    "K = -1\n",
    "m.add_raster(client_dspkl, vmin=0, vmax=.25, layer_name='Despeckled')\n",
    "m"
   ]
  },
  {
   "cell_type": "markdown",
   "id": "47393600-7e42-4d17-901f-b0f28b92e5a9",
   "metadata": {},
   "source": [
    "## Split Pane\n",
    "\n",
    "Reference: https://localtileserver.banesullivan.com/user-guide/compare.html"
   ]
  },
  {
   "cell_type": "code",
   "execution_count": 69,
   "id": "fe7361b5-4bde-4961-9b19-19b5889aef99",
   "metadata": {},
   "outputs": [
    {
     "data": {
      "application/vnd.jupyter.widget-view+json": {
       "model_id": "dd2cc66517c84046818e4d4049b1d498",
       "version_major": 2,
       "version_minor": 0
      },
      "text/plain": [
       "Map(center=[-2.7404585, -43.0486725], controls=(ZoomControl(options=['position', 'zoom_in_text', 'zoom_in_titl…"
      ]
     },
     "execution_count": 69,
     "metadata": {},
     "output_type": "execute_result"
    }
   ],
   "source": [
    "from ipyleaflet import Map, ScaleControl, FullScreenControl, SplitMapControl\n",
    "\n",
    "m = leafmap.Map(center=client_dspkl.center(), zoom=12)\n",
    "\n",
    "# Shared display parameters\n",
    "display = dict(vmin=0, vmax=.25, colormap='binary_r')\n",
    "\n",
    "# Create 2 tile layers from different raster\n",
    "l = get_leaflet_tile_layer(client_dspkl, **display)\n",
    "r = get_leaflet_tile_layer(client_orig, **display)\n",
    "\n",
    "\n",
    "control = SplitMapControl(left_layer=l, right_layer=r)\n",
    "m.add_control(control)\n",
    "m.add_control(ScaleControl(position='bottomleft'))\n",
    "m.add_control(FullScreenControl())\n",
    "m"
   ]
  }
 ],
 "metadata": {
  "kernelspec": {
   "display_name": "dist-s1-intel",
   "language": "python",
   "name": "dist-s1-intel"
  },
  "language_info": {
   "codemirror_mode": {
    "name": "ipython",
    "version": 3
   },
   "file_extension": ".py",
   "mimetype": "text/x-python",
   "name": "python",
   "nbconvert_exporter": "python",
   "pygments_lexer": "ipython3",
   "version": "3.12.3"
  }
 },
 "nbformat": 4,
 "nbformat_minor": 5
}
