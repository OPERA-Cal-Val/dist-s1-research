{
 "cells": [
  {
   "cell_type": "markdown",
   "id": "fb52d9e5-11e1-4c22-baef-fc61c58ba61d",
   "metadata": {},
   "source": [
    "This notebook creates the table of RTC data covering a subset of the DIST-HLS validation sites over 2022-2023 (see the previous directory of notebooks for how this subset was generated)."
   ]
  },
  {
   "cell_type": "code",
   "execution_count": 1,
   "id": "d9464fbb-af4a-49d3-a73e-aea12e8a4fbd",
   "metadata": {},
   "outputs": [],
   "source": [
    "import concurrent.futures\n",
    "import urllib3\n",
    "from tqdm import tqdm\n",
    "import pandas as pd\n",
    "import geopandas as gpd\n",
    "from dem_stitcher.geojson_io import read_geojson_gzip, to_geojson_gzip\n",
    "from shapely.geometry import Polygon\n",
    "import rasterio\n",
    "import matplotlib.pyplot as plt\n",
    "import scipy.ndimage as nd\n",
    "import numpy as np\n",
    "from shapely.geometry import shape\n",
    "import rasterio.features as features\n",
    "from mpire import WorkerPool"
   ]
  },
  {
   "cell_type": "markdown",
   "id": "dfb25793-dc7b-4c27-869b-e98cc3074143",
   "metadata": {},
   "source": [
    "# Read the tables"
   ]
  },
  {
   "cell_type": "code",
   "execution_count": 2,
   "id": "96086d90-e4f0-4570-877e-552c8de91131",
   "metadata": {},
   "outputs": [
    {
     "data": {
      "text/html": [
       "<div>\n",
       "<style scoped>\n",
       "    .dataframe tbody tr th:only-of-type {\n",
       "        vertical-align: middle;\n",
       "    }\n",
       "\n",
       "    .dataframe tbody tr th {\n",
       "        vertical-align: top;\n",
       "    }\n",
       "\n",
       "    .dataframe thead th {\n",
       "        text-align: right;\n",
       "    }\n",
       "</style>\n",
       "<table border=\"1\" class=\"dataframe\">\n",
       "  <thead>\n",
       "    <tr style=\"text-align: right;\">\n",
       "      <th></th>\n",
       "      <th>rtc_s1_id</th>\n",
       "      <th>input_slc_id</th>\n",
       "      <th>jpl_burst_id</th>\n",
       "      <th>bursts_per_slc_input</th>\n",
       "      <th>rtc_s1_vv_url</th>\n",
       "      <th>rtc_s1_vh_url</th>\n",
       "      <th>rtc_s1_h5_url</th>\n",
       "      <th>acq_datetime</th>\n",
       "    </tr>\n",
       "  </thead>\n",
       "  <tbody>\n",
       "    <tr>\n",
       "      <th>0</th>\n",
       "      <td>OPERA_L2_RTC-S1_T005-008688-IW2_20201010T00400...</td>\n",
       "      <td>S1A_IW_SLC__1SDV_20201010T004001_20201010T0040...</td>\n",
       "      <td>T005-008688-IW2</td>\n",
       "      <td>27</td>\n",
       "      <td>https://opera-pst-rs-pop1.s3.us-west-2.amazona...</td>\n",
       "      <td>https://opera-pst-rs-pop1.s3.us-west-2.amazona...</td>\n",
       "      <td>https://opera-pst-rs-pop1.s3.us-west-2.amazona...</td>\n",
       "      <td>2020-10-10 00:40:01</td>\n",
       "    </tr>\n",
       "    <tr>\n",
       "      <th>1</th>\n",
       "      <td>OPERA_L2_RTC-S1_T005-008688-IW2_20201022T00400...</td>\n",
       "      <td>S1A_IW_SLC__1SDV_20201022T004000_20201022T0040...</td>\n",
       "      <td>T005-008688-IW2</td>\n",
       "      <td>27</td>\n",
       "      <td>https://opera-pst-rs-pop1.s3.us-west-2.amazona...</td>\n",
       "      <td>https://opera-pst-rs-pop1.s3.us-west-2.amazona...</td>\n",
       "      <td>https://opera-pst-rs-pop1.s3.us-west-2.amazona...</td>\n",
       "      <td>2020-10-22 00:40:00</td>\n",
       "    </tr>\n",
       "    <tr>\n",
       "      <th>2</th>\n",
       "      <td>OPERA_L2_RTC-S1_T005-008688-IW2_20201103T00400...</td>\n",
       "      <td>S1A_IW_SLC__1SDV_20201103T004000_20201103T0040...</td>\n",
       "      <td>T005-008688-IW2</td>\n",
       "      <td>27</td>\n",
       "      <td>https://opera-pst-rs-pop1.s3.us-west-2.amazona...</td>\n",
       "      <td>https://opera-pst-rs-pop1.s3.us-west-2.amazona...</td>\n",
       "      <td>https://opera-pst-rs-pop1.s3.us-west-2.amazona...</td>\n",
       "      <td>2020-11-03 00:40:00</td>\n",
       "    </tr>\n",
       "    <tr>\n",
       "      <th>3</th>\n",
       "      <td>OPERA_L2_RTC-S1_T005-008688-IW2_20201115T00400...</td>\n",
       "      <td>S1A_IW_SLC__1SDV_20201115T004000_20201115T0040...</td>\n",
       "      <td>T005-008688-IW2</td>\n",
       "      <td>27</td>\n",
       "      <td>https://opera-pst-rs-pop1.s3.us-west-2.amazona...</td>\n",
       "      <td>https://opera-pst-rs-pop1.s3.us-west-2.amazona...</td>\n",
       "      <td>https://opera-pst-rs-pop1.s3.us-west-2.amazona...</td>\n",
       "      <td>2020-11-15 00:40:00</td>\n",
       "    </tr>\n",
       "    <tr>\n",
       "      <th>4</th>\n",
       "      <td>OPERA_L2_RTC-S1_T005-008688-IW2_20201127T00400...</td>\n",
       "      <td>S1A_IW_SLC__1SDV_20201127T004000_20201127T0040...</td>\n",
       "      <td>T005-008688-IW2</td>\n",
       "      <td>27</td>\n",
       "      <td>https://opera-pst-rs-pop1.s3.us-west-2.amazona...</td>\n",
       "      <td>https://opera-pst-rs-pop1.s3.us-west-2.amazona...</td>\n",
       "      <td>https://opera-pst-rs-pop1.s3.us-west-2.amazona...</td>\n",
       "      <td>2020-11-27 00:40:00</td>\n",
       "    </tr>\n",
       "  </tbody>\n",
       "</table>\n",
       "</div>"
      ],
      "text/plain": [
       "                                           rtc_s1_id  \\\n",
       "0  OPERA_L2_RTC-S1_T005-008688-IW2_20201010T00400...   \n",
       "1  OPERA_L2_RTC-S1_T005-008688-IW2_20201022T00400...   \n",
       "2  OPERA_L2_RTC-S1_T005-008688-IW2_20201103T00400...   \n",
       "3  OPERA_L2_RTC-S1_T005-008688-IW2_20201115T00400...   \n",
       "4  OPERA_L2_RTC-S1_T005-008688-IW2_20201127T00400...   \n",
       "\n",
       "                                        input_slc_id     jpl_burst_id  \\\n",
       "0  S1A_IW_SLC__1SDV_20201010T004001_20201010T0040...  T005-008688-IW2   \n",
       "1  S1A_IW_SLC__1SDV_20201022T004000_20201022T0040...  T005-008688-IW2   \n",
       "2  S1A_IW_SLC__1SDV_20201103T004000_20201103T0040...  T005-008688-IW2   \n",
       "3  S1A_IW_SLC__1SDV_20201115T004000_20201115T0040...  T005-008688-IW2   \n",
       "4  S1A_IW_SLC__1SDV_20201127T004000_20201127T0040...  T005-008688-IW2   \n",
       "\n",
       "   bursts_per_slc_input                                      rtc_s1_vv_url  \\\n",
       "0                    27  https://opera-pst-rs-pop1.s3.us-west-2.amazona...   \n",
       "1                    27  https://opera-pst-rs-pop1.s3.us-west-2.amazona...   \n",
       "2                    27  https://opera-pst-rs-pop1.s3.us-west-2.amazona...   \n",
       "3                    27  https://opera-pst-rs-pop1.s3.us-west-2.amazona...   \n",
       "4                    27  https://opera-pst-rs-pop1.s3.us-west-2.amazona...   \n",
       "\n",
       "                                       rtc_s1_vh_url  \\\n",
       "0  https://opera-pst-rs-pop1.s3.us-west-2.amazona...   \n",
       "1  https://opera-pst-rs-pop1.s3.us-west-2.amazona...   \n",
       "2  https://opera-pst-rs-pop1.s3.us-west-2.amazona...   \n",
       "3  https://opera-pst-rs-pop1.s3.us-west-2.amazona...   \n",
       "4  https://opera-pst-rs-pop1.s3.us-west-2.amazona...   \n",
       "\n",
       "                                       rtc_s1_h5_url         acq_datetime  \n",
       "0  https://opera-pst-rs-pop1.s3.us-west-2.amazona...  2020-10-10 00:40:01  \n",
       "1  https://opera-pst-rs-pop1.s3.us-west-2.amazona...  2020-10-22 00:40:00  \n",
       "2  https://opera-pst-rs-pop1.s3.us-west-2.amazona...  2020-11-03 00:40:00  \n",
       "3  https://opera-pst-rs-pop1.s3.us-west-2.amazona...  2020-11-15 00:40:00  \n",
       "4  https://opera-pst-rs-pop1.s3.us-west-2.amazona...  2020-11-27 00:40:00  "
      ]
     },
     "execution_count": 2,
     "metadata": {},
     "output_type": "execute_result"
    }
   ],
   "source": [
    "df_rtc = pd.read_json('rtc_s1_table.json.zip')\n",
    "df_rtc.head()"
   ]
  },
  {
   "cell_type": "code",
   "execution_count": 3,
   "id": "440c8572-9f56-4791-8b0f-21f9adede0dc",
   "metadata": {},
   "outputs": [
    {
     "data": {
      "text/html": [
       "<div>\n",
       "<style scoped>\n",
       "    .dataframe tbody tr th:only-of-type {\n",
       "        vertical-align: middle;\n",
       "    }\n",
       "\n",
       "    .dataframe tbody tr th {\n",
       "        vertical-align: top;\n",
       "    }\n",
       "\n",
       "    .dataframe thead th {\n",
       "        text-align: right;\n",
       "    }\n",
       "</style>\n",
       "<table border=\"1\" class=\"dataframe\">\n",
       "  <thead>\n",
       "    <tr style=\"text-align: right;\">\n",
       "      <th></th>\n",
       "      <th>jpl_burst_id</th>\n",
       "      <th>count</th>\n",
       "    </tr>\n",
       "  </thead>\n",
       "  <tbody>\n",
       "    <tr>\n",
       "      <th>0</th>\n",
       "      <td>T005-008688-IW2</td>\n",
       "      <td>66</td>\n",
       "    </tr>\n",
       "    <tr>\n",
       "      <th>1</th>\n",
       "      <td>T005-008688-IW3</td>\n",
       "      <td>66</td>\n",
       "    </tr>\n",
       "    <tr>\n",
       "      <th>2</th>\n",
       "      <td>T005-008689-IW1</td>\n",
       "      <td>66</td>\n",
       "    </tr>\n",
       "    <tr>\n",
       "      <th>3</th>\n",
       "      <td>T005-008689-IW2</td>\n",
       "      <td>66</td>\n",
       "    </tr>\n",
       "    <tr>\n",
       "      <th>4</th>\n",
       "      <td>T005-008689-IW3</td>\n",
       "      <td>66</td>\n",
       "    </tr>\n",
       "  </tbody>\n",
       "</table>\n",
       "</div>"
      ],
      "text/plain": [
       "      jpl_burst_id  count\n",
       "0  T005-008688-IW2     66\n",
       "1  T005-008688-IW3     66\n",
       "2  T005-008689-IW1     66\n",
       "3  T005-008689-IW2     66\n",
       "4  T005-008689-IW3     66"
      ]
     },
     "execution_count": 3,
     "metadata": {},
     "output_type": "execute_result"
    }
   ],
   "source": [
    "df_rtc_per_burst = df_rtc.groupby('jpl_burst_id').size().reset_index(name='count')\n",
    "df_rtc_per_burst.head()"
   ]
  },
  {
   "cell_type": "code",
   "execution_count": 4,
   "id": "383e1b7c-e3a9-4410-925e-a184b35e3ceb",
   "metadata": {},
   "outputs": [
    {
     "data": {
      "text/html": [
       "<div>\n",
       "<style scoped>\n",
       "    .dataframe tbody tr th:only-of-type {\n",
       "        vertical-align: middle;\n",
       "    }\n",
       "\n",
       "    .dataframe tbody tr th {\n",
       "        vertical-align: top;\n",
       "    }\n",
       "\n",
       "    .dataframe thead th {\n",
       "        text-align: right;\n",
       "    }\n",
       "</style>\n",
       "<table border=\"1\" class=\"dataframe\">\n",
       "  <thead>\n",
       "    <tr style=\"text-align: right;\">\n",
       "      <th></th>\n",
       "      <th>geometry</th>\n",
       "      <th>jpl_burst_id</th>\n",
       "      <th>orbit_pass</th>\n",
       "    </tr>\n",
       "  </thead>\n",
       "  <tbody>\n",
       "    <tr>\n",
       "      <th>0</th>\n",
       "      <td>POLYGON ((-97.90103 16.86358, -97.06559 17.014...</td>\n",
       "      <td>t005_008688_iw2</td>\n",
       "      <td>ASCENDING</td>\n",
       "    </tr>\n",
       "    <tr>\n",
       "      <th>1</th>\n",
       "      <td>POLYGON ((-97.09889 17.06678, -96.35902 17.196...</td>\n",
       "      <td>t005_008688_iw3</td>\n",
       "      <td>ASCENDING</td>\n",
       "    </tr>\n",
       "    <tr>\n",
       "      <th>2</th>\n",
       "      <td>POLYGON ((-98.69436 16.82087, -97.89903 16.966...</td>\n",
       "      <td>t005_008689_iw1</td>\n",
       "      <td>ASCENDING</td>\n",
       "    </tr>\n",
       "    <tr>\n",
       "      <th>3</th>\n",
       "      <td>POLYGON ((-97.93486 17.03023, -97.09864 17.180...</td>\n",
       "      <td>t005_008689_iw2</td>\n",
       "      <td>ASCENDING</td>\n",
       "    </tr>\n",
       "    <tr>\n",
       "      <th>4</th>\n",
       "      <td>POLYGON ((-97.13196 17.23328, -96.39139 17.362...</td>\n",
       "      <td>t005_008689_iw3</td>\n",
       "      <td>ASCENDING</td>\n",
       "    </tr>\n",
       "  </tbody>\n",
       "</table>\n",
       "</div>"
      ],
      "text/plain": [
       "                                            geometry     jpl_burst_id  \\\n",
       "0  POLYGON ((-97.90103 16.86358, -97.06559 17.014...  t005_008688_iw2   \n",
       "1  POLYGON ((-97.09889 17.06678, -96.35902 17.196...  t005_008688_iw3   \n",
       "2  POLYGON ((-98.69436 16.82087, -97.89903 16.966...  t005_008689_iw1   \n",
       "3  POLYGON ((-97.93486 17.03023, -97.09864 17.180...  t005_008689_iw2   \n",
       "4  POLYGON ((-97.13196 17.23328, -96.39139 17.362...  t005_008689_iw3   \n",
       "\n",
       "  orbit_pass  \n",
       "0  ASCENDING  \n",
       "1  ASCENDING  \n",
       "2  ASCENDING  \n",
       "3  ASCENDING  \n",
       "4  ASCENDING  "
      ]
     },
     "execution_count": 4,
     "metadata": {},
     "output_type": "execute_result"
    }
   ],
   "source": [
    "df_val_burst_old= read_geojson_gzip('../4_rtc_organization/burst_extent_subset.geojson.gzip')#validation_bursts_all_v2.parquet')\n",
    "df_val_burst_old.head()"
   ]
  },
  {
   "cell_type": "code",
   "execution_count": 7,
   "id": "93889c4b-8d97-4794-9f66-0adddf97e599",
   "metadata": {},
   "outputs": [
    {
     "data": {
      "text/html": [
       "<div>\n",
       "<style scoped>\n",
       "    .dataframe tbody tr th:only-of-type {\n",
       "        vertical-align: middle;\n",
       "    }\n",
       "\n",
       "    .dataframe tbody tr th {\n",
       "        vertical-align: top;\n",
       "    }\n",
       "\n",
       "    .dataframe thead th {\n",
       "        text-align: right;\n",
       "    }\n",
       "</style>\n",
       "<table border=\"1\" class=\"dataframe\">\n",
       "  <thead>\n",
       "    <tr style=\"text-align: right;\">\n",
       "      <th></th>\n",
       "      <th>jpl_burst_id</th>\n",
       "      <th>site_id</th>\n",
       "      <th>orbit_pass</th>\n",
       "      <th>track_number</th>\n",
       "      <th>geometry</th>\n",
       "    </tr>\n",
       "  </thead>\n",
       "  <tbody>\n",
       "    <tr>\n",
       "      <th>0</th>\n",
       "      <td>T090-193169-IW1</td>\n",
       "      <td>1</td>\n",
       "      <td>ASCENDING</td>\n",
       "      <td>90</td>\n",
       "      <td>POLYGON ((-52.73133 -23.43816, -51.90414 -23.2...</td>\n",
       "    </tr>\n",
       "    <tr>\n",
       "      <th>1</th>\n",
       "      <td>T097-207419-IW2</td>\n",
       "      <td>1</td>\n",
       "      <td>DESCENDING</td>\n",
       "      <td>97</td>\n",
       "      <td>POLYGON ((-51.66339 -23.30842, -52.52125 -23.1...</td>\n",
       "    </tr>\n",
       "    <tr>\n",
       "      <th>2</th>\n",
       "      <td>T039-083584-IW3</td>\n",
       "      <td>2</td>\n",
       "      <td>ASCENDING</td>\n",
       "      <td>39</td>\n",
       "      <td>POLYGON ((129.8254 -29.63759, 130.62076 -29.44...</td>\n",
       "    </tr>\n",
       "    <tr>\n",
       "      <th>3</th>\n",
       "      <td>T075-160202-IW1</td>\n",
       "      <td>2</td>\n",
       "      <td>DESCENDING</td>\n",
       "      <td>75</td>\n",
       "      <td>POLYGON ((130.4964 -29.60892, 129.63063 -29.40...</td>\n",
       "    </tr>\n",
       "    <tr>\n",
       "      <th>4</th>\n",
       "      <td>T107-227877-IW2</td>\n",
       "      <td>3</td>\n",
       "      <td>ASCENDING</td>\n",
       "      <td>107</td>\n",
       "      <td>POLYGON ((-99.31968 33.56634, -98.35539 33.705...</td>\n",
       "    </tr>\n",
       "  </tbody>\n",
       "</table>\n",
       "</div>"
      ],
      "text/plain": [
       "      jpl_burst_id  site_id  orbit_pass  track_number  \\\n",
       "0  T090-193169-IW1        1   ASCENDING            90   \n",
       "1  T097-207419-IW2        1  DESCENDING            97   \n",
       "2  T039-083584-IW3        2   ASCENDING            39   \n",
       "3  T075-160202-IW1        2  DESCENDING            75   \n",
       "4  T107-227877-IW2        3   ASCENDING           107   \n",
       "\n",
       "                                            geometry  \n",
       "0  POLYGON ((-52.73133 -23.43816, -51.90414 -23.2...  \n",
       "1  POLYGON ((-51.66339 -23.30842, -52.52125 -23.1...  \n",
       "2  POLYGON ((129.8254 -29.63759, 130.62076 -29.44...  \n",
       "3  POLYGON ((130.4964 -29.60892, 129.63063 -29.40...  \n",
       "4  POLYGON ((-99.31968 33.56634, -98.35539 33.705...  "
      ]
     },
     "execution_count": 7,
     "metadata": {},
     "output_type": "execute_result"
    }
   ],
   "source": [
    "df_val_burst=gpd.read_parquet('../3_dist_sites/validation_bursts_all_v1.parquet')\n",
    "df_val_burst.head()\n"
   ]
  },
  {
   "cell_type": "code",
   "execution_count": 8,
   "id": "dee494a5-b744-4f5b-95a2-b57d1ae92541",
   "metadata": {},
   "outputs": [
    {
     "data": {
      "text/html": [
       "<div>\n",
       "<style scoped>\n",
       "    .dataframe tbody tr th:only-of-type {\n",
       "        vertical-align: middle;\n",
       "    }\n",
       "\n",
       "    .dataframe tbody tr th {\n",
       "        vertical-align: top;\n",
       "    }\n",
       "\n",
       "    .dataframe thead th {\n",
       "        text-align: right;\n",
       "    }\n",
       "</style>\n",
       "<table border=\"1\" class=\"dataframe\">\n",
       "  <thead>\n",
       "    <tr style=\"text-align: right;\">\n",
       "      <th></th>\n",
       "      <th>site_id</th>\n",
       "      <th>change_label</th>\n",
       "      <th>change_type</th>\n",
       "      <th>change_time</th>\n",
       "      <th>last_observation_time</th>\n",
       "      <th>mgrs_tile_id</th>\n",
       "      <th>geometry</th>\n",
       "    </tr>\n",
       "  </thead>\n",
       "  <tbody>\n",
       "    <tr>\n",
       "      <th>0</th>\n",
       "      <td>1</td>\n",
       "      <td>VLmaj</td>\n",
       "      <td>Natural browning</td>\n",
       "      <td>2021-10-08</td>\n",
       "      <td>NaT</td>\n",
       "      <td>22KCV</td>\n",
       "      <td>POINT (-52.37979 -23.29715)</td>\n",
       "    </tr>\n",
       "    <tr>\n",
       "      <th>1</th>\n",
       "      <td>2</td>\n",
       "      <td>noChange</td>\n",
       "      <td>No Change</td>\n",
       "      <td>NaT</td>\n",
       "      <td>NaT</td>\n",
       "      <td>52JEN</td>\n",
       "      <td>POINT (129.85033 -29.57724)</td>\n",
       "    </tr>\n",
       "    <tr>\n",
       "      <th>2</th>\n",
       "      <td>3</td>\n",
       "      <td>VLmin</td>\n",
       "      <td>Natural browning</td>\n",
       "      <td>2022-01-28</td>\n",
       "      <td>2022-01-06</td>\n",
       "      <td>14SNC</td>\n",
       "      <td>POINT (-98.60056 33.771)</td>\n",
       "    </tr>\n",
       "    <tr>\n",
       "      <th>3</th>\n",
       "      <td>4</td>\n",
       "      <td>VLmaj</td>\n",
       "      <td>Fire</td>\n",
       "      <td>2021-11-07</td>\n",
       "      <td>2021-11-02</td>\n",
       "      <td>34NCL</td>\n",
       "      <td>POINT (19.33289 4.5749)</td>\n",
       "    </tr>\n",
       "    <tr>\n",
       "      <th>4</th>\n",
       "      <td>5</td>\n",
       "      <td>VLmaj</td>\n",
       "      <td>Fire</td>\n",
       "      <td>2022-05-18</td>\n",
       "      <td>2022-05-11</td>\n",
       "      <td>50VMR</td>\n",
       "      <td>POINT (115.61901 63.10809)</td>\n",
       "    </tr>\n",
       "  </tbody>\n",
       "</table>\n",
       "</div>"
      ],
      "text/plain": [
       "   site_id change_label       change_type change_time last_observation_time  \\\n",
       "0        1        VLmaj  Natural browning  2021-10-08                   NaT   \n",
       "1        2     noChange         No Change         NaT                   NaT   \n",
       "2        3        VLmin  Natural browning  2022-01-28            2022-01-06   \n",
       "3        4        VLmaj              Fire  2021-11-07            2021-11-02   \n",
       "4        5        VLmaj              Fire  2022-05-18            2022-05-11   \n",
       "\n",
       "  mgrs_tile_id                     geometry  \n",
       "0        22KCV  POINT (-52.37979 -23.29715)  \n",
       "1        52JEN  POINT (129.85033 -29.57724)  \n",
       "2        14SNC     POINT (-98.60056 33.771)  \n",
       "3        34NCL      POINT (19.33289 4.5749)  \n",
       "4        50VMR   POINT (115.61901 63.10809)  "
      ]
     },
     "execution_count": 8,
     "metadata": {},
     "output_type": "execute_result"
    }
   ],
   "source": [
    "df_site = gpd.read_file('../3_dist_sites/dist_hls_val_sites.geojson')\n",
    "df_site.head()"
   ]
  },
  {
   "cell_type": "markdown",
   "id": "7cffb7f3-52e9-4893-bb1d-f499dfd8302d",
   "metadata": {},
   "source": [
    "# Get Actual Coverage"
   ]
  },
  {
   "cell_type": "code",
   "execution_count": 9,
   "id": "be641347-1d0d-477f-8f36-5f31556319e1",
   "metadata": {},
   "outputs": [
    {
     "data": {
      "text/html": [
       "<div>\n",
       "<style scoped>\n",
       "    .dataframe tbody tr th:only-of-type {\n",
       "        vertical-align: middle;\n",
       "    }\n",
       "\n",
       "    .dataframe tbody tr th {\n",
       "        vertical-align: top;\n",
       "    }\n",
       "\n",
       "    .dataframe thead th {\n",
       "        text-align: right;\n",
       "    }\n",
       "</style>\n",
       "<table border=\"1\" class=\"dataframe\">\n",
       "  <thead>\n",
       "    <tr style=\"text-align: right;\">\n",
       "      <th></th>\n",
       "      <th>rtc_s1_id</th>\n",
       "      <th>input_slc_id</th>\n",
       "      <th>jpl_burst_id</th>\n",
       "      <th>bursts_per_slc_input</th>\n",
       "      <th>rtc_s1_vv_url</th>\n",
       "      <th>rtc_s1_vh_url</th>\n",
       "      <th>rtc_s1_h5_url</th>\n",
       "      <th>acq_datetime</th>\n",
       "    </tr>\n",
       "  </thead>\n",
       "  <tbody>\n",
       "    <tr>\n",
       "      <th>0</th>\n",
       "      <td>OPERA_L2_RTC-S1_T005-008688-IW2_20201010T00400...</td>\n",
       "      <td>S1A_IW_SLC__1SDV_20201010T004001_20201010T0040...</td>\n",
       "      <td>T005-008688-IW2</td>\n",
       "      <td>27</td>\n",
       "      <td>https://opera-pst-rs-pop1.s3.us-west-2.amazona...</td>\n",
       "      <td>https://opera-pst-rs-pop1.s3.us-west-2.amazona...</td>\n",
       "      <td>https://opera-pst-rs-pop1.s3.us-west-2.amazona...</td>\n",
       "      <td>2020-10-10 00:40:01</td>\n",
       "    </tr>\n",
       "    <tr>\n",
       "      <th>66</th>\n",
       "      <td>OPERA_L2_RTC-S1_T005-008688-IW3_20201010T00400...</td>\n",
       "      <td>S1A_IW_SLC__1SDV_20201010T004001_20201010T0040...</td>\n",
       "      <td>T005-008688-IW3</td>\n",
       "      <td>27</td>\n",
       "      <td>https://opera-pst-rs-pop1.s3.us-west-2.amazona...</td>\n",
       "      <td>https://opera-pst-rs-pop1.s3.us-west-2.amazona...</td>\n",
       "      <td>https://opera-pst-rs-pop1.s3.us-west-2.amazona...</td>\n",
       "      <td>2020-10-10 00:40:01</td>\n",
       "    </tr>\n",
       "    <tr>\n",
       "      <th>132</th>\n",
       "      <td>OPERA_L2_RTC-S1_T005-008689-IW1_20201010T00400...</td>\n",
       "      <td>S1A_IW_SLC__1SDV_20201010T004001_20201010T0040...</td>\n",
       "      <td>T005-008689-IW1</td>\n",
       "      <td>27</td>\n",
       "      <td>https://opera-pst-rs-pop1.s3.us-west-2.amazona...</td>\n",
       "      <td>https://opera-pst-rs-pop1.s3.us-west-2.amazona...</td>\n",
       "      <td>https://opera-pst-rs-pop1.s3.us-west-2.amazona...</td>\n",
       "      <td>2020-10-10 00:40:01</td>\n",
       "    </tr>\n",
       "    <tr>\n",
       "      <th>198</th>\n",
       "      <td>OPERA_L2_RTC-S1_T005-008689-IW2_20201010T00400...</td>\n",
       "      <td>S1A_IW_SLC__1SDV_20201010T004001_20201010T0040...</td>\n",
       "      <td>T005-008689-IW2</td>\n",
       "      <td>27</td>\n",
       "      <td>https://opera-pst-rs-pop1.s3.us-west-2.amazona...</td>\n",
       "      <td>https://opera-pst-rs-pop1.s3.us-west-2.amazona...</td>\n",
       "      <td>https://opera-pst-rs-pop1.s3.us-west-2.amazona...</td>\n",
       "      <td>2020-10-10 00:40:01</td>\n",
       "    </tr>\n",
       "    <tr>\n",
       "      <th>264</th>\n",
       "      <td>OPERA_L2_RTC-S1_T005-008689-IW3_20201010T00400...</td>\n",
       "      <td>S1A_IW_SLC__1SDV_20201010T004001_20201010T0040...</td>\n",
       "      <td>T005-008689-IW3</td>\n",
       "      <td>27</td>\n",
       "      <td>https://opera-pst-rs-pop1.s3.us-west-2.amazona...</td>\n",
       "      <td>https://opera-pst-rs-pop1.s3.us-west-2.amazona...</td>\n",
       "      <td>https://opera-pst-rs-pop1.s3.us-west-2.amazona...</td>\n",
       "      <td>2020-10-10 00:40:01</td>\n",
       "    </tr>\n",
       "  </tbody>\n",
       "</table>\n",
       "</div>"
      ],
      "text/plain": [
       "                                             rtc_s1_id  \\\n",
       "0    OPERA_L2_RTC-S1_T005-008688-IW2_20201010T00400...   \n",
       "66   OPERA_L2_RTC-S1_T005-008688-IW3_20201010T00400...   \n",
       "132  OPERA_L2_RTC-S1_T005-008689-IW1_20201010T00400...   \n",
       "198  OPERA_L2_RTC-S1_T005-008689-IW2_20201010T00400...   \n",
       "264  OPERA_L2_RTC-S1_T005-008689-IW3_20201010T00400...   \n",
       "\n",
       "                                          input_slc_id     jpl_burst_id  \\\n",
       "0    S1A_IW_SLC__1SDV_20201010T004001_20201010T0040...  T005-008688-IW2   \n",
       "66   S1A_IW_SLC__1SDV_20201010T004001_20201010T0040...  T005-008688-IW3   \n",
       "132  S1A_IW_SLC__1SDV_20201010T004001_20201010T0040...  T005-008689-IW1   \n",
       "198  S1A_IW_SLC__1SDV_20201010T004001_20201010T0040...  T005-008689-IW2   \n",
       "264  S1A_IW_SLC__1SDV_20201010T004001_20201010T0040...  T005-008689-IW3   \n",
       "\n",
       "     bursts_per_slc_input                                      rtc_s1_vv_url  \\\n",
       "0                      27  https://opera-pst-rs-pop1.s3.us-west-2.amazona...   \n",
       "66                     27  https://opera-pst-rs-pop1.s3.us-west-2.amazona...   \n",
       "132                    27  https://opera-pst-rs-pop1.s3.us-west-2.amazona...   \n",
       "198                    27  https://opera-pst-rs-pop1.s3.us-west-2.amazona...   \n",
       "264                    27  https://opera-pst-rs-pop1.s3.us-west-2.amazona...   \n",
       "\n",
       "                                         rtc_s1_vh_url  \\\n",
       "0    https://opera-pst-rs-pop1.s3.us-west-2.amazona...   \n",
       "66   https://opera-pst-rs-pop1.s3.us-west-2.amazona...   \n",
       "132  https://opera-pst-rs-pop1.s3.us-west-2.amazona...   \n",
       "198  https://opera-pst-rs-pop1.s3.us-west-2.amazona...   \n",
       "264  https://opera-pst-rs-pop1.s3.us-west-2.amazona...   \n",
       "\n",
       "                                         rtc_s1_h5_url         acq_datetime  \n",
       "0    https://opera-pst-rs-pop1.s3.us-west-2.amazona...  2020-10-10 00:40:01  \n",
       "66   https://opera-pst-rs-pop1.s3.us-west-2.amazona...  2020-10-10 00:40:01  \n",
       "132  https://opera-pst-rs-pop1.s3.us-west-2.amazona...  2020-10-10 00:40:01  \n",
       "198  https://opera-pst-rs-pop1.s3.us-west-2.amazona...  2020-10-10 00:40:01  \n",
       "264  https://opera-pst-rs-pop1.s3.us-west-2.amazona...  2020-10-10 00:40:01  "
      ]
     },
     "execution_count": 9,
     "metadata": {},
     "output_type": "execute_result"
    }
   ],
   "source": [
    "df_rtc_first = df_rtc.groupby(['jpl_burst_id']).head(1)\n",
    "df_rtc_first.head()"
   ]
  },
  {
   "cell_type": "code",
   "execution_count": 10,
   "id": "4621d389-c0a3-4686-8e47-b0200fddd90a",
   "metadata": {},
   "outputs": [
    {
     "data": {
      "text/plain": [
       "(<POLYGON ((612780 1916070, 612780 1916040, 612630 1916040, 612630 1916010, 6...>,\n",
       " CRS.from_epsg(32614))"
      ]
     },
     "execution_count": 10,
     "metadata": {},
     "output_type": "execute_result"
    }
   ],
   "source": [
    "def get_coverage_geo(url: str) -> Polygon:\n",
    "    with rasterio.open(url) as ds:\n",
    "        mask = ds.read_masks(1).astype(np.uint8)\n",
    "        transform = ds.transform\n",
    "        crs = ds.crs\n",
    "    t = nd.binary_dilation(mask, iterations=6)\n",
    "    mask = nd.binary_erosion(t, iterations=6).astype(np.uint8)\n",
    "    # fill in small nodata\n",
    "    mask = nd.binary_dilation(mask, iterations=6)\n",
    "    mask = nd.binary_erosion(mask, iterations=6).astype(np.uint8)\n",
    "\n",
    "    # Get features as geometric shape\n",
    "    polys = list(features.shapes(1-mask, mask=(mask.astype(bool)), transform=transform))\n",
    "    geo = shape(polys[0][0])\n",
    "    return geo, crs\n",
    "\n",
    "geo_cov, crs = get_coverage_geo(df_rtc_first.rtc_s1_vh_url.tolist()[5])\n",
    "geo_cov, crs"
   ]
  },
  {
   "cell_type": "code",
   "execution_count": 12,
   "id": "3de75238-1482-4f60-8040-fb44470f6883",
   "metadata": {},
   "outputs": [
    {
     "data": {
      "application/vnd.jupyter.widget-view+json": {
       "model_id": "7c0a6928389e4d2dac785ab666fdc571",
       "version_major": 2,
       "version_minor": 0
      },
      "text/plain": [
       "  0%|                                        | 0/3429 [00:00<?, ?it/s]"
      ]
     },
     "metadata": {},
     "output_type": "display_data"
    }
   ],
   "source": [
    "with WorkerPool(n_jobs=15, use_dill=True) as pool:\n",
    "    data = pool.map(\n",
    "        get_coverage_geo, df_rtc_first.rtc_s1_vh_url.tolist(), progress_bar=True, progress_bar_style='notebook'\n",
    "    )"
   ]
  },
  {
   "cell_type": "code",
   "execution_count": 13,
   "id": "d30d1fba-8e04-4b06-b232-d906992b92e6",
   "metadata": {},
   "outputs": [
    {
     "data": {
      "image/svg+xml": [
       "<svg xmlns=\"http://www.w3.org/2000/svg\" xmlns:xlink=\"http://www.w3.org/1999/xlink\" width=\"300\" height=\"300\" viewBox=\"610713.6 1861053.6 101152.80000000005 45352.799999999814\" preserveAspectRatio=\"xMinYMin meet\"><g transform=\"matrix(1,0,0,-1,0,3767460.0)\"><path fill-rule=\"evenodd\" fill=\"#66cc99\" stroke=\"#555555\" stroke-width=\"674.3520000000003\" opacity=\"0.6\" d=\"M 703980.0,1902660.0 L 703980.0,1902630.0 L 703830.0,1902630.0 L 703830.0,1902600.0 L 703680.0,1902600.0 L 703680.0,1902570.0 L 703530.0,1902570.0 L 703530.0,1902540.0 L 703380.0,1902540.0 L 703380.0,1902510.0 L 703230.0,1902510.0 L 703230.0,1902480.0 L 703080.0,1902480.0 L 703080.0,1902450.0 L 702930.0,1902450.0 L 702930.0,1902420.0 L 702780.0,1902420.0 L 702780.0,1902390.0 L 702630.0,1902390.0 L 702630.0,1902360.0 L 702480.0,1902360.0 L 702480.0,1902330.0 L 702330.0,1902330.0 L 702330.0,1902300.0 L 702210.0,1902300.0 L 702210.0,1902270.0 L 702030.0,1902270.0 L 702030.0,1902240.0 L 701910.0,1902240.0 L 701910.0,1902210.0 L 701730.0,1902210.0 L 701730.0,1902180.0 L 701610.0,1902180.0 L 701610.0,1902150.0 L 701460.0,1902150.0 L 701460.0,1902120.0 L 701310.0,1902120.0 L 701310.0,1902090.0 L 701160.0,1902090.0 L 701160.0,1902060.0 L 701010.0,1902060.0 L 701010.0,1902030.0 L 700860.0,1902030.0 L 700860.0,1902000.0 L 700710.0,1902000.0 L 700710.0,1901970.0 L 700560.0,1901970.0 L 700560.0,1901940.0 L 700410.0,1901940.0 L 700410.0,1901910.0 L 700260.0,1901910.0 L 700260.0,1901880.0 L 700110.0,1901880.0 L 700110.0,1901850.0 L 699960.0,1901850.0 L 699960.0,1901820.0 L 699810.0,1901820.0 L 699810.0,1901790.0 L 699660.0,1901790.0 L 699660.0,1901760.0 L 699510.0,1901760.0 L 699510.0,1901730.0 L 699360.0,1901730.0 L 699360.0,1901700.0 L 699210.0,1901700.0 L 699210.0,1901670.0 L 699060.0,1901670.0 L 699060.0,1901640.0 L 698910.0,1901640.0 L 698910.0,1901610.0 L 698760.0,1901610.0 L 698760.0,1901580.0 L 698610.0,1901580.0 L 698610.0,1901550.0 L 698460.0,1901550.0 L 698460.0,1901520.0 L 698310.0,1901520.0 L 698310.0,1901490.0 L 698160.0,1901490.0 L 698160.0,1901460.0 L 698010.0,1901460.0 L 698010.0,1901430.0 L 697860.0,1901430.0 L 697860.0,1901400.0 L 697710.0,1901400.0 L 697710.0,1901370.0 L 697560.0,1901370.0 L 697560.0,1901340.0 L 697410.0,1901340.0 L 697410.0,1901310.0 L 697260.0,1901310.0 L 697260.0,1901280.0 L 697110.0,1901280.0 L 697110.0,1901250.0 L 696960.0,1901250.0 L 696960.0,1901220.0 L 696810.0,1901220.0 L 696810.0,1901190.0 L 696660.0,1901190.0 L 696660.0,1901160.0 L 696510.0,1901160.0 L 696510.0,1901130.0 L 696360.0,1901130.0 L 696360.0,1901100.0 L 696210.0,1901100.0 L 696210.0,1901070.0 L 696060.0,1901070.0 L 696060.0,1901040.0 L 695910.0,1901040.0 L 695910.0,1901010.0 L 695760.0,1901010.0 L 695760.0,1900980.0 L 695610.0,1900980.0 L 695610.0,1900950.0 L 695460.0,1900950.0 L 695460.0,1900920.0 L 695310.0,1900920.0 L 695310.0,1900890.0 L 695160.0,1900890.0 L 695160.0,1900860.0 L 695010.0,1900860.0 L 695010.0,1900830.0 L 694860.0,1900830.0 L 694860.0,1900800.0 L 694710.0,1900800.0 L 694710.0,1900770.0 L 694560.0,1900770.0 L 694560.0,1900740.0 L 694410.0,1900740.0 L 694410.0,1900710.0 L 694260.0,1900710.0 L 694260.0,1900680.0 L 694110.0,1900680.0 L 694110.0,1900650.0 L 693960.0,1900650.0 L 693960.0,1900620.0 L 693810.0,1900620.0 L 693810.0,1900590.0 L 693660.0,1900590.0 L 693660.0,1900560.0 L 693510.0,1900560.0 L 693510.0,1900530.0 L 693360.0,1900530.0 L 693360.0,1900500.0 L 693210.0,1900500.0 L 693210.0,1900470.0 L 693060.0,1900470.0 L 693060.0,1900440.0 L 692910.0,1900440.0 L 692910.0,1900410.0 L 692790.0,1900410.0 L 692790.0,1900380.0 L 692760.0,1900380.0 L 692760.0,1900350.0 L 692730.0,1900350.0 L 692730.0,1900380.0 L 692610.0,1900380.0 L 692610.0,1900350.0 L 692460.0,1900350.0 L 692460.0,1900320.0 L 692310.0,1900320.0 L 692310.0,1900290.0 L 692160.0,1900290.0 L 692160.0,1900260.0 L 692010.0,1900260.0 L 692010.0,1900230.0 L 691860.0,1900230.0 L 691860.0,1900200.0 L 691710.0,1900200.0 L 691710.0,1900170.0 L 691560.0,1900170.0 L 691560.0,1900140.0 L 691410.0,1900140.0 L 691410.0,1900110.0 L 691260.0,1900110.0 L 691260.0,1900080.0 L 691110.0,1900080.0 L 691110.0,1900050.0 L 690960.0,1900050.0 L 690960.0,1900020.0 L 690810.0,1900020.0 L 690810.0,1899990.0 L 690690.0,1899990.0 L 690690.0,1899960.0 L 690540.0,1899960.0 L 690540.0,1899930.0 L 690360.0,1899930.0 L 690360.0,1899900.0 L 690240.0,1899900.0 L 690240.0,1899870.0 L 690090.0,1899870.0 L 690090.0,1899840.0 L 689910.0,1899840.0 L 689910.0,1899810.0 L 689790.0,1899810.0 L 689790.0,1899780.0 L 689640.0,1899780.0 L 689640.0,1899750.0 L 689490.0,1899750.0 L 689490.0,1899720.0 L 689340.0,1899720.0 L 689340.0,1899690.0 L 689190.0,1899690.0 L 689190.0,1899660.0 L 689040.0,1899660.0 L 689040.0,1899630.0 L 688890.0,1899630.0 L 688890.0,1899600.0 L 688740.0,1899600.0 L 688740.0,1899570.0 L 688590.0,1899570.0 L 688590.0,1899540.0 L 688440.0,1899540.0 L 688440.0,1899510.0 L 688290.0,1899510.0 L 688290.0,1899480.0 L 688140.0,1899480.0 L 688140.0,1899450.0 L 687990.0,1899450.0 L 687990.0,1899420.0 L 687840.0,1899420.0 L 687840.0,1899390.0 L 687690.0,1899390.0 L 687690.0,1899360.0 L 687540.0,1899360.0 L 687540.0,1899330.0 L 687390.0,1899330.0 L 687390.0,1899300.0 L 687240.0,1899300.0 L 687240.0,1899270.0 L 687090.0,1899270.0 L 687090.0,1899240.0 L 686940.0,1899240.0 L 686940.0,1899210.0 L 686790.0,1899210.0 L 686790.0,1899180.0 L 686640.0,1899180.0 L 686640.0,1899150.0 L 686490.0,1899150.0 L 686490.0,1899120.0 L 686340.0,1899120.0 L 686340.0,1899090.0 L 686190.0,1899090.0 L 686190.0,1899060.0 L 686040.0,1899060.0 L 686040.0,1899030.0 L 685890.0,1899030.0 L 685890.0,1899000.0 L 685860.0,1899000.0 L 685860.0,1898970.0 L 685830.0,1898970.0 L 685830.0,1898940.0 L 685800.0,1898940.0 L 685800.0,1898970.0 L 685770.0,1898970.0 L 685770.0,1899000.0 L 685740.0,1899000.0 L 685740.0,1898970.0 L 685590.0,1898970.0 L 685590.0,1898940.0 L 685440.0,1898940.0 L 685440.0,1898910.0 L 685290.0,1898910.0 L 685290.0,1898880.0 L 685140.0,1898880.0 L 685140.0,1898850.0 L 684990.0,1898850.0 L 684990.0,1898820.0 L 684840.0,1898820.0 L 684840.0,1898790.0 L 684690.0,1898790.0 L 684690.0,1898760.0 L 684540.0,1898760.0 L 684540.0,1898730.0 L 684390.0,1898730.0 L 684390.0,1898700.0 L 684240.0,1898700.0 L 684240.0,1898670.0 L 684090.0,1898670.0 L 684090.0,1898640.0 L 683970.0,1898640.0 L 683970.0,1898610.0 L 683790.0,1898610.0 L 683790.0,1898580.0 L 683640.0,1898580.0 L 683640.0,1898550.0 L 683490.0,1898550.0 L 683490.0,1898520.0 L 683340.0,1898520.0 L 683340.0,1898490.0 L 683190.0,1898490.0 L 683190.0,1898460.0 L 683040.0,1898460.0 L 683040.0,1898430.0 L 682890.0,1898430.0 L 682890.0,1898400.0 L 682740.0,1898400.0 L 682740.0,1898370.0 L 682590.0,1898370.0 L 682590.0,1898340.0 L 682440.0,1898340.0 L 682440.0,1898310.0 L 682290.0,1898310.0 L 682290.0,1898280.0 L 682140.0,1898280.0 L 682140.0,1898250.0 L 681990.0,1898250.0 L 681990.0,1898220.0 L 681840.0,1898220.0 L 681840.0,1898190.0 L 681690.0,1898190.0 L 681690.0,1898160.0 L 681540.0,1898160.0 L 681540.0,1898130.0 L 681390.0,1898130.0 L 681390.0,1898100.0 L 681240.0,1898100.0 L 681240.0,1898070.0 L 681090.0,1898070.0 L 681090.0,1898040.0 L 680940.0,1898040.0 L 680940.0,1898010.0 L 680790.0,1898010.0 L 680790.0,1897980.0 L 680640.0,1897980.0 L 680640.0,1897950.0 L 680490.0,1897950.0 L 680490.0,1897920.0 L 680340.0,1897920.0 L 680340.0,1897890.0 L 680190.0,1897890.0 L 680190.0,1897860.0 L 680040.0,1897860.0 L 680040.0,1897830.0 L 679920.0,1897830.0 L 679920.0,1897800.0 L 679740.0,1897800.0 L 679740.0,1897770.0 L 679590.0,1897770.0 L 679590.0,1897740.0 L 679440.0,1897740.0 L 679440.0,1897710.0 L 679290.0,1897710.0 L 679290.0,1897680.0 L 679140.0,1897680.0 L 679140.0,1897650.0 L 678990.0,1897650.0 L 678990.0,1897620.0 L 678870.0,1897620.0 L 678870.0,1897590.0 L 678690.0,1897590.0 L 678690.0,1897560.0 L 678570.0,1897560.0 L 678570.0,1897530.0 L 678420.0,1897530.0 L 678420.0,1897500.0 L 678270.0,1897500.0 L 678270.0,1897470.0 L 678120.0,1897470.0 L 678120.0,1897440.0 L 677970.0,1897440.0 L 677970.0,1897410.0 L 677820.0,1897410.0 L 677820.0,1897380.0 L 677670.0,1897380.0 L 677670.0,1897350.0 L 677520.0,1897350.0 L 677520.0,1897320.0 L 677370.0,1897320.0 L 677370.0,1897290.0 L 677190.0,1897290.0 L 677190.0,1897260.0 L 677070.0,1897260.0 L 677070.0,1897230.0 L 676920.0,1897230.0 L 676920.0,1897200.0 L 676770.0,1897200.0 L 676770.0,1897170.0 L 676620.0,1897170.0 L 676620.0,1897140.0 L 676470.0,1897140.0 L 676470.0,1897110.0 L 676320.0,1897110.0 L 676320.0,1897080.0 L 676170.0,1897080.0 L 676170.0,1897050.0 L 676020.0,1897050.0 L 676020.0,1897020.0 L 675870.0,1897020.0 L 675870.0,1896990.0 L 675720.0,1896990.0 L 675720.0,1896960.0 L 675570.0,1896960.0 L 675570.0,1896930.0 L 675420.0,1896930.0 L 675420.0,1896900.0 L 675270.0,1896900.0 L 675270.0,1896870.0 L 675120.0,1896870.0 L 675120.0,1896840.0 L 674970.0,1896840.0 L 674970.0,1896810.0 L 674820.0,1896810.0 L 674820.0,1896780.0 L 674670.0,1896780.0 L 674670.0,1896750.0 L 674520.0,1896750.0 L 674520.0,1896720.0 L 674370.0,1896720.0 L 674370.0,1896690.0 L 674220.0,1896690.0 L 674220.0,1896660.0 L 674070.0,1896660.0 L 674070.0,1896630.0 L 673920.0,1896630.0 L 673920.0,1896600.0 L 673770.0,1896600.0 L 673770.0,1896570.0 L 673620.0,1896570.0 L 673620.0,1896540.0 L 673470.0,1896540.0 L 673470.0,1896510.0 L 673320.0,1896510.0 L 673320.0,1896480.0 L 673170.0,1896480.0 L 673170.0,1896450.0 L 673020.0,1896450.0 L 673020.0,1896420.0 L 672870.0,1896420.0 L 672870.0,1896390.0 L 672720.0,1896390.0 L 672720.0,1896360.0 L 672570.0,1896360.0 L 672570.0,1896330.0 L 672420.0,1896330.0 L 672420.0,1896300.0 L 672270.0,1896300.0 L 672270.0,1896270.0 L 672120.0,1896270.0 L 672120.0,1896240.0 L 671970.0,1896240.0 L 671970.0,1896210.0 L 671820.0,1896210.0 L 671820.0,1896180.0 L 671670.0,1896180.0 L 671670.0,1896150.0 L 671520.0,1896150.0 L 671520.0,1896120.0 L 671370.0,1896120.0 L 671370.0,1896090.0 L 671220.0,1896090.0 L 671220.0,1896060.0 L 671070.0,1896060.0 L 671070.0,1896030.0 L 670920.0,1896030.0 L 670920.0,1896000.0 L 670770.0,1896000.0 L 670770.0,1895970.0 L 670620.0,1895970.0 L 670620.0,1895940.0 L 670470.0,1895940.0 L 670470.0,1895910.0 L 670320.0,1895910.0 L 670320.0,1895880.0 L 670170.0,1895880.0 L 670170.0,1895850.0 L 670020.0,1895850.0 L 670020.0,1895820.0 L 669870.0,1895820.0 L 669870.0,1895790.0 L 669720.0,1895790.0 L 669720.0,1895760.0 L 669570.0,1895760.0 L 669570.0,1895730.0 L 669420.0,1895730.0 L 669420.0,1895700.0 L 669270.0,1895700.0 L 669270.0,1895670.0 L 669120.0,1895670.0 L 669120.0,1895640.0 L 668970.0,1895640.0 L 668970.0,1895610.0 L 668820.0,1895610.0 L 668820.0,1895580.0 L 668670.0,1895580.0 L 668670.0,1895550.0 L 668520.0,1895550.0 L 668520.0,1895520.0 L 668370.0,1895520.0 L 668370.0,1895490.0 L 668220.0,1895490.0 L 668220.0,1895460.0 L 668070.0,1895460.0 L 668070.0,1895430.0 L 667920.0,1895430.0 L 667920.0,1895400.0 L 667770.0,1895400.0 L 667770.0,1895370.0 L 667620.0,1895370.0 L 667620.0,1895340.0 L 667470.0,1895340.0 L 667470.0,1895310.0 L 667320.0,1895310.0 L 667320.0,1895280.0 L 667200.0,1895280.0 L 667200.0,1895250.0 L 667050.0,1895250.0 L 667050.0,1895220.0 L 666900.0,1895220.0 L 666900.0,1895190.0 L 666750.0,1895190.0 L 666750.0,1895160.0 L 666600.0,1895160.0 L 666600.0,1895130.0 L 666450.0,1895130.0 L 666450.0,1895100.0 L 666300.0,1895100.0 L 666300.0,1895070.0 L 666150.0,1895070.0 L 666150.0,1895040.0 L 666000.0,1895040.0 L 666000.0,1895010.0 L 665850.0,1895010.0 L 665850.0,1894980.0 L 665700.0,1894980.0 L 665700.0,1894950.0 L 665550.0,1894950.0 L 665550.0,1894920.0 L 665400.0,1894920.0 L 665400.0,1894890.0 L 665250.0,1894890.0 L 665250.0,1894860.0 L 665100.0,1894860.0 L 665100.0,1894830.0 L 664950.0,1894830.0 L 664950.0,1894800.0 L 664800.0,1894800.0 L 664800.0,1894770.0 L 664650.0,1894770.0 L 664650.0,1894740.0 L 664500.0,1894740.0 L 664500.0,1894710.0 L 664350.0,1894710.0 L 664350.0,1894680.0 L 664200.0,1894680.0 L 664200.0,1894650.0 L 664050.0,1894650.0 L 664050.0,1894620.0 L 663900.0,1894620.0 L 663900.0,1894590.0 L 663750.0,1894590.0 L 663750.0,1894560.0 L 663600.0,1894560.0 L 663600.0,1894530.0 L 663450.0,1894530.0 L 663450.0,1894500.0 L 663300.0,1894500.0 L 663300.0,1894470.0 L 663150.0,1894470.0 L 663150.0,1894440.0 L 663000.0,1894440.0 L 663000.0,1894410.0 L 662850.0,1894410.0 L 662850.0,1894380.0 L 662700.0,1894380.0 L 662700.0,1894350.0 L 662550.0,1894350.0 L 662550.0,1894320.0 L 662400.0,1894320.0 L 662400.0,1894290.0 L 662250.0,1894290.0 L 662250.0,1894260.0 L 662100.0,1894260.0 L 662100.0,1894230.0 L 661950.0,1894230.0 L 661950.0,1894200.0 L 661800.0,1894200.0 L 661800.0,1894170.0 L 661650.0,1894170.0 L 661650.0,1894140.0 L 661500.0,1894140.0 L 661500.0,1894110.0 L 661350.0,1894110.0 L 661350.0,1894080.0 L 661200.0,1894080.0 L 661200.0,1894050.0 L 661050.0,1894050.0 L 661050.0,1894020.0 L 660900.0,1894020.0 L 660900.0,1893990.0 L 660750.0,1893990.0 L 660750.0,1893960.0 L 660600.0,1893960.0 L 660600.0,1893930.0 L 660450.0,1893930.0 L 660450.0,1893900.0 L 660300.0,1893900.0 L 660300.0,1893870.0 L 660150.0,1893870.0 L 660150.0,1893840.0 L 660000.0,1893840.0 L 660000.0,1893810.0 L 659850.0,1893810.0 L 659850.0,1893780.0 L 659700.0,1893780.0 L 659700.0,1893750.0 L 659550.0,1893750.0 L 659550.0,1893720.0 L 659400.0,1893720.0 L 659400.0,1893690.0 L 659250.0,1893690.0 L 659250.0,1893660.0 L 659100.0,1893660.0 L 659100.0,1893630.0 L 658950.0,1893630.0 L 658950.0,1893600.0 L 658800.0,1893600.0 L 658800.0,1893570.0 L 658650.0,1893570.0 L 658650.0,1893540.0 L 658500.0,1893540.0 L 658500.0,1893510.0 L 658350.0,1893510.0 L 658350.0,1893480.0 L 658200.0,1893480.0 L 658200.0,1893450.0 L 658050.0,1893450.0 L 658050.0,1893420.0 L 657900.0,1893420.0 L 657900.0,1893390.0 L 657750.0,1893390.0 L 657750.0,1893360.0 L 657600.0,1893360.0 L 657600.0,1893330.0 L 657450.0,1893330.0 L 657450.0,1893300.0 L 657300.0,1893300.0 L 657300.0,1893270.0 L 657150.0,1893270.0 L 657150.0,1893240.0 L 657000.0,1893240.0 L 657000.0,1893210.0 L 656850.0,1893210.0 L 656850.0,1893180.0 L 656700.0,1893180.0 L 656700.0,1893150.0 L 656550.0,1893150.0 L 656550.0,1893120.0 L 656400.0,1893120.0 L 656400.0,1893090.0 L 656250.0,1893090.0 L 656250.0,1893060.0 L 656100.0,1893060.0 L 656100.0,1893030.0 L 655980.0,1893030.0 L 655980.0,1893000.0 L 655800.0,1893000.0 L 655800.0,1892970.0 L 655650.0,1892970.0 L 655650.0,1892940.0 L 655500.0,1892940.0 L 655500.0,1892910.0 L 655380.0,1892910.0 L 655380.0,1892880.0 L 655230.0,1892880.0 L 655230.0,1892850.0 L 655050.0,1892850.0 L 655050.0,1892820.0 L 654900.0,1892820.0 L 654900.0,1892790.0 L 654780.0,1892790.0 L 654780.0,1892760.0 L 654630.0,1892760.0 L 654630.0,1892730.0 L 654450.0,1892730.0 L 654450.0,1892700.0 L 654300.0,1892700.0 L 654300.0,1892670.0 L 654180.0,1892670.0 L 654180.0,1892640.0 L 654030.0,1892640.0 L 654030.0,1892610.0 L 653880.0,1892610.0 L 653880.0,1892580.0 L 653730.0,1892580.0 L 653730.0,1892550.0 L 653580.0,1892550.0 L 653580.0,1892520.0 L 653430.0,1892520.0 L 653430.0,1892490.0 L 653280.0,1892490.0 L 653280.0,1892460.0 L 653130.0,1892460.0 L 653130.0,1892430.0 L 652980.0,1892430.0 L 652980.0,1892400.0 L 652830.0,1892400.0 L 652830.0,1892370.0 L 652680.0,1892370.0 L 652680.0,1892340.0 L 652530.0,1892340.0 L 652530.0,1892310.0 L 652380.0,1892310.0 L 652380.0,1892280.0 L 652230.0,1892280.0 L 652230.0,1892250.0 L 652080.0,1892250.0 L 652080.0,1892220.0 L 651930.0,1892220.0 L 651930.0,1892190.0 L 651780.0,1892190.0 L 651780.0,1892160.0 L 651630.0,1892160.0 L 651630.0,1892130.0 L 651480.0,1892130.0 L 651480.0,1892100.0 L 651330.0,1892100.0 L 651330.0,1892070.0 L 651180.0,1892070.0 L 651180.0,1892040.0 L 651030.0,1892040.0 L 651030.0,1892010.0 L 650880.0,1892010.0 L 650880.0,1891980.0 L 650730.0,1891980.0 L 650730.0,1891950.0 L 650580.0,1891950.0 L 650580.0,1891920.0 L 650430.0,1891920.0 L 650430.0,1891890.0 L 650280.0,1891890.0 L 650280.0,1891860.0 L 650130.0,1891860.0 L 650130.0,1891830.0 L 649980.0,1891830.0 L 649980.0,1891800.0 L 649830.0,1891800.0 L 649830.0,1891770.0 L 649680.0,1891770.0 L 649680.0,1891740.0 L 649530.0,1891740.0 L 649530.0,1891710.0 L 649380.0,1891710.0 L 649380.0,1891680.0 L 649230.0,1891680.0 L 649230.0,1891650.0 L 649080.0,1891650.0 L 649080.0,1891620.0 L 648930.0,1891620.0 L 648930.0,1891590.0 L 648780.0,1891590.0 L 648780.0,1891560.0 L 648630.0,1891560.0 L 648630.0,1891530.0 L 648480.0,1891530.0 L 648480.0,1891500.0 L 648330.0,1891500.0 L 648330.0,1891470.0 L 648180.0,1891470.0 L 648180.0,1891440.0 L 648030.0,1891440.0 L 648030.0,1891410.0 L 647880.0,1891410.0 L 647880.0,1891380.0 L 647730.0,1891380.0 L 647730.0,1891350.0 L 647580.0,1891350.0 L 647580.0,1891320.0 L 647430.0,1891320.0 L 647430.0,1891290.0 L 647280.0,1891290.0 L 647280.0,1891260.0 L 647130.0,1891260.0 L 647130.0,1891230.0 L 646980.0,1891230.0 L 646980.0,1891200.0 L 646830.0,1891200.0 L 646830.0,1891170.0 L 646680.0,1891170.0 L 646680.0,1891140.0 L 646530.0,1891140.0 L 646530.0,1891110.0 L 646380.0,1891110.0 L 646380.0,1891080.0 L 646230.0,1891080.0 L 646230.0,1891050.0 L 646080.0,1891050.0 L 646080.0,1891020.0 L 645930.0,1891020.0 L 645930.0,1890990.0 L 645780.0,1890990.0 L 645780.0,1890960.0 L 645630.0,1890960.0 L 645630.0,1890930.0 L 645480.0,1890930.0 L 645480.0,1890900.0 L 645330.0,1890900.0 L 645330.0,1890870.0 L 645180.0,1890870.0 L 645180.0,1890840.0 L 645030.0,1890840.0 L 645030.0,1890810.0 L 644880.0,1890810.0 L 644880.0,1890780.0 L 644760.0,1890780.0 L 644760.0,1890750.0 L 644580.0,1890750.0 L 644580.0,1890720.0 L 644430.0,1890720.0 L 644430.0,1890690.0 L 644280.0,1890690.0 L 644280.0,1890660.0 L 644160.0,1890660.0 L 644160.0,1890630.0 L 643980.0,1890630.0 L 643980.0,1890600.0 L 643830.0,1890600.0 L 643830.0,1890570.0 L 643680.0,1890570.0 L 643680.0,1890540.0 L 643560.0,1890540.0 L 643560.0,1890510.0 L 643380.0,1890510.0 L 643380.0,1890480.0 L 643260.0,1890480.0 L 643260.0,1890450.0 L 643110.0,1890450.0 L 643110.0,1890420.0 L 642930.0,1890420.0 L 642930.0,1890390.0 L 642780.0,1890390.0 L 642780.0,1890360.0 L 642660.0,1890360.0 L 642660.0,1890330.0 L 642510.0,1890330.0 L 642510.0,1890300.0 L 642360.0,1890300.0 L 642360.0,1890270.0 L 642210.0,1890270.0 L 642210.0,1890240.0 L 642060.0,1890240.0 L 642060.0,1890210.0 L 641910.0,1890210.0 L 641910.0,1890180.0 L 641730.0,1890180.0 L 641730.0,1890150.0 L 641610.0,1890150.0 L 641610.0,1890120.0 L 641460.0,1890120.0 L 641460.0,1890090.0 L 641310.0,1890090.0 L 641310.0,1890060.0 L 641160.0,1890060.0 L 641160.0,1890030.0 L 641010.0,1890030.0 L 641010.0,1890000.0 L 640860.0,1890000.0 L 640860.0,1889970.0 L 640710.0,1889970.0 L 640710.0,1889940.0 L 640560.0,1889940.0 L 640560.0,1889910.0 L 640410.0,1889910.0 L 640410.0,1889880.0 L 640260.0,1889880.0 L 640260.0,1889850.0 L 640110.0,1889850.0 L 640110.0,1889820.0 L 639960.0,1889820.0 L 639960.0,1889790.0 L 639810.0,1889790.0 L 639810.0,1889760.0 L 639660.0,1889760.0 L 639660.0,1889730.0 L 639510.0,1889730.0 L 639510.0,1889700.0 L 639360.0,1889700.0 L 639360.0,1889670.0 L 639210.0,1889670.0 L 639210.0,1889640.0 L 639060.0,1889640.0 L 639060.0,1889610.0 L 638910.0,1889610.0 L 638910.0,1889580.0 L 638760.0,1889580.0 L 638760.0,1889550.0 L 638610.0,1889550.0 L 638610.0,1889520.0 L 638460.0,1889520.0 L 638460.0,1889490.0 L 638310.0,1889490.0 L 638310.0,1889460.0 L 638160.0,1889460.0 L 638160.0,1889430.0 L 638010.0,1889430.0 L 638010.0,1889400.0 L 637860.0,1889400.0 L 637860.0,1889370.0 L 637710.0,1889370.0 L 637710.0,1889340.0 L 637560.0,1889340.0 L 637560.0,1889310.0 L 637410.0,1889310.0 L 637410.0,1889280.0 L 637260.0,1889280.0 L 637260.0,1889250.0 L 637110.0,1889250.0 L 637110.0,1889220.0 L 636960.0,1889220.0 L 636960.0,1889190.0 L 636810.0,1889190.0 L 636810.0,1889160.0 L 636660.0,1889160.0 L 636660.0,1889130.0 L 636510.0,1889130.0 L 636510.0,1889100.0 L 636360.0,1889100.0 L 636360.0,1889070.0 L 636210.0,1889070.0 L 636210.0,1889040.0 L 636060.0,1889040.0 L 636060.0,1889010.0 L 635910.0,1889010.0 L 635910.0,1888980.0 L 635760.0,1888980.0 L 635760.0,1888950.0 L 635610.0,1888950.0 L 635610.0,1888920.0 L 635460.0,1888920.0 L 635460.0,1888890.0 L 635310.0,1888890.0 L 635310.0,1888860.0 L 635160.0,1888860.0 L 635160.0,1888830.0 L 635010.0,1888830.0 L 635010.0,1888800.0 L 634860.0,1888800.0 L 634860.0,1888770.0 L 634710.0,1888770.0 L 634710.0,1888740.0 L 634560.0,1888740.0 L 634560.0,1888710.0 L 634410.0,1888710.0 L 634410.0,1888680.0 L 634260.0,1888680.0 L 634260.0,1888650.0 L 634110.0,1888650.0 L 634110.0,1888620.0 L 633960.0,1888620.0 L 633960.0,1888590.0 L 633810.0,1888590.0 L 633810.0,1888560.0 L 633660.0,1888560.0 L 633660.0,1888530.0 L 633540.0,1888530.0 L 633540.0,1888500.0 L 633360.0,1888500.0 L 633360.0,1888470.0 L 633210.0,1888470.0 L 633210.0,1888440.0 L 633060.0,1888440.0 L 633060.0,1888410.0 L 632910.0,1888410.0 L 632910.0,1888380.0 L 632760.0,1888380.0 L 632760.0,1888350.0 L 632640.0,1888350.0 L 632640.0,1888320.0 L 632460.0,1888320.0 L 632460.0,1888290.0 L 632310.0,1888290.0 L 632310.0,1888260.0 L 632160.0,1888260.0 L 632160.0,1888230.0 L 632010.0,1888230.0 L 632010.0,1888200.0 L 631860.0,1888200.0 L 631860.0,1888170.0 L 631710.0,1888170.0 L 631710.0,1888140.0 L 631560.0,1888140.0 L 631560.0,1888110.0 L 631410.0,1888110.0 L 631410.0,1888080.0 L 631260.0,1888080.0 L 631260.0,1888050.0 L 631110.0,1888050.0 L 631110.0,1888020.0 L 630990.0,1888020.0 L 630990.0,1887990.0 L 630810.0,1887990.0 L 630810.0,1887960.0 L 630660.0,1887960.0 L 630660.0,1887930.0 L 630540.0,1887930.0 L 630540.0,1887900.0 L 630390.0,1887900.0 L 630390.0,1887870.0 L 630240.0,1887870.0 L 630240.0,1887840.0 L 630060.0,1887840.0 L 630060.0,1887810.0 L 629940.0,1887810.0 L 629940.0,1887780.0 L 629790.0,1887780.0 L 629790.0,1887750.0 L 629640.0,1887750.0 L 629640.0,1887720.0 L 629490.0,1887720.0 L 629490.0,1887690.0 L 629340.0,1887690.0 L 629340.0,1887660.0 L 629190.0,1887660.0 L 629190.0,1887630.0 L 629040.0,1887630.0 L 629040.0,1887600.0 L 628890.0,1887600.0 L 628890.0,1887570.0 L 628740.0,1887570.0 L 628740.0,1887540.0 L 628590.0,1887540.0 L 628590.0,1887510.0 L 628440.0,1887510.0 L 628440.0,1887480.0 L 628290.0,1887480.0 L 628290.0,1887450.0 L 628140.0,1887450.0 L 628140.0,1887420.0 L 627990.0,1887420.0 L 627990.0,1887390.0 L 627840.0,1887390.0 L 627840.0,1887360.0 L 627690.0,1887360.0 L 627690.0,1887330.0 L 627540.0,1887330.0 L 627540.0,1887300.0 L 627390.0,1887300.0 L 627390.0,1887270.0 L 627240.0,1887270.0 L 627240.0,1887240.0 L 627090.0,1887240.0 L 627090.0,1887210.0 L 626940.0,1887210.0 L 626940.0,1887180.0 L 626790.0,1887180.0 L 626790.0,1887150.0 L 626640.0,1887150.0 L 626640.0,1887120.0 L 626490.0,1887120.0 L 626490.0,1887090.0 L 626340.0,1887090.0 L 626340.0,1887060.0 L 626190.0,1887060.0 L 626190.0,1887030.0 L 626040.0,1887030.0 L 626040.0,1887000.0 L 625890.0,1887000.0 L 625890.0,1886970.0 L 625740.0,1886970.0 L 625740.0,1886940.0 L 625590.0,1886940.0 L 625590.0,1886910.0 L 625410.0,1886910.0 L 625410.0,1886880.0 L 625260.0,1886880.0 L 625260.0,1886850.0 L 625140.0,1886850.0 L 625140.0,1886820.0 L 624990.0,1886820.0 L 624990.0,1886790.0 L 624840.0,1886790.0 L 624840.0,1886760.0 L 624660.0,1886760.0 L 624660.0,1886730.0 L 624540.0,1886730.0 L 624540.0,1886700.0 L 624390.0,1886700.0 L 624390.0,1886670.0 L 624240.0,1886670.0 L 624240.0,1886640.0 L 624090.0,1886640.0 L 624090.0,1886610.0 L 623940.0,1886610.0 L 623940.0,1886580.0 L 623790.0,1886580.0 L 623790.0,1886550.0 L 623640.0,1886550.0 L 623640.0,1886520.0 L 623490.0,1886520.0 L 623490.0,1886490.0 L 623340.0,1886490.0 L 623340.0,1886460.0 L 623190.0,1886460.0 L 623190.0,1886430.0 L 623040.0,1886430.0 L 623040.0,1886400.0 L 622890.0,1886400.0 L 622890.0,1886370.0 L 622740.0,1886370.0 L 622740.0,1886340.0 L 622590.0,1886340.0 L 622590.0,1886310.0 L 622440.0,1886310.0 L 622440.0,1886280.0 L 622290.0,1886280.0 L 622290.0,1886250.0 L 622140.0,1886250.0 L 622140.0,1886220.0 L 621990.0,1886220.0 L 621990.0,1886190.0 L 621840.0,1886190.0 L 621840.0,1886160.0 L 621690.0,1886160.0 L 621690.0,1886130.0 L 621540.0,1886130.0 L 621540.0,1886100.0 L 621390.0,1886100.0 L 621390.0,1886070.0 L 621240.0,1886070.0 L 621240.0,1886040.0 L 621090.0,1886040.0 L 621090.0,1886010.0 L 620940.0,1886010.0 L 620940.0,1885980.0 L 620790.0,1885980.0 L 620790.0,1885950.0 L 620640.0,1885950.0 L 620640.0,1885920.0 L 620490.0,1885920.0 L 620490.0,1885890.0 L 620340.0,1885890.0 L 620340.0,1885860.0 L 620190.0,1885860.0 L 620190.0,1885830.0 L 620040.0,1885830.0 L 620040.0,1885800.0 L 619890.0,1885800.0 L 619890.0,1885770.0 L 619740.0,1885770.0 L 619740.0,1885740.0 L 619590.0,1885740.0 L 619590.0,1885710.0 L 619440.0,1885710.0 L 619440.0,1885680.0 L 619290.0,1885680.0 L 619290.0,1885650.0 L 619140.0,1885650.0 L 619140.0,1885620.0 L 618990.0,1885620.0 L 618990.0,1885590.0 L 618840.0,1885590.0 L 618840.0,1885560.0 L 618690.0,1885560.0 L 618690.0,1885530.0 L 618540.0,1885530.0 L 618540.0,1885500.0 L 618390.0,1885500.0 L 618390.0,1885470.0 L 618240.0,1885470.0 L 618240.0,1885440.0 L 618090.0,1885440.0 L 618090.0,1885410.0 L 617940.0,1885410.0 L 617940.0,1885380.0 L 617790.0,1885380.0 L 617790.0,1885350.0 L 617640.0,1885350.0 L 617640.0,1885320.0 L 617490.0,1885320.0 L 617490.0,1885290.0 L 617340.0,1885290.0 L 617340.0,1885260.0 L 617220.0,1885260.0 L 617220.0,1885230.0 L 617040.0,1885230.0 L 617040.0,1885200.0 L 616890.0,1885200.0 L 616890.0,1885170.0 L 616740.0,1885170.0 L 616740.0,1885140.0 L 616620.0,1885140.0 L 616620.0,1885110.0 L 616440.0,1885110.0 L 616440.0,1885080.0 L 616320.0,1885080.0 L 616320.0,1885050.0 L 616170.0,1885050.0 L 616170.0,1885020.0 L 615990.0,1885020.0 L 615990.0,1884990.0 L 615870.0,1884990.0 L 615870.0,1884960.0 L 615720.0,1884960.0 L 615720.0,1884930.0 L 615570.0,1884930.0 L 615570.0,1884900.0 L 615420.0,1884900.0 L 615420.0,1884870.0 L 615270.0,1884870.0 L 615270.0,1884840.0 L 615090.0,1884840.0 L 615090.0,1884810.0 L 614970.0,1884810.0 L 614970.0,1884780.0 L 614820.0,1884780.0 L 614820.0,1884750.0 L 614670.0,1884750.0 L 614670.0,1884720.0 L 614520.0,1884720.0 L 614520.0,1884690.0 L 614460.0,1884690.0 L 614460.0,1884570.0 L 614490.0,1884570.0 L 614490.0,1884450.0 L 614460.0,1884450.0 L 614460.0,1884390.0 L 614490.0,1884390.0 L 614490.0,1884210.0 L 614520.0,1884210.0 L 614520.0,1884090.0 L 614550.0,1884090.0 L 614550.0,1883940.0 L 614580.0,1883940.0 L 614580.0,1883850.0 L 614610.0,1883850.0 L 614610.0,1883700.0 L 614640.0,1883700.0 L 614640.0,1883610.0 L 614670.0,1883610.0 L 614670.0,1883580.0 L 614700.0,1883580.0 L 614700.0,1883460.0 L 614730.0,1883460.0 L 614730.0,1883160.0 L 614760.0,1883160.0 L 614760.0,1883040.0 L 614790.0,1883040.0 L 614790.0,1882950.0 L 614820.0,1882950.0 L 614820.0,1882710.0 L 614850.0,1882710.0 L 614850.0,1882560.0 L 614880.0,1882560.0 L 614880.0,1882350.0 L 614910.0,1882350.0 L 614910.0,1882170.0 L 614940.0,1882170.0 L 614940.0,1881840.0 L 614970.0,1881840.0 L 614970.0,1881690.0 L 615000.0,1881690.0 L 615000.0,1881540.0 L 615030.0,1881540.0 L 615030.0,1881390.0 L 615060.0,1881390.0 L 615060.0,1881210.0 L 615090.0,1881210.0 L 615090.0,1881060.0 L 615120.0,1881060.0 L 615120.0,1880910.0 L 615150.0,1880910.0 L 615150.0,1880760.0 L 615180.0,1880760.0 L 615180.0,1880580.0 L 615210.0,1880580.0 L 615210.0,1880460.0 L 615240.0,1880460.0 L 615240.0,1880340.0 L 615270.0,1880340.0 L 615270.0,1880280.0 L 615300.0,1880280.0 L 615300.0,1880250.0 L 615330.0,1880250.0 L 615330.0,1880190.0 L 615360.0,1880190.0 L 615360.0,1880130.0 L 615390.0,1880130.0 L 615390.0,1880070.0 L 615420.0,1880070.0 L 615420.0,1879950.0 L 615450.0,1879950.0 L 615450.0,1879620.0 L 615480.0,1879620.0 L 615480.0,1879200.0 L 615510.0,1879200.0 L 615510.0,1879050.0 L 615540.0,1879050.0 L 615540.0,1878900.0 L 615570.0,1878900.0 L 615570.0,1878720.0 L 615600.0,1878720.0 L 615600.0,1878630.0 L 615630.0,1878630.0 L 615630.0,1878570.0 L 615660.0,1878570.0 L 615660.0,1878300.0 L 615690.0,1878300.0 L 615690.0,1878240.0 L 615720.0,1878240.0 L 615720.0,1878030.0 L 615750.0,1878030.0 L 615750.0,1877940.0 L 615780.0,1877940.0 L 615780.0,1877790.0 L 615810.0,1877790.0 L 615810.0,1877640.0 L 615840.0,1877640.0 L 615840.0,1877550.0 L 615870.0,1877550.0 L 615870.0,1877460.0 L 615900.0,1877460.0 L 615900.0,1877250.0 L 615930.0,1877250.0 L 615930.0,1877100.0 L 615960.0,1877100.0 L 615960.0,1876980.0 L 615990.0,1876980.0 L 615990.0,1876770.0 L 616020.0,1876770.0 L 616020.0,1876530.0 L 616050.0,1876530.0 L 616050.0,1876440.0 L 616080.0,1876440.0 L 616080.0,1876380.0 L 616110.0,1876380.0 L 616110.0,1876350.0 L 616140.0,1876350.0 L 616140.0,1876290.0 L 616170.0,1876290.0 L 616170.0,1876080.0 L 616200.0,1876080.0 L 616200.0,1876020.0 L 616230.0,1876020.0 L 616230.0,1875900.0 L 616260.0,1875900.0 L 616260.0,1875780.0 L 616230.0,1875780.0 L 616230.0,1875720.0 L 616260.0,1875720.0 L 616260.0,1875570.0 L 616290.0,1875570.0 L 616290.0,1875480.0 L 616320.0,1875480.0 L 616320.0,1875420.0 L 616350.0,1875420.0 L 616350.0,1875360.0 L 616380.0,1875360.0 L 616380.0,1875240.0 L 616410.0,1875240.0 L 616410.0,1875180.0 L 616440.0,1875180.0 L 616440.0,1875120.0 L 616410.0,1875120.0 L 616410.0,1874940.0 L 616440.0,1874940.0 L 616440.0,1874880.0 L 616470.0,1874880.0 L 616470.0,1874850.0 L 616500.0,1874850.0 L 616500.0,1874790.0 L 616530.0,1874790.0 L 616530.0,1874730.0 L 616560.0,1874730.0 L 616560.0,1874610.0 L 616590.0,1874610.0 L 616590.0,1874550.0 L 616620.0,1874550.0 L 616620.0,1874490.0 L 616590.0,1874490.0 L 616590.0,1874310.0 L 616620.0,1874310.0 L 616620.0,1874250.0 L 616650.0,1874250.0 L 616650.0,1874160.0 L 616620.0,1874160.0 L 616620.0,1874130.0 L 616650.0,1874130.0 L 616650.0,1874070.0 L 616680.0,1874070.0 L 616680.0,1874040.0 L 616710.0,1874040.0 L 616710.0,1874010.0 L 616740.0,1874010.0 L 616740.0,1873890.0 L 616710.0,1873890.0 L 616710.0,1873830.0 L 616740.0,1873830.0 L 616740.0,1873800.0 L 616770.0,1873800.0 L 616770.0,1873770.0 L 616800.0,1873770.0 L 616800.0,1873740.0 L 616830.0,1873740.0 L 616830.0,1873710.0 L 616800.0,1873710.0 L 616800.0,1873590.0 L 616770.0,1873590.0 L 616770.0,1873530.0 L 616800.0,1873530.0 L 616800.0,1873500.0 L 616830.0,1873500.0 L 616830.0,1873110.0 L 616860.0,1873110.0 L 616860.0,1872900.0 L 616890.0,1872900.0 L 616890.0,1872870.0 L 616860.0,1872870.0 L 616860.0,1872780.0 L 616890.0,1872780.0 L 616890.0,1872720.0 L 616920.0,1872720.0 L 616920.0,1872510.0 L 616950.0,1872510.0 L 616950.0,1872450.0 L 616980.0,1872450.0 L 616980.0,1872390.0 L 617010.0,1872390.0 L 617010.0,1872360.0 L 617040.0,1872360.0 L 617040.0,1872150.0 L 617070.0,1872150.0 L 617070.0,1872000.0 L 617100.0,1872000.0 L 617100.0,1871940.0 L 617130.0,1871940.0 L 617130.0,1871850.0 L 617100.0,1871850.0 L 617100.0,1871760.0 L 617130.0,1871760.0 L 617130.0,1871730.0 L 617160.0,1871730.0 L 617160.0,1871700.0 L 617190.0,1871700.0 L 617190.0,1871580.0 L 617160.0,1871580.0 L 617160.0,1871280.0 L 617190.0,1871280.0 L 617190.0,1871190.0 L 617220.0,1871190.0 L 617220.0,1870950.0 L 617250.0,1870950.0 L 617250.0,1870740.0 L 617280.0,1870740.0 L 617280.0,1870500.0 L 617310.0,1870500.0 L 617310.0,1870380.0 L 617340.0,1870380.0 L 617340.0,1870350.0 L 617370.0,1870350.0 L 617370.0,1870320.0 L 617400.0,1870320.0 L 617400.0,1870140.0 L 617430.0,1870140.0 L 617430.0,1870080.0 L 617460.0,1870080.0 L 617460.0,1870050.0 L 617430.0,1870050.0 L 617430.0,1869990.0 L 617460.0,1869990.0 L 617460.0,1869960.0 L 617490.0,1869960.0 L 617490.0,1869810.0 L 617520.0,1869810.0 L 617520.0,1869720.0 L 617550.0,1869720.0 L 617550.0,1869660.0 L 617520.0,1869660.0 L 617520.0,1869540.0 L 617550.0,1869540.0 L 617550.0,1869480.0 L 617580.0,1869480.0 L 617580.0,1869420.0 L 617550.0,1869420.0 L 617550.0,1869390.0 L 617580.0,1869390.0 L 617580.0,1869270.0 L 617610.0,1869270.0 L 617610.0,1869210.0 L 617640.0,1869210.0 L 617640.0,1869150.0 L 617670.0,1869150.0 L 617670.0,1869030.0 L 617700.0,1869030.0 L 617700.0,1868970.0 L 617730.0,1868970.0 L 617730.0,1868910.0 L 617760.0,1868910.0 L 617760.0,1868820.0 L 617790.0,1868820.0 L 617790.0,1868790.0 L 617820.0,1868790.0 L 617820.0,1868460.0 L 617850.0,1868460.0 L 617850.0,1868400.0 L 617880.0,1868400.0 L 617880.0,1868370.0 L 617910.0,1868370.0 L 617910.0,1868280.0 L 617940.0,1868280.0 L 617940.0,1868220.0 L 617910.0,1868220.0 L 617910.0,1868190.0 L 617940.0,1868190.0 L 617940.0,1868100.0 L 617970.0,1868100.0 L 617970.0,1868010.0 L 618000.0,1868010.0 L 618000.0,1867950.0 L 618030.0,1867950.0 L 618030.0,1867800.0 L 618000.0,1867800.0 L 618000.0,1867590.0 L 618030.0,1867590.0 L 618030.0,1867530.0 L 618060.0,1867530.0 L 618060.0,1867470.0 L 618090.0,1867470.0 L 618090.0,1867350.0 L 618120.0,1867350.0 L 618120.0,1867320.0 L 618150.0,1867320.0 L 618150.0,1867260.0 L 618180.0,1867260.0 L 618180.0,1867170.0 L 618210.0,1867170.0 L 618210.0,1867140.0 L 618240.0,1867140.0 L 618240.0,1867110.0 L 618270.0,1867110.0 L 618270.0,1866960.0 L 618240.0,1866960.0 L 618240.0,1866900.0 L 618210.0,1866900.0 L 618210.0,1866840.0 L 618180.0,1866840.0 L 618180.0,1866720.0 L 618210.0,1866720.0 L 618210.0,1866660.0 L 618180.0,1866660.0 L 618180.0,1866420.0 L 618210.0,1866420.0 L 618210.0,1866360.0 L 618240.0,1866360.0 L 618240.0,1866330.0 L 618270.0,1866330.0 L 618270.0,1866300.0 L 618300.0,1866300.0 L 618300.0,1866150.0 L 618330.0,1866150.0 L 618330.0,1866090.0 L 618360.0,1866090.0 L 618360.0,1865910.0 L 618330.0,1865910.0 L 618330.0,1865760.0 L 618300.0,1865760.0 L 618300.0,1865670.0 L 618330.0,1865670.0 L 618330.0,1865640.0 L 618360.0,1865640.0 L 618360.0,1865610.0 L 618390.0,1865610.0 L 618390.0,1865580.0 L 618420.0,1865580.0 L 618420.0,1865550.0 L 618450.0,1865550.0 L 618450.0,1865400.0 L 618480.0,1865400.0 L 618480.0,1865310.0 L 618510.0,1865310.0 L 618510.0,1865190.0 L 618540.0,1865190.0 L 618540.0,1865100.0 L 618570.0,1865100.0 L 618570.0,1865010.0 L 618600.0,1865010.0 L 618600.0,1864890.0 L 618630.0,1864890.0 L 618630.0,1864860.0 L 618660.0,1864860.0 L 618660.0,1864800.0 L 618780.0,1864800.0 L 618780.0,1864830.0 L 618930.0,1864830.0 L 618930.0,1864860.0 L 619080.0,1864860.0 L 619080.0,1864890.0 L 619230.0,1864890.0 L 619230.0,1864920.0 L 619380.0,1864920.0 L 619380.0,1864950.0 L 619530.0,1864950.0 L 619530.0,1864980.0 L 619680.0,1864980.0 L 619680.0,1865010.0 L 619830.0,1865010.0 L 619830.0,1865040.0 L 619980.0,1865040.0 L 619980.0,1865070.0 L 620130.0,1865070.0 L 620130.0,1865100.0 L 620280.0,1865100.0 L 620280.0,1865130.0 L 620430.0,1865130.0 L 620430.0,1865160.0 L 620580.0,1865160.0 L 620580.0,1865190.0 L 620730.0,1865190.0 L 620730.0,1865220.0 L 620880.0,1865220.0 L 620880.0,1865250.0 L 621030.0,1865250.0 L 621030.0,1865280.0 L 621180.0,1865280.0 L 621180.0,1865310.0 L 621330.0,1865310.0 L 621330.0,1865340.0 L 621480.0,1865340.0 L 621480.0,1865370.0 L 621630.0,1865370.0 L 621630.0,1865400.0 L 621780.0,1865400.0 L 621780.0,1865430.0 L 621900.0,1865430.0 L 621900.0,1865460.0 L 622080.0,1865460.0 L 622080.0,1865490.0 L 622200.0,1865490.0 L 622200.0,1865520.0 L 622350.0,1865520.0 L 622350.0,1865550.0 L 622530.0,1865550.0 L 622530.0,1865580.0 L 622650.0,1865580.0 L 622650.0,1865610.0 L 622830.0,1865610.0 L 622830.0,1865640.0 L 622950.0,1865640.0 L 622950.0,1865670.0 L 623100.0,1865670.0 L 623100.0,1865700.0 L 623250.0,1865700.0 L 623250.0,1865730.0 L 623400.0,1865730.0 L 623400.0,1865760.0 L 623550.0,1865760.0 L 623550.0,1865790.0 L 623700.0,1865790.0 L 623700.0,1865820.0 L 623850.0,1865820.0 L 623850.0,1865850.0 L 624000.0,1865850.0 L 624000.0,1865880.0 L 624150.0,1865880.0 L 624150.0,1865910.0 L 624300.0,1865910.0 L 624300.0,1865940.0 L 624450.0,1865940.0 L 624450.0,1865970.0 L 624600.0,1865970.0 L 624600.0,1866000.0 L 624750.0,1866000.0 L 624750.0,1866030.0 L 624900.0,1866030.0 L 624900.0,1866060.0 L 625050.0,1866060.0 L 625050.0,1866090.0 L 625200.0,1866090.0 L 625200.0,1866120.0 L 625350.0,1866120.0 L 625350.0,1866150.0 L 625500.0,1866150.0 L 625500.0,1866180.0 L 625650.0,1866180.0 L 625650.0,1866210.0 L 625800.0,1866210.0 L 625800.0,1866240.0 L 625950.0,1866240.0 L 625950.0,1866270.0 L 626100.0,1866270.0 L 626100.0,1866300.0 L 626250.0,1866300.0 L 626250.0,1866330.0 L 626400.0,1866330.0 L 626400.0,1866360.0 L 626550.0,1866360.0 L 626550.0,1866390.0 L 626700.0,1866390.0 L 626700.0,1866420.0 L 626850.0,1866420.0 L 626850.0,1866450.0 L 627000.0,1866450.0 L 627000.0,1866480.0 L 627150.0,1866480.0 L 627150.0,1866510.0 L 627300.0,1866510.0 L 627300.0,1866540.0 L 627450.0,1866540.0 L 627450.0,1866570.0 L 627600.0,1866570.0 L 627600.0,1866600.0 L 627750.0,1866600.0 L 627750.0,1866630.0 L 627900.0,1866630.0 L 627900.0,1866660.0 L 628050.0,1866660.0 L 628050.0,1866690.0 L 628200.0,1866690.0 L 628200.0,1866720.0 L 628350.0,1866720.0 L 628350.0,1866750.0 L 628500.0,1866750.0 L 628500.0,1866780.0 L 628650.0,1866780.0 L 628650.0,1866810.0 L 628800.0,1866810.0 L 628800.0,1866840.0 L 628950.0,1866840.0 L 628950.0,1866870.0 L 629100.0,1866870.0 L 629100.0,1866900.0 L 629220.0,1866900.0 L 629220.0,1866930.0 L 629400.0,1866930.0 L 629400.0,1866960.0 L 629550.0,1866960.0 L 629550.0,1866990.0 L 629700.0,1866990.0 L 629700.0,1867020.0 L 629820.0,1867020.0 L 629820.0,1867050.0 L 629970.0,1867050.0 L 629970.0,1867080.0 L 630120.0,1867080.0 L 630120.0,1867110.0 L 630270.0,1867110.0 L 630270.0,1867140.0 L 630420.0,1867140.0 L 630420.0,1867170.0 L 630600.0,1867170.0 L 630600.0,1867200.0 L 630720.0,1867200.0 L 630720.0,1867230.0 L 630870.0,1867230.0 L 630870.0,1867260.0 L 631020.0,1867260.0 L 631020.0,1867290.0 L 631200.0,1867290.0 L 631200.0,1867320.0 L 631320.0,1867320.0 L 631320.0,1867350.0 L 631470.0,1867350.0 L 631470.0,1867380.0 L 631620.0,1867380.0 L 631620.0,1867410.0 L 631770.0,1867410.0 L 631770.0,1867440.0 L 631920.0,1867440.0 L 631920.0,1867470.0 L 632070.0,1867470.0 L 632070.0,1867500.0 L 632220.0,1867500.0 L 632220.0,1867530.0 L 632370.0,1867530.0 L 632370.0,1867560.0 L 632520.0,1867560.0 L 632520.0,1867590.0 L 632670.0,1867590.0 L 632670.0,1867620.0 L 632820.0,1867620.0 L 632820.0,1867650.0 L 632970.0,1867650.0 L 632970.0,1867680.0 L 633120.0,1867680.0 L 633120.0,1867710.0 L 633270.0,1867710.0 L 633270.0,1867740.0 L 633420.0,1867740.0 L 633420.0,1867770.0 L 633570.0,1867770.0 L 633570.0,1867800.0 L 633720.0,1867800.0 L 633720.0,1867830.0 L 633870.0,1867830.0 L 633870.0,1867860.0 L 634020.0,1867860.0 L 634020.0,1867890.0 L 634170.0,1867890.0 L 634170.0,1867920.0 L 634320.0,1867920.0 L 634320.0,1867950.0 L 634470.0,1867950.0 L 634470.0,1867980.0 L 634620.0,1867980.0 L 634620.0,1868010.0 L 634770.0,1868010.0 L 634770.0,1868040.0 L 634920.0,1868040.0 L 634920.0,1868070.0 L 635070.0,1868070.0 L 635070.0,1868100.0 L 635220.0,1868100.0 L 635220.0,1868130.0 L 635370.0,1868130.0 L 635370.0,1868160.0 L 635490.0,1868160.0 L 635490.0,1868190.0 L 635670.0,1868190.0 L 635670.0,1868220.0 L 635820.0,1868220.0 L 635820.0,1868250.0 L 635970.0,1868250.0 L 635970.0,1868280.0 L 636120.0,1868280.0 L 636120.0,1868310.0 L 636270.0,1868310.0 L 636270.0,1868340.0 L 636420.0,1868340.0 L 636420.0,1868370.0 L 636540.0,1868370.0 L 636540.0,1868400.0 L 636720.0,1868400.0 L 636720.0,1868430.0 L 636870.0,1868430.0 L 636870.0,1868460.0 L 637020.0,1868460.0 L 637020.0,1868490.0 L 637170.0,1868490.0 L 637170.0,1868520.0 L 637320.0,1868520.0 L 637320.0,1868550.0 L 637470.0,1868550.0 L 637470.0,1868580.0 L 637620.0,1868580.0 L 637620.0,1868610.0 L 637770.0,1868610.0 L 637770.0,1868640.0 L 637890.0,1868640.0 L 637890.0,1868670.0 L 638040.0,1868670.0 L 638040.0,1868700.0 L 638190.0,1868700.0 L 638190.0,1868730.0 L 638370.0,1868730.0 L 638370.0,1868760.0 L 638490.0,1868760.0 L 638490.0,1868790.0 L 638640.0,1868790.0 L 638640.0,1868820.0 L 638790.0,1868820.0 L 638790.0,1868850.0 L 638940.0,1868850.0 L 638940.0,1868880.0 L 639090.0,1868880.0 L 639090.0,1868910.0 L 639240.0,1868910.0 L 639240.0,1868940.0 L 639390.0,1868940.0 L 639390.0,1868970.0 L 639540.0,1868970.0 L 639540.0,1869000.0 L 639690.0,1869000.0 L 639690.0,1869030.0 L 639840.0,1869030.0 L 639840.0,1869060.0 L 639990.0,1869060.0 L 639990.0,1869090.0 L 640140.0,1869090.0 L 640140.0,1869120.0 L 640290.0,1869120.0 L 640290.0,1869150.0 L 640440.0,1869150.0 L 640440.0,1869180.0 L 640590.0,1869180.0 L 640590.0,1869210.0 L 640740.0,1869210.0 L 640740.0,1869240.0 L 640890.0,1869240.0 L 640890.0,1869270.0 L 641040.0,1869270.0 L 641040.0,1869300.0 L 641190.0,1869300.0 L 641190.0,1869330.0 L 641340.0,1869330.0 L 641340.0,1869360.0 L 641490.0,1869360.0 L 641490.0,1869390.0 L 641640.0,1869390.0 L 641640.0,1869420.0 L 641790.0,1869420.0 L 641790.0,1869450.0 L 641940.0,1869450.0 L 641940.0,1869480.0 L 642090.0,1869480.0 L 642090.0,1869510.0 L 642240.0,1869510.0 L 642240.0,1869540.0 L 642390.0,1869540.0 L 642390.0,1869570.0 L 642540.0,1869570.0 L 642540.0,1869600.0 L 642690.0,1869600.0 L 642690.0,1869630.0 L 642840.0,1869630.0 L 642840.0,1869660.0 L 642990.0,1869660.0 L 642990.0,1869690.0 L 643140.0,1869690.0 L 643140.0,1869720.0 L 643290.0,1869720.0 L 643290.0,1869750.0 L 643440.0,1869750.0 L 643440.0,1869780.0 L 643590.0,1869780.0 L 643590.0,1869810.0 L 643740.0,1869810.0 L 643740.0,1869840.0 L 643890.0,1869840.0 L 643890.0,1869870.0 L 644040.0,1869870.0 L 644040.0,1869900.0 L 644190.0,1869900.0 L 644190.0,1869930.0 L 644340.0,1869930.0 L 644340.0,1869960.0 L 644490.0,1869960.0 L 644490.0,1869990.0 L 644640.0,1869990.0 L 644640.0,1870020.0 L 644760.0,1870020.0 L 644760.0,1870050.0 L 644940.0,1870050.0 L 644940.0,1870080.0 L 645090.0,1870080.0 L 645090.0,1870110.0 L 645240.0,1870110.0 L 645240.0,1870140.0 L 645390.0,1870140.0 L 645390.0,1870170.0 L 645540.0,1870170.0 L 645540.0,1870200.0 L 645690.0,1870200.0 L 645690.0,1870230.0 L 645840.0,1870230.0 L 645840.0,1870260.0 L 645960.0,1870260.0 L 645960.0,1870290.0 L 646140.0,1870290.0 L 646140.0,1870320.0 L 646290.0,1870320.0 L 646290.0,1870350.0 L 646410.0,1870350.0 L 646410.0,1870380.0 L 646560.0,1870380.0 L 646560.0,1870410.0 L 646710.0,1870410.0 L 646710.0,1870440.0 L 646860.0,1870440.0 L 646860.0,1870470.0 L 647010.0,1870470.0 L 647010.0,1870500.0 L 647160.0,1870500.0 L 647160.0,1870530.0 L 647310.0,1870530.0 L 647310.0,1870560.0 L 647460.0,1870560.0 L 647460.0,1870590.0 L 647610.0,1870590.0 L 647610.0,1870620.0 L 647760.0,1870620.0 L 647760.0,1870650.0 L 647910.0,1870650.0 L 647910.0,1870680.0 L 648060.0,1870680.0 L 648060.0,1870710.0 L 648210.0,1870710.0 L 648210.0,1870740.0 L 648360.0,1870740.0 L 648360.0,1870770.0 L 648510.0,1870770.0 L 648510.0,1870800.0 L 648660.0,1870800.0 L 648660.0,1870830.0 L 648810.0,1870830.0 L 648810.0,1870860.0 L 648960.0,1870860.0 L 648960.0,1870890.0 L 649110.0,1870890.0 L 649110.0,1870920.0 L 649260.0,1870920.0 L 649260.0,1870950.0 L 649410.0,1870950.0 L 649410.0,1870980.0 L 649560.0,1870980.0 L 649560.0,1871010.0 L 649710.0,1871010.0 L 649710.0,1871040.0 L 649860.0,1871040.0 L 649860.0,1871070.0 L 650010.0,1871070.0 L 650010.0,1871100.0 L 650160.0,1871100.0 L 650160.0,1871130.0 L 650310.0,1871130.0 L 650310.0,1871160.0 L 650460.0,1871160.0 L 650460.0,1871190.0 L 650610.0,1871190.0 L 650610.0,1871220.0 L 650760.0,1871220.0 L 650760.0,1871250.0 L 650910.0,1871250.0 L 650910.0,1871280.0 L 651060.0,1871280.0 L 651060.0,1871310.0 L 651210.0,1871310.0 L 651210.0,1871340.0 L 651360.0,1871340.0 L 651360.0,1871370.0 L 651510.0,1871370.0 L 651510.0,1871400.0 L 651660.0,1871400.0 L 651660.0,1871430.0 L 651810.0,1871430.0 L 651810.0,1871460.0 L 651960.0,1871460.0 L 651960.0,1871490.0 L 652110.0,1871490.0 L 652110.0,1871520.0 L 652260.0,1871520.0 L 652260.0,1871550.0 L 652410.0,1871550.0 L 652410.0,1871580.0 L 652560.0,1871580.0 L 652560.0,1871610.0 L 652710.0,1871610.0 L 652710.0,1871640.0 L 652860.0,1871640.0 L 652860.0,1871670.0 L 653010.0,1871670.0 L 653010.0,1871700.0 L 653160.0,1871700.0 L 653160.0,1871730.0 L 653310.0,1871730.0 L 653310.0,1871760.0 L 653460.0,1871760.0 L 653460.0,1871790.0 L 653610.0,1871790.0 L 653610.0,1871820.0 L 653760.0,1871820.0 L 653760.0,1871850.0 L 653910.0,1871850.0 L 653910.0,1871880.0 L 654030.0,1871880.0 L 654030.0,1871910.0 L 654180.0,1871910.0 L 654180.0,1871940.0 L 654330.0,1871940.0 L 654330.0,1871970.0 L 654480.0,1871970.0 L 654480.0,1872000.0 L 654630.0,1872000.0 L 654630.0,1872030.0 L 654780.0,1872030.0 L 654780.0,1872060.0 L 654930.0,1872060.0 L 654930.0,1872090.0 L 655080.0,1872090.0 L 655080.0,1872120.0 L 655230.0,1872120.0 L 655230.0,1872150.0 L 655380.0,1872150.0 L 655380.0,1872180.0 L 655530.0,1872180.0 L 655530.0,1872210.0 L 655680.0,1872210.0 L 655680.0,1872240.0 L 655830.0,1872240.0 L 655830.0,1872270.0 L 655980.0,1872270.0 L 655980.0,1872300.0 L 656130.0,1872300.0 L 656130.0,1872330.0 L 656280.0,1872330.0 L 656280.0,1872360.0 L 656430.0,1872360.0 L 656430.0,1872390.0 L 656580.0,1872390.0 L 656580.0,1872420.0 L 656730.0,1872420.0 L 656730.0,1872450.0 L 656880.0,1872450.0 L 656880.0,1872480.0 L 657030.0,1872480.0 L 657030.0,1872510.0 L 657180.0,1872510.0 L 657180.0,1872540.0 L 657330.0,1872540.0 L 657330.0,1872570.0 L 657480.0,1872570.0 L 657480.0,1872600.0 L 657630.0,1872600.0 L 657630.0,1872630.0 L 657780.0,1872630.0 L 657780.0,1872660.0 L 657930.0,1872660.0 L 657930.0,1872690.0 L 658080.0,1872690.0 L 658080.0,1872720.0 L 658230.0,1872720.0 L 658230.0,1872750.0 L 658380.0,1872750.0 L 658380.0,1872780.0 L 658530.0,1872780.0 L 658530.0,1872810.0 L 658680.0,1872810.0 L 658680.0,1872840.0 L 658830.0,1872840.0 L 658830.0,1872870.0 L 658980.0,1872870.0 L 658980.0,1872900.0 L 659130.0,1872900.0 L 659130.0,1872930.0 L 659280.0,1872930.0 L 659280.0,1872960.0 L 659430.0,1872960.0 L 659430.0,1872990.0 L 659580.0,1872990.0 L 659580.0,1873020.0 L 659730.0,1873020.0 L 659730.0,1873050.0 L 659880.0,1873050.0 L 659880.0,1873080.0 L 660030.0,1873080.0 L 660030.0,1873110.0 L 660180.0,1873110.0 L 660180.0,1873140.0 L 660240.0,1873140.0 L 660240.0,1873170.0 L 660270.0,1873170.0 L 660270.0,1873200.0 L 660360.0,1873200.0 L 660360.0,1873170.0 L 660480.0,1873170.0 L 660480.0,1873200.0 L 660630.0,1873200.0 L 660630.0,1873230.0 L 660780.0,1873230.0 L 660780.0,1873260.0 L 660900.0,1873260.0 L 660900.0,1873290.0 L 661080.0,1873290.0 L 661080.0,1873320.0 L 661200.0,1873320.0 L 661200.0,1873350.0 L 661350.0,1873350.0 L 661350.0,1873380.0 L 661530.0,1873380.0 L 661530.0,1873410.0 L 661650.0,1873410.0 L 661650.0,1873440.0 L 661800.0,1873440.0 L 661800.0,1873470.0 L 661950.0,1873470.0 L 661950.0,1873500.0 L 662100.0,1873500.0 L 662100.0,1873530.0 L 662250.0,1873530.0 L 662250.0,1873560.0 L 662400.0,1873560.0 L 662400.0,1873590.0 L 662550.0,1873590.0 L 662550.0,1873620.0 L 662700.0,1873620.0 L 662700.0,1873650.0 L 662850.0,1873650.0 L 662850.0,1873680.0 L 663000.0,1873680.0 L 663000.0,1873710.0 L 663150.0,1873710.0 L 663150.0,1873740.0 L 663300.0,1873740.0 L 663300.0,1873770.0 L 663450.0,1873770.0 L 663450.0,1873800.0 L 663600.0,1873800.0 L 663600.0,1873830.0 L 663750.0,1873830.0 L 663750.0,1873860.0 L 663900.0,1873860.0 L 663900.0,1873890.0 L 664050.0,1873890.0 L 664050.0,1873920.0 L 664200.0,1873920.0 L 664200.0,1873950.0 L 664350.0,1873950.0 L 664350.0,1873980.0 L 664500.0,1873980.0 L 664500.0,1874010.0 L 664650.0,1874010.0 L 664650.0,1874040.0 L 664800.0,1874040.0 L 664800.0,1874070.0 L 664950.0,1874070.0 L 664950.0,1874100.0 L 665100.0,1874100.0 L 665100.0,1874130.0 L 665250.0,1874130.0 L 665250.0,1874160.0 L 665400.0,1874160.0 L 665400.0,1874190.0 L 665550.0,1874190.0 L 665550.0,1874220.0 L 665700.0,1874220.0 L 665700.0,1874250.0 L 665850.0,1874250.0 L 665850.0,1874280.0 L 666000.0,1874280.0 L 666000.0,1874310.0 L 666150.0,1874310.0 L 666150.0,1874340.0 L 666300.0,1874340.0 L 666300.0,1874370.0 L 666450.0,1874370.0 L 666450.0,1874400.0 L 666600.0,1874400.0 L 666600.0,1874430.0 L 666750.0,1874430.0 L 666750.0,1874460.0 L 666900.0,1874460.0 L 666900.0,1874490.0 L 667050.0,1874490.0 L 667050.0,1874520.0 L 667200.0,1874520.0 L 667200.0,1874550.0 L 667350.0,1874550.0 L 667350.0,1874580.0 L 667500.0,1874580.0 L 667500.0,1874610.0 L 667650.0,1874610.0 L 667650.0,1874640.0 L 667800.0,1874640.0 L 667800.0,1874670.0 L 667950.0,1874670.0 L 667950.0,1874700.0 L 668070.0,1874700.0 L 668070.0,1874730.0 L 668250.0,1874730.0 L 668250.0,1874760.0 L 668400.0,1874760.0 L 668400.0,1874790.0 L 668550.0,1874790.0 L 668550.0,1874820.0 L 668670.0,1874820.0 L 668670.0,1874850.0 L 668820.0,1874850.0 L 668820.0,1874880.0 L 668970.0,1874880.0 L 668970.0,1874910.0 L 669150.0,1874910.0 L 669150.0,1874940.0 L 669270.0,1874940.0 L 669270.0,1874970.0 L 669420.0,1874970.0 L 669420.0,1875000.0 L 669570.0,1875000.0 L 669570.0,1875030.0 L 669720.0,1875030.0 L 669720.0,1875060.0 L 669870.0,1875060.0 L 669870.0,1875090.0 L 670020.0,1875090.0 L 670020.0,1875120.0 L 670170.0,1875120.0 L 670170.0,1875150.0 L 670320.0,1875150.0 L 670320.0,1875180.0 L 670470.0,1875180.0 L 670470.0,1875210.0 L 670620.0,1875210.0 L 670620.0,1875240.0 L 670770.0,1875240.0 L 670770.0,1875270.0 L 670920.0,1875270.0 L 670920.0,1875300.0 L 671070.0,1875300.0 L 671070.0,1875330.0 L 671220.0,1875330.0 L 671220.0,1875360.0 L 671370.0,1875360.0 L 671370.0,1875390.0 L 671520.0,1875390.0 L 671520.0,1875420.0 L 671670.0,1875420.0 L 671670.0,1875450.0 L 671820.0,1875450.0 L 671820.0,1875480.0 L 671970.0,1875480.0 L 671970.0,1875510.0 L 672120.0,1875510.0 L 672120.0,1875540.0 L 672270.0,1875540.0 L 672270.0,1875570.0 L 672420.0,1875570.0 L 672420.0,1875600.0 L 672570.0,1875600.0 L 672570.0,1875630.0 L 672720.0,1875630.0 L 672720.0,1875660.0 L 672870.0,1875660.0 L 672870.0,1875690.0 L 673020.0,1875690.0 L 673020.0,1875720.0 L 673170.0,1875720.0 L 673170.0,1875750.0 L 673320.0,1875750.0 L 673320.0,1875780.0 L 673470.0,1875780.0 L 673470.0,1875810.0 L 673620.0,1875810.0 L 673620.0,1875840.0 L 673770.0,1875840.0 L 673770.0,1875870.0 L 673920.0,1875870.0 L 673920.0,1875900.0 L 674070.0,1875900.0 L 674070.0,1875930.0 L 674220.0,1875930.0 L 674220.0,1875960.0 L 674370.0,1875960.0 L 674370.0,1875990.0 L 674520.0,1875990.0 L 674520.0,1876020.0 L 674670.0,1876020.0 L 674670.0,1876050.0 L 674820.0,1876050.0 L 674820.0,1876080.0 L 674970.0,1876080.0 L 674970.0,1876110.0 L 675120.0,1876110.0 L 675120.0,1876140.0 L 675270.0,1876140.0 L 675270.0,1876170.0 L 675420.0,1876170.0 L 675420.0,1876200.0 L 675540.0,1876200.0 L 675540.0,1876230.0 L 675720.0,1876230.0 L 675720.0,1876260.0 L 675870.0,1876260.0 L 675870.0,1876290.0 L 675990.0,1876290.0 L 675990.0,1876320.0 L 676140.0,1876320.0 L 676140.0,1876350.0 L 676290.0,1876350.0 L 676290.0,1876380.0 L 676470.0,1876380.0 L 676470.0,1876410.0 L 676590.0,1876410.0 L 676590.0,1876440.0 L 676740.0,1876440.0 L 676740.0,1876470.0 L 676890.0,1876470.0 L 676890.0,1876500.0 L 677040.0,1876500.0 L 677040.0,1876530.0 L 677190.0,1876530.0 L 677190.0,1876560.0 L 677340.0,1876560.0 L 677340.0,1876590.0 L 677490.0,1876590.0 L 677490.0,1876620.0 L 677640.0,1876620.0 L 677640.0,1876650.0 L 677790.0,1876650.0 L 677790.0,1876680.0 L 677940.0,1876680.0 L 677940.0,1876710.0 L 678090.0,1876710.0 L 678090.0,1876740.0 L 678240.0,1876740.0 L 678240.0,1876770.0 L 678390.0,1876770.0 L 678390.0,1876800.0 L 678540.0,1876800.0 L 678540.0,1876830.0 L 678690.0,1876830.0 L 678690.0,1876860.0 L 678840.0,1876860.0 L 678840.0,1876890.0 L 678990.0,1876890.0 L 678990.0,1876920.0 L 679140.0,1876920.0 L 679140.0,1876950.0 L 679290.0,1876950.0 L 679290.0,1876980.0 L 679440.0,1876980.0 L 679440.0,1877010.0 L 679590.0,1877010.0 L 679590.0,1877040.0 L 679740.0,1877040.0 L 679740.0,1877070.0 L 679890.0,1877070.0 L 679890.0,1877100.0 L 680040.0,1877100.0 L 680040.0,1877130.0 L 680190.0,1877130.0 L 680190.0,1877160.0 L 680340.0,1877160.0 L 680340.0,1877190.0 L 680490.0,1877190.0 L 680490.0,1877220.0 L 680640.0,1877220.0 L 680640.0,1877250.0 L 680790.0,1877250.0 L 680790.0,1877280.0 L 680940.0,1877280.0 L 680940.0,1877310.0 L 681090.0,1877310.0 L 681090.0,1877340.0 L 681240.0,1877340.0 L 681240.0,1877370.0 L 681390.0,1877370.0 L 681390.0,1877400.0 L 681540.0,1877400.0 L 681540.0,1877430.0 L 681690.0,1877430.0 L 681690.0,1877460.0 L 681840.0,1877460.0 L 681840.0,1877490.0 L 681990.0,1877490.0 L 681990.0,1877520.0 L 682140.0,1877520.0 L 682140.0,1877550.0 L 682290.0,1877550.0 L 682290.0,1877580.0 L 682440.0,1877580.0 L 682440.0,1877610.0 L 682590.0,1877610.0 L 682590.0,1877640.0 L 682740.0,1877640.0 L 682740.0,1877670.0 L 682890.0,1877670.0 L 682890.0,1877700.0 L 683040.0,1877700.0 L 683040.0,1877730.0 L 683190.0,1877730.0 L 683190.0,1877760.0 L 683310.0,1877760.0 L 683310.0,1877790.0 L 683490.0,1877790.0 L 683490.0,1877820.0 L 683610.0,1877820.0 L 683610.0,1877850.0 L 683760.0,1877850.0 L 683760.0,1877880.0 L 683910.0,1877880.0 L 683910.0,1877910.0 L 684060.0,1877910.0 L 684060.0,1877940.0 L 684210.0,1877940.0 L 684210.0,1877970.0 L 684360.0,1877970.0 L 684360.0,1878000.0 L 684510.0,1878000.0 L 684510.0,1878030.0 L 684660.0,1878030.0 L 684660.0,1878060.0 L 684810.0,1878060.0 L 684810.0,1878090.0 L 684960.0,1878090.0 L 684960.0,1878120.0 L 685110.0,1878120.0 L 685110.0,1878150.0 L 685260.0,1878150.0 L 685260.0,1878180.0 L 685410.0,1878180.0 L 685410.0,1878210.0 L 685560.0,1878210.0 L 685560.0,1878240.0 L 685710.0,1878240.0 L 685710.0,1878270.0 L 685860.0,1878270.0 L 685860.0,1878300.0 L 686010.0,1878300.0 L 686010.0,1878330.0 L 686160.0,1878330.0 L 686160.0,1878360.0 L 686310.0,1878360.0 L 686310.0,1878390.0 L 686460.0,1878390.0 L 686460.0,1878420.0 L 686610.0,1878420.0 L 686610.0,1878450.0 L 686760.0,1878450.0 L 686760.0,1878480.0 L 686910.0,1878480.0 L 686910.0,1878510.0 L 687060.0,1878510.0 L 687060.0,1878540.0 L 687210.0,1878540.0 L 687210.0,1878570.0 L 687360.0,1878570.0 L 687360.0,1878600.0 L 687510.0,1878600.0 L 687510.0,1878630.0 L 687660.0,1878630.0 L 687660.0,1878660.0 L 687810.0,1878660.0 L 687810.0,1878690.0 L 687960.0,1878690.0 L 687960.0,1878720.0 L 688110.0,1878720.0 L 688110.0,1878750.0 L 688260.0,1878750.0 L 688260.0,1878780.0 L 688410.0,1878780.0 L 688410.0,1878810.0 L 688560.0,1878810.0 L 688560.0,1878840.0 L 688710.0,1878840.0 L 688710.0,1878870.0 L 688860.0,1878870.0 L 688860.0,1878900.0 L 689010.0,1878900.0 L 689010.0,1878930.0 L 689160.0,1878930.0 L 689160.0,1878960.0 L 689310.0,1878960.0 L 689310.0,1878990.0 L 689460.0,1878990.0 L 689460.0,1879020.0 L 689610.0,1879020.0 L 689610.0,1879050.0 L 689760.0,1879050.0 L 689760.0,1879080.0 L 689910.0,1879080.0 L 689910.0,1879110.0 L 690060.0,1879110.0 L 690060.0,1879140.0 L 690210.0,1879140.0 L 690210.0,1879170.0 L 690360.0,1879170.0 L 690360.0,1879200.0 L 690510.0,1879200.0 L 690510.0,1879230.0 L 690660.0,1879230.0 L 690660.0,1879260.0 L 690720.0,1879260.0 L 690720.0,1879290.0 L 690750.0,1879290.0 L 690750.0,1879320.0 L 690780.0,1879320.0 L 690780.0,1879350.0 L 690810.0,1879350.0 L 690810.0,1879380.0 L 690840.0,1879380.0 L 690840.0,1879410.0 L 690870.0,1879410.0 L 690870.0,1879440.0 L 690900.0,1879440.0 L 690900.0,1879470.0 L 690930.0,1879470.0 L 690930.0,1879440.0 L 690960.0,1879440.0 L 690960.0,1879410.0 L 690990.0,1879410.0 L 690990.0,1879380.0 L 691020.0,1879380.0 L 691020.0,1879350.0 L 691050.0,1879350.0 L 691050.0,1879320.0 L 691080.0,1879320.0 L 691080.0,1879350.0 L 691230.0,1879350.0 L 691230.0,1879380.0 L 691380.0,1879380.0 L 691380.0,1879410.0 L 691530.0,1879410.0 L 691530.0,1879440.0 L 691680.0,1879440.0 L 691680.0,1879470.0 L 691830.0,1879470.0 L 691830.0,1879500.0 L 691980.0,1879500.0 L 691980.0,1879530.0 L 692130.0,1879530.0 L 692130.0,1879560.0 L 692280.0,1879560.0 L 692280.0,1879590.0 L 692430.0,1879590.0 L 692430.0,1879620.0 L 692580.0,1879620.0 L 692580.0,1879650.0 L 692730.0,1879650.0 L 692730.0,1879680.0 L 692880.0,1879680.0 L 692880.0,1879710.0 L 693030.0,1879710.0 L 693030.0,1879740.0 L 693180.0,1879740.0 L 693180.0,1879770.0 L 693330.0,1879770.0 L 693330.0,1879800.0 L 693480.0,1879800.0 L 693480.0,1879830.0 L 693630.0,1879830.0 L 693630.0,1879860.0 L 693780.0,1879860.0 L 693780.0,1879890.0 L 693930.0,1879890.0 L 693930.0,1879920.0 L 694080.0,1879920.0 L 694080.0,1879950.0 L 694230.0,1879950.0 L 694230.0,1879980.0 L 694380.0,1879980.0 L 694380.0,1880010.0 L 694530.0,1880010.0 L 694530.0,1880040.0 L 694680.0,1880040.0 L 694680.0,1880070.0 L 694830.0,1880070.0 L 694830.0,1880100.0 L 694980.0,1880100.0 L 694980.0,1880130.0 L 695130.0,1880130.0 L 695130.0,1880160.0 L 695280.0,1880160.0 L 695280.0,1880190.0 L 695370.0,1880190.0 L 695370.0,1880220.0 L 695400.0,1880220.0 L 695400.0,1880250.0 L 695460.0,1880250.0 L 695460.0,1880220.0 L 695580.0,1880220.0 L 695580.0,1880250.0 L 695730.0,1880250.0 L 695730.0,1880280.0 L 695880.0,1880280.0 L 695880.0,1880310.0 L 696030.0,1880310.0 L 696030.0,1880340.0 L 696180.0,1880340.0 L 696180.0,1880370.0 L 696330.0,1880370.0 L 696330.0,1880400.0 L 696480.0,1880400.0 L 696480.0,1880430.0 L 696630.0,1880430.0 L 696630.0,1880460.0 L 696780.0,1880460.0 L 696780.0,1880490.0 L 696930.0,1880490.0 L 696930.0,1880520.0 L 697080.0,1880520.0 L 697080.0,1880550.0 L 697230.0,1880550.0 L 697230.0,1880580.0 L 697350.0,1880580.0 L 697350.0,1880610.0 L 697530.0,1880610.0 L 697530.0,1880640.0 L 697680.0,1880640.0 L 697680.0,1880670.0 L 697830.0,1880670.0 L 697830.0,1880700.0 L 697980.0,1880700.0 L 697980.0,1880730.0 L 698100.0,1880730.0 L 698100.0,1880760.0 L 698250.0,1880760.0 L 698250.0,1880790.0 L 698400.0,1880790.0 L 698400.0,1880820.0 L 698550.0,1880820.0 L 698550.0,1880850.0 L 698700.0,1880850.0 L 698700.0,1880880.0 L 698850.0,1880880.0 L 698850.0,1880910.0 L 699000.0,1880910.0 L 699000.0,1880940.0 L 699150.0,1880940.0 L 699150.0,1880970.0 L 699300.0,1880970.0 L 699300.0,1881000.0 L 699450.0,1881000.0 L 699450.0,1881030.0 L 699600.0,1881030.0 L 699600.0,1881060.0 L 699750.0,1881060.0 L 699750.0,1881090.0 L 699900.0,1881090.0 L 699900.0,1881120.0 L 700050.0,1881120.0 L 700050.0,1881150.0 L 700200.0,1881150.0 L 700200.0,1881180.0 L 700350.0,1881180.0 L 700350.0,1881210.0 L 700500.0,1881210.0 L 700500.0,1881240.0 L 700650.0,1881240.0 L 700650.0,1881270.0 L 700800.0,1881270.0 L 700800.0,1881300.0 L 700950.0,1881300.0 L 700950.0,1881330.0 L 701100.0,1881330.0 L 701100.0,1881360.0 L 701250.0,1881360.0 L 701250.0,1881390.0 L 701400.0,1881390.0 L 701400.0,1881420.0 L 701550.0,1881420.0 L 701550.0,1881450.0 L 701700.0,1881450.0 L 701700.0,1881480.0 L 701850.0,1881480.0 L 701850.0,1881510.0 L 702000.0,1881510.0 L 702000.0,1881540.0 L 702150.0,1881540.0 L 702150.0,1881570.0 L 702300.0,1881570.0 L 702300.0,1881600.0 L 702450.0,1881600.0 L 702450.0,1881630.0 L 702600.0,1881630.0 L 702600.0,1881660.0 L 702750.0,1881660.0 L 702750.0,1881690.0 L 702900.0,1881690.0 L 702900.0,1881720.0 L 703050.0,1881720.0 L 703050.0,1881750.0 L 703200.0,1881750.0 L 703200.0,1881780.0 L 703350.0,1881780.0 L 703350.0,1881810.0 L 703500.0,1881810.0 L 703500.0,1881840.0 L 703650.0,1881840.0 L 703650.0,1881870.0 L 703800.0,1881870.0 L 703800.0,1881900.0 L 703950.0,1881900.0 L 703950.0,1881930.0 L 704100.0,1881930.0 L 704100.0,1881960.0 L 704250.0,1881960.0 L 704250.0,1881990.0 L 704400.0,1881990.0 L 704400.0,1882020.0 L 704550.0,1882020.0 L 704550.0,1882050.0 L 704700.0,1882050.0 L 704700.0,1882080.0 L 704850.0,1882080.0 L 704850.0,1882110.0 L 705000.0,1882110.0 L 705000.0,1882140.0 L 705150.0,1882140.0 L 705150.0,1882170.0 L 705300.0,1882170.0 L 705300.0,1882200.0 L 705450.0,1882200.0 L 705450.0,1882230.0 L 705570.0,1882230.0 L 705570.0,1882260.0 L 705720.0,1882260.0 L 705720.0,1882290.0 L 705870.0,1882290.0 L 705870.0,1882320.0 L 706020.0,1882320.0 L 706020.0,1882350.0 L 706170.0,1882350.0 L 706170.0,1882380.0 L 706320.0,1882380.0 L 706320.0,1882410.0 L 706470.0,1882410.0 L 706470.0,1882440.0 L 706620.0,1882440.0 L 706620.0,1882470.0 L 706770.0,1882470.0 L 706770.0,1882500.0 L 706920.0,1882500.0 L 706920.0,1882530.0 L 707070.0,1882530.0 L 707070.0,1882560.0 L 707220.0,1882560.0 L 707220.0,1882590.0 L 707370.0,1882590.0 L 707370.0,1882620.0 L 707520.0,1882620.0 L 707520.0,1882650.0 L 707670.0,1882650.0 L 707670.0,1882680.0 L 707820.0,1882680.0 L 707820.0,1882710.0 L 707970.0,1882710.0 L 707970.0,1882740.0 L 708120.0,1882740.0 L 708120.0,1882800.0 L 708090.0,1882800.0 L 708090.0,1882830.0 L 708060.0,1882830.0 L 708060.0,1882890.0 L 708030.0,1882890.0 L 708030.0,1882920.0 L 708000.0,1882920.0 L 708000.0,1882950.0 L 707970.0,1882950.0 L 707970.0,1882980.0 L 707940.0,1882980.0 L 707940.0,1883010.0 L 707910.0,1883010.0 L 707910.0,1883070.0 L 707880.0,1883070.0 L 707880.0,1883100.0 L 707850.0,1883100.0 L 707850.0,1883130.0 L 707820.0,1883130.0 L 707820.0,1883160.0 L 707790.0,1883160.0 L 707790.0,1883190.0 L 707760.0,1883190.0 L 707760.0,1883220.0 L 707730.0,1883220.0 L 707730.0,1883430.0 L 707760.0,1883430.0 L 707760.0,1883610.0 L 707790.0,1883610.0 L 707790.0,1883700.0 L 707820.0,1883700.0 L 707820.0,1883880.0 L 707790.0,1883880.0 L 707790.0,1883910.0 L 707760.0,1883910.0 L 707760.0,1883940.0 L 707730.0,1883940.0 L 707730.0,1884060.0 L 707760.0,1884060.0 L 707760.0,1884120.0 L 707790.0,1884120.0 L 707790.0,1884180.0 L 707820.0,1884180.0 L 707820.0,1884240.0 L 707850.0,1884240.0 L 707850.0,1884330.0 L 707880.0,1884330.0 L 707880.0,1884390.0 L 707910.0,1884390.0 L 707910.0,1884480.0 L 707940.0,1884480.0 L 707940.0,1884540.0 L 707970.0,1884540.0 L 707970.0,1884570.0 L 708000.0,1884570.0 L 708000.0,1884630.0 L 708030.0,1884630.0 L 708030.0,1884840.0 L 708000.0,1884840.0 L 708000.0,1884900.0 L 707970.0,1884900.0 L 707970.0,1884960.0 L 707940.0,1884960.0 L 707940.0,1884990.0 L 707910.0,1884990.0 L 707910.0,1885020.0 L 707880.0,1885020.0 L 707880.0,1885140.0 L 707850.0,1885140.0 L 707850.0,1885200.0 L 707820.0,1885200.0 L 707820.0,1885230.0 L 707790.0,1885230.0 L 707790.0,1885260.0 L 707760.0,1885260.0 L 707760.0,1885290.0 L 707730.0,1885290.0 L 707730.0,1885320.0 L 707700.0,1885320.0 L 707700.0,1885350.0 L 707670.0,1885350.0 L 707670.0,1885380.0 L 707640.0,1885380.0 L 707640.0,1885410.0 L 707670.0,1885410.0 L 707670.0,1885470.0 L 707700.0,1885470.0 L 707700.0,1885590.0 L 707670.0,1885590.0 L 707670.0,1885620.0 L 707640.0,1885620.0 L 707640.0,1885650.0 L 707610.0,1885650.0 L 707610.0,1885680.0 L 707580.0,1885680.0 L 707580.0,1885710.0 L 707520.0,1885710.0 L 707520.0,1885740.0 L 707490.0,1885740.0 L 707490.0,1885770.0 L 707460.0,1885770.0 L 707460.0,1885800.0 L 707430.0,1885800.0 L 707430.0,1885830.0 L 707400.0,1885830.0 L 707400.0,1885860.0 L 707370.0,1885860.0 L 707370.0,1885890.0 L 707340.0,1885890.0 L 707340.0,1885920.0 L 707310.0,1885920.0 L 707310.0,1885950.0 L 707280.0,1885950.0 L 707280.0,1885980.0 L 707250.0,1885980.0 L 707250.0,1886010.0 L 707220.0,1886010.0 L 707220.0,1886100.0 L 707190.0,1886100.0 L 707190.0,1886160.0 L 707160.0,1886160.0 L 707160.0,1886340.0 L 707190.0,1886340.0 L 707190.0,1886370.0 L 707160.0,1886370.0 L 707160.0,1886400.0 L 707130.0,1886400.0 L 707130.0,1886430.0 L 707100.0,1886430.0 L 707100.0,1886460.0 L 707070.0,1886460.0 L 707070.0,1886490.0 L 707040.0,1886490.0 L 707040.0,1886580.0 L 707070.0,1886580.0 L 707070.0,1886670.0 L 707100.0,1886670.0 L 707100.0,1886760.0 L 707130.0,1886760.0 L 707130.0,1886940.0 L 707100.0,1886940.0 L 707100.0,1887000.0 L 707070.0,1887000.0 L 707070.0,1887030.0 L 707040.0,1887030.0 L 707040.0,1887060.0 L 707010.0,1887060.0 L 707010.0,1887090.0 L 706980.0,1887090.0 L 706980.0,1887120.0 L 706950.0,1887120.0 L 706950.0,1887150.0 L 706920.0,1887150.0 L 706920.0,1887180.0 L 706890.0,1887180.0 L 706890.0,1887240.0 L 706860.0,1887240.0 L 706860.0,1887300.0 L 706830.0,1887300.0 L 706830.0,1887360.0 L 706800.0,1887360.0 L 706800.0,1887420.0 L 706770.0,1887420.0 L 706770.0,1887510.0 L 706740.0,1887510.0 L 706740.0,1887570.0 L 706710.0,1887570.0 L 706710.0,1887660.0 L 706680.0,1887660.0 L 706680.0,1887750.0 L 706650.0,1887750.0 L 706650.0,1887810.0 L 706680.0,1887810.0 L 706680.0,1887870.0 L 706650.0,1887870.0 L 706650.0,1887990.0 L 706680.0,1887990.0 L 706680.0,1888470.0 L 706650.0,1888470.0 L 706650.0,1888830.0 L 706620.0,1888830.0 L 706620.0,1888920.0 L 706590.0,1888920.0 L 706590.0,1889130.0 L 706560.0,1889130.0 L 706560.0,1889190.0 L 706530.0,1889190.0 L 706530.0,1889250.0 L 706500.0,1889250.0 L 706500.0,1889280.0 L 706530.0,1889280.0 L 706530.0,1889490.0 L 706500.0,1889490.0 L 706500.0,1889520.0 L 706470.0,1889520.0 L 706470.0,1889760.0 L 706500.0,1889760.0 L 706500.0,1890180.0 L 706470.0,1890180.0 L 706470.0,1890210.0 L 706440.0,1890210.0 L 706440.0,1890270.0 L 706410.0,1890270.0 L 706410.0,1890360.0 L 706380.0,1890360.0 L 706380.0,1890420.0 L 706350.0,1890420.0 L 706350.0,1890510.0 L 706320.0,1890510.0 L 706320.0,1890570.0 L 706290.0,1890570.0 L 706290.0,1890630.0 L 706260.0,1890630.0 L 706260.0,1890720.0 L 706230.0,1890720.0 L 706230.0,1890840.0 L 706260.0,1890840.0 L 706260.0,1890900.0 L 706290.0,1890900.0 L 706290.0,1891080.0 L 706260.0,1891080.0 L 706260.0,1891200.0 L 706230.0,1891200.0 L 706230.0,1891380.0 L 706200.0,1891380.0 L 706200.0,1891620.0 L 706170.0,1891620.0 L 706170.0,1891830.0 L 706140.0,1891830.0 L 706140.0,1891920.0 L 706110.0,1891920.0 L 706110.0,1892010.0 L 706080.0,1892010.0 L 706080.0,1892100.0 L 706110.0,1892100.0 L 706110.0,1892160.0 L 706080.0,1892160.0 L 706080.0,1892490.0 L 706110.0,1892490.0 L 706110.0,1892580.0 L 706140.0,1892580.0 L 706140.0,1892670.0 L 706170.0,1892670.0 L 706170.0,1892820.0 L 706140.0,1892820.0 L 706140.0,1892850.0 L 706110.0,1892850.0 L 706110.0,1892910.0 L 706080.0,1892910.0 L 706080.0,1892970.0 L 706050.0,1892970.0 L 706050.0,1893030.0 L 706020.0,1893030.0 L 706020.0,1893120.0 L 705990.0,1893120.0 L 705990.0,1893150.0 L 705960.0,1893150.0 L 705960.0,1893300.0 L 705930.0,1893300.0 L 705930.0,1893420.0 L 705900.0,1893420.0 L 705900.0,1893450.0 L 705870.0,1893450.0 L 705870.0,1893480.0 L 705840.0,1893480.0 L 705840.0,1893720.0 L 705810.0,1893720.0 L 705810.0,1893930.0 L 705780.0,1893930.0 L 705780.0,1894140.0 L 705750.0,1894140.0 L 705750.0,1894200.0 L 705720.0,1894200.0 L 705720.0,1894290.0 L 705750.0,1894290.0 L 705750.0,1894410.0 L 705720.0,1894410.0 L 705720.0,1894650.0 L 705690.0,1894650.0 L 705690.0,1894890.0 L 705660.0,1894890.0 L 705660.0,1895220.0 L 705630.0,1895220.0 L 705630.0,1895700.0 L 705600.0,1895700.0 L 705600.0,1895790.0 L 705570.0,1895790.0 L 705570.0,1895940.0 L 705540.0,1895940.0 L 705540.0,1896060.0 L 705510.0,1896060.0 L 705510.0,1896300.0 L 705540.0,1896300.0 L 705540.0,1896420.0 L 705570.0,1896420.0 L 705570.0,1896450.0 L 705540.0,1896450.0 L 705540.0,1896510.0 L 705570.0,1896510.0 L 705570.0,1897110.0 L 705540.0,1897110.0 L 705540.0,1897140.0 L 705510.0,1897140.0 L 705510.0,1897200.0 L 705480.0,1897200.0 L 705480.0,1897230.0 L 705450.0,1897230.0 L 705450.0,1897260.0 L 705420.0,1897260.0 L 705420.0,1897320.0 L 705390.0,1897320.0 L 705390.0,1897560.0 L 705360.0,1897560.0 L 705360.0,1897620.0 L 705330.0,1897620.0 L 705330.0,1897650.0 L 705300.0,1897650.0 L 705300.0,1897680.0 L 705270.0,1897680.0 L 705270.0,1897710.0 L 705240.0,1897710.0 L 705240.0,1897770.0 L 705210.0,1897770.0 L 705210.0,1897830.0 L 705180.0,1897830.0 L 705180.0,1897890.0 L 705150.0,1897890.0 L 705150.0,1897950.0 L 705120.0,1897950.0 L 705120.0,1898010.0 L 705090.0,1898010.0 L 705090.0,1898070.0 L 705120.0,1898070.0 L 705120.0,1898160.0 L 705150.0,1898160.0 L 705150.0,1898490.0 L 705120.0,1898490.0 L 705120.0,1898520.0 L 705090.0,1898520.0 L 705090.0,1898580.0 L 705060.0,1898580.0 L 705060.0,1898610.0 L 705030.0,1898610.0 L 705030.0,1898670.0 L 705000.0,1898670.0 L 705000.0,1898820.0 L 704970.0,1898820.0 L 704970.0,1898880.0 L 704940.0,1898880.0 L 704940.0,1898970.0 L 704910.0,1898970.0 L 704910.0,1899030.0 L 704880.0,1899030.0 L 704880.0,1899150.0 L 704850.0,1899150.0 L 704850.0,1899210.0 L 704820.0,1899210.0 L 704820.0,1899300.0 L 704790.0,1899300.0 L 704790.0,1899360.0 L 704760.0,1899360.0 L 704760.0,1899570.0 L 704790.0,1899570.0 L 704790.0,1899750.0 L 704760.0,1899750.0 L 704760.0,1899810.0 L 704730.0,1899810.0 L 704730.0,1899840.0 L 704760.0,1899840.0 L 704760.0,1899930.0 L 704790.0,1899930.0 L 704790.0,1900050.0 L 704760.0,1900050.0 L 704760.0,1900110.0 L 704730.0,1900110.0 L 704730.0,1900140.0 L 704700.0,1900140.0 L 704700.0,1900350.0 L 704670.0,1900350.0 L 704670.0,1900530.0 L 704640.0,1900530.0 L 704640.0,1901040.0 L 704610.0,1901040.0 L 704610.0,1901160.0 L 704580.0,1901160.0 L 704580.0,1901250.0 L 704550.0,1901250.0 L 704550.0,1901400.0 L 704520.0,1901400.0 L 704520.0,1901550.0 L 704490.0,1901550.0 L 704490.0,1901610.0 L 704460.0,1901610.0 L 704460.0,1901640.0 L 704430.0,1901640.0 L 704430.0,1901670.0 L 704400.0,1901670.0 L 704400.0,1901700.0 L 704370.0,1901700.0 L 704370.0,1901910.0 L 704340.0,1901910.0 L 704340.0,1902300.0 L 704310.0,1902300.0 L 704310.0,1902360.0 L 704280.0,1902360.0 L 704280.0,1902390.0 L 704250.0,1902390.0 L 704250.0,1902420.0 L 704220.0,1902420.0 L 704220.0,1902450.0 L 704190.0,1902450.0 L 704190.0,1902480.0 L 704160.0,1902480.0 L 704160.0,1902510.0 L 704130.0,1902510.0 L 704130.0,1902540.0 L 704100.0,1902540.0 L 704100.0,1902570.0 L 704070.0,1902570.0 L 704070.0,1902630.0 L 704040.0,1902630.0 L 704040.0,1902660.0 L 703980.0,1902660.0 z\" /></g></svg>"
      ],
      "text/plain": [
       "<POLYGON ((703980 1902660, 703980 1902630, 703830 1902630, 703830 1902600, 7...>"
      ]
     },
     "execution_count": 13,
     "metadata": {},
     "output_type": "execute_result"
    }
   ],
   "source": [
    "data[0][0]"
   ]
  },
  {
   "cell_type": "code",
   "execution_count": 14,
   "id": "7d7a40de-ea96-4fc6-9497-47c4120b878f",
   "metadata": {},
   "outputs": [
    {
     "ename": "NameError",
     "evalue": "name 'CRS' is not defined",
     "output_type": "error",
     "traceback": [
      "\u001b[0;31m---------------------------------------------------------------------------\u001b[0m",
      "\u001b[0;31mNameError\u001b[0m                                 Traceback (most recent call last)",
      "Cell \u001b[0;32mIn[14], line 9\u001b[0m\n\u001b[1;32m      6\u001b[0m     geo_4326 \u001b[38;5;241m=\u001b[39m transform(project, geo)\n\u001b[1;32m      7\u001b[0m     \u001b[38;5;28;01mreturn\u001b[39;00m geo_4326\n\u001b[0;32m----> 9\u001b[0m \u001b[43mtransform_geo_to_4326\u001b[49m\u001b[43m(\u001b[49m\u001b[38;5;241;43m*\u001b[39;49m\u001b[43mdata\u001b[49m\u001b[43m[\u001b[49m\u001b[38;5;241;43m0\u001b[39;49m\u001b[43m]\u001b[49m\u001b[43m)\u001b[49m\n",
      "Cell \u001b[0;32mIn[14], line 2\u001b[0m, in \u001b[0;36mtransform_geo_to_4326\u001b[0;34m(geo, src_utm)\u001b[0m\n\u001b[1;32m      1\u001b[0m \u001b[38;5;28;01mdef\u001b[39;00m \u001b[38;5;21mtransform_geo_to_4326\u001b[39m(geo: Polygon, src_utm):\n\u001b[0;32m----> 2\u001b[0m     wgs84 \u001b[38;5;241m=\u001b[39m \u001b[43mCRS\u001b[49m\u001b[38;5;241m.\u001b[39mfrom_epsg(\u001b[38;5;241m4326\u001b[39m)\n\u001b[1;32m      3\u001b[0m     \u001b[38;5;66;03m#geo, src_utm = input_data\u001b[39;00m\n\u001b[1;32m      5\u001b[0m     project \u001b[38;5;241m=\u001b[39m pyproj\u001b[38;5;241m.\u001b[39mTransformer\u001b[38;5;241m.\u001b[39mfrom_crs(src_utm, wgs84, always_xy\u001b[38;5;241m=\u001b[39m\u001b[38;5;28;01mTrue\u001b[39;00m)\u001b[38;5;241m.\u001b[39mtransform\n",
      "\u001b[0;31mNameError\u001b[0m: name 'CRS' is not defined"
     ]
    }
   ],
   "source": [
    "def transform_geo_to_4326(geo: Polygon, src_utm):\n",
    "    wgs84 = CRS.from_epsg(4326)\n",
    "    #geo, src_utm = input_data\n",
    "\n",
    "    project = pyproj.Transformer.from_crs(src_utm, wgs84, always_xy=True).transform\n",
    "    geo_4326 = transform(project, geo)\n",
    "    return geo_4326\n",
    "\n",
    "transform_geo_to_4326(*data[0])"
   ]
  },
  {
   "cell_type": "code",
   "execution_count": null,
   "id": "66dbf936-ec1d-4bd3-9512-e4665588cba2",
   "metadata": {},
   "outputs": [],
   "source": [
    "with WorkerPool(n_jobs=15, use_dill=True) as pool:\n",
    "    geometry_4326_updated = pool.map(\n",
    "        transform_geo_to_4326, (d for d in data), progress_bar=True, progress_bar_style='notebook', iterable_len=len(data)\n",
    "    )"
   ]
  },
  {
   "cell_type": "code",
   "execution_count": null,
   "id": "cf44afa0-4121-4835-ad09-c43e8b117c4c",
   "metadata": {
    "scrolled": true
   },
   "outputs": [],
   "source": [
    "df_burst_cov = gpd.GeoDataFrame(df_rtc_first[['jpl_burst_id']] , geometry=geometry_4326_updated, crs=CRS.from_epsg(4326))\n",
    "df_burst_cov = pd.merge(df_burst_cov, df_rtc_per_burst, on='jpl_burst_id', how='inner')\n",
    "df_burst_cov = df_burst_cov.rename(columns={'count': 'n_acquisitions'})\n",
    "df_burst_cov.head()"
   ]
  },
  {
   "cell_type": "code",
   "execution_count": null,
   "id": "a2572f27-9e7f-45c3-9c72-7f7a269da1cd",
   "metadata": {
    "scrolled": true
   },
   "outputs": [],
   "source": [
    "# fig, ax= plt.subplots(figsize=(15, 5))\n",
    "# df_burst_cov.plot(ax=ax)\n",
    "# df_val_burst.plot(ax=ax, color='yellow')\n",
    "# ax.set_ylim(40, 60)\n",
    "# ax.set_xlim(0, 50)"
   ]
  },
  {
   "cell_type": "markdown",
   "id": "643bb020-dd15-419f-b725-2340c26f4f95",
   "metadata": {},
   "source": [
    "# Spatial Join of Sites and bursts"
   ]
  },
  {
   "cell_type": "code",
   "execution_count": null,
   "id": "a904264a-bed6-48b6-b978-226d4f4e8f63",
   "metadata": {},
   "outputs": [],
   "source": [
    "df_bursts_covering_sites = gpd.sjoin(df_burst_cov, df_site[['site_id', 'geometry']], predicate='intersects', how='inner').reset_index(drop=True)\n",
    "df_bursts_covering_sites.drop(columns='index_right', inplace=True)\n",
    "df_bursts_covering_sites.head()"
   ]
  },
  {
   "cell_type": "code",
   "execution_count": null,
   "id": "d8407057-fbd6-4bf7-8460-08e3d2ca4464",
   "metadata": {},
   "outputs": [],
   "source": [
    "df_bursts_covering_sites.n_acquisitions.unique()"
   ]
  },
  {
   "cell_type": "code",
   "execution_count": null,
   "id": "75fbf577-7c22-496f-ab5d-25944ddd98df",
   "metadata": {},
   "outputs": [],
   "source": [
    "df_bursts_covering_sites = df_bursts_covering_sites[df_bursts_covering_sites.n_acquisitions > 30].reset_index(drop=True)"
   ]
  },
  {
   "cell_type": "code",
   "execution_count": null,
   "id": "ccbcb181-b7d9-4909-bf18-ae103ebaca68",
   "metadata": {},
   "outputs": [],
   "source": [
    "bursts_in_val_and_cov = [b_id for b_id in df_val_burst.jpl_burst_id.tolist() if b_id in df_bursts_covering_sites.jpl_burst_id.tolist()]\n",
    "len(bursts_in_val_and_cov)"
   ]
  },
  {
   "cell_type": "code",
   "execution_count": null,
   "id": "02506353-e0fd-4ad7-8d15-dc37f15d5a53",
   "metadata": {},
   "outputs": [],
   "source": [
    "df_bursts_covering_sites.to_parquet('validation_bursts_v1_coverage_updated.parquet')"
   ]
  }
 ],
 "metadata": {
  "kernelspec": {
   "display_name": "dist-s1",
   "language": "python",
   "name": "dist-s1"
  },
  "language_info": {
   "codemirror_mode": {
    "name": "ipython",
    "version": 3
   },
   "file_extension": ".py",
   "mimetype": "text/x-python",
   "name": "python",
   "nbconvert_exporter": "python",
   "pygments_lexer": "ipython3",
   "version": "3.12.4"
  }
 },
 "nbformat": 4,
 "nbformat_minor": 5
}
