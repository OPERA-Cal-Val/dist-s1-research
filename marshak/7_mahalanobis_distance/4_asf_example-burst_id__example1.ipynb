{
 "cells": [
  {
   "cell_type": "code",
   "execution_count": 1,
   "id": "24973762-b9b0-48b9-9ed0-ea02d6d59061",
   "metadata": {},
   "outputs": [],
   "source": [
    "import rasterio\n",
    "import tqdm\n",
    "import leafmap\n",
    "import geopandas as gpd\n",
    "import pandas as pd\n",
    "import numpy as np\n",
    "from tqdm import tqdm\n",
    "import matplotlib.pyplot as plt\n",
    "import concurrent.futures\n",
    "from mpire import WorkerPool\n",
    "from skimage.restoration import denoise_tv_bregman\n",
    "from sktime.forecasting.fbprophet import Prophet\n",
    "from sktime.forecasting.var import VAR\n",
    "from pathlib import Path\n",
    "import backoff\n",
    "from urllib3.exceptions import HTTPError\n",
    "import requests\n",
    "from rasterio.io import MemoryFile\n",
    "import io\n",
    "import asf_search as asf\n",
    "from shapely.geometry import shape\n",
    "from rasterio.crs import CRS"
   ]
  },
  {
   "cell_type": "code",
   "execution_count": 2,
   "id": "4bc199f2-0dae-4cad-9245-7da597225b0f",
   "metadata": {},
   "outputs": [],
   "source": [
    "BURST_ID = 'T009_019294_IW2'"
   ]
  },
  {
   "cell_type": "code",
   "execution_count": 3,
   "id": "c08f5c22-40ae-46be-b372-2bb752da8c75",
   "metadata": {},
   "outputs": [],
   "source": [
    "# get only the RTC products for a burst id\n",
    "resp = asf.search(operaBurstID=[BURST_ID], processingLevel='RTC')\n",
    "assert resp"
   ]
  },
  {
   "cell_type": "code",
   "execution_count": 4,
   "id": "d386077a-69fc-41c5-b730-8baa15d55b4a",
   "metadata": {},
   "outputs": [
    {
     "name": "stdout",
     "output_type": "stream",
     "text": [
      "(20, 6)\n"
     ]
    },
    {
     "data": {
      "text/html": [
       "<div>\n",
       "<style scoped>\n",
       "    .dataframe tbody tr th:only-of-type {\n",
       "        vertical-align: middle;\n",
       "    }\n",
       "\n",
       "    .dataframe tbody tr th {\n",
       "        vertical-align: top;\n",
       "    }\n",
       "\n",
       "    .dataframe thead th {\n",
       "        text-align: right;\n",
       "    }\n",
       "</style>\n",
       "<table border=\"1\" class=\"dataframe\">\n",
       "  <thead>\n",
       "    <tr style=\"text-align: right;\">\n",
       "      <th></th>\n",
       "      <th>opera_id</th>\n",
       "      <th>start_time</th>\n",
       "      <th>url_vh</th>\n",
       "      <th>url_vv</th>\n",
       "      <th>track_number</th>\n",
       "      <th>geometry</th>\n",
       "    </tr>\n",
       "  </thead>\n",
       "  <tbody>\n",
       "    <tr>\n",
       "      <th>19</th>\n",
       "      <td>OPERA_L2_RTC-S1_T009-019294-IW2_20231007T08475...</td>\n",
       "      <td>2023-10-07 08:47:51+00:00</td>\n",
       "      <td>https://datapool.asf.alaska.edu/RTC/OPERA-S1/O...</td>\n",
       "      <td>https://datapool.asf.alaska.edu/RTC/OPERA-S1/O...</td>\n",
       "      <td>9</td>\n",
       "      <td>POLYGON ((143.32562 -5.40839, 143.36870 -5.398...</td>\n",
       "    </tr>\n",
       "    <tr>\n",
       "      <th>18</th>\n",
       "      <td>OPERA_L2_RTC-S1_T009-019294-IW2_20231019T08475...</td>\n",
       "      <td>2023-10-19 08:47:51+00:00</td>\n",
       "      <td>https://datapool.asf.alaska.edu/RTC/OPERA-S1/O...</td>\n",
       "      <td>https://datapool.asf.alaska.edu/RTC/OPERA-S1/O...</td>\n",
       "      <td>9</td>\n",
       "      <td>POLYGON ((143.32543 -5.40847, 143.36851 -5.398...</td>\n",
       "    </tr>\n",
       "    <tr>\n",
       "      <th>17</th>\n",
       "      <td>OPERA_L2_RTC-S1_T009-019294-IW2_20231031T08475...</td>\n",
       "      <td>2023-10-31 08:47:51+00:00</td>\n",
       "      <td>https://datapool.asf.alaska.edu/RTC/OPERA-S1/O...</td>\n",
       "      <td>https://datapool.asf.alaska.edu/RTC/OPERA-S1/O...</td>\n",
       "      <td>9</td>\n",
       "      <td>POLYGON ((143.32647 -5.40917, 144.11392 -5.234...</td>\n",
       "    </tr>\n",
       "    <tr>\n",
       "      <th>16</th>\n",
       "      <td>OPERA_L2_RTC-S1_T009-019294-IW2_20231112T08475...</td>\n",
       "      <td>2023-11-12 08:47:51+00:00</td>\n",
       "      <td>https://datapool.asf.alaska.edu/RTC/OPERA-S1/O...</td>\n",
       "      <td>https://datapool.asf.alaska.edu/RTC/OPERA-S1/O...</td>\n",
       "      <td>9</td>\n",
       "      <td>POLYGON ((143.32594 -5.40897, 144.11342 -5.234...</td>\n",
       "    </tr>\n",
       "    <tr>\n",
       "      <th>15</th>\n",
       "      <td>OPERA_L2_RTC-S1_T009-019294-IW2_20231124T08475...</td>\n",
       "      <td>2023-11-24 08:47:50+00:00</td>\n",
       "      <td>https://datapool.asf.alaska.edu/RTC/OPERA-S1/O...</td>\n",
       "      <td>https://datapool.asf.alaska.edu/RTC/OPERA-S1/O...</td>\n",
       "      <td>9</td>\n",
       "      <td>POLYGON ((143.32749 -5.40822, 144.11495 -5.233...</td>\n",
       "    </tr>\n",
       "  </tbody>\n",
       "</table>\n",
       "</div>"
      ],
      "text/plain": [
       "                                             opera_id  \\\n",
       "19  OPERA_L2_RTC-S1_T009-019294-IW2_20231007T08475...   \n",
       "18  OPERA_L2_RTC-S1_T009-019294-IW2_20231019T08475...   \n",
       "17  OPERA_L2_RTC-S1_T009-019294-IW2_20231031T08475...   \n",
       "16  OPERA_L2_RTC-S1_T009-019294-IW2_20231112T08475...   \n",
       "15  OPERA_L2_RTC-S1_T009-019294-IW2_20231124T08475...   \n",
       "\n",
       "                  start_time  \\\n",
       "19 2023-10-07 08:47:51+00:00   \n",
       "18 2023-10-19 08:47:51+00:00   \n",
       "17 2023-10-31 08:47:51+00:00   \n",
       "16 2023-11-12 08:47:51+00:00   \n",
       "15 2023-11-24 08:47:50+00:00   \n",
       "\n",
       "                                               url_vh  \\\n",
       "19  https://datapool.asf.alaska.edu/RTC/OPERA-S1/O...   \n",
       "18  https://datapool.asf.alaska.edu/RTC/OPERA-S1/O...   \n",
       "17  https://datapool.asf.alaska.edu/RTC/OPERA-S1/O...   \n",
       "16  https://datapool.asf.alaska.edu/RTC/OPERA-S1/O...   \n",
       "15  https://datapool.asf.alaska.edu/RTC/OPERA-S1/O...   \n",
       "\n",
       "                                               url_vv  track_number  \\\n",
       "19  https://datapool.asf.alaska.edu/RTC/OPERA-S1/O...             9   \n",
       "18  https://datapool.asf.alaska.edu/RTC/OPERA-S1/O...             9   \n",
       "17  https://datapool.asf.alaska.edu/RTC/OPERA-S1/O...             9   \n",
       "16  https://datapool.asf.alaska.edu/RTC/OPERA-S1/O...             9   \n",
       "15  https://datapool.asf.alaska.edu/RTC/OPERA-S1/O...             9   \n",
       "\n",
       "                                             geometry  \n",
       "19  POLYGON ((143.32562 -5.40839, 143.36870 -5.398...  \n",
       "18  POLYGON ((143.32543 -5.40847, 143.36851 -5.398...  \n",
       "17  POLYGON ((143.32647 -5.40917, 144.11392 -5.234...  \n",
       "16  POLYGON ((143.32594 -5.40897, 144.11342 -5.234...  \n",
       "15  POLYGON ((143.32749 -5.40822, 144.11495 -5.233...  "
      ]
     },
     "execution_count": 4,
     "metadata": {},
     "output_type": "execute_result"
    }
   ],
   "source": [
    "properties = [r.properties for r in resp]\n",
    "geometry = [shape(r.geojson()['geometry']) for r in resp]\n",
    "properties_f = [{'opera_id': p['sceneName'], \n",
    "                 'start_time': pd.to_datetime(p['startTime']),\n",
    "                 'polarization': p['polarization'],\n",
    "                 'url_vh': p['url'], \n",
    "                 'url_vv': (p['url'].replace('_VH.tif', '_VV.tif')),\n",
    "                 'track_number': p['pathNumber']} for p in properties]\n",
    "\n",
    "df_rtc_ts = gpd.GeoDataFrame(properties_f, geometry=geometry, crs=CRS.from_epsg(4326))\n",
    "df_rtc_ts = df_rtc_ts.sort_values(by='start_time')\n",
    "df_rtc_ts.drop(columns=['polarization'], inplace=True)\n",
    "print(df_rtc_ts.shape)\n",
    "df_rtc_ts.head()"
   ]
  },
  {
   "cell_type": "code",
   "execution_count": 5,
   "id": "b41d8c05-5197-4ab8-8d80-f79b4999e802",
   "metadata": {},
   "outputs": [
    {
     "data": {
      "text/plain": [
       "(20, 6)"
      ]
     },
     "execution_count": 5,
     "metadata": {},
     "output_type": "execute_result"
    }
   ],
   "source": [
    "df_rtc_ts.shape"
   ]
  },
  {
   "cell_type": "markdown",
   "id": "c93979c9-cfcc-4c67-8872-f1f6b70af9f6",
   "metadata": {},
   "source": [
    "There can be duplicates."
   ]
  },
  {
   "cell_type": "code",
   "execution_count": 6,
   "id": "825693f5-5ded-49dc-bebf-8cadf054f279",
   "metadata": {},
   "outputs": [
    {
     "data": {
      "text/html": [
       "<div>\n",
       "<style scoped>\n",
       "    .dataframe tbody tr th:only-of-type {\n",
       "        vertical-align: middle;\n",
       "    }\n",
       "\n",
       "    .dataframe tbody tr th {\n",
       "        vertical-align: top;\n",
       "    }\n",
       "\n",
       "    .dataframe thead th {\n",
       "        text-align: right;\n",
       "    }\n",
       "</style>\n",
       "<table border=\"1\" class=\"dataframe\">\n",
       "  <thead>\n",
       "    <tr style=\"text-align: right;\">\n",
       "      <th></th>\n",
       "      <th>opera_id</th>\n",
       "      <th>start_time</th>\n",
       "      <th>url_vh</th>\n",
       "      <th>url_vv</th>\n",
       "      <th>track_number</th>\n",
       "      <th>geometry</th>\n",
       "      <th>dedup_id</th>\n",
       "    </tr>\n",
       "  </thead>\n",
       "  <tbody>\n",
       "    <tr>\n",
       "      <th>19</th>\n",
       "      <td>OPERA_L2_RTC-S1_T009-019294-IW2_20231007T08475...</td>\n",
       "      <td>2023-10-07 08:47:51+00:00</td>\n",
       "      <td>https://datapool.asf.alaska.edu/RTC/OPERA-S1/O...</td>\n",
       "      <td>https://datapool.asf.alaska.edu/RTC/OPERA-S1/O...</td>\n",
       "      <td>9</td>\n",
       "      <td>POLYGON ((143.32562 -5.40839, 143.36870 -5.398...</td>\n",
       "      <td>OPERA_L2_RTC-S1_T009-019294-IW2_20231007T084751Z</td>\n",
       "    </tr>\n",
       "    <tr>\n",
       "      <th>18</th>\n",
       "      <td>OPERA_L2_RTC-S1_T009-019294-IW2_20231019T08475...</td>\n",
       "      <td>2023-10-19 08:47:51+00:00</td>\n",
       "      <td>https://datapool.asf.alaska.edu/RTC/OPERA-S1/O...</td>\n",
       "      <td>https://datapool.asf.alaska.edu/RTC/OPERA-S1/O...</td>\n",
       "      <td>9</td>\n",
       "      <td>POLYGON ((143.32543 -5.40847, 143.36851 -5.398...</td>\n",
       "      <td>OPERA_L2_RTC-S1_T009-019294-IW2_20231019T084751Z</td>\n",
       "    </tr>\n",
       "    <tr>\n",
       "      <th>17</th>\n",
       "      <td>OPERA_L2_RTC-S1_T009-019294-IW2_20231031T08475...</td>\n",
       "      <td>2023-10-31 08:47:51+00:00</td>\n",
       "      <td>https://datapool.asf.alaska.edu/RTC/OPERA-S1/O...</td>\n",
       "      <td>https://datapool.asf.alaska.edu/RTC/OPERA-S1/O...</td>\n",
       "      <td>9</td>\n",
       "      <td>POLYGON ((143.32647 -5.40917, 144.11392 -5.234...</td>\n",
       "      <td>OPERA_L2_RTC-S1_T009-019294-IW2_20231031T084751Z</td>\n",
       "    </tr>\n",
       "    <tr>\n",
       "      <th>16</th>\n",
       "      <td>OPERA_L2_RTC-S1_T009-019294-IW2_20231112T08475...</td>\n",
       "      <td>2023-11-12 08:47:51+00:00</td>\n",
       "      <td>https://datapool.asf.alaska.edu/RTC/OPERA-S1/O...</td>\n",
       "      <td>https://datapool.asf.alaska.edu/RTC/OPERA-S1/O...</td>\n",
       "      <td>9</td>\n",
       "      <td>POLYGON ((143.32594 -5.40897, 144.11342 -5.234...</td>\n",
       "      <td>OPERA_L2_RTC-S1_T009-019294-IW2_20231112T084751Z</td>\n",
       "    </tr>\n",
       "    <tr>\n",
       "      <th>15</th>\n",
       "      <td>OPERA_L2_RTC-S1_T009-019294-IW2_20231124T08475...</td>\n",
       "      <td>2023-11-24 08:47:50+00:00</td>\n",
       "      <td>https://datapool.asf.alaska.edu/RTC/OPERA-S1/O...</td>\n",
       "      <td>https://datapool.asf.alaska.edu/RTC/OPERA-S1/O...</td>\n",
       "      <td>9</td>\n",
       "      <td>POLYGON ((143.32749 -5.40822, 144.11495 -5.233...</td>\n",
       "      <td>OPERA_L2_RTC-S1_T009-019294-IW2_20231124T084750Z</td>\n",
       "    </tr>\n",
       "  </tbody>\n",
       "</table>\n",
       "</div>"
      ],
      "text/plain": [
       "                                             opera_id  \\\n",
       "19  OPERA_L2_RTC-S1_T009-019294-IW2_20231007T08475...   \n",
       "18  OPERA_L2_RTC-S1_T009-019294-IW2_20231019T08475...   \n",
       "17  OPERA_L2_RTC-S1_T009-019294-IW2_20231031T08475...   \n",
       "16  OPERA_L2_RTC-S1_T009-019294-IW2_20231112T08475...   \n",
       "15  OPERA_L2_RTC-S1_T009-019294-IW2_20231124T08475...   \n",
       "\n",
       "                  start_time  \\\n",
       "19 2023-10-07 08:47:51+00:00   \n",
       "18 2023-10-19 08:47:51+00:00   \n",
       "17 2023-10-31 08:47:51+00:00   \n",
       "16 2023-11-12 08:47:51+00:00   \n",
       "15 2023-11-24 08:47:50+00:00   \n",
       "\n",
       "                                               url_vh  \\\n",
       "19  https://datapool.asf.alaska.edu/RTC/OPERA-S1/O...   \n",
       "18  https://datapool.asf.alaska.edu/RTC/OPERA-S1/O...   \n",
       "17  https://datapool.asf.alaska.edu/RTC/OPERA-S1/O...   \n",
       "16  https://datapool.asf.alaska.edu/RTC/OPERA-S1/O...   \n",
       "15  https://datapool.asf.alaska.edu/RTC/OPERA-S1/O...   \n",
       "\n",
       "                                               url_vv  track_number  \\\n",
       "19  https://datapool.asf.alaska.edu/RTC/OPERA-S1/O...             9   \n",
       "18  https://datapool.asf.alaska.edu/RTC/OPERA-S1/O...             9   \n",
       "17  https://datapool.asf.alaska.edu/RTC/OPERA-S1/O...             9   \n",
       "16  https://datapool.asf.alaska.edu/RTC/OPERA-S1/O...             9   \n",
       "15  https://datapool.asf.alaska.edu/RTC/OPERA-S1/O...             9   \n",
       "\n",
       "                                             geometry  \\\n",
       "19  POLYGON ((143.32562 -5.40839, 143.36870 -5.398...   \n",
       "18  POLYGON ((143.32543 -5.40847, 143.36851 -5.398...   \n",
       "17  POLYGON ((143.32647 -5.40917, 144.11392 -5.234...   \n",
       "16  POLYGON ((143.32594 -5.40897, 144.11342 -5.234...   \n",
       "15  POLYGON ((143.32749 -5.40822, 144.11495 -5.233...   \n",
       "\n",
       "                                            dedup_id  \n",
       "19  OPERA_L2_RTC-S1_T009-019294-IW2_20231007T084751Z  \n",
       "18  OPERA_L2_RTC-S1_T009-019294-IW2_20231019T084751Z  \n",
       "17  OPERA_L2_RTC-S1_T009-019294-IW2_20231031T084751Z  \n",
       "16  OPERA_L2_RTC-S1_T009-019294-IW2_20231112T084751Z  \n",
       "15  OPERA_L2_RTC-S1_T009-019294-IW2_20231124T084750Z  "
      ]
     },
     "execution_count": 6,
     "metadata": {},
     "output_type": "execute_result"
    }
   ],
   "source": [
    "df_rtc_ts['dedup_id'] = df_rtc_ts.opera_id.map(lambda id_: '_'.join(id_.split('_')[:5]))\n",
    "df_rtc_ts.head()"
   ]
  },
  {
   "cell_type": "markdown",
   "id": "e28f617e-544b-4ca9-82e6-ad234c9206b8",
   "metadata": {},
   "source": [
    "Duplicate RTCs"
   ]
  },
  {
   "cell_type": "code",
   "execution_count": 7,
   "id": "f99079c5-6842-4e34-a6a3-c2bfcffe4bb8",
   "metadata": {},
   "outputs": [
    {
     "data": {
      "text/plain": [
       "(20, 7)"
      ]
     },
     "execution_count": 7,
     "metadata": {},
     "output_type": "execute_result"
    }
   ],
   "source": [
    "df_rtc_ts = df_rtc_ts.drop_duplicates(subset=['dedup_id'])\n",
    "df_rtc_ts.shape"
   ]
  },
  {
   "cell_type": "markdown",
   "id": "a09c23ed-8967-4f25-b6b5-91902f0f57fc",
   "metadata": {},
   "source": [
    "Need ~/.netrc with earthdata credentials for below to work!"
   ]
  },
  {
   "cell_type": "code",
   "execution_count": 8,
   "id": "8714a9b5-cd05-4155-ac8c-6dfa0101c118",
   "metadata": {},
   "outputs": [],
   "source": [
    "@backoff.on_exception(backoff.expo,\n",
    "                      HTTPError,\n",
    "                      max_tries=10,\n",
    "                      max_time=60,\n",
    "                      jitter=backoff.full_jitter)\n",
    "def read_bytes(url: str,) -> bytes:\n",
    "    resp = requests.get(url)\n",
    "    data = io.BytesIO(resp.content)\n",
    "    return data\n",
    "\n",
    "\n",
    "def read_one_asf(url: str) -> tuple[np.ndarray, dict]:\n",
    "    img_bytes = read_bytes(url)\n",
    "    with MemoryFile(img_bytes, filename=url.split('/')[-1]) as memfile:\n",
    "        with memfile.open() as dataset:\n",
    "            arr = dataset.read(1).astype(np.float32)\n",
    "            prof = dataset.profile\n",
    "    del img_bytes\n",
    "    return arr, prof\n",
    "\n",
    "\n",
    "@backoff.on_exception(backoff.expo,\n",
    "                      HTTPError,\n",
    "                      max_tries=10,\n",
    "                      max_time=60,\n",
    "                      jitter=backoff.full_jitter)\n",
    "def open_one(path: str) -> tuple:\n",
    "    with rasterio.open(path) as ds:\n",
    "        X = ds.read(1)\n",
    "        p = ds.profile\n",
    "    X = np.clip(X, 0, 1)\n",
    "    return (X), p\n",
    "\n",
    "def normalize_pol_ratio(img: np.ndarray, max_factor: float = 4.):\n",
    "    vmax = max_factor\n",
    "    vmin = 1e-7\n",
    "    \n",
    "    img_out = img.copy()\n",
    "    img_out = np.clip(img_out, vmin, vmax)\n",
    "\n",
    "    img_out = (img_out - vmin) / (vmax - vmin)    \n",
    "    return img_out\n",
    "    \n",
    "\n",
    "def despeckle_one(X: np.ndarray, reg_param=2, noise_floor_db = -22) -> np.ndarray:\n",
    "    X_c = np.clip(X, 1e-7, 1)\n",
    "    X_db = 10 * np.log10(X_c, out=np.full(X_c.shape, np.nan), where=(~np.isnan(X_c)))\n",
    "    X_db[np.isnan(X_c)] = noise_floor_db\n",
    "    X_db_dspkl = denoise_tv_bregman(X_db, weight=.2, isotropic=True, eps=1e-3)\n",
    "    X_dspkl = np.power(10, X_db_dspkl / 10.)\n",
    "    X_dspkl[np.isnan(X)] = np.nan\n",
    "    X_dspkl = np.clip(X_dspkl, 0, 1)\n",
    "    return X_dspkl"
   ]
  },
  {
   "cell_type": "code",
   "execution_count": 9,
   "id": "c930947a-1b13-407a-bac9-b332d94eeb30",
   "metadata": {},
   "outputs": [
    {
     "name": "stderr",
     "output_type": "stream",
     "text": [
      "100%|████████████████████████████████████████████████████████████████████| 20/20 [00:33<00:00,  1.66s/it]\n"
     ]
    }
   ],
   "source": [
    "I = 0\n",
    "K = df_rtc_ts.shape[0]\n",
    "\n",
    "with concurrent.futures.ThreadPoolExecutor(max_workers=5) as executor:\n",
    "    data = list(tqdm(executor.map(read_one_asf, df_rtc_ts.url_vv[I:I + K]), total=K))\n",
    "arrs_vv, profiles = zip(*data)"
   ]
  },
  {
   "cell_type": "code",
   "execution_count": 10,
   "id": "f274005d-1c18-46c8-aedd-b82daef259ca",
   "metadata": {},
   "outputs": [
    {
     "data": {
      "text/plain": [
       "<matplotlib.image.AxesImage at 0x1787feed0>"
      ]
     },
     "execution_count": 10,
     "metadata": {},
     "output_type": "execute_result"
    },
    {
     "data": {
      "image/png": "[encoded data removed]",
      "text/plain": [
       "<Figure size 640x480 with 1 Axes>"
      ]
     },
     "metadata": {},
     "output_type": "display_data"
    }
   ],
   "source": [
    "plt.imshow(arrs_vv[0], vmin=0, vmax=1)"
   ]
  },
  {
   "cell_type": "code",
   "execution_count": 11,
   "id": "811664a6-1e04-4068-838f-b226ca3cfeec",
   "metadata": {},
   "outputs": [
    {
     "name": "stderr",
     "output_type": "stream",
     "text": [
      "100%|████████████████████████████████████████████████████████████████████| 20/20 [00:29<00:00,  1.46s/it]\n"
     ]
    }
   ],
   "source": [
    "I = 0\n",
    "K = df_rtc_ts.shape[0]\n",
    "\n",
    "with concurrent.futures.ThreadPoolExecutor(max_workers=5) as executor:\n",
    "    data = list(tqdm(executor.map(read_one_asf, df_rtc_ts.url_vh[I:I + K]), total=K))\n",
    "arrs_vh, profiles = zip(*data)"
   ]
  },
  {
   "cell_type": "code",
   "execution_count": 12,
   "id": "fade2910-db81-417c-975e-21d2de8e9346",
   "metadata": {},
   "outputs": [
    {
     "name": "stdout",
     "output_type": "stream",
     "text": [
      " "
     ]
    },
    {
     "data": {
      "application/vnd.jupyter.widget-view+json": {
       "model_id": "c745a1531b4749a49bf6fba08be39243",
       "version_major": 2,
       "version_minor": 0
      },
      "text/plain": [
       "  0%|                                                                             | 0/20 [00:00<?, ?it/s]"
      ]
     },
     "metadata": {},
     "output_type": "display_data"
    }
   ],
   "source": [
    "with WorkerPool(n_jobs=10, use_dill=True) as pool:\n",
    "    arrs_vv_d = pool.map(despeckle_one,\n",
    "                         arrs_vv, \n",
    "                         progress_bar=True, \n",
    "                         progress_bar_style='notebook', \n",
    "                         concatenate_numpy_output=False)"
   ]
  },
  {
   "cell_type": "code",
   "execution_count": 13,
   "id": "9c867539-09f0-42a6-b07f-757fb3ed912b",
   "metadata": {},
   "outputs": [
    {
     "data": {
      "application/vnd.jupyter.widget-view+json": {
       "model_id": "0a7438be5f104bbe9530d32b0552cb04",
       "version_major": 2,
       "version_minor": 0
      },
      "text/plain": [
       "  0%|                                                                             | 0/20 [00:00<?, ?it/s]"
      ]
     },
     "metadata": {},
     "output_type": "display_data"
    }
   ],
   "source": [
    "with WorkerPool(n_jobs=10, use_dill=True) as pool:\n",
    "    arrs_vh_d = pool.map(despeckle_one, \n",
    "                         arrs_vh, \n",
    "                         progress_bar=True, \n",
    "                         progress_bar_style='notebook', \n",
    "                         concatenate_numpy_output=False)"
   ]
  },
  {
   "cell_type": "code",
   "execution_count": 14,
   "id": "b85b7a42-f584-4094-8d48-f8e2fb64de18",
   "metadata": {},
   "outputs": [],
   "source": [
    "from astropy.convolution import convolve\n",
    "\n",
    "def get_spatiotemporal_mu_1d(arrs: np.ndarray,\n",
    "                             kernel_width=3,\n",
    "                             kernel_height=3) -> np.ndarray:\n",
    "    k_shape = (1, kernel_height, kernel_width)\n",
    "    kernel = np.ones(k_shape, dtype=np.float32) / np.prod(k_shape)\n",
    "    \n",
    "    mus_spatial = convolve(arrs, \n",
    "                           kernel, \n",
    "                           boundary=\"extend\", \n",
    "                           nan_treatment='interpolate')\n",
    "    mu_st = np.mean(mus_spatial, axis=0)\n",
    "    return mu_st\n",
    "\n",
    "def get_spatiotemporal_var_1d(arrs: np.ndarray,\n",
    "                              mu_st=None,\n",
    "                              kernel_width=3,\n",
    "                              kernel_height=3\n",
    "                              ) -> np.ndarray:\n",
    "    if mu_st is None:\n",
    "        mu_st = get_spatiotemporal_mu(arrs, \n",
    "                                      kernel_width=kernel_width, \n",
    "                                      kernel_height=kernel_height)\n",
    "    \n",
    "    k_shape = (1, kernel_height, kernel_width)\n",
    "    kernel = np.ones(k_shape, dtype=np.float32) / np.prod(k_shape)\n",
    "    \n",
    "    var_s = convolve((arrs - mu_st)**2, \n",
    "                     kernel, \n",
    "                     boundary=\"extend\", \n",
    "                     nan_treatment='interpolate')\n",
    "    var_st = np.mean(var_s, axis=0) \n",
    "    return var_st\n",
    "\n",
    "def get_spatiotemporal_cor(arrs: np.ndarray,\n",
    "                                mu_st=None,\n",
    "                                kernel_width=3,\n",
    "                                kernel_height=3\n",
    "                              ) -> np.ndarray:\n",
    "    _, C, _, _ = arrs.shape\n",
    "    if C != 2:\n",
    "        raise ValueError('input arrs must have 2 channels!')\n",
    "    if mu_st is None:\n",
    "        mu_st = get_spatiotemporal_mu(arrs, \n",
    "                                      kernel_width=kernel_width, \n",
    "                                      kernel_height=kernel_height)\n",
    "    CC, _, _ = mu_st.shape\n",
    "    if CC != 2:\n",
    "        raise ValueError('spatiotemporal mean must be 2!')\n",
    "    \n",
    "    k_shape = (1, kernel_height, kernel_width)\n",
    "    kernel = np.ones(k_shape, dtype=np.float32) / np.prod(k_shape)\n",
    "\n",
    "    covar_s = convolve((arrs[:, 0, ...] - mu_st[0, ...]) * (arrs[:, 1, ...] - mu_st[1, ...]), \n",
    "                       kernel, \n",
    "                       boundary=\"extend\", \n",
    "                       nan_treatment='interpolate')\n",
    "    covar_st = np.mean(covar_s, axis=0) \n",
    "    return covar_st\n",
    "\n",
    "\n",
    "def get_spatiotemporal_mu(arrs: np.ndarray,\n",
    "                             kernel_width=3,\n",
    "                             kernel_height=3) -> np.ndarray:\n",
    "    T, C, H, W = arrs.shape\n",
    "    mu_st = np.full((C, H, W), np.nan)\n",
    "    for c in range(C):\n",
    "        mu_st[c,...] = get_spatiotemporal_mu_1d(arrs[:, c, ...])\n",
    "    \n",
    "    return mu_st\n",
    "\n",
    "def get_spatiotemporal_covar(arrs: np.ndarray,\n",
    "                              mu_st=None,\n",
    "                              kernel_width=3,\n",
    "                              kernel_height=3\n",
    "                              ) -> np.ndarray:\n",
    "    if mu_st is None:\n",
    "        mu_st = get_spatiotemporal_mu(arrs, \n",
    "                                      kernel_width=kernel_width, \n",
    "                                      kernel_height=kernel_height)\n",
    "    \n",
    "    T, C, H, W = arrs.shape\n",
    "    cov_st = np.full((C, C, H, W), np.nan)\n",
    "    for c in range(C):\n",
    "        cov_st[c, c,...] = get_spatiotemporal_var_1d(arrs[:, c, ...], \n",
    "                                                     mu_st=mu_st[c, ...], \n",
    "                                                     kernel_width=kernel_width, \n",
    "                                                     kernel_height=kernel_height)\n",
    "    for c in range(C):\n",
    "        for d in range(c, C):\n",
    "            if c != d:\n",
    "\n",
    "                covar_temp = get_spatiotemporal_cor(arrs[:, [c, d], ...], \n",
    "                                                    mu_st=mu_st[[c, d], ...], \n",
    "                                                    kernel_width=kernel_width, \n",
    "                                                    kernel_height=kernel_height)\n",
    "                print(cov_st[c, d,...].shape)\n",
    "                print(covar_temp.shape)\n",
    "                cov_st[c, d,...] = cov_st[d, c,...] = covar_temp\n",
    "    return cov_st\n",
    "\n",
    "def invert_2d_cov(cov: np.ndarray) -> np.ndarray:\n",
    "    det = cov[0, 0, ...] * cov[1, 1, ...] - 2 * cov[0, 1, ...]\n",
    "    covar_inv = np.full(cov.shape, np.nan)\n",
    "    covar_inv[0, 0, ...] = 1 / det * cov[1, 1, ...]\n",
    "    covar_inv[1, 1, ...] = 1 / det * cov[0, 0, ...]\n",
    "    t = - 1 / det * cov[0, 1, ...]\n",
    "    covar_inv[0, 1, ...] = t\n",
    "    covar_inv[1, 0, ...] = t\n",
    "    return covar_inv\n",
    "\n",
    "def get_eigh_2by2(cov_mat: np.ndarray) -> np.ndarray:\n",
    "    \"\"\"\n",
    "    References:\n",
    "    https://math.stackexchange.com/questions/395698/fast-way-to-calculate-eigen-of-2x2-matrix-using-a-formula\n",
    "    https://people.math.harvard.edu/~knill/teaching/math21b2004/exhibits/2dmatrices/index.html\n",
    "    \"\"\"\n",
    "    eigval = np.diagonal(cov_mat, axis1=0, axis2=1).transpose([2, 0, 1]) # so it's 2 x H X W\n",
    "    eigvec = np.zeros(cov_mat.shape)\n",
    "\n",
    "    case_1 = (cov_mat[0, 1, ...] != 0)\n",
    "    case_2 = ~case_1\n",
    "\n",
    "    case_1_cov = cov_mat[..., case_1]\n",
    "    case_1_eigval = eigval[..., case_1]\n",
    "    \n",
    "    case_2_cov = cov_mat[..., ~case_1]\n",
    "    case_2_eigval = eigval[..., ~case_1]\n",
    "    \n",
    "    eigvec[0, 0, case_1] = case_1_eigval[0, ...] - case_1_cov[1, 1, ...]\n",
    "    eigvec[1, 0, case_1] = case_1_cov[0, 1, ...]\n",
    "    \n",
    "    # Make sure the eigenvector is normalized so that the matrix of eigenvectors has an inverse that is its transpose\n",
    "    n = np.sqrt(eigvec[1, 0, case_1] ** 2 + eigvec[0, 0, case_1]**2)\n",
    "    eigvec[0, 0, case_1] /= n\n",
    "    eigvec[1, 0, case_1] /= n\n",
    "\n",
    "    eigvec[0, 1, case_1] = case_1_eigval[1, ...] - case_1_cov[1, 1, ...]\n",
    "    eigvec[1, 1, case_1] = case_1_cov[1, 0, ...]\n",
    "\n",
    "    # Make sure the eigenvector is normalized so that the matrix of eigenvectors has an inverse that is its transpose\n",
    "    n = np.sqrt(eigvec[0, 1, case_1] ** 2 + eigvec[1, 1, case_1]**2)\n",
    "    eigvec[0, 1, case_1] /= n\n",
    "    eigvec[1, 1, case_1] /= n\n",
    "\n",
    "    eigvec[0, 0, case_2] = 1\n",
    "    eigvec[1, 1, case_2] = 1\n",
    "    \n",
    "    return eigval, eigvec\n",
    "\n",
    "\n",
    "def get_mahalanobis_dist(pre_arrs: np.ndarray,\n",
    "                         post_arr: np.ndarray,\n",
    "                         kernel_width=3,\n",
    "                         kernel_height=3,\n",
    "                         eig_lb: float = .0001 * np.sqrt(2), #(1e-4 * 2 ** .5), #6.309e-3,#(.01 * 2 ** .5)\n",
    "                        ) -> tuple[np.ndarray]:\n",
    "                \n",
    "    mu_st = get_spatiotemporal_mu(pre_arrs, \n",
    "                                  kernel_width=kernel_width, \n",
    "                                  kernel_height=kernel_height)\n",
    "    covar_st = get_spatiotemporal_covar(pre_arrs, \n",
    "                                        mu_st=mu_st, \n",
    "                                        kernel_width=kernel_width, \n",
    "                                        kernel_height=kernel_height)\n",
    "\n",
    "    eigval, eigvec = get_eigh_2by2(covar_st)\n",
    "    # This is the floor we discused earlier except this is for the variance matrix so our LB is .01\n",
    "    # We want the matrix norm to be at least .01 so we make sure each eigenvalue is .01 * \\sqrt 2\n",
    "    eigval_clip = np.maximum(eigval,  eig_lb)\n",
    "    eigval_clip_inv = eigval_clip ** -1\n",
    "    \n",
    "    # Diag matrix is the diagonal matrix of eigenvalues\n",
    "    diag_matrix = np.zeros(eigvec.shape, dtype=np.float32)\n",
    "    diag_matrix[0, 0, ...] = eigval_clip_inv[0, ...] \n",
    "    diag_matrix[1, 1, ...] = eigval_clip_inv[1, ...]\n",
    "\n",
    "    # Matrix multiplication to reconstruct the Sigma^-1  = V^T D V where V is the \n",
    "    # matrix whose colums are eignevectors and D is the diagonal matrix of eigenvalues\n",
    "    covar_st_inv_floor_t = np.einsum('ijmn,jkmn->ikmn', diag_matrix, eigvec)\n",
    "    covar_st_inv_floor = np.einsum('ijmn,jkmn->ikmn', eigvec.transpose([1, 0, 2, 3]), covar_st_inv_floor_t)\n",
    "    \n",
    "    # Finally compute the Mahalanobis distance!\n",
    "    vec = post_arr - mu_st\n",
    "    dist_0 = np.einsum('ijkl,jkl->ikl', covar_st_inv_floor, vec)\n",
    "    dist_1 = np.einsum('ijk,ijk->jk', vec, dist_0)\n",
    "    dist = np.sqrt(dist_1)\n",
    "    return mu_st, covar_st, covar_st_inv_floor, dist"
   ]
  },
  {
   "cell_type": "code",
   "execution_count": 15,
   "id": "489ecc68-c97f-46e2-b094-730e14bc623a",
   "metadata": {},
   "outputs": [
    {
     "data": {
      "text/plain": [
       "(20, 2, 1669, 3440)"
      ]
     },
     "execution_count": 15,
     "metadata": {},
     "output_type": "execute_result"
    }
   ],
   "source": [
    "dual_pol = [np.stack([vv, vh], axis=0) for (vv, vh) in zip(arrs_vv_d, arrs_vh_d)]\n",
    "ts = np.stack(dual_pol, axis=0)\n",
    "ts.shape"
   ]
  },
  {
   "cell_type": "code",
   "execution_count": 16,
   "id": "b6a956bf-4a9f-4e6a-8241-34acc79c94ed",
   "metadata": {},
   "outputs": [
    {
     "name": "stdout",
     "output_type": "stream",
     "text": [
      "0 2023-10-07 08:47:51+00:00\n",
      "1 2023-10-19 08:47:51+00:00\n",
      "2 2023-10-31 08:47:51+00:00\n",
      "3 2023-11-12 08:47:51+00:00\n",
      "4 2023-11-24 08:47:50+00:00\n",
      "5 2023-12-06 08:47:50+00:00\n",
      "6 2023-12-18 08:47:49+00:00\n",
      "7 2023-12-30 08:47:49+00:00\n",
      "8 2024-01-11 08:47:48+00:00\n",
      "9 2024-01-23 08:47:48+00:00\n",
      "10 2024-02-04 08:47:47+00:00\n",
      "11 2024-02-16 08:47:47+00:00\n",
      "12 2024-02-28 08:47:47+00:00\n",
      "13 2024-03-11 08:47:47+00:00\n",
      "14 2024-03-23 08:47:48+00:00\n",
      "15 2024-04-04 08:47:48+00:00\n",
      "16 2024-04-16 08:47:48+00:00\n",
      "17 2024-04-28 08:47:49+00:00\n",
      "18 2024-05-22 08:47:48+00:00\n",
      "19 2024-06-03 08:47:48+00:00\n"
     ]
    }
   ],
   "source": [
    "for (k, dt) in enumerate(df_rtc_ts.start_time):\n",
    "    print(k, dt)"
   ]
  },
  {
   "cell_type": "code",
   "execution_count": 52,
   "id": "69438da5-6070-40f8-be10-8796cbcff037",
   "metadata": {},
   "outputs": [
    {
     "data": {
      "text/plain": [
       "(2, 1669, 3440)"
      ]
     },
     "execution_count": 52,
     "metadata": {},
     "output_type": "execute_result"
    }
   ],
   "source": [
    "P = 14 # start of pre-images\n",
    "Q = 5 # Post Image index (choose index of earliest date after event, then subtract P)\n",
    "pre = ts[P: P + Q, ...]\n",
    "post = ts[P + Q, ...]\n",
    "post.shape"
   ]
  },
  {
   "cell_type": "markdown",
   "id": "979224e4-50a6-4410-89bf-baec634826c5",
   "metadata": {},
   "source": [
    "Visualizing with threshoding pre and post image (VV)."
   ]
  },
  {
   "cell_type": "code",
   "execution_count": 53,
   "id": "8363366f-4b95-4d2e-8cfc-8d350813d4ab",
   "metadata": {},
   "outputs": [
    {
     "data": {
      "text/plain": [
       "<matplotlib.colorbar.Colorbar at 0x17ed67290>"
      ]
     },
     "execution_count": 53,
     "metadata": {},
     "output_type": "execute_result"
    },
    {
     "data": {
      "image/png": "[encoded data removed]",
      "text/plain": [
       "<Figure size 640x480 with 2 Axes>"
      ]
     },
     "metadata": {},
     "output_type": "display_data"
    }
   ],
   "source": [
    "plt.imshow(pre[-1][0] - post[0]  < -.05, vmin=-.1, vmax=.1, interpolation='none')\n",
    "plt.colorbar()"
   ]
  },
  {
   "cell_type": "markdown",
   "id": "1d4cc69b-5f6b-4e21-9e13-178e48398821",
   "metadata": {},
   "source": [
    "Now with the Mahalonobis distance"
   ]
  },
  {
   "cell_type": "code",
   "execution_count": 54,
   "id": "73ee7e09-d14b-4b98-8e40-1ccdca1dcb0f",
   "metadata": {},
   "outputs": [
    {
     "name": "stdout",
     "output_type": "stream",
     "text": [
      "(1669, 3440)\n",
      "(1669, 3440)\n"
     ]
    }
   ],
   "source": [
    "m, c, cinv_c, d = get_mahalanobis_dist(pre, post)"
   ]
  },
  {
   "cell_type": "code",
   "execution_count": 55,
   "id": "9365c754-8342-42e4-9796-0c901d1dd7d8",
   "metadata": {},
   "outputs": [
    {
     "data": {
      "text/plain": [
       "<matplotlib.colorbar.Colorbar at 0x17ee323f0>"
      ]
     },
     "execution_count": 55,
     "metadata": {},
     "output_type": "execute_result"
    },
    {
     "data": {
      "image/png": "[encoded data removed]",
      "text/plain": [
       "<Figure size 640x480 with 2 Axes>"
      ]
     },
     "metadata": {},
     "output_type": "display_data"
    }
   ],
   "source": [
    "plt.imshow(d > 3, interpolation='none', vmin=0, vmax=1)\n",
    "plt.colorbar()"
   ]
  },
  {
   "cell_type": "code",
   "execution_count": null,
   "id": "f8f4c043-5d63-44b6-81d2-e4a13ea47550",
   "metadata": {},
   "outputs": [],
   "source": []
  }
 ],
 "metadata": {
  "kernelspec": {
   "display_name": "dist-s1",
   "language": "python",
   "name": "dist-s1"
  },
  "language_info": {
   "codemirror_mode": {
    "name": "ipython",
    "version": 3
   },
   "file_extension": ".py",
   "mimetype": "text/x-python",
   "name": "python",
   "nbconvert_exporter": "python",
   "pygments_lexer": "ipython3",
   "version": "3.12.3"
  }
 },
 "nbformat": 4,
 "nbformat_minor": 5
}
