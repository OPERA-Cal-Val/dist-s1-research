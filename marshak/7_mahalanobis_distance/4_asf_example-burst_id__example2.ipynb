{
 "cells": [
  {
   "cell_type": "code",
   "execution_count": 13,
   "id": "24973762-b9b0-48b9-9ed0-ea02d6d59061",
   "metadata": {},
   "outputs": [],
   "source": [
    "import rasterio\n",
    "import tqdm\n",
    "import leafmap\n",
    "import geopandas as gpd\n",
    "import pandas as pd\n",
    "import numpy as np\n",
    "from tqdm import tqdm\n",
    "import matplotlib.pyplot as plt\n",
    "import concurrent.futures\n",
    "from mpire import WorkerPool\n",
    "from skimage.restoration import denoise_tv_bregman\n",
    "from sktime.forecasting.fbprophet import Prophet\n",
    "from sktime.forecasting.var import VAR\n",
    "from pathlib import Path\n",
    "import backoff\n",
    "from urllib3.exceptions import HTTPError\n",
    "import requests\n",
    "from rasterio.io import MemoryFile\n",
    "import io\n",
    "import asf_search as asf\n",
    "from shapely.geometry import shape\n",
    "from rasterio.crs import CRS"
   ]
  },
  {
   "cell_type": "code",
   "execution_count": 58,
   "id": "4bc199f2-0dae-4cad-9245-7da597225b0f",
   "metadata": {},
   "outputs": [],
   "source": [
    "BURST_ID = ('T133-284637-IW2').replace('-', '_')"
   ]
  },
  {
   "cell_type": "code",
   "execution_count": 59,
   "id": "c08f5c22-40ae-46be-b372-2bb752da8c75",
   "metadata": {},
   "outputs": [],
   "source": [
    "# get only the RTC products for a burst id\n",
    "resp = asf.search(operaBurstID=[BURST_ID], processingLevel='RTC')\n",
    "assert resp"
   ]
  },
  {
   "cell_type": "code",
   "execution_count": 60,
   "id": "d386077a-69fc-41c5-b730-8baa15d55b4a",
   "metadata": {},
   "outputs": [
    {
     "name": "stdout",
     "output_type": "stream",
     "text": [
      "(24, 6)\n"
     ]
    },
    {
     "data": {
      "text/html": [
       "<div>\n",
       "<style scoped>\n",
       "    .dataframe tbody tr th:only-of-type {\n",
       "        vertical-align: middle;\n",
       "    }\n",
       "\n",
       "    .dataframe tbody tr th {\n",
       "        vertical-align: top;\n",
       "    }\n",
       "\n",
       "    .dataframe thead th {\n",
       "        text-align: right;\n",
       "    }\n",
       "</style>\n",
       "<table border=\"1\" class=\"dataframe\">\n",
       "  <thead>\n",
       "    <tr style=\"text-align: right;\">\n",
       "      <th></th>\n",
       "      <th>opera_id</th>\n",
       "      <th>start_time</th>\n",
       "      <th>url_vh</th>\n",
       "      <th>url_vv</th>\n",
       "      <th>track_number</th>\n",
       "      <th>geometry</th>\n",
       "    </tr>\n",
       "  </thead>\n",
       "  <tbody>\n",
       "    <tr>\n",
       "      <th>23</th>\n",
       "      <td>OPERA_L2_RTC-S1_T133-284637-IW2_20231015T20060...</td>\n",
       "      <td>2023-10-15 20:06:00+00:00</td>\n",
       "      <td>https://datapool.asf.alaska.edu/RTC/OPERA-S1/O...</td>\n",
       "      <td>https://datapool.asf.alaska.edu/RTC/OPERA-S1/O...</td>\n",
       "      <td>133</td>\n",
       "      <td>POLYGON ((143.94520 -5.46797, 143.90106 -5.458...</td>\n",
       "    </tr>\n",
       "    <tr>\n",
       "      <th>22</th>\n",
       "      <td>OPERA_L2_RTC-S1_T133-284637-IW2_20231027T20060...</td>\n",
       "      <td>2023-10-27 20:06:00+00:00</td>\n",
       "      <td>https://datapool.asf.alaska.edu/RTC/OPERA-S1/O...</td>\n",
       "      <td>https://datapool.asf.alaska.edu/RTC/OPERA-S1/O...</td>\n",
       "      <td>133</td>\n",
       "      <td>POLYGON ((143.94545 -5.46790, 143.11467 -5.283...</td>\n",
       "    </tr>\n",
       "    <tr>\n",
       "      <th>21</th>\n",
       "      <td>OPERA_L2_RTC-S1_T133-284637-IW2_20231108T20055...</td>\n",
       "      <td>2023-11-08 20:05:59+00:00</td>\n",
       "      <td>https://datapool.asf.alaska.edu/RTC/OPERA-S1/O...</td>\n",
       "      <td>https://datapool.asf.alaska.edu/RTC/OPERA-S1/O...</td>\n",
       "      <td>133</td>\n",
       "      <td>POLYGON ((143.94716 -5.46751, 143.11645 -5.282...</td>\n",
       "    </tr>\n",
       "    <tr>\n",
       "      <th>20</th>\n",
       "      <td>OPERA_L2_RTC-S1_T133-284637-IW2_20231120T20055...</td>\n",
       "      <td>2023-11-20 20:05:59+00:00</td>\n",
       "      <td>https://datapool.asf.alaska.edu/RTC/OPERA-S1/O...</td>\n",
       "      <td>https://datapool.asf.alaska.edu/RTC/OPERA-S1/O...</td>\n",
       "      <td>133</td>\n",
       "      <td>POLYGON ((143.94361 -5.46909, 143.11286 -5.284...</td>\n",
       "    </tr>\n",
       "    <tr>\n",
       "      <th>19</th>\n",
       "      <td>OPERA_L2_RTC-S1_T133-284637-IW2_20231202T20055...</td>\n",
       "      <td>2023-12-02 20:05:59+00:00</td>\n",
       "      <td>https://datapool.asf.alaska.edu/RTC/OPERA-S1/O...</td>\n",
       "      <td>https://datapool.asf.alaska.edu/RTC/OPERA-S1/O...</td>\n",
       "      <td>133</td>\n",
       "      <td>POLYGON ((143.94369 -5.46905, 143.11294 -5.284...</td>\n",
       "    </tr>\n",
       "  </tbody>\n",
       "</table>\n",
       "</div>"
      ],
      "text/plain": [
       "                                             opera_id  \\\n",
       "23  OPERA_L2_RTC-S1_T133-284637-IW2_20231015T20060...   \n",
       "22  OPERA_L2_RTC-S1_T133-284637-IW2_20231027T20060...   \n",
       "21  OPERA_L2_RTC-S1_T133-284637-IW2_20231108T20055...   \n",
       "20  OPERA_L2_RTC-S1_T133-284637-IW2_20231120T20055...   \n",
       "19  OPERA_L2_RTC-S1_T133-284637-IW2_20231202T20055...   \n",
       "\n",
       "                  start_time  \\\n",
       "23 2023-10-15 20:06:00+00:00   \n",
       "22 2023-10-27 20:06:00+00:00   \n",
       "21 2023-11-08 20:05:59+00:00   \n",
       "20 2023-11-20 20:05:59+00:00   \n",
       "19 2023-12-02 20:05:59+00:00   \n",
       "\n",
       "                                               url_vh  \\\n",
       "23  https://datapool.asf.alaska.edu/RTC/OPERA-S1/O...   \n",
       "22  https://datapool.asf.alaska.edu/RTC/OPERA-S1/O...   \n",
       "21  https://datapool.asf.alaska.edu/RTC/OPERA-S1/O...   \n",
       "20  https://datapool.asf.alaska.edu/RTC/OPERA-S1/O...   \n",
       "19  https://datapool.asf.alaska.edu/RTC/OPERA-S1/O...   \n",
       "\n",
       "                                               url_vv  track_number  \\\n",
       "23  https://datapool.asf.alaska.edu/RTC/OPERA-S1/O...           133   \n",
       "22  https://datapool.asf.alaska.edu/RTC/OPERA-S1/O...           133   \n",
       "21  https://datapool.asf.alaska.edu/RTC/OPERA-S1/O...           133   \n",
       "20  https://datapool.asf.alaska.edu/RTC/OPERA-S1/O...           133   \n",
       "19  https://datapool.asf.alaska.edu/RTC/OPERA-S1/O...           133   \n",
       "\n",
       "                                             geometry  \n",
       "23  POLYGON ((143.94520 -5.46797, 143.90106 -5.458...  \n",
       "22  POLYGON ((143.94545 -5.46790, 143.11467 -5.283...  \n",
       "21  POLYGON ((143.94716 -5.46751, 143.11645 -5.282...  \n",
       "20  POLYGON ((143.94361 -5.46909, 143.11286 -5.284...  \n",
       "19  POLYGON ((143.94369 -5.46905, 143.11294 -5.284...  "
      ]
     },
     "execution_count": 60,
     "metadata": {},
     "output_type": "execute_result"
    }
   ],
   "source": [
    "properties = [r.properties for r in resp]\n",
    "geometry = [shape(r.geojson()['geometry']) for r in resp]\n",
    "properties_f = [{'opera_id': p['sceneName'], \n",
    "                 'start_time': pd.to_datetime(p['startTime']),\n",
    "                 'polarization': p['polarization'],\n",
    "                 'url_vh': p['url'], \n",
    "                 'url_vv': (p['url'].replace('_VH.tif', '_VV.tif')),\n",
    "                 'track_number': p['pathNumber']} for p in properties]\n",
    "\n",
    "df_rtc_ts = gpd.GeoDataFrame(properties_f, geometry=geometry, crs=CRS.from_epsg(4326))\n",
    "df_rtc_ts = df_rtc_ts.sort_values(by='start_time')\n",
    "df_rtc_ts.drop(columns=['polarization'], inplace=True)\n",
    "print(df_rtc_ts.shape)\n",
    "df_rtc_ts.head()"
   ]
  },
  {
   "cell_type": "code",
   "execution_count": 61,
   "id": "b41d8c05-5197-4ab8-8d80-f79b4999e802",
   "metadata": {},
   "outputs": [
    {
     "data": {
      "text/plain": [
       "(24, 6)"
      ]
     },
     "execution_count": 61,
     "metadata": {},
     "output_type": "execute_result"
    }
   ],
   "source": [
    "df_rtc_ts.shape"
   ]
  },
  {
   "cell_type": "markdown",
   "id": "c93979c9-cfcc-4c67-8872-f1f6b70af9f6",
   "metadata": {},
   "source": [
    "There can be duplicates."
   ]
  },
  {
   "cell_type": "code",
   "execution_count": 62,
   "id": "825693f5-5ded-49dc-bebf-8cadf054f279",
   "metadata": {},
   "outputs": [
    {
     "data": {
      "text/html": [
       "<div>\n",
       "<style scoped>\n",
       "    .dataframe tbody tr th:only-of-type {\n",
       "        vertical-align: middle;\n",
       "    }\n",
       "\n",
       "    .dataframe tbody tr th {\n",
       "        vertical-align: top;\n",
       "    }\n",
       "\n",
       "    .dataframe thead th {\n",
       "        text-align: right;\n",
       "    }\n",
       "</style>\n",
       "<table border=\"1\" class=\"dataframe\">\n",
       "  <thead>\n",
       "    <tr style=\"text-align: right;\">\n",
       "      <th></th>\n",
       "      <th>opera_id</th>\n",
       "      <th>start_time</th>\n",
       "      <th>url_vh</th>\n",
       "      <th>url_vv</th>\n",
       "      <th>track_number</th>\n",
       "      <th>geometry</th>\n",
       "      <th>dedup_id</th>\n",
       "    </tr>\n",
       "  </thead>\n",
       "  <tbody>\n",
       "    <tr>\n",
       "      <th>23</th>\n",
       "      <td>OPERA_L2_RTC-S1_T133-284637-IW2_20231015T20060...</td>\n",
       "      <td>2023-10-15 20:06:00+00:00</td>\n",
       "      <td>https://datapool.asf.alaska.edu/RTC/OPERA-S1/O...</td>\n",
       "      <td>https://datapool.asf.alaska.edu/RTC/OPERA-S1/O...</td>\n",
       "      <td>133</td>\n",
       "      <td>POLYGON ((143.94520 -5.46797, 143.90106 -5.458...</td>\n",
       "      <td>OPERA_L2_RTC-S1_T133-284637-IW2_20231015T200600Z</td>\n",
       "    </tr>\n",
       "    <tr>\n",
       "      <th>22</th>\n",
       "      <td>OPERA_L2_RTC-S1_T133-284637-IW2_20231027T20060...</td>\n",
       "      <td>2023-10-27 20:06:00+00:00</td>\n",
       "      <td>https://datapool.asf.alaska.edu/RTC/OPERA-S1/O...</td>\n",
       "      <td>https://datapool.asf.alaska.edu/RTC/OPERA-S1/O...</td>\n",
       "      <td>133</td>\n",
       "      <td>POLYGON ((143.94545 -5.46790, 143.11467 -5.283...</td>\n",
       "      <td>OPERA_L2_RTC-S1_T133-284637-IW2_20231027T200600Z</td>\n",
       "    </tr>\n",
       "    <tr>\n",
       "      <th>21</th>\n",
       "      <td>OPERA_L2_RTC-S1_T133-284637-IW2_20231108T20055...</td>\n",
       "      <td>2023-11-08 20:05:59+00:00</td>\n",
       "      <td>https://datapool.asf.alaska.edu/RTC/OPERA-S1/O...</td>\n",
       "      <td>https://datapool.asf.alaska.edu/RTC/OPERA-S1/O...</td>\n",
       "      <td>133</td>\n",
       "      <td>POLYGON ((143.94716 -5.46751, 143.11645 -5.282...</td>\n",
       "      <td>OPERA_L2_RTC-S1_T133-284637-IW2_20231108T200559Z</td>\n",
       "    </tr>\n",
       "    <tr>\n",
       "      <th>20</th>\n",
       "      <td>OPERA_L2_RTC-S1_T133-284637-IW2_20231120T20055...</td>\n",
       "      <td>2023-11-20 20:05:59+00:00</td>\n",
       "      <td>https://datapool.asf.alaska.edu/RTC/OPERA-S1/O...</td>\n",
       "      <td>https://datapool.asf.alaska.edu/RTC/OPERA-S1/O...</td>\n",
       "      <td>133</td>\n",
       "      <td>POLYGON ((143.94361 -5.46909, 143.11286 -5.284...</td>\n",
       "      <td>OPERA_L2_RTC-S1_T133-284637-IW2_20231120T200559Z</td>\n",
       "    </tr>\n",
       "    <tr>\n",
       "      <th>19</th>\n",
       "      <td>OPERA_L2_RTC-S1_T133-284637-IW2_20231202T20055...</td>\n",
       "      <td>2023-12-02 20:05:59+00:00</td>\n",
       "      <td>https://datapool.asf.alaska.edu/RTC/OPERA-S1/O...</td>\n",
       "      <td>https://datapool.asf.alaska.edu/RTC/OPERA-S1/O...</td>\n",
       "      <td>133</td>\n",
       "      <td>POLYGON ((143.94369 -5.46905, 143.11294 -5.284...</td>\n",
       "      <td>OPERA_L2_RTC-S1_T133-284637-IW2_20231202T200559Z</td>\n",
       "    </tr>\n",
       "  </tbody>\n",
       "</table>\n",
       "</div>"
      ],
      "text/plain": [
       "                                             opera_id  \\\n",
       "23  OPERA_L2_RTC-S1_T133-284637-IW2_20231015T20060...   \n",
       "22  OPERA_L2_RTC-S1_T133-284637-IW2_20231027T20060...   \n",
       "21  OPERA_L2_RTC-S1_T133-284637-IW2_20231108T20055...   \n",
       "20  OPERA_L2_RTC-S1_T133-284637-IW2_20231120T20055...   \n",
       "19  OPERA_L2_RTC-S1_T133-284637-IW2_20231202T20055...   \n",
       "\n",
       "                  start_time  \\\n",
       "23 2023-10-15 20:06:00+00:00   \n",
       "22 2023-10-27 20:06:00+00:00   \n",
       "21 2023-11-08 20:05:59+00:00   \n",
       "20 2023-11-20 20:05:59+00:00   \n",
       "19 2023-12-02 20:05:59+00:00   \n",
       "\n",
       "                                               url_vh  \\\n",
       "23  https://datapool.asf.alaska.edu/RTC/OPERA-S1/O...   \n",
       "22  https://datapool.asf.alaska.edu/RTC/OPERA-S1/O...   \n",
       "21  https://datapool.asf.alaska.edu/RTC/OPERA-S1/O...   \n",
       "20  https://datapool.asf.alaska.edu/RTC/OPERA-S1/O...   \n",
       "19  https://datapool.asf.alaska.edu/RTC/OPERA-S1/O...   \n",
       "\n",
       "                                               url_vv  track_number  \\\n",
       "23  https://datapool.asf.alaska.edu/RTC/OPERA-S1/O...           133   \n",
       "22  https://datapool.asf.alaska.edu/RTC/OPERA-S1/O...           133   \n",
       "21  https://datapool.asf.alaska.edu/RTC/OPERA-S1/O...           133   \n",
       "20  https://datapool.asf.alaska.edu/RTC/OPERA-S1/O...           133   \n",
       "19  https://datapool.asf.alaska.edu/RTC/OPERA-S1/O...           133   \n",
       "\n",
       "                                             geometry  \\\n",
       "23  POLYGON ((143.94520 -5.46797, 143.90106 -5.458...   \n",
       "22  POLYGON ((143.94545 -5.46790, 143.11467 -5.283...   \n",
       "21  POLYGON ((143.94716 -5.46751, 143.11645 -5.282...   \n",
       "20  POLYGON ((143.94361 -5.46909, 143.11286 -5.284...   \n",
       "19  POLYGON ((143.94369 -5.46905, 143.11294 -5.284...   \n",
       "\n",
       "                                            dedup_id  \n",
       "23  OPERA_L2_RTC-S1_T133-284637-IW2_20231015T200600Z  \n",
       "22  OPERA_L2_RTC-S1_T133-284637-IW2_20231027T200600Z  \n",
       "21  OPERA_L2_RTC-S1_T133-284637-IW2_20231108T200559Z  \n",
       "20  OPERA_L2_RTC-S1_T133-284637-IW2_20231120T200559Z  \n",
       "19  OPERA_L2_RTC-S1_T133-284637-IW2_20231202T200559Z  "
      ]
     },
     "execution_count": 62,
     "metadata": {},
     "output_type": "execute_result"
    }
   ],
   "source": [
    "df_rtc_ts['dedup_id'] = df_rtc_ts.opera_id.map(lambda id_: '_'.join(id_.split('_')[:5]))\n",
    "df_rtc_ts.head()"
   ]
  },
  {
   "cell_type": "markdown",
   "id": "e28f617e-544b-4ca9-82e6-ad234c9206b8",
   "metadata": {},
   "source": [
    "Duplicate RTCs"
   ]
  },
  {
   "cell_type": "code",
   "execution_count": 63,
   "id": "f99079c5-6842-4e34-a6a3-c2bfcffe4bb8",
   "metadata": {},
   "outputs": [
    {
     "data": {
      "text/plain": [
       "(19, 7)"
      ]
     },
     "execution_count": 63,
     "metadata": {},
     "output_type": "execute_result"
    }
   ],
   "source": [
    "df_rtc_ts = df_rtc_ts.drop_duplicates(subset=['dedup_id'])\n",
    "df_rtc_ts.shape"
   ]
  },
  {
   "cell_type": "markdown",
   "id": "a09c23ed-8967-4f25-b6b5-91902f0f57fc",
   "metadata": {},
   "source": [
    "Need ~/.netrc with earthdata credentials for below to work!"
   ]
  },
  {
   "cell_type": "code",
   "execution_count": 64,
   "id": "8714a9b5-cd05-4155-ac8c-6dfa0101c118",
   "metadata": {},
   "outputs": [],
   "source": [
    "@backoff.on_exception(backoff.expo,\n",
    "                      HTTPError,\n",
    "                      max_tries=10,\n",
    "                      max_time=60,\n",
    "                      jitter=backoff.full_jitter)\n",
    "def read_bytes(url: str,) -> bytes:\n",
    "    resp = requests.get(url)\n",
    "    data = io.BytesIO(resp.content)\n",
    "    return data\n",
    "\n",
    "\n",
    "def read_one_asf(url: str) -> tuple[np.ndarray, dict]:\n",
    "    img_bytes = read_bytes(url)\n",
    "    with MemoryFile(img_bytes, filename=url.split('/')[-1]) as memfile:\n",
    "        with memfile.open() as dataset:\n",
    "            arr = dataset.read(1).astype(np.float32)\n",
    "            prof = dataset.profile\n",
    "    del img_bytes\n",
    "    return arr, prof\n",
    "\n",
    "\n",
    "@backoff.on_exception(backoff.expo,\n",
    "                      HTTPError,\n",
    "                      max_tries=10,\n",
    "                      max_time=60,\n",
    "                      jitter=backoff.full_jitter)\n",
    "def open_one(path: str) -> tuple:\n",
    "    with rasterio.open(path) as ds:\n",
    "        X = ds.read(1)\n",
    "        p = ds.profile\n",
    "    X = np.clip(X, 0, 1)\n",
    "    return (X), p\n",
    "\n",
    "def normalize_pol_ratio(img: np.ndarray, max_factor: float = 4.):\n",
    "    vmax = max_factor\n",
    "    vmin = 1e-7\n",
    "    \n",
    "    img_out = img.copy()\n",
    "    img_out = np.clip(img_out, vmin, vmax)\n",
    "\n",
    "    img_out = (img_out - vmin) / (vmax - vmin)    \n",
    "    return img_out\n",
    "    \n",
    "\n",
    "def despeckle_one(X: np.ndarray, reg_param=2, noise_floor_db = -22) -> np.ndarray:\n",
    "    X_c = np.clip(X, 1e-7, 1)\n",
    "    X_db = 10 * np.log10(X_c, out=np.full(X_c.shape, np.nan), where=(~np.isnan(X_c)))\n",
    "    X_db[np.isnan(X_c)] = noise_floor_db\n",
    "    X_db_dspkl = denoise_tv_bregman(X_db, weight=.2, isotropic=True, eps=1e-3)\n",
    "    X_dspkl = np.power(10, X_db_dspkl / 10.)\n",
    "    X_dspkl[np.isnan(X)] = np.nan\n",
    "    X_dspkl = np.clip(X_dspkl, 0, 1)\n",
    "    return X_dspkl"
   ]
  },
  {
   "cell_type": "code",
   "execution_count": 65,
   "id": "c930947a-1b13-407a-bac9-b332d94eeb30",
   "metadata": {},
   "outputs": [
    {
     "name": "stderr",
     "output_type": "stream",
     "text": [
      "100%|████████████████████████████████████████████████████████████████████| 19/19 [00:27<00:00,  1.46s/it]\n"
     ]
    }
   ],
   "source": [
    "I = 0\n",
    "K = df_rtc_ts.shape[0]\n",
    "\n",
    "with concurrent.futures.ThreadPoolExecutor(max_workers=5) as executor:\n",
    "    data = list(tqdm(executor.map(read_one_asf, df_rtc_ts.url_vv[I:I + K]), total=K))\n",
    "arrs_vv, profiles = zip(*data)"
   ]
  },
  {
   "cell_type": "code",
   "execution_count": 66,
   "id": "f274005d-1c18-46c8-aedd-b82daef259ca",
   "metadata": {},
   "outputs": [
    {
     "data": {
      "text/plain": [
       "<matplotlib.image.AxesImage at 0x33f65a0f0>"
      ]
     },
     "execution_count": 66,
     "metadata": {},
     "output_type": "execute_result"
    },
    {
     "data": {
      "image/png": "[encoded data removed]",
      "text/plain": [
       "<Figure size 640x480 with 1 Axes>"
      ]
     },
     "metadata": {},
     "output_type": "display_data"
    }
   ],
   "source": [
    "plt.imshow(arrs_vv[0], vmin=0, vmax=1)"
   ]
  },
  {
   "cell_type": "code",
   "execution_count": 67,
   "id": "811664a6-1e04-4068-838f-b226ca3cfeec",
   "metadata": {},
   "outputs": [
    {
     "name": "stderr",
     "output_type": "stream",
     "text": [
      "100%|████████████████████████████████████████████████████████████████████| 19/19 [00:32<00:00,  1.70s/it]\n"
     ]
    }
   ],
   "source": [
    "I = 0\n",
    "K = df_rtc_ts.shape[0]\n",
    "\n",
    "with concurrent.futures.ThreadPoolExecutor(max_workers=5) as executor:\n",
    "    data = list(tqdm(executor.map(read_one_asf, df_rtc_ts.url_vh[I:I + K]), total=K))\n",
    "arrs_vh, profiles = zip(*data)"
   ]
  },
  {
   "cell_type": "code",
   "execution_count": 68,
   "id": "fade2910-db81-417c-975e-21d2de8e9346",
   "metadata": {},
   "outputs": [
    {
     "data": {
      "application/vnd.jupyter.widget-view+json": {
       "model_id": "d9c90043cea64f16a2e0c93d2d531ed3",
       "version_major": 2,
       "version_minor": 0
      },
      "text/plain": [
       "  0%|                                                                             | 0/19 [00:00<?, ?it/s]"
      ]
     },
     "metadata": {},
     "output_type": "display_data"
    }
   ],
   "source": [
    "with WorkerPool(n_jobs=10, use_dill=True) as pool:\n",
    "    arrs_vv_d = pool.map(despeckle_one,\n",
    "                         arrs_vv, \n",
    "                         progress_bar=True, \n",
    "                         progress_bar_style='notebook', \n",
    "                         concatenate_numpy_output=False)"
   ]
  },
  {
   "cell_type": "code",
   "execution_count": 69,
   "id": "9c867539-09f0-42a6-b07f-757fb3ed912b",
   "metadata": {},
   "outputs": [
    {
     "data": {
      "application/vnd.jupyter.widget-view+json": {
       "model_id": "5b0bd6cd3b1642958f6f37bc35ef3de8",
       "version_major": 2,
       "version_minor": 0
      },
      "text/plain": [
       "  0%|                                                                             | 0/19 [00:00<?, ?it/s]"
      ]
     },
     "metadata": {},
     "output_type": "display_data"
    }
   ],
   "source": [
    "with WorkerPool(n_jobs=10, use_dill=True) as pool:\n",
    "    arrs_vh_d = pool.map(despeckle_one, \n",
    "                         arrs_vh, \n",
    "                         progress_bar=True, \n",
    "                         progress_bar_style='notebook', \n",
    "                         concatenate_numpy_output=False)"
   ]
  },
  {
   "cell_type": "code",
   "execution_count": 70,
   "id": "b85b7a42-f584-4094-8d48-f8e2fb64de18",
   "metadata": {},
   "outputs": [],
   "source": [
    "from astropy.convolution import convolve\n",
    "\n",
    "def get_spatiotemporal_mu_1d(arrs: np.ndarray,\n",
    "                             kernel_width=3,\n",
    "                             kernel_height=3) -> np.ndarray:\n",
    "    k_shape = (1, kernel_height, kernel_width)\n",
    "    kernel = np.ones(k_shape, dtype=np.float32) / np.prod(k_shape)\n",
    "    \n",
    "    mus_spatial = convolve(arrs, \n",
    "                           kernel, \n",
    "                           boundary=\"extend\", \n",
    "                           nan_treatment='interpolate')\n",
    "    mu_st = np.mean(mus_spatial, axis=0)\n",
    "    return mu_st\n",
    "\n",
    "def get_spatiotemporal_var_1d(arrs: np.ndarray,\n",
    "                              mu_st=None,\n",
    "                              kernel_width=3,\n",
    "                              kernel_height=3\n",
    "                              ) -> np.ndarray:\n",
    "    if mu_st is None:\n",
    "        mu_st = get_spatiotemporal_mu(arrs, \n",
    "                                      kernel_width=kernel_width, \n",
    "                                      kernel_height=kernel_height)\n",
    "    \n",
    "    k_shape = (1, kernel_height, kernel_width)\n",
    "    kernel = np.ones(k_shape, dtype=np.float32) / np.prod(k_shape)\n",
    "    \n",
    "    var_s = convolve((arrs - mu_st)**2, \n",
    "                     kernel, \n",
    "                     boundary=\"extend\", \n",
    "                     nan_treatment='interpolate')\n",
    "    var_st = np.mean(var_s, axis=0) \n",
    "    return var_st\n",
    "\n",
    "def get_spatiotemporal_cor(arrs: np.ndarray,\n",
    "                                mu_st=None,\n",
    "                                kernel_width=3,\n",
    "                                kernel_height=3\n",
    "                              ) -> np.ndarray:\n",
    "    _, C, _, _ = arrs.shape\n",
    "    if C != 2:\n",
    "        raise ValueError('input arrs must have 2 channels!')\n",
    "    if mu_st is None:\n",
    "        mu_st = get_spatiotemporal_mu(arrs, \n",
    "                                      kernel_width=kernel_width, \n",
    "                                      kernel_height=kernel_height)\n",
    "    CC, _, _ = mu_st.shape\n",
    "    if CC != 2:\n",
    "        raise ValueError('spatiotemporal mean must be 2!')\n",
    "    \n",
    "    k_shape = (1, kernel_height, kernel_width)\n",
    "    kernel = np.ones(k_shape, dtype=np.float32) / np.prod(k_shape)\n",
    "\n",
    "    covar_s = convolve((arrs[:, 0, ...] - mu_st[0, ...]) * (arrs[:, 1, ...] - mu_st[1, ...]), \n",
    "                       kernel, \n",
    "                       boundary=\"extend\", \n",
    "                       nan_treatment='interpolate')\n",
    "    covar_st = np.mean(covar_s, axis=0) \n",
    "    return covar_st\n",
    "\n",
    "\n",
    "def get_spatiotemporal_mu(arrs: np.ndarray,\n",
    "                             kernel_width=3,\n",
    "                             kernel_height=3) -> np.ndarray:\n",
    "    T, C, H, W = arrs.shape\n",
    "    mu_st = np.full((C, H, W), np.nan)\n",
    "    for c in range(C):\n",
    "        mu_st[c,...] = get_spatiotemporal_mu_1d(arrs[:, c, ...])\n",
    "    \n",
    "    return mu_st\n",
    "\n",
    "def get_spatiotemporal_covar(arrs: np.ndarray,\n",
    "                              mu_st=None,\n",
    "                              kernel_width=3,\n",
    "                              kernel_height=3\n",
    "                              ) -> np.ndarray:\n",
    "    if mu_st is None:\n",
    "        mu_st = get_spatiotemporal_mu(arrs, \n",
    "                                      kernel_width=kernel_width, \n",
    "                                      kernel_height=kernel_height)\n",
    "    \n",
    "    T, C, H, W = arrs.shape\n",
    "    cov_st = np.full((C, C, H, W), np.nan)\n",
    "    for c in range(C):\n",
    "        cov_st[c, c,...] = get_spatiotemporal_var_1d(arrs[:, c, ...], \n",
    "                                                     mu_st=mu_st[c, ...], \n",
    "                                                     kernel_width=kernel_width, \n",
    "                                                     kernel_height=kernel_height)\n",
    "    for c in range(C):\n",
    "        for d in range(c, C):\n",
    "            if c != d:\n",
    "\n",
    "                covar_temp = get_spatiotemporal_cor(arrs[:, [c, d], ...], \n",
    "                                                    mu_st=mu_st[[c, d], ...], \n",
    "                                                    kernel_width=kernel_width, \n",
    "                                                    kernel_height=kernel_height)\n",
    "                print(cov_st[c, d,...].shape)\n",
    "                print(covar_temp.shape)\n",
    "                cov_st[c, d,...] = cov_st[d, c,...] = covar_temp\n",
    "    return cov_st\n",
    "\n",
    "def invert_2d_cov(cov: np.ndarray) -> np.ndarray:\n",
    "    det = cov[0, 0, ...] * cov[1, 1, ...] - 2 * cov[0, 1, ...]\n",
    "    covar_inv = np.full(cov.shape, np.nan)\n",
    "    covar_inv[0, 0, ...] = 1 / det * cov[1, 1, ...]\n",
    "    covar_inv[1, 1, ...] = 1 / det * cov[0, 0, ...]\n",
    "    t = - 1 / det * cov[0, 1, ...]\n",
    "    covar_inv[0, 1, ...] = t\n",
    "    covar_inv[1, 0, ...] = t\n",
    "    return covar_inv\n",
    "\n",
    "def get_eigh_2by2(cov_mat: np.ndarray) -> np.ndarray:\n",
    "    \"\"\"\n",
    "    References:\n",
    "    https://math.stackexchange.com/questions/395698/fast-way-to-calculate-eigen-of-2x2-matrix-using-a-formula\n",
    "    https://people.math.harvard.edu/~knill/teaching/math21b2004/exhibits/2dmatrices/index.html\n",
    "    \"\"\"\n",
    "    eigval = np.diagonal(cov_mat, axis1=0, axis2=1).transpose([2, 0, 1]) # so it's 2 x H X W\n",
    "    eigvec = np.zeros(cov_mat.shape)\n",
    "\n",
    "    case_1 = (cov_mat[0, 1, ...] != 0)\n",
    "    case_2 = ~case_1\n",
    "\n",
    "    case_1_cov = cov_mat[..., case_1]\n",
    "    case_1_eigval = eigval[..., case_1]\n",
    "    \n",
    "    case_2_cov = cov_mat[..., ~case_1]\n",
    "    case_2_eigval = eigval[..., ~case_1]\n",
    "    \n",
    "    eigvec[0, 0, case_1] = case_1_eigval[0, ...] - case_1_cov[1, 1, ...]\n",
    "    eigvec[1, 0, case_1] = case_1_cov[0, 1, ...]\n",
    "    \n",
    "    # Make sure the eigenvector is normalized so that the matrix of eigenvectors has an inverse that is its transpose\n",
    "    n = np.sqrt(eigvec[1, 0, case_1] ** 2 + eigvec[0, 0, case_1]**2)\n",
    "    eigvec[0, 0, case_1] /= n\n",
    "    eigvec[1, 0, case_1] /= n\n",
    "\n",
    "    eigvec[0, 1, case_1] = case_1_eigval[1, ...] - case_1_cov[1, 1, ...]\n",
    "    eigvec[1, 1, case_1] = case_1_cov[1, 0, ...]\n",
    "\n",
    "    # Make sure the eigenvector is normalized so that the matrix of eigenvectors has an inverse that is its transpose\n",
    "    n = np.sqrt(eigvec[0, 1, case_1] ** 2 + eigvec[1, 1, case_1]**2)\n",
    "    eigvec[0, 1, case_1] /= n\n",
    "    eigvec[1, 1, case_1] /= n\n",
    "\n",
    "    eigvec[0, 0, case_2] = 1\n",
    "    eigvec[1, 1, case_2] = 1\n",
    "    \n",
    "    return eigval, eigvec\n",
    "\n",
    "\n",
    "def get_mahalanobis_dist(pre_arrs: np.ndarray,\n",
    "                         post_arr: np.ndarray,\n",
    "                         kernel_width=3,\n",
    "                         kernel_height=3,\n",
    "                         eig_lb: float = .0001 * np.sqrt(2), #(1e-4 * 2 ** .5), #6.309e-3,#(.01 * 2 ** .5)\n",
    "                        ) -> tuple[np.ndarray]:\n",
    "                \n",
    "    mu_st = get_spatiotemporal_mu(pre_arrs, \n",
    "                                  kernel_width=kernel_width, \n",
    "                                  kernel_height=kernel_height)\n",
    "    covar_st = get_spatiotemporal_covar(pre_arrs, \n",
    "                                        mu_st=mu_st, \n",
    "                                        kernel_width=kernel_width, \n",
    "                                        kernel_height=kernel_height)\n",
    "\n",
    "    eigval, eigvec = get_eigh_2by2(covar_st)\n",
    "    # This is the floor we discused earlier except this is for the variance matrix so our LB is .01\n",
    "    # We want the matrix norm to be at least .01 so we make sure each eigenvalue is .01 * \\sqrt 2\n",
    "    eigval_clip = np.maximum(eigval,  eig_lb)\n",
    "    eigval_clip_inv = eigval_clip ** -1\n",
    "    \n",
    "    # Diag matrix is the diagonal matrix of eigenvalues\n",
    "    diag_matrix = np.zeros(eigvec.shape, dtype=np.float32)\n",
    "    diag_matrix[0, 0, ...] = eigval_clip_inv[0, ...] \n",
    "    diag_matrix[1, 1, ...] = eigval_clip_inv[1, ...]\n",
    "\n",
    "    # Matrix multiplication to reconstruct the Sigma^-1  = V^T D V where V is the \n",
    "    # matrix whose colums are eignevectors and D is the diagonal matrix of eigenvalues\n",
    "    covar_st_inv_floor_t = np.einsum('ijmn,jkmn->ikmn', diag_matrix, eigvec)\n",
    "    covar_st_inv_floor = np.einsum('ijmn,jkmn->ikmn', eigvec.transpose([1, 0, 2, 3]), covar_st_inv_floor_t)\n",
    "    \n",
    "    # Finally compute the Mahalanobis distance!\n",
    "    vec = post_arr - mu_st\n",
    "    dist_0 = np.einsum('ijkl,jkl->ikl', covar_st_inv_floor, vec)\n",
    "    dist_1 = np.einsum('ijk,ijk->jk', vec, dist_0)\n",
    "    dist = np.sqrt(dist_1)\n",
    "    return mu_st, covar_st, covar_st_inv_floor, dist"
   ]
  },
  {
   "cell_type": "code",
   "execution_count": 71,
   "id": "489ecc68-c97f-46e2-b094-730e14bc623a",
   "metadata": {
    "scrolled": true
   },
   "outputs": [
    {
     "data": {
      "text/plain": [
       "(19, 2, 1694, 3438)"
      ]
     },
     "execution_count": 71,
     "metadata": {},
     "output_type": "execute_result"
    }
   ],
   "source": [
    "dual_pol = [np.stack([vv, vh], axis=0) for (vv, vh) in zip(arrs_vv_d, arrs_vh_d)]\n",
    "ts = np.stack(dual_pol, axis=0)\n",
    "ts.shape"
   ]
  },
  {
   "cell_type": "code",
   "execution_count": 72,
   "id": "b6a956bf-4a9f-4e6a-8241-34acc79c94ed",
   "metadata": {},
   "outputs": [
    {
     "name": "stdout",
     "output_type": "stream",
     "text": [
      "0 2023-10-15 20:06:00+00:00\n",
      "1 2023-10-27 20:06:00+00:00\n",
      "2 2023-11-08 20:05:59+00:00\n",
      "3 2023-11-20 20:05:59+00:00\n",
      "4 2023-12-02 20:05:59+00:00\n",
      "5 2023-12-14 20:05:58+00:00\n",
      "6 2023-12-26 20:05:57+00:00\n",
      "7 2024-01-07 20:05:57+00:00\n",
      "8 2024-01-19 20:05:56+00:00\n",
      "9 2024-02-12 20:05:56+00:00\n",
      "10 2024-02-24 20:05:56+00:00\n",
      "11 2024-03-07 20:05:55+00:00\n",
      "12 2024-03-19 20:05:56+00:00\n",
      "13 2024-03-31 20:05:57+00:00\n",
      "14 2024-04-12 20:05:55+00:00\n",
      "15 2024-04-24 20:05:57+00:00\n",
      "16 2024-05-06 20:05:57+00:00\n",
      "17 2024-05-18 20:05:57+00:00\n",
      "18 2024-05-30 20:05:57+00:00\n"
     ]
    }
   ],
   "source": [
    "for (k, dt) in enumerate(df_rtc_ts.start_time):\n",
    "    print(k, dt)"
   ]
  },
  {
   "cell_type": "code",
   "execution_count": 112,
   "id": "69438da5-6070-40f8-be10-8796cbcff037",
   "metadata": {},
   "outputs": [
    {
     "data": {
      "text/plain": [
       "(2, 1694, 3438)"
      ]
     },
     "execution_count": 112,
     "metadata": {},
     "output_type": "execute_result"
    }
   ],
   "source": [
    "P = 13 # start of pre-images\n",
    "Q = 5 # Post Image index (choose index of earliest date after event, then subtract P)\n",
    "pre = ts[P: P + Q, ...]\n",
    "post = ts[P + Q, ...]\n",
    "post.shape"
   ]
  },
  {
   "cell_type": "markdown",
   "id": "4e629f58-1bf1-45c4-aeb6-920e6858efa8",
   "metadata": {},
   "source": [
    "Visualizing with threshoding pre and post image (VV)."
   ]
  },
  {
   "cell_type": "code",
   "execution_count": 119,
   "id": "8363366f-4b95-4d2e-8cfc-8d350813d4ab",
   "metadata": {},
   "outputs": [
    {
     "data": {
      "text/plain": [
       "<matplotlib.colorbar.Colorbar at 0x32a797f50>"
      ]
     },
     "execution_count": 119,
     "metadata": {},
     "output_type": "execute_result"
    },
    {
     "data": {
      "image/png": "[encoded data removed]",
      "text/plain": [
       "<Figure size 640x480 with 2 Axes>"
      ]
     },
     "metadata": {},
     "output_type": "display_data"
    }
   ],
   "source": [
    "plt.imshow( pre[-1][0] - post[0] < -.1, vmin=-.1, vmax=.1)\n",
    "plt.colorbar()"
   ]
  },
  {
   "cell_type": "code",
   "execution_count": 114,
   "id": "73ee7e09-d14b-4b98-8e40-1ccdca1dcb0f",
   "metadata": {},
   "outputs": [
    {
     "name": "stdout",
     "output_type": "stream",
     "text": [
      "(1694, 3438)\n",
      "(1694, 3438)\n"
     ]
    }
   ],
   "source": [
    "m, c, cinv_c, d = get_mahalanobis_dist(pre, post)"
   ]
  },
  {
   "cell_type": "code",
   "execution_count": 115,
   "id": "9365c754-8342-42e4-9796-0c901d1dd7d8",
   "metadata": {},
   "outputs": [
    {
     "data": {
      "text/plain": [
       "<matplotlib.colorbar.Colorbar at 0x315b62cc0>"
      ]
     },
     "execution_count": 115,
     "metadata": {},
     "output_type": "execute_result"
    },
    {
     "data": {
      "image/png": "[encoded data removed]",
      "text/plain": [
       "<Figure size 640x480 with 2 Axes>"
      ]
     },
     "metadata": {},
     "output_type": "display_data"
    }
   ],
   "source": [
    "plt.imshow(d > 3, interpolation='none', vmin=0, vmax=1)\n",
    "plt.colorbar()"
   ]
  }
 ],
 "metadata": {
  "kernelspec": {
   "display_name": "dist-s1",
   "language": "python",
   "name": "dist-s1"
  },
  "language_info": {
   "codemirror_mode": {
    "name": "ipython",
    "version": 3
   },
   "file_extension": ".py",
   "mimetype": "text/x-python",
   "name": "python",
   "nbconvert_exporter": "python",
   "pygments_lexer": "ipython3",
   "version": "3.12.3"
  }
 },
 "nbformat": 4,
 "nbformat_minor": 5
}
