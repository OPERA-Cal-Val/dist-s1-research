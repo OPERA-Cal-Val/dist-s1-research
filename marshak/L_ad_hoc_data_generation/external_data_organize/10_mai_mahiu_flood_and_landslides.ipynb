{
 "cells": [
  {
   "cell_type": "markdown",
   "id": "308f7b60-0c23-4865-81d3-cfc2bfc1a170",
   "metadata": {
    "editable": true,
    "slideshow": {
     "slide_type": ""
    },
    "tags": []
   },
   "source": [
    "https://data.humdata.org/dataset/landslide-mudslide-impact-in-mai-mahiu-and-kijabe-towns-kenya-as-of-1-may-2024"
   ]
  },
  {
   "cell_type": "code",
   "execution_count": 1,
   "id": "0c14f20f-03f2-43da-8ba5-294931194ff4",
   "metadata": {
    "editable": true,
    "slideshow": {
     "slide_type": ""
    },
    "tags": []
   },
   "outputs": [],
   "source": [
    "import geopandas as gpd\n",
    "import pandas as pd\n",
    "import yaml\n",
    "from rasterio.crs import CRS\n",
    "from pathlib import Path\n",
    "import fiona\n",
    "from shapely.ops import polygonize\n",
    "from shapely.geometry import mapping, Polygon, shape\n",
    "import glob"
   ]
  },
  {
   "cell_type": "code",
   "execution_count": 2,
   "id": "eb81041d-99b5-4d8e-9e5e-fb1aae7d184f",
   "metadata": {},
   "outputs": [
    {
     "data": {
      "text/plain": [
       "{'event_name': 'mai_mahiu_flood_and_landslides_2024',\n",
       " 'bounds': [15.19418162, -4.31842285, 15.31481366, -4.13558505],\n",
       " 'event_date': '2024-04-29',\n",
       " 'pre_event_window_days': 100,\n",
       " 'post_event_window_days': 60,\n",
       " 'rtc_track_numbers': [7, 109],\n",
       " 'mgrs_tiles': ['33MWR'],\n",
       " 'dist_hls_confirmed_change_min_days': 30,\n",
       " 'source_id': 'UNOSAT via humanitarian data exchange - Pléiades image',\n",
       " 'links': ['https://data.humdata.org/dataset/landslide-mudslide-impact-in-mai-mahiu-and-kijabe-towns-kenya-as-of-1-may-2024',\n",
       "  'https://eos.org/thelandslideblog/mai-mahiu']}"
      ]
     },
     "execution_count": 2,
     "metadata": {},
     "output_type": "execute_result"
    }
   ],
   "source": [
    "yaml_file = '../events/mai_mahiu_flood_and_landslides_2024.yml' #'porto_algre.yml'\n",
    "with open(yaml_file) as f:\n",
    "    event_dict = yaml.safe_load(f)[\"event\"]\n",
    "event_dict"
   ]
  },
  {
   "cell_type": "code",
   "execution_count": 8,
   "id": "ac61c774-f5ec-4d9b-b322-f929872c2c4a",
   "metadata": {},
   "outputs": [
    {
     "data": {
      "text/plain": [
       "['../external_validation_data/unosat/mai_mahui_flood_and_landslides/FL20240426KEN_SHP/PL_20240501_LandslideMudslideExtent_MaiMahiu.shp',\n",
       " '../external_validation_data/unosat/mai_mahui_flood_and_landslides/FL20240426KEN_SHP/PL_20240501_AffectedStructure_MaiMahiu.shp',\n",
       " '../external_validation_data/unosat/mai_mahui_flood_and_landslides/FL20240426KEN_SHP/PL_20240505_FloodExtent_Garissa.shp',\n",
       " '../external_validation_data/unosat/mai_mahui_flood_and_landslides/FL20240426KEN_SHP/PL_20240501_Affectedbridge_Nairobi_Kiambu.shp',\n",
       " '../external_validation_data/unosat/mai_mahui_flood_and_landslides/FL20240426KEN_SHP/S2_20240429_WaterExtent_AlongTanaRiver_GalanaRiver.shp',\n",
       " '../external_validation_data/unosat/mai_mahui_flood_and_landslides/FL20240426KEN_SHP/PL_20240501_FloodExtent_Nairobi_Kiambu.shp',\n",
       " '../external_validation_data/unosat/mai_mahui_flood_and_landslides/FL20240426KEN_SHP/VIIRS_20240424_20240428_AnalysisExtent_Kenya.shp',\n",
       " '../external_validation_data/unosat/mai_mahui_flood_and_landslides/FL20240426KEN_SHP/PL_20240501_PotentiallyAffectedCropLand_Nairobi_Kiambu.shp',\n",
       " '../external_validation_data/unosat/mai_mahui_flood_and_landslides/FL20240426KEN_SHP/PL_20240505_AnalysisExtent_Garissa.shp',\n",
       " '../external_validation_data/unosat/mai_mahui_flood_and_landslides/FL20240426KEN_SHP/PL_20240501_AffectedRoad_MaiMahiu.shp',\n",
       " '../external_validation_data/unosat/mai_mahui_flood_and_landslides/FL20240426KEN_SHP/VIIRS_20240424_20240428_MaximumFloodWaterExtent_Kenya.shp',\n",
       " '../external_validation_data/unosat/mai_mahui_flood_and_landslides/FL20240426KEN_SHP/PL_20240501_DamagedBridge_MaiMahiu.shp',\n",
       " '../external_validation_data/unosat/mai_mahui_flood_and_landslides/FL20240426KEN_SHP/PL_20240501_AffectedStructureNairobi_Kiambu.shp',\n",
       " '../external_validation_data/unosat/mai_mahui_flood_and_landslides/FL20240426KEN_SHP/PL_20240501_CloudObstruction_MaiMahiu.shp',\n",
       " '../external_validation_data/unosat/mai_mahui_flood_and_landslides/FL20240426KEN_SHP/PL_20240501_CloudObstruction_Nairobi_Kiambu.shp',\n",
       " '../external_validation_data/unosat/mai_mahui_flood_and_landslides/FL20240426KEN_SHP/S2_20240429_CloudObstruction_AlongTanaRiver_GalanaRiver.shp',\n",
       " '../external_validation_data/unosat/mai_mahui_flood_and_landslides/FL20240426KEN_SHP/PL_20240501_AnalysisExtent_CropLand_Nairobi_Kiambu.shp',\n",
       " '../external_validation_data/unosat/mai_mahui_flood_and_landslides/FL20240426KEN_SHP/PL_20240501_AffectedRoad_Nairobi_Kiambu.shp',\n",
       " '../external_validation_data/unosat/mai_mahui_flood_and_landslides/FL20240426KEN_SHP/S2_20240429_FloodExtent_AlongTanaRiver_GalanaRiver.shp',\n",
       " '../external_validation_data/unosat/mai_mahui_flood_and_landslides/FL20240426KEN_SHP/PL_20240505_WaterExtent_Garissa.shp',\n",
       " '../external_validation_data/unosat/mai_mahui_flood_and_landslides/FL20240426KEN_SHP/PL_20240505_AffectedRoad_Garissa.shp',\n",
       " '../external_validation_data/unosat/mai_mahui_flood_and_landslides/FL20240426KEN_SHP/VIIRS_20240424_20240428_CloudObstruction_Kenya.shp',\n",
       " '../external_validation_data/unosat/mai_mahui_flood_and_landslides/FL20240426KEN_SHP/PL_20240501_AnalysisExtent_Nairobi_Kiambu.shp',\n",
       " '../external_validation_data/unosat/mai_mahui_flood_and_landslides/FL20240426KEN_SHP/S2_20240429_AnalysisExtent_Garissa.shp',\n",
       " '../external_validation_data/unosat/mai_mahui_flood_and_landslides/FL20240426KEN_SHP/S2_20240429_AnalysisExtent_AlongTanaRiver_GalanaRiver.shp',\n",
       " '../external_validation_data/unosat/mai_mahui_flood_and_landslides/FL20240426KEN_SHP/S2_20240429_PotentiallyAffectedStructure_Garissa.shp',\n",
       " '../external_validation_data/unosat/mai_mahui_flood_and_landslides/FL20240426KEN_SHP/PL_20240505_AffectedStructure_Garissa.shp',\n",
       " '../external_validation_data/unosat/mai_mahui_flood_and_landslides/FL20240426KEN_SHP/PL_20240501_DamagedRaiway_MaiMahiu.shp']"
      ]
     },
     "execution_count": 8,
     "metadata": {},
     "output_type": "execute_result"
    }
   ],
   "source": [
    "shp_files = glob.glob('../external_validation_data/unosat/mai_mahui_flood_and_landslides/FL20240426KEN_SHP/*.shp')\n",
    "shp_files"
   ]
  },
  {
   "cell_type": "code",
   "execution_count": 37,
   "id": "ae3e9392-d27d-4ab1-bcb8-17fdc5ae4e91",
   "metadata": {},
   "outputs": [],
   "source": [
    "paths = ['../external_validation_data/unosat/mai_mahui_flood_and_landslides/FL20240426KEN_SHP/PL_20240501_LandslideMudslideExtent_MaiMahiu.shp', \n",
    "         '../external_validation_data/unosat/mai_mahui_flood_and_landslides/FL20240426KEN_SHP/PL_20240501_FloodExtent_Nairobi_Kiambu.shp'\n",
    "         ]\n"
   ]
  },
  {
   "cell_type": "code",
   "execution_count": 39,
   "id": "508d63fc-be64-458f-9c8d-2a8ca05ff6de",
   "metadata": {
    "editable": true,
    "slideshow": {
     "slide_type": ""
    },
    "tags": []
   },
   "outputs": [
    {
     "data": {
      "text/html": [
       "<div>\n",
       "<style scoped>\n",
       "    .dataframe tbody tr th:only-of-type {\n",
       "        vertical-align: middle;\n",
       "    }\n",
       "\n",
       "    .dataframe tbody tr th {\n",
       "        vertical-align: top;\n",
       "    }\n",
       "\n",
       "    .dataframe thead th {\n",
       "        text-align: right;\n",
       "    }\n",
       "</style>\n",
       "<table border=\"1\" class=\"dataframe\">\n",
       "  <thead>\n",
       "    <tr style=\"text-align: right;\">\n",
       "      <th></th>\n",
       "      <th>geometry</th>\n",
       "    </tr>\n",
       "  </thead>\n",
       "  <tbody>\n",
       "    <tr>\n",
       "      <th>0</th>\n",
       "      <td>MULTIPOLYGON (((36.57978 -0.98891, 36.57977 -0...</td>\n",
       "    </tr>\n",
       "    <tr>\n",
       "      <th>0</th>\n",
       "      <td>MULTIPOLYGON (((37.06500 -1.31769, 37.06500 -1...</td>\n",
       "    </tr>\n",
       "  </tbody>\n",
       "</table>\n",
       "</div>"
      ],
      "text/plain": [
       "                                            geometry\n",
       "0  MULTIPOLYGON (((36.57978 -0.98891, 36.57977 -0...\n",
       "0  MULTIPOLYGON (((37.06500 -1.31769, 37.06500 -1..."
      ]
     },
     "execution_count": 39,
     "metadata": {},
     "output_type": "execute_result"
    }
   ],
   "source": [
    "dfs = [gpd.read_file(p).to_crs(4326)[['geometry']] for p in paths]\n",
    "df_event = pd.concat(dfs, axis=0)\n",
    "df_event.head()"
   ]
  },
  {
   "cell_type": "code",
   "execution_count": 41,
   "id": "1a311562-652d-4d3e-a6dd-012c682c4a73",
   "metadata": {},
   "outputs": [
    {
     "data": {
      "text/plain": [
       "array([36.56645031, -1.32126631, 37.13272135, -0.92335618])"
      ]
     },
     "execution_count": 41,
     "metadata": {},
     "output_type": "execute_result"
    }
   ],
   "source": [
    "df_event.total_bounds"
   ]
  },
  {
   "cell_type": "code",
   "execution_count": 42,
   "id": "0d206250-19fa-46ba-a8f6-c07edcc24770",
   "metadata": {
    "editable": true,
    "slideshow": {
     "slide_type": ""
    },
    "tags": []
   },
   "outputs": [],
   "source": [
    "# df_flood_coastal = df_flood.cx[89.2:91, 21.5: 24].reset_index(drop=True)\n",
    "# df_flood_coastal.explore()"
   ]
  },
  {
   "cell_type": "code",
   "execution_count": 43,
   "id": "8ae58dd4-bece-4e79-a844-4aa86484589c",
   "metadata": {},
   "outputs": [
    {
     "data": {
      "text/html": [
       "<div>\n",
       "<style scoped>\n",
       "    .dataframe tbody tr th:only-of-type {\n",
       "        vertical-align: middle;\n",
       "    }\n",
       "\n",
       "    .dataframe tbody tr th {\n",
       "        vertical-align: top;\n",
       "    }\n",
       "\n",
       "    .dataframe thead th {\n",
       "        text-align: right;\n",
       "    }\n",
       "</style>\n",
       "<table border=\"1\" class=\"dataframe\">\n",
       "  <thead>\n",
       "    <tr style=\"text-align: right;\">\n",
       "      <th></th>\n",
       "      <th>name</th>\n",
       "      <th>date</th>\n",
       "      <th>source_id</th>\n",
       "      <th>geometry</th>\n",
       "    </tr>\n",
       "  </thead>\n",
       "  <tbody>\n",
       "    <tr>\n",
       "      <th>0</th>\n",
       "      <td>mai_mahiu_flood_and_landslides_2024</td>\n",
       "      <td>2024-04-29</td>\n",
       "      <td>UNOSAT via humanitarian data exchange - Pléiad...</td>\n",
       "      <td>MULTIPOLYGON (((36.57978 -0.98891, 36.57977 -0...</td>\n",
       "    </tr>\n",
       "    <tr>\n",
       "      <th>1</th>\n",
       "      <td>mai_mahiu_flood_and_landslides_2024</td>\n",
       "      <td>2024-04-29</td>\n",
       "      <td>UNOSAT via humanitarian data exchange - Pléiad...</td>\n",
       "      <td>MULTIPOLYGON (((37.06500 -1.31769, 37.06500 -1...</td>\n",
       "    </tr>\n",
       "  </tbody>\n",
       "</table>\n",
       "</div>"
      ],
      "text/plain": [
       "                                  name       date  \\\n",
       "0  mai_mahiu_flood_and_landslides_2024 2024-04-29   \n",
       "1  mai_mahiu_flood_and_landslides_2024 2024-04-29   \n",
       "\n",
       "                                           source_id  \\\n",
       "0  UNOSAT via humanitarian data exchange - Pléiad...   \n",
       "1  UNOSAT via humanitarian data exchange - Pléiad...   \n",
       "\n",
       "                                            geometry  \n",
       "0  MULTIPOLYGON (((36.57978 -0.98891, 36.57977 -0...  \n",
       "1  MULTIPOLYGON (((37.06500 -1.31769, 37.06500 -1...  "
      ]
     },
     "execution_count": 43,
     "metadata": {},
     "output_type": "execute_result"
    }
   ],
   "source": [
    "n = df_event.shape[0]\n",
    "df_event_f = gpd.GeoDataFrame({'name': [event_dict['event_name'] for k in range(n)],\n",
    "                               'date': [pd.to_datetime(event_dict['event_date']) for k in range(n)],\n",
    "                               'source_id': [f'{event_dict[\"source_id\"]}' for k in range(n)]},\n",
    "                              geometry=df_event.geometry.tolist(),\n",
    "                              crs=CRS.from_epsg(4326))\n",
    "df_event_f.head()"
   ]
  },
  {
   "cell_type": "code",
   "execution_count": 47,
   "id": "a4a2fc05-7247-43ca-bcbf-13b061fbe561",
   "metadata": {},
   "outputs": [
    {
     "data": {
      "text/plain": [
       "<Axes: >"
      ]
     },
     "execution_count": 47,
     "metadata": {},
     "output_type": "execute_result"
    },
    {
     "data": {
      "image/png": "[encoded data removed]",
      "text/plain": [
       "<Figure size 640x480 with 1 Axes>"
      ]
     },
     "metadata": {},
     "output_type": "display_data"
    }
   ],
   "source": [
    "df_event_f.plot()"
   ]
  },
  {
   "cell_type": "code",
   "execution_count": 48,
   "id": "ed9dddb7-b070-4bbf-b514-3575365ea15d",
   "metadata": {},
   "outputs": [],
   "source": [
    "EXTERNAL_VAL_DATA_DIR = Path('../external_validation_data_db/')\n",
    "EXTERNAL_VAL_DATA_DIR.mkdir(exist_ok=True, parents=True)"
   ]
  },
  {
   "cell_type": "code",
   "execution_count": 49,
   "id": "cbb66a9c-32f1-42c4-ab3f-4b5a2cd0b1b3",
   "metadata": {},
   "outputs": [],
   "source": [
    "df_event_f.to_parquet(EXTERNAL_VAL_DATA_DIR / f'{event_dict[\"event_name\"]}.parquet')"
   ]
  },
  {
   "cell_type": "code",
   "execution_count": 36,
   "id": "a6327680-4e5b-4808-9caf-8c34b0aaaaca",
   "metadata": {},
   "outputs": [],
   "source": [
    "#df_event_f.to_file(EXTERNAL_VAL_DATA_DIR / f'{event_dict[\"event_name\"]}.geojson', driver='GeoJSON')"
   ]
  }
 ],
 "metadata": {
  "kernelspec": {
   "display_name": "dist-s1",
   "language": "python",
   "name": "dist-s1"
  },
  "language_info": {
   "codemirror_mode": {
    "name": "ipython",
    "version": 3
   },
   "file_extension": ".py",
   "mimetype": "text/x-python",
   "name": "python",
   "nbconvert_exporter": "python",
   "pygments_lexer": "ipython3",
   "version": "3.12.4"
  }
 },
 "nbformat": 4,
 "nbformat_minor": 5
}
