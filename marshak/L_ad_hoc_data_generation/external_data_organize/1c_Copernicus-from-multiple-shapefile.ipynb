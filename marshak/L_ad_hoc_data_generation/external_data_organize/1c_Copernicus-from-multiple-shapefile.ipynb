{
 "cells": [
  {
   "cell_type": "markdown",
   "id": "7adb281c-9900-4db9-9534-19256b72c3d7",
   "metadata": {},
   "source": [
    "This is formatting and aligning data from Copernicus EMS data: https://rapidmapping.emergency.copernicus.eu/"
   ]
  },
  {
   "cell_type": "code",
   "execution_count": 1,
   "id": "f4fe73b3-0e81-43ff-93d3-3af0b0826732",
   "metadata": {},
   "outputs": [],
   "source": [
    "import geopandas as gpd\n",
    "import rasterio\n",
    "import numpy as np\n",
    "import matplotlib.pyplot as plt\n",
    "from pathlib import Path\n",
    "import yaml\n",
    "from rasterio.crs import CRS\n",
    "import pandas as pd"
   ]
  },
  {
   "cell_type": "code",
   "execution_count": 2,
   "id": "9c51f032-262d-47e6-bbe7-5dba57bbec72",
   "metadata": {},
   "outputs": [
    {
     "data": {
      "text/plain": [
       "{'event_name': 'chiapas_fire_2024',\n",
       " 'bounds': [-67.46539879, -15.15161343, -66.99244587, -14.32687002],\n",
       " 'event_date': '2024-03-28',\n",
       " 'pre_event_window_days': 100,\n",
       " 'post_event_window_days': 60,\n",
       " 'rtc_track_numbers': [7],\n",
       " 'mgrs_tiles': ['19LFE', '19LFD', '19LGE', '19LGD'],\n",
       " 'dist_hls_confirmed_change_min_days': 30,\n",
       " 'source_id': 'Copernicus EMSR717',\n",
       " 'links': ['data: https://rapidmapping.emergency.copernicus.eu/EMSR717',\n",
       "  'https://earthobservatory.nasa.gov/images/152628/fire-in-southern-mexico',\n",
       "  'etin-171-copernicus-emergency-management-service-monitors-wildfires-mexico']}"
      ]
     },
     "execution_count": 2,
     "metadata": {},
     "output_type": "execute_result"
    }
   ],
   "source": [
    "yaml_file = '../events/chiapas_fire_2024.yml' #'porto_algre.yml'\n",
    "with open(yaml_file) as f:\n",
    "    event_dict = yaml.safe_load(f)[\"event\"]\n",
    "event_dict"
   ]
  },
  {
   "cell_type": "code",
   "execution_count": 3,
   "id": "d4aea86c-28cf-4053-a552-1d65c58d31ae",
   "metadata": {},
   "outputs": [
    {
     "data": {
      "text/html": [
       "<div>\n",
       "<style scoped>\n",
       "    .dataframe tbody tr th:only-of-type {\n",
       "        vertical-align: middle;\n",
       "    }\n",
       "\n",
       "    .dataframe tbody tr th {\n",
       "        vertical-align: top;\n",
       "    }\n",
       "\n",
       "    .dataframe thead th {\n",
       "        text-align: right;\n",
       "    }\n",
       "</style>\n",
       "<table border=\"1\" class=\"dataframe\">\n",
       "  <thead>\n",
       "    <tr style=\"text-align: right;\">\n",
       "      <th></th>\n",
       "      <th>event_type</th>\n",
       "      <th>obj_desc</th>\n",
       "      <th>det_method</th>\n",
       "      <th>notation</th>\n",
       "      <th>dmg_src_id</th>\n",
       "      <th>area</th>\n",
       "      <th>geometry</th>\n",
       "    </tr>\n",
       "  </thead>\n",
       "  <tbody>\n",
       "    <tr>\n",
       "      <th>0</th>\n",
       "      <td>8-Wildfire</td>\n",
       "      <td>Forest Fire</td>\n",
       "      <td>Semi-automatic extraction</td>\n",
       "      <td>Burnt area</td>\n",
       "      <td>12</td>\n",
       "      <td>1.882959</td>\n",
       "      <td>POLYGON ((-94.07344 16.72603, -94.07344 16.725...</td>\n",
       "    </tr>\n",
       "    <tr>\n",
       "      <th>1</th>\n",
       "      <td>8-Wildfire</td>\n",
       "      <td>Forest Fire</td>\n",
       "      <td>Semi-automatic extraction</td>\n",
       "      <td>Burnt area</td>\n",
       "      <td>12</td>\n",
       "      <td>0.128725</td>\n",
       "      <td>POLYGON ((-94.07052 16.72635, -94.07053 16.726...</td>\n",
       "    </tr>\n",
       "    <tr>\n",
       "      <th>2</th>\n",
       "      <td>8-Wildfire</td>\n",
       "      <td>Forest Fire</td>\n",
       "      <td>Semi-automatic extraction</td>\n",
       "      <td>Burnt area</td>\n",
       "      <td>12</td>\n",
       "      <td>0.156518</td>\n",
       "      <td>POLYGON ((-94.09135 16.72868, -94.09135 16.728...</td>\n",
       "    </tr>\n",
       "    <tr>\n",
       "      <th>3</th>\n",
       "      <td>8-Wildfire</td>\n",
       "      <td>Forest Fire</td>\n",
       "      <td>Semi-automatic extraction</td>\n",
       "      <td>Burnt area</td>\n",
       "      <td>12</td>\n",
       "      <td>0.127719</td>\n",
       "      <td>POLYGON ((-94.09103 16.73047, -94.09103 16.730...</td>\n",
       "    </tr>\n",
       "    <tr>\n",
       "      <th>4</th>\n",
       "      <td>8-Wildfire</td>\n",
       "      <td>Forest Fire</td>\n",
       "      <td>Semi-automatic extraction</td>\n",
       "      <td>Burnt area</td>\n",
       "      <td>12</td>\n",
       "      <td>0.141164</td>\n",
       "      <td>POLYGON ((-94.07686 16.73055, -94.07689 16.730...</td>\n",
       "    </tr>\n",
       "  </tbody>\n",
       "</table>\n",
       "</div>"
      ],
      "text/plain": [
       "   event_type     obj_desc                 det_method    notation  dmg_src_id  \\\n",
       "0  8-Wildfire  Forest Fire  Semi-automatic extraction  Burnt area          12   \n",
       "1  8-Wildfire  Forest Fire  Semi-automatic extraction  Burnt area          12   \n",
       "2  8-Wildfire  Forest Fire  Semi-automatic extraction  Burnt area          12   \n",
       "3  8-Wildfire  Forest Fire  Semi-automatic extraction  Burnt area          12   \n",
       "4  8-Wildfire  Forest Fire  Semi-automatic extraction  Burnt area          12   \n",
       "\n",
       "       area                                           geometry  \n",
       "0  1.882959  POLYGON ((-94.07344 16.72603, -94.07344 16.725...  \n",
       "1  0.128725  POLYGON ((-94.07052 16.72635, -94.07053 16.726...  \n",
       "2  0.156518  POLYGON ((-94.09135 16.72868, -94.09135 16.728...  \n",
       "3  0.127719  POLYGON ((-94.09103 16.73047, -94.09103 16.730...  \n",
       "4  0.141164  POLYGON ((-94.07686 16.73055, -94.07689 16.730...  "
      ]
     },
     "execution_count": 3,
     "metadata": {},
     "output_type": "execute_result"
    }
   ],
   "source": [
    "df_0 = gpd.read_file('../external_validation_data/copernicus_ems/chiapas_fire_2024/EMSR717_AOI01_DEL_MONIT09_v1/EMSR717_AOI01_DEL_MONIT09_observedEventA_v1.shp')\n",
    "df_0.head()"
   ]
  },
  {
   "cell_type": "code",
   "execution_count": 4,
   "id": "ada78454-1344-4790-83ce-45468e9a1ad5",
   "metadata": {},
   "outputs": [
    {
     "data": {
      "text/html": [
       "<div>\n",
       "<style scoped>\n",
       "    .dataframe tbody tr th:only-of-type {\n",
       "        vertical-align: middle;\n",
       "    }\n",
       "\n",
       "    .dataframe tbody tr th {\n",
       "        vertical-align: top;\n",
       "    }\n",
       "\n",
       "    .dataframe thead th {\n",
       "        text-align: right;\n",
       "    }\n",
       "</style>\n",
       "<table border=\"1\" class=\"dataframe\">\n",
       "  <thead>\n",
       "    <tr style=\"text-align: right;\">\n",
       "      <th></th>\n",
       "      <th>event_type</th>\n",
       "      <th>obj_desc</th>\n",
       "      <th>det_method</th>\n",
       "      <th>notation</th>\n",
       "      <th>dmg_src_id</th>\n",
       "      <th>area</th>\n",
       "      <th>geometry</th>\n",
       "    </tr>\n",
       "  </thead>\n",
       "  <tbody>\n",
       "    <tr>\n",
       "      <th>0</th>\n",
       "      <td>8-Wildfire</td>\n",
       "      <td>Forest Fire</td>\n",
       "      <td>Photo-interpretation</td>\n",
       "      <td>Burnt area</td>\n",
       "      <td>17</td>\n",
       "      <td>2.870398</td>\n",
       "      <td>POLYGON ((-94.36531 16.41084, -94.36547 16.410...</td>\n",
       "    </tr>\n",
       "    <tr>\n",
       "      <th>1</th>\n",
       "      <td>8-Wildfire</td>\n",
       "      <td>Forest Fire</td>\n",
       "      <td>Photo-interpretation</td>\n",
       "      <td>Burnt area</td>\n",
       "      <td>17</td>\n",
       "      <td>28.328587</td>\n",
       "      <td>POLYGON ((-94.43798 16.42083, -94.43796 16.420...</td>\n",
       "    </tr>\n",
       "    <tr>\n",
       "      <th>2</th>\n",
       "      <td>8-Wildfire</td>\n",
       "      <td>Forest Fire</td>\n",
       "      <td>Photo-interpretation</td>\n",
       "      <td>Burnt area</td>\n",
       "      <td>17</td>\n",
       "      <td>15.095285</td>\n",
       "      <td>POLYGON ((-94.45334 16.43132, -94.45342 16.430...</td>\n",
       "    </tr>\n",
       "    <tr>\n",
       "      <th>3</th>\n",
       "      <td>8-Wildfire</td>\n",
       "      <td>Forest Fire</td>\n",
       "      <td>Photo-interpretation</td>\n",
       "      <td>Burnt area</td>\n",
       "      <td>17</td>\n",
       "      <td>1321.109468</td>\n",
       "      <td>POLYGON ((-94.39105 16.43605, -94.39095 16.435...</td>\n",
       "    </tr>\n",
       "    <tr>\n",
       "      <th>4</th>\n",
       "      <td>8-Wildfire</td>\n",
       "      <td>Forest Fire</td>\n",
       "      <td>Photo-interpretation</td>\n",
       "      <td>Burnt area</td>\n",
       "      <td>17</td>\n",
       "      <td>18.868064</td>\n",
       "      <td>POLYGON ((-94.36291 16.46024, -94.36276 16.460...</td>\n",
       "    </tr>\n",
       "  </tbody>\n",
       "</table>\n",
       "</div>"
      ],
      "text/plain": [
       "   event_type     obj_desc            det_method    notation  dmg_src_id  \\\n",
       "0  8-Wildfire  Forest Fire  Photo-interpretation  Burnt area          17   \n",
       "1  8-Wildfire  Forest Fire  Photo-interpretation  Burnt area          17   \n",
       "2  8-Wildfire  Forest Fire  Photo-interpretation  Burnt area          17   \n",
       "3  8-Wildfire  Forest Fire  Photo-interpretation  Burnt area          17   \n",
       "4  8-Wildfire  Forest Fire  Photo-interpretation  Burnt area          17   \n",
       "\n",
       "          area                                           geometry  \n",
       "0     2.870398  POLYGON ((-94.36531 16.41084, -94.36547 16.410...  \n",
       "1    28.328587  POLYGON ((-94.43798 16.42083, -94.43796 16.420...  \n",
       "2    15.095285  POLYGON ((-94.45334 16.43132, -94.45342 16.430...  \n",
       "3  1321.109468  POLYGON ((-94.39105 16.43605, -94.39095 16.435...  \n",
       "4    18.868064  POLYGON ((-94.36291 16.46024, -94.36276 16.460...  "
      ]
     },
     "execution_count": 4,
     "metadata": {},
     "output_type": "execute_result"
    }
   ],
   "source": [
    "df_1 = gpd.read_file('../external_validation_data/copernicus_ems/chiapas_fire_2024/EMSR717_AOI02_DEL_MONIT10_v2/EMSR717_AOI02_DEL_MONIT10_observedEventA_v2.shp')\n",
    "df_1.head()"
   ]
  },
  {
   "cell_type": "code",
   "execution_count": 5,
   "id": "d248e026-7574-407d-882e-b2581b202a6a",
   "metadata": {},
   "outputs": [
    {
     "data": {
      "text/plain": [
       "<Axes: >"
      ]
     },
     "execution_count": 5,
     "metadata": {},
     "output_type": "execute_result"
    },
    {
     "data": {
      "image/png": "[encoded data removed]",
      "text/plain": [
       "<Figure size 640x480 with 1 Axes>"
      ]
     },
     "metadata": {},
     "output_type": "display_data"
    }
   ],
   "source": [
    "df_event = pd.concat([df_0, df_1], axis=0).reset_index(drop=True)\n",
    "df_event.plot()"
   ]
  },
  {
   "cell_type": "code",
   "execution_count": 7,
   "id": "2934250f-f7b1-4acb-b6fe-b917af062c11",
   "metadata": {},
   "outputs": [
    {
     "data": {
      "text/plain": [
       "array([-94.61821887,  16.40055876, -93.99189954,  16.86321617])"
      ]
     },
     "execution_count": 7,
     "metadata": {},
     "output_type": "execute_result"
    }
   ],
   "source": [
    "df_event.total_bounds"
   ]
  },
  {
   "cell_type": "code",
   "execution_count": 8,
   "id": "17b53fe3-4110-4f90-80d3-d6c2fddff3a9",
   "metadata": {},
   "outputs": [
    {
     "data": {
      "text/html": [
       "<div>\n",
       "<style scoped>\n",
       "    .dataframe tbody tr th:only-of-type {\n",
       "        vertical-align: middle;\n",
       "    }\n",
       "\n",
       "    .dataframe tbody tr th {\n",
       "        vertical-align: top;\n",
       "    }\n",
       "\n",
       "    .dataframe thead th {\n",
       "        text-align: right;\n",
       "    }\n",
       "</style>\n",
       "<table border=\"1\" class=\"dataframe\">\n",
       "  <thead>\n",
       "    <tr style=\"text-align: right;\">\n",
       "      <th></th>\n",
       "      <th>name</th>\n",
       "      <th>date</th>\n",
       "      <th>source_id</th>\n",
       "      <th>geometry</th>\n",
       "    </tr>\n",
       "  </thead>\n",
       "  <tbody>\n",
       "    <tr>\n",
       "      <th>0</th>\n",
       "      <td>chiapas_fire_2024</td>\n",
       "      <td>2024-03-28</td>\n",
       "      <td>Copernicus Copernicus EMSR717</td>\n",
       "      <td>MULTIPOLYGON (((-94.53755 16.46818, -94.53770 ...</td>\n",
       "    </tr>\n",
       "  </tbody>\n",
       "</table>\n",
       "</div>"
      ],
      "text/plain": [
       "                name       date                      source_id  \\\n",
       "0  chiapas_fire_2024 2024-03-28  Copernicus Copernicus EMSR717   \n",
       "\n",
       "                                            geometry  \n",
       "0  MULTIPOLYGON (((-94.53755 16.46818, -94.53770 ...  "
      ]
     },
     "execution_count": 8,
     "metadata": {},
     "output_type": "execute_result"
    }
   ],
   "source": [
    "geo = df_event.geometry.unary_union\n",
    "\n",
    "df_event_f = gpd.GeoDataFrame({'name': [event_dict['event_name']],\n",
    "                               'date': [pd.to_datetime(event_dict['event_date'])],\n",
    "                               'source_id': [f'Copernicus {event_dict[\"source_id\"]}']},\n",
    "                              geometry=[geo],\n",
    "                              crs=CRS.from_epsg(4326))\n",
    "df_event_f.head()"
   ]
  },
  {
   "cell_type": "code",
   "execution_count": 9,
   "id": "a56f7d98-4a80-4994-8799-4249fd0f3251",
   "metadata": {},
   "outputs": [],
   "source": [
    "EXTERNAL_VAL_DATA_DIR = Path('../external_validation_data_db/')\n",
    "EXTERNAL_VAL_DATA_DIR.mkdir(exist_ok=True, parents=True)"
   ]
  },
  {
   "cell_type": "code",
   "execution_count": 10,
   "id": "7b486c54-ec4a-4892-a1fd-3a19f098334c",
   "metadata": {},
   "outputs": [],
   "source": [
    "df_event_f.to_file(EXTERNAL_VAL_DATA_DIR / f'{event_dict[\"event_name\"]}.geojson', driver='GeoJSON')"
   ]
  },
  {
   "cell_type": "code",
   "execution_count": null,
   "id": "f7111e10-1850-41ed-92b1-9a184d935c81",
   "metadata": {},
   "outputs": [],
   "source": []
  }
 ],
 "metadata": {
  "kernelspec": {
   "display_name": "dist-s1",
   "language": "python",
   "name": "dist-s1"
  },
  "language_info": {
   "codemirror_mode": {
    "name": "ipython",
    "version": 3
   },
   "file_extension": ".py",
   "mimetype": "text/x-python",
   "name": "python",
   "nbconvert_exporter": "python",
   "pygments_lexer": "ipython3",
   "version": "3.12.4"
  }
 },
 "nbformat": 4,
 "nbformat_minor": 5
}
