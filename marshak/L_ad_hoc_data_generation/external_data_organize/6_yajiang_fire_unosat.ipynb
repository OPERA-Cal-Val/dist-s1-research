{
 "cells": [
  {
   "cell_type": "markdown",
   "id": "308f7b60-0c23-4865-81d3-cfc2bfc1a170",
   "metadata": {
    "editable": true,
    "slideshow": {
     "slide_type": ""
    },
    "tags": []
   },
   "source": [
    "Source: https://data.humdata.org/dataset/satellite-detected-water-extents-between-4-11-july-2024-in-bangladesh"
   ]
  },
  {
   "cell_type": "code",
   "execution_count": 33,
   "id": "0c14f20f-03f2-43da-8ba5-294931194ff4",
   "metadata": {
    "editable": true,
    "slideshow": {
     "slide_type": ""
    },
    "tags": []
   },
   "outputs": [],
   "source": [
    "import geopandas as gpd\n",
    "import pandas as pd\n",
    "import yaml\n",
    "from rasterio.crs import CRS\n",
    "from pathlib import Path\n",
    "import fiona\n",
    "from shapely.ops import polygonize\n",
    "from shapely.geometry import mapping, Polygon, shape"
   ]
  },
  {
   "cell_type": "code",
   "execution_count": 7,
   "id": "eb81041d-99b5-4d8e-9e5e-fb1aae7d184f",
   "metadata": {},
   "outputs": [
    {
     "data": {
      "text/plain": [
       "{'event_name': 'yajiang_fire_2024',\n",
       " 'bounds': [110.00054153, -7.10254596, 111.30352226, -6.68671509],\n",
       " 'event_date': '2024-03-15',\n",
       " 'pre_event_window_days': 100,\n",
       " 'post_event_window_days': 60,\n",
       " 'rtc_track_numbers': [76, 127],\n",
       " 'mgrs_tiles': ['49MDN', '49MEN'],\n",
       " 'dist_hls_confirmed_change_min_days': 30,\n",
       " 'source_id': 'UNOSAT via humanitarian data exchange',\n",
       " 'links': ['https://data.humdata.org/dataset/the-wildfire-area-of-yajiang-country-sichuan-province-china via SDGSAT-1 MSI',\n",
       "  'https://www.rfa.org/english/news/tibet/sichuan-wildfires-03182024171046.html']}"
      ]
     },
     "execution_count": 7,
     "metadata": {},
     "output_type": "execute_result"
    }
   ],
   "source": [
    "yaml_file = '../events/yajiang_fire_2024.yml' #'porto_algre.yml'\n",
    "with open(yaml_file) as f:\n",
    "    event_dict = yaml.safe_load(f)[\"event\"]\n",
    "event_dict"
   ]
  },
  {
   "cell_type": "code",
   "execution_count": 8,
   "id": "0a7d1561-1a66-4535-9e09-ea7bc134bdd1",
   "metadata": {},
   "outputs": [
    {
     "data": {
      "text/plain": [
       "['BurnArea_of_SichuanWildfire']"
      ]
     },
     "execution_count": 8,
     "metadata": {},
     "output_type": "execute_result"
    }
   ],
   "source": [
    "fiona.listlayers('../external_validation_data/unosat/yajiang_fire/YajiangWildfireArea.gdb/')"
   ]
  },
  {
   "cell_type": "code",
   "execution_count": 18,
   "id": "508d63fc-be64-458f-9c8d-2a8ca05ff6de",
   "metadata": {
    "editable": true,
    "slideshow": {
     "slide_type": ""
    },
    "tags": []
   },
   "outputs": [
    {
     "data": {
      "text/html": [
       "<div>\n",
       "<style scoped>\n",
       "    .dataframe tbody tr th:only-of-type {\n",
       "        vertical-align: middle;\n",
       "    }\n",
       "\n",
       "    .dataframe tbody tr th {\n",
       "        vertical-align: top;\n",
       "    }\n",
       "\n",
       "    .dataframe thead th {\n",
       "        text-align: right;\n",
       "    }\n",
       "</style>\n",
       "<table border=\"1\" class=\"dataframe\">\n",
       "  <thead>\n",
       "    <tr style=\"text-align: right;\">\n",
       "      <th></th>\n",
       "      <th>FID_BurnAr</th>\n",
       "      <th>Id</th>\n",
       "      <th>area</th>\n",
       "      <th>country</th>\n",
       "      <th>adm1</th>\n",
       "      <th>adm2</th>\n",
       "      <th>Shape_Length</th>\n",
       "      <th>geometry</th>\n",
       "    </tr>\n",
       "  </thead>\n",
       "  <tbody>\n",
       "    <tr>\n",
       "      <th>0</th>\n",
       "      <td>20</td>\n",
       "      <td>1</td>\n",
       "      <td>0.983799</td>\n",
       "      <td>china</td>\n",
       "      <td>sichuan</td>\n",
       "      <td>yajiang</td>\n",
       "      <td>7988.152585</td>\n",
       "      <td>MULTILINESTRING ((101.06769 30.05566, 101.0649...</td>\n",
       "    </tr>\n",
       "    <tr>\n",
       "      <th>1</th>\n",
       "      <td>21</td>\n",
       "      <td>1</td>\n",
       "      <td>0.483550</td>\n",
       "      <td>china</td>\n",
       "      <td>sichuan</td>\n",
       "      <td>yajiang</td>\n",
       "      <td>4542.290599</td>\n",
       "      <td>MULTILINESTRING ((101.05103 30.06223, 101.0496...</td>\n",
       "    </tr>\n",
       "    <tr>\n",
       "      <th>2</th>\n",
       "      <td>14</td>\n",
       "      <td>1</td>\n",
       "      <td>0.588643</td>\n",
       "      <td>china</td>\n",
       "      <td>sichuan</td>\n",
       "      <td>yajiang</td>\n",
       "      <td>6873.531396</td>\n",
       "      <td>MULTILINESTRING ((101.21657 30.11180, 101.2200...</td>\n",
       "    </tr>\n",
       "    <tr>\n",
       "      <th>3</th>\n",
       "      <td>7</td>\n",
       "      <td>-1</td>\n",
       "      <td>0.022049</td>\n",
       "      <td>china</td>\n",
       "      <td>sichuan</td>\n",
       "      <td>yajiang</td>\n",
       "      <td>642.880457</td>\n",
       "      <td>MULTILINESTRING ((101.26192 30.12477, 101.2621...</td>\n",
       "    </tr>\n",
       "    <tr>\n",
       "      <th>4</th>\n",
       "      <td>1</td>\n",
       "      <td>-1</td>\n",
       "      <td>0.461122</td>\n",
       "      <td>china</td>\n",
       "      <td>sichuan</td>\n",
       "      <td>yajiang</td>\n",
       "      <td>3432.253495</td>\n",
       "      <td>MULTILINESTRING ((101.04677 30.12737, 101.0501...</td>\n",
       "    </tr>\n",
       "  </tbody>\n",
       "</table>\n",
       "</div>"
      ],
      "text/plain": [
       "   FID_BurnAr  Id      area country     adm1     adm2  Shape_Length  \\\n",
       "0          20   1  0.983799   china  sichuan  yajiang   7988.152585   \n",
       "1          21   1  0.483550   china  sichuan  yajiang   4542.290599   \n",
       "2          14   1  0.588643   china  sichuan  yajiang   6873.531396   \n",
       "3           7  -1  0.022049   china  sichuan  yajiang    642.880457   \n",
       "4           1  -1  0.461122   china  sichuan  yajiang   3432.253495   \n",
       "\n",
       "                                            geometry  \n",
       "0  MULTILINESTRING ((101.06769 30.05566, 101.0649...  \n",
       "1  MULTILINESTRING ((101.05103 30.06223, 101.0496...  \n",
       "2  MULTILINESTRING ((101.21657 30.11180, 101.2200...  \n",
       "3  MULTILINESTRING ((101.26192 30.12477, 101.2621...  \n",
       "4  MULTILINESTRING ((101.04677 30.12737, 101.0501...  "
      ]
     },
     "execution_count": 18,
     "metadata": {},
     "output_type": "execute_result"
    }
   ],
   "source": [
    "df_event = gpd.read_file('../external_validation_data/unosat/yajiang_fire/YajiangWildfireArea.gdb/', layer='BurnArea_of_SichuanWildfire')\n",
    "df_event = df_event.to_crs(4326)\n",
    "df_event.head()"
   ]
  },
  {
   "cell_type": "code",
   "execution_count": 40,
   "id": "ca06aa22-d95d-43d4-85f6-136df5c90a0a",
   "metadata": {},
   "outputs": [
    {
     "data": {
      "image/svg+xml": [
       "<svg xmlns=\"http://www.w3.org/2000/svg\" xmlns:xlink=\"http://www.w3.org/1999/xlink\" width=\"100.0\" height=\"100.0\" viewBox=\"101.05110726560548 30.050884691836334 0.017548311915149384 0.016661776210355583\" preserveAspectRatio=\"xMinYMin meet\"><g transform=\"matrix(1,0,0,-1,0,60.11843115988302)\"><path fill-rule=\"evenodd\" fill=\"#66cc99\" stroke=\"#555555\" stroke-width=\"0.00035096623830298767\" opacity=\"0.6\" d=\"M 101.06768924107507,30.05566364407582 L 101.06494026657606,30.055420420972467 L 101.06368243398485,30.055631131604294 L 101.06320692500917,30.053872238142784 L 101.06310356978229,30.051534629314673 L 101.06069177289389,30.051667936605 L 101.06066395290657,30.052396194649276 L 101.0592531597863,30.0526166248933 L 101.05725013105868,30.05341181903149 L 101.05619896154094,30.055998256689996 L 101.05471842412067,30.054721286411873 L 101.05363894866437,30.055597466798137 L 101.05175720308382,30.057488694110326 L 101.053096549858,30.058565790347203 L 101.05315141275895,30.058564933391303 L 101.0540949192378,30.059075326349785 L 101.05492870940365,30.059587428442757 L 101.05594584258311,30.06100370641018 L 101.05665413859478,30.06075392781801 L 101.05805733478743,30.062259625649386 L 101.05950456719079,30.06323948304902 L 101.06081341551013,30.06283705204847 L 101.05996474074406,30.061609132280186 L 101.05958811621795,30.059323542127245 L 101.05858742572705,30.05808271883462 L 101.05938873123546,30.05704472230655 L 101.06095521535141,30.055581732724313 L 101.06131207665834,30.057768857383408 L 101.06161705162828,30.05924399555281 L 101.06231201910055,30.060999449427744 L 101.06276931881024,30.064524984772348 L 101.06288498982818,30.06480960555902 L 101.06294084593041,30.064856468352634 L 101.06289687076801,30.065382290784868 L 101.06375155904527,30.06689653056835 L 101.06649323238541,30.06413230960201 L 101.06800564004229,30.062962777840035 L 101.06420709992481,30.062401880448746 L 101.063839288602,30.0605458225307 L 101.06435226202164,30.058819150251978 L 101.06547959573314,30.057607956965864 L 101.06377195013211,30.05730060417519 L 101.0660014491707,30.056310793506277 L 101.06768924107507,30.05566364407582 z\" /></g></svg>"
      ],
      "text/plain": [
       "<POLYGON ((101.068 30.056, 101.065 30.055, 101.064 30.056, 101.063 30.054, 1...>"
      ]
     },
     "execution_count": 40,
     "metadata": {},
     "output_type": "execute_result"
    }
   ],
   "source": [
    "Polygon(*[geo.coords[:] for geo in df_event.geometry[0].geoms])"
   ]
  },
  {
   "cell_type": "code",
   "execution_count": 42,
   "id": "c22188c6-b623-44de-ac82-532ef91047ac",
   "metadata": {},
   "outputs": [],
   "source": [
    "# inspired by https://stackoverflow.com/a/61684298\n",
    "polys = [Polygon(*[geo.coords[:] for geo in multi_geo.geoms]) for multi_geo in df_event.geometry.tolist()]"
   ]
  },
  {
   "cell_type": "code",
   "execution_count": 43,
   "id": "0eae7725-0042-4dbc-aaf8-77abd42de04a",
   "metadata": {},
   "outputs": [],
   "source": [
    "df_event_f = df_event.copy()\n",
    "df_event_f['geometry'] = polys"
   ]
  },
  {
   "cell_type": "code",
   "execution_count": 44,
   "id": "6c6cf2cc-8a11-457f-848c-ad59999fcd13",
   "metadata": {},
   "outputs": [
    {
     "data": {
      "text/plain": [
       "<Axes: >"
      ]
     },
     "execution_count": 44,
     "metadata": {},
     "output_type": "execute_result"
    },
    {
     "data": {
      "image/png": "[encoded data removed]",
      "text/plain": [
       "<Figure size 640x480 with 1 Axes>"
      ]
     },
     "metadata": {},
     "output_type": "display_data"
    }
   ],
   "source": [
    "df_event_f.plot()"
   ]
  },
  {
   "cell_type": "code",
   "execution_count": 48,
   "id": "0d206250-19fa-46ba-a8f6-c07edcc24770",
   "metadata": {
    "editable": true,
    "slideshow": {
     "slide_type": ""
    },
    "tags": []
   },
   "outputs": [],
   "source": [
    "# df_flood_coastal = df_flood.cx[89.2:91, 21.5: 24].reset_index(drop=True)\n",
    "# df_flood_coastal.explore()"
   ]
  },
  {
   "cell_type": "code",
   "execution_count": 53,
   "id": "6ed28660-4cbf-4191-9d2e-725557983ae3",
   "metadata": {},
   "outputs": [
    {
     "data": {
      "text/plain": [
       "array([100.96162212,  30.03892945, 101.33076217,  30.23238956])"
      ]
     },
     "execution_count": 53,
     "metadata": {},
     "output_type": "execute_result"
    }
   ],
   "source": [
    "df_event_f.total_bounds"
   ]
  },
  {
   "cell_type": "code",
   "execution_count": 49,
   "id": "8ae58dd4-bece-4e79-a844-4aa86484589c",
   "metadata": {},
   "outputs": [
    {
     "data": {
      "text/html": [
       "<div>\n",
       "<style scoped>\n",
       "    .dataframe tbody tr th:only-of-type {\n",
       "        vertical-align: middle;\n",
       "    }\n",
       "\n",
       "    .dataframe tbody tr th {\n",
       "        vertical-align: top;\n",
       "    }\n",
       "\n",
       "    .dataframe thead th {\n",
       "        text-align: right;\n",
       "    }\n",
       "</style>\n",
       "<table border=\"1\" class=\"dataframe\">\n",
       "  <thead>\n",
       "    <tr style=\"text-align: right;\">\n",
       "      <th></th>\n",
       "      <th>name</th>\n",
       "      <th>date</th>\n",
       "      <th>source_id</th>\n",
       "      <th>geometry</th>\n",
       "    </tr>\n",
       "  </thead>\n",
       "  <tbody>\n",
       "    <tr>\n",
       "      <th>0</th>\n",
       "      <td>yajiang_fire_2024</td>\n",
       "      <td>2024-03-15</td>\n",
       "      <td>UNOSAT via humanitarian data exchange</td>\n",
       "      <td>POLYGON ((101.06769 30.05566, 101.06494 30.055...</td>\n",
       "    </tr>\n",
       "    <tr>\n",
       "      <th>1</th>\n",
       "      <td>yajiang_fire_2024</td>\n",
       "      <td>2024-03-15</td>\n",
       "      <td>UNOSAT via humanitarian data exchange</td>\n",
       "      <td>POLYGON ((101.05103 30.06223, 101.04967 30.062...</td>\n",
       "    </tr>\n",
       "    <tr>\n",
       "      <th>2</th>\n",
       "      <td>yajiang_fire_2024</td>\n",
       "      <td>2024-03-15</td>\n",
       "      <td>UNOSAT via humanitarian data exchange</td>\n",
       "      <td>POLYGON ((101.21657 30.11180, 101.22008 30.112...</td>\n",
       "    </tr>\n",
       "    <tr>\n",
       "      <th>3</th>\n",
       "      <td>yajiang_fire_2024</td>\n",
       "      <td>2024-03-15</td>\n",
       "      <td>UNOSAT via humanitarian data exchange</td>\n",
       "      <td>POLYGON ((101.26192 30.12477, 101.26217 30.124...</td>\n",
       "    </tr>\n",
       "    <tr>\n",
       "      <th>4</th>\n",
       "      <td>yajiang_fire_2024</td>\n",
       "      <td>2024-03-15</td>\n",
       "      <td>UNOSAT via humanitarian data exchange</td>\n",
       "      <td>POLYGON ((101.04677 30.12737, 101.05013 30.127...</td>\n",
       "    </tr>\n",
       "  </tbody>\n",
       "</table>\n",
       "</div>"
      ],
      "text/plain": [
       "                name       date                              source_id  \\\n",
       "0  yajiang_fire_2024 2024-03-15  UNOSAT via humanitarian data exchange   \n",
       "1  yajiang_fire_2024 2024-03-15  UNOSAT via humanitarian data exchange   \n",
       "2  yajiang_fire_2024 2024-03-15  UNOSAT via humanitarian data exchange   \n",
       "3  yajiang_fire_2024 2024-03-15  UNOSAT via humanitarian data exchange   \n",
       "4  yajiang_fire_2024 2024-03-15  UNOSAT via humanitarian data exchange   \n",
       "\n",
       "                                            geometry  \n",
       "0  POLYGON ((101.06769 30.05566, 101.06494 30.055...  \n",
       "1  POLYGON ((101.05103 30.06223, 101.04967 30.062...  \n",
       "2  POLYGON ((101.21657 30.11180, 101.22008 30.112...  \n",
       "3  POLYGON ((101.26192 30.12477, 101.26217 30.124...  \n",
       "4  POLYGON ((101.04677 30.12737, 101.05013 30.127...  "
      ]
     },
     "execution_count": 49,
     "metadata": {},
     "output_type": "execute_result"
    }
   ],
   "source": [
    "n = df_event_f.shape[0]\n",
    "df_event_f = gpd.GeoDataFrame({'name': [event_dict['event_name'] for k in range(n)],\n",
    "                               'date': [pd.to_datetime(event_dict['event_date']) for k in range(n)],\n",
    "                               'source_id': [f'{event_dict[\"source_id\"]}' for k in range(n)]},\n",
    "                              geometry=df_event_f.geometry.tolist(),\n",
    "                              crs=CRS.from_epsg(4326))\n",
    "df_event_f.head()"
   ]
  },
  {
   "cell_type": "code",
   "execution_count": 50,
   "id": "ed9dddb7-b070-4bbf-b514-3575365ea15d",
   "metadata": {},
   "outputs": [],
   "source": [
    "EXTERNAL_VAL_DATA_DIR = Path('../external_validation_data_db/')\n",
    "EXTERNAL_VAL_DATA_DIR.mkdir(exist_ok=True, parents=True)"
   ]
  },
  {
   "cell_type": "code",
   "execution_count": 51,
   "id": "cbb66a9c-32f1-42c4-ab3f-4b5a2cd0b1b3",
   "metadata": {},
   "outputs": [],
   "source": [
    "#df_event_f.to_parquet(EXTERNAL_VAL_DATA_DIR / f'{event_dict[\"event_name\"]}.parquet')"
   ]
  },
  {
   "cell_type": "code",
   "execution_count": 52,
   "id": "a6327680-4e5b-4808-9caf-8c34b0aaaaca",
   "metadata": {},
   "outputs": [],
   "source": [
    "df_event_f.to_file(EXTERNAL_VAL_DATA_DIR / f'{event_dict[\"event_name\"]}.geojson', driver='GeoJSON')"
   ]
  }
 ],
 "metadata": {
  "kernelspec": {
   "display_name": "dist-s1",
   "language": "python",
   "name": "dist-s1"
  },
  "language_info": {
   "codemirror_mode": {
    "name": "ipython",
    "version": 3
   },
   "file_extension": ".py",
   "mimetype": "text/x-python",
   "name": "python",
   "nbconvert_exporter": "python",
   "pygments_lexer": "ipython3",
   "version": "3.12.4"
  }
 },
 "nbformat": 4,
 "nbformat_minor": 5
}
