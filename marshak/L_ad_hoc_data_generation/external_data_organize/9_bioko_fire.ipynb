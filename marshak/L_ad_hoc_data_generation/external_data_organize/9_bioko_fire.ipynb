{
 "cells": [
  {
   "cell_type": "markdown",
   "id": "308f7b60-0c23-4865-81d3-cfc2bfc1a170",
   "metadata": {
    "editable": true,
    "slideshow": {
     "slide_type": ""
    },
    "tags": []
   },
   "source": [
    "https://data.humdata.org/dataset/areas-burned-from-february-3rd-to-18th-2024-around-the-pico-basil-volcano-on-bioko-island-"
   ]
  },
  {
   "cell_type": "code",
   "execution_count": 1,
   "id": "0c14f20f-03f2-43da-8ba5-294931194ff4",
   "metadata": {
    "editable": true,
    "slideshow": {
     "slide_type": ""
    },
    "tags": []
   },
   "outputs": [],
   "source": [
    "import geopandas as gpd\n",
    "import pandas as pd\n",
    "import yaml\n",
    "from rasterio.crs import CRS\n",
    "from pathlib import Path\n",
    "import fiona\n",
    "from shapely.ops import polygonize\n",
    "from shapely.geometry import mapping, Polygon, shape\n",
    "import glob"
   ]
  },
  {
   "cell_type": "code",
   "execution_count": 2,
   "id": "eb81041d-99b5-4d8e-9e5e-fb1aae7d184f",
   "metadata": {},
   "outputs": [
    {
     "data": {
      "text/plain": [
       "{'event_name': 'bioko_fire_2024',\n",
       " 'bounds': [107.29793288, -6.9549793, 107.32434909, -6.92756748],\n",
       " 'event_date': '2024-02-07',\n",
       " 'pre_event_window_days': 100,\n",
       " 'post_event_window_days': 60,\n",
       " 'rtc_track_numbers': [98, 149],\n",
       " 'mgrs_tiles': ['48MYT'],\n",
       " 'dist_hls_confirmed_change_min_days': 30,\n",
       " 'source_id': 'UNOSAT via humanitarian data exchange',\n",
       " 'links': ['data: https://data.humdata.org/dataset/areas-burned-from-february-3rd-to-18th-2024-around-the-pico-basil-volcano-on-bioko-island-',\n",
       "  'https://go.ifrc.org/emergencies/6858/details']}"
      ]
     },
     "execution_count": 2,
     "metadata": {},
     "output_type": "execute_result"
    }
   ],
   "source": [
    "yaml_file = '../events/bioko_fire_2024.yml' #'porto_algre.yml'\n",
    "with open(yaml_file) as f:\n",
    "    event_dict = yaml.safe_load(f)[\"event\"]\n",
    "event_dict"
   ]
  },
  {
   "cell_type": "code",
   "execution_count": 3,
   "id": "508d63fc-be64-458f-9c8d-2a8ca05ff6de",
   "metadata": {
    "editable": true,
    "slideshow": {
     "slide_type": ""
    },
    "tags": []
   },
   "outputs": [
    {
     "data": {
      "text/html": [
       "<div>\n",
       "<style scoped>\n",
       "    .dataframe tbody tr th:only-of-type {\n",
       "        vertical-align: middle;\n",
       "    }\n",
       "\n",
       "    .dataframe tbody tr th {\n",
       "        vertical-align: top;\n",
       "    }\n",
       "\n",
       "    .dataframe thead th {\n",
       "        text-align: right;\n",
       "    }\n",
       "</style>\n",
       "<table border=\"1\" class=\"dataframe\">\n",
       "  <thead>\n",
       "    <tr style=\"text-align: right;\">\n",
       "      <th></th>\n",
       "      <th>Id</th>\n",
       "      <th>gridcode</th>\n",
       "      <th>Shape_Leng</th>\n",
       "      <th>Shape_Area</th>\n",
       "      <th>Area</th>\n",
       "      <th>Water_Clas</th>\n",
       "      <th>Sensor_ID</th>\n",
       "      <th>Sensor_Dat</th>\n",
       "      <th>Confidence</th>\n",
       "      <th>Field_Vali</th>\n",
       "      <th>Water_Stat</th>\n",
       "      <th>Notes</th>\n",
       "      <th>Area_m2</th>\n",
       "      <th>Area_ha</th>\n",
       "      <th>SenorID_ol</th>\n",
       "      <th>StaffID</th>\n",
       "      <th>EventCode</th>\n",
       "      <th>geometry</th>\n",
       "    </tr>\n",
       "  </thead>\n",
       "  <tbody>\n",
       "    <tr>\n",
       "      <th>0</th>\n",
       "      <td>283</td>\n",
       "      <td>1</td>\n",
       "      <td>0.689322</td>\n",
       "      <td>0.000497</td>\n",
       "      <td>6.10686800494863</td>\n",
       "      <td>None</td>\n",
       "      <td>Sentinel-2</td>\n",
       "      <td>2024-02-18</td>\n",
       "      <td>To be evaluated</td>\n",
       "      <td>Not yet field validated</td>\n",
       "      <td>None</td>\n",
       "      <td>None</td>\n",
       "      <td>6106900.0</td>\n",
       "      <td>610.69</td>\n",
       "      <td>None</td>\n",
       "      <td>SS</td>\n",
       "      <td>FR20240222GNQ</td>\n",
       "      <td>MULTIPOLYGON (((8.75802 3.56722, 8.75793 3.567...</td>\n",
       "    </tr>\n",
       "  </tbody>\n",
       "</table>\n",
       "</div>"
      ],
      "text/plain": [
       "    Id  gridcode  Shape_Leng  Shape_Area              Area Water_Clas  \\\n",
       "0  283         1    0.689322    0.000497  6.10686800494863       None   \n",
       "\n",
       "    Sensor_ID  Sensor_Dat       Confidence               Field_Vali  \\\n",
       "0  Sentinel-2  2024-02-18  To be evaluated  Not yet field validated   \n",
       "\n",
       "  Water_Stat Notes    Area_m2  Area_ha SenorID_ol StaffID      EventCode  \\\n",
       "0       None  None  6106900.0   610.69       None      SS  FR20240222GNQ   \n",
       "\n",
       "                                            geometry  \n",
       "0  MULTIPOLYGON (((8.75802 3.56722, 8.75793 3.567...  "
      ]
     },
     "execution_count": 3,
     "metadata": {},
     "output_type": "execute_result"
    }
   ],
   "source": [
    "df_event = gpd.read_file('../external_validation_data/unosat/bioko_fire_2024/S2_20240218_BurnedArea.shp')\n",
    "df_event = df_event.to_crs(4326)\n",
    "df_event.head()"
   ]
  },
  {
   "cell_type": "code",
   "execution_count": 4,
   "id": "1a311562-652d-4d3e-a6dd-012c682c4a73",
   "metadata": {},
   "outputs": [
    {
     "data": {
      "text/plain": [
       "array([8.73555504, 3.56664088, 8.7688816 , 3.59751284])"
      ]
     },
     "execution_count": 4,
     "metadata": {},
     "output_type": "execute_result"
    }
   ],
   "source": [
    "df_event.total_bounds"
   ]
  },
  {
   "cell_type": "code",
   "execution_count": 5,
   "id": "0d206250-19fa-46ba-a8f6-c07edcc24770",
   "metadata": {
    "editable": true,
    "slideshow": {
     "slide_type": ""
    },
    "tags": []
   },
   "outputs": [],
   "source": [
    "# df_flood_coastal = df_flood.cx[89.2:91, 21.5: 24].reset_index(drop=True)\n",
    "# df_flood_coastal.explore()"
   ]
  },
  {
   "cell_type": "code",
   "execution_count": 6,
   "id": "8ae58dd4-bece-4e79-a844-4aa86484589c",
   "metadata": {},
   "outputs": [
    {
     "data": {
      "text/html": [
       "<div>\n",
       "<style scoped>\n",
       "    .dataframe tbody tr th:only-of-type {\n",
       "        vertical-align: middle;\n",
       "    }\n",
       "\n",
       "    .dataframe tbody tr th {\n",
       "        vertical-align: top;\n",
       "    }\n",
       "\n",
       "    .dataframe thead th {\n",
       "        text-align: right;\n",
       "    }\n",
       "</style>\n",
       "<table border=\"1\" class=\"dataframe\">\n",
       "  <thead>\n",
       "    <tr style=\"text-align: right;\">\n",
       "      <th></th>\n",
       "      <th>name</th>\n",
       "      <th>date</th>\n",
       "      <th>source_id</th>\n",
       "      <th>geometry</th>\n",
       "    </tr>\n",
       "  </thead>\n",
       "  <tbody>\n",
       "    <tr>\n",
       "      <th>0</th>\n",
       "      <td>bioko_fire_2024</td>\n",
       "      <td>2024-02-07</td>\n",
       "      <td>UNOSAT via humanitarian data exchange</td>\n",
       "      <td>MULTIPOLYGON (((8.75802 3.56722, 8.75793 3.567...</td>\n",
       "    </tr>\n",
       "  </tbody>\n",
       "</table>\n",
       "</div>"
      ],
      "text/plain": [
       "              name       date                              source_id  \\\n",
       "0  bioko_fire_2024 2024-02-07  UNOSAT via humanitarian data exchange   \n",
       "\n",
       "                                            geometry  \n",
       "0  MULTIPOLYGON (((8.75802 3.56722, 8.75793 3.567...  "
      ]
     },
     "execution_count": 6,
     "metadata": {},
     "output_type": "execute_result"
    }
   ],
   "source": [
    "n = df_event.shape[0]\n",
    "df_event_f = gpd.GeoDataFrame({'name': [event_dict['event_name'] for k in range(n)],\n",
    "                               'date': [pd.to_datetime(event_dict['event_date']) for k in range(n)],\n",
    "                               'source_id': [f'{event_dict[\"source_id\"]}' for k in range(n)]},\n",
    "                              geometry=df_event.geometry.tolist(),\n",
    "                              crs=CRS.from_epsg(4326))\n",
    "df_event_f.head()"
   ]
  },
  {
   "cell_type": "code",
   "execution_count": 7,
   "id": "a4a2fc05-7247-43ca-bcbf-13b061fbe561",
   "metadata": {},
   "outputs": [
    {
     "data": {
      "text/plain": [
       "<Axes: >"
      ]
     },
     "execution_count": 7,
     "metadata": {},
     "output_type": "execute_result"
    },
    {
     "data": {
      "image/png": "[encoded data removed]",
      "text/plain": [
       "<Figure size 640x480 with 1 Axes>"
      ]
     },
     "metadata": {},
     "output_type": "display_data"
    }
   ],
   "source": [
    "df_event_f.plot()"
   ]
  },
  {
   "cell_type": "code",
   "execution_count": 8,
   "id": "ed9dddb7-b070-4bbf-b514-3575365ea15d",
   "metadata": {},
   "outputs": [],
   "source": [
    "EXTERNAL_VAL_DATA_DIR = Path('../external_validation_data_db/')\n",
    "EXTERNAL_VAL_DATA_DIR.mkdir(exist_ok=True, parents=True)"
   ]
  },
  {
   "cell_type": "code",
   "execution_count": 9,
   "id": "cbb66a9c-32f1-42c4-ab3f-4b5a2cd0b1b3",
   "metadata": {},
   "outputs": [],
   "source": [
    "#df_event_f.to_parquet(EXTERNAL_VAL_DATA_DIR / f'{event_dict[\"event_name\"]}.parquet')"
   ]
  },
  {
   "cell_type": "code",
   "execution_count": 11,
   "id": "a6327680-4e5b-4808-9caf-8c34b0aaaaca",
   "metadata": {},
   "outputs": [],
   "source": [
    "df_event_f.to_file(EXTERNAL_VAL_DATA_DIR / f'{event_dict[\"event_name\"]}.geojson', driver='GeoJSON')"
   ]
  },
  {
   "cell_type": "code",
   "execution_count": null,
   "id": "5396ed7d-3562-4034-b982-edf53705e978",
   "metadata": {},
   "outputs": [],
   "source": []
  }
 ],
 "metadata": {
  "kernelspec": {
   "display_name": "dist-s1",
   "language": "python",
   "name": "dist-s1"
  },
  "language_info": {
   "codemirror_mode": {
    "name": "ipython",
    "version": 3
   },
   "file_extension": ".py",
   "mimetype": "text/x-python",
   "name": "python",
   "nbconvert_exporter": "python",
   "pygments_lexer": "ipython3",
   "version": "3.12.4"
  }
 },
 "nbformat": 4,
 "nbformat_minor": 5
}
