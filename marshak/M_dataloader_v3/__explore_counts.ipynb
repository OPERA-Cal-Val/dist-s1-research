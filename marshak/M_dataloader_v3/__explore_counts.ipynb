{
 "cells": [
  {
   "cell_type": "code",
   "execution_count": 1,
   "id": "e19a501b-1027-4be8-85a4-4b47d1da0274",
   "metadata": {},
   "outputs": [],
   "source": [
    "import geopandas as gpd\n",
    "import pandas as pd"
   ]
  },
  {
   "cell_type": "code",
   "execution_count": 3,
   "id": "c7fab917-bc42-4d62-8c34-8d044dcf66d2",
   "metadata": {},
   "outputs": [
    {
     "data": {
      "text/plain": [
       "(384579, 3)"
      ]
     },
     "execution_count": 3,
     "metadata": {},
     "output_type": "execute_result"
    }
   ],
   "source": [
    "df_patch = pd.read_parquet('burst_patch_table.parquet')\n",
    "df_patch.shape"
   ]
  },
  {
   "cell_type": "code",
   "execution_count": 4,
   "id": "26dfc92a-801c-4160-a5e5-6855569aedc3",
   "metadata": {},
   "outputs": [
    {
     "data": {
      "text/plain": [
       "(237853, 8)"
      ]
     },
     "execution_count": 4,
     "metadata": {},
     "output_type": "execute_result"
    }
   ],
   "source": [
    "df_rtc = pd.read_parquet('rtc_s1_table.parquet')\n",
    "df_rtc.shape"
   ]
  },
  {
   "cell_type": "code",
   "execution_count": 21,
   "id": "98578cf6-cebf-4bd6-8d6b-98616024cc58",
   "metadata": {},
   "outputs": [
    {
     "data": {
      "text/html": [
       "<div>\n",
       "<style scoped>\n",
       "    .dataframe tbody tr th:only-of-type {\n",
       "        vertical-align: middle;\n",
       "    }\n",
       "\n",
       "    .dataframe tbody tr th {\n",
       "        vertical-align: top;\n",
       "    }\n",
       "\n",
       "    .dataframe thead th {\n",
       "        text-align: right;\n",
       "    }\n",
       "</style>\n",
       "<table border=\"1\" class=\"dataframe\">\n",
       "  <thead>\n",
       "    <tr style=\"text-align: right;\">\n",
       "      <th></th>\n",
       "      <th>jpl_burst_id</th>\n",
       "      <th>patch_count_per_burst</th>\n",
       "    </tr>\n",
       "  </thead>\n",
       "  <tbody>\n",
       "    <tr>\n",
       "      <th>0</th>\n",
       "      <td>T005-008688-IW2</td>\n",
       "      <td>144</td>\n",
       "    </tr>\n",
       "    <tr>\n",
       "      <th>1</th>\n",
       "      <td>T005-008688-IW3</td>\n",
       "      <td>122</td>\n",
       "    </tr>\n",
       "    <tr>\n",
       "      <th>2</th>\n",
       "      <td>T005-008689-IW1</td>\n",
       "      <td>133</td>\n",
       "    </tr>\n",
       "    <tr>\n",
       "      <th>3</th>\n",
       "      <td>T005-008689-IW2</td>\n",
       "      <td>143</td>\n",
       "    </tr>\n",
       "    <tr>\n",
       "      <th>4</th>\n",
       "      <td>T005-008689-IW3</td>\n",
       "      <td>122</td>\n",
       "    </tr>\n",
       "  </tbody>\n",
       "</table>\n",
       "</div>"
      ],
      "text/plain": [
       "      jpl_burst_id  patch_count_per_burst\n",
       "0  T005-008688-IW2                    144\n",
       "1  T005-008688-IW3                    122\n",
       "2  T005-008689-IW1                    133\n",
       "3  T005-008689-IW2                    143\n",
       "4  T005-008689-IW3                    122"
      ]
     },
     "execution_count": 21,
     "metadata": {},
     "output_type": "execute_result"
    }
   ],
   "source": [
    "df_patch_count_by_burst = df_patch.groupby('jpl_burst_id').size().reset_index(drop=False).rename(columns={0: 'patch_count_per_burst'})\n",
    "df_patch_count_by_burst.head()"
   ]
  },
  {
   "cell_type": "code",
   "execution_count": 22,
   "id": "85be788d-b4c5-4c49-bdc9-2c6b93e47160",
   "metadata": {},
   "outputs": [
    {
     "data": {
      "text/html": [
       "<div>\n",
       "<style scoped>\n",
       "    .dataframe tbody tr th:only-of-type {\n",
       "        vertical-align: middle;\n",
       "    }\n",
       "\n",
       "    .dataframe tbody tr th {\n",
       "        vertical-align: top;\n",
       "    }\n",
       "\n",
       "    .dataframe thead th {\n",
       "        text-align: right;\n",
       "    }\n",
       "</style>\n",
       "<table border=\"1\" class=\"dataframe\">\n",
       "  <thead>\n",
       "    <tr style=\"text-align: right;\">\n",
       "      <th></th>\n",
       "      <th>jpl_burst_id</th>\n",
       "      <th>date_count_per_burst</th>\n",
       "    </tr>\n",
       "  </thead>\n",
       "  <tbody>\n",
       "    <tr>\n",
       "      <th>0</th>\n",
       "      <td>T005-008688-IW2</td>\n",
       "      <td>66</td>\n",
       "    </tr>\n",
       "    <tr>\n",
       "      <th>1</th>\n",
       "      <td>T005-008688-IW3</td>\n",
       "      <td>66</td>\n",
       "    </tr>\n",
       "    <tr>\n",
       "      <th>2</th>\n",
       "      <td>T005-008689-IW1</td>\n",
       "      <td>66</td>\n",
       "    </tr>\n",
       "    <tr>\n",
       "      <th>3</th>\n",
       "      <td>T005-008689-IW2</td>\n",
       "      <td>66</td>\n",
       "    </tr>\n",
       "    <tr>\n",
       "      <th>4</th>\n",
       "      <td>T005-008689-IW3</td>\n",
       "      <td>66</td>\n",
       "    </tr>\n",
       "  </tbody>\n",
       "</table>\n",
       "</div>"
      ],
      "text/plain": [
       "      jpl_burst_id  date_count_per_burst\n",
       "0  T005-008688-IW2                    66\n",
       "1  T005-008688-IW3                    66\n",
       "2  T005-008689-IW1                    66\n",
       "3  T005-008689-IW2                    66\n",
       "4  T005-008689-IW3                    66"
      ]
     },
     "execution_count": 22,
     "metadata": {},
     "output_type": "execute_result"
    }
   ],
   "source": [
    "df_date_count_by_burst = df_rtc.groupby('jpl_burst_id').size().reset_index(drop=False).rename(columns={0: 'date_count_per_burst'})\n",
    "df_date_count_by_burst.head()"
   ]
  },
  {
   "cell_type": "code",
   "execution_count": 23,
   "id": "ce089d1a-81ba-4aeb-9517-cd410674cade",
   "metadata": {},
   "outputs": [
    {
     "data": {
      "text/html": [
       "<div>\n",
       "<style scoped>\n",
       "    .dataframe tbody tr th:only-of-type {\n",
       "        vertical-align: middle;\n",
       "    }\n",
       "\n",
       "    .dataframe tbody tr th {\n",
       "        vertical-align: top;\n",
       "    }\n",
       "\n",
       "    .dataframe thead th {\n",
       "        text-align: right;\n",
       "    }\n",
       "</style>\n",
       "<table border=\"1\" class=\"dataframe\">\n",
       "  <thead>\n",
       "    <tr style=\"text-align: right;\">\n",
       "      <th></th>\n",
       "      <th>jpl_burst_id</th>\n",
       "      <th>date_count_per_burst</th>\n",
       "      <th>patch_count_per_burst</th>\n",
       "    </tr>\n",
       "  </thead>\n",
       "  <tbody>\n",
       "    <tr>\n",
       "      <th>0</th>\n",
       "      <td>T005-008688-IW2</td>\n",
       "      <td>66</td>\n",
       "      <td>144</td>\n",
       "    </tr>\n",
       "    <tr>\n",
       "      <th>1</th>\n",
       "      <td>T005-008688-IW3</td>\n",
       "      <td>66</td>\n",
       "      <td>122</td>\n",
       "    </tr>\n",
       "    <tr>\n",
       "      <th>2</th>\n",
       "      <td>T005-008689-IW1</td>\n",
       "      <td>66</td>\n",
       "      <td>133</td>\n",
       "    </tr>\n",
       "    <tr>\n",
       "      <th>3</th>\n",
       "      <td>T005-008689-IW2</td>\n",
       "      <td>66</td>\n",
       "      <td>143</td>\n",
       "    </tr>\n",
       "    <tr>\n",
       "      <th>4</th>\n",
       "      <td>T005-008689-IW3</td>\n",
       "      <td>66</td>\n",
       "      <td>122</td>\n",
       "    </tr>\n",
       "  </tbody>\n",
       "</table>\n",
       "</div>"
      ],
      "text/plain": [
       "      jpl_burst_id  date_count_per_burst  patch_count_per_burst\n",
       "0  T005-008688-IW2                    66                    144\n",
       "1  T005-008688-IW3                    66                    122\n",
       "2  T005-008689-IW1                    66                    133\n",
       "3  T005-008689-IW2                    66                    143\n",
       "4  T005-008689-IW3                    66                    122"
      ]
     },
     "execution_count": 23,
     "metadata": {},
     "output_type": "execute_result"
    }
   ],
   "source": [
    "df_count_rtc = pd.merge(df_date_count_by_burst, df_patch_count_by_burst, on='jpl_burst_id', how='inner')\n",
    "df_count_rtc.head()"
   ]
  },
  {
   "cell_type": "code",
   "execution_count": 24,
   "id": "5349235b-8d53-4bd1-8d65-3d2e3720e23c",
   "metadata": {},
   "outputs": [
    {
     "data": {
      "text/html": [
       "<div>\n",
       "<style scoped>\n",
       "    .dataframe tbody tr th:only-of-type {\n",
       "        vertical-align: middle;\n",
       "    }\n",
       "\n",
       "    .dataframe tbody tr th {\n",
       "        vertical-align: top;\n",
       "    }\n",
       "\n",
       "    .dataframe thead th {\n",
       "        text-align: right;\n",
       "    }\n",
       "</style>\n",
       "<table border=\"1\" class=\"dataframe\">\n",
       "  <thead>\n",
       "    <tr style=\"text-align: right;\">\n",
       "      <th></th>\n",
       "      <th>jpl_burst_id</th>\n",
       "      <th>date_count_per_burst</th>\n",
       "      <th>patch_count_per_burst</th>\n",
       "      <th>total_samples_per_burst</th>\n",
       "    </tr>\n",
       "  </thead>\n",
       "  <tbody>\n",
       "    <tr>\n",
       "      <th>0</th>\n",
       "      <td>T005-008688-IW2</td>\n",
       "      <td>66</td>\n",
       "      <td>144</td>\n",
       "      <td>9504</td>\n",
       "    </tr>\n",
       "    <tr>\n",
       "      <th>1</th>\n",
       "      <td>T005-008688-IW3</td>\n",
       "      <td>66</td>\n",
       "      <td>122</td>\n",
       "      <td>8052</td>\n",
       "    </tr>\n",
       "    <tr>\n",
       "      <th>2</th>\n",
       "      <td>T005-008689-IW1</td>\n",
       "      <td>66</td>\n",
       "      <td>133</td>\n",
       "      <td>8778</td>\n",
       "    </tr>\n",
       "    <tr>\n",
       "      <th>3</th>\n",
       "      <td>T005-008689-IW2</td>\n",
       "      <td>66</td>\n",
       "      <td>143</td>\n",
       "      <td>9438</td>\n",
       "    </tr>\n",
       "    <tr>\n",
       "      <th>4</th>\n",
       "      <td>T005-008689-IW3</td>\n",
       "      <td>66</td>\n",
       "      <td>122</td>\n",
       "      <td>8052</td>\n",
       "    </tr>\n",
       "  </tbody>\n",
       "</table>\n",
       "</div>"
      ],
      "text/plain": [
       "      jpl_burst_id  date_count_per_burst  patch_count_per_burst  \\\n",
       "0  T005-008688-IW2                    66                    144   \n",
       "1  T005-008688-IW3                    66                    122   \n",
       "2  T005-008689-IW1                    66                    133   \n",
       "3  T005-008689-IW2                    66                    143   \n",
       "4  T005-008689-IW3                    66                    122   \n",
       "\n",
       "   total_samples_per_burst  \n",
       "0                     9504  \n",
       "1                     8052  \n",
       "2                     8778  \n",
       "3                     9438  \n",
       "4                     8052  "
      ]
     },
     "execution_count": 24,
     "metadata": {},
     "output_type": "execute_result"
    }
   ],
   "source": [
    "df_count_rtc['total_samples_per_burst'] = df_count_rtc['date_count_per_burst'] * df_count_rtc['patch_count_per_burst']\n",
    "df_count_rtc.head()"
   ]
  },
  {
   "cell_type": "code",
   "execution_count": 26,
   "id": "5cf4df86-b396-415e-a50f-ffb539c5ee9b",
   "metadata": {},
   "outputs": [
    {
     "data": {
      "text/html": [
       "<div>\n",
       "<style scoped>\n",
       "    .dataframe tbody tr th:only-of-type {\n",
       "        vertical-align: middle;\n",
       "    }\n",
       "\n",
       "    .dataframe tbody tr th {\n",
       "        vertical-align: top;\n",
       "    }\n",
       "\n",
       "    .dataframe thead th {\n",
       "        text-align: right;\n",
       "    }\n",
       "</style>\n",
       "<table border=\"1\" class=\"dataframe\">\n",
       "  <thead>\n",
       "    <tr style=\"text-align: right;\">\n",
       "      <th></th>\n",
       "      <th>jpl_burst_id</th>\n",
       "      <th>date_count_per_burst</th>\n",
       "      <th>patch_count_per_burst</th>\n",
       "      <th>total_samples_per_burst</th>\n",
       "      <th>total_samples_cumul</th>\n",
       "    </tr>\n",
       "  </thead>\n",
       "  <tbody>\n",
       "    <tr>\n",
       "      <th>0</th>\n",
       "      <td>T005-008688-IW2</td>\n",
       "      <td>66</td>\n",
       "      <td>144</td>\n",
       "      <td>9504</td>\n",
       "      <td>9504</td>\n",
       "    </tr>\n",
       "    <tr>\n",
       "      <th>1</th>\n",
       "      <td>T005-008688-IW3</td>\n",
       "      <td>66</td>\n",
       "      <td>122</td>\n",
       "      <td>8052</td>\n",
       "      <td>17556</td>\n",
       "    </tr>\n",
       "    <tr>\n",
       "      <th>2</th>\n",
       "      <td>T005-008689-IW1</td>\n",
       "      <td>66</td>\n",
       "      <td>133</td>\n",
       "      <td>8778</td>\n",
       "      <td>26334</td>\n",
       "    </tr>\n",
       "    <tr>\n",
       "      <th>3</th>\n",
       "      <td>T005-008689-IW2</td>\n",
       "      <td>66</td>\n",
       "      <td>143</td>\n",
       "      <td>9438</td>\n",
       "      <td>35772</td>\n",
       "    </tr>\n",
       "    <tr>\n",
       "      <th>4</th>\n",
       "      <td>T005-008689-IW3</td>\n",
       "      <td>66</td>\n",
       "      <td>122</td>\n",
       "      <td>8052</td>\n",
       "      <td>43824</td>\n",
       "    </tr>\n",
       "  </tbody>\n",
       "</table>\n",
       "</div>"
      ],
      "text/plain": [
       "      jpl_burst_id  date_count_per_burst  patch_count_per_burst  \\\n",
       "0  T005-008688-IW2                    66                    144   \n",
       "1  T005-008688-IW3                    66                    122   \n",
       "2  T005-008689-IW1                    66                    133   \n",
       "3  T005-008689-IW2                    66                    143   \n",
       "4  T005-008689-IW3                    66                    122   \n",
       "\n",
       "   total_samples_per_burst  total_samples_cumul  \n",
       "0                     9504                 9504  \n",
       "1                     8052                17556  \n",
       "2                     8778                26334  \n",
       "3                     9438                35772  \n",
       "4                     8052                43824  "
      ]
     },
     "execution_count": 26,
     "metadata": {},
     "output_type": "execute_result"
    }
   ],
   "source": [
    "df_count_rtc['total_samples_cumul'] = df_count_rtc.total_samples_per_burst.cumsum()\n",
    "df_count_rtc.head()"
   ]
  },
  {
   "cell_type": "code",
   "execution_count": 29,
   "id": "e3b06490-2c2b-4d6a-b9d6-606ee0fde8c8",
   "metadata": {},
   "outputs": [
    {
     "data": {
      "text/plain": [
       "(27234711, 27234711)"
      ]
     },
     "execution_count": 29,
     "metadata": {},
     "output_type": "execute_result"
    }
   ],
   "source": [
    "df_count_rtc.total_samples_cumul.iloc[-1], df_count_rtc.total_samples_per_burst.sum() "
   ]
  },
  {
   "cell_type": "code",
   "execution_count": 19,
   "id": "4142d338-d05e-4694-b016-a229753f368c",
   "metadata": {},
   "outputs": [],
   "source": [
    "df_count_rtc.to_parquet('rtc_spatiotemporal_samples.parquet')"
   ]
  },
  {
   "cell_type": "code",
   "execution_count": null,
   "id": "6daafa94-1c10-4d97-a9c7-e48522b17348",
   "metadata": {},
   "outputs": [],
   "source": []
  }
 ],
 "metadata": {
  "kernelspec": {
   "display_name": "dist-s1",
   "language": "python",
   "name": "dist-s1"
  },
  "language_info": {
   "codemirror_mode": {
    "name": "ipython",
    "version": 3
   },
   "file_extension": ".py",
   "mimetype": "text/x-python",
   "name": "python",
   "nbconvert_exporter": "python",
   "pygments_lexer": "ipython3",
   "version": "3.12.4"
  }
 },
 "nbformat": 4,
 "nbformat_minor": 5
}
