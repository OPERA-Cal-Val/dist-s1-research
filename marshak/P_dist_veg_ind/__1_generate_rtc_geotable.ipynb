{
 "cells": [
  {
   "cell_type": "markdown",
   "id": "5904b432-20ef-4b69-910a-724945fdcbce",
   "metadata": {},
   "source": [
    "Generates a table for bursts over dist-hls val sites and adjacent."
   ]
  },
  {
   "cell_type": "code",
   "execution_count": 18,
   "id": "bb199a5d-b586-47da-b4b2-9ead43dd467f",
   "metadata": {},
   "outputs": [],
   "source": [
    "import geopandas as gpd\n",
    "import pandas as pd\n",
    "from dem_stitcher.geojson_io import read_geojson_gzip\n",
    "from dem_stitcher.rio_tools import reproject_arr_to_match_profile"
   ]
  },
  {
   "cell_type": "code",
   "execution_count": 19,
   "id": "170fc757-0572-409f-b06a-da4370c660fc",
   "metadata": {},
   "outputs": [
    {
     "data": {
      "text/html": [
       "<div>\n",
       "<style scoped>\n",
       "    .dataframe tbody tr th:only-of-type {\n",
       "        vertical-align: middle;\n",
       "    }\n",
       "\n",
       "    .dataframe tbody tr th {\n",
       "        vertical-align: top;\n",
       "    }\n",
       "\n",
       "    .dataframe thead th {\n",
       "        text-align: right;\n",
       "    }\n",
       "</style>\n",
       "<table border=\"1\" class=\"dataframe\">\n",
       "  <thead>\n",
       "    <tr style=\"text-align: right;\">\n",
       "      <th></th>\n",
       "      <th>rtc_s1_id</th>\n",
       "      <th>input_slc_id</th>\n",
       "      <th>jpl_burst_id</th>\n",
       "      <th>bursts_per_slc_input</th>\n",
       "      <th>rtc_s1_vv_url</th>\n",
       "      <th>rtc_s1_vh_url</th>\n",
       "      <th>rtc_s1_h5_url</th>\n",
       "      <th>acq_datetime</th>\n",
       "    </tr>\n",
       "  </thead>\n",
       "  <tbody>\n",
       "    <tr>\n",
       "      <th>0</th>\n",
       "      <td>OPERA_L2_RTC-S1_T005-008688-IW2_20201010T00400...</td>\n",
       "      <td>S1A_IW_SLC__1SDV_20201010T004001_20201010T0040...</td>\n",
       "      <td>T005-008688-IW2</td>\n",
       "      <td>27</td>\n",
       "      <td>https://opera-pst-rs-pop1.s3.us-west-2.amazona...</td>\n",
       "      <td>https://opera-pst-rs-pop1.s3.us-west-2.amazona...</td>\n",
       "      <td>https://opera-pst-rs-pop1.s3.us-west-2.amazona...</td>\n",
       "      <td>2020-10-10 00:40:01</td>\n",
       "    </tr>\n",
       "    <tr>\n",
       "      <th>1</th>\n",
       "      <td>OPERA_L2_RTC-S1_T005-008688-IW2_20201022T00400...</td>\n",
       "      <td>S1A_IW_SLC__1SDV_20201022T004000_20201022T0040...</td>\n",
       "      <td>T005-008688-IW2</td>\n",
       "      <td>27</td>\n",
       "      <td>https://opera-pst-rs-pop1.s3.us-west-2.amazona...</td>\n",
       "      <td>https://opera-pst-rs-pop1.s3.us-west-2.amazona...</td>\n",
       "      <td>https://opera-pst-rs-pop1.s3.us-west-2.amazona...</td>\n",
       "      <td>2020-10-22 00:40:00</td>\n",
       "    </tr>\n",
       "    <tr>\n",
       "      <th>2</th>\n",
       "      <td>OPERA_L2_RTC-S1_T005-008688-IW2_20201103T00400...</td>\n",
       "      <td>S1A_IW_SLC__1SDV_20201103T004000_20201103T0040...</td>\n",
       "      <td>T005-008688-IW2</td>\n",
       "      <td>27</td>\n",
       "      <td>https://opera-pst-rs-pop1.s3.us-west-2.amazona...</td>\n",
       "      <td>https://opera-pst-rs-pop1.s3.us-west-2.amazona...</td>\n",
       "      <td>https://opera-pst-rs-pop1.s3.us-west-2.amazona...</td>\n",
       "      <td>2020-11-03 00:40:00</td>\n",
       "    </tr>\n",
       "    <tr>\n",
       "      <th>3</th>\n",
       "      <td>OPERA_L2_RTC-S1_T005-008688-IW2_20201115T00400...</td>\n",
       "      <td>S1A_IW_SLC__1SDV_20201115T004000_20201115T0040...</td>\n",
       "      <td>T005-008688-IW2</td>\n",
       "      <td>27</td>\n",
       "      <td>https://opera-pst-rs-pop1.s3.us-west-2.amazona...</td>\n",
       "      <td>https://opera-pst-rs-pop1.s3.us-west-2.amazona...</td>\n",
       "      <td>https://opera-pst-rs-pop1.s3.us-west-2.amazona...</td>\n",
       "      <td>2020-11-15 00:40:00</td>\n",
       "    </tr>\n",
       "    <tr>\n",
       "      <th>4</th>\n",
       "      <td>OPERA_L2_RTC-S1_T005-008688-IW2_20201127T00400...</td>\n",
       "      <td>S1A_IW_SLC__1SDV_20201127T004000_20201127T0040...</td>\n",
       "      <td>T005-008688-IW2</td>\n",
       "      <td>27</td>\n",
       "      <td>https://opera-pst-rs-pop1.s3.us-west-2.amazona...</td>\n",
       "      <td>https://opera-pst-rs-pop1.s3.us-west-2.amazona...</td>\n",
       "      <td>https://opera-pst-rs-pop1.s3.us-west-2.amazona...</td>\n",
       "      <td>2020-11-27 00:40:00</td>\n",
       "    </tr>\n",
       "  </tbody>\n",
       "</table>\n",
       "</div>"
      ],
      "text/plain": [
       "                                           rtc_s1_id  \\\n",
       "0  OPERA_L2_RTC-S1_T005-008688-IW2_20201010T00400...   \n",
       "1  OPERA_L2_RTC-S1_T005-008688-IW2_20201022T00400...   \n",
       "2  OPERA_L2_RTC-S1_T005-008688-IW2_20201103T00400...   \n",
       "3  OPERA_L2_RTC-S1_T005-008688-IW2_20201115T00400...   \n",
       "4  OPERA_L2_RTC-S1_T005-008688-IW2_20201127T00400...   \n",
       "\n",
       "                                        input_slc_id     jpl_burst_id  \\\n",
       "0  S1A_IW_SLC__1SDV_20201010T004001_20201010T0040...  T005-008688-IW2   \n",
       "1  S1A_IW_SLC__1SDV_20201022T004000_20201022T0040...  T005-008688-IW2   \n",
       "2  S1A_IW_SLC__1SDV_20201103T004000_20201103T0040...  T005-008688-IW2   \n",
       "3  S1A_IW_SLC__1SDV_20201115T004000_20201115T0040...  T005-008688-IW2   \n",
       "4  S1A_IW_SLC__1SDV_20201127T004000_20201127T0040...  T005-008688-IW2   \n",
       "\n",
       "   bursts_per_slc_input                                      rtc_s1_vv_url  \\\n",
       "0                    27  https://opera-pst-rs-pop1.s3.us-west-2.amazona...   \n",
       "1                    27  https://opera-pst-rs-pop1.s3.us-west-2.amazona...   \n",
       "2                    27  https://opera-pst-rs-pop1.s3.us-west-2.amazona...   \n",
       "3                    27  https://opera-pst-rs-pop1.s3.us-west-2.amazona...   \n",
       "4                    27  https://opera-pst-rs-pop1.s3.us-west-2.amazona...   \n",
       "\n",
       "                                       rtc_s1_vh_url  \\\n",
       "0  https://opera-pst-rs-pop1.s3.us-west-2.amazona...   \n",
       "1  https://opera-pst-rs-pop1.s3.us-west-2.amazona...   \n",
       "2  https://opera-pst-rs-pop1.s3.us-west-2.amazona...   \n",
       "3  https://opera-pst-rs-pop1.s3.us-west-2.amazona...   \n",
       "4  https://opera-pst-rs-pop1.s3.us-west-2.amazona...   \n",
       "\n",
       "                                       rtc_s1_h5_url         acq_datetime  \n",
       "0  https://opera-pst-rs-pop1.s3.us-west-2.amazona...  2020-10-10 00:40:01  \n",
       "1  https://opera-pst-rs-pop1.s3.us-west-2.amazona...  2020-10-22 00:40:00  \n",
       "2  https://opera-pst-rs-pop1.s3.us-west-2.amazona...  2020-11-03 00:40:00  \n",
       "3  https://opera-pst-rs-pop1.s3.us-west-2.amazona...  2020-11-15 00:40:00  \n",
       "4  https://opera-pst-rs-pop1.s3.us-west-2.amazona...  2020-11-27 00:40:00  "
      ]
     },
     "execution_count": 19,
     "metadata": {},
     "output_type": "execute_result"
    }
   ],
   "source": [
    "df_rtc = pd.read_parquet('../M_dataloader_v3/rtc_s1_tables/rtc_s1_table.parquet')\n",
    "df_rtc.head()"
   ]
  },
  {
   "cell_type": "code",
   "execution_count": 20,
   "id": "6b6b9c74-6ac0-495a-97cf-c47cce28b88b",
   "metadata": {},
   "outputs": [
    {
     "data": {
      "text/html": [
       "<div>\n",
       "<style scoped>\n",
       "    .dataframe tbody tr th:only-of-type {\n",
       "        vertical-align: middle;\n",
       "    }\n",
       "\n",
       "    .dataframe tbody tr th {\n",
       "        vertical-align: top;\n",
       "    }\n",
       "\n",
       "    .dataframe thead th {\n",
       "        text-align: right;\n",
       "    }\n",
       "</style>\n",
       "<table border=\"1\" class=\"dataframe\">\n",
       "  <thead>\n",
       "    <tr style=\"text-align: right;\">\n",
       "      <th></th>\n",
       "      <th>jpl_burst_id</th>\n",
       "      <th>geometry</th>\n",
       "    </tr>\n",
       "  </thead>\n",
       "  <tbody>\n",
       "    <tr>\n",
       "      <th>0</th>\n",
       "      <td>T001-000025-IW1</td>\n",
       "      <td>POLYGON ((2.53190 4.75701, 3.29631 4.91201, 3....</td>\n",
       "    </tr>\n",
       "    <tr>\n",
       "      <th>1</th>\n",
       "      <td>T001-000025-IW2</td>\n",
       "      <td>POLYGON ((3.25912 4.97460, 4.06055 5.13657, 4....</td>\n",
       "    </tr>\n",
       "    <tr>\n",
       "      <th>2</th>\n",
       "      <td>T001-000025-IW3</td>\n",
       "      <td>POLYGON ((4.02659 5.18854, 4.73485 5.32978, 4....</td>\n",
       "    </tr>\n",
       "    <tr>\n",
       "      <th>3</th>\n",
       "      <td>T001-000026-IW1</td>\n",
       "      <td>POLYGON ((2.49611 4.92361, 3.26087 5.07851, 3....</td>\n",
       "    </tr>\n",
       "    <tr>\n",
       "      <th>4</th>\n",
       "      <td>T001-000026-IW2</td>\n",
       "      <td>POLYGON ((3.22392 5.14115, 4.02565 5.30297, 3....</td>\n",
       "    </tr>\n",
       "  </tbody>\n",
       "</table>\n",
       "</div>"
      ],
      "text/plain": [
       "      jpl_burst_id                                           geometry\n",
       "0  T001-000025-IW1  POLYGON ((2.53190 4.75701, 3.29631 4.91201, 3....\n",
       "1  T001-000025-IW2  POLYGON ((3.25912 4.97460, 4.06055 5.13657, 4....\n",
       "2  T001-000025-IW3  POLYGON ((4.02659 5.18854, 4.73485 5.32978, 4....\n",
       "3  T001-000026-IW1  POLYGON ((2.49611 4.92361, 3.26087 5.07851, 3....\n",
       "4  T001-000026-IW2  POLYGON ((3.22392 5.14115, 4.02565 5.30297, 3...."
      ]
     },
     "execution_count": 20,
     "metadata": {},
     "output_type": "execute_result"
    }
   ],
   "source": [
    "df_burst_all = read_geojson_gzip('../A_download_burst_data/opera_burst_ids.geojson.zip')\n",
    "df_burst_all['jpl_burst_id'] = df_burst_all.burst_id_jpl.str.upper().str.replace('_', '-')\n",
    "df_burst_all = df_burst_all[['jpl_burst_id', 'geometry']].copy()\n",
    "df_burst_all.head()"
   ]
  },
  {
   "cell_type": "code",
   "execution_count": 23,
   "id": "82e3077b-ce52-46c2-b1ea-dcdf29754f80",
   "metadata": {},
   "outputs": [
    {
     "data": {
      "text/html": [
       "<div>\n",
       "<style scoped>\n",
       "    .dataframe tbody tr th:only-of-type {\n",
       "        vertical-align: middle;\n",
       "    }\n",
       "\n",
       "    .dataframe tbody tr th {\n",
       "        vertical-align: top;\n",
       "    }\n",
       "\n",
       "    .dataframe thead th {\n",
       "        text-align: right;\n",
       "    }\n",
       "</style>\n",
       "<table border=\"1\" class=\"dataframe\">\n",
       "  <thead>\n",
       "    <tr style=\"text-align: right;\">\n",
       "      <th></th>\n",
       "      <th>jpl_burst_id</th>\n",
       "      <th>geometry</th>\n",
       "      <th>rtc_s1_id</th>\n",
       "      <th>input_slc_id</th>\n",
       "      <th>bursts_per_slc_input</th>\n",
       "      <th>rtc_s1_vv_url</th>\n",
       "      <th>rtc_s1_vh_url</th>\n",
       "      <th>rtc_s1_h5_url</th>\n",
       "      <th>acq_datetime</th>\n",
       "    </tr>\n",
       "  </thead>\n",
       "  <tbody>\n",
       "    <tr>\n",
       "      <th>0</th>\n",
       "      <td>T005-008688-IW2</td>\n",
       "      <td>POLYGON ((-97.90103 16.86358, -97.06559 17.014...</td>\n",
       "      <td>OPERA_L2_RTC-S1_T005-008688-IW2_20201010T00400...</td>\n",
       "      <td>S1A_IW_SLC__1SDV_20201010T004001_20201010T0040...</td>\n",
       "      <td>27</td>\n",
       "      <td>https://opera-pst-rs-pop1.s3.us-west-2.amazona...</td>\n",
       "      <td>https://opera-pst-rs-pop1.s3.us-west-2.amazona...</td>\n",
       "      <td>https://opera-pst-rs-pop1.s3.us-west-2.amazona...</td>\n",
       "      <td>2020-10-10 00:40:01</td>\n",
       "    </tr>\n",
       "    <tr>\n",
       "      <th>1</th>\n",
       "      <td>T005-008688-IW2</td>\n",
       "      <td>POLYGON ((-97.90103 16.86358, -97.06559 17.014...</td>\n",
       "      <td>OPERA_L2_RTC-S1_T005-008688-IW2_20201022T00400...</td>\n",
       "      <td>S1A_IW_SLC__1SDV_20201022T004000_20201022T0040...</td>\n",
       "      <td>27</td>\n",
       "      <td>https://opera-pst-rs-pop1.s3.us-west-2.amazona...</td>\n",
       "      <td>https://opera-pst-rs-pop1.s3.us-west-2.amazona...</td>\n",
       "      <td>https://opera-pst-rs-pop1.s3.us-west-2.amazona...</td>\n",
       "      <td>2020-10-22 00:40:00</td>\n",
       "    </tr>\n",
       "    <tr>\n",
       "      <th>2</th>\n",
       "      <td>T005-008688-IW2</td>\n",
       "      <td>POLYGON ((-97.90103 16.86358, -97.06559 17.014...</td>\n",
       "      <td>OPERA_L2_RTC-S1_T005-008688-IW2_20201103T00400...</td>\n",
       "      <td>S1A_IW_SLC__1SDV_20201103T004000_20201103T0040...</td>\n",
       "      <td>27</td>\n",
       "      <td>https://opera-pst-rs-pop1.s3.us-west-2.amazona...</td>\n",
       "      <td>https://opera-pst-rs-pop1.s3.us-west-2.amazona...</td>\n",
       "      <td>https://opera-pst-rs-pop1.s3.us-west-2.amazona...</td>\n",
       "      <td>2020-11-03 00:40:00</td>\n",
       "    </tr>\n",
       "    <tr>\n",
       "      <th>3</th>\n",
       "      <td>T005-008688-IW2</td>\n",
       "      <td>POLYGON ((-97.90103 16.86358, -97.06559 17.014...</td>\n",
       "      <td>OPERA_L2_RTC-S1_T005-008688-IW2_20201115T00400...</td>\n",
       "      <td>S1A_IW_SLC__1SDV_20201115T004000_20201115T0040...</td>\n",
       "      <td>27</td>\n",
       "      <td>https://opera-pst-rs-pop1.s3.us-west-2.amazona...</td>\n",
       "      <td>https://opera-pst-rs-pop1.s3.us-west-2.amazona...</td>\n",
       "      <td>https://opera-pst-rs-pop1.s3.us-west-2.amazona...</td>\n",
       "      <td>2020-11-15 00:40:00</td>\n",
       "    </tr>\n",
       "    <tr>\n",
       "      <th>4</th>\n",
       "      <td>T005-008688-IW2</td>\n",
       "      <td>POLYGON ((-97.90103 16.86358, -97.06559 17.014...</td>\n",
       "      <td>OPERA_L2_RTC-S1_T005-008688-IW2_20201127T00400...</td>\n",
       "      <td>S1A_IW_SLC__1SDV_20201127T004000_20201127T0040...</td>\n",
       "      <td>27</td>\n",
       "      <td>https://opera-pst-rs-pop1.s3.us-west-2.amazona...</td>\n",
       "      <td>https://opera-pst-rs-pop1.s3.us-west-2.amazona...</td>\n",
       "      <td>https://opera-pst-rs-pop1.s3.us-west-2.amazona...</td>\n",
       "      <td>2020-11-27 00:40:00</td>\n",
       "    </tr>\n",
       "  </tbody>\n",
       "</table>\n",
       "</div>"
      ],
      "text/plain": [
       "      jpl_burst_id                                           geometry  \\\n",
       "0  T005-008688-IW2  POLYGON ((-97.90103 16.86358, -97.06559 17.014...   \n",
       "1  T005-008688-IW2  POLYGON ((-97.90103 16.86358, -97.06559 17.014...   \n",
       "2  T005-008688-IW2  POLYGON ((-97.90103 16.86358, -97.06559 17.014...   \n",
       "3  T005-008688-IW2  POLYGON ((-97.90103 16.86358, -97.06559 17.014...   \n",
       "4  T005-008688-IW2  POLYGON ((-97.90103 16.86358, -97.06559 17.014...   \n",
       "\n",
       "                                           rtc_s1_id  \\\n",
       "0  OPERA_L2_RTC-S1_T005-008688-IW2_20201010T00400...   \n",
       "1  OPERA_L2_RTC-S1_T005-008688-IW2_20201022T00400...   \n",
       "2  OPERA_L2_RTC-S1_T005-008688-IW2_20201103T00400...   \n",
       "3  OPERA_L2_RTC-S1_T005-008688-IW2_20201115T00400...   \n",
       "4  OPERA_L2_RTC-S1_T005-008688-IW2_20201127T00400...   \n",
       "\n",
       "                                        input_slc_id  bursts_per_slc_input  \\\n",
       "0  S1A_IW_SLC__1SDV_20201010T004001_20201010T0040...                    27   \n",
       "1  S1A_IW_SLC__1SDV_20201022T004000_20201022T0040...                    27   \n",
       "2  S1A_IW_SLC__1SDV_20201103T004000_20201103T0040...                    27   \n",
       "3  S1A_IW_SLC__1SDV_20201115T004000_20201115T0040...                    27   \n",
       "4  S1A_IW_SLC__1SDV_20201127T004000_20201127T0040...                    27   \n",
       "\n",
       "                                       rtc_s1_vv_url  \\\n",
       "0  https://opera-pst-rs-pop1.s3.us-west-2.amazona...   \n",
       "1  https://opera-pst-rs-pop1.s3.us-west-2.amazona...   \n",
       "2  https://opera-pst-rs-pop1.s3.us-west-2.amazona...   \n",
       "3  https://opera-pst-rs-pop1.s3.us-west-2.amazona...   \n",
       "4  https://opera-pst-rs-pop1.s3.us-west-2.amazona...   \n",
       "\n",
       "                                       rtc_s1_vh_url  \\\n",
       "0  https://opera-pst-rs-pop1.s3.us-west-2.amazona...   \n",
       "1  https://opera-pst-rs-pop1.s3.us-west-2.amazona...   \n",
       "2  https://opera-pst-rs-pop1.s3.us-west-2.amazona...   \n",
       "3  https://opera-pst-rs-pop1.s3.us-west-2.amazona...   \n",
       "4  https://opera-pst-rs-pop1.s3.us-west-2.amazona...   \n",
       "\n",
       "                                       rtc_s1_h5_url         acq_datetime  \n",
       "0  https://opera-pst-rs-pop1.s3.us-west-2.amazona...  2020-10-10 00:40:01  \n",
       "1  https://opera-pst-rs-pop1.s3.us-west-2.amazona...  2020-10-22 00:40:00  \n",
       "2  https://opera-pst-rs-pop1.s3.us-west-2.amazona...  2020-11-03 00:40:00  \n",
       "3  https://opera-pst-rs-pop1.s3.us-west-2.amazona...  2020-11-15 00:40:00  \n",
       "4  https://opera-pst-rs-pop1.s3.us-west-2.amazona...  2020-11-27 00:40:00  "
      ]
     },
     "execution_count": 23,
     "metadata": {},
     "output_type": "execute_result"
    }
   ],
   "source": [
    "gdf_rtc = pd.merge(df_burst_all, df_rtc, on='jpl_burst_id', how='inner')\n",
    "gdf_rtc.head()"
   ]
  },
  {
   "cell_type": "code",
   "execution_count": 25,
   "id": "a5e66061-86e3-4899-a121-8c2d74f23958",
   "metadata": {},
   "outputs": [],
   "source": [
    "df_bursts_of_interest = gdf_rtc.drop_duplicates(subset='jpl_burst_id', keep='first').reset_index(drop=True)\n",
    "df_bursts_of_interest = df_bursts_of_interest[['jpl_burst_id', 'geometry']].copy()"
   ]
  },
  {
   "cell_type": "code",
   "execution_count": 26,
   "id": "61049d80-eff2-4527-84f9-8815b658c4b4",
   "metadata": {},
   "outputs": [
    {
     "data": {
      "text/plain": [
       "<Axes: >"
      ]
     },
     "execution_count": 26,
     "metadata": {},
     "output_type": "execute_result"
    },
    {
     "data": {
      "image/png": "[encoded data removed]",
      "text/plain": [
       "<Figure size 640x480 with 1 Axes>"
      ]
     },
     "metadata": {},
     "output_type": "display_data"
    }
   ],
   "source": [
    "df_bursts_of_interest.plot()"
   ]
  },
  {
   "cell_type": "code",
   "execution_count": 38,
   "id": "97c089a4-1216-4d78-9a96-e7c93813c270",
   "metadata": {},
   "outputs": [
    {
     "data": {
      "text/plain": [
       "((3429, 2), (266955, 9))"
      ]
     },
     "execution_count": 38,
     "metadata": {},
     "output_type": "execute_result"
    }
   ],
   "source": [
    "df_bursts_of_interest.to_parquet('val_bursts.parquet')\n",
    "df_bursts_of_interest.shape, gdf_rtc.shape"
   ]
  },
  {
   "cell_type": "markdown",
   "id": "887775e8-afeb-4008-96de-81d7c35fcdad",
   "metadata": {},
   "source": [
    "# Generate RTC Urls"
   ]
  },
  {
   "cell_type": "code",
   "execution_count": 36,
   "id": "fcc1dbe7-b183-420f-bfbe-1a0e807711d5",
   "metadata": {},
   "outputs": [
    {
     "data": {
      "text/plain": [
       "['T005-008688-IW2',\n",
       " 'T005-008688-IW3',\n",
       " 'T005-008689-IW1',\n",
       " 'T005-008689-IW2',\n",
       " 'T005-008689-IW3',\n",
       " 'T005-008690-IW1',\n",
       " 'T005-008690-IW2',\n",
       " 'T005-008690-IW3',\n",
       " 'T005-008691-IW1',\n",
       " 'T005-008691-IW2',\n",
       " 'T005-008691-IW3',\n",
       " 'T005-008692-IW1',\n",
       " 'T005-008692-IW2',\n",
       " 'T005-008692-IW3',\n",
       " 'T005-008693-IW1',\n",
       " 'T005-008693-IW2',\n",
       " 'T005-008693-IW3',\n",
       " 'T005-008694-IW1',\n",
       " 'T005-008694-IW2',\n",
       " 'T005-008694-IW3',\n",
       " 'T005-008695-IW1',\n",
       " 'T005-008695-IW2',\n",
       " 'T005-008695-IW3',\n",
       " 'T005-008696-IW1',\n",
       " 'T005-008696-IW2',\n",
       " 'T005-008696-IW3',\n",
       " 'T005-008697-IW1',\n",
       " 'T005-008697-IW2',\n",
       " 'T005-008697-IW3',\n",
       " 'T005-008698-IW1']"
      ]
     },
     "execution_count": 36,
     "metadata": {},
     "output_type": "execute_result"
    }
   ],
   "source": [
    "burst_ids = df_bursts_of_interest.jpl_burst_id.tolist()\n",
    "burst_ids[:30]"
   ]
  },
  {
   "cell_type": "code",
   "execution_count": 35,
   "id": "6d1a7473-5131-46fb-8471-532934c45f89",
   "metadata": {},
   "outputs": [
    {
     "data": {
      "text/plain": [
       "ASFSearchResults([])"
      ]
     },
     "execution_count": 35,
     "metadata": {},
     "output_type": "execute_result"
    }
   ],
   "source": [
    "response = asf.search(operaBurstID=burst_ids[-10:], processingLevel='RTC')\n",
    "response"
   ]
  },
  {
   "cell_type": "code",
   "execution_count": null,
   "id": "5d282006-53cd-468d-af7f-2db5788622ef",
   "metadata": {},
   "outputs": [],
   "source": []
  }
 ],
 "metadata": {
  "kernelspec": {
   "display_name": "dist-s1",
   "language": "python",
   "name": "dist-s1"
  },
  "language_info": {
   "codemirror_mode": {
    "name": "ipython",
    "version": 3
   },
   "file_extension": ".py",
   "mimetype": "text/x-python",
   "name": "python",
   "nbconvert_exporter": "python",
   "pygments_lexer": "ipython3",
   "version": "3.12.4"
  }
 },
 "nbformat": 4,
 "nbformat_minor": 5
}
