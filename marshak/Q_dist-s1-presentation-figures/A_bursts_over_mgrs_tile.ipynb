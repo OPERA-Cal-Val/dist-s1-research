{
 "cells": [
  {
   "cell_type": "code",
   "execution_count": 2,
   "id": "454c6e7a-adc1-4888-9c56-37d9a24dc09f",
   "metadata": {},
   "outputs": [],
   "source": [
    "import geopandas as gpd\n",
    "from dem_stitcher.geojson_io import read_geojson_gzip\n",
    "import matplotlib.pyplot as plt"
   ]
  },
  {
   "cell_type": "code",
   "execution_count": 3,
   "id": "8c7771f7-fc12-417e-9cf9-7c7c473bc04b",
   "metadata": {},
   "outputs": [],
   "source": [
    "df_mgrs = gpd.read_parquet('mgrs.parquet')"
   ]
  },
  {
   "cell_type": "code",
   "execution_count": null,
   "id": "05cc5967-0450-487f-9c55-968a219aa8db",
   "metadata": {},
   "outputs": [],
   "source": [
    "df_burst = read_geojson_gzip('../A_download_burst_data/opera_burst_ids.geojson.zip')"
   ]
  },
  {
   "cell_type": "code",
   "execution_count": null,
   "id": "9d3057bb-d521-402a-9da2-d8790501e329",
   "metadata": {},
   "outputs": [],
   "source": [
    "df_tile = df_mgrs[df_mgrs.tile_id == '19HBD'].reset_index(drop=True)"
   ]
  },
  {
   "cell_type": "code",
   "execution_count": null,
   "id": "edce4c0a-1645-4609-861b-46a2e5d0651d",
   "metadata": {},
   "outputs": [],
   "source": [
    "df_burst_overlapping = df_burst[df_burst.geometry.intersects(df_tile.geometry[0])].reset_index(drop=True)"
   ]
  },
  {
   "cell_type": "code",
   "execution_count": null,
   "id": "0c9d8885-a783-40cc-b674-2af6d1b6b238",
   "metadata": {},
   "outputs": [],
   "source": [
    "df_burst_overlapping['track_id'] = df_burst_overlapping.burst_id_jpl.map(lambda jpl_id: int(jpl_id.split('_')[0][1:]))"
   ]
  },
  {
   "cell_type": "code",
   "execution_count": null,
   "id": "0d6e97f1-6fea-4d33-9d4d-4f1a24c3e644",
   "metadata": {},
   "outputs": [],
   "source": [
    "df_burst_overlapping_t = df_burst_overlapping[df_burst_overlapping.track_id == 156]\n",
    "df_burst_overlapping_t = df_burst_overlapping_t.drop_duplicates(subset='burst_id_jpl').reset_index(drop=True)\n"
   ]
  },
  {
   "cell_type": "code",
   "execution_count": null,
   "id": "5e6c87a6-5b13-4bff-a783-e8ef1cdf6da2",
   "metadata": {},
   "outputs": [],
   "source": [
    "fig, ax = plt.subplots()\n",
    "df_tile.boundary.plot(ax=ax)\n",
    "df_burst_overlapping_t.plot(ax=ax, alpha=.15)\n",
    "ax.set_xlabel('Longitude')\n",
    "ax.set_ylabel('Latitude')"
   ]
  },
  {
   "cell_type": "code",
   "execution_count": null,
   "id": "dd60abe7-21a9-4229-860c-ca162ca56b1e",
   "metadata": {},
   "outputs": [],
   "source": [
    "df_burst_overlapping_t"
   ]
  }
 ],
 "metadata": {
  "kernelspec": {
   "display_name": "dist-s1",
   "language": "python",
   "name": "dist-s1"
  },
  "language_info": {
   "codemirror_mode": {
    "name": "ipython",
    "version": 3
   },
   "file_extension": ".py",
   "mimetype": "text/x-python",
   "name": "python",
   "nbconvert_exporter": "python",
   "pygments_lexer": "ipython3",
   "version": "3.12.4"
  }
 },
 "nbformat": 4,
 "nbformat_minor": 5
}
