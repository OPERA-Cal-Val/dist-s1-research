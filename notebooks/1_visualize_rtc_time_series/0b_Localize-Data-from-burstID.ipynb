{
 "cells": [
  {
   "cell_type": "code",
   "execution_count": 1,
   "id": "3839c0ce-005c-495b-99d8-e756f591f429",
   "metadata": {},
   "outputs": [],
   "source": [
    "import geopandas as gpd\n",
    "from shapely.geometry import Point, shape\n",
    "from dem_stitcher.geojson_io import read_geojson_gzip\n",
    "from rasterio.crs import CRS\n",
    "import matplotlib.pyplot as plt\n",
    "from pathlib import Path\n",
    "import concurrent.futures\n",
    "from tqdm import tqdm\n",
    "import requests"
   ]
  },
  {
   "cell_type": "code",
   "execution_count": 89,
   "id": "aa5bcca1-6c0a-4724-b239-cf38cbd85ade",
   "metadata": {},
   "outputs": [],
   "source": [
    "BURST_ID = 'T064-135524-IW1'.upper().replace('-', '_')"
   ]
  },
  {
   "cell_type": "markdown",
   "id": "5fdf5b83-92ac-481f-9d69-710d5989a7ce",
   "metadata": {},
   "source": [
    "# Select Point"
   ]
  },
  {
   "cell_type": "code",
   "execution_count": 90,
   "id": "267255a5-2fdc-445b-895a-7e3ac42f250f",
   "metadata": {},
   "outputs": [
    {
     "data": {
      "text/plain": [
       "'t064_135524_iw1'"
      ]
     },
     "execution_count": 90,
     "metadata": {},
     "output_type": "execute_result"
    }
   ],
   "source": [
    "BUST_ID_TABLE = BURST_ID.lower().replace('-', '_')\n",
    "BUST_ID_TABLE"
   ]
  },
  {
   "cell_type": "code",
   "execution_count": 91,
   "id": "76b455dd-3b4f-4c80-b86d-ead6a361ac00",
   "metadata": {},
   "outputs": [
    {
     "data": {
      "text/html": [
       "<div>\n",
       "<style scoped>\n",
       "    .dataframe tbody tr th:only-of-type {\n",
       "        vertical-align: middle;\n",
       "    }\n",
       "\n",
       "    .dataframe tbody tr th {\n",
       "        vertical-align: top;\n",
       "    }\n",
       "\n",
       "    .dataframe thead th {\n",
       "        text-align: right;\n",
       "    }\n",
       "</style>\n",
       "<table border=\"1\" class=\"dataframe\">\n",
       "  <thead>\n",
       "    <tr style=\"text-align: right;\">\n",
       "      <th></th>\n",
       "      <th>geometry</th>\n",
       "      <th>burst_id_jpl</th>\n",
       "      <th>is_land</th>\n",
       "      <th>is_north_america</th>\n",
       "      <th>orbit_pass</th>\n",
       "    </tr>\n",
       "  </thead>\n",
       "  <tbody>\n",
       "    <tr>\n",
       "      <th>0</th>\n",
       "      <td>POLYGON ((2.53190 4.75701, 3.29631 4.91201, 3....</td>\n",
       "      <td>t001_000025_iw1</td>\n",
       "      <td>1</td>\n",
       "      <td>False</td>\n",
       "      <td>ASCENDING</td>\n",
       "    </tr>\n",
       "    <tr>\n",
       "      <th>1</th>\n",
       "      <td>POLYGON ((3.25912 4.97460, 4.06055 5.13657, 4....</td>\n",
       "      <td>t001_000025_iw2</td>\n",
       "      <td>1</td>\n",
       "      <td>False</td>\n",
       "      <td>ASCENDING</td>\n",
       "    </tr>\n",
       "    <tr>\n",
       "      <th>2</th>\n",
       "      <td>POLYGON ((4.02659 5.18854, 4.73485 5.32978, 4....</td>\n",
       "      <td>t001_000025_iw3</td>\n",
       "      <td>1</td>\n",
       "      <td>False</td>\n",
       "      <td>ASCENDING</td>\n",
       "    </tr>\n",
       "    <tr>\n",
       "      <th>3</th>\n",
       "      <td>POLYGON ((2.49611 4.92361, 3.26087 5.07851, 3....</td>\n",
       "      <td>t001_000026_iw1</td>\n",
       "      <td>1</td>\n",
       "      <td>False</td>\n",
       "      <td>ASCENDING</td>\n",
       "    </tr>\n",
       "    <tr>\n",
       "      <th>4</th>\n",
       "      <td>POLYGON ((3.22392 5.14115, 4.02565 5.30297, 3....</td>\n",
       "      <td>t001_000026_iw2</td>\n",
       "      <td>1</td>\n",
       "      <td>False</td>\n",
       "      <td>ASCENDING</td>\n",
       "    </tr>\n",
       "  </tbody>\n",
       "</table>\n",
       "</div>"
      ],
      "text/plain": [
       "                                            geometry     burst_id_jpl  \\\n",
       "0  POLYGON ((2.53190 4.75701, 3.29631 4.91201, 3....  t001_000025_iw1   \n",
       "1  POLYGON ((3.25912 4.97460, 4.06055 5.13657, 4....  t001_000025_iw2   \n",
       "2  POLYGON ((4.02659 5.18854, 4.73485 5.32978, 4....  t001_000025_iw3   \n",
       "3  POLYGON ((2.49611 4.92361, 3.26087 5.07851, 3....  t001_000026_iw1   \n",
       "4  POLYGON ((3.22392 5.14115, 4.02565 5.30297, 3....  t001_000026_iw2   \n",
       "\n",
       "   is_land  is_north_america orbit_pass  \n",
       "0        1             False  ASCENDING  \n",
       "1        1             False  ASCENDING  \n",
       "2        1             False  ASCENDING  \n",
       "3        1             False  ASCENDING  \n",
       "4        1             False  ASCENDING  "
      ]
     },
     "execution_count": 91,
     "metadata": {},
     "output_type": "execute_result"
    }
   ],
   "source": [
    "df_bursts = read_geojson_gzip('opera_burst_ids.geojson.zip')\n",
    "df_bursts.head()"
   ]
  },
  {
   "cell_type": "code",
   "execution_count": 92,
   "id": "c46f4c89-5a0c-4a56-afff-89ee19c2972c",
   "metadata": {},
   "outputs": [
    {
     "data": {
      "text/html": [
       "<div>\n",
       "<style scoped>\n",
       "    .dataframe tbody tr th:only-of-type {\n",
       "        vertical-align: middle;\n",
       "    }\n",
       "\n",
       "    .dataframe tbody tr th {\n",
       "        vertical-align: top;\n",
       "    }\n",
       "\n",
       "    .dataframe thead th {\n",
       "        text-align: right;\n",
       "    }\n",
       "</style>\n",
       "<table border=\"1\" class=\"dataframe\">\n",
       "  <thead>\n",
       "    <tr style=\"text-align: right;\">\n",
       "      <th></th>\n",
       "      <th>geometry</th>\n",
       "      <th>burst_id_jpl</th>\n",
       "      <th>is_land</th>\n",
       "      <th>is_north_america</th>\n",
       "      <th>orbit_pass</th>\n",
       "    </tr>\n",
       "  </thead>\n",
       "  <tbody>\n",
       "    <tr>\n",
       "      <th>0</th>\n",
       "      <td>POLYGON ((-119.00699 34.67196, -118.07701 34.8...</td>\n",
       "      <td>t064_135524_iw1</td>\n",
       "      <td>1</td>\n",
       "      <td>True</td>\n",
       "      <td>ASCENDING</td>\n",
       "    </tr>\n",
       "  </tbody>\n",
       "</table>\n",
       "</div>"
      ],
      "text/plain": [
       "                                            geometry     burst_id_jpl  \\\n",
       "0  POLYGON ((-119.00699 34.67196, -118.07701 34.8...  t064_135524_iw1   \n",
       "\n",
       "   is_land  is_north_america orbit_pass  \n",
       "0        1              True  ASCENDING  "
      ]
     },
     "execution_count": 92,
     "metadata": {},
     "output_type": "execute_result"
    }
   ],
   "source": [
    "df_burst = df_bursts[df_bursts.burst_id_jpl == BUST_ID_TABLE].reset_index(drop=True)\n",
    "df_burst.head()"
   ]
  },
  {
   "cell_type": "code",
   "execution_count": 93,
   "id": "5eee629b-8f94-42ab-8df8-22e95cf8c31f",
   "metadata": {},
   "outputs": [
    {
     "data": {
      "text/plain": [
       "<Axes: >"
      ]
     },
     "execution_count": 93,
     "metadata": {},
     "output_type": "execute_result"
    },
    {
     "data": {
      "image/png": "[encoded data removed]",
      "text/plain": [
       "<Figure size 640x480 with 1 Axes>"
      ]
     },
     "metadata": {},
     "output_type": "display_data"
    }
   ],
   "source": [
    "fig, ax = plt.subplots()\n",
    "df_burst.plot(column='burst_id_jpl', categorical=True, alpha=.5, legend=True, cmap='tab20c', ax=ax)"
   ]
  },
  {
   "cell_type": "markdown",
   "id": "1afd094e-c59e-4a91-9ca0-346e153c9888",
   "metadata": {},
   "source": [
    "# Create data directory"
   ]
  },
  {
   "cell_type": "code",
   "execution_count": 94,
   "id": "75a480e5-1f74-4046-8c63-25d5b1712462",
   "metadata": {},
   "outputs": [
    {
     "data": {
      "text/plain": [
       "PosixPath('burst_time_series/T064_135524_IW1')"
      ]
     },
     "execution_count": 94,
     "metadata": {},
     "output_type": "execute_result"
    }
   ],
   "source": [
    "ts_dir = Path('burst_time_series')\n",
    "burst_dir = ts_dir / BURST_ID\n",
    "\n",
    "burst_dir.mkdir(exist_ok=True, parents=True)\n",
    "burst_dir"
   ]
  },
  {
   "cell_type": "markdown",
   "id": "0b0fdd29-95c2-4bd9-a48a-bece9c5e4f24",
   "metadata": {},
   "source": [
    "# Download Burst Time Series"
   ]
  },
  {
   "cell_type": "code",
   "execution_count": 95,
   "id": "10f98c96-58e5-425b-91fa-d31a6be044e6",
   "metadata": {},
   "outputs": [],
   "source": [
    "import asf_search as asf\n",
    "\n",
    "# get only the RTC products for a burst id\n",
    "resp = asf.search(operaBurstID=[BURST_ID], processingLevel='RTC')\n",
    "assert resp"
   ]
  },
  {
   "cell_type": "code",
   "execution_count": 96,
   "id": "aacd7470-c768-45b0-8d07-3daddf601522",
   "metadata": {},
   "outputs": [
    {
     "name": "stdout",
     "output_type": "stream",
     "text": [
      "(115, 6)\n"
     ]
    },
    {
     "data": {
      "text/html": [
       "<div>\n",
       "<style scoped>\n",
       "    .dataframe tbody tr th:only-of-type {\n",
       "        vertical-align: middle;\n",
       "    }\n",
       "\n",
       "    .dataframe tbody tr th {\n",
       "        vertical-align: top;\n",
       "    }\n",
       "\n",
       "    .dataframe thead th {\n",
       "        text-align: right;\n",
       "    }\n",
       "</style>\n",
       "<table border=\"1\" class=\"dataframe\">\n",
       "  <thead>\n",
       "    <tr style=\"text-align: right;\">\n",
       "      <th></th>\n",
       "      <th>opera_id</th>\n",
       "      <th>start_time</th>\n",
       "      <th>url_vh</th>\n",
       "      <th>url_vv</th>\n",
       "      <th>track_number</th>\n",
       "      <th>geometry</th>\n",
       "    </tr>\n",
       "  </thead>\n",
       "  <tbody>\n",
       "    <tr>\n",
       "      <th>114</th>\n",
       "      <td>OPERA_L2_RTC-S1_T064-135524-IW1_20200229T01503...</td>\n",
       "      <td>2020-02-29T01:50:38Z</td>\n",
       "      <td>https://datapool.asf.alaska.edu/RTC/OPERA-S1/O...</td>\n",
       "      <td>https://datapool.asf.alaska.edu/RTC/OPERA-S1/O...</td>\n",
       "      <td>64</td>\n",
       "      <td>POLYGON ((-118.98182 34.68055, -118.04924 34.8...</td>\n",
       "    </tr>\n",
       "    <tr>\n",
       "      <th>113</th>\n",
       "      <td>OPERA_L2_RTC-S1_T064-135524-IW1_20200312T01503...</td>\n",
       "      <td>2020-03-12T01:50:38Z</td>\n",
       "      <td>https://datapool.asf.alaska.edu/RTC/OPERA-S1/O...</td>\n",
       "      <td>https://datapool.asf.alaska.edu/RTC/OPERA-S1/O...</td>\n",
       "      <td>64</td>\n",
       "      <td>POLYGON ((-118.98250 34.68103, -118.04995 34.8...</td>\n",
       "    </tr>\n",
       "    <tr>\n",
       "      <th>112</th>\n",
       "      <td>OPERA_L2_RTC-S1_T064-135524-IW1_20200324T01503...</td>\n",
       "      <td>2020-03-24T01:50:38Z</td>\n",
       "      <td>https://datapool.asf.alaska.edu/RTC/OPERA-S1/O...</td>\n",
       "      <td>https://datapool.asf.alaska.edu/RTC/OPERA-S1/O...</td>\n",
       "      <td>64</td>\n",
       "      <td>POLYGON ((-118.98190 34.68043, -118.04933 34.8...</td>\n",
       "    </tr>\n",
       "    <tr>\n",
       "      <th>111</th>\n",
       "      <td>OPERA_L2_RTC-S1_T064-135524-IW1_20200417T01503...</td>\n",
       "      <td>2020-04-17T01:50:39Z</td>\n",
       "      <td>https://datapool.asf.alaska.edu/RTC/OPERA-S1/O...</td>\n",
       "      <td>https://datapool.asf.alaska.edu/RTC/OPERA-S1/O...</td>\n",
       "      <td>64</td>\n",
       "      <td>POLYGON ((-118.98167 34.68114, -118.04926 34.8...</td>\n",
       "    </tr>\n",
       "    <tr>\n",
       "      <th>110</th>\n",
       "      <td>OPERA_L2_RTC-S1_T064-135524-IW1_20200429T01504...</td>\n",
       "      <td>2020-04-29T01:50:40Z</td>\n",
       "      <td>https://datapool.asf.alaska.edu/RTC/OPERA-S1/O...</td>\n",
       "      <td>https://datapool.asf.alaska.edu/RTC/OPERA-S1/O...</td>\n",
       "      <td>64</td>\n",
       "      <td>POLYGON ((-118.98164 34.68052, -118.04921 34.8...</td>\n",
       "    </tr>\n",
       "  </tbody>\n",
       "</table>\n",
       "</div>"
      ],
      "text/plain": [
       "                                              opera_id            start_time  \\\n",
       "114  OPERA_L2_RTC-S1_T064-135524-IW1_20200229T01503...  2020-02-29T01:50:38Z   \n",
       "113  OPERA_L2_RTC-S1_T064-135524-IW1_20200312T01503...  2020-03-12T01:50:38Z   \n",
       "112  OPERA_L2_RTC-S1_T064-135524-IW1_20200324T01503...  2020-03-24T01:50:38Z   \n",
       "111  OPERA_L2_RTC-S1_T064-135524-IW1_20200417T01503...  2020-04-17T01:50:39Z   \n",
       "110  OPERA_L2_RTC-S1_T064-135524-IW1_20200429T01504...  2020-04-29T01:50:40Z   \n",
       "\n",
       "                                                url_vh  \\\n",
       "114  https://datapool.asf.alaska.edu/RTC/OPERA-S1/O...   \n",
       "113  https://datapool.asf.alaska.edu/RTC/OPERA-S1/O...   \n",
       "112  https://datapool.asf.alaska.edu/RTC/OPERA-S1/O...   \n",
       "111  https://datapool.asf.alaska.edu/RTC/OPERA-S1/O...   \n",
       "110  https://datapool.asf.alaska.edu/RTC/OPERA-S1/O...   \n",
       "\n",
       "                                                url_vv  track_number  \\\n",
       "114  https://datapool.asf.alaska.edu/RTC/OPERA-S1/O...            64   \n",
       "113  https://datapool.asf.alaska.edu/RTC/OPERA-S1/O...            64   \n",
       "112  https://datapool.asf.alaska.edu/RTC/OPERA-S1/O...            64   \n",
       "111  https://datapool.asf.alaska.edu/RTC/OPERA-S1/O...            64   \n",
       "110  https://datapool.asf.alaska.edu/RTC/OPERA-S1/O...            64   \n",
       "\n",
       "                                              geometry  \n",
       "114  POLYGON ((-118.98182 34.68055, -118.04924 34.8...  \n",
       "113  POLYGON ((-118.98250 34.68103, -118.04995 34.8...  \n",
       "112  POLYGON ((-118.98190 34.68043, -118.04933 34.8...  \n",
       "111  POLYGON ((-118.98167 34.68114, -118.04926 34.8...  \n",
       "110  POLYGON ((-118.98164 34.68052, -118.04921 34.8...  "
      ]
     },
     "execution_count": 96,
     "metadata": {},
     "output_type": "execute_result"
    }
   ],
   "source": [
    "properties = [r.properties for r in resp]\n",
    "geometry = [shape(r.geojson()['geometry']) for r in resp]\n",
    "properties_f = [{'opera_id': p['sceneName'], \n",
    "                 'start_time': p['startTime'],\n",
    "                 'polarization': p['polarization'],\n",
    "                 'url_vh': p['url'], \n",
    "                 'url_vv': (p['url'].replace('_VH.tif', '_VV.tif')),\n",
    "                 'track_number': p['pathNumber']} for p in properties]\n",
    "\n",
    "df = gpd.GeoDataFrame(properties_f, geometry=geometry, crs=CRS.from_epsg(4326))\n",
    "df = df.sort_values(by='start_time')\n",
    "df.drop(columns=['polarization'], inplace=True)\n",
    "print(df.shape)\n",
    "df.head()"
   ]
  },
  {
   "cell_type": "code",
   "execution_count": 97,
   "id": "432c1e1f-f55f-487b-85dc-e4561b44a093",
   "metadata": {},
   "outputs": [
    {
     "data": {
      "text/plain": [
       "[PosixPath('burst_time_series/T064_135524_IW1/OPERA_L2_RTC-S1_T064-135524-IW1_20200229T015038Z_20230928T223457Z_S1A_30_v1.0'),\n",
       " PosixPath('burst_time_series/T064_135524_IW1/OPERA_L2_RTC-S1_T064-135524-IW1_20200312T015038Z_20230928T223447Z_S1A_30_v1.0')]"
      ]
     },
     "execution_count": 97,
     "metadata": {},
     "output_type": "execute_result"
    }
   ],
   "source": [
    "opera_ids = df.opera_id.tolist()\n",
    "\n",
    "opera_prod_dirs = [burst_dir / oid for oid in opera_ids]\n",
    "opera_prod_dirs[:2]"
   ]
  },
  {
   "cell_type": "code",
   "execution_count": 98,
   "id": "ff2a2d07-eac4-4751-bfc5-36dbc72e28b9",
   "metadata": {},
   "outputs": [],
   "source": [
    "def download_one_file(url: str, dest_dir: Path):\n",
    "    \"\"\"source: https://stackoverflow.com/questions/16694907/download-large-file-in-python-with-requests\"\"\"\n",
    "    dest_dir.mkdir(exist_ok=True, parents=True)\n",
    "    local_filename = url.split('/')[-1]\n",
    "    out_path = dest_dir / local_filename\n",
    "    with requests.get(url, stream=True) as r:\n",
    "        r.raise_for_status()\n",
    "        with open(out_path, 'wb') as f:\n",
    "            for chunk in r.iter_content(chunk_size=8192): \n",
    "                f.write(chunk)\n",
    "    return out_path\n",
    "\n",
    "\n",
    "def download_one_file_star(input_data):\n",
    "    return download_one_file(*input_data)"
   ]
  },
  {
   "cell_type": "code",
   "execution_count": 99,
   "id": "27289bf5-9525-4f7f-a761-cba661646fd8",
   "metadata": {},
   "outputs": [
    {
     "data": {
      "text/plain": [
       "('https://datapool.asf.alaska.edu/RTC/OPERA-S1/OPERA_L2_RTC-S1_T064-135524-IW1_20200229T015038Z_20230928T223457Z_S1A_30_v1.0_VV.tif',\n",
       " PosixPath('burst_time_series/T064_135524_IW1/OPERA_L2_RTC-S1_T064-135524-IW1_20200229T015038Z_20230928T223457Z_S1A_30_v1.0'))"
      ]
     },
     "execution_count": 99,
     "metadata": {},
     "output_type": "execute_result"
    }
   ],
   "source": [
    "zipped_inputs_vv = list(zip(df.url_vv.tolist(), opera_prod_dirs))\n",
    "zipped_inputs_vv[0]"
   ]
  },
  {
   "cell_type": "code",
   "execution_count": 100,
   "id": "271ed9d2-2bbd-425b-8635-8e00e8549adb",
   "metadata": {},
   "outputs": [
    {
     "data": {
      "text/plain": [
       "('https://datapool.asf.alaska.edu/RTC/OPERA-S1/OPERA_L2_RTC-S1_T064-135524-IW1_20200229T015038Z_20230928T223457Z_S1A_30_v1.0_VH.tif',\n",
       " PosixPath('burst_time_series/T064_135524_IW1/OPERA_L2_RTC-S1_T064-135524-IW1_20200229T015038Z_20230928T223457Z_S1A_30_v1.0'))"
      ]
     },
     "execution_count": 100,
     "metadata": {},
     "output_type": "execute_result"
    }
   ],
   "source": [
    "zipped_inputs_vh = list(zip(df.url_vh.tolist(), opera_prod_dirs))\n",
    "zipped_inputs_vh[0]"
   ]
  },
  {
   "cell_type": "code",
   "execution_count": 101,
   "id": "03020d2c-fd85-4e42-86a4-82fdc52d8826",
   "metadata": {},
   "outputs": [
    {
     "name": "stderr",
     "output_type": "stream",
     "text": [
      "100%|██████████████████████████████████████████████████████████████████| 115/115 [01:28<00:00,  1.30it/s]\n"
     ]
    }
   ],
   "source": [
    "with concurrent.futures.ThreadPoolExecutor(max_workers=10) as executor:\n",
    "    out_paths_vh = list(tqdm(executor.map(download_one_file_star, zipped_inputs_vh[:]), total=len(zipped_inputs_vh)))"
   ]
  },
  {
   "cell_type": "code",
   "execution_count": 102,
   "id": "ce64f415-1703-47e9-b62a-d1751caf7886",
   "metadata": {},
   "outputs": [
    {
     "name": "stderr",
     "output_type": "stream",
     "text": [
      "100%|██████████████████████████████████████████████████████████████████| 115/115 [01:26<00:00,  1.33it/s]\n"
     ]
    }
   ],
   "source": [
    "with concurrent.futures.ThreadPoolExecutor(max_workers=10) as executor:\n",
    "    out_paths_vv = list(tqdm(executor.map(download_one_file_star, zipped_inputs_vv[:]), total=len(zipped_inputs_vv)))"
   ]
  },
  {
   "cell_type": "markdown",
   "id": "e6b4305a-974e-4136-beda-c78b5b24a89f",
   "metadata": {},
   "source": [
    "# Serialize data"
   ]
  },
  {
   "cell_type": "code",
   "execution_count": 103,
   "id": "79f973e9-c751-428f-9a7d-26d87721e4df",
   "metadata": {},
   "outputs": [],
   "source": [
    "df['local_path_vv'] = list(map(str, out_paths_vv))\n",
    "df['local_path_vh'] = list(map(str, out_paths_vh))"
   ]
  },
  {
   "cell_type": "code",
   "execution_count": 104,
   "id": "01b6f547-e7a2-4bfb-a1e0-3f2b5b4bfeab",
   "metadata": {},
   "outputs": [
    {
     "data": {
      "text/plain": [
       "opera_id         OPERA_L2_RTC-S1_T064-135524-IW1_20200229T01503...\n",
       "start_time                                    2020-02-29T01:50:38Z\n",
       "url_vh           https://datapool.asf.alaska.edu/RTC/OPERA-S1/O...\n",
       "url_vv           https://datapool.asf.alaska.edu/RTC/OPERA-S1/O...\n",
       "track_number                                                    64\n",
       "geometry         POLYGON ((-118.98182 34.68055, -118.04924 34.8...\n",
       "local_path_vv    burst_time_series/T064_135524_IW1/OPERA_L2_RTC...\n",
       "local_path_vh    burst_time_series/T064_135524_IW1/OPERA_L2_RTC...\n",
       "Name: 114, dtype: object"
      ]
     },
     "execution_count": 104,
     "metadata": {},
     "output_type": "execute_result"
    }
   ],
   "source": [
    "df.iloc[0]"
   ]
  },
  {
   "cell_type": "code",
   "execution_count": 105,
   "id": "9cfc3716-10ea-4f40-a30d-ca71bae4af14",
   "metadata": {},
   "outputs": [],
   "source": [
    "df.to_file(burst_dir / f'metadata_{BURST_ID}_rtc_ts.geojson', driver='GeoJSON')"
   ]
  },
  {
   "cell_type": "code",
   "execution_count": null,
   "id": "0426e56a-f2c2-45a6-bb2b-3970c7fc8d88",
   "metadata": {},
   "outputs": [],
   "source": []
  }
 ],
 "metadata": {
  "kernelspec": {
   "display_name": "dist-s1",
   "language": "python",
   "name": "dist-s1"
  },
  "language_info": {
   "codemirror_mode": {
    "name": "ipython",
    "version": 3
   },
   "file_extension": ".py",
   "mimetype": "text/x-python",
   "name": "python",
   "nbconvert_exporter": "python",
   "pygments_lexer": "ipython3",
   "version": "3.12.2"
  }
 },
 "nbformat": 4,
 "nbformat_minor": 5
}
