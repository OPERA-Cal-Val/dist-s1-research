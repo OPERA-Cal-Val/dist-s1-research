{
 "cells": [
  {
   "cell_type": "code",
   "execution_count": 1,
   "id": "e2e9207f-2df7-401e-8833-76271158c061",
   "metadata": {},
   "outputs": [],
   "source": [
    "from tile_mate.stitcher import get_all_tile_data\n",
    "from rio_tools import get_geopandas_features_from_array\n",
    "import rasterio\n",
    "import geopandas as gpd\n",
    "import pandas as pd\n",
    "from rasterio.crs import CRS\n",
    "from pathlib import Path\n",
    "import numpy as np\n",
    "from tqdm import tqdm\n",
    "from mpire import WorkerPool\n",
    "import pandas as pd"
   ]
  },
  {
   "cell_type": "code",
   "execution_count": 2,
   "id": "6f7c0584-1ddd-427d-920e-2e51ad93b73b",
   "metadata": {},
   "outputs": [
    {
     "data": {
      "text/html": [
       "<div>\n",
       "<style scoped>\n",
       "    .dataframe tbody tr th:only-of-type {\n",
       "        vertical-align: middle;\n",
       "    }\n",
       "\n",
       "    .dataframe tbody tr th {\n",
       "        vertical-align: top;\n",
       "    }\n",
       "\n",
       "    .dataframe thead th {\n",
       "        text-align: right;\n",
       "    }\n",
       "</style>\n",
       "<table border=\"1\" class=\"dataframe\">\n",
       "  <thead>\n",
       "    <tr style=\"text-align: right;\">\n",
       "      <th></th>\n",
       "      <th>geometry</th>\n",
       "      <th>tile_id</th>\n",
       "      <th>url</th>\n",
       "    </tr>\n",
       "  </thead>\n",
       "  <tbody>\n",
       "    <tr>\n",
       "      <th>0</th>\n",
       "      <td>POLYGON ((0.00000 0.00000, 10.00000 0.00000, 1...</td>\n",
       "      <td>00N_000E</td>\n",
       "      <td>https://data-api.globalforestwatch.org/dataset...</td>\n",
       "    </tr>\n",
       "    <tr>\n",
       "      <th>1</th>\n",
       "      <td>POLYGON ((10.00000 0.00000, 20.00000 0.00000, ...</td>\n",
       "      <td>00N_010E</td>\n",
       "      <td>https://data-api.globalforestwatch.org/dataset...</td>\n",
       "    </tr>\n",
       "    <tr>\n",
       "      <th>2</th>\n",
       "      <td>POLYGON ((20.00000 0.00000, 30.00000 0.00000, ...</td>\n",
       "      <td>00N_020E</td>\n",
       "      <td>https://data-api.globalforestwatch.org/dataset...</td>\n",
       "    </tr>\n",
       "    <tr>\n",
       "      <th>3</th>\n",
       "      <td>POLYGON ((30.00000 0.00000, 40.00000 0.00000, ...</td>\n",
       "      <td>00N_030E</td>\n",
       "      <td>https://data-api.globalforestwatch.org/dataset...</td>\n",
       "    </tr>\n",
       "    <tr>\n",
       "      <th>4</th>\n",
       "      <td>POLYGON ((40.00000 0.00000, 50.00000 0.00000, ...</td>\n",
       "      <td>00N_040E</td>\n",
       "      <td>https://data-api.globalforestwatch.org/dataset...</td>\n",
       "    </tr>\n",
       "  </tbody>\n",
       "</table>\n",
       "</div>"
      ],
      "text/plain": [
       "                                            geometry   tile_id  \\\n",
       "0  POLYGON ((0.00000 0.00000, 10.00000 0.00000, 1...  00N_000E   \n",
       "1  POLYGON ((10.00000 0.00000, 20.00000 0.00000, ...  00N_010E   \n",
       "2  POLYGON ((20.00000 0.00000, 30.00000 0.00000, ...  00N_020E   \n",
       "3  POLYGON ((30.00000 0.00000, 40.00000 0.00000, ...  00N_030E   \n",
       "4  POLYGON ((40.00000 0.00000, 50.00000 0.00000, ...  00N_040E   \n",
       "\n",
       "                                                 url  \n",
       "0  https://data-api.globalforestwatch.org/dataset...  \n",
       "1  https://data-api.globalforestwatch.org/dataset...  \n",
       "2  https://data-api.globalforestwatch.org/dataset...  \n",
       "3  https://data-api.globalforestwatch.org/dataset...  \n",
       "4  https://data-api.globalforestwatch.org/dataset...  "
      ]
     },
     "execution_count": 2,
     "metadata": {},
     "output_type": "execute_result"
    }
   ],
   "source": [
    "df_tiles = get_all_tile_data('radd_deforestation_alerts_2022')\n",
    "df_tiles.head()"
   ]
  },
  {
   "cell_type": "code",
   "execution_count": 3,
   "id": "f2ebdeaf-4457-4369-9fe6-db85fc68c6e5",
   "metadata": {},
   "outputs": [
    {
     "data": {
      "text/plain": [
       "(71, 3)"
      ]
     },
     "execution_count": 3,
     "metadata": {},
     "output_type": "execute_result"
    }
   ],
   "source": [
    "df_tiles.shape"
   ]
  },
  {
   "cell_type": "markdown",
   "id": "a06b3b6b-2466-41b0-8966-adafc01211cc",
   "metadata": {},
   "source": [
    "# Get Disturbance Area (without time of disturbance)"
   ]
  },
  {
   "cell_type": "code",
   "execution_count": 4,
   "id": "94a5a455-023e-413b-b751-4a277d0ebe18",
   "metadata": {},
   "outputs": [],
   "source": [
    "def get_spatial_features_from_radd_data(url: str) -> list:\n",
    "    with rasterio.open(url) as ds:\n",
    "        X_radd_tile = (ds.read(1) > 0).astype(np.uint8)\n",
    "        t_radd = ds.transform\n",
    "\n",
    "    features = get_geopandas_features_from_array(X_radd_tile, \n",
    "                                                 t_radd, \n",
    "                                                 label_name='radd_label', \n",
    "                                                 mask=(X_radd_tile == 0))\n",
    "    return features\n",
    "\n",
    "def format_radd_spatial_features(radd_features: list) -> gpd.GeoDataFrame:\n",
    "    df_radd_area = gpd.GeoDataFrame.from_features(radd_features, \n",
    "                                                  crs=CRS.from_epsg(4326))\n",
    "    return df_radd_area\n",
    "\n",
    "def extract_radd_area(**record) -> Path:\n",
    "    features = get_spatial_features_from_radd_data(record['url'])\n",
    "    df_area = format_radd_spatial_features(features)\n",
    "    df_area['tile_id'] = record['tile_id']\n",
    "    return df_area"
   ]
  },
  {
   "cell_type": "code",
   "execution_count": 5,
   "id": "b3d0bdbd-420b-4066-b4d1-fde508c9e8bd",
   "metadata": {},
   "outputs": [],
   "source": [
    "tile_records = df_tiles.to_dict('records')"
   ]
  },
  {
   "cell_type": "markdown",
   "id": "ba783f8b-7547-479f-bce6-a1029c3e64a8",
   "metadata": {},
   "source": [
    "Note the first url is coastal and much smaller than the others so not representative of the time required to do this."
   ]
  },
  {
   "cell_type": "code",
   "execution_count": 8,
   "id": "89cf408e-a689-4929-b440-e16b4a0dfb0b",
   "metadata": {},
   "outputs": [],
   "source": [
    "df_spatial_area = extract_radd_area(**tile_records[0])"
   ]
  },
  {
   "cell_type": "markdown",
   "id": "ad9ad2d5-7155-4a54-bf4f-7de060cc87cf",
   "metadata": {},
   "source": [
    "Unfortunately, it's not worth the time to reformat all tiles - even one tile is massive - the 10 meter tile is quite large."
   ]
  },
  {
   "cell_type": "code",
   "execution_count": null,
   "id": "a15fe7b0-1b9e-4d0a-a0d3-12297d3a4a6d",
   "metadata": {},
   "outputs": [],
   "source": [
    "# def process_driver(records: list[dict]):\n",
    "#     with WorkerPool(n_jobs=10, use_dill=True) as pool:\n",
    "#         dfs = pool.map(extract_radd_area, records[:3], progress_bar=True)\n",
    "#     return dfs\n",
    "\n",
    "# dfs = process_driver(tile_records)"
   ]
  },
  {
   "cell_type": "code",
   "execution_count": 10,
   "id": "5a07012e-a32a-40f8-a885-72fef5e66661",
   "metadata": {},
   "outputs": [],
   "source": [
    "df_spatial_area.to_file(f'{tile_records[0][\"tile_id\"]}_spatial.geojson', driver='GeoJSON')"
   ]
  },
  {
   "cell_type": "markdown",
   "id": "0e6d388a-39e6-4dd9-a7e0-a7bb0520eabe",
   "metadata": {},
   "source": [
    "# Get Disturbance and Time"
   ]
  },
  {
   "cell_type": "code",
   "execution_count": 13,
   "id": "fcca8d85-0874-44df-8f32-56afa327cdd1",
   "metadata": {},
   "outputs": [],
   "source": [
    "OUT_RADD_DIR = Path('.')\n",
    "OUT_RADD_DIR.mkdir(exist_ok=True, parents=True)\n",
    "\n",
    "def get_features_from_radd_data(url: str) -> list:\n",
    "    with rasterio.open(url) as ds:\n",
    "        X_radd_tile = ds.read(1)\n",
    "        t_radd = ds.transform\n",
    "\n",
    "    features = get_geopandas_features_from_array(X_radd_tile, \n",
    "                                                 t_radd, \n",
    "                                                 label_name='radd_label', \n",
    "                                                 mask=(X_radd_tile == 0))\n",
    "    return features\n",
    "\n",
    "def format_radd_features(radd_features: list) -> gpd.GeoDataFrame:\n",
    "    df_radd = gpd.GeoDataFrame.from_features(radd_features, crs=CRS.from_epsg(4326))\n",
    "    df_radd['alert_conf'] = df_radd['radd_label'].map(lambda label: int(str(label)[0]))\n",
    "    df_radd['days_int'] = df_radd['radd_label'].map(lambda label: float(''.join(str(label)[1:])))\n",
    "    df_radd['alert_dt'] = df_radd['days_int'].map(lambda days: pd.Timestamp('2014-12-31') + pd.Timedelta(days, unit='days'))\n",
    "    df_radd.drop(columns=['days_int', 'radd_label'], inplace=True)\n",
    "    return df_radd\n",
    "\n",
    "def serialize_radd_data_with_timing(record: dict) -> Path:\n",
    "    tile_id = record['tile_id']\n",
    "    url = record['url']\n",
    "\n",
    "    features = get_features_from_radd_data(url)\n",
    "    df_tile = format_radd_features(features)\n",
    "\n",
    "    out_path = OUT_RADD_DIR / f'{tile_id}.geojson'\n",
    "    df_tile.to_file(out_path, driver='GeoJSON')\n",
    "    return out_path"
   ]
  },
  {
   "cell_type": "code",
   "execution_count": 14,
   "id": "ab32e581-142a-4827-af8c-3d60279c35e8",
   "metadata": {},
   "outputs": [
    {
     "data": {
      "text/plain": [
       "PosixPath('00N_000E.geojson')"
      ]
     },
     "execution_count": 14,
     "metadata": {},
     "output_type": "execute_result"
    }
   ],
   "source": [
    "p = serialize_radd_data_with_timing(tile_records[0])\n",
    "p"
   ]
  }
 ],
 "metadata": {
  "kernelspec": {
   "display_name": "dist-s1",
   "language": "python",
   "name": "dist-s1"
  },
  "language_info": {
   "codemirror_mode": {
    "name": "ipython",
    "version": 3
   },
   "file_extension": ".py",
   "mimetype": "text/x-python",
   "name": "python",
   "nbconvert_exporter": "python",
   "pygments_lexer": "ipython3",
   "version": "3.12.2"
  }
 },
 "nbformat": 4,
 "nbformat_minor": 5
}
