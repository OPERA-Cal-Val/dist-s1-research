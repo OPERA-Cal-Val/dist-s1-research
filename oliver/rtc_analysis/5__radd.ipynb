{
 "cells": [
  {
   "cell_type": "code",
   "execution_count": 56,
   "metadata": {},
   "outputs": [],
   "source": [
    "import os\n",
    "import yaml\n",
    "import geopandas as gpd\n",
    "import datetime\n",
    "import numpy as np\n",
    "import rasterio as rio\n",
    "from rasterio.crs import CRS\n",
    "from rasterio.mask import mask\n",
    "from shapely.geometry import box\n",
    "import matplotlib.pyplot as plt"
   ]
  },
  {
   "cell_type": "markdown",
   "metadata": {},
   "source": [
    "### Parameters"
   ]
  },
  {
   "cell_type": "code",
   "execution_count": 2,
   "metadata": {},
   "outputs": [],
   "source": [
    "EVENT_NAME = 'bioko_fire_2024'"
   ]
  },
  {
   "cell_type": "markdown",
   "metadata": {},
   "source": [
    "### Read YAML"
   ]
  },
  {
   "cell_type": "code",
   "execution_count": 3,
   "metadata": {},
   "outputs": [
    {
     "data": {
      "text/plain": [
       "{'event_name': 'bioko_fire_2024',\n",
       " 'bounds': [8.73555504, 3.56664088, 8.7688816, 3.59751284],\n",
       " 'event_date': '2024-02-07',\n",
       " 'pre_event_window_days': 100,\n",
       " 'post_event_window_days': 60,\n",
       " 'rtc_track_numbers': [30, 51],\n",
       " 'mgrs_tiles': ['32NMJ'],\n",
       " 'dist_hls_confirmed_change_min_days': 30,\n",
       " 'source_id': 'UNOSAT via humanitarian data exchange - Sentinel-2',\n",
       " 'links': ['data: https://data.humdata.org/dataset/areas-burned-from-february-3rd-to-18th-2024-around-the-pico-basil-volcano-on-bioko-island-',\n",
       "  'https://go.ifrc.org/emergencies/6858/details']}"
      ]
     },
     "execution_count": 3,
     "metadata": {},
     "output_type": "execute_result"
    }
   ],
   "source": [
    "yaml_file = f'../../dist-s1-research/marshak/10_ad_hoc_data_generation/events/{EVENT_NAME}.yml'\n",
    "with open(yaml_file) as f:\n",
    "    event_dict = yaml.safe_load(f)[\"event\"]\n",
    "event_dict"
   ]
  },
  {
   "cell_type": "code",
   "execution_count": 4,
   "metadata": {},
   "outputs": [],
   "source": [
    "aoi = box(*event_dict['bounds'])\n",
    "df_aoi = gpd.GeoDataFrame(geometry=[aoi], crs=CRS.from_epsg(4326))"
   ]
  },
  {
   "cell_type": "code",
   "execution_count": 5,
   "metadata": {},
   "outputs": [],
   "source": [
    "df_mgrs = gpd.read_parquet('../../dist-s1-research/marshak/10_ad_hoc_data_generation/mgrs.parquet')\n",
    "df_mgrs_overlapping = df_mgrs[df_mgrs.tile_id.isin(event_dict['mgrs_tiles'])].reset_index(drop=True)"
   ]
  },
  {
   "cell_type": "code",
   "execution_count": 6,
   "metadata": {},
   "outputs": [
    {
     "data": {
      "text/html": [
       "<div>\n",
       "<style scoped>\n",
       "    .dataframe tbody tr th:only-of-type {\n",
       "        vertical-align: middle;\n",
       "    }\n",
       "\n",
       "    .dataframe tbody tr th {\n",
       "        vertical-align: top;\n",
       "    }\n",
       "\n",
       "    .dataframe thead th {\n",
       "        text-align: right;\n",
       "    }\n",
       "</style>\n",
       "<table border=\"1\" class=\"dataframe\">\n",
       "  <thead>\n",
       "    <tr style=\"text-align: right;\">\n",
       "      <th></th>\n",
       "      <th>tile_id</th>\n",
       "      <th>epsg</th>\n",
       "      <th>utm_wkt</th>\n",
       "      <th>geometry</th>\n",
       "    </tr>\n",
       "  </thead>\n",
       "  <tbody>\n",
       "    <tr>\n",
       "      <th>0</th>\n",
       "      <td>32NMJ</td>\n",
       "      <td>32632</td>\n",
       "      <td>MULTIPOLYGON(((399960 400020,399960 290220,509...</td>\n",
       "      <td>MULTIPOLYGON (((8.09922 3.61861, 8.10006 2.625...</td>\n",
       "    </tr>\n",
       "  </tbody>\n",
       "</table>\n",
       "</div>"
      ],
      "text/plain": [
       "  tile_id    epsg                                            utm_wkt  \\\n",
       "0   32NMJ   32632  MULTIPOLYGON(((399960 400020,399960 290220,509...   \n",
       "\n",
       "                                            geometry  \n",
       "0  MULTIPOLYGON (((8.09922 3.61861, 8.10006 2.625...  "
      ]
     },
     "execution_count": 6,
     "metadata": {},
     "output_type": "execute_result"
    }
   ],
   "source": [
    "df_mgrs_overlapping = df_mgrs[df_mgrs.tile_id.isin(event_dict['mgrs_tiles'])].reset_index(drop=True)\n",
    "df_mgrs_overlapping.head()"
   ]
  },
  {
   "cell_type": "code",
   "execution_count": 7,
   "metadata": {},
   "outputs": [
    {
     "data": {
      "image/svg+xml": [
       "<svg xmlns=\"http://www.w3.org/2000/svg\" xmlns:xlink=\"http://www.w3.org/1999/xlink\" width=\"100.0\" height=\"100.0\" viewBox=\"8.059471387071492 2.5856198692328816 1.068160786254447 1.073181448923707\" preserveAspectRatio=\"xMinYMin meet\"><g transform=\"matrix(1,0,0,-1,0,6.24442118738947)\"><path fill-rule=\"evenodd\" fill=\"#66cc99\" stroke=\"#555555\" stroke-width=\"0.02146362897847414\" opacity=\"0.6\" d=\"M 9.08788471225469,2.62536733030413 L 9.08788471225469,3.61905385708534 L 8.09921884814274,3.61905385708534 L 8.09921884814274,2.62536733030413 L 9.08788471225469,2.62536733030413 z\" /></g></svg>"
      ],
      "text/plain": [
       "<POLYGON ((9.088 2.625, 9.088 3.619, 8.099 3.619, 8.099 2.625, 9.088 2.625))>"
      ]
     },
     "execution_count": 7,
     "metadata": {},
     "output_type": "execute_result"
    }
   ],
   "source": [
    "search_geo = box(*df_mgrs_overlapping.total_bounds)\n",
    "search_geo"
   ]
  },
  {
   "cell_type": "markdown",
   "metadata": {},
   "source": [
    "### Load RADD regions"
   ]
  },
  {
   "cell_type": "code",
   "execution_count": 8,
   "metadata": {},
   "outputs": [
    {
     "data": {
      "text/html": [
       "<div>\n",
       "<style scoped>\n",
       "    .dataframe tbody tr th:only-of-type {\n",
       "        vertical-align: middle;\n",
       "    }\n",
       "\n",
       "    .dataframe tbody tr th {\n",
       "        vertical-align: top;\n",
       "    }\n",
       "\n",
       "    .dataframe thead th {\n",
       "        text-align: right;\n",
       "    }\n",
       "</style>\n",
       "<table border=\"1\" class=\"dataframe\">\n",
       "  <thead>\n",
       "    <tr style=\"text-align: right;\">\n",
       "      <th></th>\n",
       "      <th>radd_tile_id</th>\n",
       "      <th>download</th>\n",
       "      <th>ObjectId</th>\n",
       "      <th>Shape__Are</th>\n",
       "      <th>Shape__Len</th>\n",
       "      <th>geometry</th>\n",
       "    </tr>\n",
       "  </thead>\n",
       "  <tbody>\n",
       "    <tr>\n",
       "      <th>0</th>\n",
       "      <td>00N_000E</td>\n",
       "      <td>https://data-api.globalforestwatch.org/dataset...</td>\n",
       "      <td>1</td>\n",
       "      <td>1.245543e+12</td>\n",
       "      <td>4.464170e+06</td>\n",
       "      <td>POLYGON ((0 0, 10 0, 10 -10, 0 -10, 0 0))</td>\n",
       "    </tr>\n",
       "    <tr>\n",
       "      <th>1</th>\n",
       "      <td>00N_010E</td>\n",
       "      <td>https://data-api.globalforestwatch.org/dataset...</td>\n",
       "      <td>2</td>\n",
       "      <td>1.245543e+12</td>\n",
       "      <td>4.464170e+06</td>\n",
       "      <td>POLYGON ((10 0, 20 0, 20 -10, 10 -10, 10 0))</td>\n",
       "    </tr>\n",
       "    <tr>\n",
       "      <th>2</th>\n",
       "      <td>00N_020E</td>\n",
       "      <td>https://data-api.globalforestwatch.org/dataset...</td>\n",
       "      <td>3</td>\n",
       "      <td>1.245543e+12</td>\n",
       "      <td>4.464170e+06</td>\n",
       "      <td>POLYGON ((20 0, 30 0, 30 -10, 20 -10, 20 0))</td>\n",
       "    </tr>\n",
       "    <tr>\n",
       "      <th>3</th>\n",
       "      <td>00N_030E</td>\n",
       "      <td>https://data-api.globalforestwatch.org/dataset...</td>\n",
       "      <td>4</td>\n",
       "      <td>1.245543e+12</td>\n",
       "      <td>4.464170e+06</td>\n",
       "      <td>POLYGON ((30 0, 40 0, 40 -10, 30 -10, 30 0))</td>\n",
       "    </tr>\n",
       "    <tr>\n",
       "      <th>4</th>\n",
       "      <td>00N_040E</td>\n",
       "      <td>https://data-api.globalforestwatch.org/dataset...</td>\n",
       "      <td>5</td>\n",
       "      <td>1.245543e+12</td>\n",
       "      <td>4.464170e+06</td>\n",
       "      <td>POLYGON ((40 0, 50 0, 50 -10, 40 -10, 40 0))</td>\n",
       "    </tr>\n",
       "    <tr>\n",
       "      <th>...</th>\n",
       "      <td>...</td>\n",
       "      <td>...</td>\n",
       "      <td>...</td>\n",
       "      <td>...</td>\n",
       "      <td>...</td>\n",
       "      <td>...</td>\n",
       "    </tr>\n",
       "    <tr>\n",
       "      <th>66</th>\n",
       "      <td>20S_050W</td>\n",
       "      <td>https://data-api.globalforestwatch.org/dataset...</td>\n",
       "      <td>67</td>\n",
       "      <td>1.369807e+12</td>\n",
       "      <td>4.687428e+06</td>\n",
       "      <td>POLYGON ((-50 -20, -40 -20, -40 -30, -50 -30, ...</td>\n",
       "    </tr>\n",
       "    <tr>\n",
       "      <th>67</th>\n",
       "      <td>20S_060W</td>\n",
       "      <td>https://data-api.globalforestwatch.org/dataset...</td>\n",
       "      <td>68</td>\n",
       "      <td>1.369807e+12</td>\n",
       "      <td>4.687428e+06</td>\n",
       "      <td>POLYGON ((-60 -20, -50 -20, -50 -30, -60 -30, ...</td>\n",
       "    </tr>\n",
       "    <tr>\n",
       "      <th>68</th>\n",
       "      <td>20S_070W</td>\n",
       "      <td>https://data-api.globalforestwatch.org/dataset...</td>\n",
       "      <td>69</td>\n",
       "      <td>1.369807e+12</td>\n",
       "      <td>4.687428e+06</td>\n",
       "      <td>POLYGON ((-70 -20, -60 -20, -60 -30, -70 -30, ...</td>\n",
       "    </tr>\n",
       "    <tr>\n",
       "      <th>69</th>\n",
       "      <td>30N_110E</td>\n",
       "      <td>https://data-api.globalforestwatch.org/dataset...</td>\n",
       "      <td>70</td>\n",
       "      <td>1.369807e+12</td>\n",
       "      <td>4.687428e+06</td>\n",
       "      <td>POLYGON ((110 30, 120 30, 120 20, 110 20, 110 ...</td>\n",
       "    </tr>\n",
       "    <tr>\n",
       "      <th>70</th>\n",
       "      <td>30N_120E</td>\n",
       "      <td>https://data-api.globalforestwatch.org/dataset...</td>\n",
       "      <td>71</td>\n",
       "      <td>1.369807e+12</td>\n",
       "      <td>4.687428e+06</td>\n",
       "      <td>POLYGON ((120 30, 130 30, 130 20, 120 20, 120 ...</td>\n",
       "    </tr>\n",
       "  </tbody>\n",
       "</table>\n",
       "<p>71 rows × 6 columns</p>\n",
       "</div>"
      ],
      "text/plain": [
       "   radd_tile_id                                           download  ObjectId  \\\n",
       "0      00N_000E  https://data-api.globalforestwatch.org/dataset...         1   \n",
       "1      00N_010E  https://data-api.globalforestwatch.org/dataset...         2   \n",
       "2      00N_020E  https://data-api.globalforestwatch.org/dataset...         3   \n",
       "3      00N_030E  https://data-api.globalforestwatch.org/dataset...         4   \n",
       "4      00N_040E  https://data-api.globalforestwatch.org/dataset...         5   \n",
       "..          ...                                                ...       ...   \n",
       "66     20S_050W  https://data-api.globalforestwatch.org/dataset...        67   \n",
       "67     20S_060W  https://data-api.globalforestwatch.org/dataset...        68   \n",
       "68     20S_070W  https://data-api.globalforestwatch.org/dataset...        69   \n",
       "69     30N_110E  https://data-api.globalforestwatch.org/dataset...        70   \n",
       "70     30N_120E  https://data-api.globalforestwatch.org/dataset...        71   \n",
       "\n",
       "      Shape__Are    Shape__Len  \\\n",
       "0   1.245543e+12  4.464170e+06   \n",
       "1   1.245543e+12  4.464170e+06   \n",
       "2   1.245543e+12  4.464170e+06   \n",
       "3   1.245543e+12  4.464170e+06   \n",
       "4   1.245543e+12  4.464170e+06   \n",
       "..           ...           ...   \n",
       "66  1.369807e+12  4.687428e+06   \n",
       "67  1.369807e+12  4.687428e+06   \n",
       "68  1.369807e+12  4.687428e+06   \n",
       "69  1.369807e+12  4.687428e+06   \n",
       "70  1.369807e+12  4.687428e+06   \n",
       "\n",
       "                                             geometry  \n",
       "0           POLYGON ((0 0, 10 0, 10 -10, 0 -10, 0 0))  \n",
       "1        POLYGON ((10 0, 20 0, 20 -10, 10 -10, 10 0))  \n",
       "2        POLYGON ((20 0, 30 0, 30 -10, 20 -10, 20 0))  \n",
       "3        POLYGON ((30 0, 40 0, 40 -10, 30 -10, 30 0))  \n",
       "4        POLYGON ((40 0, 50 0, 50 -10, 40 -10, 40 0))  \n",
       "..                                                ...  \n",
       "66  POLYGON ((-50 -20, -40 -20, -40 -30, -50 -30, ...  \n",
       "67  POLYGON ((-60 -20, -50 -20, -50 -30, -60 -30, ...  \n",
       "68  POLYGON ((-70 -20, -60 -20, -60 -30, -70 -30, ...  \n",
       "69  POLYGON ((110 30, 120 30, 120 20, 110 20, 110 ...  \n",
       "70  POLYGON ((120 30, 130 30, 130 20, 120 20, 120 ...  \n",
       "\n",
       "[71 rows x 6 columns]"
      ]
     },
     "execution_count": 8,
     "metadata": {},
     "output_type": "execute_result"
    }
   ],
   "source": [
    "# Load RADD regions (for later use)\n",
    "radd_regions_gdf = gpd.read_file('./data/Deforestation_alerts_(RADD).shp')\n",
    "radd_regions_gdf = radd_regions_gdf.rename(columns={'tile_id': 'radd_tile_id'})\n",
    "radd_regions_gdf"
   ]
  },
  {
   "cell_type": "code",
   "execution_count": 9,
   "metadata": {},
   "outputs": [
    {
     "data": {
      "text/html": [
       "<div>\n",
       "<style scoped>\n",
       "    .dataframe tbody tr th:only-of-type {\n",
       "        vertical-align: middle;\n",
       "    }\n",
       "\n",
       "    .dataframe tbody tr th {\n",
       "        vertical-align: top;\n",
       "    }\n",
       "\n",
       "    .dataframe thead th {\n",
       "        text-align: right;\n",
       "    }\n",
       "</style>\n",
       "<table border=\"1\" class=\"dataframe\">\n",
       "  <thead>\n",
       "    <tr style=\"text-align: right;\">\n",
       "      <th></th>\n",
       "      <th>tile_id</th>\n",
       "      <th>epsg</th>\n",
       "      <th>utm_wkt</th>\n",
       "      <th>geometry</th>\n",
       "      <th>index_right</th>\n",
       "      <th>radd_tile_id</th>\n",
       "      <th>download</th>\n",
       "      <th>ObjectId</th>\n",
       "      <th>Shape__Are</th>\n",
       "      <th>Shape__Len</th>\n",
       "    </tr>\n",
       "  </thead>\n",
       "  <tbody>\n",
       "    <tr>\n",
       "      <th>0</th>\n",
       "      <td>32NMJ</td>\n",
       "      <td>32632</td>\n",
       "      <td>MULTIPOLYGON(((399960 400020,399960 290220,509...</td>\n",
       "      <td>MULTIPOLYGON (((8.09922 3.61861, 8.10006 2.625...</td>\n",
       "      <td>19</td>\n",
       "      <td>10N_000E</td>\n",
       "      <td>https://data-api.globalforestwatch.org/dataset...</td>\n",
       "      <td>20</td>\n",
       "      <td>1.245543e+12</td>\n",
       "      <td>4.464170e+06</td>\n",
       "    </tr>\n",
       "  </tbody>\n",
       "</table>\n",
       "</div>"
      ],
      "text/plain": [
       "  tile_id    epsg                                            utm_wkt  \\\n",
       "0   32NMJ   32632  MULTIPOLYGON(((399960 400020,399960 290220,509...   \n",
       "\n",
       "                                            geometry  index_right  \\\n",
       "0  MULTIPOLYGON (((8.09922 3.61861, 8.10006 2.625...           19   \n",
       "\n",
       "  radd_tile_id                                           download  ObjectId  \\\n",
       "0     10N_000E  https://data-api.globalforestwatch.org/dataset...        20   \n",
       "\n",
       "     Shape__Are    Shape__Len  \n",
       "0  1.245543e+12  4.464170e+06  "
      ]
     },
     "execution_count": 9,
     "metadata": {},
     "output_type": "execute_result"
    }
   ],
   "source": [
    "# Find the RADD tiles corresponding to the MGRS tiles of interest\n",
    "mgrs_radd_df = gpd.sjoin(df_mgrs_overlapping, radd_regions_gdf, how=\"inner\", predicate=\"intersects\")\n",
    "mgrs_radd_df"
   ]
  },
  {
   "cell_type": "code",
   "execution_count": 10,
   "metadata": {},
   "outputs": [
    {
     "data": {
      "text/plain": [
       "<Axes: >"
      ]
     },
     "execution_count": 10,
     "metadata": {},
     "output_type": "execute_result"
    },
    {
     "data": {
      "image/png": "[encoded data removed]",
      "text/plain": [
       "<Figure size 640x480 with 1 Axes>"
      ]
     },
     "metadata": {},
     "output_type": "display_data"
    }
   ],
   "source": [
    "# plot an overview of the filtered RADD tiles\n",
    "fig, ax = plt.subplots()\n",
    "mgrs_radd_df.plot(ax = ax)"
   ]
  },
  {
   "cell_type": "markdown",
   "metadata": {},
   "source": [
    "### Download and merge RADD tiles"
   ]
  },
  {
   "cell_type": "code",
   "execution_count": 59,
   "metadata": {},
   "outputs": [],
   "source": [
    "## RADD related functions\n",
    "# function to download RADD image \n",
    "def download_file(url, save_dir, filename):\n",
    "    import os\n",
    "    import requests\n",
    "     # Ensure the directory exists\n",
    "    os.makedirs(save_dir, exist_ok=True)\n",
    "    \n",
    "    # Complete file path\n",
    "    file_path = os.path.join(save_dir, filename)\n",
    "\n",
    "    if os.path.exists(file_path):\n",
    "        print(f\"File already exists at {file_path}. Skipping download.\")\n",
    "        return\n",
    "    \n",
    "    # Download the file\n",
    "    response = requests.get(url)\n",
    "    response.raise_for_status()  # Check for request errors\n",
    "    \n",
    "    # Save the file\n",
    "    with open(file_path, 'wb') as file:\n",
    "        file.write(response.content)\n",
    "    \n",
    "    print(f\"File downloaded and saved to {file_path}\")\n",
    "\n",
    "\n",
    "def load_tiff(tiff_path):\n",
    "    with rio.open(tiff_path) as src:\n",
    "        # Read the entire file into an array\n",
    "        data_arr = src.read()\n",
    "        geo_transform = src.transform\n",
    "        # Calculate the spatial extent\n",
    "        spatial_extents = [\n",
    "            geo_transform[2],  # min X\n",
    "            geo_transform[2] + geo_transform[0] * data_arr.shape[2],  # max X\n",
    "            geo_transform[5] + geo_transform[4] * data_arr.shape[1],  # min Y\n",
    "            geo_transform[5]  # max Y\n",
    "        ]\n",
    "\n",
    "    return data_arr, spatial_extents, geo_transform  \n",
    "\n",
    "\n",
    "def get_mgrs_tile_from_radd(polygon, path_to_radd):\n",
    "    '''\n",
    "    Use the MGRS extents to read that portion of the RADD alert.\n",
    "    Inputs:\n",
    "        MGRS polygon\n",
    "        path to RADD image\n",
    "    Returns:\n",
    "        RADD cropped array\n",
    "        RADD spatial extent\n",
    "    '''\n",
    "\n",
    "    gdf = gpd.GeoDataFrame({'geometry': [polygon]}, crs=CRS.from_epsg(4326))\n",
    "\n",
    "    with rio.open(path_to_radd) as src:\n",
    "        # Reproject the GeoDataFrame to match the raster's CRS, if necessary\n",
    "        gdf = gdf.to_crs(src.crs)\n",
    "        \n",
    "        # Mask the raster with the polygon\n",
    "        out_image, out_transform = mask(src, gdf.geometry, crop=True)\n",
    "        \n",
    "        # Calculate the spatial extent\n",
    "        spatial_extent = [\n",
    "            out_transform[2],  # min X\n",
    "            out_transform[2] + out_transform[0] * out_image.shape[2],  # max X\n",
    "            out_transform[5] + out_transform[4] * out_image.shape[1],  # min Y\n",
    "            out_transform[5]  # max Y\n",
    "        ]\n",
    "    \n",
    "    return out_image[0], spatial_extent, out_transform\n",
    "\n",
    "\n",
    "def export_array(arr, geo_transform, outpath):\n",
    "    from rasterio.transform import Affine\n",
    "    crs = CRS.from_epsg(4326)  # RADD tiles are in EPSG:4326\n",
    "    # Export the array as a GeoTIFF\n",
    "    with rio.open(\n",
    "        outpath, \n",
    "        'w', \n",
    "        driver='GTiff', \n",
    "        height=arr.shape[0], \n",
    "        width=arr.shape[1], \n",
    "        count=1,  # Number of bands\n",
    "        dtype=arr.dtype, \n",
    "        crs=crs, \n",
    "        transform=geo_transform\n",
    "    ) as dst:\n",
    "        dst.write(arr, 1)\n",
    "\n",
    "    print(f\"GeoTIFF saved at {outpath}\")\n",
    "\n",
    "\n",
    "def merge_tiffs(path_list, outpath):\n",
    "    from rasterio.merge import merge\n",
    "    # Open all TIFFs into a list\n",
    "    datasets = [rio.open(path) for path in path_list] \n",
    "    # Merge all \n",
    "    merged_array, merged_transform = merge(datasets)\n",
    "    # Update the metadata for the merged file based on the first dataset\n",
    "    merged_meta = datasets[0].meta.copy()\n",
    "    merged_meta.update({\n",
    "        \"driver\": \"GTiff\",\n",
    "        \"height\": merged_array.shape[1],\n",
    "        \"width\": merged_array.shape[2],\n",
    "        \"transform\": merged_transform\n",
    "    })\n",
    "    \n",
    "    # Write the merged array to a new GeoTIFF file\n",
    "    with rio.open(outpath, \"w\", **merged_meta) as dst:\n",
    "        dst.write(merged_array)\n",
    "    \n",
    "    # Close all the datasets\n",
    "    for dataset in datasets:\n",
    "        dataset.close()\n",
    "\n",
    "    print(f\"Merged GeoTIFF saved at {outpath}\")\n",
    "\n",
    "\n",
    "# Give a date and return a RADD encoded value \n",
    "def encode_alert_date(date: datetime, confidence: str) -> int:\n",
    "    \"\"\"\n",
    "    Encodes a given date and confidence level into an integer representation.\n",
    "\n",
    "    Parameters:\n",
    "    - date (datetime): The date of the disturbance.\n",
    "    - confidence (str): The confidence level, either 'low' or 'high'.\n",
    "\n",
    "    Returns:\n",
    "    - int: Encoded alert date number.\n",
    "    \"\"\"\n",
    "    # Reference date (start date)\n",
    "    start_date = datetime.datetime(2014, 12, 31)\n",
    "    \n",
    "    # Calculate the number of days since the reference date\n",
    "    days_since_start = (date - start_date).days\n",
    "    \n",
    "    # Determine the leading integer based on confidence level\n",
    "    if confidence.lower() == 'low':\n",
    "        leading_digit = 2\n",
    "    elif confidence.lower() == 'high':\n",
    "        leading_digit = 3\n",
    "    else:\n",
    "        raise ValueError(\"Confidence level must be 'low' or 'high'.\")\n",
    "    \n",
    "    # Combine the leading digit with the days since the reference date\n",
    "    encoded_value = int(f\"{leading_digit}{days_since_start:04d}\")  # Zero-pads the days to ensure correct formatting\n",
    "    \n",
    "    return encoded_value\n",
    "\n",
    "\n",
    "# Remove tif files from directory after use\n",
    "def remove_tif_files(directory, pattern=\"*.tif\"):\n",
    "    import os\n",
    "    import fnmatch\n",
    "\n",
    "    # Check if the directory exists\n",
    "    if os.path.exists(directory):\n",
    "        # Iterate over the files in the specified directory\n",
    "        for filename in os.listdir(directory):\n",
    "            if fnmatch.fnmatch(filename, pattern):\n",
    "                file_path = os.path.join(directory, filename)\n",
    "                try:\n",
    "                    os.remove(file_path)  # Remove the file matching the pattern\n",
    "                    print(f'Removed file: {file_path}')\n",
    "                except Exception as e:\n",
    "                    print(f'Failed to delete {file_path}. Reason: {e}')\n",
    "        print(f\"All files matching the pattern '{pattern}' in the directory '{directory}' have been removed.\")\n",
    "    else:\n",
    "        print(f\"The directory '{directory}' does not exist.\")"
   ]
  },
  {
   "cell_type": "code",
   "execution_count": 12,
   "metadata": {},
   "outputs": [
    {
     "name": "stdout",
     "output_type": "stream",
     "text": [
      "Downloading RADD tile 10N_000E that overlaps MGRS tile 32NMJ\n",
      "File already exists at ./data/radd/radd_tile_10N_000E.tif. Skipping download.\n"
     ]
    }
   ],
   "source": [
    "# Download RADD data\n",
    "radd_alert_paths = []\n",
    "for index, row in mgrs_radd_df.iterrows():\n",
    "    link = row['download']\n",
    "    print(f\"Downloading RADD tile {row['radd_tile_id']} that overlaps MGRS tile {row['tile_id']}\")\n",
    "    # check out dir\n",
    "    save_dir = './data/radd'\n",
    "    # filename \n",
    "    radd_alert = 'radd_tile_'+ row['radd_tile_id'] + '.tif'\n",
    "    radd_alert_paths.append(os.path.join(save_dir, radd_alert))\n",
    "    # run\n",
    "    download_file(link, save_dir, radd_alert)"
   ]
  },
  {
   "cell_type": "code",
   "execution_count": 13,
   "metadata": {},
   "outputs": [
    {
     "data": {
      "text/html": [
       "<div>\n",
       "<style scoped>\n",
       "    .dataframe tbody tr th:only-of-type {\n",
       "        vertical-align: middle;\n",
       "    }\n",
       "\n",
       "    .dataframe tbody tr th {\n",
       "        vertical-align: top;\n",
       "    }\n",
       "\n",
       "    .dataframe thead th {\n",
       "        text-align: right;\n",
       "    }\n",
       "</style>\n",
       "<table border=\"1\" class=\"dataframe\">\n",
       "  <thead>\n",
       "    <tr style=\"text-align: right;\">\n",
       "      <th></th>\n",
       "      <th>tile_id</th>\n",
       "      <th>epsg</th>\n",
       "      <th>utm_wkt</th>\n",
       "      <th>geometry</th>\n",
       "      <th>index_right</th>\n",
       "      <th>radd_tile_id</th>\n",
       "      <th>download</th>\n",
       "      <th>ObjectId</th>\n",
       "      <th>Shape__Are</th>\n",
       "      <th>Shape__Len</th>\n",
       "    </tr>\n",
       "  </thead>\n",
       "  <tbody>\n",
       "    <tr>\n",
       "      <th>0</th>\n",
       "      <td>32NMJ</td>\n",
       "      <td>32632</td>\n",
       "      <td>MULTIPOLYGON(((399960 400020,399960 290220,509...</td>\n",
       "      <td>MULTIPOLYGON (((8.09922 3.61861, 8.10006 2.625...</td>\n",
       "      <td>19</td>\n",
       "      <td>10N_000E</td>\n",
       "      <td>https://data-api.globalforestwatch.org/dataset...</td>\n",
       "      <td>20</td>\n",
       "      <td>1.245543e+12</td>\n",
       "      <td>4.464170e+06</td>\n",
       "    </tr>\n",
       "  </tbody>\n",
       "</table>\n",
       "</div>"
      ],
      "text/plain": [
       "  tile_id    epsg                                            utm_wkt  \\\n",
       "0   32NMJ   32632  MULTIPOLYGON(((399960 400020,399960 290220,509...   \n",
       "\n",
       "                                            geometry  index_right  \\\n",
       "0  MULTIPOLYGON (((8.09922 3.61861, 8.10006 2.625...           19   \n",
       "\n",
       "  radd_tile_id                                           download  ObjectId  \\\n",
       "0     10N_000E  https://data-api.globalforestwatch.org/dataset...        20   \n",
       "\n",
       "     Shape__Are    Shape__Len  \n",
       "0  1.245543e+12  4.464170e+06  "
      ]
     },
     "execution_count": 13,
     "metadata": {},
     "output_type": "execute_result"
    }
   ],
   "source": [
    "mgrs_radd_df"
   ]
  },
  {
   "cell_type": "code",
   "execution_count": 14,
   "metadata": {},
   "outputs": [
    {
     "name": "stdout",
     "output_type": "stream",
     "text": [
      "POLYGON ((8.09921884814274 3.61860907612695, 8.10006456603865 2.62536733030413, 9.08780218634007 2.62568983172676, 9.08788471225469 3.61905385708534, 8.09921884814274 3.61860907612695))\n"
     ]
    }
   ],
   "source": [
    "# We use the MGRS polygon boundaries to extract the corresponding portion of the RADD alert.\n",
    "# Extract polygon from multipolygon\n",
    "print(mgrs_radd_df.iloc[0]['geometry'].geoms[0])"
   ]
  },
  {
   "cell_type": "code",
   "execution_count": 15,
   "metadata": {},
   "outputs": [
    {
     "name": "stdout",
     "output_type": "stream",
     "text": [
      "Only one tile to read, continue to filter and export\n"
     ]
    }
   ],
   "source": [
    "# Download tiles and merge if necessary\n",
    "radd_out_dir = './data/radd' # Radd out direcotry \n",
    "radd_tile_num = len(mgrs_radd_df)\n",
    "if radd_tile_num >= 2:\n",
    "    print('Multiple RADD tiles available read and merge')\n",
    "    radd_tile_paths = []\n",
    "    for tile in range(radd_tile_num):\n",
    "       # Extract RADD tile\n",
    "       radd_arr, _, radd_gt = get_mgrs_tile_from_radd(mgrs_radd_df.iloc[tile]['geometry'].geoms[0], radd_alert_paths[tile])\n",
    "       # Save tile as tiff\n",
    "       out_tile = f\"{radd_out_dir}/radd_tile_subset{tile}.tif\"\n",
    "       export_array(radd_arr, radd_gt, out_tile)\n",
    "       radd_tile_paths.append(out_tile)\n",
    "    \n",
    "    # Merge tiles \n",
    "    merged_out = f\"{radd_out_dir}/radd_merged.tif\"\n",
    "    merge_tiffs(radd_tile_paths, merged_out)  \n",
    "    # Delete tiles (since they are merged no need to keep them)\n",
    "    remove_tif_files(radd_out_dir, pattern=\"*_subset*.tif\") \n",
    "    # load merged file to filter events\n",
    "    radd_arr, radd_se, radd_gt = load_tiff(merged_out)\n",
    "\n",
    "elif radd_tile_num == 1: \n",
    "    print('Only one tile to read, continue to filter and export')\n",
    "    # load subset of RADD\n",
    "    radd_arr, radd_se, radd_gt = get_mgrs_tile_from_radd(mgrs_radd_df.iloc[0]['geometry'].geoms[0], radd_alert_paths[0])\n"
   ]
  },
  {
   "cell_type": "code",
   "execution_count": 16,
   "metadata": {},
   "outputs": [
    {
     "data": {
      "image/png": "[encoded data removed]",
      "text/plain": [
       "<Figure size 500x500 with 2 Axes>"
      ]
     },
     "metadata": {},
     "output_type": "display_data"
    }
   ],
   "source": [
    "# Plot overview\n",
    "fig = plt.figure(figsize=(5, 5))\n",
    "ax = fig.add_subplot(1, 1, 1)\n",
    "cax = ax.imshow(radd_arr, cmap='magma', extent=radd_se, interpolation='nearest')\n",
    "ax.set_title(\"RADD Alert Overview\")\n",
    "cbar = fig.colorbar(cax, orientation='vertical')\n",
    "plt.show()"
   ]
  },
  {
   "cell_type": "markdown",
   "metadata": {},
   "source": [
    "### Filter RADD alerts"
   ]
  },
  {
   "cell_type": "code",
   "execution_count": 33,
   "metadata": {},
   "outputs": [
    {
     "name": "stdout",
     "output_type": "stream",
     "text": [
      "2024-02-07 00:00:00 2023-10-30 00:00:00 2024-04-07 00:00:00\n"
     ]
    }
   ],
   "source": [
    "EVENT_DT = datetime.datetime.strptime(event_dict['event_date'], \"%Y-%m-%d\")\n",
    "print(EVENT_DT)"
   ]
  },
  {
   "cell_type": "code",
   "execution_count": 60,
   "metadata": {},
   "outputs": [
    {
     "name": "stdout",
     "output_type": "stream",
     "text": [
      "20001\n",
      "30055\n",
      "21847\n"
     ]
    }
   ],
   "source": [
    "# Test the encoded alert translator\n",
    "date1 = datetime.datetime(2015, 1, 1)  # January 1st, 2015\n",
    "date2 = datetime.datetime(2015, 2, 24) # February 24, 2015\n",
    "date3 = datetime.datetime(2020, 1, 21) # January 21, 2020\n",
    "\n",
    "print(encode_alert_date(date1, 'low'))   # Output: 20001\n",
    "print(encode_alert_date(date2, 'high'))  # Output: 30055\n",
    "print(encode_alert_date(date3, 'low'))   # Output: 21847\n"
   ]
  },
  {
   "cell_type": "code",
   "execution_count": 63,
   "metadata": {},
   "outputs": [
    {
     "name": "stdout",
     "output_type": "stream",
     "text": [
      "22558 23385 32558 33385\n"
     ]
    }
   ],
   "source": [
    "# Use the encoded alert translator to filter pixels of interest\n",
    "# get alerts from 2022 to 60 days after the event\n",
    "pre_event_date = datetime.datetime(2022, 1, 1)  # January 1st, 2015\n",
    "post_evet_date = EVENT_DT + datetime.timedelta(days=60) # 60 days after event\n",
    "\n",
    "pre_event_date_code_low = encode_alert_date(pre_event_date, 'low')\n",
    "post_event_date_code_low = encode_alert_date(post_evet_date, 'low')\n",
    "pre_event_date_code_high = encode_alert_date(pre_event_date, 'high')\n",
    "post_event_date_code_high = encode_alert_date(post_evet_date, 'high')\n",
    "\n",
    "print(pre_event_date_code_low, \n",
    "      post_event_date_code_low,\n",
    "      pre_event_date_code_high,\n",
    "      post_event_date_code_high \n",
    "      )"
   ]
  },
  {
   "cell_type": "code",
   "execution_count": 64,
   "metadata": {},
   "outputs": [],
   "source": [
    "# Get masks\n",
    "low_confidence_mask = (radd_arr > pre_event_date_code_low) & (radd_arr < post_event_date_code_low)\n",
    "high_confidence_mask = (radd_arr > pre_event_date_code_high) & (radd_arr < post_event_date_code_high)"
   ]
  },
  {
   "cell_type": "code",
   "execution_count": 67,
   "metadata": {},
   "outputs": [
    {
     "data": {
      "image/png": "[encoded data removed]",
      "text/plain": [
       "<Figure size 1000x500 with 2 Axes>"
      ]
     },
     "metadata": {},
     "output_type": "display_data"
    }
   ],
   "source": [
    "# Plot overview\n",
    "fig = plt.figure(figsize=(10, 5))\n",
    "ax = fig.add_subplot(1, 2, 1)\n",
    "cax = ax.imshow(low_confidence_mask, cmap='plasma', extent=radd_se, interpolation='nearest')\n",
    "ax.set_title(\"Low confidence RADD alerts\")\n",
    "ax = fig.add_subplot(1, 2, 2)\n",
    "cax = ax.imshow(high_confidence_mask, cmap='plasma', extent=radd_se, interpolation='nearest')\n",
    "ax.set_title(\"High confidence RADD alerts\")\n",
    "plt.show()"
   ]
  },
  {
   "cell_type": "markdown",
   "metadata": {},
   "source": [
    "## Export final masks"
   ]
  },
  {
   "cell_type": "code",
   "execution_count": null,
   "metadata": {},
   "outputs": [],
   "source": [
    "lcm_out = f\"{radd_out_dir}/radd_low_confidence_mask.tif\"\n",
    "export_array(low_confidence_mask, radd_gt, lcm_out)\n",
    "hcm_out = f\"{radd_out_dir}/radd_high_confidence_mask.tif\"\n",
    "export_array(high_confidence_mask, radd_gt, hcm_out) "
   ]
  }
 ],
 "metadata": {
  "kernelspec": {
   "display_name": "dist-s1",
   "language": "python",
   "name": "python3"
  },
  "language_info": {
   "codemirror_mode": {
    "name": "ipython",
    "version": 3
   },
   "file_extension": ".py",
   "mimetype": "text/x-python",
   "name": "python",
   "nbconvert_exporter": "python",
   "pygments_lexer": "ipython3",
   "version": "3.12.4"
  }
 },
 "nbformat": 4,
 "nbformat_minor": 2
}
