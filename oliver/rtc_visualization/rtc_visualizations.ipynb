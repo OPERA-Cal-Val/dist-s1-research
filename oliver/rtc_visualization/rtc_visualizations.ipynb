{
 "cells": [
  {
   "cell_type": "code",
   "execution_count": 11,
   "metadata": {},
   "outputs": [],
   "source": [
    "import os\n",
    "import numpy as np\n",
    "from tqdm import tqdm\n",
    "import leafmap\n",
    "from localtileserver import TileClient, get_leaflet_tile_layer\n",
    "import rasterio as rio\n",
    "import pandas as pd\n",
    "import geopandas as gpd\n",
    "from dem_stitcher.geojson_io import read_geojson_gzip\n",
    "import matplotlib.pyplot as plt"
   ]
  },
  {
   "cell_type": "code",
   "execution_count": 12,
   "metadata": {},
   "outputs": [
    {
     "name": "stdout",
     "output_type": "stream",
     "text": [
      "Going to work dir:  /Users/cabrera/Documents/jpl_projects/opera_dist/dist-s1-research/oliver/rtc_visualization\n"
     ]
    }
   ],
   "source": [
    "# Set a workdir and go to it\n",
    "workdir = '/Users/cabrera/Documents/jpl_projects/opera_dist/dist-s1-research/oliver/rtc_visualization'\n",
    "print('Going to work dir: ', workdir)\n",
    "os.chdir(workdir)"
   ]
  },
  {
   "cell_type": "code",
   "execution_count": 13,
   "metadata": {},
   "outputs": [
    {
     "data": {
      "text/html": [
       "<div>\n",
       "<style scoped>\n",
       "    .dataframe tbody tr th:only-of-type {\n",
       "        vertical-align: middle;\n",
       "    }\n",
       "\n",
       "    .dataframe tbody tr th {\n",
       "        vertical-align: top;\n",
       "    }\n",
       "\n",
       "    .dataframe thead th {\n",
       "        text-align: right;\n",
       "    }\n",
       "</style>\n",
       "<table border=\"1\" class=\"dataframe\">\n",
       "  <thead>\n",
       "    <tr style=\"text-align: right;\">\n",
       "      <th></th>\n",
       "      <th>rtc_s1_id</th>\n",
       "      <th>input_slc_id</th>\n",
       "      <th>jpl_burst_id</th>\n",
       "      <th>bursts_per_slc_input</th>\n",
       "      <th>rtc_s1_vv_url</th>\n",
       "      <th>rtc_s1_vh_url</th>\n",
       "      <th>rtc_s1_h5_url</th>\n",
       "      <th>acq_datetime</th>\n",
       "    </tr>\n",
       "  </thead>\n",
       "  <tbody>\n",
       "    <tr>\n",
       "      <th>0</th>\n",
       "      <td>OPERA_L2_RTC-S1_T005-008688-IW2_20201010T00400...</td>\n",
       "      <td>S1A_IW_SLC__1SDV_20201010T004001_20201010T0040...</td>\n",
       "      <td>T005-008688-IW2</td>\n",
       "      <td>27</td>\n",
       "      <td>https://opera-pst-rs-pop1.s3.us-west-2.amazona...</td>\n",
       "      <td>https://opera-pst-rs-pop1.s3.us-west-2.amazona...</td>\n",
       "      <td>https://opera-pst-rs-pop1.s3.us-west-2.amazona...</td>\n",
       "      <td>2020-10-10 00:40:01</td>\n",
       "    </tr>\n",
       "    <tr>\n",
       "      <th>1</th>\n",
       "      <td>OPERA_L2_RTC-S1_T005-008688-IW2_20201022T00400...</td>\n",
       "      <td>S1A_IW_SLC__1SDV_20201022T004000_20201022T0040...</td>\n",
       "      <td>T005-008688-IW2</td>\n",
       "      <td>27</td>\n",
       "      <td>https://opera-pst-rs-pop1.s3.us-west-2.amazona...</td>\n",
       "      <td>https://opera-pst-rs-pop1.s3.us-west-2.amazona...</td>\n",
       "      <td>https://opera-pst-rs-pop1.s3.us-west-2.amazona...</td>\n",
       "      <td>2020-10-22 00:40:00</td>\n",
       "    </tr>\n",
       "    <tr>\n",
       "      <th>2</th>\n",
       "      <td>OPERA_L2_RTC-S1_T005-008688-IW2_20201103T00400...</td>\n",
       "      <td>S1A_IW_SLC__1SDV_20201103T004000_20201103T0040...</td>\n",
       "      <td>T005-008688-IW2</td>\n",
       "      <td>27</td>\n",
       "      <td>https://opera-pst-rs-pop1.s3.us-west-2.amazona...</td>\n",
       "      <td>https://opera-pst-rs-pop1.s3.us-west-2.amazona...</td>\n",
       "      <td>https://opera-pst-rs-pop1.s3.us-west-2.amazona...</td>\n",
       "      <td>2020-11-03 00:40:00</td>\n",
       "    </tr>\n",
       "    <tr>\n",
       "      <th>3</th>\n",
       "      <td>OPERA_L2_RTC-S1_T005-008688-IW2_20201115T00400...</td>\n",
       "      <td>S1A_IW_SLC__1SDV_20201115T004000_20201115T0040...</td>\n",
       "      <td>T005-008688-IW2</td>\n",
       "      <td>27</td>\n",
       "      <td>https://opera-pst-rs-pop1.s3.us-west-2.amazona...</td>\n",
       "      <td>https://opera-pst-rs-pop1.s3.us-west-2.amazona...</td>\n",
       "      <td>https://opera-pst-rs-pop1.s3.us-west-2.amazona...</td>\n",
       "      <td>2020-11-15 00:40:00</td>\n",
       "    </tr>\n",
       "    <tr>\n",
       "      <th>4</th>\n",
       "      <td>OPERA_L2_RTC-S1_T005-008688-IW2_20201127T00400...</td>\n",
       "      <td>S1A_IW_SLC__1SDV_20201127T004000_20201127T0040...</td>\n",
       "      <td>T005-008688-IW2</td>\n",
       "      <td>27</td>\n",
       "      <td>https://opera-pst-rs-pop1.s3.us-west-2.amazona...</td>\n",
       "      <td>https://opera-pst-rs-pop1.s3.us-west-2.amazona...</td>\n",
       "      <td>https://opera-pst-rs-pop1.s3.us-west-2.amazona...</td>\n",
       "      <td>2020-11-27 00:40:00</td>\n",
       "    </tr>\n",
       "    <tr>\n",
       "      <th>...</th>\n",
       "      <td>...</td>\n",
       "      <td>...</td>\n",
       "      <td>...</td>\n",
       "      <td>...</td>\n",
       "      <td>...</td>\n",
       "      <td>...</td>\n",
       "      <td>...</td>\n",
       "      <td>...</td>\n",
       "    </tr>\n",
       "    <tr>\n",
       "      <th>237848</th>\n",
       "      <td>OPERA_L2_RTC-S1_T175-374047-IW1_20211103T16352...</td>\n",
       "      <td>S1B_IW_SLC__1SDV_20211103T163459_20211103T1635...</td>\n",
       "      <td>T175-374047-IW1</td>\n",
       "      <td>27</td>\n",
       "      <td>https://opera-pst-rs-pop1.s3.us-west-2.amazona...</td>\n",
       "      <td>https://opera-pst-rs-pop1.s3.us-west-2.amazona...</td>\n",
       "      <td>https://opera-pst-rs-pop1.s3.us-west-2.amazona...</td>\n",
       "      <td>2021-11-03 16:34:59</td>\n",
       "    </tr>\n",
       "    <tr>\n",
       "      <th>237849</th>\n",
       "      <td>OPERA_L2_RTC-S1_T175-374047-IW1_20211115T16352...</td>\n",
       "      <td>S1B_IW_SLC__1SDV_20211115T163459_20211115T1635...</td>\n",
       "      <td>T175-374047-IW1</td>\n",
       "      <td>27</td>\n",
       "      <td>https://opera-pst-rs-pop1.s3.us-west-2.amazona...</td>\n",
       "      <td>https://opera-pst-rs-pop1.s3.us-west-2.amazona...</td>\n",
       "      <td>https://opera-pst-rs-pop1.s3.us-west-2.amazona...</td>\n",
       "      <td>2021-11-15 16:34:59</td>\n",
       "    </tr>\n",
       "    <tr>\n",
       "      <th>237850</th>\n",
       "      <td>OPERA_L2_RTC-S1_T175-374047-IW1_20211127T16352...</td>\n",
       "      <td>S1B_IW_SLC__1SDV_20211127T163459_20211127T1635...</td>\n",
       "      <td>T175-374047-IW1</td>\n",
       "      <td>27</td>\n",
       "      <td>https://opera-pst-rs-pop1.s3.us-west-2.amazona...</td>\n",
       "      <td>https://opera-pst-rs-pop1.s3.us-west-2.amazona...</td>\n",
       "      <td>https://opera-pst-rs-pop1.s3.us-west-2.amazona...</td>\n",
       "      <td>2021-11-27 16:34:59</td>\n",
       "    </tr>\n",
       "    <tr>\n",
       "      <th>237851</th>\n",
       "      <td>OPERA_L2_RTC-S1_T175-374047-IW1_20211209T16352...</td>\n",
       "      <td>S1B_IW_SLC__1SDV_20211209T163458_20211209T1635...</td>\n",
       "      <td>T175-374047-IW1</td>\n",
       "      <td>27</td>\n",
       "      <td>https://opera-pst-rs-pop1.s3.us-west-2.amazona...</td>\n",
       "      <td>https://opera-pst-rs-pop1.s3.us-west-2.amazona...</td>\n",
       "      <td>https://opera-pst-rs-pop1.s3.us-west-2.amazona...</td>\n",
       "      <td>2021-12-09 16:34:58</td>\n",
       "    </tr>\n",
       "    <tr>\n",
       "      <th>237852</th>\n",
       "      <td>OPERA_L2_RTC-S1_T175-374047-IW1_20211221T16352...</td>\n",
       "      <td>S1B_IW_SLC__1SDV_20211221T163458_20211221T1635...</td>\n",
       "      <td>T175-374047-IW1</td>\n",
       "      <td>27</td>\n",
       "      <td>https://opera-pst-rs-pop1.s3.us-west-2.amazona...</td>\n",
       "      <td>https://opera-pst-rs-pop1.s3.us-west-2.amazona...</td>\n",
       "      <td>https://opera-pst-rs-pop1.s3.us-west-2.amazona...</td>\n",
       "      <td>2021-12-21 16:34:58</td>\n",
       "    </tr>\n",
       "  </tbody>\n",
       "</table>\n",
       "<p>237853 rows × 8 columns</p>\n",
       "</div>"
      ],
      "text/plain": [
       "                                                rtc_s1_id  \\\n",
       "0       OPERA_L2_RTC-S1_T005-008688-IW2_20201010T00400...   \n",
       "1       OPERA_L2_RTC-S1_T005-008688-IW2_20201022T00400...   \n",
       "2       OPERA_L2_RTC-S1_T005-008688-IW2_20201103T00400...   \n",
       "3       OPERA_L2_RTC-S1_T005-008688-IW2_20201115T00400...   \n",
       "4       OPERA_L2_RTC-S1_T005-008688-IW2_20201127T00400...   \n",
       "...                                                   ...   \n",
       "237848  OPERA_L2_RTC-S1_T175-374047-IW1_20211103T16352...   \n",
       "237849  OPERA_L2_RTC-S1_T175-374047-IW1_20211115T16352...   \n",
       "237850  OPERA_L2_RTC-S1_T175-374047-IW1_20211127T16352...   \n",
       "237851  OPERA_L2_RTC-S1_T175-374047-IW1_20211209T16352...   \n",
       "237852  OPERA_L2_RTC-S1_T175-374047-IW1_20211221T16352...   \n",
       "\n",
       "                                             input_slc_id     jpl_burst_id  \\\n",
       "0       S1A_IW_SLC__1SDV_20201010T004001_20201010T0040...  T005-008688-IW2   \n",
       "1       S1A_IW_SLC__1SDV_20201022T004000_20201022T0040...  T005-008688-IW2   \n",
       "2       S1A_IW_SLC__1SDV_20201103T004000_20201103T0040...  T005-008688-IW2   \n",
       "3       S1A_IW_SLC__1SDV_20201115T004000_20201115T0040...  T005-008688-IW2   \n",
       "4       S1A_IW_SLC__1SDV_20201127T004000_20201127T0040...  T005-008688-IW2   \n",
       "...                                                   ...              ...   \n",
       "237848  S1B_IW_SLC__1SDV_20211103T163459_20211103T1635...  T175-374047-IW1   \n",
       "237849  S1B_IW_SLC__1SDV_20211115T163459_20211115T1635...  T175-374047-IW1   \n",
       "237850  S1B_IW_SLC__1SDV_20211127T163459_20211127T1635...  T175-374047-IW1   \n",
       "237851  S1B_IW_SLC__1SDV_20211209T163458_20211209T1635...  T175-374047-IW1   \n",
       "237852  S1B_IW_SLC__1SDV_20211221T163458_20211221T1635...  T175-374047-IW1   \n",
       "\n",
       "        bursts_per_slc_input  \\\n",
       "0                         27   \n",
       "1                         27   \n",
       "2                         27   \n",
       "3                         27   \n",
       "4                         27   \n",
       "...                      ...   \n",
       "237848                    27   \n",
       "237849                    27   \n",
       "237850                    27   \n",
       "237851                    27   \n",
       "237852                    27   \n",
       "\n",
       "                                            rtc_s1_vv_url  \\\n",
       "0       https://opera-pst-rs-pop1.s3.us-west-2.amazona...   \n",
       "1       https://opera-pst-rs-pop1.s3.us-west-2.amazona...   \n",
       "2       https://opera-pst-rs-pop1.s3.us-west-2.amazona...   \n",
       "3       https://opera-pst-rs-pop1.s3.us-west-2.amazona...   \n",
       "4       https://opera-pst-rs-pop1.s3.us-west-2.amazona...   \n",
       "...                                                   ...   \n",
       "237848  https://opera-pst-rs-pop1.s3.us-west-2.amazona...   \n",
       "237849  https://opera-pst-rs-pop1.s3.us-west-2.amazona...   \n",
       "237850  https://opera-pst-rs-pop1.s3.us-west-2.amazona...   \n",
       "237851  https://opera-pst-rs-pop1.s3.us-west-2.amazona...   \n",
       "237852  https://opera-pst-rs-pop1.s3.us-west-2.amazona...   \n",
       "\n",
       "                                            rtc_s1_vh_url  \\\n",
       "0       https://opera-pst-rs-pop1.s3.us-west-2.amazona...   \n",
       "1       https://opera-pst-rs-pop1.s3.us-west-2.amazona...   \n",
       "2       https://opera-pst-rs-pop1.s3.us-west-2.amazona...   \n",
       "3       https://opera-pst-rs-pop1.s3.us-west-2.amazona...   \n",
       "4       https://opera-pst-rs-pop1.s3.us-west-2.amazona...   \n",
       "...                                                   ...   \n",
       "237848  https://opera-pst-rs-pop1.s3.us-west-2.amazona...   \n",
       "237849  https://opera-pst-rs-pop1.s3.us-west-2.amazona...   \n",
       "237850  https://opera-pst-rs-pop1.s3.us-west-2.amazona...   \n",
       "237851  https://opera-pst-rs-pop1.s3.us-west-2.amazona...   \n",
       "237852  https://opera-pst-rs-pop1.s3.us-west-2.amazona...   \n",
       "\n",
       "                                            rtc_s1_h5_url         acq_datetime  \n",
       "0       https://opera-pst-rs-pop1.s3.us-west-2.amazona...  2020-10-10 00:40:01  \n",
       "1       https://opera-pst-rs-pop1.s3.us-west-2.amazona...  2020-10-22 00:40:00  \n",
       "2       https://opera-pst-rs-pop1.s3.us-west-2.amazona...  2020-11-03 00:40:00  \n",
       "3       https://opera-pst-rs-pop1.s3.us-west-2.amazona...  2020-11-15 00:40:00  \n",
       "4       https://opera-pst-rs-pop1.s3.us-west-2.amazona...  2020-11-27 00:40:00  \n",
       "...                                                   ...                  ...  \n",
       "237848  https://opera-pst-rs-pop1.s3.us-west-2.amazona...  2021-11-03 16:34:59  \n",
       "237849  https://opera-pst-rs-pop1.s3.us-west-2.amazona...  2021-11-15 16:34:59  \n",
       "237850  https://opera-pst-rs-pop1.s3.us-west-2.amazona...  2021-11-27 16:34:59  \n",
       "237851  https://opera-pst-rs-pop1.s3.us-west-2.amazona...  2021-12-09 16:34:58  \n",
       "237852  https://opera-pst-rs-pop1.s3.us-west-2.amazona...  2021-12-21 16:34:58  \n",
       "\n",
       "[237853 rows x 8 columns]"
      ]
     },
     "execution_count": 13,
     "metadata": {},
     "output_type": "execute_result"
    }
   ],
   "source": [
    "# Load the CSV file into a DataFrame using Pandas\n",
    "df_rtc = pd.read_json('/Users/cabrera/Documents/jpl_projects/opera_dist/dist-s1-research/marshak/4_rtc_organization/rtc_s1_table.json.zip')\n",
    "df_rtc\n"
   ]
  },
  {
   "cell_type": "code",
   "execution_count": 14,
   "metadata": {},
   "outputs": [],
   "source": [
    "# filtered_df = rtc_table[rtc_table['jpl_burst_id'].str.startswith('T036-076225-IW1')]\n",
    "# rtc_s1_vv_url_list = filtered_df['rtc_s1_vv_url'].tolist()\n",
    "# filtered_count = len(filtered_df)\n",
    "# print('Image count =', filtered_count)\n",
    "# print('Sample link =', rtc_s1_vv_url_list[0])\n",
    "# filtered_df"
   ]
  },
  {
   "cell_type": "code",
   "execution_count": 15,
   "metadata": {},
   "outputs": [],
   "source": [
    "## Note: this method is slow scroll down for a better way \n",
    "\n",
    "# Read a group of images and display them using leafmap\n",
    "# Create a LeafMap instance\n",
    "# m = leafmap.Map()\n",
    "\n",
    "# # Add the images to the map\n",
    "# for rtc_path in rtc_s1_vv_url_list[0:5]:\n",
    "#     # Add the image to the map\n",
    "#     m.add_raster(rtc_path, colormap='gray', vmin=0, vmax=0.5)\n",
    "\n",
    "# # Display the map\n",
    "# m\n"
   ]
  },
  {
   "cell_type": "markdown",
   "metadata": {},
   "source": [
    "#### Get a pixel TS"
   ]
  },
  {
   "cell_type": "code",
   "execution_count": 16,
   "metadata": {},
   "outputs": [],
   "source": [
    "# ## Note: this method is a bit slow\n",
    "# def load_image(image_path):\n",
    "#     with rio.open(image_path) as src:\n",
    "#         return src.read(1)\n",
    "\n",
    "# def extract_center_pixel(image):\n",
    "#     height, width = image.shape\n",
    "#     center_row = height // 2\n",
    "#     center_col = width // 2\n",
    "#     return image[center_row, center_col]\n",
    "\n",
    "# def plot_center_pixel_time_series(image_paths):\n",
    "#     time_series = []\n",
    "\n",
    "#     for image_path in image_paths:\n",
    "#         image = load_image(image_path)\n",
    "#         center_pixel_value = extract_center_pixel(image)\n",
    "#         center_pixel_value = 10 * np.log10(center_pixel_value)\n",
    "#         time_series.append(center_pixel_value)\n",
    "\n",
    "#     plt.figure(figsize=(14, 7))\n",
    "#     plt.plot(range(1, len(time_series) + 1), time_series, marker='o')\n",
    "#     plt.title('Center Pixel Time Series')\n",
    "#     plt.xlabel('Image #')\n",
    "#     plt.ylabel('Pixel Value dB')\n",
    "#     plt.grid(True)\n",
    "#     plt.show()\n",
    "\n",
    "# # List of image paths\n",
    "# image_paths = [rtc_s1_vv_url_list[1], rtc_s1_vv_url_list[2], rtc_s1_vv_url_list[3], rtc_s1_vv_url_list[4]]\n",
    "# #rtc_s1_vv_url_list\n",
    "\n",
    "# # Plot center pixel time series\n",
    "# plot_center_pixel_time_series(rtc_s1_vv_url_list)"
   ]
  },
  {
   "cell_type": "markdown",
   "metadata": {},
   "source": [
    "#### Burst query and plot TS"
   ]
  },
  {
   "cell_type": "code",
   "execution_count": 17,
   "metadata": {},
   "outputs": [
    {
     "name": "stdout",
     "output_type": "stream",
     "text": [
      "Total dates for burst T036-076225-IW1 = 100\n"
     ]
    }
   ],
   "source": [
    "BURST_ID = 'T036-076225-IW1'\n",
    "df_burst_ts = df_rtc[df_rtc.jpl_burst_id == BURST_ID].reset_index(drop=True)\n",
    "df_burst_ts.head()\n",
    "print('Total dates for burst', BURST_ID, '=', len(df_burst_ts))"
   ]
  },
  {
   "cell_type": "code",
   "execution_count": 18,
   "metadata": {},
   "outputs": [
    {
     "data": {
      "text/html": [
       "<div>\n",
       "<style scoped>\n",
       "    .dataframe tbody tr th:only-of-type {\n",
       "        vertical-align: middle;\n",
       "    }\n",
       "\n",
       "    .dataframe tbody tr th {\n",
       "        vertical-align: top;\n",
       "    }\n",
       "\n",
       "    .dataframe thead th {\n",
       "        text-align: right;\n",
       "    }\n",
       "</style>\n",
       "<table border=\"1\" class=\"dataframe\">\n",
       "  <thead>\n",
       "    <tr style=\"text-align: right;\">\n",
       "      <th></th>\n",
       "      <th>geometry</th>\n",
       "      <th>jpl_burst_id</th>\n",
       "      <th>orbit_pass</th>\n",
       "      <th>count</th>\n",
       "      <th>is_val_burst</th>\n",
       "      <th>track_number</th>\n",
       "    </tr>\n",
       "  </thead>\n",
       "  <tbody>\n",
       "    <tr>\n",
       "      <th>0</th>\n",
       "      <td>POLYGON ((21.47216 4.92982, 20.71055 5.09328, ...</td>\n",
       "      <td>T036-076225-IW1</td>\n",
       "      <td>DESCENDING</td>\n",
       "      <td>100</td>\n",
       "      <td>False</td>\n",
       "      <td>36</td>\n",
       "    </tr>\n",
       "  </tbody>\n",
       "</table>\n",
       "</div>"
      ],
      "text/plain": [
       "                                            geometry     jpl_burst_id  \\\n",
       "0  POLYGON ((21.47216 4.92982, 20.71055 5.09328, ...  T036-076225-IW1   \n",
       "\n",
       "   orbit_pass  count  is_val_burst  track_number  \n",
       "0  DESCENDING    100         False            36  "
      ]
     },
     "execution_count": 18,
     "metadata": {},
     "output_type": "execute_result"
    }
   ],
   "source": [
    "# Read burst summary table generated in dist-s1-research/marshak/4_rtc_organization/0_Organize-RTC-Data.ipynb\n",
    "df_burst_summary = read_geojson_gzip('/Users/cabrera/Documents/jpl_projects/opera_dist/dist-s1-research/marshak/4_rtc_organization/burst_extent_subset.geojson.zip')\n",
    "# from the burst summary extract the specific burst info (we will use the geometry to define center of plot)\n",
    "df_burst = df_burst_summary[df_burst_summary.jpl_burst_id == BURST_ID].reset_index(drop=True)\n",
    "df_burst"
   ]
  },
  {
   "cell_type": "code",
   "execution_count": 19,
   "metadata": {},
   "outputs": [
    {
     "name": "stderr",
     "output_type": "stream",
     "text": [
      "100%|██████████| 100/100 [00:35<00:00,  2.80it/s]\n"
     ]
    }
   ],
   "source": [
    "# Create stack\n",
    "layers = {d: leafmap.common.get_local_tile_layer(url, vmin=0, vmax=.25) for (d, url) in zip(tqdm(df_burst_ts.acq_datetime[:]), df_burst_ts.rtc_s1_vh_url)}"
   ]
  },
  {
   "cell_type": "code",
   "execution_count": 20,
   "metadata": {},
   "outputs": [
    {
     "data": {
      "application/vnd.jupyter.widget-view+json": {
       "model_id": "ebf6e8032b1e4122ba145d2a439700c3",
       "version_major": 2,
       "version_minor": 0
      },
      "text/plain": [
       "Map(center=[4.912536882828104, 21.068059136628108], controls=(AttributionControl(options=['position', 'prefix'…"
      ]
     },
     "execution_count": 20,
     "metadata": {},
     "output_type": "execute_result"
    }
   ],
   "source": [
    "centroid = df_burst.geometry[0].centroid\n",
    "m = leafmap.ts_inspector(layers, center=(centroid.y, centroid.x), zoom=11)\n",
    "# if validation sites available, includem with the line below\n",
    "# m.add_gdf(df_val_sites, \n",
    "      # layer_name=f\"Val. Sites\", info_mode='on_click')\n",
    "m"
   ]
  },
  {
   "cell_type": "markdown",
   "metadata": {},
   "source": [
    "#### Create tiles and display"
   ]
  },
  {
   "cell_type": "code",
   "execution_count": 21,
   "metadata": {},
   "outputs": [],
   "source": [
    "# Layer rasters\n",
    "J = 0 # image number to tile (first)\n",
    "src_1 = rio.open(df_burst_ts.rtc_s1_vh_url.tolist()[J])\n",
    "client_1 = TileClient(src_1)\n",
    "\n",
    "K = -1 # image number to tile (last)\n",
    "src_2 = rio.open(df_burst_ts.rtc_s1_vh_url.tolist()[K])\n",
    "client_2 = TileClient(src_2)\n"
   ]
  },
  {
   "cell_type": "code",
   "execution_count": 22,
   "metadata": {},
   "outputs": [
    {
     "data": {
      "application/vnd.jupyter.widget-view+json": {
       "model_id": "b71e2b20dfc349bfb9be9999c92a7480",
       "version_major": 2,
       "version_minor": 0
      },
      "text/plain": [
       "Map(center=[4.912536882828104, 21.068059136628108], controls=(ZoomControl(options=['position', 'zoom_in_text',…"
      ]
     },
     "execution_count": 22,
     "metadata": {},
     "output_type": "execute_result"
    }
   ],
   "source": [
    "m = leafmap.Map(center=(centroid.y, centroid.x))\n",
    "m.add_basemap(\"Esri.WorldImagery\")\n",
    "\n",
    "m.add_raster(client_1, vmin=0, vmax=.25, layer_name=df_burst_ts.acq_datetime.tolist()[J])\n",
    "K = -1\n",
    "m.add_raster(client_2, vmin=0, vmax=.25, layer_name=df_burst_ts.acq_datetime.tolist()[K])\n",
    "m"
   ]
  },
  {
   "cell_type": "markdown",
   "metadata": {},
   "source": [
    "#### Create a side by side display"
   ]
  },
  {
   "cell_type": "code",
   "execution_count": 23,
   "metadata": {},
   "outputs": [],
   "source": [
    "# Get a vh and vv to display \n",
    "N = 0\n",
    "src_vv = rio.open(df_burst_ts.rtc_s1_vv_url.tolist()[N])\n",
    "client_vv = TileClient(src_vv)\n",
    "\n",
    "src_vh = rio.open(df_burst_ts.rtc_s1_vh_url.tolist()[N])\n",
    "client_vh = TileClient(src_vh)"
   ]
  },
  {
   "cell_type": "code",
   "execution_count": 24,
   "metadata": {},
   "outputs": [
    {
     "data": {
      "application/vnd.jupyter.widget-view+json": {
       "model_id": "29cb0f2b6a8e48c9b36d7e20ceaaf252",
       "version_major": 2,
       "version_minor": 0
      },
      "text/plain": [
       "Map(center=[4.912536882828104, 21.068059136628108], controls=(ZoomControl(options=['position', 'zoom_in_text',…"
      ]
     },
     "execution_count": 24,
     "metadata": {},
     "output_type": "execute_result"
    }
   ],
   "source": [
    "# Split pane display\n",
    "\n",
    "from ipyleaflet import Map, ScaleControl, FullScreenControl, SplitMapControl\n",
    "\n",
    "m = leafmap.Map(center=(centroid.y, centroid.x), zoom=12)\n",
    "\n",
    "# Shared display parameters\n",
    "display = dict(vmin=0, vmax=.25, colormap='binary_r')\n",
    "\n",
    "# Create 2 tile layers from different raster\n",
    "l = get_leaflet_tile_layer(client_vv, **display)\n",
    "r = get_leaflet_tile_layer(client_vh, **display)\n",
    "\n",
    "\n",
    "control = SplitMapControl(left_layer=l, right_layer=r)\n",
    "m.add_control(control)\n",
    "m.add_control(ScaleControl(position='bottomleft'))\n",
    "m.add_control(FullScreenControl())\n",
    "m"
   ]
  },
  {
   "cell_type": "code",
   "execution_count": null,
   "metadata": {},
   "outputs": [],
   "source": []
  },
  {
   "cell_type": "code",
   "execution_count": 25,
   "metadata": {},
   "outputs": [],
   "source": [
    "# # Read rtc information table generated in dist-s1-research/marshak/4_rtc_organization/0_Organize-RTC-Data.ipynb\n",
    "# df_rtc = pd.read_json('/Users/cabrera/Documents/jpl_projects/opera_dist/dist-s1-research/marshak/4_rtc_organization/rtc_s1_table.json.zip')\n",
    "# df_rtc.head()"
   ]
  }
 ],
 "metadata": {
  "kernelspec": {
   "display_name": "dist-s1",
   "language": "python",
   "name": "python3"
  },
  "language_info": {
   "codemirror_mode": {
    "name": "ipython",
    "version": 3
   },
   "file_extension": ".py",
   "mimetype": "text/x-python",
   "name": "python",
   "nbconvert_exporter": "python",
   "pygments_lexer": "ipython3",
   "version": "3.12.3"
  }
 },
 "nbformat": 4,
 "nbformat_minor": 2
}
