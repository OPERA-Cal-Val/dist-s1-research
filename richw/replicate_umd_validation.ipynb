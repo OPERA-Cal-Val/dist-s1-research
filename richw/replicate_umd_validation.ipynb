{
 "cells": [
  {
   "cell_type": "markdown",
   "id": "171a8169-bd2c-4d77-a983-50aa4851000d",
   "metadata": {},
   "source": [
    "# Replicate UMD Validation"
   ]
  },
  {
   "cell_type": "code",
   "execution_count": 1,
   "id": "3fda96f8-12bf-4b68-903b-ded6ee0b1fc6",
   "metadata": {},
   "outputs": [
    {
     "name": "stdout",
     "output_type": "stream",
     "text": [
      "Nstrata = 7\n",
      "mapsource = https://raw.githubusercontent.com/OPERA-Cal-Val/DIST-Validation/main/mapLabelsv1sample\n",
      "\n",
      "v1sample_gt50_lookback30_duration15\n",
      "99.59452860117457 0.10297728007114394\n",
      "0.12484349395087783 0.17765062480342445\n",
      "Overall: 99.772179225978  +- 0.288701290006014\n",
      "Users: 63.304689846445804  +- 64.47591973920004\n",
      "Producers: 58.728621083611664  +- 15.293691721166622\n",
      "\n",
      "v1sample_gt50_lookback30_duration15_VLmin\n",
      "98.52069762465892 0.05354309568643388\n",
      "1.2642525082704432 0.16150677138418654\n",
      "Overall: 98.68220439604312  +- 0.9034156087585992\n",
      "Users: 75.1020094009866  +- 96.92455275621026\n",
      "Producers: 11.32777276563189  +- 7.939626391713577\n",
      "\n",
      "v1sample_lt50_lookback30_duration15\n",
      "97.76923717133191 1.8630803030516083\n",
      "0.029527619453270388 0.3381549061632172\n",
      "Overall: 98.10739207749512  +- 1.089044733101174\n",
      "Users: 15.362052394384335  +- 8.555414933970482\n",
      "Producers: 91.9692622313878  +- 7.0565896452584616\n",
      "\n",
      "v1sample_lt50_lookback30_duration15_VLmin\n",
      "97.15399058668919 1.1850110289411335\n",
      "0.6994057539791712 0.9615926303904885\n",
      "Overall: 98.11558321707969  +- 1.2325740776989278\n",
      "Users: 44.79600256946804  +- 23.98460209027308\n",
      "Producers: 57.89244826721537  +- 28.334520972167137\n",
      "\n",
      "v1sample_confgt50_lookback30_duration15\n",
      "99.64858304650839 0.05107183165877241\n",
      "0.12602741474463056 0.17431770708821304\n",
      "Overall: 99.8229007535966  +- 0.08268909140303678\n",
      "Users: 77.34063792725364  +- 21.31817576159853\n",
      "Producers: 58.03913378863839  +- 15.384380936448439\n",
      "\n",
      "v1sample_confgt50_lookback30_duration15_VLmin\n",
      "98.57475206999278 0.0012697977598396658\n",
      "1.2654364290641955 0.15854170318319785\n",
      "Overall: 98.73329377317597  +- 0.8604053774914608\n",
      "Users: 99.20544031415346  +- 2.552059086128912\n",
      "Producers: 11.13371754754263  +- 7.842817578741566\n",
      "\n",
      "v1sample_conflt50_lookback30_duration15\n",
      "98.80772984308668 0.8311780733188038\n",
      "0.03496015581522011 0.32613192777931155\n",
      "Overall: 99.13386177086598  +- 0.22245242316973413\n",
      "Users: 28.180170176518015  +- 8.255612091116202\n",
      "Producers: 90.318215933397  +- 7.647263956724312\n",
      "\n",
      "v1sample_conflt50_lookback30_duration15_VLmin\n",
      "98.15345485468318 0.3198913672002565\n",
      "0.744934749230651 0.7817190288859115\n",
      "Overall: 98.93517388356909  +- 0.7702447702154449\n",
      "Users: 70.96147890971477  +- 10.863449023754564\n",
      "Producers: 51.204735486936706  +- 26.21143810415613\n"
     ]
    }
   ],
   "source": [
    "import umd_accuracy"
   ]
  },
  {
   "cell_type": "code",
   "execution_count": null,
   "id": "34bae957-9f18-4cdd-aeb4-e5690bd43b84",
   "metadata": {},
   "outputs": [],
   "source": []
  }
 ],
 "metadata": {
  "kernelspec": {
   "display_name": "Python 3 (ipykernel)",
   "language": "python",
   "name": "python3"
  },
  "language_info": {
   "codemirror_mode": {
    "name": "ipython",
    "version": 3
   },
   "file_extension": ".py",
   "mimetype": "text/x-python",
   "name": "python",
   "nbconvert_exporter": "python",
   "pygments_lexer": "ipython3",
   "version": "3.12.4"
  }
 },
 "nbformat": 4,
 "nbformat_minor": 5
}
